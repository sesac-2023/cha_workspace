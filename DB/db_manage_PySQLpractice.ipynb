{
 "cells": [
  {
   "cell_type": "markdown",
   "metadata": {},
   "source": [
    "## PyMySQL\n",
    "- MySQL을 Python에서 사용할 수 있게 하는 라이브러리"
   ]
  },
  {
   "cell_type": "markdown",
   "metadata": {},
   "source": [
    "pymysql 설치"
   ]
  },
  {
   "cell_type": "code",
   "execution_count": 1,
   "metadata": {},
   "outputs": [
    {
     "name": "stdout",
     "output_type": "stream",
     "text": [
      "Requirement already satisfied: pymysql in c:\\users\\user\\anaconda3\\lib\\site-packages (1.1.0)\n",
      "Note: you may need to restart the kernel to use updated packages.\n"
     ]
    }
   ],
   "source": [
    "# ! 대신 % 사용하기 - 더 원활하게 가상환경에 인스톨됨\n",
    "%pip install pymysql"
   ]
  },
  {
   "cell_type": "code",
   "execution_count": 2,
   "metadata": {},
   "outputs": [],
   "source": [
    "import pymysql"
   ]
  },
  {
   "cell_type": "markdown",
   "metadata": {},
   "source": [
    "유저 정보가 담긴 config파일을 호출해서 dictionary 자료형에 넣는 함수 생성"
   ]
  },
  {
   "cell_type": "code",
   "execution_count": 3,
   "metadata": {},
   "outputs": [],
   "source": [
    "def read_config(p:str) -> dict:\n",
    "    \"\"\"\n",
    "    p: config file 경로\n",
    "    \"\"\"\n",
    "    with open('./test.config', 'r') as f:\n",
    "        lines = f.readlines()\n",
    "\n",
    "    config_dict={}\n",
    "\n",
    "    for l in lines:\n",
    "        # k, v = l.split('=') # 일반적인 경우 다른 '='값이 없을 경우\n",
    "        idx = l.index('=') # config파일에 다른 '=' 값이 존재할 경우 대비\n",
    "        k = l[:idx]\n",
    "        v = l[idx+1:]\n",
    "        config_dict[k] = v.strip()\n",
    "\n",
    "    return config_dict   "
   ]
  },
  {
   "cell_type": "code",
   "execution_count": 196,
   "metadata": {},
   "outputs": [],
   "source": [
    "db_config = read_config('./test.config')"
   ]
  },
  {
   "cell_type": "code",
   "execution_count": 197,
   "metadata": {},
   "outputs": [
    {
     "data": {
      "text/plain": [
       "{'host': 'Localhost',\n",
       " 'user': 'user',\n",
       " 'password': 'user',\n",
       " 'database': 'study',\n",
       " 'charset': 'utf8mb4'}"
      ]
     },
     "execution_count": 197,
     "metadata": {},
     "output_type": "execute_result"
    }
   ],
   "source": [
    "db_config"
   ]
  },
  {
   "cell_type": "markdown",
   "metadata": {},
   "source": [
    "---"
   ]
  },
  {
   "cell_type": "markdown",
   "metadata": {},
   "source": [
    "### 데이터베이스 연결\n",
    "- pymysql.connect() 메서드를 통해 DB에 접속가능\n",
    "- host : 연결할 데이터베이스 주소\n",
    "- user : 접속할 유저이름\n",
    "- password : 비밀번호\n",
    "- database : 접속할 DB 이름\n",
    "- charset : DB 문자열 (한글- utf8, 한글 + 이모티콘- utf8mb4)\n",
    "- DB 연결 해제 시, connection.close()\n"
   ]
  },
  {
   "cell_type": "code",
   "execution_count": 9,
   "metadata": {},
   "outputs": [
    {
     "name": "stdout",
     "output_type": "stream",
     "text": [
      "연결 성공\n"
     ]
    }
   ],
   "source": [
    "# 데이터베이스 연결\n",
    "try:\n",
    "    # conn = pymysql.connect(\n",
    "    #     host= 'localhost',\n",
    "    #     port= 3306, # default값이라 생략 가능\n",
    "    #     user= 'username, # MYSQL에서 생성한 username\n",
    "    #     password= 'password', # 기존에 등록한 password\n",
    "    #     database= 'study',\n",
    "    #     charset= 'utf8mb4'\n",
    "    # )\n",
    "    conn = pymysql.connect(**config_dict) # 유저 정보가 담긴 dictionary unpacking\n",
    "    print('연결 성공')\n",
    "except:\n",
    "    print('연결 실패')"
   ]
  },
  {
   "cell_type": "code",
   "execution_count": 10,
   "metadata": {},
   "outputs": [
    {
     "data": {
      "text/plain": [
       "<pymysql.connections.Connection at 0x233f8d8f250>"
      ]
     },
     "execution_count": 10,
     "metadata": {},
     "output_type": "execute_result"
    }
   ],
   "source": [
    "conn"
   ]
  },
  {
   "cell_type": "markdown",
   "metadata": {},
   "source": [
    "---"
   ]
  },
  {
   "cell_type": "markdown",
   "metadata": {},
   "source": [
    "## INSERT"
   ]
  },
  {
   "cell_type": "code",
   "execution_count": 11,
   "metadata": {},
   "outputs": [],
   "source": [
    "with conn.cursor() as cursor:\n",
    "    sql = 'INSERT INTO `students`(`Name`, `Age`, `Address`)\\\n",
    "            VALUES (\"SON\", \"29\", \"서울\")'\n",
    "    cursor.execute(sql)\n",
    "\n",
    "conn.commit()"
   ]
  },
  {
   "cell_type": "code",
   "execution_count": 12,
   "metadata": {},
   "outputs": [],
   "source": [
    "with conn.cursor() as cursor:\n",
    "    sql = 'INSERT INTO `students`(`Name`, `Age`, `Address`)\\\n",
    "            VALUES (%s, %s, %s)'\n",
    "    cursor.execute(sql, (\"LEE\",\"30\",\"전주\"))\n",
    "\n",
    "conn.commit()"
   ]
  },
  {
   "cell_type": "code",
   "execution_count": 13,
   "metadata": {},
   "outputs": [],
   "source": [
    "with conn.cursor() as cursor:\n",
    "    sql = 'INSERT INTO `students`(`Name`)\\\n",
    "            VALUES (%s)'\n",
    "    cursor.execute(sql, (\"KIM\",))  #type(\"KIM\") -> str / type(\"KIM\", ) -> tuple\n",
    "\n",
    "conn.commit()"
   ]
  },
  {
   "cell_type": "markdown",
   "metadata": {},
   "source": [
    "## INSERT MANY"
   ]
  },
  {
   "cell_type": "code",
   "execution_count": 14,
   "metadata": {},
   "outputs": [],
   "source": [
    "with conn.cursor() as cursor:\n",
    "    sql = 'INSERT INTO `students`(`Name`)\\\n",
    "            VALUES (%s)'\n",
    "    cursor.executemany(sql, [\n",
    "        (\"SEO\"),\n",
    "        (\"PARK\"),\n",
    "    ])\n",
    "\n",
    "conn.commit()"
   ]
  },
  {
   "cell_type": "markdown",
   "metadata": {},
   "source": [
    "## SELECT"
   ]
  },
  {
   "cell_type": "code",
   "execution_count": 15,
   "metadata": {},
   "outputs": [
    {
     "data": {
      "text/plain": [
       "((1, '홍길동', 24, '인천'),\n",
       " (2, '이연걸', 60, '서울'),\n",
       " (3, '이몽룡', 42, '대전'),\n",
       " (4, '성춘향', 30, '경기'),\n",
       " (9, 'PARK', 26, None),\n",
       " (10, 'SON', 29, '서울'),\n",
       " (11, 'LEE', 30, '전주'),\n",
       " (12, 'KIM', None, None),\n",
       " (13, 'SEO', None, None),\n",
       " (14, 'PARK', None, None),\n",
       " (15, 'SON', 29, '서울'),\n",
       " (16, 'LEE', 30, '전주'),\n",
       " (17, 'KIM', None, None),\n",
       " (18, 'SEO', None, None),\n",
       " (19, 'PARK', None, None))"
      ]
     },
     "execution_count": 15,
     "metadata": {},
     "output_type": "execute_result"
    }
   ],
   "source": [
    "with conn.cursor() as cur:\n",
    "    sql = 'SELECT * FROM Students'\n",
    "    cur.execute(sql)\n",
    "    data = cur.fetchall() # db에 commit 하지 않고 cursor에서 fetch한다\n",
    "\n",
    "data"
   ]
  },
  {
   "cell_type": "code",
   "execution_count": 16,
   "metadata": {},
   "outputs": [
    {
     "data": {
      "text/plain": [
       "((1, '홍길동', 24, '인천'), (2, '이연걸', 60, '서울'), (3, '이몽룡', 42, '대전'))"
      ]
     },
     "execution_count": 16,
     "metadata": {},
     "output_type": "execute_result"
    }
   ],
   "source": [
    "with conn.cursor() as cur:\n",
    "    sql = 'SELECT * FROM Students'\n",
    "    cur.execute(sql)\n",
    "    data = cur.fetchmany(3) # 첫 3개 정보만 불러오기_1\n",
    "\n",
    "data"
   ]
  },
  {
   "cell_type": "code",
   "execution_count": 17,
   "metadata": {},
   "outputs": [
    {
     "data": {
      "text/plain": [
       "((1, '홍길동', 24, '인천'), (2, '이연걸', 60, '서울'), (3, '이몽룡', 42, '대전'))"
      ]
     },
     "execution_count": 17,
     "metadata": {},
     "output_type": "execute_result"
    }
   ],
   "source": [
    "with conn.cursor() as cur:\n",
    "    sql = 'SELECT * FROM Students LIMIT 3 OFFSET 0' # 첫 3개 정보만 불러오기_2\n",
    "    cur.execute(sql)\n",
    "    data = cur.fetchall() \n",
    "\n",
    "data"
   ]
  },
  {
   "cell_type": "code",
   "execution_count": 18,
   "metadata": {},
   "outputs": [
    {
     "data": {
      "text/plain": [
       "((1, '홍길동', 24, '인천'), (2, '이연걸', 60, '서울'), (3, '이몽룡', 42, '대전'))"
      ]
     },
     "execution_count": 18,
     "metadata": {},
     "output_type": "execute_result"
    }
   ],
   "source": [
    "with conn.cursor() as cur:\n",
    "    sql = 'SELECT * FROM Students LIMIT %s OFFSET %s' # 첫 3개 정보만 불러오기_3\n",
    "    cur.execute(sql, (3, 0))\n",
    "    data = cur.fetchall() \n",
    "\n",
    "data"
   ]
  },
  {
   "cell_type": "code",
   "execution_count": 19,
   "metadata": {},
   "outputs": [
    {
     "data": {
      "text/plain": [
       "((4, '성춘향', 30, '경기'), (9, 'PARK', 26, None), (10, 'SON', 29, '서울'))"
      ]
     },
     "execution_count": 19,
     "metadata": {},
     "output_type": "execute_result"
    }
   ],
   "source": [
    "page_size = 3\n",
    "page = 2\n",
    "\n",
    "limit = page_size\n",
    "offset = page_size * (page-1)\n",
    "\n",
    "\n",
    "with conn.cursor() as cur:\n",
    "    sql = 'SELECT * FROM Students LIMIT %s OFFSET %s' # 첫 3개 정보만 불러오기_4\n",
    "    cur.execute(sql, (limit, offset))\n",
    "    data = cur.fetchall() \n",
    "\n",
    "data"
   ]
  },
  {
   "cell_type": "markdown",
   "metadata": {},
   "source": [
    "SELECT - 페이지네이션 함수 생성"
   ]
  },
  {
   "cell_type": "code",
   "execution_count": 20,
   "metadata": {},
   "outputs": [
    {
     "data": {
      "text/plain": [
       "((1, '홍길동', 24, '인천'),\n",
       " (2, '이연걸', 60, '서울'),\n",
       " (3, '이몽룡', 42, '대전'),\n",
       " (4, '성춘향', 30, '경기'),\n",
       " (9, 'PARK', 26, None))"
      ]
     },
     "execution_count": 20,
     "metadata": {},
     "output_type": "execute_result"
    }
   ],
   "source": [
    "def pagination(page, page_size=5):\n",
    "    limit = page_size\n",
    "    offset = page_size * (page-1)\n",
    "\n",
    "\n",
    "    with conn.cursor() as cur:\n",
    "        sql = 'SELECT * FROM Students LIMIT %s OFFSET %s' # 첫 3개 정보만 불러오기_4\n",
    "        cur.execute(sql, (limit, offset))\n",
    "        data = cur.fetchall() \n",
    "    \n",
    "    return data\n",
    "\n",
    "page_one = pagination(1)\n",
    "page_one\n"
   ]
  },
  {
   "cell_type": "markdown",
   "metadata": {},
   "source": [
    "## UPDATE"
   ]
  },
  {
   "cell_type": "code",
   "execution_count": 21,
   "metadata": {},
   "outputs": [],
   "source": [
    "with conn.cursor() as cur:\n",
    "    sql = 'UPDATE `Students` SET Age=%s WHERE StudentID=%s'\n",
    "    cur.execute(sql, (26, 9)) #(Age, studentID)\n",
    "\n",
    "conn.commit()"
   ]
  },
  {
   "cell_type": "code",
   "execution_count": 22,
   "metadata": {},
   "outputs": [
    {
     "data": {
      "text/plain": [
       "((1, '홍길동', 24, '인천'),\n",
       " (2, '이연걸', 60, '서울'),\n",
       " (3, '이몽룡', 42, '대전'),\n",
       " (4, '성춘향', 30, '경기'),\n",
       " (9, 'PARK', 26, None))"
      ]
     },
     "execution_count": 22,
     "metadata": {},
     "output_type": "execute_result"
    }
   ],
   "source": [
    "pagination(1)"
   ]
  },
  {
   "cell_type": "code",
   "execution_count": 23,
   "metadata": {},
   "outputs": [
    {
     "data": {
      "text/plain": [
       "((10, 'SON', 29, '서울'),\n",
       " (11, 'LEE', 30, '전주'),\n",
       " (12, 'KIM', None, None),\n",
       " (13, 'SEO', None, None),\n",
       " (14, 'PARK', None, None))"
      ]
     },
     "execution_count": 23,
     "metadata": {},
     "output_type": "execute_result"
    }
   ],
   "source": [
    "pagination(2)"
   ]
  },
  {
   "cell_type": "markdown",
   "metadata": {},
   "source": [
    "## UPDATE MANY"
   ]
  },
  {
   "cell_type": "code",
   "execution_count": 24,
   "metadata": {},
   "outputs": [],
   "source": [
    "with conn.cursor() as cur:\n",
    "    sql = 'UPDATE `Students` SET Age=%s WHERE StudentID=%s'\n",
    "    cur.executemany(sql, [\n",
    "        (24, 1),\n",
    "        (30, 4)\n",
    "    ])\n",
    "\n",
    "conn.commit()"
   ]
  },
  {
   "cell_type": "code",
   "execution_count": 25,
   "metadata": {},
   "outputs": [
    {
     "data": {
      "text/plain": [
       "((1, '홍길동', 24, '인천'),\n",
       " (2, '이연걸', 60, '서울'),\n",
       " (3, '이몽룡', 42, '대전'),\n",
       " (4, '성춘향', 30, '경기'),\n",
       " (9, 'PARK', 26, None),\n",
       " (10, 'SON', 29, '서울'),\n",
       " (11, 'LEE', 30, '전주'),\n",
       " (12, 'KIM', None, None),\n",
       " (13, 'SEO', None, None),\n",
       " (14, 'PARK', None, None))"
      ]
     },
     "execution_count": 25,
     "metadata": {},
     "output_type": "execute_result"
    }
   ],
   "source": [
    "pagination(1,10)"
   ]
  },
  {
   "cell_type": "markdown",
   "metadata": {},
   "source": [
    "## DELETE"
   ]
  },
  {
   "cell_type": "code",
   "execution_count": 26,
   "metadata": {},
   "outputs": [],
   "source": [
    "with conn.cursor() as cur:\n",
    "    sql = 'DELETE FROM `Students` WHERE StudentID=%s' # 예약어와 중첩 사용 방지 - 테이블명, 칼럼명에 backtick 사용\n",
    "    cur.execute(sql, (6,)) # 인자가 하나이면 콤마 사용해서 튜플로 처리하기\n",
    "\n",
    "conn.commit()"
   ]
  },
  {
   "cell_type": "code",
   "execution_count": 27,
   "metadata": {},
   "outputs": [
    {
     "data": {
      "text/plain": [
       "((1, '홍길동', 24, '인천'),\n",
       " (2, '이연걸', 60, '서울'),\n",
       " (3, '이몽룡', 42, '대전'),\n",
       " (4, '성춘향', 30, '경기'),\n",
       " (9, 'PARK', 26, None),\n",
       " (10, 'SON', 29, '서울'),\n",
       " (11, 'LEE', 30, '전주'),\n",
       " (12, 'KIM', None, None),\n",
       " (13, 'SEO', None, None),\n",
       " (14, 'PARK', None, None),\n",
       " (15, 'SON', 29, '서울'),\n",
       " (16, 'LEE', 30, '전주'))"
      ]
     },
     "execution_count": 27,
     "metadata": {},
     "output_type": "execute_result"
    }
   ],
   "source": [
    "pagination(1,12)"
   ]
  },
  {
   "cell_type": "code",
   "execution_count": 28,
   "metadata": {},
   "outputs": [],
   "source": [
    "# 외래키 제약 조건 해제\n",
    "# SET_FOREIGN_KEY_CHECKS = 0;\n",
    "# with conn.cursor() as cur:\n",
    "#     sql = 'SET FOREIGN_KEY_CHECKS = 0'\n",
    "#     cur.execute(sql)\n",
    "\n",
    "# conn.commit()"
   ]
  },
  {
   "cell_type": "code",
   "execution_count": 29,
   "metadata": {},
   "outputs": [],
   "source": [
    "with conn.cursor() as cur:\n",
    "    sql = 'DELETE FROM `Students` WHERE StudentID IN(%s, %s, %s)' # in 사용해서 복수의 row 삭제\n",
    "    cur.execute(sql, (5, 7, 8)) # 인자가 하나이면 콤마 사용해서 튜플로 처리하기\n",
    "\n",
    "conn.commit()"
   ]
  },
  {
   "cell_type": "code",
   "execution_count": 30,
   "metadata": {},
   "outputs": [
    {
     "data": {
      "text/plain": [
       "((1, '홍길동', 24, '인천'),\n",
       " (2, '이연걸', 60, '서울'),\n",
       " (3, '이몽룡', 42, '대전'),\n",
       " (4, '성춘향', 30, '경기'),\n",
       " (9, 'PARK', 26, None),\n",
       " (10, 'SON', 29, '서울'),\n",
       " (11, 'LEE', 30, '전주'),\n",
       " (12, 'KIM', None, None),\n",
       " (13, 'SEO', None, None),\n",
       " (14, 'PARK', None, None),\n",
       " (15, 'SON', 29, '서울'),\n",
       " (16, 'LEE', 30, '전주'))"
      ]
     },
     "execution_count": 30,
     "metadata": {},
     "output_type": "execute_result"
    }
   ],
   "source": [
    "pagination(1,12)"
   ]
  },
  {
   "cell_type": "markdown",
   "metadata": {},
   "source": [
    "DELETE - 함수 생성"
   ]
  },
  {
   "cell_type": "code",
   "execution_count": 32,
   "metadata": {},
   "outputs": [],
   "source": [
    "def delete(target_ids):\n",
    "    with conn.cursor() as cur:\n",
    "        sql = 'DELETE FROM `Students` WHERE StudentID IN (' +\\\n",
    "            ','.join(['%s'] * len(target_ids)) + ')'\n",
    "        cur.execute(sql, target_ids)\n",
    "\n",
    "    conn.commit()\n",
    "    return\n",
    "\n",
    "delete((10,11,))"
   ]
  },
  {
   "cell_type": "code",
   "execution_count": 34,
   "metadata": {},
   "outputs": [],
   "source": [
    "delete((12,)) # 인자 하나만 삭제할 때도 콤마 사용해서 튜플로 처리"
   ]
  },
  {
   "cell_type": "code",
   "execution_count": 35,
   "metadata": {},
   "outputs": [
    {
     "data": {
      "text/plain": [
       "((1, '홍길동', 24, '인천'),\n",
       " (2, '이연걸', 60, '서울'),\n",
       " (3, '이몽룡', 42, '대전'),\n",
       " (4, '성춘향', 30, '경기'),\n",
       " (9, 'PARK', 26, None),\n",
       " (13, 'SEO', None, None),\n",
       " (14, 'PARK', None, None),\n",
       " (15, 'SON', 29, '서울'),\n",
       " (16, 'LEE', 30, '전주'),\n",
       " (17, 'KIM', None, None),\n",
       " (18, 'SEO', None, None),\n",
       " (19, 'PARK', None, None))"
      ]
     },
     "execution_count": 35,
     "metadata": {},
     "output_type": "execute_result"
    }
   ],
   "source": [
    "pagination(1,20)"
   ]
  },
  {
   "cell_type": "markdown",
   "metadata": {},
   "source": [
    "---"
   ]
  },
  {
   "cell_type": "markdown",
   "metadata": {},
   "source": [
    "## 실습 (PyMySQL)\n",
    "- db에 student 테이블을 생성\n",
    "- id (빈 값 허용 안함, 자동 증가)\n",
    "- name (최대 16글자)\n",
    "- email (최대 32글자)\n",
    "- phone (최대 16글자)\n",
    "- major (최대 16글자)\n",
    "- 수강생 중 한 분의 데이터를 DB에 입력\n",
    "- 수강생 중 네 분의 데이터를 DB에 동시에 추가\n",
    "- 입력한 전체 데이터를 확인\n",
    "- 한 수강생분의 이메일이 잘못 입력되었다고 가정하고, 이메일을 수정해서 DB에 반영\n",
    "- 수강생 한 분이 취업하셨습니다. DB에서 삭제"
   ]
  },
  {
   "cell_type": "markdown",
   "metadata": {},
   "source": [
    "테이블 생성"
   ]
  },
  {
   "cell_type": "code",
   "execution_count": 75,
   "metadata": {},
   "outputs": [],
   "source": [
    "with conn.cursor() as cur:\n",
    "    sql = \"\"\"CREATE TABLE Student(\n",
    "        id INT NOT NULL AUTO_INCREMENT,\n",
    "        name VARCHAR(16),\n",
    "        email VARCHAR(32),\n",
    "        phone VARCHAR(16),\n",
    "        major VARCHAR(16),\n",
    "        PRIMARY KEY(id)\n",
    "    )\"\"\"\n",
    "    cur.execute(sql,)\n",
    "\n",
    "conn.commit()\n"
   ]
  },
  {
   "cell_type": "markdown",
   "metadata": {},
   "source": [
    "테이블에 데이터 추가 - INSERT "
   ]
  },
  {
   "cell_type": "code",
   "execution_count": 76,
   "metadata": {},
   "outputs": [],
   "source": [
    "with conn.cursor() as cur:\n",
    "    sql = 'INSERT INTO `student`(`name`, `major`)\\\n",
    "        VALUES(\"CHOI\", \"Design\")'\n",
    "    cur.execute(sql)\n",
    "\n",
    "conn.commit()\n"
   ]
  },
  {
   "cell_type": "markdown",
   "metadata": {},
   "source": [
    "테이블에 복수의 데이터 추가 - INSERT MANY"
   ]
  },
  {
   "cell_type": "code",
   "execution_count": 77,
   "metadata": {},
   "outputs": [],
   "source": [
    "with conn.cursor() as cur:\n",
    "    sql = 'INSERT INTO `student`(`name`, `major`)\\\n",
    "        VALUES(%s, %s)'\n",
    "    cur.executemany(sql, [      # 복수의 데이터는 리스트에 묶어서 추가하기\n",
    "        ('LEE', 'English'),\n",
    "        ('SEO', 'Math'),\n",
    "        ('KO', 'Education'),\n",
    "        ('SON', 'Sport')\n",
    "    ])\n",
    "\n",
    "conn.commit()"
   ]
  },
  {
   "cell_type": "markdown",
   "metadata": {},
   "source": [
    "> 강사님 풀이 - INSERT"
   ]
  },
  {
   "cell_type": "code",
   "execution_count": 85,
   "metadata": {},
   "outputs": [],
   "source": [
    "table_name = \"Student\"\n",
    "columns = ['name', 'email', 'phone', 'major']\n",
    "','.join(columns)\n",
    "\n",
    "values = (\"JOO\", \"j@j.com\", \"0101111\", \"Korean\")\n",
    "\n",
    "with conn.cursor() as cur:\n",
    "    ['%s'] * len(values[0])\n",
    "    sql = 'INSERT INTO `{}`({}) VALUES ({})'.format(table_name,\n",
    "                                                    ','.join(columns),\n",
    "                                                    ','.join(['%s'] * len(values)))\n",
    "    cur.execute(sql, values)\n",
    "\n",
    "conn.commit()"
   ]
  },
  {
   "cell_type": "markdown",
   "metadata": {},
   "source": [
    "> 강사님 풀이 - insert 함수 생성"
   ]
  },
  {
   "cell_type": "code",
   "execution_count": 92,
   "metadata": {},
   "outputs": [],
   "source": [
    "def insert(table_name:str, columns:list, values:tuple):\n",
    "    \"\"\"\n",
    "    table_name의 columns 항목들에 values를 입력해준다.\n",
    "    \"\"\"\n",
    "    try:\n",
    "        with conn.cursor() as cur:\n",
    "            ','.join(['%s'] * len(values))\n",
    "            sql = 'INSERT INTO `{}`({}) VALUES ({})'.format(table_name,\n",
    "                                                            ','.join(columns),\n",
    "                                                            ','.join(['%s'] * len(values)))\n",
    "            cur.execute(sql, values)\n",
    "\n",
    "        conn.commit()\n",
    "        return True\n",
    "    except Exception as e:\n",
    "        print(e)\n",
    "        return False\n"
   ]
  },
  {
   "cell_type": "code",
   "execution_count": 93,
   "metadata": {},
   "outputs": [
    {
     "data": {
      "text/plain": [
       "True"
      ]
     },
     "execution_count": 93,
     "metadata": {},
     "output_type": "execute_result"
    }
   ],
   "source": [
    "table_name = 'Student'\n",
    "columns = ['name', 'email', 'phone', 'major']\n",
    "values = (\"PARKJISUNG\", \"p@p.com\", \"0104554\", \"CS\") # 튜플\n",
    "\n",
    "insert(table_name, columns, values)"
   ]
  },
  {
   "cell_type": "markdown",
   "metadata": {},
   "source": [
    "> 강사님 풀이 - INSERT MANY"
   ]
  },
  {
   "cell_type": "code",
   "execution_count": 100,
   "metadata": {},
   "outputs": [],
   "source": [
    "table_name = \"Student\"\n",
    "columns = ['name', 'email', 'phone', 'major']\n",
    "values = [\n",
    "    (\"AHN\", \"\", \"\", \"\"),\n",
    "    (\"CHAE\", \"\", \"\", \"\"),\n",
    "    (\"BOO\", \"\", \"\", \"\"),\n",
    "    (\"JIN\", \"\", \"\", \"\")\n",
    "]\n",
    "\n",
    "table_name, '.'.join(columns), ','.join(['%s'] * len(values[0]))\n",
    "\n",
    "with conn.cursor() as cur:\n",
    "    sql = 'INSERT INTO `{}`({}) VALUES ({})'.format(table_name,\n",
    "                                                    ','.join(columns),\n",
    "                                                    ','.join(['%s'] * len(values[0])))\n",
    "    cur.executemany(sql, values)\n",
    "\n",
    "conn.commit()"
   ]
  },
  {
   "cell_type": "markdown",
   "metadata": {},
   "source": [
    "> 강사님 풀이 - insertmany 함수 생성"
   ]
  },
  {
   "cell_type": "code",
   "execution_count": 191,
   "metadata": {},
   "outputs": [],
   "source": [
    "def insertmany(table_name:str, columns:list, values:list):\n",
    "    \"\"\"\n",
    "    table_name의 columns 항목들에 values를 입력해준다.\n",
    "    \"\"\"\n",
    "    try:\n",
    "        with conn.cursor() as cur:\n",
    "            sql = 'INSERT INTO `{}`({}) VALUES ({})'.format(table_name,\n",
    "                                                            ','.join(columns),\n",
    "                                                            ','.join(['%s'] * len(values[0])))\n",
    "            cur.executemany(sql, values)\n",
    "\n",
    "        conn.commit()\n",
    "        return True\n",
    "    except Exception as e:\n",
    "        print(e)\n",
    "        return False"
   ]
  },
  {
   "cell_type": "markdown",
   "metadata": {},
   "source": [
    "---"
   ]
  },
  {
   "cell_type": "markdown",
   "metadata": {},
   "source": [
    "테이블의 데이터 확인 - SELECT\n",
    "- commit 활용 x \n",
    "- cursor.fetch 사용"
   ]
  },
  {
   "cell_type": "code",
   "execution_count": 60,
   "metadata": {},
   "outputs": [
    {
     "data": {
      "text/plain": [
       "((1, 'CHOI', None, None, 'Design'),\n",
       " (2, 'LEE', None, None, 'English'),\n",
       " (3, 'SEO', None, None, 'Math'),\n",
       " (4, 'KO', None, None, 'Education'),\n",
       " (5, 'SON', None, None, 'Sport'))"
      ]
     },
     "execution_count": 60,
     "metadata": {},
     "output_type": "execute_result"
    }
   ],
   "source": [
    "with conn.cursor() as cur:\n",
    "    sql = 'SELECT * FROM `student`'\n",
    "    cur.execute(sql)\n",
    "    result = cur.fetchall()\n",
    "\n",
    "result"
   ]
  },
  {
   "cell_type": "markdown",
   "metadata": {},
   "source": [
    " > 강사님 풀이 - SELECT"
   ]
  },
  {
   "cell_type": "code",
   "execution_count": 106,
   "metadata": {},
   "outputs": [],
   "source": [
    "# columns = ['id', 'name']   # 특정 컬럼의 값만 가져올 때\n",
    "columns = ['*']              # 컬럼 모두 가져올 때\n",
    "table_name = 'Student'\n",
    "\n",
    "with conn.cursor() as cur:\n",
    "    sql = 'SELECT {} FROM {}'.format(','.join(columns), table_name)\n",
    "    cur.execute(sql)\n",
    "    data = cur.fetchall()"
   ]
  },
  {
   "cell_type": "code",
   "execution_count": 105,
   "metadata": {},
   "outputs": [
    {
     "data": {
      "text/plain": [
       "((1, 'CHOI', None, None, 'Design'),\n",
       " (2, 'LEE', None, None, 'English'),\n",
       " (3, 'SEO', None, None, 'Math'),\n",
       " (4, 'KO', None, None, 'Education'),\n",
       " (5, 'SON', None, None, 'Sport'),\n",
       " (6, 'JOO', 'j@j.com', '0101111', 'Korean'),\n",
       " (7, 'PARKJISUNG', 'p@p.com', '0104554', 'CS'),\n",
       " (8, 'AHN', '', '', ''),\n",
       " (9, 'CHAE', '', '', ''),\n",
       " (10, 'BOO', '', '', ''),\n",
       " (11, 'JIN', '', '', ''))"
      ]
     },
     "execution_count": 105,
     "metadata": {},
     "output_type": "execute_result"
    }
   ],
   "source": [
    "data"
   ]
  },
  {
   "cell_type": "markdown",
   "metadata": {},
   "source": [
    "---"
   ]
  },
  {
   "cell_type": "markdown",
   "metadata": {},
   "source": [
    "테이블에 데이터 추가 - UPDATE"
   ]
  },
  {
   "cell_type": "code",
   "execution_count": 61,
   "metadata": {},
   "outputs": [],
   "source": [
    "with conn.cursor() as cur:\n",
    "    sql = 'UPDATE `student` SET `email`=%s WHERE `id`=%s'\n",
    "    cur.execute(sql, ('sesac@python.org', 5))\n",
    "\n",
    "conn.commit()"
   ]
  },
  {
   "cell_type": "markdown",
   "metadata": {},
   "source": [
    "> 강사님 풀이 - UPDATE"
   ]
  },
  {
   "cell_type": "code",
   "execution_count": 118,
   "metadata": {},
   "outputs": [],
   "source": [
    "tabale_name = 'Student'\n",
    "set_value = 'ko@py.org'\n",
    "target_id = 4\n",
    "\n",
    "with conn.cursor() as cur:\n",
    "    sql = 'UPDATE `{}` SET `email`=\"{}\" WHERE `id`={}'.format(\n",
    "        table_name, set_value, target_id\n",
    "    )\n",
    "    cur.execute(sql)\n",
    "conn.commit()"
   ]
  },
  {
   "cell_type": "markdown",
   "metadata": {},
   "source": [
    "테이블에 저장된 데이터 삭제 - DELETE FROM"
   ]
  },
  {
   "cell_type": "code",
   "execution_count": 63,
   "metadata": {},
   "outputs": [],
   "source": [
    "with conn.cursor() as cur:\n",
    "    sql = 'DELETE FROM `student` WHERE `id`=%s'\n",
    "    cur.execute(sql, (4,))\n",
    "\n",
    "conn.commit()"
   ]
  },
  {
   "cell_type": "code",
   "execution_count": 64,
   "metadata": {},
   "outputs": [
    {
     "data": {
      "text/plain": [
       "((1, 'CHOI', None, None, 'Design'),\n",
       " (2, 'LEE', None, None, 'English'),\n",
       " (3, 'SEO', None, None, 'Math'),\n",
       " (5, 'SON', 'sesac@python.org', None, 'Sport'))"
      ]
     },
     "execution_count": 64,
     "metadata": {},
     "output_type": "execute_result"
    }
   ],
   "source": [
    "pagination1(1)"
   ]
  },
  {
   "cell_type": "markdown",
   "metadata": {},
   "source": [
    "---"
   ]
  },
  {
   "cell_type": "markdown",
   "metadata": {},
   "source": [
    "## CLASS"
   ]
  },
  {
   "cell_type": "code",
   "execution_count": 239,
   "metadata": {},
   "outputs": [],
   "source": [
    "class MariaDB:\n",
    "    \"\"\"\n",
    "    MariaDB를 관리하는 클래스\n",
    "    \"\"\"\n",
    "\n",
    "    def __init__(self, host, user, password, database, charset, port=3306):\n",
    "        self.host = host\n",
    "        self.port = int(port) # 포트명은 int\n",
    "        \"다른 함수에서 사용하기 위해서 self에 담아준다\"\n",
    "        self.conn = pymysql.connect(\n",
    "                                host=host,\n",
    "                                user=user,\n",
    "                                password=password,\n",
    "                                database=database,\n",
    "                                charset=charset,\n",
    "                                port=port)  # 포트명은 int\n",
    "        return\n",
    "    \n",
    "    \n",
    "    def insert(self, table_name:str, columns:list, values:tuple):\n",
    "        try:    \n",
    "            with self.conn.cursor() as cur:\n",
    "                ','.join(['%s'] * len(values))\n",
    "                sql = 'INSERT INTO {} ({}) VALUES ({})'.format(table_name,\n",
    "                                                                ','.join(columns),\n",
    "                                                                ','.join(['%s'] * len(values)))\n",
    "                cur.execute(sql, values) \n",
    "\n",
    "            self.conn.commit()\n",
    "            return True\n",
    "        except Exception as e:\n",
    "            print(e)\n",
    "            return False\n",
    "\n",
    "\n",
    "    def insertmany(self, table_name:str, columns:list, values:list):\n",
    "        try:\n",
    "            with self.conn.cursor() as cur:\n",
    "                sql = 'INSERT INTO {} ({}) VALUES ({})'.format(table_name,\n",
    "                                                                ','.join(columns),\n",
    "                                                                ','.join(['%s'] * len(values[0])))\n",
    "                cur.executemany(sql, values)\n",
    "\n",
    "            self.conn.commit()\n",
    "            return True\n",
    "        except Exception as e:\n",
    "            print(e)\n",
    "            return False\n",
    "\n",
    "\n",
    "\n",
    "    def select(self, table_name, columns, page=None, page_size=10): # pagination 기능 추가\n",
    "        if page:\n",
    "            limit = page_size\n",
    "            offset = page_size * (page-1)\n",
    "            with self.conn.cursor() as cur:\n",
    "                sql = 'SELECT {} FROM {} LIMIT %s OFFSET %s'.format(','.join(columns), table_name) \n",
    "                cur.execute(sql, (limit, offset))\n",
    "                data = cur.fetchall() \n",
    "\n",
    "        else: # page가 None일 경우 False로 인식\n",
    "            with self.conn.cursor() as cur:\n",
    "                sql = 'SELECT {} FROM {}'.format(','.join(columns), table_name)\n",
    "                cur.execute(sql)\n",
    "                data = cur.fetchall()\n",
    "\n",
    "        return data\n",
    "\n",
    "\n",
    "\n",
    "    def update(self, table_name, set_column, set_value, target_id):\n",
    "        try:\n",
    "            with self.conn.cursor() as cur:\n",
    "                sql = 'UPDATE {} SET {}=%s WHERE id={}'.format(\n",
    "                    table_name, set_column, target_id\n",
    "                )\n",
    "                cur.execute(sql, (set_value,))\n",
    "            self.conn.commit()\n",
    "            return True\n",
    "        except Exception as e:\n",
    "            print(e)\n",
    "            return False"
   ]
  },
  {
   "cell_type": "code",
   "execution_count": 244,
   "metadata": {},
   "outputs": [],
   "source": [
    "db= MariaDB(**db_config) # test\n",
    "# db1 = MariaDB(**db_config) # production"
   ]
  },
  {
   "cell_type": "code",
   "execution_count": 245,
   "metadata": {},
   "outputs": [
    {
     "data": {
      "text/plain": [
       "<pymysql.connections.Connection at 0x233fb609990>"
      ]
     },
     "execution_count": 245,
     "metadata": {},
     "output_type": "execute_result"
    }
   ],
   "source": [
    "db.conn"
   ]
  },
  {
   "cell_type": "markdown",
   "metadata": {},
   "source": [
    "insert 함수 동작 확인"
   ]
  },
  {
   "cell_type": "code",
   "execution_count": 204,
   "metadata": {},
   "outputs": [
    {
     "data": {
      "text/plain": [
       "True"
      ]
     },
     "execution_count": 204,
     "metadata": {},
     "output_type": "execute_result"
    }
   ],
   "source": [
    "db.insert('student', ['name', 'major'], ('JANG', 'Chemistry'))"
   ]
  },
  {
   "cell_type": "markdown",
   "metadata": {},
   "source": [
    "insertmany 함수 동작 확인"
   ]
  },
  {
   "cell_type": "code",
   "execution_count": 248,
   "metadata": {},
   "outputs": [
    {
     "data": {
      "text/plain": [
       "True"
      ]
     },
     "execution_count": 248,
     "metadata": {},
     "output_type": "execute_result"
    }
   ],
   "source": [
    "table_name = \"Student\"\n",
    "columns = ['name', 'email', 'phone', 'major']\n",
    "values = [\n",
    "    (\"KANG\", \"e\", \"e\", \"e\"),\n",
    "    (\"JUNG\", \"e\", \"e\", \"e\")\n",
    "]\n",
    "db.insertmany(table_name, columns, values)"
   ]
  },
  {
   "cell_type": "markdown",
   "metadata": {},
   "source": [
    "select 함수 동작 확인"
   ]
  },
  {
   "cell_type": "code",
   "execution_count": 226,
   "metadata": {},
   "outputs": [
    {
     "data": {
      "text/plain": [
       "(('JANG', None, None, 'Chemistry'),\n",
       " ('JANG', None, None, 'Chemistry'),\n",
       " ('KANG', 'e', 'e', 'e'))"
      ]
     },
     "execution_count": 226,
     "metadata": {},
     "output_type": "execute_result"
    }
   ],
   "source": [
    "db.select(table_name, columns, page=5, page_size=3)"
   ]
  },
  {
   "cell_type": "markdown",
   "metadata": {},
   "source": [
    "update 함수 동작 확인"
   ]
  },
  {
   "cell_type": "code",
   "execution_count": 247,
   "metadata": {},
   "outputs": [
    {
     "data": {
      "text/plain": [
       "True"
      ]
     },
     "execution_count": 247,
     "metadata": {},
     "output_type": "execute_result"
    }
   ],
   "source": [
    "table_name = \"Student\"\n",
    "set_column = 'phone'\n",
    "set_value = '1212'\n",
    "target_id = '43'\n",
    "\n",
    "db.update(table_name, set_column, set_value, target_id)"
   ]
  }
 ],
 "metadata": {
  "kernelspec": {
   "display_name": "base",
   "language": "python",
   "name": "python3"
  },
  "language_info": {
   "codemirror_mode": {
    "name": "ipython",
    "version": 3
   },
   "file_extension": ".py",
   "mimetype": "text/x-python",
   "name": "python",
   "nbconvert_exporter": "python",
   "pygments_lexer": "ipython3",
   "version": "3.10.9"
  },
  "orig_nbformat": 4
 },
 "nbformat": 4,
 "nbformat_minor": 2
}
