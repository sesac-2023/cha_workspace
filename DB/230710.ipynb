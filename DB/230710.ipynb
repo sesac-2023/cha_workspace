{
 "cells": [
  {
   "cell_type": "code",
   "execution_count": 6,
   "metadata": {},
   "outputs": [],
   "source": [
    "with open('./customer','w') as f:\n",
    "    f.write('김새싹, 010223345564')"
   ]
  },
  {
   "cell_type": "markdown",
   "metadata": {},
   "source": [
    "### 데이터\n",
    "DMBS 데이터베이스를 관리하는 시스템(소프트웨어)\n",
    "\n",
    "SQL 명령의 종류(\n",
    "    DDL - definition - 데이터 구조를 정의- create, alter, drop, rename\n",
    "    DML - manipulation - select, insert, update, delete\n",
    "    DCL - control - grant, revoke\n",
    "    TCL - rollback, commit\n",
    ")\n",
    "\n",
    "ACID 데이터베이스 트랜잭션 속성\n",
    "Atomicity(원자성) 하나의 트랜잭션은 모두 성공(commit), 하나라도 실패하면 rollback\n",
    "Consistency(일관성) 무결성 조건(integer에 str x)\n",
    "Isolation(독립성) 두 개의 트랜잭션이 하나의 공유된 자원에 대해 동시에 조작 불가\n",
    "Durability(지속성) 하나의 트랜잭션이 끝나면 결과가 영구적으로 저장\n",
    "\n",
    "\n",
    "NoSQL\n",
    "자유로운 데이터 저장\n",
    "읽기 속도 빠름(social media feed 로드할 때)\n",
    "mongo DB (도큐먼트 방식)\n",
    "key-value\n",
    "\n",
    "\n",
    " MSA microsoft architecture\n",
    " 각 컴포넌트가 독립된 서비스로 개발되어 있어서 부분적으로 확장이 가능하다\n"
   ]
  },
  {
   "cell_type": "markdown",
   "metadata": {},
   "source": [
    "### 데이터 모델\n",
    "\n",
    "데이터의 관계, 접근과 그 흐름에 필요한 처리 과정에 관한 추상화된 모형\n",
    "\n",
    "데이터모델링\n",
    "현실세계에 있는 여러가지 복잡한 사항들을 추상화, 단순화, 명확화의 단계를 거쳐 표현하는 것\n",
    "\n",
    "1. 개념적 데이터 모델링\n",
    "- 데이터 요구사항을 찾고 분석, 정리\n",
    "- 자료별로 중요도와 저장 유무를 결정\n",
    "- 전체 모델에서 중요한 엔터티와 관계 위주로 모델링\n",
    "- 세세한 속성 설정보다는 현실세계의 것을 골격화하는 데 중점\n",
    "\n",
    "2. 논리적 데이터 모델링\n",
    "- E-R 다이어그램 그리기\n",
    "- 정보의 구조, 규칙 명확하게\n",
    "- 누가 데이터에 접근 가능한지 정하기\n",
    "- *정규화* : 데이터 중복 제거, 일광성 확보, 속성이 적절한 엔터티에 배치되도록\n",
    "\n",
    "3. 물리적 데이터 모델링\n",
    "- 논리적 데이터 모델링의 E-R다이어그램 그린 것을 DB 저장 구조로 변환\n",
    "- 데이터를 저장하는 물리적인 스키마"
   ]
  },
  {
   "cell_type": "markdown",
   "metadata": {},
   "source": [
    "### Maria DB\n",
    "오픈소스 기반 RDMS\n",
    "\n",
    "서버\n",
    "정보나 서비스를 네트워크를 통해 클라이언트에게 제공하는 컴퓨터 시스템\n",
    "서버에 하나에 여러 개의 데이터베이스를 제공할 수 있음"
   ]
  },
  {
   "cell_type": "markdown",
   "metadata": {},
   "source": [
    "## 기타\n",
    "깃 버전 확인하기\n",
    "명령프롬프트 \n",
    "git --version\n",
    "\n",
    "제어판 시스템 환경 변수 편집에서 경로 추가해서 명령프롬프트에서 마리아 디비 오픈할 수 있음 mysql -u roop -p"
   ]
  },
  {
   "cell_type": "code",
   "execution_count": 8,
   "metadata": {},
   "outputs": [
    {
     "data": {
      "text/plain": [
       "datetime.datetime(1970, 1, 2, 16, 10, 23)"
      ]
     },
     "execution_count": 8,
     "metadata": {},
     "output_type": "execute_result"
    }
   ],
   "source": [
    "# datetime과 timestamp 차이점\n",
    "from datetime import datetime\n",
    "datetime.fromtimestamp(112223)"
   ]
  },
  {
   "cell_type": "markdown",
   "metadata": {},
   "source": [
    "MYSQL을 환경변수로 등록"
   ]
  },
  {
   "cell_type": "markdown",
   "metadata": {},
   "source": [
    "DELETE FROM TABLE \n",
    "TRUNCATE FROM TABLE 차이점"
   ]
  },
  {
   "cell_type": "markdown",
   "metadata": {},
   "source": [
    "# 구조적 패턴 매칭"
   ]
  },
  {
   "cell_type": "code",
   "execution_count": 10,
   "metadata": {},
   "outputs": [
    {
     "name": "stdout",
     "output_type": "stream",
     "text": [
      "저장\n"
     ]
    }
   ],
   "source": [
    "command = input()\n",
    "match command:\n",
    "    case 'save':\n",
    "        print('저장')\n",
    "    case 'load':\n",
    "        print('불러오기')\n",
    "    case _:\n",
    "        print('명령이 잘못됨')"
   ]
  },
  {
   "cell_type": "code",
   "execution_count": 12,
   "metadata": {},
   "outputs": [
    {
     "name": "stdout",
     "output_type": "stream",
     "text": [
      "명령이 잘못됨\n"
     ]
    }
   ],
   "source": [
    "command = input()\n",
    "match command:\n",
    "    case 'save':\n",
    "        print('저장')\n",
    "    case 'load':\n",
    "        print('불러오기')\n",
    "    case _:\n",
    "        print('명령이 잘못됨')"
   ]
  },
  {
   "cell_type": "code",
   "execution_count": null,
   "metadata": {},
   "outputs": [],
   "source": []
  }
 ],
 "metadata": {
  "kernelspec": {
   "display_name": "base",
   "language": "python",
   "name": "python3"
  },
  "language_info": {
   "codemirror_mode": {
    "name": "ipython",
    "version": 3
   },
   "file_extension": ".py",
   "mimetype": "text/x-python",
   "name": "python",
   "nbconvert_exporter": "python",
   "pygments_lexer": "ipython3",
   "version": "3.10.9"
  },
  "orig_nbformat": 4
 },
 "nbformat": 4,
 "nbformat_minor": 2
}
