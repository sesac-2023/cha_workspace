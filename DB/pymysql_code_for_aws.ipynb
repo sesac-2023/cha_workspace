{
 "cells": [
  {
   "cell_type": "code",
   "execution_count": 4,
   "metadata": {},
   "outputs": [
    {
     "name": "stdout",
     "output_type": "stream",
     "text": [
      "dict_keys(['host', 'user', 'password', 'database', 'charset'])\n"
     ]
    }
   ],
   "source": [
    "# aws 계정 로그인 셀\n",
    "import pymysql\n",
    "import pandas as pd # 불요. 출력값 보기용.\n",
    "\n",
    "# 계정 정보 파일에서 필요 인자 딕셔너리로 생성\n",
    "with open('./secret_db.config') as f:\n",
    "    res = dict(map(lambda x: x.replace('\\n','').split('='), f.readlines()))\n",
    "    for i, v in res.items():\n",
    "        if v.isdigit(): res[i] = int(v)\n",
    "# 로그인 위한 인자명 출력\n",
    "print(res.keys())\n",
    "# 딕셔너리 언패킹하여 인자 값 할당 후 서버 연동\n",
    "remote = pymysql.connect(**res)"
   ]
  },
  {
   "cell_type": "code",
   "execution_count": 2,
   "metadata": {},
   "outputs": [
    {
     "name": "stdout",
     "output_type": "stream",
     "text": [
      "===============================  show databases  ===============================\n",
      "        database_name\n",
      "0               db4_6\n",
      "1  information_schema\n",
      "2              innodb\n",
      "3               mysql\n",
      "4  performance_schema\n",
      "5                 sys\n",
      "======================  show grants for '{username}'@'%'  ======================\n",
      "                                         grant users\n",
      "0  GRANT USAGE ON *.* TO `tmp_01`@`%` IDENTIFIED ...\n",
      "1  GRANT ALL PRIVILEGES ON `db4_6`.* TO `tmp_01`@`%`\n"
     ]
    }
   ],
   "source": [
    "# db 및 유저 생성\n",
    "\n",
    "# with로 여는 것은 cursor가 여러 개 열리는 것을 예방하기 위함.\n",
    "with remote.cursor() as cur:\n",
    "    # db명 설정 및 생성\n",
    "    dbname = 'db4_6'\n",
    "    cur.execute(f'create database {dbname}')\n",
    "    cur.execute('show databases')\n",
    "    # fetchall(): 출력문 전체 가져오기\n",
    "    # print(cur.fetchall())\n",
    "    print(f'{\"  show databases  \":=^80}')\n",
    "    print(pd.DataFrame([_ for _ in cur.fetchall()], columns=['database_name']))\n",
    "    \n",
    "    # user 생성 및 권한 지정\n",
    "    username = 'tmp_01'\n",
    "    password = 'tmp_1234'   # 연습용이 아닌 실제 생성 user는 secret 파일을 통해 인자 입력 필요\n",
    "    cur.execute('use mysql')\n",
    "    # user 생성, %는 외부 접속 사용자라는 의미.\n",
    "    cur.execute(f'create user \\'{username}\\'@\\'%\\' identified by \\'{password}\\'')\n",
    "    # 특정 db 권한 전부(*) 부여\n",
    "    cur.execute(f'grant all on {dbname}.* to \\'{username}\\'@\\'%\\'')\n",
    "    # 특정 user 권한 확인\n",
    "    cur.execute(f'show grants for \\'{username}\\'@\\'%\\'')\n",
    "    # print(cur.fetchall())\n",
    "    print(f'''{\"  show grants for '{username}'@'%'  \":=^80}''')\n",
    "    print(pd.DataFrame([_ for _ in cur.fetchall()], columns=['grant users']))"
   ]
  },
  {
   "cell_type": "code",
   "execution_count": 3,
   "metadata": {},
   "outputs": [
    {
     "name": "stdout",
     "output_type": "stream",
     "text": [
      "========================  select host, user from user  =========================\n",
      "        host         user\n",
      "0          %         root\n",
      "1          %       tmp_01\n",
      "2  localhost  mariadb.sys\n",
      "3  localhost     rdsadmin\n",
      "======================  show grants for '{username}'@'%'  ======================\n",
      "                                                   0\n",
      "0  GRANT USAGE ON *.* TO `tmp_01`@`%` IDENTIFIED ...\n",
      "========================  select host, user from user  =========================\n",
      "        host         user\n",
      "0          %         root\n",
      "1  localhost  mariadb.sys\n",
      "2  localhost     rdsadmin\n",
      "===============================  show databases  ===============================\n",
      "        database_name\n",
      "0               db4_6\n",
      "1  information_schema\n",
      "2              innodb\n",
      "3               mysql\n",
      "4  performance_schema\n",
      "5                 sys\n",
      "===============================  show databases  ===============================\n",
      "        database_name\n",
      "0  information_schema\n",
      "1              innodb\n",
      "2               mysql\n",
      "3  performance_schema\n",
      "4                 sys\n"
     ]
    }
   ],
   "source": [
    "# db 및 유저 삭제\n",
    "\n",
    "with remote.cursor() as cur:\n",
    "    # user 권한 제거 및 user 삭제\n",
    "    username = 'tmp_01'\n",
    "    cur.execute('use mysql')\n",
    "    # user 테이블의 host, user 컬럼 조회\n",
    "    cur.execute('select host, user from user')\n",
    "    # print(cur.fetchall())\n",
    "    print(f'{\"  select host, user from user  \":=^80}')\n",
    "    print(pd.DataFrame([_ for _ in cur.fetchall()], columns=['host', 'user']))\n",
    "    \n",
    "    # 특정 db 권한 전부(*) 제거\n",
    "    cur.execute(f'revoke all on {dbname}.* from \\'{username}\\'@\\'%\\'')\n",
    "    # 특정 user 권한 확인\n",
    "    cur.execute(f'show grants for \\'{username}\\'@\\'%\\'')\n",
    "    # print(cur.fetchall())\n",
    "    print(f'''{\"  show grants for '{username}'@'%'  \":=^80}''')\n",
    "    print(pd.DataFrame([_ for _ in cur.fetchall()]))\n",
    "\n",
    "    # 특정 user 삭제\n",
    "    cur.execute(f'drop user \\'{username}\\'@\\'%\\'')\n",
    "    # user 제거 확인\n",
    "    cur.execute('select host, user from user')\n",
    "    # print(cur.fetchall())\n",
    "    print(f'{\"  select host, user from user  \":=^80}')\n",
    "    print(pd.DataFrame([_ for _ in cur.fetchall()], columns=['host', 'user']))\n",
    "\n",
    "\n",
    "    # db 삭제\n",
    "    cur.execute('show databases')\n",
    "    # print(cur.fetchall())\n",
    "    print(f'{\"  show databases  \":=^80}')\n",
    "    print(pd.DataFrame([_ for _ in cur.fetchall()], columns=['database_name']))\n",
    "    \n",
    "    dbname = 'db4_6'\n",
    "    cur.execute(f'drop database {dbname}')\n",
    "    # db 삭제 확인\n",
    "    cur.execute('show databases')\n",
    "    # print(cur.fetchall())\n",
    "    print(f'{\"  show databases  \":=^80}')\n",
    "    print(pd.DataFrame([_ for _ in cur.fetchall()], columns=['database_name']))"
   ]
  }
 ],
 "metadata": {
  "kernelspec": {
   "display_name": "news",
   "language": "python",
   "name": "python3"
  },
  "language_info": {
   "codemirror_mode": {
    "name": "ipython",
    "version": 3
   },
   "file_extension": ".py",
   "mimetype": "text/x-python",
   "name": "python",
   "nbconvert_exporter": "python",
   "pygments_lexer": "ipython3",
   "version": "3.10.9"
  },
  "orig_nbformat": 4
 },
 "nbformat": 4,
 "nbformat_minor": 2
}
