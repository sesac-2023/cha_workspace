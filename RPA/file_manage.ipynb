{
 "cells": [
  {
   "cell_type": "markdown",
   "metadata": {},
   "source": [
    "## 절대경로\n",
    "- 바뀌지 않는 경로\n",
    "\n",
    "## 상대경로\n",
    "- 현재 위치에 따라 바뀌는 대상 경로"
   ]
  },
  {
   "cell_type": "code",
   "execution_count": 2,
   "metadata": {},
   "outputs": [],
   "source": [
    "import os\n",
    "import shutil"
   ]
  },
  {
   "cell_type": "code",
   "execution_count": 6,
   "metadata": {},
   "outputs": [
    {
     "data": {
      "text/plain": [
       "['file_manage.ipynb', '실습1', '실습2', '실습3', '실습5']"
      ]
     },
     "execution_count": 6,
     "metadata": {},
     "output_type": "execute_result"
    }
   ],
   "source": [
    "os.listdir('./')"
   ]
  },
  {
   "cell_type": "code",
   "execution_count": 13,
   "metadata": {},
   "outputs": [],
   "source": [
    "# os.mkdir('./test') # 현재 경로 내에 하나의 디렉토리 생성\n",
    "os.makedirs('../test2/실습1/ostest/folder' ,exist_ok = True) # 동일한 디렉토리가 존재해도 생성) # 상위 경로에 복수의 디렉토리 생성"
   ]
  },
  {
   "cell_type": "code",
   "execution_count": null,
   "metadata": {},
   "outputs": [],
   "source": [
    "os.path.abspath('.') # 현재 경로 확인"
   ]
  },
  {
   "cell_type": "code",
   "execution_count": 17,
   "metadata": {},
   "outputs": [
    {
     "data": {
      "text/plain": [
       "True"
      ]
     },
     "execution_count": 17,
     "metadata": {},
     "output_type": "execute_result"
    }
   ],
   "source": [
    "os.path.exists('./file_manage.ipynb') # 경로 내에 해당 디렉토리나 파일이 존재하는지 확인"
   ]
  },
  {
   "cell_type": "code",
   "execution_count": 18,
   "metadata": {},
   "outputs": [
    {
     "data": {
      "text/plain": [
       "(False, True)"
      ]
     },
     "execution_count": 18,
     "metadata": {},
     "output_type": "execute_result"
    }
   ],
   "source": [
    "os.path.isdir('./file_manage.ipynb'), os.path.isdir('./test')  # 파일인지 디렉토리인지 구분"
   ]
  },
  {
   "cell_type": "code",
   "execution_count": null,
   "metadata": {},
   "outputs": [],
   "source": [
    "os.remove('./test') # 디렉토리 삭제 시 => output : 액세스가 거부되었습니다"
   ]
  },
  {
   "cell_type": "code",
   "execution_count": 20,
   "metadata": {},
   "outputs": [],
   "source": [
    "os.remove('./test.txt') # 파일 삭제 => 성공"
   ]
  },
  {
   "cell_type": "code",
   "execution_count": 22,
   "metadata": {},
   "outputs": [],
   "source": [
    "os.removedirs('./test') # 디렉토리 삭제 "
   ]
  },
  {
   "cell_type": "code",
   "execution_count": 24,
   "metadata": {},
   "outputs": [],
   "source": [
    "os.removedirs('../test2/실습1/ostest/folder/') # 복수의 디렉토리 삭제"
   ]
  },
  {
   "cell_type": "markdown",
   "metadata": {},
   "source": [
    "shutil"
   ]
  },
  {
   "cell_type": "code",
   "execution_count": null,
   "metadata": {},
   "outputs": [],
   "source": [
    "# 파일 이동\n",
    "shutil.move(\n",
    "    '경로를 변동할 파일의 위치/파일명', \n",
    "    '원하는 경로/파일명(수정 가능)') "
   ]
  },
  {
   "cell_type": "code",
   "execution_count": null,
   "metadata": {},
   "outputs": [],
   "source": [
    "shutil.copy() # 파일 복제\n",
    "shutil.copytree() # 디렉토리 복제"
   ]
  },
  {
   "cell_type": "code",
   "execution_count": null,
   "metadata": {},
   "outputs": [],
   "source": [
    "shutil.rmtree() # 디렉토리 삭제"
   ]
  },
  {
   "cell_type": "markdown",
   "metadata": {},
   "source": [
    "실습 >>   \n",
    "test 디텍토리 생성 -> 실습 1 내부 파일 -> test로 이동\n",
    "- test 디렉토리 : 상위 경로\n",
    "- 실습 1 디렉토리 : 현재 경로"
   ]
  },
  {
   "cell_type": "code",
   "execution_count": 27,
   "metadata": {},
   "outputs": [
    {
     "data": {
      "text/plain": [
       "'../test\\\\file_maker.py'"
      ]
     },
     "execution_count": 27,
     "metadata": {},
     "output_type": "execute_result"
    }
   ],
   "source": [
    "os.mkdir('../test')\n",
    "shutil.move('./실습1/file_maker.py', '../test/file_maker.py') # './' 현재 경로 '../' 상위 경로"
   ]
  },
  {
   "cell_type": "markdown",
   "metadata": {},
   "source": [
    "실습 >>  \n",
    "test 디렉토리 내의 파일 -> (파일명 수정해서) -> 실습 1 내부로 복제 \n",
    "- test 디렉토리 : 상위 경로\n",
    "- 실습1 디렉토리 : 현재 경로"
   ]
  },
  {
   "cell_type": "code",
   "execution_count": 28,
   "metadata": {},
   "outputs": [
    {
     "data": {
      "text/plain": [
       "'./실습1/f_maker.py'"
      ]
     },
     "execution_count": 28,
     "metadata": {},
     "output_type": "execute_result"
    }
   ],
   "source": [
    "shutil.copy('../test/file_maker.py', './실습1/f_maker.py')"
   ]
  },
  {
   "cell_type": "code",
   "execution_count": 29,
   "metadata": {},
   "outputs": [
    {
     "data": {
      "text/plain": [
       "'../test/실습10'"
      ]
     },
     "execution_count": 29,
     "metadata": {},
     "output_type": "execute_result"
    }
   ],
   "source": [
    "shutil.copytree('./실습1/', '../test/실습10') # 디렉토리 복제"
   ]
  },
  {
   "cell_type": "code",
   "execution_count": 31,
   "metadata": {},
   "outputs": [],
   "source": [
    "shutil.rmtree('../test/실습10') # 디렉토리 삭제"
   ]
  },
  {
   "cell_type": "markdown",
   "metadata": {},
   "source": [
    "---\n",
    "# 실습1\n",
    "- 파일명이 날짜와 시간으로 구성된 파일을 날짜별로 폴더를 만들어서 자동 분류하는 프로그램을 개발\n",
    "- 파일들은 미리 만들어 둔 sample을 활용\n",
    "- 파일명은 TEST_연-월-일_시-분-초.pdf로 구성"
   ]
  },
  {
   "cell_type": "markdown",
   "metadata": {},
   "source": [
    "### Answer"
   ]
  },
  {
   "cell_type": "code",
   "execution_count": 47,
   "metadata": {},
   "outputs": [
    {
     "data": {
      "text/plain": [
       "['file_manage.ipynb', '실습1', '실습2', '실습3', '실습5']"
      ]
     },
     "execution_count": 47,
     "metadata": {},
     "output_type": "execute_result"
    }
   ],
   "source": [
    "os.listdir()"
   ]
  },
  {
   "cell_type": "code",
   "execution_count": null,
   "metadata": {},
   "outputs": [],
   "source": [
    "# 첫 번째 힌트 - os.listdir()\n",
    "file_list = os.listdir(pdf_file_dir)\n",
    "print(file_list[:5])\n",
    "pdf_file_dir+file_List[0]\n",
    "\n",
    "# 두 번째 힌트 - 파일 경로 = 문자열, 문자열 메서드 활용 (split, slicing)\n",
    "# - 연월일 부분만 가져오기\n",
    "file_list[0].split()[1]\n",
    "\n",
    "# 세 번째 힌트 - mkdir, move\n",
    "date_str = '2020-01-12'\n",
    "os.mkdir(f'./실습1/pdf_files/{date_str}')\n",
    "shutil.move('경로~파일 명까지', '대상 경로~파일명까지')"
   ]
  },
  {
   "cell_type": "code",
   "execution_count": 4,
   "metadata": {},
   "outputs": [],
   "source": [
    "PDF_PATH = './실습6/pdf_files/'"
   ]
  },
  {
   "cell_type": "code",
   "execution_count": 70,
   "metadata": {},
   "outputs": [],
   "source": [
    "# 파일 가져오기\n",
    "for file_name in os.listdir(PDF_PATH):\n",
    "\n",
    "    # pdf 체크\n",
    "    if '.pdf' not in file_name: continue\n",
    "    # not file_name.endswith('.pdf')\n",
    "\n",
    "    # 날짜 가져오기\n",
    "    date_str = file_name.split('_')[1]\n",
    "\n",
    "    # 폴더 생성\n",
    "    os.makedirs(PDF_PATH + date_str, exist_ok= True)\n",
    "\n",
    "    # 파일 이동\n",
    "    shutil.move(PDF_PATH + file_name, PDF_PATH + date_str + '/' + file_name)"
   ]
  },
  {
   "cell_type": "code",
   "execution_count": 5,
   "metadata": {},
   "outputs": [
    {
     "data": {
      "text/plain": [
       "['.gitkeep', '2019-1-11', '2019-1-12', '2019-1-14', '2019-1-15']"
      ]
     },
     "execution_count": 5,
     "metadata": {},
     "output_type": "execute_result"
    }
   ],
   "source": [
    "os.listdir(PDF_PATH)[:5]"
   ]
  }
 ],
 "metadata": {
  "kernelspec": {
   "display_name": "base",
   "language": "python",
   "name": "python3"
  },
  "language_info": {
   "codemirror_mode": {
    "name": "ipython",
    "version": 3
   },
   "file_extension": ".py",
   "mimetype": "text/x-python",
   "name": "python",
   "nbconvert_exporter": "python",
   "pygments_lexer": "ipython3",
   "version": "3.10.9"
  },
  "orig_nbformat": 4
 },
 "nbformat": 4,
 "nbformat_minor": 2
}
