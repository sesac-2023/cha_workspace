{
 "cells": [
  {
   "cell_type": "markdown",
   "metadata": {},
   "source": [
    "- 텔레그램 계정 생성\n",
    "- 데스크탑 앱 다운로드 (https://telegram.org/apps)\n",
    "- @BotFather 검색 후 /newbot 봇 생성 \n",
    "- token to access the HTTP API 복사\n",
    "- TELEGRAM_TOKEN=토큰명이 담긴 secret 파일 생성"
   ]
  },
  {
   "cell_type": "markdown",
   "metadata": {},
   "source": [
    "---"
   ]
  },
  {
   "cell_type": "markdown",
   "metadata": {},
   "source": [
    "- 아래 코드가 담긴 my_tgbot.py 생성\n",
    "- 터미널(command prompt) python my_tgbot.py 실행 후 토큰명이 프린트 되는지 확인"
   ]
  },
  {
   "cell_type": "code",
   "execution_count": null,
   "metadata": {},
   "outputs": [],
   "source": [
    "with open('./secret', 'r') as f:\n",
    "    secret = {l.split('=')[0]: l.split('=')[1].strip() for l in f.readlines()}\n",
    "\n",
    "token = secret['TELEGRAM_TOKEN']\n",
    "\n",
    "if __name__ == '__main__':\n",
    "    print(token)"
   ]
  },
  {
   "cell_type": "markdown",
   "metadata": {},
   "source": [
    "- https://python-telegram-bot.org/ 에서 코드 복사 후 편집\n",
    "- 터미널 pip install python-telegram-bot 실행\n",
    "- 터미널 python my_tgbot.py 실행\n",
    "- 텔레그램 챗봇 메신저에서 /hello 입력 후 'Hello + username'이 수신되는지 확인"
   ]
  },
  {
   "cell_type": "code",
   "execution_count": null,
   "metadata": {},
   "outputs": [],
   "source": [
    "with open('./secret', 'r') as f:\n",
    "    secret = {l.split('=')[0]: l.split('=')[1].strip() for l in f.readlines()}\n",
    "\n",
    "token = secret['TELEGRAM_TOKEN']\n",
    "\n",
    "from telegram import Update\n",
    "from telegram.ext import ApplicationBuilder, CommandHandler, ContextTypes\n",
    "\n",
    "\n",
    "async def hello(update: Update, context: ContextTypes.DEFAULT_TYPE) -> None:\n",
    "    await update.message.reply_text(f'Hello {update.effective_user.first_name}')\n",
    "\n",
    "app = ApplicationBuilder().token(token).build()\n",
    "\n",
    "app.add_handler(CommandHandler(\"hello\", hello))\n",
    "\n",
    "if __name__ == '__main__':\n",
    "    app.run_polling()"
   ]
  },
  {
   "cell_type": "markdown",
   "metadata": {},
   "source": [
    "- 사진 전송 등 함수 추가하기"
   ]
  },
  {
   "cell_type": "code",
   "execution_count": null,
   "metadata": {},
   "outputs": [],
   "source": [
    "with open('./secret', 'r') as f:\n",
    "    secret = {l.split('=')[0]: l.split('=')[1].strip() for l in f.readlines()}\n",
    "\n",
    "token = secret['TELEGRAM_TOKEN']\n",
    "\n",
    "\n",
    "from telegram import Update\n",
    "from telegram.ext import ApplicationBuilder, CommandHandler, ContextTypes\n",
    "\n",
    "\n",
    "# hello command에 대해서 실행할 함수\n",
    "async def hello(update: Update, context: ContextTypes.DEFAULT_TYPE) -> None:\n",
    "    # reply_text를 하게 되면 텍스트 메시지를 전송\n",
    "    await update.message.reply_text(f'Hello {update.effective_user.last_name}')\n",
    "\n",
    "async def myname(update: Update, context: ContextTypes.DEFAULT_TYPE) -> None:\n",
    "    await update.message.reply_text(f'My name is {update.effective_user.first_name}')\n",
    "\n",
    "    await update.message.reply_photo(open('.\\IMG_9079.JPG', 'rb'))\n",
    "\n",
    "\n",
    "# bot token을 통해 앱 빌드(생성)\n",
    "app = ApplicationBuilder().token(token).build()\n",
    "\n",
    "# 앱이 처리할 명령어들을 정의\n",
    "# /hello -> hello 함수 실행\n",
    "# /myname -> myname 함수 실행\n",
    "app.add_handler(CommandHandler(\"hello\", hello))\n",
    "app.add_handler(CommandHandler(\"myname\", myname))\n",
    "\n",
    "\n",
    "if __name__ == '__main__':\n",
    "    # print(token)\n",
    "\n",
    "    # 봇을 실행\n",
    "    app.run_polling()"
   ]
  },
  {
   "cell_type": "markdown",
   "metadata": {},
   "source": [
    "- 저장한 내용 호출하기"
   ]
  },
  {
   "cell_type": "code",
   "execution_count": null,
   "metadata": {},
   "outputs": [],
   "source": [
    "fake_db = {\n",
    "    '국내' : ['동해', '남해'],\n",
    "    '해외' : ['아이슬란드', '덴마크']\n",
    "}\n",
    "\n",
    "async def trip(update: Update, context: ContextTypes.DEFAULT_TYPE) -> None:\n",
    "    print(update.message.text)\n",
    "    target = update.message.text.split()[-1]\n",
    "    locations = fake_db[target]         \n",
    "    await update.message.reply_text(f'추천 여행지{str(locations)}')\n",
    "\n",
    "app = ApplicationBuilder().token(token).build()\n",
    "app.add_handler(CommandHandler(\"trip\", trip))\n",
    "\n",
    "if __name__ == '__main__':\n",
    "    app.run_polling()"
   ]
  },
  {
   "cell_type": "markdown",
   "metadata": {},
   "source": [
    "- 저장하지 않은 내용을 호출할 경우"
   ]
  },
  {
   "cell_type": "code",
   "execution_count": null,
   "metadata": {},
   "outputs": [],
   "source": [
    "fake_db = {\n",
    "    '국내' : ['동해', '남해'],\n",
    "    '해외' : ['아이슬란드', '덴마크']\n",
    "}\n",
    "\n",
    "async def trip(update: Update, context: ContextTypes.DEFAULT_TYPE) -> None:\n",
    "    print(update.message.text)\n",
    "    target = update.message.text.split()[-1]\n",
    "    locations = []\n",
    "    if target in fake_db:\n",
    "        locations = fake_db[target]\n",
    "        await update.message.reply_text(f'추천 여행지{str(locations)}')\n",
    "    else:\n",
    "        await update.message.reply_text(f'어떤 여행지를 추천해드릴까요? (국내, 해외)')\n",
    "\n",
    "\n",
    "\n",
    "app = ApplicationBuilder().token(token).build()\n",
    "\n",
    "app.add_handler(CommandHandler(\"hello\", hello))\n",
    "app.add_handler(CommandHandler(\"myname\", myname))\n",
    "app.add_handler(CommandHandler(\"trip\", trip))\n",
    "\n",
    "\n",
    "if __name__ == '__main__':\n",
    "    # print(token)\n",
    "    app.run_polling()"
   ]
  }
 ],
 "metadata": {
  "language_info": {
   "name": "python"
  },
  "orig_nbformat": 4
 },
 "nbformat": 4,
 "nbformat_minor": 2
}
