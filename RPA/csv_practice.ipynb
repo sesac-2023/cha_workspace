{
 "cells": [
  {
   "cell_type": "code",
   "execution_count": 15,
   "metadata": {},
   "outputs": [],
   "source": [
    "# 'w' 모드 - 파일 새로 생성\n",
    "with open('./test.csv', 'w') as f:\n",
    "    f.write('3344,3333,4444')\n",
    " \n",
    "    "
   ]
  },
  {
   "cell_type": "code",
   "execution_count": 17,
   "metadata": {},
   "outputs": [
    {
     "data": {
      "text/plain": [
       "'3322'"
      ]
     },
     "execution_count": 17,
     "metadata": {},
     "output_type": "execute_result"
    }
   ],
   "source": [
    "open('./last_id', 'r').read()\n",
    "# .txt"
   ]
  },
  {
   "cell_type": "code",
   "execution_count": 23,
   "metadata": {},
   "outputs": [],
   "source": [
    "# 'a' 모드 -원본 상태 그대로 가져와서 값 추가하기\n",
    "with open('./test.csv', 'a') as f:\n",
    "    # data = f.readlines()\n",
    "    f.write('555,666\\n')  # 줄바꿈 기호\n"
   ]
  },
  {
   "cell_type": "code",
   "execution_count": 38,
   "metadata": {},
   "outputs": [],
   "source": [
    "with open('order.csv', 'w', encoding='utf-8') as f:\n",
    "    f.write('고객명,상품명,수량,금액\\n')"
   ]
  },
  {
   "cell_type": "code",
   "execution_count": 39,
   "metadata": {},
   "outputs": [],
   "source": [
    "with open('./order.csv', 'a', encoding='utf-8') as f:\n",
    "    f.write('jason,신발,1,75000\\n')"
   ]
  },
  {
   "cell_type": "code",
   "execution_count": 34,
   "metadata": {},
   "outputs": [],
   "source": [
    "order_list = [\n",
    "    ['name1', 'shoes', 1, 90000],\n",
    "    ['name2', 'shirts', 10, 500000],\n",
    "]"
   ]
  },
  {
   "cell_type": "code",
   "execution_count": 40,
   "metadata": {},
   "outputs": [],
   "source": [
    "with open('./order.csv', 'a', encoding='utf-8') as f:\n",
    "    for order in order_list:\n",
    "        f.write(','.join(map(str, order)) + '\\n')"
   ]
  },
  {
   "cell_type": "code",
   "execution_count": 52,
   "metadata": {},
   "outputs": [],
   "source": [
    "with open('./order.csv', 'r', encoding='utf-8') as f:\n",
    "    # read_str = f.read() # 모든 텍스트를 하나의 문자열로 읽어온다\n",
    "    # read_one_line = f.readline()\n",
    "    read_multiple_lines = f.readlines()"
   ]
  },
  {
   "cell_type": "code",
   "execution_count": 42,
   "metadata": {},
   "outputs": [
    {
     "data": {
      "text/plain": [
       "'고객명,상품명,수량,금액\\njason,신발,1,75000\\nname1,shoes,1,90000\\nname2,shirts,10,500000\\n'"
      ]
     },
     "execution_count": 42,
     "metadata": {},
     "output_type": "execute_result"
    }
   ],
   "source": [
    "read_str"
   ]
  },
  {
   "cell_type": "code",
   "execution_count": 44,
   "metadata": {},
   "outputs": [
    {
     "data": {
      "text/plain": [
       "[['고객명', '상품명', '수량', '금액'],\n",
       " ['jason', '신발', '1', '75000'],\n",
       " ['name1', 'shoes', '1', '90000'],\n",
       " ['name2', 'shirts', '10', '500000'],\n",
       " ['']]"
      ]
     },
     "execution_count": 44,
     "metadata": {},
     "output_type": "execute_result"
    }
   ],
   "source": [
    "[l.split(',') for l in read_str.split('\\n')]"
   ]
  },
  {
   "cell_type": "code",
   "execution_count": 45,
   "metadata": {},
   "outputs": [
    {
     "data": {
      "text/plain": [
       "['고객명,상품명,수량,금액',\n",
       " 'jason,신발,1,75000',\n",
       " 'name1,shoes,1,90000',\n",
       " 'name2,shirts,10,500000',\n",
       " '']"
      ]
     },
     "execution_count": 45,
     "metadata": {},
     "output_type": "execute_result"
    }
   ],
   "source": [
    "read_str.split('\\n')"
   ]
  },
  {
   "cell_type": "code",
   "execution_count": 50,
   "metadata": {},
   "outputs": [
    {
     "data": {
      "text/plain": [
       "'고객명,상품명,수량,금액\\n'"
      ]
     },
     "execution_count": 50,
     "metadata": {},
     "output_type": "execute_result"
    }
   ],
   "source": [
    "read_one_line"
   ]
  },
  {
   "cell_type": "code",
   "execution_count": 53,
   "metadata": {},
   "outputs": [
    {
     "data": {
      "text/plain": [
       "['고객명,상품명,수량,금액\\n',\n",
       " 'jason,신발,1,75000\\n',\n",
       " 'name1,shoes,1,90000\\n',\n",
       " 'name2,shirts,10,500000\\n']"
      ]
     },
     "execution_count": 53,
     "metadata": {},
     "output_type": "execute_result"
    }
   ],
   "source": [
    "read_multiple_lines"
   ]
  },
  {
   "cell_type": "code",
   "execution_count": 54,
   "metadata": {},
   "outputs": [
    {
     "data": {
      "text/plain": [
       "[['고객명', '상품명', '수량', '금액'],\n",
       " ['jason', '신발', '1', '75000'],\n",
       " ['name1', 'shoes', '1', '90000'],\n",
       " ['name2', 'shirts', '10', '500000']]"
      ]
     },
     "execution_count": 54,
     "metadata": {},
     "output_type": "execute_result"
    }
   ],
   "source": [
    "[order.strip().split(',') for order in read_multiple_lines]"
   ]
  },
  {
   "cell_type": "code",
   "execution_count": 61,
   "metadata": {},
   "outputs": [
    {
     "name": "stdout",
     "output_type": "stream",
     "text": [
      "['고객명', '상품명', '수량', '금액']\n",
      "['jason', '신발', '1', '75000']\n",
      "['name1', 'shoes', '1', '90000']\n",
      "['name2', 'shirts', '10', '500000']\n"
     ]
    }
   ],
   "source": [
    "for order in read_multiple_lines:\n",
    "    print(order.strip().split(','))"
   ]
  },
  {
   "cell_type": "markdown",
   "metadata": {},
   "source": [
    "---\n",
    "## 실습 2\n",
    "- CSV로 작성된 연도, 월별 판매데이터를 취합해 한 개의 CSV 파일에 연도, 월, 매출로 구성된 파일\n",
    " 생성\n",
    "- 각 연도, 월별 판매 데이터에는 수강생명, 수강금액, 상담날짜, 강좌명으로 구성된 CSV 파일"
   ]
  },
  {
   "cell_type": "markdown",
   "metadata": {},
   "source": [
    "## Answer"
   ]
  },
  {
   "cell_type": "code",
   "execution_count": 5,
   "metadata": {},
   "outputs": [
    {
     "data": {
      "text/plain": [
       "[['2017', '01', 7240000],\n",
       " ['2017', '02', 7410000],\n",
       " ['2017', '03', 7550000],\n",
       " ['2017', '04', 7720000],\n",
       " ['2017', '05', 7950000],\n",
       " ['2017', '06', 7730000],\n",
       " ['2017', '07', 8000000],\n",
       " ['2017', '08', 7740000],\n",
       " ['2017', '09', 7940000],\n",
       " ['2017', '10', 7810000],\n",
       " ['2017', '11', 7320000],\n",
       " ['2017', '12', 8040000]]"
      ]
     },
     "execution_count": 5,
     "metadata": {},
     "output_type": "execute_result"
    }
   ],
   "source": [
    "import os\n",
    "BASE_DIR = './실습2/csv_files/'\n",
    "csv_files = os.listdir(BASE_DIR)\n",
    "\n",
    "sales_data = []\n",
    "for file in csv_files:\n",
    "    # 방법 1\n",
    "    datas = open(BASE_DIR + file, 'r', encoding='cp949').readlines()\n",
    "    sum = 0\n",
    "    for l in datas[1:]:\n",
    "        cost = int(l.split(',')[1])\n",
    "        sum += cost\n",
    "\n",
    "    year, month, _ = file.split('.')\n",
    "\n",
    "    sales_data.append([year, month, sum])        \n",
    "\n",
    "sales_data"
   ]
  },
  {
   "cell_type": "code",
   "execution_count": 8,
   "metadata": {},
   "outputs": [],
   "source": [
    "with open(BASE_DIR + '../summary.csv', 'w', encoding='utf-8') as f:\n",
    "    f.write('연도, 월, 매출\\n')\n",
    "\n",
    "    for sd in sales_data:\n",
    "        f.write(','.join(map(str, sd)) + '\\n')"
   ]
  }
 ],
 "metadata": {
  "kernelspec": {
   "display_name": "base",
   "language": "python",
   "name": "python3"
  },
  "language_info": {
   "codemirror_mode": {
    "name": "ipython",
    "version": 3
   },
   "file_extension": ".py",
   "mimetype": "text/x-python",
   "name": "python",
   "nbconvert_exporter": "python",
   "pygments_lexer": "ipython3",
   "version": "3.10.9"
  },
  "orig_nbformat": 4
 },
 "nbformat": 4,
 "nbformat_minor": 2
}
