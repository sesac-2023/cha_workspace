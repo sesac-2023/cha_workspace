{
 "cells": [
  {
   "cell_type": "markdown",
   "metadata": {},
   "source": [
    "### Python Email Library\n",
    "- SMTP: 메일 발송을 위해 메일 서비스 제공 회사와 사용자 간에 약속된 규약 (Simple Mail Transfer Protocol)\n",
    "- 파이썬 이메일 관리 라이브러리\n",
    "    - smtplib\n",
    "    - email\n",
    "- 내장 라이브러리 - 별도 설치할 불필요"
   ]
  },
  {
   "cell_type": "code",
   "execution_count": 86,
   "metadata": {},
   "outputs": [],
   "source": [
    "import email\n",
    "import smtplib"
   ]
  },
  {
   "cell_type": "code",
   "execution_count": null,
   "metadata": {},
   "outputs": [],
   "source": [
    "with open('secret', 'r') as f:\n",
    "    secret = {l.split('=')[0] : l.split('=')[1].rstrip() for l in f.readlines()}\n",
    "secret"
   ]
  },
  {
   "cell_type": "code",
   "execution_count": 88,
   "metadata": {},
   "outputs": [],
   "source": [
    "SMTP_SERVER = 'smtp.naver.com'\n",
    "SMTP_PORT = 465\n",
    "SMTP_USER = secret['EMAIL_ID']\n",
    "SMTP_PASSWORD = secret['EMAIL_PW']"
   ]
  },
  {
   "cell_type": "markdown",
   "metadata": {},
   "source": [
    "### 메일 발송"
   ]
  },
  {
   "cell_type": "code",
   "execution_count": 89,
   "metadata": {},
   "outputs": [],
   "source": [
    "from email.mime.multipart import MIMEMultipart\n",
    "from email.mime.text import MIMEText\n",
    "\n",
    "# msg = MIMEMultipart('alternative') # 첨부파일 무\n",
    "msg = MIMEMultipart('mixed') # 첨부파일 유\n",
    "\n",
    "msg['From'] = SMTP_USER\n",
    "target_addr = '@gmail.com'\n",
    "msg['To'] = target_addr\n",
    "subject = '안녕하세요'\n",
    "msg['Subject'] = subject\n",
    "\n",
    "contents = '감기 조심하세요 :)'\n",
    "text = MIMEText(contents)\n",
    "\n",
    "msg.attach(text)"
   ]
  },
  {
   "cell_type": "code",
   "execution_count": 90,
   "metadata": {},
   "outputs": [],
   "source": [
    "smtp = smtplib.SMTP_SSL(SMTP_SERVER, SMTP_PORT)\n",
    "smtp.login(SMTP_USER, SMTP_PASSWORD)\n",
    "smtp.sendmail('@naver.com', '@gmail.com', msg.as_string())\n",
    "smtp.close()"
   ]
  },
  {
   "cell_type": "markdown",
   "metadata": {},
   "source": [
    "### 첨부 파일 추가\n",
    "- 첨부파일 타입을 지정하는 이유 : 수신할 때 미리 파싱해서 미리보기 등에 사용할 수 있음\n",
    "- 타입을 지정하지 않아도 무관 - octet-stream"
   ]
  },
  {
   "cell_type": "code",
   "execution_count": 95,
   "metadata": {},
   "outputs": [
    {
     "name": "stdout",
     "output_type": "stream",
     "text": [
      "log.xlsx\n"
     ]
    }
   ],
   "source": [
    "from email.mime.base import MIMEBase\n",
    "from email import encoders\n",
    "from os.path import basename\n",
    "email_file = MIMEBase('application', 'vnd.ms.excel')\n",
    "\n",
    "file_path = './실습3/log.xlsx'\n",
    "\n",
    "with open(file_path, 'rb') as f:\n",
    "    file_data = f.read()\n",
    "\n",
    "email_file.set_payload(file_data)\n",
    "encoders.encode_base64(email_file)\n",
    "\n",
    "file_name = basename(file_path)\n",
    "print(file_name)\n",
    "email_file.add_header('Content-Disposition', 'attachment', filename=file_name)\n",
    "msg.attach(email_file)"
   ]
  },
  {
   "cell_type": "code",
   "execution_count": 96,
   "metadata": {},
   "outputs": [],
   "source": [
    "smtp = smtplib.SMTP_SSL(SMTP_SERVER, SMTP_PORT)\n",
    "smtp.login(SMTP_USER, SMTP_PASSWORD)\n",
    "smtp.sendmail('@naver.com', ['@gmail.com', '@naver.com'], msg.as_string())\n",
    "smtp.close()"
   ]
  },
  {
   "cell_type": "markdown",
   "metadata": {},
   "source": [
    "---\n",
    "## 실습 3"
   ]
  },
  {
   "cell_type": "markdown",
   "metadata": {},
   "source": [
    "- 메일 발송 로직 함수 만들기\n",
    "- 함수명\n",
    "def send_mail(params):\n",
    "code_block"
   ]
  },
  {
   "cell_type": "markdown",
   "metadata": {},
   "source": []
  },
  {
   "cell_type": "markdown",
   "metadata": {},
   "source": [
    "---\n",
    "## 실습 4\n",
    "- 엑셀 파일을 활용해 결제완료한 수강생들에게 결제 확인 및 수강 안내 커리큘럼 이메일 발송"
   ]
  },
  {
   "cell_type": "code",
   "execution_count": 144,
   "metadata": {},
   "outputs": [],
   "source": [
    "import os\n",
    "import openpyxl\n",
    "FILE_PATH = './실습4/'\n",
    "os.listdir(FILE_PATH)\n",
    "\n",
    "wb = openpyxl.load_workbook(FILE_PATH + '수강생_결제정보.xlsx')\n",
    "ws = wb.active\n",
    "cells = ws['D2:D17']"
   ]
  },
  {
   "cell_type": "code",
   "execution_count": 145,
   "metadata": {},
   "outputs": [
    {
     "data": {
      "text/plain": [
       "((<Cell '결제정보'.D2>,),\n",
       " (<Cell '결제정보'.D3>,),\n",
       " (<Cell '결제정보'.D4>,),\n",
       " (<Cell '결제정보'.D5>,),\n",
       " (<Cell '결제정보'.D6>,),\n",
       " (<Cell '결제정보'.D7>,),\n",
       " (<Cell '결제정보'.D8>,),\n",
       " (<Cell '결제정보'.D9>,),\n",
       " (<Cell '결제정보'.D10>,),\n",
       " (<Cell '결제정보'.D11>,),\n",
       " (<Cell '결제정보'.D12>,),\n",
       " (<Cell '결제정보'.D13>,),\n",
       " (<Cell '결제정보'.D14>,),\n",
       " (<Cell '결제정보'.D15>,),\n",
       " (<Cell '결제정보'.D16>,),\n",
       " (<Cell '결제정보'.D17>,))"
      ]
     },
     "execution_count": 145,
     "metadata": {},
     "output_type": "execute_result"
    }
   ],
   "source": [
    "cells"
   ]
  },
  {
   "cell_type": "code",
   "execution_count": 146,
   "metadata": {},
   "outputs": [
    {
     "name": "stdout",
     "output_type": "stream",
     "text": [
      "결제완료\n",
      "결제완료\n",
      "결제완료\n",
      "결제완료\n",
      "결제완료\n",
      "결제완료\n",
      "미결제\n",
      "미결제\n",
      "미결제\n",
      "결제완료\n",
      "미결제\n",
      "결제완료\n",
      "결제완료\n",
      "미결제\n",
      "미결제\n",
      "결제완료\n"
     ]
    }
   ],
   "source": [
    "status_list = []\n",
    "for row in cells:\n",
    "    # print(row)\n",
    "    for cell in row:\n",
    "        print(cell.value)\n",
    "        status_list.append(cell.value)"
   ]
  },
  {
   "cell_type": "code",
   "execution_count": 147,
   "metadata": {},
   "outputs": [],
   "source": [
    "email_cells = []\n",
    "for idx, status in enumerate(status_list):\n",
    "    if status == '결제완료':\n",
    "        email_cells.append(f'B{idx+2}')"
   ]
  },
  {
   "cell_type": "code",
   "execution_count": 150,
   "metadata": {},
   "outputs": [],
   "source": [
    "cells2 = [ws[i] for i in email_cells]\n",
    "email_list = []\n",
    "for i in cells2:\n",
    "    email_list.append(i.value)"
   ]
  },
  {
   "cell_type": "code",
   "execution_count": null,
   "metadata": {},
   "outputs": [],
   "source": [
    "email_list"
   ]
  },
  {
   "cell_type": "code",
   "execution_count": 152,
   "metadata": {},
   "outputs": [
    {
     "name": "stdout",
     "output_type": "stream",
     "text": [
      "커리큘럼.xlsx\n"
     ]
    }
   ],
   "source": [
    "from email.mime.base import MIMEBase\n",
    "from email import encoders\n",
    "from os.path import basename\n",
    "email_file = MIMEBase('application', 'vnd.ms.excel')\n",
    "\n",
    "file_path = './실습4/커리큘럼.xlsx'\n",
    "\n",
    "with open(file_path, 'rb') as f:\n",
    "    file_data = f.read()\n",
    "\n",
    "email_file.set_payload(file_data)\n",
    "encoders.encode_base64(email_file)\n",
    "\n",
    "file_name = basename(file_path)\n",
    "print(file_name)\n",
    "email_file.add_header('Content-Disposition', 'attachment', filename=file_name)\n",
    "msg.attach(email_file)"
   ]
  },
  {
   "cell_type": "code",
   "execution_count": 154,
   "metadata": {},
   "outputs": [],
   "source": [
    "smtp = smtplib.SMTP_SSL(SMTP_SERVER, SMTP_PORT)\n",
    "smtp.login(SMTP_USER, SMTP_PASSWORD)\n",
    "smtp.sendmail('@naver.com', email_list, msg.as_string())\n",
    "smtp.close()"
   ]
  }
 ],
 "metadata": {
  "kernelspec": {
   "display_name": "base",
   "language": "python",
   "name": "python3"
  },
  "language_info": {
   "codemirror_mode": {
    "name": "ipython",
    "version": 3
   },
   "file_extension": ".py",
   "mimetype": "text/x-python",
   "name": "python",
   "nbconvert_exporter": "python",
   "pygments_lexer": "ipython3",
   "version": "3.10.9"
  },
  "orig_nbformat": 4
 },
 "nbformat": 4,
 "nbformat_minor": 2
}
