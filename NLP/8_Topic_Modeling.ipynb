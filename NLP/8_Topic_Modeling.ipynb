{
  "cells": [
    {
      "attachments": {},
      "cell_type": "markdown",
      "metadata": {
        "id": "_OzRnst_HJJu"
      },
      "source": [
        "# 토픽모델링 (Topic Modeling)"
      ]
    },
    {
      "attachments": {},
      "cell_type": "markdown",
      "metadata": {
        "id": "Xh94rk2QHMxR"
      },
      "source": [
        "# 0 환경"
      ]
    },
    {
      "cell_type": "code",
      "execution_count": 56,
      "metadata": {
        "id": "N-hrtKncHPL4"
      },
      "outputs": [
        {
          "name": "stderr",
          "output_type": "stream",
          "text": [
            "'sudo'��(��) ���� �Ǵ� �ܺ� ����, ������ �� �ִ� ���α׷�, �Ǵ�\n",
            "��ġ ������ �ƴմϴ�.\n"
          ]
        },
        {
          "name": "stderr",
          "output_type": "stream",
          "text": [
            "'sudo'��(��) ���� �Ǵ� �ܺ� ����, ������ �� �ִ� ���α׷�, �Ǵ�\n",
            "��ġ ������ �ƴմϴ�.\n",
            "'rm'��(��) ���� �Ǵ� �ܺ� ����, ������ �� �ִ� ���α׷�, �Ǵ�\n",
            "��ġ ������ �ƴմϴ�.\n"
          ]
        }
      ],
      "source": [
        "!sudo apt-get install -y fonts-nanum\n",
        "!sudo fc-cache -fv\n",
        "!rm ~/.cache/matplotlib -rf\n",
        "\n",
        "# 런타임 재시작 !"
      ]
    },
    {
      "cell_type": "code",
      "execution_count": 61,
      "metadata": {
        "id": "vMcxNcl_V0sM"
      },
      "outputs": [],
      "source": [
        "import matplotlib.pyplot as plt\n",
        "plt.rc('font', family='Malgun Gothic')\n",
        "plt.rcParams['axes.unicode_minus'] = False\n",
        "\n",
        "import warnings\n",
        "warnings.filterwarnings('ignore')"
      ]
    },
    {
      "cell_type": "code",
      "execution_count": 2,
      "metadata": {
        "colab": {
          "base_uri": "https://localhost:8080/"
        },
        "id": "6aki-vwzBSrE",
        "outputId": "a29f641f-fae5-4ad9-fb9d-bc71b8ec1a79"
      },
      "outputs": [
        {
          "name": "stderr",
          "output_type": "stream",
          "text": [
            "[nltk_data] Downloading package stopwords to\n",
            "[nltk_data]     C:\\Users\\user\\AppData\\Roaming\\nltk_data...\n",
            "[nltk_data]   Package stopwords is already up-to-date!\n"
          ]
        },
        {
          "data": {
            "text/plain": [
              "True"
            ]
          },
          "execution_count": 2,
          "metadata": {},
          "output_type": "execute_result"
        }
      ],
      "source": [
        "import nltk\n",
        "nltk.download('stopwords')"
      ]
    },
    {
      "attachments": {},
      "cell_type": "markdown",
      "metadata": {
        "id": "Jyp5nHXQsXez"
      },
      "source": [
        "# 1 잠재의미분석 (Latent Semantic Analysis LSA)"
      ]
    },
    {
      "cell_type": "code",
      "execution_count": 3,
      "metadata": {},
      "outputs": [],
      "source": [
        "from collections import defaultdict\n",
        "\n",
        "word2idx = defaultdict(lambda : len(word2idx))"
      ]
    },
    {
      "cell_type": "code",
      "execution_count": 4,
      "metadata": {},
      "outputs": [
        {
          "data": {
            "text/plain": [
              "defaultdict(<function __main__.<lambda>()>, {})"
            ]
          },
          "execution_count": 4,
          "metadata": {},
          "output_type": "execute_result"
        }
      ],
      "source": [
        "word2idx"
      ]
    },
    {
      "cell_type": "code",
      "execution_count": 5,
      "metadata": {},
      "outputs": [],
      "source": [
        "doc = 'kit kit test test'"
      ]
    },
    {
      "cell_type": "code",
      "execution_count": 6,
      "metadata": {},
      "outputs": [
        {
          "data": {
            "text/plain": [
              "['kit', 'kit', 'test', 'test']"
            ]
          },
          "execution_count": 6,
          "metadata": {},
          "output_type": "execute_result"
        }
      ],
      "source": [
        "doc.split()"
      ]
    },
    {
      "cell_type": "code",
      "execution_count": 7,
      "metadata": {},
      "outputs": [],
      "source": [
        "for token in doc.split():\n",
        "    word2idx[token]"
      ]
    },
    {
      "cell_type": "code",
      "execution_count": 8,
      "metadata": {},
      "outputs": [
        {
          "data": {
            "text/plain": [
              "{'kit': 0, 'test': 1}"
            ]
          },
          "execution_count": 8,
          "metadata": {},
          "output_type": "execute_result"
        }
      ],
      "source": [
        "dict(word2idx)"
      ]
    },
    {
      "cell_type": "code",
      "execution_count": 9,
      "metadata": {},
      "outputs": [
        {
          "name": "stdout",
          "output_type": "stream",
          "text": [
            "\u001b[1;31mInit signature:\u001b[0m \u001b[0mdefaultdict\u001b[0m\u001b[1;33m(\u001b[0m\u001b[0mself\u001b[0m\u001b[1;33m,\u001b[0m \u001b[1;33m/\u001b[0m\u001b[1;33m,\u001b[0m \u001b[1;33m*\u001b[0m\u001b[0margs\u001b[0m\u001b[1;33m,\u001b[0m \u001b[1;33m**\u001b[0m\u001b[0mkwargs\u001b[0m\u001b[1;33m)\u001b[0m\u001b[1;33m\u001b[0m\u001b[1;33m\u001b[0m\u001b[0m\n",
            "\u001b[1;31mDocstring:\u001b[0m     \n",
            "defaultdict(default_factory[, ...]) --> dict with default factory\n",
            "\n",
            "The default factory is called without arguments to produce\n",
            "a new value when a key is not present, in __getitem__ only.\n",
            "A defaultdict compares equal to a dict with the same items.\n",
            "All remaining arguments are treated the same as if they were\n",
            "passed to the dict constructor, including keyword arguments.\n",
            "\u001b[1;31mFile:\u001b[0m           c:\\users\\user\\anaconda3\\envs\\mecab\\lib\\collections\\__init__.py\n",
            "\u001b[1;31mType:\u001b[0m           type\n",
            "\u001b[1;31mSubclasses:\u001b[0m     Quoter, FreezableDefaultDict, ConditionalFreqDist, Index"
          ]
        }
      ],
      "source": [
        "defaultdict?"
      ]
    },
    {
      "cell_type": "code",
      "execution_count": 10,
      "metadata": {
        "id": "MFgOmDD84TkZ"
      },
      "outputs": [],
      "source": [
        "import numpy as np\n",
        "from collections import defaultdict\n",
        "from sklearn.metrics.pairwise import cosine_similarity\n",
        "from sklearn.decomposition import randomized_svd\n",
        "\n",
        "class LSA :\n",
        "    def __init__(self, doc_ls, topic_num):\n",
        "        self.doc_ls = doc_ls\n",
        "        self.topic_num = topic_num\n",
        "        self.term2idx, self.idx2term = self.toIdxDict(' '.join(doc_ls).split())\n",
        "        self.doc2idx, self.idx2doc = self.toIdxDict(doc_ls)\n",
        "\n",
        "        self.tdm = self.TDM(doc_ls)\n",
        "        self.U, self.s, self.VT = self.SVD(self.tdm)\n",
        "\n",
        "\n",
        "        self.term_mat = self.TermVectorMatrix(self.U, self.s, topic_num)\n",
        "        self.doc_mat = self.DocVectorMatrix(self.s, self.VT, topic_num)\n",
        "        self.term_doc_mat = self.TermDocVectorMatrix(self.U, self.s, self.VT, topic_num)\n",
        "\n",
        "        self.term_sim = self.TermSimilarityMatrix(np.asarray(self.term_mat).T)\n",
        "        self.doc_sim = self.DocSimilarityMartrix(np.asarray(self.doc_mat).T)\n",
        "\n",
        "    # 리스트내 값을 index로 변환하는 dict과\n",
        "    # index를 리스트내 값으로 변환하는 dict\n",
        "    def toIdxDict(self, ls) :\n",
        "        any2idx = defaultdict(lambda : len(any2idx))\n",
        "        idx2any = defaultdict()\n",
        "\n",
        "        for item in ls:\n",
        "            any2idx[item]\n",
        "            idx2any[any2idx[item]] = item\n",
        "\n",
        "        print(idx2any)\n",
        "        return any2idx, idx2any\n",
        "\n",
        "    def TDM(self, doc_ls):\n",
        "        # 행(토큰크기), 열(문서갯수)로 TDM 생성\n",
        "        tdm = np.zeros([len(self.term2idx.keys()), len(doc_ls)])\n",
        "\n",
        "        for doc_idx, doc in enumerate(doc_ls) :\n",
        "            for term in doc.split() :\n",
        "              #등장한 단어를 dictionary에서 위치를 탐색하여 빈도수 세기\n",
        "              tdm[self.term2idx[term], doc_idx] += 1\n",
        "        self.tdm = tdm\n",
        "\n",
        "        return tdm\n",
        "\n",
        "    # 특이값 분해\n",
        "    def SVD(self, tdm):\n",
        "        U, s, VT = randomized_svd(tdm,\n",
        "                                  n_components=self.topic_num,\n",
        "                                  n_iter=10,\n",
        "                                  random_state=None)\n",
        "\n",
        "        U, s, VT = np.linalg.svd(tdm, full_matrices=True)\n",
        "        return U, s, VT\n",
        "\n",
        "    # 토픽별 주요 키워드 출력\n",
        "    def TopicModeling(self, count = 3) :\n",
        "        topic_num = self.topic_num\n",
        "\n",
        "        for i in range(topic_num) :\n",
        "            score = self.U[:,i:i+1].T\n",
        "            print(score)\n",
        "            sorted_index = np.flip(np.argsort(-score),0)\n",
        "\n",
        "            a = []\n",
        "            for j in sorted_index[0,: count] :\n",
        "                a.append((self.idx2term[j], score[0,j].round(3)))\n",
        "\n",
        "            print(\"Topic {} - {}\".format(i+1,a ))\n",
        "\n",
        "    def vectorSimilarity(self, matrix) :\n",
        "        cos_sim = cosine_similarity(matrix, matrix)\n",
        "        return cos_sim\n",
        "\n",
        "    # 키워드를 입력했을 때 단어 벡터 반환\n",
        "    def GetTermVector(self, term):\n",
        "        vec = self.term_mat[self.term2idx[term]:self.term2idx[term]+1,:]\n",
        "        print('{} = {}'.format(term, vec))\n",
        "        return vec\n",
        "\n",
        "    # 문서를 입력했을 때 문서 벡터 반환\n",
        "    def GetDocVector(self, doc):\n",
        "        vec = self.doc_mat.T[self.doc2idx[doc]:self.doc2idx[doc]+1,:]\n",
        "        print('{} = {}'.format(doc, vec))\n",
        "        return vec\n",
        "\n",
        "    def Compression(self, round_num=0) :\n",
        "        print(self.tdm)\n",
        "        print(self.term_doc_mat.round(round_num))\n",
        "\n",
        "    def TermVectorMatrix(self, u, s, topic_num):\n",
        "        term_mat = np.matrix(u[:, :topic_num])# * np.diag(s[:topic_num])\n",
        "        return term_mat\n",
        "\n",
        "    def DocVectorMatrix(self, s, vt, topic_num):\n",
        "        doc_mat = np.matrix(vt[:topic_num,:])\n",
        "        return doc_mat\n",
        "\n",
        "    def TermDocVectorMatrix(self, u, s, vt, topic_num):\n",
        "        term_doc_mat = np.matrix(u[:, :topic_num]) * np.diag(s[:topic_num])  * np.matrix(vt[:topic_num,:])\n",
        "        return term_doc_mat\n",
        "\n",
        "    def TermSimilarityMatrix(self, termVectorMatrix):\n",
        "        return self.vectorSimilarity(termVectorMatrix.T)\n",
        "\n",
        "    def GetTermSimilarity(self, term1, term2):\n",
        "        sim = self.term_sim[self.term2idx[term1], self.term2idx[term2]]\n",
        "        print(\"({},{}) term similarity = {}\".format(term1, term2, sim))\n",
        "        return sim\n",
        "\n",
        "    def DocSimilarityMartrix(self,docVectorMatrix):\n",
        "        return self.vectorSimilarity(docVectorMatrix)\n",
        "\n",
        "    def GetDocSimilarity(self, doc1, doc2):\n",
        "        sim = self.doc_sim[self.doc2idx[doc1], self.doc2idx[doc2]]\n",
        "        print(\"('{}','{}') doc similarity = {}\".format(doc1, doc2, sim))\n",
        "        return sim"
      ]
    },
    {
      "cell_type": "code",
      "execution_count": 11,
      "metadata": {
        "colab": {
          "base_uri": "https://localhost:8080/"
        },
        "id": "on3YdPBZp2te",
        "outputId": "43832bc8-9416-4930-d788-d30764b7ec0b"
      },
      "outputs": [
        {
          "name": "stdout",
          "output_type": "stream",
          "text": [
            "defaultdict(None, {0: '바나나', 1: '사과', 2: '포도', 3: '짜장면', 4: '짬뽕', 5: '탕수육', 6: '볶음밥', 7: '라면', 8: '스시', 9: '가츠동', 10: '소바', 11: '된장찌개', 12: '김치찌개', 13: '김치', 14: '된장', 15: '비빔밥'})\n",
            "defaultdict(None, {0: '바나나 사과 포도 포도 짜장면', 1: '사과 포도', 2: '포도 바나나', 3: '짜장면 짬뽕 탕수육', 4: '볶음밥 탕수육', 5: '짜장면 짬뽕', 6: '라면 스시', 7: '스시 짜장면', 8: '가츠동 스시 소바', 9: '된장찌개 김치찌개 김치', 10: '김치 된장 짜장면', 11: '비빔밥 김치'})\n",
            "== 토픽 모델링 ==\n",
            "[[-0.34843127 -0.34843127 -0.69686254 -0.48563449 -0.12448389 -0.0736207\n",
            "  -0.00783718 -0.00733397 -0.06889362 -0.0082077  -0.0082077  -0.00922069\n",
            "  -0.00922069 -0.07739641 -0.0599366  -0.00823912]]\n",
            "Topic 1 - [('라면', -0.007), ('볶음밥', -0.008), ('가츠동', -0.008)]\n",
            "[[-0.19370961 -0.19370961 -0.38741921  0.58415588  0.3555557   0.24835482\n",
            "   0.04982669  0.05136218  0.25600828  0.06425309  0.06425309  0.0845808\n",
            "   0.0845808   0.33700147  0.18480907  0.06761161]]\n",
            "Topic 2 - [('짜장면', 0.584), ('짬뽕', 0.356), ('김치', 0.337)]\n",
            "[[-0.01592593 -0.01592593 -0.03185185  0.07468389  0.10291629  0.0884251\n",
            "   0.02671012  0.15788435  0.52268348  0.22621639  0.22621639 -0.26439785\n",
            "  -0.26439785 -0.61090353 -0.16197315 -0.18453253]]\n",
            "Topic 3 - [('스시', 0.523), ('가츠동', 0.226), ('소바', 0.226)]\n",
            "[[ 0.03744775  0.03744775  0.07489549 -0.18737521 -0.34945274 -0.3228814\n",
            "  -0.10775805  0.18435345  0.55238845  0.27669846  0.27669846  0.1860217\n",
            "   0.1860217   0.37136542  0.06140467  0.12393905]]\n",
            "Topic 4 - [('스시', 0.552), ('김치', 0.371), ('가츠동', 0.277)]\n"
          ]
        }
      ],
      "source": [
        "doc_ls = [\n",
        "    '바나나 사과 포도 포도 짜장면',\n",
        "    '사과 포도',\n",
        "    '포도 바나나',\n",
        "    '짜장면 짬뽕 탕수육',\n",
        "    '볶음밥 탕수육',\n",
        "    '짜장면 짬뽕',\n",
        "    '라면 스시',\n",
        "    '스시 짜장면',\n",
        "    '가츠동 스시 소바',\n",
        "    '된장찌개 김치찌개 김치',\n",
        "    '김치 된장 짜장면',\n",
        "    '비빔밥 김치'\n",
        "]\n",
        "lsa = LSA(doc_ls, 4)\n",
        "print('== 토픽 모델링 ==')\n",
        "lsa.TopicModeling(3)"
      ]
    },
    {
      "cell_type": "code",
      "execution_count": 12,
      "metadata": {},
      "outputs": [
        {
          "data": {
            "text/html": [
              "<div>\n",
              "<style scoped>\n",
              "    .dataframe tbody tr th:only-of-type {\n",
              "        vertical-align: middle;\n",
              "    }\n",
              "\n",
              "    .dataframe tbody tr th {\n",
              "        vertical-align: top;\n",
              "    }\n",
              "\n",
              "    .dataframe thead th {\n",
              "        text-align: right;\n",
              "    }\n",
              "</style>\n",
              "<table border=\"1\" class=\"dataframe\">\n",
              "  <thead>\n",
              "    <tr style=\"text-align: right;\">\n",
              "      <th></th>\n",
              "      <th>0</th>\n",
              "      <th>1</th>\n",
              "      <th>2</th>\n",
              "      <th>3</th>\n",
              "      <th>4</th>\n",
              "      <th>5</th>\n",
              "      <th>6</th>\n",
              "      <th>7</th>\n",
              "      <th>8</th>\n",
              "      <th>9</th>\n",
              "      <th>10</th>\n",
              "      <th>11</th>\n",
              "    </tr>\n",
              "  </thead>\n",
              "  <tbody>\n",
              "    <tr>\n",
              "      <th>바나나</th>\n",
              "      <td>1.0</td>\n",
              "      <td>0.0</td>\n",
              "      <td>1.0</td>\n",
              "      <td>0.0</td>\n",
              "      <td>0.0</td>\n",
              "      <td>0.0</td>\n",
              "      <td>0.0</td>\n",
              "      <td>0.0</td>\n",
              "      <td>0.0</td>\n",
              "      <td>0.0</td>\n",
              "      <td>0.0</td>\n",
              "      <td>0.0</td>\n",
              "    </tr>\n",
              "    <tr>\n",
              "      <th>사과</th>\n",
              "      <td>1.0</td>\n",
              "      <td>1.0</td>\n",
              "      <td>0.0</td>\n",
              "      <td>0.0</td>\n",
              "      <td>0.0</td>\n",
              "      <td>0.0</td>\n",
              "      <td>0.0</td>\n",
              "      <td>0.0</td>\n",
              "      <td>0.0</td>\n",
              "      <td>0.0</td>\n",
              "      <td>0.0</td>\n",
              "      <td>0.0</td>\n",
              "    </tr>\n",
              "    <tr>\n",
              "      <th>포도</th>\n",
              "      <td>2.0</td>\n",
              "      <td>1.0</td>\n",
              "      <td>1.0</td>\n",
              "      <td>0.0</td>\n",
              "      <td>0.0</td>\n",
              "      <td>0.0</td>\n",
              "      <td>0.0</td>\n",
              "      <td>0.0</td>\n",
              "      <td>0.0</td>\n",
              "      <td>0.0</td>\n",
              "      <td>0.0</td>\n",
              "      <td>0.0</td>\n",
              "    </tr>\n",
              "    <tr>\n",
              "      <th>짜장면</th>\n",
              "      <td>1.0</td>\n",
              "      <td>0.0</td>\n",
              "      <td>0.0</td>\n",
              "      <td>1.0</td>\n",
              "      <td>0.0</td>\n",
              "      <td>1.0</td>\n",
              "      <td>0.0</td>\n",
              "      <td>1.0</td>\n",
              "      <td>0.0</td>\n",
              "      <td>0.0</td>\n",
              "      <td>1.0</td>\n",
              "      <td>0.0</td>\n",
              "    </tr>\n",
              "    <tr>\n",
              "      <th>짬뽕</th>\n",
              "      <td>0.0</td>\n",
              "      <td>0.0</td>\n",
              "      <td>0.0</td>\n",
              "      <td>1.0</td>\n",
              "      <td>0.0</td>\n",
              "      <td>1.0</td>\n",
              "      <td>0.0</td>\n",
              "      <td>0.0</td>\n",
              "      <td>0.0</td>\n",
              "      <td>0.0</td>\n",
              "      <td>0.0</td>\n",
              "      <td>0.0</td>\n",
              "    </tr>\n",
              "    <tr>\n",
              "      <th>탕수육</th>\n",
              "      <td>0.0</td>\n",
              "      <td>0.0</td>\n",
              "      <td>0.0</td>\n",
              "      <td>1.0</td>\n",
              "      <td>1.0</td>\n",
              "      <td>0.0</td>\n",
              "      <td>0.0</td>\n",
              "      <td>0.0</td>\n",
              "      <td>0.0</td>\n",
              "      <td>0.0</td>\n",
              "      <td>0.0</td>\n",
              "      <td>0.0</td>\n",
              "    </tr>\n",
              "    <tr>\n",
              "      <th>볶음밥</th>\n",
              "      <td>0.0</td>\n",
              "      <td>0.0</td>\n",
              "      <td>0.0</td>\n",
              "      <td>0.0</td>\n",
              "      <td>1.0</td>\n",
              "      <td>0.0</td>\n",
              "      <td>0.0</td>\n",
              "      <td>0.0</td>\n",
              "      <td>0.0</td>\n",
              "      <td>0.0</td>\n",
              "      <td>0.0</td>\n",
              "      <td>0.0</td>\n",
              "    </tr>\n",
              "    <tr>\n",
              "      <th>라면</th>\n",
              "      <td>0.0</td>\n",
              "      <td>0.0</td>\n",
              "      <td>0.0</td>\n",
              "      <td>0.0</td>\n",
              "      <td>0.0</td>\n",
              "      <td>0.0</td>\n",
              "      <td>1.0</td>\n",
              "      <td>0.0</td>\n",
              "      <td>0.0</td>\n",
              "      <td>0.0</td>\n",
              "      <td>0.0</td>\n",
              "      <td>0.0</td>\n",
              "    </tr>\n",
              "    <tr>\n",
              "      <th>스시</th>\n",
              "      <td>0.0</td>\n",
              "      <td>0.0</td>\n",
              "      <td>0.0</td>\n",
              "      <td>0.0</td>\n",
              "      <td>0.0</td>\n",
              "      <td>0.0</td>\n",
              "      <td>1.0</td>\n",
              "      <td>1.0</td>\n",
              "      <td>1.0</td>\n",
              "      <td>0.0</td>\n",
              "      <td>0.0</td>\n",
              "      <td>0.0</td>\n",
              "    </tr>\n",
              "    <tr>\n",
              "      <th>가츠동</th>\n",
              "      <td>0.0</td>\n",
              "      <td>0.0</td>\n",
              "      <td>0.0</td>\n",
              "      <td>0.0</td>\n",
              "      <td>0.0</td>\n",
              "      <td>0.0</td>\n",
              "      <td>0.0</td>\n",
              "      <td>0.0</td>\n",
              "      <td>1.0</td>\n",
              "      <td>0.0</td>\n",
              "      <td>0.0</td>\n",
              "      <td>0.0</td>\n",
              "    </tr>\n",
              "    <tr>\n",
              "      <th>소바</th>\n",
              "      <td>0.0</td>\n",
              "      <td>0.0</td>\n",
              "      <td>0.0</td>\n",
              "      <td>0.0</td>\n",
              "      <td>0.0</td>\n",
              "      <td>0.0</td>\n",
              "      <td>0.0</td>\n",
              "      <td>0.0</td>\n",
              "      <td>1.0</td>\n",
              "      <td>0.0</td>\n",
              "      <td>0.0</td>\n",
              "      <td>0.0</td>\n",
              "    </tr>\n",
              "    <tr>\n",
              "      <th>된장찌개</th>\n",
              "      <td>0.0</td>\n",
              "      <td>0.0</td>\n",
              "      <td>0.0</td>\n",
              "      <td>0.0</td>\n",
              "      <td>0.0</td>\n",
              "      <td>0.0</td>\n",
              "      <td>0.0</td>\n",
              "      <td>0.0</td>\n",
              "      <td>0.0</td>\n",
              "      <td>1.0</td>\n",
              "      <td>0.0</td>\n",
              "      <td>0.0</td>\n",
              "    </tr>\n",
              "    <tr>\n",
              "      <th>김치찌개</th>\n",
              "      <td>0.0</td>\n",
              "      <td>0.0</td>\n",
              "      <td>0.0</td>\n",
              "      <td>0.0</td>\n",
              "      <td>0.0</td>\n",
              "      <td>0.0</td>\n",
              "      <td>0.0</td>\n",
              "      <td>0.0</td>\n",
              "      <td>0.0</td>\n",
              "      <td>1.0</td>\n",
              "      <td>0.0</td>\n",
              "      <td>0.0</td>\n",
              "    </tr>\n",
              "    <tr>\n",
              "      <th>김치</th>\n",
              "      <td>0.0</td>\n",
              "      <td>0.0</td>\n",
              "      <td>0.0</td>\n",
              "      <td>0.0</td>\n",
              "      <td>0.0</td>\n",
              "      <td>0.0</td>\n",
              "      <td>0.0</td>\n",
              "      <td>0.0</td>\n",
              "      <td>0.0</td>\n",
              "      <td>1.0</td>\n",
              "      <td>1.0</td>\n",
              "      <td>1.0</td>\n",
              "    </tr>\n",
              "    <tr>\n",
              "      <th>된장</th>\n",
              "      <td>0.0</td>\n",
              "      <td>0.0</td>\n",
              "      <td>0.0</td>\n",
              "      <td>0.0</td>\n",
              "      <td>0.0</td>\n",
              "      <td>0.0</td>\n",
              "      <td>0.0</td>\n",
              "      <td>0.0</td>\n",
              "      <td>0.0</td>\n",
              "      <td>0.0</td>\n",
              "      <td>1.0</td>\n",
              "      <td>0.0</td>\n",
              "    </tr>\n",
              "    <tr>\n",
              "      <th>비빔밥</th>\n",
              "      <td>0.0</td>\n",
              "      <td>0.0</td>\n",
              "      <td>0.0</td>\n",
              "      <td>0.0</td>\n",
              "      <td>0.0</td>\n",
              "      <td>0.0</td>\n",
              "      <td>0.0</td>\n",
              "      <td>0.0</td>\n",
              "      <td>0.0</td>\n",
              "      <td>0.0</td>\n",
              "      <td>0.0</td>\n",
              "      <td>1.0</td>\n",
              "    </tr>\n",
              "  </tbody>\n",
              "</table>\n",
              "</div>"
            ],
            "text/plain": [
              "       0    1    2    3    4    5    6    7    8    9    10   11\n",
              "바나나   1.0  0.0  1.0  0.0  0.0  0.0  0.0  0.0  0.0  0.0  0.0  0.0\n",
              "사과    1.0  1.0  0.0  0.0  0.0  0.0  0.0  0.0  0.0  0.0  0.0  0.0\n",
              "포도    2.0  1.0  1.0  0.0  0.0  0.0  0.0  0.0  0.0  0.0  0.0  0.0\n",
              "짜장면   1.0  0.0  0.0  1.0  0.0  1.0  0.0  1.0  0.0  0.0  1.0  0.0\n",
              "짬뽕    0.0  0.0  0.0  1.0  0.0  1.0  0.0  0.0  0.0  0.0  0.0  0.0\n",
              "탕수육   0.0  0.0  0.0  1.0  1.0  0.0  0.0  0.0  0.0  0.0  0.0  0.0\n",
              "볶음밥   0.0  0.0  0.0  0.0  1.0  0.0  0.0  0.0  0.0  0.0  0.0  0.0\n",
              "라면    0.0  0.0  0.0  0.0  0.0  0.0  1.0  0.0  0.0  0.0  0.0  0.0\n",
              "스시    0.0  0.0  0.0  0.0  0.0  0.0  1.0  1.0  1.0  0.0  0.0  0.0\n",
              "가츠동   0.0  0.0  0.0  0.0  0.0  0.0  0.0  0.0  1.0  0.0  0.0  0.0\n",
              "소바    0.0  0.0  0.0  0.0  0.0  0.0  0.0  0.0  1.0  0.0  0.0  0.0\n",
              "된장찌개  0.0  0.0  0.0  0.0  0.0  0.0  0.0  0.0  0.0  1.0  0.0  0.0\n",
              "김치찌개  0.0  0.0  0.0  0.0  0.0  0.0  0.0  0.0  0.0  1.0  0.0  0.0\n",
              "김치    0.0  0.0  0.0  0.0  0.0  0.0  0.0  0.0  0.0  1.0  1.0  1.0\n",
              "된장    0.0  0.0  0.0  0.0  0.0  0.0  0.0  0.0  0.0  0.0  1.0  0.0\n",
              "비빔밥   0.0  0.0  0.0  0.0  0.0  0.0  0.0  0.0  0.0  0.0  0.0  1.0"
            ]
          },
          "execution_count": 12,
          "metadata": {},
          "output_type": "execute_result"
        }
      ],
      "source": [
        "import pandas as pd\n",
        "pd.DataFrame(lsa.tdm, columns=lsa.idx2doc, index=lsa.term2idx)"
      ]
    },
    {
      "cell_type": "code",
      "execution_count": 13,
      "metadata": {
        "colab": {
          "base_uri": "https://localhost:8080/"
        },
        "id": "4jMEhMzVdBIX",
        "outputId": "1f33450b-a621-48cb-d395-6fd2045532ad"
      },
      "outputs": [
        {
          "data": {
            "text/plain": [
              "array([[1., 0., 1., 0., 0., 0., 0., 0., 0., 0., 0., 0.],\n",
              "       [1., 1., 0., 0., 0., 0., 0., 0., 0., 0., 0., 0.],\n",
              "       [2., 1., 1., 0., 0., 0., 0., 0., 0., 0., 0., 0.],\n",
              "       [1., 0., 0., 1., 0., 1., 0., 1., 0., 0., 1., 0.],\n",
              "       [0., 0., 0., 1., 0., 1., 0., 0., 0., 0., 0., 0.],\n",
              "       [0., 0., 0., 1., 1., 0., 0., 0., 0., 0., 0., 0.],\n",
              "       [0., 0., 0., 0., 1., 0., 0., 0., 0., 0., 0., 0.],\n",
              "       [0., 0., 0., 0., 0., 0., 1., 0., 0., 0., 0., 0.],\n",
              "       [0., 0., 0., 0., 0., 0., 1., 1., 1., 0., 0., 0.],\n",
              "       [0., 0., 0., 0., 0., 0., 0., 0., 1., 0., 0., 0.],\n",
              "       [0., 0., 0., 0., 0., 0., 0., 0., 1., 0., 0., 0.],\n",
              "       [0., 0., 0., 0., 0., 0., 0., 0., 0., 1., 0., 0.],\n",
              "       [0., 0., 0., 0., 0., 0., 0., 0., 0., 1., 0., 0.],\n",
              "       [0., 0., 0., 0., 0., 0., 0., 0., 0., 1., 1., 1.],\n",
              "       [0., 0., 0., 0., 0., 0., 0., 0., 0., 0., 1., 0.],\n",
              "       [0., 0., 0., 0., 0., 0., 0., 0., 0., 0., 0., 1.]])"
            ]
          },
          "execution_count": 13,
          "metadata": {},
          "output_type": "execute_result"
        }
      ],
      "source": [
        "lsa.tdm"
      ]
    },
    {
      "cell_type": "code",
      "execution_count": 14,
      "metadata": {
        "id": "DcS6Ug9hbuAv"
      },
      "outputs": [
        {
          "name": "stdout",
          "output_type": "stream",
          "text": [
            "\u001b[1;31mSignature:\u001b[0m \u001b[0mnp\u001b[0m\u001b[1;33m.\u001b[0m\u001b[0mlinalg\u001b[0m\u001b[1;33m.\u001b[0m\u001b[0msvd\u001b[0m\u001b[1;33m(\u001b[0m\u001b[0ma\u001b[0m\u001b[1;33m,\u001b[0m \u001b[0mfull_matrices\u001b[0m\u001b[1;33m=\u001b[0m\u001b[1;32mTrue\u001b[0m\u001b[1;33m,\u001b[0m \u001b[0mcompute_uv\u001b[0m\u001b[1;33m=\u001b[0m\u001b[1;32mTrue\u001b[0m\u001b[1;33m,\u001b[0m \u001b[0mhermitian\u001b[0m\u001b[1;33m=\u001b[0m\u001b[1;32mFalse\u001b[0m\u001b[1;33m)\u001b[0m\u001b[1;33m\u001b[0m\u001b[1;33m\u001b[0m\u001b[0m\n",
            "\u001b[1;31mDocstring:\u001b[0m\n",
            "Singular Value Decomposition.\n",
            "\n",
            "When `a` is a 2D array, and ``full_matrices=False``, then it is\n",
            "factorized as ``u @ np.diag(s) @ vh = (u * s) @ vh``, where\n",
            "`u` and the Hermitian transpose of `vh` are 2D arrays with\n",
            "orthonormal columns and `s` is a 1D array of `a`'s singular\n",
            "values. When `a` is higher-dimensional, SVD is applied in\n",
            "stacked mode as explained below.\n",
            "\n",
            "Parameters\n",
            "----------\n",
            "a : (..., M, N) array_like\n",
            "    A real or complex array with ``a.ndim >= 2``.\n",
            "full_matrices : bool, optional\n",
            "    If True (default), `u` and `vh` have the shapes ``(..., M, M)`` and\n",
            "    ``(..., N, N)``, respectively.  Otherwise, the shapes are\n",
            "    ``(..., M, K)`` and ``(..., K, N)``, respectively, where\n",
            "    ``K = min(M, N)``.\n",
            "compute_uv : bool, optional\n",
            "    Whether or not to compute `u` and `vh` in addition to `s`.  True\n",
            "    by default.\n",
            "hermitian : bool, optional\n",
            "    If True, `a` is assumed to be Hermitian (symmetric if real-valued),\n",
            "    enabling a more efficient method for finding singular values.\n",
            "    Defaults to False.\n",
            "\n",
            "    .. versionadded:: 1.17.0\n",
            "\n",
            "Returns\n",
            "-------\n",
            "u : { (..., M, M), (..., M, K) } array\n",
            "    Unitary array(s). The first ``a.ndim - 2`` dimensions have the same\n",
            "    size as those of the input `a`. The size of the last two dimensions\n",
            "    depends on the value of `full_matrices`. Only returned when\n",
            "    `compute_uv` is True.\n",
            "s : (..., K) array\n",
            "    Vector(s) with the singular values, within each vector sorted in\n",
            "    descending order. The first ``a.ndim - 2`` dimensions have the same\n",
            "    size as those of the input `a`.\n",
            "vh : { (..., N, N), (..., K, N) } array\n",
            "    Unitary array(s). The first ``a.ndim - 2`` dimensions have the same\n",
            "    size as those of the input `a`. The size of the last two dimensions\n",
            "    depends on the value of `full_matrices`. Only returned when\n",
            "    `compute_uv` is True.\n",
            "\n",
            "Raises\n",
            "------\n",
            "LinAlgError\n",
            "    If SVD computation does not converge.\n",
            "\n",
            "See Also\n",
            "--------\n",
            "scipy.linalg.svd : Similar function in SciPy.\n",
            "scipy.linalg.svdvals : Compute singular values of a matrix.\n",
            "\n",
            "Notes\n",
            "-----\n",
            "\n",
            ".. versionchanged:: 1.8.0\n",
            "   Broadcasting rules apply, see the `numpy.linalg` documentation for\n",
            "   details.\n",
            "\n",
            "The decomposition is performed using LAPACK routine ``_gesdd``.\n",
            "\n",
            "SVD is usually described for the factorization of a 2D matrix :math:`A`.\n",
            "The higher-dimensional case will be discussed below. In the 2D case, SVD is\n",
            "written as :math:`A = U S V^H`, where :math:`A = a`, :math:`U= u`,\n",
            ":math:`S= \\mathtt{np.diag}(s)` and :math:`V^H = vh`. The 1D array `s`\n",
            "contains the singular values of `a` and `u` and `vh` are unitary. The rows\n",
            "of `vh` are the eigenvectors of :math:`A^H A` and the columns of `u` are\n",
            "the eigenvectors of :math:`A A^H`. In both cases the corresponding\n",
            "(possibly non-zero) eigenvalues are given by ``s**2``.\n",
            "\n",
            "If `a` has more than two dimensions, then broadcasting rules apply, as\n",
            "explained in :ref:`routines.linalg-broadcasting`. This means that SVD is\n",
            "working in \"stacked\" mode: it iterates over all indices of the first\n",
            "``a.ndim - 2`` dimensions and for each combination SVD is applied to the\n",
            "last two indices. The matrix `a` can be reconstructed from the\n",
            "decomposition with either ``(u * s[..., None, :]) @ vh`` or\n",
            "``u @ (s[..., None] * vh)``. (The ``@`` operator can be replaced by the\n",
            "function ``np.matmul`` for python versions below 3.5.)\n",
            "\n",
            "If `a` is a ``matrix`` object (as opposed to an ``ndarray``), then so are\n",
            "all the return values.\n",
            "\n",
            "Examples\n",
            "--------\n",
            ">>> a = np.random.randn(9, 6) + 1j*np.random.randn(9, 6)\n",
            ">>> b = np.random.randn(2, 7, 8, 3) + 1j*np.random.randn(2, 7, 8, 3)\n",
            "\n",
            "Reconstruction based on full SVD, 2D case:\n",
            "\n",
            ">>> u, s, vh = np.linalg.svd(a, full_matrices=True)\n",
            ">>> u.shape, s.shape, vh.shape\n",
            "((9, 9), (6,), (6, 6))\n",
            ">>> np.allclose(a, np.dot(u[:, :6] * s, vh))\n",
            "True\n",
            ">>> smat = np.zeros((9, 6), dtype=complex)\n",
            ">>> smat[:6, :6] = np.diag(s)\n",
            ">>> np.allclose(a, np.dot(u, np.dot(smat, vh)))\n",
            "True\n",
            "\n",
            "Reconstruction based on reduced SVD, 2D case:\n",
            "\n",
            ">>> u, s, vh = np.linalg.svd(a, full_matrices=False)\n",
            ">>> u.shape, s.shape, vh.shape\n",
            "((9, 6), (6,), (6, 6))\n",
            ">>> np.allclose(a, np.dot(u * s, vh))\n",
            "True\n",
            ">>> smat = np.diag(s)\n",
            ">>> np.allclose(a, np.dot(u, np.dot(smat, vh)))\n",
            "True\n",
            "\n",
            "Reconstruction based on full SVD, 4D case:\n",
            "\n",
            ">>> u, s, vh = np.linalg.svd(b, full_matrices=True)\n",
            ">>> u.shape, s.shape, vh.shape\n",
            "((2, 7, 8, 8), (2, 7, 3), (2, 7, 3, 3))\n",
            ">>> np.allclose(b, np.matmul(u[..., :3] * s[..., None, :], vh))\n",
            "True\n",
            ">>> np.allclose(b, np.matmul(u[..., :3], s[..., None] * vh))\n",
            "True\n",
            "\n",
            "Reconstruction based on reduced SVD, 4D case:\n",
            "\n",
            ">>> u, s, vh = np.linalg.svd(b, full_matrices=False)\n",
            ">>> u.shape, s.shape, vh.shape\n",
            "((2, 7, 8, 3), (2, 7, 3), (2, 7, 3, 3))\n",
            ">>> np.allclose(b, np.matmul(u * s[..., None, :], vh))\n",
            "True\n",
            ">>> np.allclose(b, np.matmul(u, s[..., None] * vh))\n",
            "True\n",
            "\u001b[1;31mFile:\u001b[0m      c:\\users\\user\\anaconda3\\envs\\mecab\\lib\\site-packages\\numpy\\linalg\\linalg.py\n",
            "\u001b[1;31mType:\u001b[0m      function"
          ]
        }
      ],
      "source": [
        "np.linalg.svd?"
      ]
    },
    {
      "cell_type": "code",
      "execution_count": 15,
      "metadata": {
        "colab": {
          "base_uri": "https://localhost:8080/"
        },
        "id": "JqZnr8SX86qt",
        "outputId": "2cb24c69-46e1-44ee-a323-03118c5fac7c"
      },
      "outputs": [
        {
          "name": "stdout",
          "output_type": "stream",
          "text": [
            "defaultdict(None, {0: '바나나', 1: '사과', 2: '포도', 3: '짜장면', 4: '짬뽕', 5: '탕수육', 6: '볶음밥', 7: '라면', 8: '스시', 9: '가츠동', 10: '소바', 11: '된장찌개', 12: '김치찌개', 13: '김치', 14: '된장', 15: '비빔밥'})\n",
            "defaultdict(None, {0: '바나나 사과 포도 포도 짜장면', 1: '사과 포도', 2: '포도 바나나', 3: '짜장면 짬뽕 탕수육', 4: '볶음밥 탕수육', 5: '짜장면 짬뽕', 6: '라면 스시', 7: '스시 짜장면', 8: '가츠동 스시 소바', 9: '된장찌개 김치찌개 김치', 10: '김치 된장 짜장면', 11: '비빔밥 김치'})\n",
            "== 토픽 모델링 ==\n",
            "[[-0.34843127 -0.34843127 -0.69686254 -0.48563449 -0.12448389 -0.0736207\n",
            "  -0.00783718 -0.00733397 -0.06889362 -0.0082077  -0.0082077  -0.00922069\n",
            "  -0.00922069 -0.07739641 -0.0599366  -0.00823912]]\n",
            "Topic 1 - [('라면', -0.007), ('볶음밥', -0.008), ('가츠동', -0.008), ('소바', -0.008)]\n",
            "[[-0.19370961 -0.19370961 -0.38741921  0.58415588  0.3555557   0.24835482\n",
            "   0.04982669  0.05136218  0.25600828  0.06425309  0.06425309  0.0845808\n",
            "   0.0845808   0.33700147  0.18480907  0.06761161]]\n",
            "Topic 2 - [('짜장면', 0.584), ('짬뽕', 0.356), ('김치', 0.337), ('스시', 0.256)]\n",
            "[[-0.01592593 -0.01592593 -0.03185185  0.07468389  0.10291629  0.0884251\n",
            "   0.02671012  0.15788435  0.52268348  0.22621639  0.22621639 -0.26439785\n",
            "  -0.26439785 -0.61090353 -0.16197315 -0.18453253]]\n",
            "Topic 3 - [('스시', 0.523), ('가츠동', 0.226), ('소바', 0.226), ('라면', 0.158)]\n",
            "[[ 0.03744775  0.03744775  0.07489549 -0.18737521 -0.34945274 -0.3228814\n",
            "  -0.10775805  0.18435345  0.55238845  0.27669846  0.27669846  0.1860217\n",
            "   0.1860217   0.37136542  0.06140467  0.12393905]]\n",
            "Topic 4 - [('스시', 0.552), ('김치', 0.371), ('가츠동', 0.277), ('소바', 0.277)]\n"
          ]
        }
      ],
      "source": [
        "doc_ls = [\n",
        "    '바나나 사과 포도 포도 짜장면',\n",
        "    '사과 포도',\n",
        "    '포도 바나나',\n",
        "    '짜장면 짬뽕 탕수육',\n",
        "    '볶음밥 탕수육',\n",
        "    '짜장면 짬뽕',\n",
        "    '라면 스시',\n",
        "    '스시 짜장면',\n",
        "    '가츠동 스시 소바',\n",
        "    '된장찌개 김치찌개 김치',\n",
        "    '김치 된장 짜장면',\n",
        "    '비빔밥 김치'\n",
        "]\n",
        "lsa = LSA(doc_ls, 4)\n",
        "X = lsa.TDM(doc_ls)\n",
        "print('== 토픽 모델링 ==')\n",
        "lsa.TopicModeling(4)"
      ]
    },
    {
      "cell_type": "code",
      "execution_count": 16,
      "metadata": {},
      "outputs": [
        {
          "name": "stdout",
          "output_type": "stream",
          "text": [
            "\n",
            "== 단어 벡터 ==\n",
            "사과 = [[-0.34843127 -0.19370961 -0.01592593  0.03744775]]\n",
            "짜장면 = [[-0.48563449  0.58415588  0.07468389 -0.18737521]]\n"
          ]
        },
        {
          "data": {
            "text/plain": [
              "(matrix([[-0.34843127, -0.19370961, -0.01592593,  0.03744775]]),\n",
              " matrix([[-0.48563449,  0.58415588,  0.07468389, -0.18737521]]))"
            ]
          },
          "execution_count": 16,
          "metadata": {},
          "output_type": "execute_result"
        }
      ],
      "source": [
        "print('\\n== 단어 벡터 ==')\n",
        "lsa.GetTermVector('사과'), lsa.GetTermVector('짜장면')"
      ]
    },
    {
      "cell_type": "code",
      "execution_count": 17,
      "metadata": {},
      "outputs": [
        {
          "name": "stdout",
          "output_type": "stream",
          "text": [
            "\n",
            "== 단어 유사도 ==\n",
            "(사과,바나나) term similarity = 1.0\n",
            "(사과,짜장면) term similarity = 0.15191335214807059\n",
            "(포도,짜장면) term similarity = 0.15191335214806986\n",
            "(사과,스시) term similarity = -0.040978252027327265\n"
          ]
        },
        {
          "data": {
            "text/plain": [
              "-0.040978252027327265"
            ]
          },
          "execution_count": 17,
          "metadata": {},
          "output_type": "execute_result"
        }
      ],
      "source": [
        "print('\\n== 단어 유사도 ==')\n",
        "lsa.GetTermSimilarity('사과','바나나')\n",
        "lsa.GetTermSimilarity('사과','짜장면')\n",
        "lsa.GetTermSimilarity('포도','짜장면')\n",
        "lsa.GetTermSimilarity('사과','스시')"
      ]
    },
    {
      "cell_type": "code",
      "execution_count": 18,
      "metadata": {},
      "outputs": [
        {
          "name": "stdout",
          "output_type": "stream",
          "text": [
            "\n",
            "== 문서 벡터 ==\n",
            "사과 포도 = [[-0.32422891 -0.2375544  -0.02301229  0.05619723]]\n",
            "짜장면 짬뽕 = [[-0.18924633  0.38413621  0.08554157 -0.26853634]]\n"
          ]
        },
        {
          "data": {
            "text/plain": [
              "matrix([[-0.18924633,  0.38413621,  0.08554157, -0.26853634]])"
            ]
          },
          "execution_count": 18,
          "metadata": {},
          "output_type": "execute_result"
        }
      ],
      "source": [
        "print('\\n== 문서 벡터 ==')\n",
        "lsa.GetDocVector('사과 포도')\n",
        "lsa.GetDocVector('짜장면 짬뽕')"
      ]
    },
    {
      "cell_type": "code",
      "execution_count": 19,
      "metadata": {},
      "outputs": [
        {
          "name": "stdout",
          "output_type": "stream",
          "text": [
            "\n",
            "== 문서 유사도 ==\n",
            "('사과 포도','포도 바나나') doc similarity = 1.0\n",
            "('사과 포도','라면 스시') doc similarity = -0.04352170550455567\n"
          ]
        },
        {
          "data": {
            "text/plain": [
              "-0.04352170550455567"
            ]
          },
          "execution_count": 19,
          "metadata": {},
          "output_type": "execute_result"
        }
      ],
      "source": [
        "print('\\n== 문서 유사도 ==')\n",
        "lsa.GetDocSimilarity('사과 포도', '포도 바나나')\n",
        "lsa.GetDocSimilarity('사과 포도', '라면 스시')"
      ]
    },
    {
      "attachments": {},
      "cell_type": "markdown",
      "metadata": {
        "id": "31Kn3iEWLDz9"
      },
      "source": [
        "## 1.2 sklearn 활용"
      ]
    },
    {
      "attachments": {},
      "cell_type": "markdown",
      "metadata": {
        "id": "kaaw49O5mqec"
      },
      "source": [
        "### 1) 토픽모델링"
      ]
    },
    {
      "cell_type": "code",
      "execution_count": 20,
      "metadata": {
        "id": "2LVVXaR4EJCZ"
      },
      "outputs": [],
      "source": [
        "doc_ls = [\n",
        "    '바나나 사과 포도 포도 짜장면',\n",
        "    '사과 포도',\n",
        "    '포도 바나나',\n",
        "    '짜장면 짬뽕 탕수육',\n",
        "    '볶음밥 탕수육',\n",
        "    '짜장면 짬뽕',\n",
        "    '라면 스시',\n",
        "    '스시 짜장면',\n",
        "    '가츠동 스시 소바',\n",
        "    '된장찌개 김치찌개 김치',\n",
        "    '김치 된장 짜장면',\n",
        "    '비빔밥 김치'\n",
        "]"
      ]
    },
    {
      "cell_type": "code",
      "execution_count": 21,
      "metadata": {
        "id": "ZOPy5VKzKr8_"
      },
      "outputs": [
        {
          "data": {
            "text/plain": [
              "array([[ 0.03615365,  0.10978603,  0.01834125,  0.09862335,  0.01834125,\n",
              "         0.05470036,  0.3297113 ,  0.04131708,  0.02775026,  0.3297113 ,\n",
              "         0.03615365,  0.21640648,  0.4991573 ,  0.29964085,  0.1641898 ,\n",
              "         0.58250527],\n",
              "       [ 0.06740048,  0.15347979,  0.03284554,  0.12078756,  0.03284554,\n",
              "         0.09988705, -0.28961955,  0.07490311,  0.04867686, -0.28961955,\n",
              "         0.06740048,  0.31494725,  0.43992407,  0.39142644,  0.23904844,\n",
              "        -0.51167464],\n",
              "       [ 0.25326653, -0.21577691, -0.07776122, -0.09834554, -0.07776122,\n",
              "         0.35279702,  0.01226021, -0.12482955, -0.10832038,  0.01226021,\n",
              "         0.25326653,  0.70278052, -0.07237264, -0.29248516, -0.25719626,\n",
              "         0.02166027],\n",
              "       [ 0.02997407,  0.68200798,  0.27162684,  0.25478532,  0.27162684,\n",
              "         0.04111418,  0.00405599, -0.14359192,  0.37257919,  0.00405599,\n",
              "         0.02997407,  0.0752597 , -0.02641656, -0.27990967, -0.2732592 ,\n",
              "         0.00716578]])"
            ]
          },
          "execution_count": 21,
          "metadata": {},
          "output_type": "execute_result"
        }
      ],
      "source": [
        "from sklearn.feature_extraction.text import TfidfVectorizer\n",
        "from sklearn.decomposition import TruncatedSVD\n",
        "\n",
        "n_topic= 4\n",
        "\n",
        "tfidf_vect = TfidfVectorizer(max_features= 1000, max_df = 0.5, smooth_idf=True)\n",
        "tfidf = tfidf_vect.fit_transform(doc_ls)\n",
        "svd = TruncatedSVD(n_components=n_topic, algorithm='randomized', n_iter=100)\n",
        "u_sigma = svd.fit_transform(tfidf)\n",
        "svd.components_"
      ]
    },
    {
      "cell_type": "code",
      "execution_count": 22,
      "metadata": {},
      "outputs": [
        {
          "data": {
            "text/plain": [
              "(4, 16)"
            ]
          },
          "execution_count": 22,
          "metadata": {},
          "output_type": "execute_result"
        }
      ],
      "source": [
        "svd.components_.shape"
      ]
    },
    {
      "cell_type": "code",
      "execution_count": 23,
      "metadata": {
        "id": "fkHor8JeRuFz"
      },
      "outputs": [
        {
          "name": "stdout",
          "output_type": "stream",
          "text": [
            "Topic 0: [('포도', 0.58251), ('짜장면', 0.49916), ('바나나', 0.32971)]\n",
            "Topic 1: [('짜장면', 0.43992), ('짬뽕', 0.39143), ('스시', 0.31495)]\n",
            "Topic 2: [('스시', 0.70278), ('라면', 0.3528), ('소바', 0.25327)]\n",
            "Topic 3: [('김치', 0.68201), ('비빔밥', 0.37258), ('된장찌개', 0.27163)]\n"
          ]
        }
      ],
      "source": [
        "vocab = tfidf_vect.get_feature_names_out() # 단어 집합. 1,000개의 단어가 저장됨.\n",
        "n = 3\n",
        "for idx, topic in enumerate(svd.components_):\n",
        "    print(\"Topic %d:\" % (idx), [(vocab[i], topic[i].round(5)) for i in topic.argsort()[:-n - 1:-1]])"
      ]
    },
    {
      "attachments": {},
      "cell_type": "markdown",
      "metadata": {
        "id": "Cj3fMxdamzB6"
      },
      "source": [
        "### 2) 단어벡터"
      ]
    },
    {
      "cell_type": "code",
      "execution_count": 24,
      "metadata": {
        "id": "jQvD_3Lagat8"
      },
      "outputs": [
        {
          "data": {
            "text/plain": [
              "array([[ 0.03615365,  0.06740048,  0.25326653,  0.02997407],\n",
              "       [ 0.10978603,  0.15347979, -0.21577691,  0.68200798],\n",
              "       [ 0.01834125,  0.03284554, -0.07776122,  0.27162684],\n",
              "       [ 0.09862335,  0.12078756, -0.09834554,  0.25478532],\n",
              "       [ 0.01834125,  0.03284554, -0.07776122,  0.27162684],\n",
              "       [ 0.05470036,  0.09988705,  0.35279702,  0.04111418],\n",
              "       [ 0.3297113 , -0.28961955,  0.01226021,  0.00405599],\n",
              "       [ 0.04131708,  0.07490311, -0.12482955, -0.14359192],\n",
              "       [ 0.02775026,  0.04867686, -0.10832038,  0.37257919],\n",
              "       [ 0.3297113 , -0.28961955,  0.01226021,  0.00405599],\n",
              "       [ 0.03615365,  0.06740048,  0.25326653,  0.02997407],\n",
              "       [ 0.21640648,  0.31494725,  0.70278052,  0.0752597 ],\n",
              "       [ 0.4991573 ,  0.43992407, -0.07237264, -0.02641656],\n",
              "       [ 0.29964085,  0.39142644, -0.29248516, -0.27990967],\n",
              "       [ 0.1641898 ,  0.23904844, -0.25719626, -0.2732592 ],\n",
              "       [ 0.58250527, -0.51167464,  0.02166027,  0.00716578]])"
            ]
          },
          "execution_count": 24,
          "metadata": {},
          "output_type": "execute_result"
        }
      ],
      "source": [
        "svd.components_.T"
      ]
    },
    {
      "cell_type": "code",
      "execution_count": 25,
      "metadata": {
        "id": "C2VjqPqSkOk4"
      },
      "outputs": [
        {
          "name": "stdout",
          "output_type": "stream",
          "text": [
            "가츠동 : [0.03615365 0.06740048 0.25326653 0.02997407]\n",
            "김치 : [ 0.10978603  0.15347979 -0.21577691  0.68200798]\n",
            "김치찌개 : [ 0.01834125  0.03284554 -0.07776122  0.27162684]\n",
            "된장 : [ 0.09862335  0.12078756 -0.09834554  0.25478532]\n",
            "된장찌개 : [ 0.01834125  0.03284554 -0.07776122  0.27162684]\n",
            "라면 : [0.05470036 0.09988705 0.35279702 0.04111418]\n",
            "바나나 : [ 0.3297113  -0.28961955  0.01226021  0.00405599]\n",
            "볶음밥 : [ 0.04131708  0.07490311 -0.12482955 -0.14359192]\n",
            "비빔밥 : [ 0.02775026  0.04867686 -0.10832038  0.37257919]\n",
            "사과 : [ 0.3297113  -0.28961955  0.01226021  0.00405599]\n",
            "소바 : [0.03615365 0.06740048 0.25326653 0.02997407]\n",
            "스시 : [0.21640648 0.31494725 0.70278052 0.0752597 ]\n",
            "짜장면 : [ 0.4991573   0.43992407 -0.07237264 -0.02641656]\n",
            "짬뽕 : [ 0.29964085  0.39142644 -0.29248516 -0.27990967]\n",
            "탕수육 : [ 0.1641898   0.23904844 -0.25719626 -0.2732592 ]\n",
            "포도 : [ 0.58250527 -0.51167464  0.02166027  0.00716578]\n"
          ]
        }
      ],
      "source": [
        "# 단어벡터\n",
        "for i in range(len(vocab)) :\n",
        "    print(\"{} : {}\".format(vocab[i], svd.components_.T[i]))"
      ]
    },
    {
      "cell_type": "code",
      "execution_count": 26,
      "metadata": {
        "id": "pdzmkhP8ELav"
      },
      "outputs": [],
      "source": [
        "import numpy as np\n",
        "from numpy import dot\n",
        "from numpy.linalg import norm\n",
        "\n",
        "def calc_similarity_matrix(vectors) :\n",
        "    def cosine_similarity(a, b) :\n",
        "        return dot(a, b)/(norm(a)*norm(b))\n",
        "\n",
        "    n_word = len(vectors)\n",
        "    similarity_matrix = np.zeros((n_word, n_word))\n",
        "\n",
        "    for i in range(n_word) :\n",
        "        for j in range(i, n_word) :\n",
        "            similarity_matrix[j, i] = cosine_similarity(vectors[i], vectors[j]).round(4)\n",
        "\n",
        "    return similarity_matrix"
      ]
    },
    {
      "cell_type": "code",
      "execution_count": 27,
      "metadata": {},
      "outputs": [
        {
          "name": "stdout",
          "output_type": "stream",
          "text": [
            "Requirement already satisfied: seaborn in c:\\users\\user\\anaconda3\\envs\\mecab\\lib\\site-packages (0.12.2)\n",
            "Requirement already satisfied: numpy!=1.24.0,>=1.17 in c:\\users\\user\\anaconda3\\envs\\mecab\\lib\\site-packages (from seaborn) (1.24.4)\n",
            "Requirement already satisfied: pandas>=0.25 in c:\\users\\user\\anaconda3\\envs\\mecab\\lib\\site-packages (from seaborn) (2.0.3)\n",
            "Requirement already satisfied: matplotlib!=3.6.1,>=3.1 in c:\\users\\user\\anaconda3\\envs\\mecab\\lib\\site-packages (from seaborn) (3.7.2)\n",
            "Requirement already satisfied: contourpy>=1.0.1 in c:\\users\\user\\anaconda3\\envs\\mecab\\lib\\site-packages (from matplotlib!=3.6.1,>=3.1->seaborn) (1.1.0)\n",
            "Requirement already satisfied: cycler>=0.10 in c:\\users\\user\\anaconda3\\envs\\mecab\\lib\\site-packages (from matplotlib!=3.6.1,>=3.1->seaborn) (0.11.0)\n",
            "Requirement already satisfied: fonttools>=4.22.0 in c:\\users\\user\\anaconda3\\envs\\mecab\\lib\\site-packages (from matplotlib!=3.6.1,>=3.1->seaborn) (4.42.0)\n",
            "Requirement already satisfied: kiwisolver>=1.0.1 in c:\\users\\user\\anaconda3\\envs\\mecab\\lib\\site-packages (from matplotlib!=3.6.1,>=3.1->seaborn) (1.4.4)\n",
            "Requirement already satisfied: packaging>=20.0 in c:\\users\\user\\anaconda3\\envs\\mecab\\lib\\site-packages (from matplotlib!=3.6.1,>=3.1->seaborn) (23.1)\n",
            "Requirement already satisfied: pillow>=6.2.0 in c:\\users\\user\\anaconda3\\envs\\mecab\\lib\\site-packages (from matplotlib!=3.6.1,>=3.1->seaborn) (10.0.0)\n",
            "Requirement already satisfied: pyparsing<3.1,>=2.3.1 in c:\\users\\user\\anaconda3\\envs\\mecab\\lib\\site-packages (from matplotlib!=3.6.1,>=3.1->seaborn) (3.0.9)\n",
            "Requirement already satisfied: python-dateutil>=2.7 in c:\\users\\user\\anaconda3\\envs\\mecab\\lib\\site-packages (from matplotlib!=3.6.1,>=3.1->seaborn) (2.8.2)\n",
            "Requirement already satisfied: importlib-resources>=3.2.0 in c:\\users\\user\\anaconda3\\envs\\mecab\\lib\\site-packages (from matplotlib!=3.6.1,>=3.1->seaborn) (6.0.1)\n",
            "Requirement already satisfied: pytz>=2020.1 in c:\\users\\user\\anaconda3\\envs\\mecab\\lib\\site-packages (from pandas>=0.25->seaborn) (2023.3)\n",
            "Requirement already satisfied: tzdata>=2022.1 in c:\\users\\user\\anaconda3\\envs\\mecab\\lib\\site-packages (from pandas>=0.25->seaborn) (2023.3)\n",
            "Requirement already satisfied: zipp>=3.1.0 in c:\\users\\user\\anaconda3\\envs\\mecab\\lib\\site-packages (from importlib-resources>=3.2.0->matplotlib!=3.6.1,>=3.1->seaborn) (3.16.2)\n",
            "Requirement already satisfied: six>=1.5 in c:\\users\\user\\anaconda3\\envs\\mecab\\lib\\site-packages (from python-dateutil>=2.7->matplotlib!=3.6.1,>=3.1->seaborn) (1.16.0)\n",
            "Note: you may need to restart the kernel to use updated packages.\n"
          ]
        }
      ],
      "source": [
        "%pip install seaborn"
      ]
    },
    {
      "cell_type": "code",
      "execution_count": 64,
      "metadata": {
        "id": "QzEGCRDzB_CU"
      },
      "outputs": [],
      "source": [
        "import seaborn as sns\n",
        "\n",
        "def visualize_similarity(similarity_matrix) :\n",
        "    uniform_data = similarity_matrix\n",
        "    mask = np.triu(np.ones_like(similarity_matrix))\n",
        "    plt.rcParams['figure.figsize'] = [8, 6]\n",
        "    features = doc_ls\n",
        "    ax = sns.heatmap(uniform_data, mask=mask, #xticklabels=features, yticklabels=features,\n",
        "                    annot=True, fmt=\".2f\",annot_kws={'size':8}, cmap='coolwarm')"
      ]
    },
    {
      "cell_type": "code",
      "execution_count": 65,
      "metadata": {
        "id": "MWJI_8rbBzAL"
      },
      "outputs": [
        {
          "data": {
            "image/png": "[encoded data removed]",
            "text/plain": [
              "<Figure size 800x600 with 2 Axes>"
            ]
          },
          "metadata": {},
          "output_type": "display_data"
        }
      ],
      "source": [
        "word_vectors = svd.components_.T\n",
        "word_similarity_matrix = calc_similarity_matrix(word_vectors)\n",
        "visualize_similarity(word_similarity_matrix)"
      ]
    },
    {
      "attachments": {},
      "cell_type": "markdown",
      "metadata": {
        "id": "0yfe991tm1qa"
      },
      "source": [
        "### 3) 문서벡터"
      ]
    },
    {
      "cell_type": "code",
      "execution_count": 66,
      "metadata": {
        "id": "49wUP0VdkQVD"
      },
      "outputs": [
        {
          "data": {
            "image/png": "[encoded data removed]",
            "text/plain": [
              "<Figure size 800x600 with 2 Axes>"
            ]
          },
          "metadata": {},
          "output_type": "display_data"
        }
      ],
      "source": [
        "doc_vectors = u_sigma/svd.singular_values_  # U -> 좌특이벡터만 뽑기\n",
        "doc_similarity_matrix = calc_similarity_matrix(doc_vectors)\n",
        "feature = doc_ls\n",
        "visualize_similarity(doc_similarity_matrix)"
      ]
    },
    {
      "attachments": {},
      "cell_type": "markdown",
      "metadata": {
        "id": "uGFHkelP2Upp"
      },
      "source": [
        "### 4) 벡터 시각화\n",
        "\n",
        "- manifold.TSNE() : t-SNE(t분포 Stochastic Neighbor Embedding) 차원 축소 기법의 하나"
      ]
    },
    {
      "cell_type": "code",
      "execution_count": 31,
      "metadata": {
        "id": "dUl3WoSi2vw3"
      },
      "outputs": [],
      "source": [
        "vectors = word_vectors\n",
        "labels = tfidf_vect.get_feature_names_out()"
      ]
    },
    {
      "cell_type": "code",
      "execution_count": 32,
      "metadata": {
        "id": "XVezoaECoPzO"
      },
      "outputs": [],
      "source": [
        "from sklearn.manifold import TSNE\n",
        "import numpy as np\n",
        "\n",
        "def visualize_vectors(vectors, labels):\n",
        "    tsne = TSNE(n_components=2, random_state=0, n_iter=10000, perplexity=2)\n",
        "    np.set_printoptions(suppress=True)\n",
        "    T = tsne.fit_transform(vectors)\n",
        "    #labels = vocab\n",
        "\n",
        "    plt.figure(figsize=(10, 6))\n",
        "    plt.scatter(T[:, 0], T[:, 1], c='orange', edgecolors='r')\n",
        "    for label, x, y in zip(labels, T[:, 0], T[:, 1]):\n",
        "        plt.annotate(label, xy=(x+1, y+1), xytext=(0, 0), textcoords='offset points')"
      ]
    },
    {
      "cell_type": "code",
      "execution_count": 33,
      "metadata": {
        "id": "Ufmu2SzjDWJj"
      },
      "outputs": [
        {
          "data": {
            "image/png": "[encoded data removed]",
            "text/plain": [
              "<Figure size 1000x600 with 1 Axes>"
            ]
          },
          "metadata": {},
          "output_type": "display_data"
        }
      ],
      "source": [
        "visualize_vectors(vectors, labels)"
      ]
    },
    {
      "attachments": {},
      "cell_type": "markdown",
      "metadata": {
        "id": "4EpgqX0rVPjM"
      },
      "source": [
        "### 5) 파이프라인 사용"
      ]
    },
    {
      "cell_type": "code",
      "execution_count": 34,
      "metadata": {
        "id": "qn6YnSohVTdo"
      },
      "outputs": [
        {
          "data": {
            "text/html": [
              "<style>#sk-container-id-1 {color: black;}#sk-container-id-1 pre{padding: 0;}#sk-container-id-1 div.sk-toggleable {background-color: white;}#sk-container-id-1 label.sk-toggleable__label {cursor: pointer;display: block;width: 100%;margin-bottom: 0;padding: 0.3em;box-sizing: border-box;text-align: center;}#sk-container-id-1 label.sk-toggleable__label-arrow:before {content: \"▸\";float: left;margin-right: 0.25em;color: #696969;}#sk-container-id-1 label.sk-toggleable__label-arrow:hover:before {color: black;}#sk-container-id-1 div.sk-estimator:hover label.sk-toggleable__label-arrow:before {color: black;}#sk-container-id-1 div.sk-toggleable__content {max-height: 0;max-width: 0;overflow: hidden;text-align: left;background-color: #f0f8ff;}#sk-container-id-1 div.sk-toggleable__content pre {margin: 0.2em;color: black;border-radius: 0.25em;background-color: #f0f8ff;}#sk-container-id-1 input.sk-toggleable__control:checked~div.sk-toggleable__content {max-height: 200px;max-width: 100%;overflow: auto;}#sk-container-id-1 input.sk-toggleable__control:checked~label.sk-toggleable__label-arrow:before {content: \"▾\";}#sk-container-id-1 div.sk-estimator input.sk-toggleable__control:checked~label.sk-toggleable__label {background-color: #d4ebff;}#sk-container-id-1 div.sk-label input.sk-toggleable__control:checked~label.sk-toggleable__label {background-color: #d4ebff;}#sk-container-id-1 input.sk-hidden--visually {border: 0;clip: rect(1px 1px 1px 1px);clip: rect(1px, 1px, 1px, 1px);height: 1px;margin: -1px;overflow: hidden;padding: 0;position: absolute;width: 1px;}#sk-container-id-1 div.sk-estimator {font-family: monospace;background-color: #f0f8ff;border: 1px dotted black;border-radius: 0.25em;box-sizing: border-box;margin-bottom: 0.5em;}#sk-container-id-1 div.sk-estimator:hover {background-color: #d4ebff;}#sk-container-id-1 div.sk-parallel-item::after {content: \"\";width: 100%;border-bottom: 1px solid gray;flex-grow: 1;}#sk-container-id-1 div.sk-label:hover label.sk-toggleable__label {background-color: #d4ebff;}#sk-container-id-1 div.sk-serial::before {content: \"\";position: absolute;border-left: 1px solid gray;box-sizing: border-box;top: 0;bottom: 0;left: 50%;z-index: 0;}#sk-container-id-1 div.sk-serial {display: flex;flex-direction: column;align-items: center;background-color: white;padding-right: 0.2em;padding-left: 0.2em;position: relative;}#sk-container-id-1 div.sk-item {position: relative;z-index: 1;}#sk-container-id-1 div.sk-parallel {display: flex;align-items: stretch;justify-content: center;background-color: white;position: relative;}#sk-container-id-1 div.sk-item::before, #sk-container-id-1 div.sk-parallel-item::before {content: \"\";position: absolute;border-left: 1px solid gray;box-sizing: border-box;top: 0;bottom: 0;left: 50%;z-index: -1;}#sk-container-id-1 div.sk-parallel-item {display: flex;flex-direction: column;z-index: 1;position: relative;background-color: white;}#sk-container-id-1 div.sk-parallel-item:first-child::after {align-self: flex-end;width: 50%;}#sk-container-id-1 div.sk-parallel-item:last-child::after {align-self: flex-start;width: 50%;}#sk-container-id-1 div.sk-parallel-item:only-child::after {width: 0;}#sk-container-id-1 div.sk-dashed-wrapped {border: 1px dashed gray;margin: 0 0.4em 0.5em 0.4em;box-sizing: border-box;padding-bottom: 0.4em;background-color: white;}#sk-container-id-1 div.sk-label label {font-family: monospace;font-weight: bold;display: inline-block;line-height: 1.2em;}#sk-container-id-1 div.sk-label-container {text-align: center;}#sk-container-id-1 div.sk-container {/* jupyter's `normalize.less` sets `[hidden] { display: none; }` but bootstrap.min.css set `[hidden] { display: none !important; }` so we also need the `!important` here to be able to override the default hidden behavior on the sphinx rendered scikit-learn.org. See: https://github.com/scikit-learn/scikit-learn/issues/21755 */display: inline-block !important;position: relative;}#sk-container-id-1 div.sk-text-repr-fallback {display: none;}</style><div id=\"sk-container-id-1\" class=\"sk-top-container\"><div class=\"sk-text-repr-fallback\"><pre>Pipeline(steps=[(&#x27;vect&#x27;,\n",
              "                 CountVectorizer(tokenizer=&lt;function my_tokenizer at 0x000002262259EEE0&gt;)),\n",
              "                (&#x27;tfidf&#x27;, TfidfTransformer()),\n",
              "                (&#x27;lsa&#x27;, TruncatedSVD(n_components=4, n_iter=100))])</pre><b>In a Jupyter environment, please rerun this cell to show the HTML representation or trust the notebook. <br />On GitHub, the HTML representation is unable to render, please try loading this page with nbviewer.org.</b></div><div class=\"sk-container\" hidden><div class=\"sk-item sk-dashed-wrapped\"><div class=\"sk-label-container\"><div class=\"sk-label sk-toggleable\"><input class=\"sk-toggleable__control sk-hidden--visually\" id=\"sk-estimator-id-1\" type=\"checkbox\" ><label for=\"sk-estimator-id-1\" class=\"sk-toggleable__label sk-toggleable__label-arrow\">Pipeline</label><div class=\"sk-toggleable__content\"><pre>Pipeline(steps=[(&#x27;vect&#x27;,\n",
              "                 CountVectorizer(tokenizer=&lt;function my_tokenizer at 0x000002262259EEE0&gt;)),\n",
              "                (&#x27;tfidf&#x27;, TfidfTransformer()),\n",
              "                (&#x27;lsa&#x27;, TruncatedSVD(n_components=4, n_iter=100))])</pre></div></div></div><div class=\"sk-serial\"><div class=\"sk-item\"><div class=\"sk-estimator sk-toggleable\"><input class=\"sk-toggleable__control sk-hidden--visually\" id=\"sk-estimator-id-2\" type=\"checkbox\" ><label for=\"sk-estimator-id-2\" class=\"sk-toggleable__label sk-toggleable__label-arrow\">CountVectorizer</label><div class=\"sk-toggleable__content\"><pre>CountVectorizer(tokenizer=&lt;function my_tokenizer at 0x000002262259EEE0&gt;)</pre></div></div></div><div class=\"sk-item\"><div class=\"sk-estimator sk-toggleable\"><input class=\"sk-toggleable__control sk-hidden--visually\" id=\"sk-estimator-id-3\" type=\"checkbox\" ><label for=\"sk-estimator-id-3\" class=\"sk-toggleable__label sk-toggleable__label-arrow\">TfidfTransformer</label><div class=\"sk-toggleable__content\"><pre>TfidfTransformer()</pre></div></div></div><div class=\"sk-item\"><div class=\"sk-estimator sk-toggleable\"><input class=\"sk-toggleable__control sk-hidden--visually\" id=\"sk-estimator-id-4\" type=\"checkbox\" ><label for=\"sk-estimator-id-4\" class=\"sk-toggleable__label sk-toggleable__label-arrow\">TruncatedSVD</label><div class=\"sk-toggleable__content\"><pre>TruncatedSVD(n_components=4, n_iter=100)</pre></div></div></div></div></div></div></div>"
            ],
            "text/plain": [
              "Pipeline(steps=[('vect',\n",
              "                 CountVectorizer(tokenizer=<function my_tokenizer at 0x000002262259EEE0>)),\n",
              "                ('tfidf', TfidfTransformer()),\n",
              "                ('lsa', TruncatedSVD(n_components=4, n_iter=100))])"
            ]
          },
          "execution_count": 34,
          "metadata": {},
          "output_type": "execute_result"
        }
      ],
      "source": [
        "from sklearn.model_selection import GridSearchCV\n",
        "from sklearn.pipeline import Pipeline\n",
        "from sklearn.decomposition import TruncatedSVD\n",
        "from sklearn.feature_extraction.text import CountVectorizer, TfidfTransformer\n",
        "\n",
        "def my_tokenizer(text):\n",
        "    return [w for w in text.split() if len(w) > 1]\n",
        "\n",
        "lsa_pipeline = Pipeline([\n",
        "    ('vect', CountVectorizer(tokenizer = my_tokenizer)),\n",
        "    ('tfidf', TfidfTransformer(smooth_idf=True)),\n",
        "    ('lsa', TruncatedSVD(n_components=n_topic, algorithm='randomized', n_iter=100)),\n",
        "])\n",
        "\n",
        "lsa_pipeline.fit(doc_ls)"
      ]
    },
    {
      "cell_type": "code",
      "execution_count": 35,
      "metadata": {
        "id": "RJjRa7wictNS"
      },
      "outputs": [],
      "source": [
        "lsa = lsa_pipeline.named_steps['lsa']\n",
        "count_vect = lsa_pipeline.named_steps['vect']"
      ]
    },
    {
      "cell_type": "code",
      "execution_count": 36,
      "metadata": {
        "id": "XYzHYwd_cxEh"
      },
      "outputs": [
        {
          "name": "stdout",
          "output_type": "stream",
          "text": [
            "Topic 0: [('포도', 0.58251), ('짜장면', 0.49916), ('바나나', 0.32971)]\n",
            "Topic 1: [('짜장면', 0.43992), ('짬뽕', 0.39143), ('스시', 0.31495)]\n",
            "Topic 2: [('스시', 0.70278), ('라면', 0.3528), ('소바', 0.25327)]\n",
            "Topic 3: [('김치', 0.68201), ('비빔밥', 0.37258), ('된장찌개', 0.27163)]\n"
          ]
        }
      ],
      "source": [
        "vocab = count_vect.get_feature_names_out() # 단어 집합. 1,000개의 단어가 저장됨.\n",
        "\n",
        "def get_topics(components, feature_names, n=3):\n",
        "    for idx, topic in enumerate(components):\n",
        "        print(\"Topic %d:\" % (idx), [(feature_names[i], topic[i].round(5)) for i in topic.argsort()[:-n - 1:-1]])\n",
        "get_topics(lsa.components_,vocab)"
      ]
    },
    {
      "attachments": {},
      "cell_type": "markdown",
      "metadata": {
        "id": "QiJXdInJLn-4"
      },
      "source": [
        "## 1.3 gensim 활용"
      ]
    },
    {
      "attachments": {},
      "cell_type": "markdown",
      "metadata": {
        "id": "q5R7Z3VULtQT"
      },
      "source": [
        "### 1) 토픽모델링"
      ]
    },
    {
      "cell_type": "code",
      "execution_count": 37,
      "metadata": {
        "id": "lz82ZZpkLr9I"
      },
      "outputs": [],
      "source": [
        "docs = [\n",
        "    '바나나 사과 포도 포도',\n",
        "    '사과 포도',\n",
        "    '포도 바나나',\n",
        "    '짜장면 짬뽕 탕수욕',\n",
        "    '볶음밥 탕수욕',\n",
        "    '짜장면 짬뽕',\n",
        "    '라면 스시',\n",
        "    '스시',\n",
        "    '가츠동 스시 소바',\n",
        "    '된장찌개 김치찌개 김치',\n",
        "    '김치 된장',\n",
        "    '비빔밥 김치'\n",
        "]"
      ]
    },
    {
      "cell_type": "code",
      "execution_count": 38,
      "metadata": {
        "id": "JjZIWeWuL1NT"
      },
      "outputs": [
        {
          "data": {
            "text/plain": [
              "['바나나', '사과', '포도', '포도']"
            ]
          },
          "execution_count": 38,
          "metadata": {},
          "output_type": "execute_result"
        }
      ],
      "source": [
        "doc_ls = [doc.split() for doc in docs]\n",
        "doc_ls[0]"
      ]
    },
    {
      "cell_type": "code",
      "execution_count": 39,
      "metadata": {
        "id": "eCcg7TSHL5ZR"
      },
      "outputs": [
        {
          "name": "stdout",
          "output_type": "stream",
          "text": [
            "(0, '0.738*\"포도\" + 0.477*\"사과\" + 0.477*\"바나나\"')\n",
            "(1, '0.634*\"짬뽕\" + 0.634*\"짜장면\" + 0.413*\"탕수욕\"')\n",
            "(2, '0.854*\"스시\" + 0.386*\"라면\" + 0.246*\"가츠동\"')\n",
            "(3, '0.658*\"김치\" + 0.441*\"비빔밥\" + 0.441*\"된장\"')\n"
          ]
        }
      ],
      "source": [
        "from gensim import corpora\n",
        "from gensim.models import LsiModel\n",
        "from gensim.models import TfidfModel\n",
        "\n",
        "n_dim = 4\n",
        "\n",
        "id2word = corpora.Dictionary(doc_ls)\n",
        "corpus_TDM = [id2word.doc2bow(text) for text in doc_ls]\n",
        "tfidf = TfidfModel(corpus_TDM) #train\n",
        "corpus_TFIDF = tfidf[corpus_TDM] #predict\n",
        "model_LSA = LsiModel(corpus_TFIDF, id2word=id2word, num_topics=n_dim)\n",
        "\n",
        "for top in model_LSA.print_topics(n_dim, 3):\n",
        "    print(top)"
      ]
    },
    {
      "cell_type": "code",
      "execution_count": 40,
      "metadata": {
        "id": "q-kX7e6Hm38H"
      },
      "outputs": [
        {
          "data": {
            "text/plain": [
              "array([[ 0.47703053, -0.        ,  0.        ,  0.        ],\n",
              "       [ 0.47703053,  0.        ,  0.        , -0.        ],\n",
              "       [ 0.73816241,  0.        ,  0.        , -0.        ],\n",
              "       [-0.        ,  0.63412579,  0.        , -0.        ],\n",
              "       [ 0.        ,  0.63412579,  0.        , -0.        ],\n",
              "       [-0.        ,  0.41262633,  0.        , -0.        ],\n",
              "       [-0.        ,  0.15971375,  0.        , -0.        ],\n",
              "       [-0.        , -0.        ,  0.38630676,  0.        ],\n",
              "       [-0.        , -0.        ,  0.85423448, -0.        ],\n",
              "       [-0.        , -0.        ,  0.24601884, -0.        ],\n",
              "       [-0.        , -0.        ,  0.24601884, -0.        ],\n",
              "       [-0.        ,  0.        , -0.        ,  0.65829341],\n",
              "       [-0.        ,  0.        , -0.        ,  0.29831745],\n",
              "       [-0.        ,  0.        , -0.        ,  0.29831745],\n",
              "       [-0.        ,  0.        ,  0.        ,  0.44083057],\n",
              "       [ 0.        ,  0.        , -0.        ,  0.44083057]])"
            ]
          },
          "execution_count": 40,
          "metadata": {},
          "output_type": "execute_result"
        }
      ],
      "source": [
        "model_LSA.projection.u"
      ]
    },
    {
      "cell_type": "code",
      "execution_count": 41,
      "metadata": {
        "id": "QinBYNCcndqZ"
      },
      "outputs": [
        {
          "data": {
            "text/plain": [
              "[[2.4303858280181885, 0.0, 0.0, 0.0],\n",
              " [1.2151929140090942, 0.0, 0.0, 0.0],\n",
              " [1.2151929140090942, 0.0, 0.0, 0.0],\n",
              " [0.0, 1.680877923965454, 0.0, 0.0],\n",
              " [0.0, 0.5723400712013245, 0.0, 0.0],\n",
              " [0.0, 1.2682515382766724, 0.0, 0.0],\n",
              " [0.0, 0.0, 1.2405412197113037, 0.0],\n",
              " [0.0, 0.0, 0.8542344570159912, 0.0],\n",
              " [0.0, 0.0, 1.3462721109390259, 0.0],\n",
              " [0.0, 0.0, 0.0, 1.2549283504486084],\n",
              " [0.0, 0.0, 0.0, 1.0991239547729492],\n",
              " [0.0, 0.0, 0.0, 1.0991239547729492]]"
            ]
          },
          "execution_count": 41,
          "metadata": {},
          "output_type": "execute_result"
        }
      ],
      "source": [
        "from gensim.matutils import sparse2full\n",
        "corpus_VT = model_LSA[corpus_TDM]\n",
        "VT = [sparse2full(doc_vector, n_dim).tolist() for doc_vector in corpus_VT]\n",
        "VT"
      ]
    },
    {
      "attachments": {},
      "cell_type": "markdown",
      "metadata": {
        "id": "OcR4bsoaL_V-"
      },
      "source": [
        "### 2) 단어벡터"
      ]
    },
    {
      "cell_type": "code",
      "execution_count": 42,
      "metadata": {
        "id": "Qe2_eReNMRta"
      },
      "outputs": [
        {
          "name": "stdout",
          "output_type": "stream",
          "text": [
            "바나나 : [ 0.47703053 -0.          0.          0.        ]\n",
            "사과 : [ 0.47703053  0.          0.         -0.        ]\n",
            "포도 : [ 0.73816241  0.          0.         -0.        ]\n",
            "짜장면 : [-0.          0.63412579  0.         -0.        ]\n",
            "짬뽕 : [ 0.          0.63412579  0.         -0.        ]\n",
            "탕수욕 : [-0.          0.41262633  0.         -0.        ]\n",
            "볶음밥 : [-0.          0.15971375  0.         -0.        ]\n",
            "라면 : [-0.         -0.          0.38630676  0.        ]\n",
            "스시 : [-0.         -0.          0.85423448 -0.        ]\n",
            "가츠동 : [-0.         -0.          0.24601884 -0.        ]\n",
            "소바 : [-0.         -0.          0.24601884 -0.        ]\n",
            "김치 : [-0.          0.         -0.          0.65829341]\n",
            "김치찌개 : [-0.          0.         -0.          0.29831745]\n",
            "된장찌개 : [-0.          0.         -0.          0.29831745]\n",
            "된장 : [-0.          0.          0.          0.44083057]\n",
            "비빔밥 : [ 0.          0.         -0.          0.44083057]\n"
          ]
        }
      ],
      "source": [
        "for i in id2word.keys() :\n",
        "    print(\"{} : {}\".format(id2word[i], model_LSA.projection.u[i]))"
      ]
    },
    {
      "cell_type": "code",
      "execution_count": 43,
      "metadata": {
        "id": "tvsgIQEOC2Fv"
      },
      "outputs": [
        {
          "data": {
            "image/png": "[encoded data removed]",
            "text/plain": [
              "<Figure size 800x600 with 2 Axes>"
            ]
          },
          "metadata": {},
          "output_type": "display_data"
        }
      ],
      "source": [
        "word_vectors = model_LSA.projection.u\n",
        "word_similarity_matrix = calc_similarity_matrix(word_vectors)\n",
        "visualize_similarity(word_similarity_matrix)"
      ]
    },
    {
      "attachments": {},
      "cell_type": "markdown",
      "metadata": {
        "id": "EAX85JKnMDOR"
      },
      "source": [
        "### 3) 문서벡터"
      ]
    },
    {
      "cell_type": "code",
      "execution_count": 63,
      "metadata": {
        "id": "vwLmgBaBMZmQ"
      },
      "outputs": [
        {
          "data": {
            "image/png": "[encoded data removed]",
            "text/plain": [
              "<Figure size 800x600 with 2 Axes>"
            ]
          },
          "metadata": {},
          "output_type": "display_data"
        }
      ],
      "source": [
        "from gensim.matutils import sparse2full\n",
        "corpus_V = model_LSA[corpus_TDM]\n",
        "V = [sparse2full(doc_vector, n_dim).tolist() for doc_vector in corpus_VT]\n",
        "\n",
        "doc_vectors = V\n",
        "doc_similarity_matrix = calc_similarity_matrix(doc_vectors)\n",
        "visualize_similarity(doc_similarity_matrix)"
      ]
    },
    {
      "attachments": {},
      "cell_type": "markdown",
      "metadata": {
        "id": "l-nbVVMzMGEo"
      },
      "source": [
        "### 4) 벡터시각화"
      ]
    },
    {
      "cell_type": "code",
      "execution_count": 45,
      "metadata": {
        "id": "7AA98BMjDdpn"
      },
      "outputs": [
        {
          "data": {
            "image/png": "[encoded data removed]",
            "text/plain": [
              "<Figure size 1000x600 with 1 Axes>"
            ]
          },
          "metadata": {},
          "output_type": "display_data"
        }
      ],
      "source": [
        "vectors = word_vectors\n",
        "labels = [k for k in id2word.keys()]\n",
        "\n",
        "visualize_vectors(vectors, labels)"
      ]
    },
    {
      "attachments": {},
      "cell_type": "markdown",
      "metadata": {
        "id": "ATfiKPg2wHkQ"
      },
      "source": [
        "# 2 잠재디리클레할당(LDA, Latent Dirichlet Allocation)"
      ]
    },
    {
      "attachments": {},
      "cell_type": "markdown",
      "metadata": {
        "id": "kTdsTBi5qO6x"
      },
      "source": [
        "## 2.1 직접구현"
      ]
    },
    {
      "attachments": {},
      "cell_type": "markdown",
      "metadata": {
        "id": "adoVt_1RNJB6"
      },
      "source": [
        "### 1) 직접 구현"
      ]
    },
    {
      "cell_type": "code",
      "execution_count": 46,
      "metadata": {
        "id": "Qxl6Bat79QQk"
      },
      "outputs": [],
      "source": [
        "import random\n",
        "import numpy as np\n",
        "from nltk.tokenize import word_tokenize\n",
        "from nltk.stem import WordNetLemmatizer\n",
        "from nltk.corpus import stopwords"
      ]
    },
    {
      "cell_type": "code",
      "execution_count": 47,
      "metadata": {
        "id": "-gIJ4GNhEW0v"
      },
      "outputs": [
        {
          "name": "stderr",
          "output_type": "stream",
          "text": [
            "[nltk_data] Downloading package punkt to\n",
            "[nltk_data]     C:\\Users\\user\\AppData\\Roaming\\nltk_data...\n",
            "[nltk_data]   Package punkt is already up-to-date!\n",
            "[nltk_data] Downloading package wordnet to\n",
            "[nltk_data]     C:\\Users\\user\\AppData\\Roaming\\nltk_data...\n",
            "[nltk_data]   Package wordnet is already up-to-date!\n",
            "[nltk_data] Downloading package omw-1.4 to\n",
            "[nltk_data]     C:\\Users\\user\\AppData\\Roaming\\nltk_data...\n",
            "[nltk_data]   Package omw-1.4 is already up-to-date!\n"
          ]
        },
        {
          "data": {
            "text/plain": [
              "True"
            ]
          },
          "execution_count": 47,
          "metadata": {},
          "output_type": "execute_result"
        }
      ],
      "source": [
        "nltk.download('punkt')\n",
        "nltk.download('wordnet')\n",
        "nltk.download('omw-1.4')"
      ]
    },
    {
      "cell_type": "code",
      "execution_count": 48,
      "metadata": {},
      "outputs": [],
      "source": [
        "doc_ls = [\n",
        "    \"Cute kitty\",\n",
        "    \"Eat rice or cake\",\n",
        "    \"Kitty and hamster\",\n",
        "    \"Eat bread\",\n",
        "    \"Rice, bread and cake\",\n",
        "    \"Cute hamster eats bread and cake\"\n",
        "]"
      ]
    },
    {
      "cell_type": "code",
      "execution_count": 49,
      "metadata": {},
      "outputs": [
        {
          "data": {
            "text/plain": [
              "[['Cute', 'kitty'],\n",
              " ['Eat', 'rice', 'or', 'cake'],\n",
              " ['Kitty', 'and', 'hamster'],\n",
              " ['Eat', 'bread'],\n",
              " ['Rice,', 'bread', 'and', 'cake'],\n",
              " ['Cute', 'hamster', 'eats', 'bread', 'and', 'cake']]"
            ]
          },
          "execution_count": 49,
          "metadata": {},
          "output_type": "execute_result"
        }
      ],
      "source": [
        "# 토큰화\n",
        "tokens = [doc.split() for doc in doc_ls]\n",
        "tokens"
      ]
    },
    {
      "cell_type": "code",
      "execution_count": 50,
      "metadata": {},
      "outputs": [
        {
          "data": {
            "text/plain": [
              "[['cute', 'kitty'],\n",
              " ['eat', 'rice', 'cake'],\n",
              " ['kitty', 'hamster'],\n",
              " ['eat', 'bread'],\n",
              " ['rice', ',', 'bread', 'cake'],\n",
              " ['cute', 'hamster', 'eats', 'bread', 'cake']]"
            ]
          },
          "execution_count": 50,
          "metadata": {},
          "output_type": "execute_result"
        }
      ],
      "source": [
        "sw = stopwords.words()\n",
        "wnl = WordNetLemmatizer()\n",
        "tokens = [[wnl.lemmatize(token.lower()) for token in word_tokenize(doc) if token not in sw ] for doc in doc_ls]\n",
        "tokens"
      ]
    },
    {
      "cell_type": "code",
      "execution_count": 51,
      "metadata": {},
      "outputs": [
        {
          "name": "stdout",
          "output_type": "stream",
          "text": [
            "['Cute', 'kitty']\n",
            "cute\n",
            "kitty\n",
            "['Eat', 'rice', 'or', 'cake']\n",
            "eat\n",
            "rice\n",
            "or\n",
            "cake\n",
            "['Kitty', 'and', 'hamster']\n",
            "kitty\n",
            "and\n",
            "hamster\n",
            "['Eat', 'bread']\n",
            "eat\n",
            "bread\n",
            "['Rice', ',', 'bread', 'and', 'cake']\n",
            "rice\n",
            ",\n",
            "bread\n",
            "and\n",
            "cake\n",
            "['Cute', 'hamster', 'eats', 'bread', 'and', 'cake']\n",
            "cute\n",
            "hamster\n",
            "eats\n",
            "bread\n",
            "and\n",
            "cake\n"
          ]
        }
      ],
      "source": [
        "for doc in doc_ls:\n",
        "    print(word_tokenize(doc))\n",
        "    for token in word_tokenize(doc):\n",
        "        print(wnl.lemmatize(token.lower()))"
      ]
    },
    {
      "cell_type": "code",
      "execution_count": 52,
      "metadata": {},
      "outputs": [
        {
          "data": {
            "text/plain": [
              "[['cute', 'kitty'],\n",
              " ['eat', 'rice', 'cake'],\n",
              " ['kitty', 'hamster'],\n",
              " ['eat', 'bread'],\n",
              " ['rice', 'bread', 'cake'],\n",
              " ['cute', 'hamster', 'eats', 'bread', 'cake']]"
            ]
          },
          "execution_count": 52,
          "metadata": {},
          "output_type": "execute_result"
        }
      ],
      "source": [
        "training_set = []\n",
        "for doc in doc_ls:\n",
        "    # token_doc = []\n",
        "    # for token in word_tokenize(doc.lower()):\n",
        "    #     if token not in sw and len(token) > 1:\n",
        "    token_doc = [wnl.lemmatize(token) for token in word_tokenize(doc.lower()) if len(token) > 1 and token not in sw]\n",
        "    training_set.append(token_doc)\n",
        "\n",
        "training_set"
      ]
    },
    {
      "cell_type": "code",
      "execution_count": 53,
      "metadata": {},
      "outputs": [
        {
          "data": {
            "text/plain": [
              "[['cute', 'kitty'],\n",
              " ['eat', 'rice', 'cake'],\n",
              " ['kitty', 'hamster'],\n",
              " ['eat', 'bread'],\n",
              " ['rice', 'bread', 'cake'],\n",
              " ['cute', 'hamster', 'eats', 'bread', 'cake']]"
            ]
          },
          "execution_count": 53,
          "metadata": {},
          "output_type": "execute_result"
        }
      ],
      "source": [
        "training_set = [[wnl.lemmatize(token) for token in word_tokenize(doc.lower()) if len(token) > 1 and token not in sw] for doc in doc_ls]\n",
        "training_set"
      ]
    },
    {
      "cell_type": "code",
      "execution_count": 54,
      "metadata": {},
      "outputs": [
        {
          "ename": "NameError",
          "evalue": "name 'PorterStemmer' is not defined",
          "output_type": "error",
          "traceback": [
            "\u001b[1;31m---------------------------------------------------------------------------\u001b[0m",
            "\u001b[1;31mNameError\u001b[0m                                 Traceback (most recent call last)",
            "Cell \u001b[1;32mIn[54], line 9\u001b[0m\n\u001b[0;32m      6\u001b[0m     token_doc \u001b[39m=\u001b[39m [wnl\u001b[39m.\u001b[39mlemmatize(token) \u001b[39mfor\u001b[39;00m token \u001b[39min\u001b[39;00m word_tokenize(doc\u001b[39m.\u001b[39mlower()) \u001b[39mif\u001b[39;00m \u001b[39mlen\u001b[39m(token) \u001b[39m>\u001b[39m \u001b[39m1\u001b[39m \u001b[39mand\u001b[39;00m token \u001b[39mnot\u001b[39;00m \u001b[39min\u001b[39;00m sw]\n\u001b[0;32m      7\u001b[0m     training_set\u001b[39m.\u001b[39mappend(token_doc)\n\u001b[1;32m----> 9\u001b[0m ps \u001b[39m=\u001b[39m PorterStemmer()\n\u001b[0;32m     11\u001b[0m training_set\n",
            "\u001b[1;31mNameError\u001b[0m: name 'PorterStemmer' is not defined"
          ]
        }
      ],
      "source": [
        "training_set = []\n",
        "for doc in doc_ls:\n",
        "    # token_doc = []\n",
        "    # for token in word_tokenize(doc.lower()):\n",
        "    #     if token not in sw and len(token) > 1:\n",
        "    token_doc = [wnl.lemmatize(token) for token in word_tokenize(doc.lower()) if len(token) > 1 and token not in sw]\n",
        "    training_set.append(token_doc)\n",
        "\n",
        "ps = PorterStemmer()\n",
        "\n",
        "training_set"
      ]
    },
    {
      "cell_type": "code",
      "execution_count": null,
      "metadata": {},
      "outputs": [],
      "source": [
        "tokens = sum(training_set, [])\n",
        "tokens"
      ]
    },
    {
      "cell_type": "code",
      "execution_count": null,
      "metadata": {},
      "outputs": [],
      "source": [
        "word2idx = {t: i for i, t in enumerate(set(tokens))}\n",
        "word2idx"
      ]
    },
    {
      "cell_type": "code",
      "execution_count": null,
      "metadata": {},
      "outputs": [],
      "source": [
        "doc2idx = {d: i for i, d in enumerate(doc_ls)}\n",
        "doc2idx"
      ]
    },
    {
      "cell_type": "code",
      "execution_count": null,
      "metadata": {},
      "outputs": [],
      "source": [
        "# 랜덤하게 주제 할당\n",
        "import random\n",
        "\n",
        "doc_tok_topic = []\n",
        "\n",
        "for doc_idx, tokens in enumerate(training_set):\n",
        "    for token in tokens:\n",
        "        doc_tok_topic.append(\n",
        "            (doc_idx, word2idx[token], random.randint(0, 1))\n",
        "        )\n",
        "doc_tok_topic"
      ]
    },
    {
      "cell_type": "code",
      "execution_count": null,
      "metadata": {},
      "outputs": [],
      "source": [
        "# Document, Token 별 Topic 카운트\n",
        "a = 0.1\n",
        "b = 0.001\n",
        "k = 2\n",
        "\n",
        "doc_topic_cnt = [\n",
        "    (1.1, 1.1), # 문서 1의 주제 1, 주제 2 빈도 -> a\n",
        "]\n",
        "\n",
        "tok_topic_cnt = [\n",
        "    (1.001, 1.001) # 토큰별 주제 1, 주제 2 빈도 -> b\n",
        "]\n",
        "\n",
        "doc_topic_cnt = [[a] * k for doc in doc_ls]\n",
        "tok_topic_cnt = [[b] * k for token in word2idx]\n",
        "\n",
        "doc_topic_cnt, tok_topic_cnt"
      ]
    },
    {
      "cell_type": "code",
      "execution_count": null,
      "metadata": {},
      "outputs": [],
      "source": [
        "for doc_idx, tok_idx, topic_idx in doc_tok_topic:\n",
        "    doc_topic_cnt[doc_idx][topic_idx] += 1\n",
        "    tok_topic_cnt[tok_idx][topic_idx] += 1\n",
        "\n",
        "doc_topic_cnt, tok_topic_cnt"
      ]
    },
    {
      "cell_type": "code",
      "execution_count": null,
      "metadata": {},
      "outputs": [],
      "source": [
        "# 재할당 과정 반복\n",
        "\n",
        "for epoch in range(20):\n",
        "    for i, (doc_idx, tok_idx, topic_idx) in enumerate(doc_tok_topic):\n",
        "        doc_topic_cnt[doc_idx][topic_idx] -= 1\n",
        "        tok_topic_cnt[tok_idx][topic_idx] -= 1\n",
        "\n",
        "        topic_probs = []\n",
        "        for topic in range(k):\n",
        "            # doc 내 주제가 topic일 확률\n",
        "            doc_prob = doc_topic_cnt[doc_idx][topic] / sum(doc_topic_cnt[doc_idx])\n",
        "            # 주제 내 단어가 token일 확률\n",
        "            tok_prob = tok_topic_cnt[tok_idx][topic] / sum([t[topic] for t in tok_topic_cnt])\n",
        "\n",
        "            # doc 내 token이 topic일 확률\n",
        "            topic_probs.append(doc_prob * tok_prob)\n",
        "        \n",
        "        # 가장 큰 주제 확률로 토픽 할당\n",
        "        new_topic = np.argmax(topic_probs)\n",
        "        doc_tok_topic[i] = (doc_idx, tok_idx, new_topic)\n",
        "        doc_topic_cnt[doc_idx][new_topic] += 1\n",
        "        tok_topic_cnt[tok_idx][new_topic] += 1\n",
        "\n",
        "doc_topic_cnt, tok_topic_cnt"
      ]
    },
    {
      "cell_type": "code",
      "execution_count": null,
      "metadata": {},
      "outputs": [],
      "source": [
        "# 토픽 모델링\n",
        "\n",
        "idx2doc\n",
        "idx2word\n",
        "\n",
        "# 문서별 주제 출력\n",
        "# 주제별 단어 출력"
      ]
    },
    {
      "cell_type": "code",
      "execution_count": null,
      "metadata": {
        "id": "0sfF7Quwrv9m"
      },
      "outputs": [],
      "source": [
        "lda = LDA(doc_ls, 2)\n",
        "lda.TopicModeling(5)"
      ]
    },
    {
      "cell_type": "code",
      "execution_count": null,
      "metadata": {},
      "outputs": [],
      "source": []
    },
    {
      "attachments": {},
      "cell_type": "markdown",
      "metadata": {
        "id": "RS7TS1QP9Q7e"
      },
      "source": [
        "## 2.2  sklearn 활용"
      ]
    },
    {
      "attachments": {},
      "cell_type": "markdown",
      "metadata": {
        "id": "vwuy0ZcyNhfa"
      },
      "source": [
        "### 1) 토픽모델링 (파이프라인 미사용)\n",
        "\n",
        "- decomposition.LatentDirichletAllocation() : LDA 모델"
      ]
    },
    {
      "cell_type": "code",
      "execution_count": null,
      "metadata": {
        "id": "pX2qNArwVPbY"
      },
      "outputs": [],
      "source": [
        "!pip install pyLDAvis"
      ]
    },
    {
      "cell_type": "code",
      "execution_count": null,
      "metadata": {
        "id": "SaZrFgPaOuqJ"
      },
      "outputs": [],
      "source": [
        "import nltk\n",
        "nltk.download('stopwords')\n",
        "from nltk.corpus import stopwords\n",
        "import pandas as pd\n",
        "from sklearn.datasets import fetch_20newsgroups\n",
        "\n",
        "#뉴스 다운로드 및 전처리\n",
        "def get_news(apply_split=True) :\n",
        "    #20newsgroup 다운로드\n",
        "    dataset = fetch_20newsgroups(shuffle=True, random_state=1, remove=('headers', 'footers', 'quotes'))\n",
        "    documents = dataset.data\n",
        "\n",
        "    news_df = pd.DataFrame({'document':documents})\n",
        "    news_df['clean_doc'] = news_df['document'].str.replace(\"[^a-zA-Z]\", \" \") # 특수 문자 제거\n",
        "    news_df['clean_doc'] = news_df['clean_doc'].apply(lambda x: ' '.join([w for w in x.split() if len(w)>3])) # 길이가 3이하인 단어는 제거 (길이가 짧은 단어 제거)\n",
        "    news_df['clean_doc'] = news_df['clean_doc'].apply(lambda x: x.lower())# 전체 단어에 대한 소문자 변환\n",
        "    tokenized_doc = news_df['clean_doc'].apply(lambda x: x.split()) # 토큰화\n",
        "\n",
        "    stop_words = stopwords.words('english') # NLTK 불용어 조회\n",
        "\n",
        "    if apply_split :\n",
        "        return tokenized_doc.apply(lambda x: [item for item in x if item not in stop_words])\n",
        "    else :\n",
        "        return tokenized_doc.apply(lambda x: ' '.join([item for item in x if item not in stop_words]))"
      ]
    },
    {
      "cell_type": "code",
      "execution_count": null,
      "metadata": {
        "id": "cz82Rew1s9kF"
      },
      "outputs": [],
      "source": [
        "#공백으로 토큰 분리\n",
        "def my_tokenizer(text):\n",
        "    return text.split()\n",
        "\n",
        "tokenized_docs = get_news(False)"
      ]
    },
    {
      "cell_type": "code",
      "execution_count": null,
      "metadata": {
        "id": "ZIuciWdLLeuf"
      },
      "outputs": [],
      "source": [
        "from sklearn.feature_extraction.text import TfidfVectorizer\n",
        "from sklearn.decomposition import LatentDirichletAllocation\n",
        "\n",
        "tfidf_vect = TfidfVectorizer(tokenizer = my_tokenizer)\n",
        "tfidf = tfidf_vect.fit_transform(tokenized_docs)\n",
        "lda = LatentDirichletAllocation(n_components=20,\n",
        "                                max_iter=20,\n",
        "                                learning_method='online',\n",
        "                                random_state=100)\n",
        "\n",
        "lda_output = lda.fit_transform(tfidf)"
      ]
    },
    {
      "cell_type": "code",
      "execution_count": null,
      "metadata": {
        "id": "oyAE2FJjI1CV"
      },
      "outputs": [],
      "source": [
        "#!pip install pyLDAvis\n",
        "import pyLDAvis\n",
        "import pyLDAvis.sklearn\n",
        "\n",
        "pyLDAvis.enable_notebook()\n",
        "vis = pyLDAvis.sklearn.prepare(lda, tfidf, tfidf_vect, mds='tsne')\n",
        "pyLDAvis.display(vis)"
      ]
    },
    {
      "attachments": {},
      "cell_type": "markdown",
      "metadata": {
        "id": "iTfiF5E7VDk3"
      },
      "source": [
        "### 2) 토픽모델링 (파이프라인 사용)"
      ]
    },
    {
      "cell_type": "code",
      "execution_count": null,
      "metadata": {
        "id": "ppgErMneHMhs"
      },
      "outputs": [],
      "source": [
        "from sklearn.pipeline import Pipeline\n",
        "from sklearn.feature_extraction.text import TfidfVectorizer\n",
        "from sklearn.decomposition import LatentDirichletAllocation\n",
        "\n",
        "tokenized_docs = get_news(False)\n",
        "#파이프라이구성\n",
        "lda_pipeline = Pipeline([\n",
        "    ('tfidf_vect', TfidfVectorizer(tokenizer = my_tokenizer)),\n",
        "    ('lda', LatentDirichletAllocation(n_components=20,\n",
        "                                      max_iter=20,\n",
        "                                      learning_method='online',\n",
        "                                      random_state=100))])\n",
        "\n",
        "lda_pipeline.fit(tokenized_docs)"
      ]
    },
    {
      "cell_type": "code",
      "execution_count": null,
      "metadata": {
        "id": "hPcr3FOGtj3Z"
      },
      "outputs": [],
      "source": [
        "!pip install pyLDAvis"
      ]
    },
    {
      "cell_type": "code",
      "execution_count": null,
      "metadata": {
        "id": "tfenOQXhU1q_"
      },
      "outputs": [],
      "source": [
        "#!pip install pyLDAvis\n",
        "import pyLDAvis\n",
        "import pyLDAvis.sklearn\n",
        "\n",
        "tfidf_vect = lda_pipeline.named_steps['tfidf_vect']\n",
        "tfidf = tfidf_vect.fit_transform(tokenized_docs)\n",
        "lda = lda_pipeline.named_steps['lda']\n",
        "\n",
        "vis = pyLDAvis.sklearn.prepare(lda, tfidf, tfidf_vect, mds='tsne')\n",
        "pyLDAvis.display(vis)"
      ]
    },
    {
      "attachments": {},
      "cell_type": "markdown",
      "metadata": {
        "id": "-Cdpwhk7N80Y"
      },
      "source": [
        "### 3) 하이퍼파라미터 튜닝"
      ]
    },
    {
      "cell_type": "code",
      "execution_count": null,
      "metadata": {
        "id": "IxA8XpMQHLHF"
      },
      "outputs": [],
      "source": [
        "from sklearn.model_selection import GridSearchCV\n",
        "from sklearn.pipeline import Pipeline\n",
        "from sklearn.decomposition import LatentDirichletAllocation\n",
        "from sklearn.feature_extraction.text import TfidfVectorizer\n",
        "\n",
        "def tuning_hyperparams(train_data, n_jobs=1) :\n",
        "    lda_pipeline = Pipeline([\n",
        "        ('tfidf_vect', TfidfVectorizer(tokenizer = my_tokenizer)),\n",
        "        ('lda', LatentDirichletAllocation(max_iter=10, random_state=100))\n",
        "    ])\n",
        "\n",
        "    search_params = {\n",
        "        'tfidf_vect__ngram_range': [(1, 1), (1, 2)],\n",
        "        'tfidf_vect__use_idf': (True, False),\n",
        "        'lda__n_components': [10, 20]\n",
        "    }\n",
        "\n",
        "    gs_lda = GridSearchCV(lda_pipeline, search_params, n_jobs=n_jobs)\n",
        "    gs_lda = gs_lda.fit(train_data)\n",
        "    print(\"Best score: {0}\".format(gs_lda.best_score_))\n",
        "    print(\"Best parameters set:\")\n",
        "    best_parameters = gs_lda.best_estimator_.get_params()\n",
        "    for param_name in sorted(list(best_parameters.keys())):\n",
        "        print(\"\\t{0}: {1}\".format(param_name, best_parameters[param_name]))\n",
        "    return gs_lda.best_estimator_\n",
        "\n",
        "lda_pipeline = tuning_hyperparams(tokenized_docs)"
      ]
    },
    {
      "cell_type": "code",
      "execution_count": null,
      "metadata": {
        "id": "x16CyCWMXj8R"
      },
      "outputs": [],
      "source": [
        "#!pip install pyLDAvis\n",
        "import pyLDAvis\n",
        "import pyLDAvis.sklearn\n",
        "\n",
        "tfidf_vect = lda_pipeline.named_steps['tfidf_vect']\n",
        "tfidf = tfidf_vect.fit_transform(tokenized_docs)\n",
        "lda = lda_pipeline.named_steps['lda']\n",
        "\n",
        "vis = pyLDAvis.sklearn.prepare(lda, tfidf, tfidf_vect, mds='tsne')\n",
        "pyLDAvis.display(vis)"
      ]
    },
    {
      "attachments": {},
      "cell_type": "markdown",
      "metadata": {
        "id": "xf_J97e1NsTl"
      },
      "source": [
        "## 2.3 gensim 활용"
      ]
    },
    {
      "attachments": {},
      "cell_type": "markdown",
      "metadata": {
        "id": "mbB7yMnRNvB6"
      },
      "source": [
        "### 1) 토픽모델링"
      ]
    },
    {
      "cell_type": "code",
      "execution_count": null,
      "metadata": {
        "id": "c0hifkL58rrB"
      },
      "outputs": [],
      "source": [
        "import warnings\n",
        "warnings.filterwarnings(\"ignore\")"
      ]
    },
    {
      "cell_type": "code",
      "execution_count": null,
      "metadata": {
        "id": "r-FAziaL9KJ6"
      },
      "outputs": [],
      "source": [
        "from gensim import corpora\n",
        "from gensim.models import LdaModel, TfidfModel\n",
        "\n",
        "tokenized_docs = get_news()\n",
        "id2word = corpora.Dictionary(tokenized_docs)\n",
        "corpus_TDM = [id2word.doc2bow(doc) for doc in tokenized_docs]\n",
        "tfidf = TfidfModel(corpus_TDM)\n",
        "corpus_TFIDF = tfidf[corpus_TDM]\n",
        "\n",
        "n = 20\n",
        "lda = LdaModel(corpus=corpus_TFIDF,\n",
        "               id2word=id2word,\n",
        "               num_topics=n,\n",
        "               random_state=100)\n",
        "\n",
        "for t in lda.print_topics():\n",
        "    print(t)"
      ]
    },
    {
      "cell_type": "code",
      "execution_count": null,
      "metadata": {
        "id": "shGD7kDtDF7_"
      },
      "outputs": [],
      "source": [
        "corpus_TDM = [id2word.doc2bow(doc) for doc in tokenized_docs]\n",
        "tfidf = TfidfModel(corpus_TDM)\n",
        "corpus_TFIDF = tfidf[corpus_TDM]"
      ]
    },
    {
      "cell_type": "code",
      "execution_count": null,
      "metadata": {
        "id": "42GDOBDWYR0D"
      },
      "outputs": [],
      "source": [
        "import pyLDAvis\n",
        "import pyLDAvis.gensim_models as gensimvis\n",
        "\n",
        "pyLDAvis.enable_notebook()\n",
        "vis = gensimvis.prepare(lda, corpus_TFIDF, id2word, mds='tsne')\n",
        "pyLDAvis.display(vis)"
      ]
    },
    {
      "attachments": {},
      "cell_type": "markdown",
      "metadata": {
        "id": "jJ_1fTwuN4Vd"
      },
      "source": [
        "### 2) 하이퍼파라미터 튜닝\n",
        "\n",
        "- models.coherencemodel.CoherenceModel() : LDA에서 최적 토픽 개수를 추출하는 모델 (토픽의 응집력 계산)"
      ]
    },
    {
      "cell_type": "code",
      "execution_count": null,
      "metadata": {
        "id": "lc9UOlhKPDj8"
      },
      "outputs": [],
      "source": [
        "from gensim import corpora\n",
        "from gensim.models import LdaModel, TfidfModel\n",
        "from gensim.models.coherencemodel import CoherenceModel\n",
        "\n",
        "def compute_coherence_perplexity(tokenized_docs, end, start=2, step=3) :\n",
        "    id2word = corpora.Dictionary(tokenized_docs)\n",
        "    corpus_TDM = [id2word.doc2bow(doc) for doc in tokenized_docs]\n",
        "    tfidf = TfidfModel(corpus_TDM)\n",
        "    corpus_TFIDF = tfidf[corpus_TDM]\n",
        "\n",
        "    coherence_values = []\n",
        "    perplexity_values = []\n",
        "    model_list = []\n",
        "    topic_n_list = []\n",
        "\n",
        "    for num_topics in range(start, end, step):\n",
        "        model = LdaModel(corpus_TFIDF, num_topics=num_topics, id2word = id2word)\n",
        "\n",
        "        model_list.append(model)\n",
        "        coherencemodel = CoherenceModel(model=model,\n",
        "                                        texts=tokenized_docs,\n",
        "                                        dictionary=id2word,\n",
        "                                        coherence='c_v')\n",
        "        coherence_values.append(coherencemodel.get_coherence())\n",
        "        perplexity_values.append(model.log_perplexity(corpus_TFIDF))\n",
        "        topic_n_list.append(num_topics)\n",
        "\n",
        "    for t, c, p in zip(topic_n_list, coherence_values, perplexity_values) :\n",
        "        print(\"topic_n={}, coherence : {}, perplexity : {}\".format(t,c,p))\n",
        "\n",
        "    return corpus_TFIDF, id2word, model_list, coherence_values, perplexity_values"
      ]
    },
    {
      "cell_type": "code",
      "execution_count": null,
      "metadata": {
        "id": "rG0tNlbE3dTy"
      },
      "outputs": [],
      "source": [
        "from gensim import corpora\n",
        "from gensim.models import LdaModel, TfidfModel\n",
        "\n",
        "tokenized_docs = get_news()\n",
        "corpus, id2word, model_list, coherence_values, perplexity_values = compute_coherence_perplexity(tokenized_docs, start=10, end=30, step=10)"
      ]
    },
    {
      "cell_type": "code",
      "execution_count": null,
      "metadata": {
        "id": "4IRszRST5FZe"
      },
      "outputs": [],
      "source": [
        "lda_model = model_list[0]"
      ]
    },
    {
      "cell_type": "code",
      "execution_count": null,
      "metadata": {
        "id": "LyTD0xfM-vdI"
      },
      "outputs": [],
      "source": [
        "import pyLDAvis\n",
        "import pyLDAvis.gensim_models as gensimvis\n",
        "\n",
        "pyLDAvis.enable_notebook()\n",
        "vis = gensimvis.prepare(lda_model, corpus, id2word, mds='tsne')\n",
        "pyLDAvis.display(vis)"
      ]
    },
    {
      "cell_type": "code",
      "execution_count": null,
      "metadata": {
        "id": "DcIVqBHFg9WB"
      },
      "outputs": [],
      "source": []
    }
  ],
  "metadata": {
    "colab": {
      "provenance": []
    },
    "kernelspec": {
      "display_name": "base",
      "language": "python",
      "name": "python3"
    },
    "language_info": {
      "codemirror_mode": {
        "name": "ipython",
        "version": 3
      },
      "file_extension": ".py",
      "mimetype": "text/x-python",
      "name": "python",
      "nbconvert_exporter": "python",
      "pygments_lexer": "ipython3",
      "version": "3.8.0"
    },
    "vscode": {
      "interpreter": {
        "hash": "e508c96042fd7b3aa969c1a8875668ac50b0a6c54de6b2bab6d59ac763cd3db2"
      }
    }
  },
  "nbformat": 4,
  "nbformat_minor": 0
}
