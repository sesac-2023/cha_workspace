{
  "cells": [
    {
      "cell_type": "markdown",
      "metadata": {
        "id": "vlA_Fs0-Ze7V"
      },
      "source": [
        "# KoBERT 모델을 활용한 영화 리뷰 감성분석"
      ]
    },
    {
      "cell_type": "markdown",
      "metadata": {
        "id": "5qaG3PHTZkpF"
      },
      "source": [
        "## kobert를 사용하기 위한 kobert_transformers 패키지 다운로드\n",
        "\n",
        "https://github.com/monologg/KoBERT-Transformers.git\n"
      ]
    },
    {
      "cell_type": "code",
      "execution_count": null,
      "metadata": {
        "id": "NN_E8OkOZ18M"
      },
      "outputs": [],
      "source": [
        "!wget https://raw.githubusercontent.com/monologg/KoBERT-Transformers/master/kobert_transformers/tokenization_kobert.py -O ./tokenization_kobert.py"
      ]
    },
    {
      "cell_type": "code",
      "execution_count": null,
      "metadata": {
        "id": "ItpLurc1Zam5"
      },
      "outputs": [],
      "source": [
        "!pip3 install kobert-transformers"
      ]
    },
    {
      "cell_type": "markdown",
      "metadata": {
        "id": "IwP8HRY5aCOE"
      },
      "source": [
        "## 패키지 임포트\n",
        "\n",
        "- kobert_transformers를 활용해 kobert 모델을 불러옵니다.\n",
        "- tokenization_kobert는 kobert github에서 tokenizer를 가져오기위해 사용한 모듈입니다."
      ]
    },
    {
      "cell_type": "code",
      "execution_count": 3,
      "metadata": {
        "id": "l-RVMvbTZ-ki"
      },
      "outputs": [],
      "source": [
        "import torch\n",
        "from torch import nn\n",
        "from torch.utils.data import Dataset, DataLoader\n",
        "\n",
        "from kobert_transformers import get_kobert_model, get_distilkobert_model\n",
        "from tokenization_kobert import KoBertTokenizer\n",
        "\n",
        "#transformers\n",
        "from transformers import AdamW\n",
        "from transformers.optimization import get_cosine_schedule_with_warmup\n",
        "\n",
        "import numpy as np"
      ]
    },
    {
      "cell_type": "markdown",
      "metadata": {
        "id": "armWNAeWaX3j"
      },
      "source": [
        "## 데이터 준비\n",
        "\n",
        "- 네이버 영화 리뷰 데이터\n",
        "- 학습 데이터 15만개, 테스트 데이터 5만개로 이루어져 있습니다.\n",
        "\n",
        "https://github.com/e9t/nsmc.git"
      ]
    },
    {
      "cell_type": "code",
      "execution_count": null,
      "metadata": {
        "id": "Ppef73ZGagCb"
      },
      "outputs": [],
      "source": [
        "!wget https://raw.githubusercontent.com/e9t/nsmc/master/ratings_train.txt -O ./nsmc_train.tsv\n",
        "!wget https://raw.githubusercontent.com/e9t/nsmc/master/ratings_test.txt -O ./nsmc_test.tsv"
      ]
    },
    {
      "cell_type": "code",
      "execution_count": 6,
      "metadata": {
        "id": "4ZRJL5b9agvT"
      },
      "outputs": [],
      "source": [
        "train_reviews = [l.rstrip().split('\\t') for l in open('./nsmc_train.tsv').readlines()[1:]]\n",
        "test_reviews = [l.rstrip().split('\\t') for l in open('./nsmc_test.tsv').readlines()[1:]]"
      ]
    },
    {
      "cell_type": "code",
      "execution_count": 8,
      "metadata": {
        "colab": {
          "base_uri": "https://localhost:8080/"
        },
        "id": "ywbDmdU7bV27",
        "outputId": "6748050c-a04e-4bce-c6fb-7fe438c8044b"
      },
      "outputs": [
        {
          "output_type": "execute_result",
          "data": {
            "text/plain": [
              "(['6270596', '굳 ㅋ', '1'], 50000)"
            ]
          },
          "metadata": {},
          "execution_count": 8
        }
      ],
      "source": [
        "# id, review, label\n",
        "test_reviews[0], len(test_reviews)"
      ]
    },
    {
      "cell_type": "code",
      "source": [
        "sents, labels = tuple(zip(*[(sentence, int(label)) for _, sentence, label in train_reviews[:100]]))"
      ],
      "metadata": {
        "id": "35NMrE69bWRL"
      },
      "execution_count": 14,
      "outputs": []
    },
    {
      "cell_type": "code",
      "source": [
        "list(zip(sents, labels))"
      ],
      "metadata": {
        "id": "pFtuyV5jbo7R"
      },
      "execution_count": null,
      "outputs": []
    },
    {
      "cell_type": "code",
      "execution_count": 78,
      "metadata": {
        "id": "FwaYTH-uel2y"
      },
      "outputs": [],
      "source": [
        "train_sentences, train_labels = list(zip(*[(sentence, int(label)) for _, sentence, label in train_reviews[:50000]]))\n",
        "test_sentences, test_labels = list(zip(*[(sentence, int(label)) for _, sentence, label in test_reviews]))"
      ]
    },
    {
      "cell_type": "code",
      "source": [],
      "metadata": {
        "id": "UHKM9wB5bMRs"
      },
      "execution_count": 78,
      "outputs": []
    },
    {
      "cell_type": "markdown",
      "metadata": {
        "id": "sjdvxJpDbuqE"
      },
      "source": [
        "### EDA"
      ]
    },
    {
      "cell_type": "code",
      "execution_count": null,
      "metadata": {
        "id": "DAqYY9U6bufU"
      },
      "outputs": [],
      "source": [
        "# 문장 단위로 이루어져 있는지\n",
        "# 뉴스기사 수집했다면?\n",
        "# 하나의 본문 -> 여러개의 문장\n",
        "# seq_len 대략적으로 살펴보기\n",
        "# 문장으로 분리해야하는지 체크\n",
        "train_sentences[:20]"
      ]
    },
    {
      "cell_type": "code",
      "execution_count": 80,
      "metadata": {
        "id": "0q4sXecNbuJU",
        "colab": {
          "base_uri": "https://localhost:8080/"
        },
        "outputId": "30fc7846-c42f-498f-c1d3-415db80b80d6"
      },
      "outputs": [
        {
          "output_type": "execute_result",
          "data": {
            "text/plain": [
              "(158, 0, 35.48084)"
            ]
          },
          "metadata": {},
          "execution_count": 80
        }
      ],
      "source": [
        "sent_len = [len(s) for s in train_sentences]\n",
        "max(sent_len), min(sent_len), sum(sent_len)/len(sent_len)"
      ]
    },
    {
      "cell_type": "code",
      "execution_count": 81,
      "metadata": {
        "id": "7mQlCxy9buQ7",
        "colab": {
          "base_uri": "https://localhost:8080/",
          "height": 430
        },
        "outputId": "20ef1d86-67e8-4665-fa58-c4976558f500"
      },
      "outputs": [
        {
          "output_type": "display_data",
          "data": {
            "text/plain": [
              "<Figure size 640x480 with 1 Axes>"
            ],
            "image/png": "[encoded data removed]"
          },
          "metadata": {}
        }
      ],
      "source": [
        "import matplotlib.pyplot as plt\n",
        "\n",
        "plt.hist(sent_len)\n",
        "plt.show()"
      ]
    },
    {
      "cell_type": "markdown",
      "metadata": {
        "id": "5W3sFNGyaVDU"
      },
      "source": [
        "## Configs 설정"
      ]
    },
    {
      "cell_type": "code",
      "execution_count": 52,
      "metadata": {
        "id": "SeyZuX1waEgk"
      },
      "outputs": [],
      "source": [
        "max_len = 128 # 문장 최대길이, EDA 필요\n",
        "batch_size = 64"
      ]
    },
    {
      "cell_type": "code",
      "execution_count": 53,
      "metadata": {
        "id": "OCSZffpHaWmb"
      },
      "outputs": [],
      "source": [
        "device = torch.device(\"cuda\" if torch.cuda.is_available() else 'cpu')"
      ]
    },
    {
      "cell_type": "code",
      "execution_count": 54,
      "metadata": {
        "colab": {
          "base_uri": "https://localhost:8080/"
        },
        "id": "8FDsBHtCb3Cz",
        "outputId": "322d3ade-9b95-4910-a1e0-655dc037641a"
      },
      "outputs": [
        {
          "output_type": "execute_result",
          "data": {
            "text/plain": [
              "device(type='cuda')"
            ]
          },
          "metadata": {},
          "execution_count": 54
        }
      ],
      "source": [
        "device"
      ]
    },
    {
      "cell_type": "markdown",
      "metadata": {
        "id": "BsMmNz38b3rj"
      },
      "source": [
        "## Input Transformer\n",
        "\n",
        "- 입력 문장을 bert 입력에 필요한 값들로 바꿔줍니다.\n",
        "- token_ids : 입력 문장을 토큰화한 값\n",
        "    - 입력 문장을 토큰화합니다.\n",
        "    - [CLS], [SEP]토큰을 추가합니다.\n",
        "    - 토큰들을 id (숫자값)으로 치환합니다.\n",
        "    - 문장이 길 경우 max_len까지만 사용합니다.\n",
        "- valid_lengths : 유효 토큰 길이 값\n",
        "- segment_ids : NSP task에서 문장 구분을 위해 사용합니다.\n",
        "앞 문장 0, 뒷 문장 1. 여기서는 모두 0입니다.\n"
      ]
    },
    {
      "cell_type": "code",
      "execution_count": 82,
      "metadata": {
        "id": "mvcYSZz_b3Kc"
      },
      "outputs": [],
      "source": [
        "class InputTransformer:\n",
        "\n",
        "    def __init__(self, tokenizer, max_len=128):\n",
        "        self.tokenizer = tokenizer\n",
        "        self.max_len = max_len\n",
        "        self.pad_token = tokenizer.convert_tokens_to_ids(['[PAD]'])[0]\n",
        "\n",
        "    def transform(self, sentences):\n",
        "        # 성능개선필요 https://github.com/monologg/KoBERT-nsmc/blob/master/data_loader.py\n",
        "        tokenized = [self.tokenizer.tokenize(sentence) for sentence in sentences]\n",
        "        input_ids = [self.tokenizer.convert_tokens_to_ids(['[CLS]'] + tokens + ['[SEP]'])[:self.max_len]\n",
        "                     for tokens in tokenized]\n",
        "        valid_lengths = [input_id.index(3) if len(input_id) < self.max_len else self.max_len for input_id in input_ids]\n",
        "        token_ids = [np.array(input_id + [self.pad_token]*(self.max_len-valid_lengths[i]-1)) for i, input_id in enumerate(input_ids)]\n",
        "        segment_ids = [np.zeros(self.max_len) for i in range(len(sentences))]\n",
        "\n",
        "        return list(zip(token_ids, valid_lengths, segment_ids))\n",
        "\n",
        "# class InputTransformer:\n",
        "\n",
        "#     def __init__(self, tokenizer, max_len=128):\n",
        "#         self.tokenizer = tokenizer\n",
        "#         self.max_len = max_len\n",
        "#         self.pad_token = tokenizer.convert_tokens_to_ids(['[PAD]'])[0]\n",
        "\n",
        "#     def transform(self, sentences):\n",
        "#         inputs = [self.tokenizer(sentence,\n",
        "#                                  padding='max_length',\n",
        "#                                  max_length=self.max_len,\n",
        "#                                  truncation=True)\n",
        "#                                  for sentence in sentences] #{input_ids, token_type_ids, attention_mask}\n",
        "\n",
        "#         return inputs"
      ]
    },
    {
      "cell_type": "markdown",
      "metadata": {
        "id": "x-LR_VJ0rs3l"
      },
      "source": [
        "## BERT Dataset\n",
        "\n",
        "- 문장들을 Input Transformer 처리하고 label을 텐서 자료형으로 변환합니다."
      ]
    },
    {
      "cell_type": "code",
      "execution_count": 83,
      "metadata": {
        "id": "ifrOFc2-b850"
      },
      "outputs": [],
      "source": [
        "class BERTDataset(Dataset):\n",
        "\n",
        "    def __init__(self, transformer, sentences, labels=()):\n",
        "        self.sentences = transformer.transform(sentences)\n",
        "        self.is_test = False if labels else True\n",
        "        self.labels = torch.tensor(labels, dtype=torch.long)\n",
        "\n",
        "    def __getitem__(self, i):\n",
        "        return self.sentences[i], self.labels[i] if not self.is_test else _\n",
        "\n",
        "    def __len__(self):\n",
        "        return len(self.sentences)\n"
      ]
    },
    {
      "cell_type": "code",
      "execution_count": 84,
      "metadata": {
        "colab": {
          "base_uri": "https://localhost:8080/"
        },
        "id": "yDR7piYzcKrr",
        "outputId": "f45cdf77-fb9d-431b-a411-6ea4494ab722"
      },
      "outputs": [
        {
          "output_type": "stream",
          "name": "stderr",
          "text": [
            "The tokenizer class you load from this checkpoint is not the same type as the class this function is called from. It may result in unexpected tokenization. \n",
            "The tokenizer class you load from this checkpoint is 'BertTokenizer'. \n",
            "The class this function is called from is 'KoBertTokenizer'.\n"
          ]
        }
      ],
      "source": [
        "tokenizer = KoBertTokenizer.from_pretrained('monologg/kobert')\n",
        "input_transformer = InputTransformer(tokenizer, max_len)\n",
        "\n",
        "# train & test 데이터로 나누기\n",
        "from sklearn.model_selection import train_test_split\n",
        "\n",
        "trn_sents, valid_sents, trn_labels, valid_labels = train_test_split(train_sentences, train_labels, test_size=0.25, random_state=0, stratify=train_labels, shuffle=True)\n",
        "\n",
        "train_dataset = BERTDataset(input_transformer, trn_sents, trn_labels)\n",
        "train_loader = DataLoader(train_dataset, batch_size=batch_size, num_workers=0)\n",
        "\n",
        "valid_dataset = BERTDataset(input_transformer, valid_sents, valid_labels)\n",
        "valid_loader = DataLoader(valid_dataset, batch_size=batch_size, num_workers=0)"
      ]
    },
    {
      "cell_type": "code",
      "execution_count": 85,
      "metadata": {
        "id": "vdz8iG8dt2Fc"
      },
      "outputs": [],
      "source": [
        "length_list = [l for _, l, _ in train_dataset.sentences]"
      ]
    },
    {
      "cell_type": "code",
      "execution_count": 86,
      "metadata": {
        "colab": {
          "base_uri": "https://localhost:8080/",
          "height": 525
        },
        "id": "_LnT2Pept3s2",
        "outputId": "5286fedf-1d0c-4eb9-93fa-a3747140ee8c"
      },
      "outputs": [
        {
          "output_type": "execute_result",
          "data": {
            "text/plain": [
              "<seaborn.axisgrid.FacetGrid at 0x79ec93052e00>"
            ]
          },
          "metadata": {},
          "execution_count": 86
        },
        {
          "output_type": "display_data",
          "data": {
            "text/plain": [
              "<Figure size 500x500 with 1 Axes>"
            ],
            "image/png": "[encoded data removed]"
          },
          "metadata": {}
        }
      ],
      "source": [
        "import seaborn as sns\n",
        "\n",
        "sns.displot(length_list, kde=True)"
      ]
    },
    {
      "cell_type": "markdown",
      "metadata": {
        "id": "p65gQenHr7L_"
      },
      "source": [
        "## 모델링\n",
        "\n",
        "Bert모델에 pytorch 코드 구현 자료\n",
        "https://neptune.ai/blog/how-to-code-bert-using-pytorch-tutorial\n",
        "\n",
        "BERT Classifier 모델입니다.\n",
        "\n",
        "forward에서 사용하는 attention_mask는 gen_attention_mask에서 생성합니다.\n",
        "<br /><br />\n",
        "\n",
        "#### _, pooler = self.bert(...) 에 대한 설명\n",
        "\n",
        "- bert에 Feed Forward 하여 앞서 input_transformer 적용 시 문장별로 맨 앞에 주었던 [CLS] 토큰에 대한 임베딩 벡터를 반환합니다. (pooled)\n",
        "- 앞의 _는 bert의 output으로 전체 sequence에 대한 embedding 벡터입니다."
      ]
    },
    {
      "cell_type": "code",
      "execution_count": 87,
      "metadata": {
        "id": "juoz8QsAb__k"
      },
      "outputs": [],
      "source": [
        "class BERTClassifier(nn.Module):\n",
        "    def __init__(self,\n",
        "                 bert,\n",
        "                 hidden_size = 768,\n",
        "                 num_classes=2,\n",
        "                 dr_rate=None):\n",
        "        super(BERTClassifier, self).__init__()\n",
        "        self.bert = bert\n",
        "        self.dr_rate = dr_rate\n",
        "        self.classifier = nn.Linear(hidden_size , num_classes)\n",
        "\n",
        "        if dr_rate:\n",
        "            self.dropout = nn.Dropout(p=dr_rate)\n",
        "\n",
        "    def gen_attention_mask(self, token_ids, valid_length):\n",
        "        attention_mask = torch.zeros_like(token_ids)\n",
        "\n",
        "        for i, v in enumerate(valid_length):\n",
        "            attention_mask[i][:v] = 1\n",
        "\n",
        "        return attention_mask.float()\n",
        "\n",
        "    def forward(self, token_ids, valid_length, segment_ids):\n",
        "        attention_mask = self.gen_attention_mask(token_ids, valid_length)\n",
        "        _, pooler = self.bert(input_ids = token_ids, token_type_ids = segment_ids.long(),\n",
        "                              attention_mask = attention_mask.to(token_ids.device), return_dict=False)\n",
        "\n",
        "        if self.dr_rate:\n",
        "            out = self.dropout(pooler)\n",
        "\n",
        "        return self.classifier(out)\n",
        "\n",
        "kobert = get_kobert_model()\n",
        "model = BERTClassifier(kobert, dr_rate=0.5).to(device)"
      ]
    },
    {
      "cell_type": "code",
      "execution_count": 61,
      "metadata": {
        "id": "r4gUiwnOt3Mj"
      },
      "outputs": [],
      "source": [
        "# class BERTRegressor(nn.Module):\n",
        "#     def __init__(self,\n",
        "#                  bert,\n",
        "#                  hidden_size = 768,\n",
        "#                  num_areas=4,\n",
        "#                  dr_rate=None):\n",
        "#         super(BERTRegressor, self).__init__()\n",
        "#         self.bert = bert\n",
        "#         self.dr_rate = dr_rate\n",
        "#         self.regressor = nn.Linear(hidden_size , num_areas)\n",
        "#         if dr_rate:\n",
        "#             self.dropout = nn.Dropout(p=dr_rate)\n",
        "\n",
        "#     def forward(self, inputs):\n",
        "#         if type(self.bert) == DistilBertModel:\n",
        "#             inputs.pop('token_type_ids')\n",
        "#             sequence_output = self.bert(**inputs,\n",
        "#                                   return_dict=False)\n",
        "#             pooler = sequence_output[0][:, 0]\n",
        "#         else:\n",
        "#             _, pooler = self.bert(**inputs, return_dict=False)\n",
        "\n",
        "#         if self.dr_rate:\n",
        "#             out = self.dropout(pooler)\n",
        "#         return self.regressor(out)\n"
      ]
    },
    {
      "cell_type": "markdown",
      "metadata": {
        "id": "_wjBDAYgcear"
      },
      "source": [
        "## 모델 학습"
      ]
    },
    {
      "cell_type": "code",
      "execution_count": 62,
      "metadata": {
        "id": "tX2gxlQrceKC"
      },
      "outputs": [],
      "source": [
        "num_epochs = 5\n",
        "learning_rate = 5e-5\n",
        "warmup_ratio = 0.1\n",
        "max_grad_norm = 1\n",
        "log_interval = 50"
      ]
    },
    {
      "cell_type": "code",
      "source": [
        "'{:.5f}'.format(5e-5)"
      ],
      "metadata": {
        "colab": {
          "base_uri": "https://localhost:8080/",
          "height": 36
        },
        "id": "IvU5lGJzh_xA",
        "outputId": "cf1ce72f-ce4f-4897-b673-560a62c2ccec"
      },
      "execution_count": 63,
      "outputs": [
        {
          "output_type": "execute_result",
          "data": {
            "text/plain": [
              "'0.00005'"
            ],
            "application/vnd.google.colaboratory.intrinsic+json": {
              "type": "string"
            }
          },
          "metadata": {},
          "execution_count": 63
        }
      ]
    },
    {
      "cell_type": "code",
      "source": [
        "model # 모델 구조 확인\n",
        "\n",
        "# 이름으로 가중치 freeze\n",
        "for name, param in model.named_parameters():\n",
        "    if name in ['가중치 학습할 layers']:\n",
        "        param.requires_grad = True\n",
        "    else:\n",
        "        param.requires_grad = False"
      ],
      "metadata": {
        "id": "O8fyVMq_s0Ma"
      },
      "execution_count": null,
      "outputs": []
    },
    {
      "cell_type": "code",
      "execution_count": 88,
      "metadata": {
        "colab": {
          "base_uri": "https://localhost:8080/"
        },
        "id": "V2Ecc_BychNT",
        "outputId": "ea43ad94-90d5-4979-d14d-7d2af2cc11f3"
      },
      "outputs": [
        {
          "output_type": "stream",
          "name": "stderr",
          "text": [
            "/usr/local/lib/python3.10/dist-packages/transformers/optimization.py:411: FutureWarning: This implementation of AdamW is deprecated and will be removed in a future version. Use the PyTorch implementation torch.optim.AdamW instead, or set `no_deprecation_warning=True` to disable this warning\n",
            "  warnings.warn(\n"
          ]
        }
      ],
      "source": [
        "no_decay = ['bias', 'LayerNorm.weight']\n",
        "optimizer_grouped_parameters = [\n",
        "    {'params': [p for n, p in model.named_parameters() if not any(nd in n for nd in no_decay)], 'weight_decay': 0.01},\n",
        "    {'params': [p for n, p in model.named_parameters() if any(nd in n for nd in no_decay)], 'weight_decay': 0.0}\n",
        "]\n",
        "\n",
        "# weight freeze\n",
        "for param in model.bert.parameters():\n",
        "    param.requires_grad = False\n",
        "\n",
        "# for param in model.parameters():\n",
        "#     param.requires_grad = False\n",
        "\n",
        "# for param in model.features[-1].parameters():\n",
        "#     param.requires_grad = True\n",
        "\n",
        "\n",
        "# 옵티마이저, 손실함수 지정\n",
        "optimizer = AdamW(optimizer_grouped_parameters, lr=learning_rate, eps=1e-8)\n",
        "loss_fn = nn.CrossEntropyLoss().cuda()\n",
        "\n",
        "t_total = len(train_loader) * num_epochs\n",
        "warmup_step = int(t_total * warmup_ratio)\n",
        "\n",
        "scheduler = get_cosine_schedule_with_warmup(optimizer, num_warmup_steps=warmup_step, num_training_steps=t_total)"
      ]
    },
    {
      "cell_type": "code",
      "execution_count": 65,
      "metadata": {
        "id": "zHLeZglrciaD"
      },
      "outputs": [],
      "source": [
        "from tqdm.auto import tqdm"
      ]
    },
    {
      "cell_type": "code",
      "execution_count": 66,
      "metadata": {
        "id": "2CO726_JdLI7"
      },
      "outputs": [],
      "source": [
        "def calc_accuracy(X,Y):\n",
        "    max_vals, max_indices = torch.max(X, 1)\n",
        "    acc = (max_indices == Y).sum().data.cpu().numpy()/max_indices.size()[0]\n",
        "    return acc"
      ]
    },
    {
      "cell_type": "code",
      "execution_count": 67,
      "metadata": {
        "id": "8CJoBw8whTrp"
      },
      "outputs": [],
      "source": [
        "from copy import deepcopy"
      ]
    },
    {
      "cell_type": "code",
      "execution_count": 89,
      "metadata": {
        "colab": {
          "base_uri": "https://localhost:8080/",
          "height": 1000,
          "referenced_widgets": [
            "6d794f19a86b427694f5afdce49d4c72",
            "65acc1750eb24a269d084bf1fbd01207",
            "a66406ee502a41ad9be4620ddaee88a0",
            "c8648a278a7748eb8bcbcdf61df6fa9f",
            "e0dfc2b55b4245c5b2625b57923f5c5c",
            "308139e9a6b84686b47ae9e58a354901",
            "5a42808b48094f05aebb0b40442c4e15",
            "506dc80f28ab46a38729b5ecb717c091",
            "08afe15cb4ad44a4987696ac5ebb8a35",
            "4297947823604416862dff4ccccae933",
            "261f9aea1e9848c783418603f400cfd5",
            "e507a787b0eb4269b7199e947feaf70b",
            "b016efeddeb345ec91ee253fddb58395",
            "9cdd96c7fc6446f9a9a75ee5835852e5",
            "5e240e15075e47ec848064a4e019887e",
            "0e518d5f0d5f43edbcc7fb55bd6815eb",
            "7e10f377afa54be2a2789f368aeab3d0",
            "3bac4e29c5dd44bd87eb2657e18a7c1b",
            "1082f6a5741b4caa93c77cdc7f987c97",
            "bb1eb9ce68264b33b58ab8c70879eb5c",
            "4d50d07520a84f688c4b67689624bfe2",
            "821fa1be32b64eb58f7f25eeff387d8a",
            "3cf5a63b4fcc40e8aa77601d53e8cd85",
            "9457d0a138394f219442b67f3a888fcc",
            "f15b654b07ba4838a4e05ce45dff40e7",
            "f769ab97eafb4585bfb58b9b342e38ad",
            "01b4e348e6434aefbd8d4efb124122a9",
            "5d91c39e61f5489188e89d6229bad18d",
            "97bb640fcc7d44b49ed0860588e019f3",
            "389f939ef66b47d39e86b4a81f3bf027",
            "f1e716f24b95445e850da1d249078373",
            "5b41976f18f2465681bdf61960e9fbf4",
            "fc60f84e61244a618095541a6bbf38e0",
            "af0e14d81ce84320baf6babae66cd62d",
            "ba3d8357a06c4ec192857e68abb725bf",
            "da882f43c2554121820bd515df01a2f8",
            "83b12d22149a46c3a23291a69290ad5c",
            "1b9d7943f0cf495aa07c4c70957221ed",
            "cf97687965914ba9aeabf1838fa95616",
            "637f115475394184b81f9b62d3a2c764",
            "966dd3bf4a614c57b942d49cf83c27f1",
            "818baa89a1474715848236ab966f3989",
            "1f2b663448804e4e94a6d269840dc50b",
            "26bad954fb8d45079feb4efdcfb0dd3c",
            "8c521cea97944dc5abb6d524a65e7a71",
            "435953c5c84c45848c9b5c277759ea3d",
            "b833a3a8e83f48cb818b5e7532a7cb72",
            "73bd950c3f9c4f918b2266d5f400876d",
            "c9a65e37f3c144c2b7dc961795f8e3ea",
            "a4b0410e45be401c8f432bb5b1a95815",
            "599c83d718294b1db4b0e2b987afc551",
            "7957b502af6141a5b2fa11545d8fb055",
            "ddf9e2ee519446bf8d47c6db44ba4117",
            "97158b3e6450436b960726e43681999e",
            "965331fb35db4c6bb6bbfe16a99c7100",
            "555a33e61668449b9b8a03d2ee5d69da",
            "7f5d9b503d54430bbf760d4fd1132bad",
            "a6d850671f0441fd8f54aa4963a9b690",
            "dbe0ed4ee02444a59d794aaf161a36f0",
            "aa092437686c470ea56d3ee2f656be1d",
            "cd26d95756894b12bbea346587804049",
            "39f3c7bb8f1d4ef9b6527d97275c6548",
            "43d0a248c4f04172b4406103ff7827b8",
            "4cad51fab0904ce4887fae2228f78ec1",
            "1fc1f3f4c85f490eb7a369567ada8c6c",
            "1f3c11d8a0a6435585698f999a86b85a",
            "c62237fc410c4e5d95c350e3dab989ad",
            "7a8f47eccb2d4e2d8d8328ad3cf6c2a5",
            "d3d2878826f64ff38503310b391da14a",
            "fbc062fb79cc44bb90ffb2517983c6ed",
            "832c437a75a5433bb12eaf9d07804bc4",
            "2278c6b704cf4439a16e45dcaeec0e18",
            "a1965132bb93423c901283154fc453cc",
            "f6bfaf6cc7914b0caa7a81b440423f0c",
            "637d295be3ad484cb67a27fd7c7c0720",
            "89e736606eb24eef8f051ba6f1271385",
            "25c094755c084e87b11d39ed540857bc",
            "094c2c09011a42ec919bceff78a1e062",
            "0e0a97d1a53c4d82be7b5cdc731a93f7",
            "a658bca4586d459bb49f6bfca443a1ec",
            "da7d6f6161064bb3951f256c250802cd",
            "381e88feaefd460f89b526c9e597d90e",
            "726f09c64cd140ecaadd75084caaaaab",
            "171b247586ab4cc58deac048749f012f",
            "528e62a7656f48c98de1509c3b746c41",
            "212d47de9dd84911a09742418dc36164",
            "85c8ec9c53ec4420820404753dbe3c4e",
            "c1871027665e4757a299091dd512a392",
            "92aeec6afe7841b79ae54b7e8fc9b7c4",
            "ff547f5be9b4446e81459b5dbf6e3c7c",
            "f8b05386502043bc923771151717e611",
            "713c59735bf142429e1c1916451914f6",
            "3965dc2b528747239bb65de943de5575",
            "064dac4f11f84d198d4d0fbcea641445",
            "6d854f50133943a4a13f97e59393b2b5",
            "33b3f597b9624f5297c422b9463e32f9",
            "6e98199195294fa998d5a4ec889b179e",
            "f43be70903af4bba9fec7a52bc41f3ba",
            "48edfc97a54d4579b8080ff2d0a8d789",
            "174324ee854b4ec49b2183bf09f6d013",
            "ad7875ee73df408e93944314bc8cc090",
            "e3deff3cf35f460391f70c6b3df22a25",
            "9f28b9f0df4c44fca86e2bf90189ee3b",
            "1788fd0a705d44deb37539cf97341cc3",
            "815c320eef164e4083bc53032af119a0",
            "3b8a336ef41742e496d0627c68789def",
            "34097aa363494f80ac58afb20834fcaa",
            "3f18e803d7c641f9917495245c20433f",
            "738e0e6d28294ebeab62f385291721f8",
            "80fa11d8c66745b8b229ae2348d95b88"
          ]
        },
        "id": "004zgy2ZcjL6",
        "outputId": "ed4fe26d-ef05-41b5-ba2c-39fac9818334"
      },
      "outputs": [
        {
          "data": {
            "application/vnd.jupyter.widget-view+json": {
              "model_id": "6d794f19a86b427694f5afdce49d4c72",
              "version_major": 2,
              "version_minor": 0
            },
            "text/plain": [
              "  0%|          | 0/586 [00:00<?, ?it/s]"
            ]
          },
          "metadata": {},
          "output_type": "display_data"
        },
        {
          "metadata": {
            "tags": null
          },
          "name": "stdout",
          "output_type": "stream",
          "text": [
            "[train]\tepoch: 1\t batch id: 50/586\t train_loss: 0.6902\t train_acc: 0.5241\n",
            "[train]\tepoch: 1\t batch id: 100/586\t train_loss: 0.6540\t train_acc: 0.6070\n",
            "[train]\tepoch: 1\t batch id: 150/586\t train_loss: 0.4039\t train_acc: 0.6631\n",
            "[train]\tepoch: 1\t batch id: 200/586\t train_loss: 0.5442\t train_acc: 0.6927\n",
            "[train]\tepoch: 1\t batch id: 250/586\t train_loss: 0.3968\t train_acc: 0.7148\n",
            "[train]\tepoch: 1\t batch id: 300/586\t train_loss: 0.6247\t train_acc: 0.7312\n",
            "[train]\tepoch: 1\t batch id: 350/586\t train_loss: 0.3688\t train_acc: 0.7441\n",
            "[train]\tepoch: 1\t batch id: 400/586\t train_loss: 0.3412\t train_acc: 0.7557\n",
            "[train]\tepoch: 1\t batch id: 450/586\t train_loss: 0.4538\t train_acc: 0.7647\n",
            "[train]\tepoch: 1\t batch id: 500/586\t train_loss: 0.3142\t train_acc: 0.7728\n",
            "[train]\tepoch: 1\t batch id: 550/586\t train_loss: 0.3560\t train_acc: 0.7793\n"
          ]
        },
        {
          "data": {
            "application/vnd.jupyter.widget-view+json": {
              "model_id": "e507a787b0eb4269b7199e947feaf70b",
              "version_major": 2,
              "version_minor": 0
            },
            "text/plain": [
              "  0%|          | 0/196 [00:00<?, ?it/s]"
            ]
          },
          "metadata": {},
          "output_type": "display_data"
        },
        {
          "output_type": "stream",
          "name": "stdout",
          "text": [
            "[valid]\tepoch: 1\t valid loss: 0.3495\t valid acc: 0.8402\n"
          ]
        },
        {
          "output_type": "display_data",
          "data": {
            "text/plain": [
              "  0%|          | 0/586 [00:00<?, ?it/s]"
            ],
            "application/vnd.jupyter.widget-view+json": {
              "version_major": 2,
              "version_minor": 0,
              "model_id": "3cf5a63b4fcc40e8aa77601d53e8cd85"
            }
          },
          "metadata": {}
        },
        {
          "output_type": "stream",
          "name": "stdout",
          "text": [
            "[train]\tepoch: 2\t batch id: 50/586\t train_loss: 0.3689\t train_acc: 0.8516\n",
            "[train]\tepoch: 2\t batch id: 100/586\t train_loss: 0.4520\t train_acc: 0.8497\n",
            "[train]\tepoch: 2\t batch id: 150/586\t train_loss: 0.3163\t train_acc: 0.8556\n",
            "[train]\tepoch: 2\t batch id: 200/586\t train_loss: 0.2260\t train_acc: 0.8601\n",
            "[train]\tepoch: 2\t batch id: 250/586\t train_loss: 0.2953\t train_acc: 0.8629\n",
            "[train]\tepoch: 2\t batch id: 300/586\t train_loss: 0.3687\t train_acc: 0.8689\n",
            "[train]\tepoch: 2\t batch id: 350/586\t train_loss: 0.2170\t train_acc: 0.8724\n",
            "[train]\tepoch: 2\t batch id: 400/586\t train_loss: 0.2807\t train_acc: 0.8758\n",
            "[train]\tepoch: 2\t batch id: 450/586\t train_loss: 0.2876\t train_acc: 0.8785\n",
            "[train]\tepoch: 2\t batch id: 500/586\t train_loss: 0.0991\t train_acc: 0.8823\n",
            "[train]\tepoch: 2\t batch id: 550/586\t train_loss: 0.2358\t train_acc: 0.8838\n"
          ]
        },
        {
          "output_type": "display_data",
          "data": {
            "text/plain": [
              "  0%|          | 0/196 [00:00<?, ?it/s]"
            ],
            "application/vnd.jupyter.widget-view+json": {
              "version_major": 2,
              "version_minor": 0,
              "model_id": "af0e14d81ce84320baf6babae66cd62d"
            }
          },
          "metadata": {}
        },
        {
          "output_type": "stream",
          "name": "stdout",
          "text": [
            "[valid]\tepoch: 2\t valid loss: 0.3485\t valid acc: 0.8623\n"
          ]
        },
        {
          "output_type": "display_data",
          "data": {
            "text/plain": [
              "  0%|          | 0/586 [00:00<?, ?it/s]"
            ],
            "application/vnd.jupyter.widget-view+json": {
              "version_major": 2,
              "version_minor": 0,
              "model_id": "8c521cea97944dc5abb6d524a65e7a71"
            }
          },
          "metadata": {}
        },
        {
          "output_type": "stream",
          "name": "stdout",
          "text": [
            "[train]\tepoch: 3\t batch id: 50/586\t train_loss: 0.3778\t train_acc: 0.9087\n",
            "[train]\tepoch: 3\t batch id: 100/586\t train_loss: 0.2619\t train_acc: 0.9094\n",
            "[train]\tepoch: 3\t batch id: 150/586\t train_loss: 0.2697\t train_acc: 0.9133\n",
            "[train]\tepoch: 3\t batch id: 200/586\t train_loss: 0.0938\t train_acc: 0.9191\n",
            "[train]\tepoch: 3\t batch id: 250/586\t train_loss: 0.1979\t train_acc: 0.9223\n",
            "[train]\tepoch: 3\t batch id: 300/586\t train_loss: 0.2810\t train_acc: 0.9255\n",
            "[train]\tepoch: 3\t batch id: 350/586\t train_loss: 0.1761\t train_acc: 0.9282\n",
            "[train]\tepoch: 3\t batch id: 400/586\t train_loss: 0.0383\t train_acc: 0.9303\n",
            "[train]\tepoch: 3\t batch id: 450/586\t train_loss: 0.1494\t train_acc: 0.9318\n",
            "[train]\tepoch: 3\t batch id: 500/586\t train_loss: 0.1020\t train_acc: 0.9334\n",
            "[train]\tepoch: 3\t batch id: 550/586\t train_loss: 0.1083\t train_acc: 0.9347\n"
          ]
        },
        {
          "output_type": "display_data",
          "data": {
            "text/plain": [
              "  0%|          | 0/196 [00:00<?, ?it/s]"
            ],
            "application/vnd.jupyter.widget-view+json": {
              "version_major": 2,
              "version_minor": 0,
              "model_id": "555a33e61668449b9b8a03d2ee5d69da"
            }
          },
          "metadata": {}
        },
        {
          "output_type": "stream",
          "name": "stdout",
          "text": [
            "[valid]\tepoch: 3\t valid loss: 0.4701\t valid acc: 0.8717\n"
          ]
        },
        {
          "output_type": "display_data",
          "data": {
            "text/plain": [
              "  0%|          | 0/586 [00:00<?, ?it/s]"
            ],
            "application/vnd.jupyter.widget-view+json": {
              "version_major": 2,
              "version_minor": 0,
              "model_id": "c62237fc410c4e5d95c350e3dab989ad"
            }
          },
          "metadata": {}
        },
        {
          "output_type": "stream",
          "name": "stdout",
          "text": [
            "[train]\tepoch: 4\t batch id: 50/586\t train_loss: 0.2761\t train_acc: 0.9419\n",
            "[train]\tepoch: 4\t batch id: 100/586\t train_loss: 0.1847\t train_acc: 0.9447\n",
            "[train]\tepoch: 4\t batch id: 150/586\t train_loss: 0.2053\t train_acc: 0.9501\n",
            "[train]\tepoch: 4\t batch id: 200/586\t train_loss: 0.0777\t train_acc: 0.9528\n",
            "[train]\tepoch: 4\t batch id: 250/586\t train_loss: 0.1302\t train_acc: 0.9560\n",
            "[train]\tepoch: 4\t batch id: 300/586\t train_loss: 0.2044\t train_acc: 0.9579\n",
            "[train]\tepoch: 4\t batch id: 350/586\t train_loss: 0.1312\t train_acc: 0.9591\n",
            "[train]\tepoch: 4\t batch id: 400/586\t train_loss: 0.0726\t train_acc: 0.9612\n",
            "[train]\tepoch: 4\t batch id: 450/586\t train_loss: 0.0967\t train_acc: 0.9625\n",
            "[train]\tepoch: 4\t batch id: 500/586\t train_loss: 0.0917\t train_acc: 0.9633\n",
            "[train]\tepoch: 4\t batch id: 550/586\t train_loss: 0.0684\t train_acc: 0.9642\n"
          ]
        },
        {
          "output_type": "display_data",
          "data": {
            "text/plain": [
              "  0%|          | 0/196 [00:00<?, ?it/s]"
            ],
            "application/vnd.jupyter.widget-view+json": {
              "version_major": 2,
              "version_minor": 0,
              "model_id": "094c2c09011a42ec919bceff78a1e062"
            }
          },
          "metadata": {}
        },
        {
          "output_type": "stream",
          "name": "stdout",
          "text": [
            "[valid]\tepoch: 4\t valid loss: 0.4755\t valid acc: 0.8751\n"
          ]
        },
        {
          "output_type": "display_data",
          "data": {
            "text/plain": [
              "  0%|          | 0/586 [00:00<?, ?it/s]"
            ],
            "application/vnd.jupyter.widget-view+json": {
              "version_major": 2,
              "version_minor": 0,
              "model_id": "92aeec6afe7841b79ae54b7e8fc9b7c4"
            }
          },
          "metadata": {}
        },
        {
          "output_type": "stream",
          "name": "stdout",
          "text": [
            "[train]\tepoch: 5\t batch id: 50/586\t train_loss: 0.2030\t train_acc: 0.9750\n",
            "[train]\tepoch: 5\t batch id: 100/586\t train_loss: 0.1085\t train_acc: 0.9717\n",
            "[train]\tepoch: 5\t batch id: 150/586\t train_loss: 0.1295\t train_acc: 0.9716\n",
            "[train]\tepoch: 5\t batch id: 200/586\t train_loss: 0.0340\t train_acc: 0.9737\n",
            "[train]\tepoch: 5\t batch id: 250/586\t train_loss: 0.0618\t train_acc: 0.9752\n",
            "[train]\tepoch: 5\t batch id: 300/586\t train_loss: 0.2188\t train_acc: 0.9762\n",
            "[train]\tepoch: 5\t batch id: 350/586\t train_loss: 0.0585\t train_acc: 0.9768\n",
            "[train]\tepoch: 5\t batch id: 400/586\t train_loss: 0.0218\t train_acc: 0.9779\n",
            "[train]\tepoch: 5\t batch id: 450/586\t train_loss: 0.0955\t train_acc: 0.9782\n",
            "[train]\tepoch: 5\t batch id: 500/586\t train_loss: 0.0289\t train_acc: 0.9788\n",
            "[train]\tepoch: 5\t batch id: 550/586\t train_loss: 0.0510\t train_acc: 0.9787\n"
          ]
        },
        {
          "output_type": "display_data",
          "data": {
            "text/plain": [
              "  0%|          | 0/196 [00:00<?, ?it/s]"
            ],
            "application/vnd.jupyter.widget-view+json": {
              "version_major": 2,
              "version_minor": 0,
              "model_id": "174324ee854b4ec49b2183bf09f6d013"
            }
          },
          "metadata": {}
        },
        {
          "output_type": "stream",
          "name": "stdout",
          "text": [
            "[valid]\tepoch: 5\t valid loss: 0.4982\t valid acc: 0.8725\n"
          ]
        }
      ],
      "source": [
        "loss_history = [] # 전체 loss\n",
        "avg_loss_hisroty = [] # epoch별 평균 loss\n",
        "test_history = [] # validation accuracy\n",
        "test_loss_history = [] # epoch별 평균 validation loss\n",
        "\n",
        "best_acc = 0.0\n",
        "best_acc_model = deepcopy(model)\n",
        "for e in range(num_epochs):\n",
        "    total_loss=0.0\n",
        "    train_acc = 0.0\n",
        "    test_acc = 0.0\n",
        "    test_total_loss=0.0\n",
        "\n",
        "    model.train() #훈련 선언\n",
        "    for batch_id, ((token_ids, valid_length, segment_ids), label) in enumerate(tqdm(iter(train_loader))):\n",
        "        optimizer.zero_grad()\n",
        "        token_ids = token_ids.to(device)\n",
        "        segment_ids = segment_ids.to(device)\n",
        "        valid_length= valid_length\n",
        "        label = label.to(device)\n",
        "        out = model(token_ids, valid_length, segment_ids)\n",
        "\n",
        "        #print(label.shape,out.shape)\n",
        "        loss = loss_fn(out, label)\n",
        "        loss.backward()\n",
        "        torch.nn.utils.clip_grad_norm_(model.parameters(), max_grad_norm)\n",
        "        optimizer.step()\n",
        "        scheduler.step()  # Update learning rate schedule\n",
        "\n",
        "        train_acc += calc_accuracy(out, label)\n",
        "\n",
        "        if (batch_id+1) % log_interval == 0:\n",
        "            print(\"[train]\\tepoch: {}\\t batch id: {}/{}\\t train_loss: {:.4f}\\t train_acc: {:.4f}\".format(e+1, batch_id+1,\n",
        "                len(train_loader), loss.data.cpu().numpy(), train_acc / (batch_id+1)))\n",
        "            loss_history.append(loss.data.cpu().numpy())\n",
        "            total_loss+=loss.data.cpu().numpy()\n",
        "\n",
        "    avg_loss=total_loss/len(train_loader) #epoch별 평균 loss값\n",
        "    avg_loss_hisroty.append(avg_loss)\n",
        "\n",
        "    model.eval() #모델평가\n",
        "    for batch_id, ((token_ids, valid_length, segment_ids), label) in enumerate(tqdm(iter(valid_loader))):\n",
        "        token_ids = token_ids.to(device)\n",
        "        segment_ids = segment_ids.to(device)\n",
        "        valid_length= valid_length\n",
        "        label = label.to(device)\n",
        "        with torch.no_grad():\n",
        "            out = model(token_ids, valid_length, segment_ids)\n",
        "            loss = loss_fn(out, label).detach()\n",
        "            test_acc += calc_accuracy(out, label)\n",
        "            test_total_loss += loss.data.cpu().numpy()\n",
        "        test_history.append(test_acc / (batch_id+1))\n",
        "\n",
        "    test_avg_loss=test_total_loss/len(valid_loader)\n",
        "    test_loss_history.append(test_avg_loss)\n",
        "    print(\"[valid]\\tepoch: {}\\t valid loss: {:.4f}\\t valid acc: {:.4f}\".format(e+1, test_avg_loss,\n",
        "        test_acc/len(valid_loader)))\n",
        "\n",
        "    if (test_acc / (batch_id+1)) > best_acc:\n",
        "          best_acc = (test_acc / (batch_id+1))\n",
        "          best_acc_model = deepcopy(model)\n"
      ]
    },
    {
      "cell_type": "code",
      "execution_count": 73,
      "metadata": {
        "id": "EMz0k2Vji5Xg",
        "colab": {
          "base_uri": "https://localhost:8080/"
        },
        "outputId": "987a8bee-1156-4d82-af3b-43e58e4cfb30"
      },
      "outputs": [
        {
          "output_type": "execute_result",
          "data": {
            "text/plain": [
              "0.8263327205882354"
            ]
          },
          "metadata": {},
          "execution_count": 73
        }
      ],
      "source": [
        "best_acc"
      ]
    },
    {
      "cell_type": "code",
      "source": [
        "test_acc/(batch_id+1)"
      ],
      "metadata": {
        "colab": {
          "base_uri": "https://localhost:8080/"
        },
        "id": "KYSIMSdrpgNF",
        "outputId": "0214cbe0-8593-4aea-afe7-295e646d724d"
      },
      "execution_count": 74,
      "outputs": [
        {
          "output_type": "execute_result",
          "data": {
            "text/plain": [
              "0.8138327205882353"
            ]
          },
          "metadata": {},
          "execution_count": 74
        }
      ]
    },
    {
      "cell_type": "markdown",
      "metadata": {
        "id": "opRjONuccm4L"
      },
      "source": [
        "## 예측, 평가"
      ]
    },
    {
      "cell_type": "markdown",
      "metadata": {
        "id": "bhB6nNCtusJW"
      },
      "source": [
        "학습때 사용하지 않은 데이터로 검증을 진행합니다.\n",
        "\n",
        "전체적인 구조는 validation 때 사용한 코드와 비슷합니다."
      ]
    },
    {
      "cell_type": "code",
      "execution_count": 69,
      "metadata": {
        "id": "MjIOByBPcmhD"
      },
      "outputs": [],
      "source": [
        "predict_dataset = BERTDataset(input_transformer, test_sentences[:256], test_labels)\n",
        "test_loader = torch.utils.data.DataLoader(predict_dataset, batch_size=batch_size, num_workers=2)"
      ]
    },
    {
      "cell_type": "code",
      "execution_count": 105,
      "metadata": {
        "id": "FmsNqlGfcpGi"
      },
      "outputs": [],
      "source": [
        "# parameter를 test_sentences로 받기\n",
        "def predict(model, test_sentences, test_labels, device):\n",
        "    # dataset, dataloader 정의\n",
        "    pred_dataset = BERTDataset(input_transformer, test_sentences, test_labels)\n",
        "    test_loader = torch.utils.data.DataLoader(pred_dataset, batch_size=batch_size, num_workers=0)\n",
        "\n",
        "    model.eval() # gpu\n",
        "    test_loss = 0.0\n",
        "    test_acc = 0.0\n",
        "    preds = torch.tensor([], dtype=torch.long) # cpu\n",
        "    for (token_ids, valid_length, segment_ids), label in test_loader:\n",
        "        token_ids = token_ids.to(device)\n",
        "        segment_ids = segment_ids.to(device)\n",
        "        valid_length = valid_length\n",
        "        label = label.to(device)\n",
        "\n",
        "        with torch.no_grad():\n",
        "            out = model(token_ids, valid_length, segment_ids) # gpu\n",
        "            loss = loss_fn(out, label).detach()\n",
        "            test_acc += calc_accuracy(out, label)\n",
        "            test_loss += loss.data.cpu().numpy()\n",
        "            # print(out.shape) # batch_size, output (64, 2)\n",
        "            pred = torch.argmax(out, dim=1) # (64, ) # gpu\n",
        "            # out에 argmax 적용 (긍정, 부정 라벨 체크)\n",
        "            # torch.cat (데이터 개수만큼 concat)\n",
        "            preds = torch.cat([preds, pred.detach().cpu()])\n",
        "    print(preds)\n",
        "\n",
        "    preds = ['긍정' if pred == 1 else '부정' for pred in preds]\n",
        "\n",
        "    return list(zip(test_sentences, preds)) # (1:1로 묶어서 반환)\n",
        "    return test_loss/len(test_loader), test_acc/len(test_loader)"
      ]
    },
    {
      "cell_type": "code",
      "source": [
        "predict(model, test_sentences[:64], test_labels, device)"
      ],
      "metadata": {
        "colab": {
          "base_uri": "https://localhost:8080/"
        },
        "id": "T92MfX8e3hJF",
        "outputId": "0512bec0-4f6a-48dc-9411-5fd534c7cf8d"
      },
      "execution_count": 106,
      "outputs": [
        {
          "output_type": "stream",
          "name": "stdout",
          "text": [
            "tensor([1, 1, 0, 0, 0, 1, 0, 1, 0, 1, 1, 1, 1, 1, 0, 0, 1, 0, 0, 0, 1, 0, 1, 1,\n",
            "        0, 0, 1, 1, 0, 1, 1, 1, 0, 1, 0, 1, 0, 0, 0, 1, 1, 0, 0, 1, 0, 1, 1, 0,\n",
            "        1, 1, 0, 1, 0, 1, 1, 1, 1, 1, 1, 1, 0, 0, 0, 0])\n"
          ]
        },
        {
          "output_type": "execute_result",
          "data": {
            "text/plain": [
              "[('굳 ㅋ', '긍정'),\n",
              " ('GDNTOPCLASSINTHECLUB', '긍정'),\n",
              " ('뭐야 이 평점들은.... 나쁘진 않지만 10점 짜리는 더더욱 아니잖아', '부정'),\n",
              " ('지루하지는 않은데 완전 막장임... 돈주고 보기에는....', '부정'),\n",
              " ('3D만 아니었어도 별 다섯 개 줬을텐데.. 왜 3D로 나와서 제 심기를 불편하게 하죠??', '부정'),\n",
              " ('음악이 주가 된, 최고의 음악영화', '긍정'),\n",
              " ('진정한 쓰레기', '부정'),\n",
              " ('마치 미국애니에서 튀어나온듯한 창의력없는 로봇디자인부터가,고개를 젖게한다', '긍정'),\n",
              " ('갈수록 개판되가는 중국영화 유치하고 내용없음 폼잡다 끝남 말도안되는 무기에 유치한cg남무 아 그립다 동사서독같은 영화가 이건 3류아류작이다',\n",
              "  '부정'),\n",
              " ('이별의 아픔뒤에 찾아오는 새로운 인연의 기쁨 But, 모든 사람이 그렇지는 않네..', '긍정'),\n",
              " ('괜찮네요오랜만포켓몬스터잼밌어요', '긍정'),\n",
              " ('한국독립영화의 한계 그렇게 아버지가 된다와 비교됨', '긍정'),\n",
              " ('청춘은 아름답다 그 아름다움은 이성을 흔들어 놓는다. 찰나의 아름다움을 잘 포착한 섬세하고 아름다운 수채화같은 퀴어영화이다.',\n",
              "  '긍정'),\n",
              " ('눈에 보이는 반전이었지만 영화의 흡인력은 사라지지 않았다.', '긍정'),\n",
              " ('\"\"\"스토리, 연출, 연기, 비주얼 등 영화의 기본 조차 안된 영화에 무슨 평을 해. 이런 영화 찍고도 김문옥 감독은 \"\"\"\"내가 영화 경력이 몇OO인데 조무래기들이 내 영화를 평론해?\"\"\"\" 같은 마인드에 빠져있겠지?\"\"\"',\n",
              "  '부정'),\n",
              " ('소위 ㅈ문가라는 평점은 뭐냐?', '부정'),\n",
              " ('최고!!!!!!!!!!!!!!!!', '긍정'),\n",
              " ('발연기 도저히 못보겠다 진짜 이렇게 연기를 못할거라곤 상상도 못했네', '부정'),\n",
              " ('나이스', '부정'),\n",
              " ('별 재미도없는거 우려먹어 .... 챔프에서 방송 몇번했더라 ? ㅋㅋㅋㅋㅋㅋㅋㅋㅋㅋㅋ', '부정'),\n",
              " (\"'13일의 금요일', '나이트메어'시리즈와 함께 가장 많은 시리즈를 양산해냈던 헬레이저 시리즈의 첫편. 작가의 상상력이 돋보이는 작품이며, 갈고리로 사지찢는 고어씬은 지금보더라도 상당히 잔인하고 충격적이다.\",\n",
              "  '긍정'),\n",
              " ('나름 교훈돋기는 하지만 어쩔수없이 저평점 받을수밖에 없는 저질섹스코미디', '부정'),\n",
              " ('꽤 재밌게 본 영화였다!', '긍정'),\n",
              " ('민주화 시대의 억눌린 영혼의 관음적인 욕구 분출.인상적이다.', '긍정'),\n",
              " ('일본 천황이 미국으로부터 받은 면죄부의 긴박한 과정을 루즈하고 지저분하게 늘어놓았다.', '부정'),\n",
              " ('괜히 나올 때 어미 알 건드려서 긁어 부스름 만들었다는 분이 저 아래 보이던데, 영화 제대로 안 봤네. 알이 딱 까지면서 새끼가 나오려 했음. 그냥 가면 그 놈 한테 당했을 것임. 한 놈, 두 놈 막 나올 게 뻔했으니 작살낼 수 밖에 없었다.',\n",
              "  '부정'),\n",
              " ('50번은 봤네요어쩜 이렇게 잘만들었을까', '긍정'),\n",
              " ('실화라서더욱아름답고찡하네요...많이울었어요벌써4년이란시간이흘렀네요', '긍정'),\n",
              " ('이건뭐 노답이네 80~90년대 어린이 영화좀 보고 본받아라!', '부정'),\n",
              " ('지금까지 본 영화중 마음이 가장 따뜻해지는 영화.', '긍정'),\n",
              " ('너무너무 재밌다', '긍정'),\n",
              " ('안보면 후회ㅠㅠ...', '긍정'),\n",
              " ('평점1점도 주기싫어지는 영화 배우나 감독이라는 사람이나 영화판에서 안봐으면 한다 그리고 평점알바생들 너무 티난다', '부정'),\n",
              " ('정말,진짜,표현할수 없는 영화...', '긍정'),\n",
              " ('엉성한 액션에, 시나리오는 왜그러지.. 막판에 대동단결??', '부정'),\n",
              " ('101, 102.. 103은 못나올것 같다.', '긍정'),\n",
              " ('....재미가없어요 시간이 아깝고', '부정'),\n",
              " ('북괴는 우리의 주적일뿐이다.', '부정'),\n",
              " ('ㅋㅋㅋ 난생처음 로그인하고 평점남기네요.. 개빡쳐서.. 알바들 속지마세요 이런 ㄱ ㅐ같은 시간낭비가. 아놔진짜평점 마이너스 별오만개',\n",
              "  '부정'),\n",
              " ('셰익스피어는 셰익스피어고 이영화는 이영화.', '긍정'),\n",
              " ('EBS 한국영화특선 해서 봤다.Biff 개막작 선정되서 왤까 궁금 했었는데 봐도 이율 모르겠다...', '긍정'),\n",
              " ('뭐야??라는 말 밖에는...', '부정'),\n",
              " ('이게 영화야?', '부정'),\n",
              " ('애니는 일본이 갑인듯.', '긍정'),\n",
              " ('롭 코헨의 몰락의 OO점', '부정'),\n",
              " ('감동적이다....', '긍정'),\n",
              " ('은빛날개의 조종사', '긍정'),\n",
              " ('마음이1을보신분들은 이해하시겟지만 2는망장입니다 졸작이죠 솔직히말해선;; 그이유는 예를들면 엽기적인그녀는 긴시간을두고 코메디 멜로를 그렷습니다 하지만 이영화는 단시간 10분안에 모든것을 소화하려는 욕심 코믹하다 3분채안돼갑자기 생뚱맞게 슬픈음악이깔리고',\n",
              "  '부정'),\n",
              " ('이런스타일 액션영화 굿굿!!', '긍정'),\n",
              " ('제임스 헷필드 50먹고 더 파워풀해졌어ㅋㅋㅋㅋ', '긍정'),\n",
              " ('돈만있으면 내가 이것보단 더잘만들겠따 ㅋ', '부정'),\n",
              " ('레이토와 다미앙의 시원한 액션은 어디갔나 ㅁㅊ', '긍정'),\n",
              " ('내 참, 이딴 걸 드라마라고.... 그냥 이건 세계보건기구에서 발암물질로 올려야 한다.', '부정'),\n",
              " ('아 극장에서 아무 기대없이 들어갔다가 감탄하면서 보고 나왔는데. 2001년도 였구나 그 때가.', '긍정'),\n",
              " ('아이디어가 아주 좋다 재밌다', '긍정'),\n",
              " ('난 재밌던데 평점 왜케 낮지 ``;', '긍정'),\n",
              " ('역사얘기보다 영화배우, 감독들들에게 더 관심이 간다', '긍정'),\n",
              " ('몇년만에 아메리칸조크보고 웃어보는거지. 하아이맛이야바로', '긍정'),\n",
              " ('재밌다! 내용도 신선하고 의미도있으며 연기도 좋고 영상도좋다~~', '긍정'),\n",
              " ('여름이면 한결같이 생각나는 드라마', '긍정'),\n",
              " ('콩콩~~~~ㅋㄲㅈㅁ', '부정'),\n",
              " ('...으...뭐 의도는 좋아봤자 전달이 돼야지;', '부정'),\n",
              " ('아빠가 낚여서 본적 있다나 슈래기 영화', '부정'),\n",
              " ('\"\"\"\"\"\"\"결혼은 현실이에요 징징징\"\"\"\" 성현아 벗겨놓고 이 정도 얘기 밖에 못 하냐.\"\"\"', '부정')]"
            ]
          },
          "metadata": {},
          "execution_count": 106
        }
      ]
    },
    {
      "cell_type": "code",
      "execution_count": 77,
      "metadata": {
        "colab": {
          "base_uri": "https://localhost:8080/"
        },
        "id": "1v4Cyzotcqi6",
        "outputId": "3e267c68-1626-4085-dd27-31c4129c87ba"
      },
      "outputs": [
        {
          "output_type": "execute_result",
          "data": {
            "text/plain": [
              "(0.5423678532242775, 0.83203125)"
            ]
          },
          "metadata": {},
          "execution_count": 77
        }
      ],
      "source": [
        "predict(model, test_loader, device)\n",
        "\n",
        "# 0.5423678532242775\n",
        "# 0.4374503493309021"
      ]
    },
    {
      "cell_type": "code",
      "execution_count": 90,
      "metadata": {
        "id": "esR_2Rn_vew0",
        "colab": {
          "base_uri": "https://localhost:8080/",
          "height": 204
        },
        "outputId": "3eb458d8-47a8-40a5-cbfc-dc2d2a4bcd4c"
      },
      "outputs": [
        {
          "output_type": "error",
          "ename": "KeyboardInterrupt",
          "evalue": "ignored",
          "traceback": [
            "\u001b[0;31m---------------------------------------------------------------------------\u001b[0m",
            "\u001b[0;31mKeyboardInterrupt\u001b[0m                         Traceback (most recent call last)",
            "\u001b[0;32m<ipython-input-90-b7133701d76c>\u001b[0m in \u001b[0;36m<cell line: 1>\u001b[0;34m()\u001b[0m\n\u001b[0;32m----> 1\u001b[0;31m \u001b[0;32mwhile\u001b[0m \u001b[0;32mTrue\u001b[0m\u001b[0;34m:\u001b[0m\u001b[0;34m\u001b[0m\u001b[0;34m\u001b[0m\u001b[0m\n\u001b[0m\u001b[1;32m      2\u001b[0m     \u001b[0;32mpass\u001b[0m\u001b[0;34m\u001b[0m\u001b[0;34m\u001b[0m\u001b[0m\n",
            "\u001b[0;31mKeyboardInterrupt\u001b[0m: "
          ]
        }
      ],
      "source": [
        "while True:\n",
        "    pass"
      ]
    },
    {
      "cell_type": "code",
      "source": [],
      "metadata": {
        "id": "YfD7YBmiyjS1"
      },
      "execution_count": null,
      "outputs": []
    }
  ],
  "metadata": {
    "accelerator": "GPU",
    "colab": {
      "gpuType": "T4",
      "provenance": []
    },
    "kernelspec": {
      "display_name": "Python 3",
      "name": "python3"
    },
    "language_info": {
      "name": "python"
    },
    "widgets": {
      "application/vnd.jupyter.widget-state+json": {
        "6d794f19a86b427694f5afdce49d4c72": {
          "model_module": "@jupyter-widgets/controls",
          "model_name": "HBoxModel",
          "model_module_version": "1.5.0",
          "state": {
            "_dom_classes": [],
            "_model_module": "@jupyter-widgets/controls",
            "_model_module_version": "1.5.0",
            "_model_name": "HBoxModel",
            "_view_count": null,
            "_view_module": "@jupyter-widgets/controls",
            "_view_module_version": "1.5.0",
            "_view_name": "HBoxView",
            "box_style": "",
            "children": [
              "IPY_MODEL_65acc1750eb24a269d084bf1fbd01207",
              "IPY_MODEL_a66406ee502a41ad9be4620ddaee88a0",
              "IPY_MODEL_c8648a278a7748eb8bcbcdf61df6fa9f"
            ],
            "layout": "IPY_MODEL_e0dfc2b55b4245c5b2625b57923f5c5c"
          }
        },
        "65acc1750eb24a269d084bf1fbd01207": {
          "model_module": "@jupyter-widgets/controls",
          "model_name": "HTMLModel",
          "model_module_version": "1.5.0",
          "state": {
            "_dom_classes": [],
            "_model_module": "@jupyter-widgets/controls",
            "_model_module_version": "1.5.0",
            "_model_name": "HTMLModel",
            "_view_count": null,
            "_view_module": "@jupyter-widgets/controls",
            "_view_module_version": "1.5.0",
            "_view_name": "HTMLView",
            "description": "",
            "description_tooltip": null,
            "layout": "IPY_MODEL_308139e9a6b84686b47ae9e58a354901",
            "placeholder": "​",
            "style": "IPY_MODEL_5a42808b48094f05aebb0b40442c4e15",
            "value": " 96%"
          }
        },
        "a66406ee502a41ad9be4620ddaee88a0": {
          "model_module": "@jupyter-widgets/controls",
          "model_name": "FloatProgressModel",
          "model_module_version": "1.5.0",
          "state": {
            "_dom_classes": [],
            "_model_module": "@jupyter-widgets/controls",
            "_model_module_version": "1.5.0",
            "_model_name": "FloatProgressModel",
            "_view_count": null,
            "_view_module": "@jupyter-widgets/controls",
            "_view_module_version": "1.5.0",
            "_view_name": "ProgressView",
            "bar_style": "success",
            "description": "",
            "description_tooltip": null,
            "layout": "IPY_MODEL_506dc80f28ab46a38729b5ecb717c091",
            "max": 586,
            "min": 0,
            "orientation": "horizontal",
            "style": "IPY_MODEL_08afe15cb4ad44a4987696ac5ebb8a35",
            "value": 586
          }
        },
        "c8648a278a7748eb8bcbcdf61df6fa9f": {
          "model_module": "@jupyter-widgets/controls",
          "model_name": "HTMLModel",
          "model_module_version": "1.5.0",
          "state": {
            "_dom_classes": [],
            "_model_module": "@jupyter-widgets/controls",
            "_model_module_version": "1.5.0",
            "_model_name": "HTMLModel",
            "_view_count": null,
            "_view_module": "@jupyter-widgets/controls",
            "_view_module_version": "1.5.0",
            "_view_name": "HTMLView",
            "description": "",
            "description_tooltip": null,
            "layout": "IPY_MODEL_4297947823604416862dff4ccccae933",
            "placeholder": "​",
            "style": "IPY_MODEL_261f9aea1e9848c783418603f400cfd5",
            "value": " 586/586 [11:54&lt;00:00,  1.19s/it]"
          }
        },
        "e0dfc2b55b4245c5b2625b57923f5c5c": {
          "model_module": "@jupyter-widgets/base",
          "model_name": "LayoutModel",
          "model_module_version": "1.2.0",
          "state": {
            "_model_module": "@jupyter-widgets/base",
            "_model_module_version": "1.2.0",
            "_model_name": "LayoutModel",
            "_view_count": null,
            "_view_module": "@jupyter-widgets/base",
            "_view_module_version": "1.2.0",
            "_view_name": "LayoutView",
            "align_content": null,
            "align_items": null,
            "align_self": null,
            "border": null,
            "bottom": null,
            "display": null,
            "flex": null,
            "flex_flow": null,
            "grid_area": null,
            "grid_auto_columns": null,
            "grid_auto_flow": null,
            "grid_auto_rows": null,
            "grid_column": null,
            "grid_gap": null,
            "grid_row": null,
            "grid_template_areas": null,
            "grid_template_columns": null,
            "grid_template_rows": null,
            "height": null,
            "justify_content": null,
            "justify_items": null,
            "left": null,
            "margin": null,
            "max_height": null,
            "max_width": null,
            "min_height": null,
            "min_width": null,
            "object_fit": null,
            "object_position": null,
            "order": null,
            "overflow": null,
            "overflow_x": null,
            "overflow_y": null,
            "padding": null,
            "right": null,
            "top": null,
            "visibility": null,
            "width": null
          }
        },
        "308139e9a6b84686b47ae9e58a354901": {
          "model_module": "@jupyter-widgets/base",
          "model_name": "LayoutModel",
          "model_module_version": "1.2.0",
          "state": {
            "_model_module": "@jupyter-widgets/base",
            "_model_module_version": "1.2.0",
            "_model_name": "LayoutModel",
            "_view_count": null,
            "_view_module": "@jupyter-widgets/base",
            "_view_module_version": "1.2.0",
            "_view_name": "LayoutView",
            "align_content": null,
            "align_items": null,
            "align_self": null,
            "border": null,
            "bottom": null,
            "display": null,
            "flex": null,
            "flex_flow": null,
            "grid_area": null,
            "grid_auto_columns": null,
            "grid_auto_flow": null,
            "grid_auto_rows": null,
            "grid_column": null,
            "grid_gap": null,
            "grid_row": null,
            "grid_template_areas": null,
            "grid_template_columns": null,
            "grid_template_rows": null,
            "height": null,
            "justify_content": null,
            "justify_items": null,
            "left": null,
            "margin": null,
            "max_height": null,
            "max_width": null,
            "min_height": null,
            "min_width": null,
            "object_fit": null,
            "object_position": null,
            "order": null,
            "overflow": null,
            "overflow_x": null,
            "overflow_y": null,
            "padding": null,
            "right": null,
            "top": null,
            "visibility": null,
            "width": null
          }
        },
        "5a42808b48094f05aebb0b40442c4e15": {
          "model_module": "@jupyter-widgets/controls",
          "model_name": "DescriptionStyleModel",
          "model_module_version": "1.5.0",
          "state": {
            "_model_module": "@jupyter-widgets/controls",
            "_model_module_version": "1.5.0",
            "_model_name": "DescriptionStyleModel",
            "_view_count": null,
            "_view_module": "@jupyter-widgets/base",
            "_view_module_version": "1.2.0",
            "_view_name": "StyleView",
            "description_width": ""
          }
        },
        "506dc80f28ab46a38729b5ecb717c091": {
          "model_module": "@jupyter-widgets/base",
          "model_name": "LayoutModel",
          "model_module_version": "1.2.0",
          "state": {
            "_model_module": "@jupyter-widgets/base",
            "_model_module_version": "1.2.0",
            "_model_name": "LayoutModel",
            "_view_count": null,
            "_view_module": "@jupyter-widgets/base",
            "_view_module_version": "1.2.0",
            "_view_name": "LayoutView",
            "align_content": null,
            "align_items": null,
            "align_self": null,
            "border": null,
            "bottom": null,
            "display": null,
            "flex": null,
            "flex_flow": null,
            "grid_area": null,
            "grid_auto_columns": null,
            "grid_auto_flow": null,
            "grid_auto_rows": null,
            "grid_column": null,
            "grid_gap": null,
            "grid_row": null,
            "grid_template_areas": null,
            "grid_template_columns": null,
            "grid_template_rows": null,
            "height": null,
            "justify_content": null,
            "justify_items": null,
            "left": null,
            "margin": null,
            "max_height": null,
            "max_width": null,
            "min_height": null,
            "min_width": null,
            "object_fit": null,
            "object_position": null,
            "order": null,
            "overflow": null,
            "overflow_x": null,
            "overflow_y": null,
            "padding": null,
            "right": null,
            "top": null,
            "visibility": null,
            "width": null
          }
        },
        "08afe15cb4ad44a4987696ac5ebb8a35": {
          "model_module": "@jupyter-widgets/controls",
          "model_name": "ProgressStyleModel",
          "model_module_version": "1.5.0",
          "state": {
            "_model_module": "@jupyter-widgets/controls",
            "_model_module_version": "1.5.0",
            "_model_name": "ProgressStyleModel",
            "_view_count": null,
            "_view_module": "@jupyter-widgets/base",
            "_view_module_version": "1.2.0",
            "_view_name": "StyleView",
            "bar_color": null,
            "description_width": ""
          }
        },
        "4297947823604416862dff4ccccae933": {
          "model_module": "@jupyter-widgets/base",
          "model_name": "LayoutModel",
          "model_module_version": "1.2.0",
          "state": {
            "_model_module": "@jupyter-widgets/base",
            "_model_module_version": "1.2.0",
            "_model_name": "LayoutModel",
            "_view_count": null,
            "_view_module": "@jupyter-widgets/base",
            "_view_module_version": "1.2.0",
            "_view_name": "LayoutView",
            "align_content": null,
            "align_items": null,
            "align_self": null,
            "border": null,
            "bottom": null,
            "display": null,
            "flex": null,
            "flex_flow": null,
            "grid_area": null,
            "grid_auto_columns": null,
            "grid_auto_flow": null,
            "grid_auto_rows": null,
            "grid_column": null,
            "grid_gap": null,
            "grid_row": null,
            "grid_template_areas": null,
            "grid_template_columns": null,
            "grid_template_rows": null,
            "height": null,
            "justify_content": null,
            "justify_items": null,
            "left": null,
            "margin": null,
            "max_height": null,
            "max_width": null,
            "min_height": null,
            "min_width": null,
            "object_fit": null,
            "object_position": null,
            "order": null,
            "overflow": null,
            "overflow_x": null,
            "overflow_y": null,
            "padding": null,
            "right": null,
            "top": null,
            "visibility": null,
            "width": null
          }
        },
        "261f9aea1e9848c783418603f400cfd5": {
          "model_module": "@jupyter-widgets/controls",
          "model_name": "DescriptionStyleModel",
          "model_module_version": "1.5.0",
          "state": {
            "_model_module": "@jupyter-widgets/controls",
            "_model_module_version": "1.5.0",
            "_model_name": "DescriptionStyleModel",
            "_view_count": null,
            "_view_module": "@jupyter-widgets/base",
            "_view_module_version": "1.2.0",
            "_view_name": "StyleView",
            "description_width": ""
          }
        },
        "e507a787b0eb4269b7199e947feaf70b": {
          "model_module": "@jupyter-widgets/controls",
          "model_name": "HBoxModel",
          "model_module_version": "1.5.0",
          "state": {
            "_dom_classes": [],
            "_model_module": "@jupyter-widgets/controls",
            "_model_module_version": "1.5.0",
            "_model_name": "HBoxModel",
            "_view_count": null,
            "_view_module": "@jupyter-widgets/controls",
            "_view_module_version": "1.5.0",
            "_view_name": "HBoxView",
            "box_style": "",
            "children": [
              "IPY_MODEL_b016efeddeb345ec91ee253fddb58395",
              "IPY_MODEL_9cdd96c7fc6446f9a9a75ee5835852e5",
              "IPY_MODEL_5e240e15075e47ec848064a4e019887e"
            ],
            "layout": "IPY_MODEL_0e518d5f0d5f43edbcc7fb55bd6815eb"
          }
        },
        "b016efeddeb345ec91ee253fddb58395": {
          "model_module": "@jupyter-widgets/controls",
          "model_name": "HTMLModel",
          "model_module_version": "1.5.0",
          "state": {
            "_dom_classes": [],
            "_model_module": "@jupyter-widgets/controls",
            "_model_module_version": "1.5.0",
            "_model_name": "HTMLModel",
            "_view_count": null,
            "_view_module": "@jupyter-widgets/controls",
            "_view_module_version": "1.5.0",
            "_view_name": "HTMLView",
            "description": "",
            "description_tooltip": null,
            "layout": "IPY_MODEL_7e10f377afa54be2a2789f368aeab3d0",
            "placeholder": "​",
            "style": "IPY_MODEL_3bac4e29c5dd44bd87eb2657e18a7c1b",
            "value": "100%"
          }
        },
        "9cdd96c7fc6446f9a9a75ee5835852e5": {
          "model_module": "@jupyter-widgets/controls",
          "model_name": "FloatProgressModel",
          "model_module_version": "1.5.0",
          "state": {
            "_dom_classes": [],
            "_model_module": "@jupyter-widgets/controls",
            "_model_module_version": "1.5.0",
            "_model_name": "FloatProgressModel",
            "_view_count": null,
            "_view_module": "@jupyter-widgets/controls",
            "_view_module_version": "1.5.0",
            "_view_name": "ProgressView",
            "bar_style": "success",
            "description": "",
            "description_tooltip": null,
            "layout": "IPY_MODEL_1082f6a5741b4caa93c77cdc7f987c97",
            "max": 196,
            "min": 0,
            "orientation": "horizontal",
            "style": "IPY_MODEL_bb1eb9ce68264b33b58ab8c70879eb5c",
            "value": 196
          }
        },
        "5e240e15075e47ec848064a4e019887e": {
          "model_module": "@jupyter-widgets/controls",
          "model_name": "HTMLModel",
          "model_module_version": "1.5.0",
          "state": {
            "_dom_classes": [],
            "_model_module": "@jupyter-widgets/controls",
            "_model_module_version": "1.5.0",
            "_model_name": "HTMLModel",
            "_view_count": null,
            "_view_module": "@jupyter-widgets/controls",
            "_view_module_version": "1.5.0",
            "_view_name": "HTMLView",
            "description": "",
            "description_tooltip": null,
            "layout": "IPY_MODEL_4d50d07520a84f688c4b67689624bfe2",
            "placeholder": "​",
            "style": "IPY_MODEL_821fa1be32b64eb58f7f25eeff387d8a",
            "value": " 196/196 [01:24&lt;00:00,  2.92it/s]"
          }
        },
        "0e518d5f0d5f43edbcc7fb55bd6815eb": {
          "model_module": "@jupyter-widgets/base",
          "model_name": "LayoutModel",
          "model_module_version": "1.2.0",
          "state": {
            "_model_module": "@jupyter-widgets/base",
            "_model_module_version": "1.2.0",
            "_model_name": "LayoutModel",
            "_view_count": null,
            "_view_module": "@jupyter-widgets/base",
            "_view_module_version": "1.2.0",
            "_view_name": "LayoutView",
            "align_content": null,
            "align_items": null,
            "align_self": null,
            "border": null,
            "bottom": null,
            "display": null,
            "flex": null,
            "flex_flow": null,
            "grid_area": null,
            "grid_auto_columns": null,
            "grid_auto_flow": null,
            "grid_auto_rows": null,
            "grid_column": null,
            "grid_gap": null,
            "grid_row": null,
            "grid_template_areas": null,
            "grid_template_columns": null,
            "grid_template_rows": null,
            "height": null,
            "justify_content": null,
            "justify_items": null,
            "left": null,
            "margin": null,
            "max_height": null,
            "max_width": null,
            "min_height": null,
            "min_width": null,
            "object_fit": null,
            "object_position": null,
            "order": null,
            "overflow": null,
            "overflow_x": null,
            "overflow_y": null,
            "padding": null,
            "right": null,
            "top": null,
            "visibility": null,
            "width": null
          }
        },
        "7e10f377afa54be2a2789f368aeab3d0": {
          "model_module": "@jupyter-widgets/base",
          "model_name": "LayoutModel",
          "model_module_version": "1.2.0",
          "state": {
            "_model_module": "@jupyter-widgets/base",
            "_model_module_version": "1.2.0",
            "_model_name": "LayoutModel",
            "_view_count": null,
            "_view_module": "@jupyter-widgets/base",
            "_view_module_version": "1.2.0",
            "_view_name": "LayoutView",
            "align_content": null,
            "align_items": null,
            "align_self": null,
            "border": null,
            "bottom": null,
            "display": null,
            "flex": null,
            "flex_flow": null,
            "grid_area": null,
            "grid_auto_columns": null,
            "grid_auto_flow": null,
            "grid_auto_rows": null,
            "grid_column": null,
            "grid_gap": null,
            "grid_row": null,
            "grid_template_areas": null,
            "grid_template_columns": null,
            "grid_template_rows": null,
            "height": null,
            "justify_content": null,
            "justify_items": null,
            "left": null,
            "margin": null,
            "max_height": null,
            "max_width": null,
            "min_height": null,
            "min_width": null,
            "object_fit": null,
            "object_position": null,
            "order": null,
            "overflow": null,
            "overflow_x": null,
            "overflow_y": null,
            "padding": null,
            "right": null,
            "top": null,
            "visibility": null,
            "width": null
          }
        },
        "3bac4e29c5dd44bd87eb2657e18a7c1b": {
          "model_module": "@jupyter-widgets/controls",
          "model_name": "DescriptionStyleModel",
          "model_module_version": "1.5.0",
          "state": {
            "_model_module": "@jupyter-widgets/controls",
            "_model_module_version": "1.5.0",
            "_model_name": "DescriptionStyleModel",
            "_view_count": null,
            "_view_module": "@jupyter-widgets/base",
            "_view_module_version": "1.2.0",
            "_view_name": "StyleView",
            "description_width": ""
          }
        },
        "1082f6a5741b4caa93c77cdc7f987c97": {
          "model_module": "@jupyter-widgets/base",
          "model_name": "LayoutModel",
          "model_module_version": "1.2.0",
          "state": {
            "_model_module": "@jupyter-widgets/base",
            "_model_module_version": "1.2.0",
            "_model_name": "LayoutModel",
            "_view_count": null,
            "_view_module": "@jupyter-widgets/base",
            "_view_module_version": "1.2.0",
            "_view_name": "LayoutView",
            "align_content": null,
            "align_items": null,
            "align_self": null,
            "border": null,
            "bottom": null,
            "display": null,
            "flex": null,
            "flex_flow": null,
            "grid_area": null,
            "grid_auto_columns": null,
            "grid_auto_flow": null,
            "grid_auto_rows": null,
            "grid_column": null,
            "grid_gap": null,
            "grid_row": null,
            "grid_template_areas": null,
            "grid_template_columns": null,
            "grid_template_rows": null,
            "height": null,
            "justify_content": null,
            "justify_items": null,
            "left": null,
            "margin": null,
            "max_height": null,
            "max_width": null,
            "min_height": null,
            "min_width": null,
            "object_fit": null,
            "object_position": null,
            "order": null,
            "overflow": null,
            "overflow_x": null,
            "overflow_y": null,
            "padding": null,
            "right": null,
            "top": null,
            "visibility": null,
            "width": null
          }
        },
        "bb1eb9ce68264b33b58ab8c70879eb5c": {
          "model_module": "@jupyter-widgets/controls",
          "model_name": "ProgressStyleModel",
          "model_module_version": "1.5.0",
          "state": {
            "_model_module": "@jupyter-widgets/controls",
            "_model_module_version": "1.5.0",
            "_model_name": "ProgressStyleModel",
            "_view_count": null,
            "_view_module": "@jupyter-widgets/base",
            "_view_module_version": "1.2.0",
            "_view_name": "StyleView",
            "bar_color": null,
            "description_width": ""
          }
        },
        "4d50d07520a84f688c4b67689624bfe2": {
          "model_module": "@jupyter-widgets/base",
          "model_name": "LayoutModel",
          "model_module_version": "1.2.0",
          "state": {
            "_model_module": "@jupyter-widgets/base",
            "_model_module_version": "1.2.0",
            "_model_name": "LayoutModel",
            "_view_count": null,
            "_view_module": "@jupyter-widgets/base",
            "_view_module_version": "1.2.0",
            "_view_name": "LayoutView",
            "align_content": null,
            "align_items": null,
            "align_self": null,
            "border": null,
            "bottom": null,
            "display": null,
            "flex": null,
            "flex_flow": null,
            "grid_area": null,
            "grid_auto_columns": null,
            "grid_auto_flow": null,
            "grid_auto_rows": null,
            "grid_column": null,
            "grid_gap": null,
            "grid_row": null,
            "grid_template_areas": null,
            "grid_template_columns": null,
            "grid_template_rows": null,
            "height": null,
            "justify_content": null,
            "justify_items": null,
            "left": null,
            "margin": null,
            "max_height": null,
            "max_width": null,
            "min_height": null,
            "min_width": null,
            "object_fit": null,
            "object_position": null,
            "order": null,
            "overflow": null,
            "overflow_x": null,
            "overflow_y": null,
            "padding": null,
            "right": null,
            "top": null,
            "visibility": null,
            "width": null
          }
        },
        "821fa1be32b64eb58f7f25eeff387d8a": {
          "model_module": "@jupyter-widgets/controls",
          "model_name": "DescriptionStyleModel",
          "model_module_version": "1.5.0",
          "state": {
            "_model_module": "@jupyter-widgets/controls",
            "_model_module_version": "1.5.0",
            "_model_name": "DescriptionStyleModel",
            "_view_count": null,
            "_view_module": "@jupyter-widgets/base",
            "_view_module_version": "1.2.0",
            "_view_name": "StyleView",
            "description_width": ""
          }
        },
        "3cf5a63b4fcc40e8aa77601d53e8cd85": {
          "model_module": "@jupyter-widgets/controls",
          "model_name": "HBoxModel",
          "model_module_version": "1.5.0",
          "state": {
            "_dom_classes": [],
            "_model_module": "@jupyter-widgets/controls",
            "_model_module_version": "1.5.0",
            "_model_name": "HBoxModel",
            "_view_count": null,
            "_view_module": "@jupyter-widgets/controls",
            "_view_module_version": "1.5.0",
            "_view_name": "HBoxView",
            "box_style": "",
            "children": [
              "IPY_MODEL_9457d0a138394f219442b67f3a888fcc",
              "IPY_MODEL_f15b654b07ba4838a4e05ce45dff40e7",
              "IPY_MODEL_f769ab97eafb4585bfb58b9b342e38ad"
            ],
            "layout": "IPY_MODEL_01b4e348e6434aefbd8d4efb124122a9"
          }
        },
        "9457d0a138394f219442b67f3a888fcc": {
          "model_module": "@jupyter-widgets/controls",
          "model_name": "HTMLModel",
          "model_module_version": "1.5.0",
          "state": {
            "_dom_classes": [],
            "_model_module": "@jupyter-widgets/controls",
            "_model_module_version": "1.5.0",
            "_model_name": "HTMLModel",
            "_view_count": null,
            "_view_module": "@jupyter-widgets/controls",
            "_view_module_version": "1.5.0",
            "_view_name": "HTMLView",
            "description": "",
            "description_tooltip": null,
            "layout": "IPY_MODEL_5d91c39e61f5489188e89d6229bad18d",
            "placeholder": "​",
            "style": "IPY_MODEL_97bb640fcc7d44b49ed0860588e019f3",
            "value": "100%"
          }
        },
        "f15b654b07ba4838a4e05ce45dff40e7": {
          "model_module": "@jupyter-widgets/controls",
          "model_name": "FloatProgressModel",
          "model_module_version": "1.5.0",
          "state": {
            "_dom_classes": [],
            "_model_module": "@jupyter-widgets/controls",
            "_model_module_version": "1.5.0",
            "_model_name": "FloatProgressModel",
            "_view_count": null,
            "_view_module": "@jupyter-widgets/controls",
            "_view_module_version": "1.5.0",
            "_view_name": "ProgressView",
            "bar_style": "success",
            "description": "",
            "description_tooltip": null,
            "layout": "IPY_MODEL_389f939ef66b47d39e86b4a81f3bf027",
            "max": 586,
            "min": 0,
            "orientation": "horizontal",
            "style": "IPY_MODEL_f1e716f24b95445e850da1d249078373",
            "value": 586
          }
        },
        "f769ab97eafb4585bfb58b9b342e38ad": {
          "model_module": "@jupyter-widgets/controls",
          "model_name": "HTMLModel",
          "model_module_version": "1.5.0",
          "state": {
            "_dom_classes": [],
            "_model_module": "@jupyter-widgets/controls",
            "_model_module_version": "1.5.0",
            "_model_name": "HTMLModel",
            "_view_count": null,
            "_view_module": "@jupyter-widgets/controls",
            "_view_module_version": "1.5.0",
            "_view_name": "HTMLView",
            "description": "",
            "description_tooltip": null,
            "layout": "IPY_MODEL_5b41976f18f2465681bdf61960e9fbf4",
            "placeholder": "​",
            "style": "IPY_MODEL_fc60f84e61244a618095541a6bbf38e0",
            "value": " 586/586 [11:52&lt;00:00,  1.19s/it]"
          }
        },
        "01b4e348e6434aefbd8d4efb124122a9": {
          "model_module": "@jupyter-widgets/base",
          "model_name": "LayoutModel",
          "model_module_version": "1.2.0",
          "state": {
            "_model_module": "@jupyter-widgets/base",
            "_model_module_version": "1.2.0",
            "_model_name": "LayoutModel",
            "_view_count": null,
            "_view_module": "@jupyter-widgets/base",
            "_view_module_version": "1.2.0",
            "_view_name": "LayoutView",
            "align_content": null,
            "align_items": null,
            "align_self": null,
            "border": null,
            "bottom": null,
            "display": null,
            "flex": null,
            "flex_flow": null,
            "grid_area": null,
            "grid_auto_columns": null,
            "grid_auto_flow": null,
            "grid_auto_rows": null,
            "grid_column": null,
            "grid_gap": null,
            "grid_row": null,
            "grid_template_areas": null,
            "grid_template_columns": null,
            "grid_template_rows": null,
            "height": null,
            "justify_content": null,
            "justify_items": null,
            "left": null,
            "margin": null,
            "max_height": null,
            "max_width": null,
            "min_height": null,
            "min_width": null,
            "object_fit": null,
            "object_position": null,
            "order": null,
            "overflow": null,
            "overflow_x": null,
            "overflow_y": null,
            "padding": null,
            "right": null,
            "top": null,
            "visibility": null,
            "width": null
          }
        },
        "5d91c39e61f5489188e89d6229bad18d": {
          "model_module": "@jupyter-widgets/base",
          "model_name": "LayoutModel",
          "model_module_version": "1.2.0",
          "state": {
            "_model_module": "@jupyter-widgets/base",
            "_model_module_version": "1.2.0",
            "_model_name": "LayoutModel",
            "_view_count": null,
            "_view_module": "@jupyter-widgets/base",
            "_view_module_version": "1.2.0",
            "_view_name": "LayoutView",
            "align_content": null,
            "align_items": null,
            "align_self": null,
            "border": null,
            "bottom": null,
            "display": null,
            "flex": null,
            "flex_flow": null,
            "grid_area": null,
            "grid_auto_columns": null,
            "grid_auto_flow": null,
            "grid_auto_rows": null,
            "grid_column": null,
            "grid_gap": null,
            "grid_row": null,
            "grid_template_areas": null,
            "grid_template_columns": null,
            "grid_template_rows": null,
            "height": null,
            "justify_content": null,
            "justify_items": null,
            "left": null,
            "margin": null,
            "max_height": null,
            "max_width": null,
            "min_height": null,
            "min_width": null,
            "object_fit": null,
            "object_position": null,
            "order": null,
            "overflow": null,
            "overflow_x": null,
            "overflow_y": null,
            "padding": null,
            "right": null,
            "top": null,
            "visibility": null,
            "width": null
          }
        },
        "97bb640fcc7d44b49ed0860588e019f3": {
          "model_module": "@jupyter-widgets/controls",
          "model_name": "DescriptionStyleModel",
          "model_module_version": "1.5.0",
          "state": {
            "_model_module": "@jupyter-widgets/controls",
            "_model_module_version": "1.5.0",
            "_model_name": "DescriptionStyleModel",
            "_view_count": null,
            "_view_module": "@jupyter-widgets/base",
            "_view_module_version": "1.2.0",
            "_view_name": "StyleView",
            "description_width": ""
          }
        },
        "389f939ef66b47d39e86b4a81f3bf027": {
          "model_module": "@jupyter-widgets/base",
          "model_name": "LayoutModel",
          "model_module_version": "1.2.0",
          "state": {
            "_model_module": "@jupyter-widgets/base",
            "_model_module_version": "1.2.0",
            "_model_name": "LayoutModel",
            "_view_count": null,
            "_view_module": "@jupyter-widgets/base",
            "_view_module_version": "1.2.0",
            "_view_name": "LayoutView",
            "align_content": null,
            "align_items": null,
            "align_self": null,
            "border": null,
            "bottom": null,
            "display": null,
            "flex": null,
            "flex_flow": null,
            "grid_area": null,
            "grid_auto_columns": null,
            "grid_auto_flow": null,
            "grid_auto_rows": null,
            "grid_column": null,
            "grid_gap": null,
            "grid_row": null,
            "grid_template_areas": null,
            "grid_template_columns": null,
            "grid_template_rows": null,
            "height": null,
            "justify_content": null,
            "justify_items": null,
            "left": null,
            "margin": null,
            "max_height": null,
            "max_width": null,
            "min_height": null,
            "min_width": null,
            "object_fit": null,
            "object_position": null,
            "order": null,
            "overflow": null,
            "overflow_x": null,
            "overflow_y": null,
            "padding": null,
            "right": null,
            "top": null,
            "visibility": null,
            "width": null
          }
        },
        "f1e716f24b95445e850da1d249078373": {
          "model_module": "@jupyter-widgets/controls",
          "model_name": "ProgressStyleModel",
          "model_module_version": "1.5.0",
          "state": {
            "_model_module": "@jupyter-widgets/controls",
            "_model_module_version": "1.5.0",
            "_model_name": "ProgressStyleModel",
            "_view_count": null,
            "_view_module": "@jupyter-widgets/base",
            "_view_module_version": "1.2.0",
            "_view_name": "StyleView",
            "bar_color": null,
            "description_width": ""
          }
        },
        "5b41976f18f2465681bdf61960e9fbf4": {
          "model_module": "@jupyter-widgets/base",
          "model_name": "LayoutModel",
          "model_module_version": "1.2.0",
          "state": {
            "_model_module": "@jupyter-widgets/base",
            "_model_module_version": "1.2.0",
            "_model_name": "LayoutModel",
            "_view_count": null,
            "_view_module": "@jupyter-widgets/base",
            "_view_module_version": "1.2.0",
            "_view_name": "LayoutView",
            "align_content": null,
            "align_items": null,
            "align_self": null,
            "border": null,
            "bottom": null,
            "display": null,
            "flex": null,
            "flex_flow": null,
            "grid_area": null,
            "grid_auto_columns": null,
            "grid_auto_flow": null,
            "grid_auto_rows": null,
            "grid_column": null,
            "grid_gap": null,
            "grid_row": null,
            "grid_template_areas": null,
            "grid_template_columns": null,
            "grid_template_rows": null,
            "height": null,
            "justify_content": null,
            "justify_items": null,
            "left": null,
            "margin": null,
            "max_height": null,
            "max_width": null,
            "min_height": null,
            "min_width": null,
            "object_fit": null,
            "object_position": null,
            "order": null,
            "overflow": null,
            "overflow_x": null,
            "overflow_y": null,
            "padding": null,
            "right": null,
            "top": null,
            "visibility": null,
            "width": null
          }
        },
        "fc60f84e61244a618095541a6bbf38e0": {
          "model_module": "@jupyter-widgets/controls",
          "model_name": "DescriptionStyleModel",
          "model_module_version": "1.5.0",
          "state": {
            "_model_module": "@jupyter-widgets/controls",
            "_model_module_version": "1.5.0",
            "_model_name": "DescriptionStyleModel",
            "_view_count": null,
            "_view_module": "@jupyter-widgets/base",
            "_view_module_version": "1.2.0",
            "_view_name": "StyleView",
            "description_width": ""
          }
        },
        "af0e14d81ce84320baf6babae66cd62d": {
          "model_module": "@jupyter-widgets/controls",
          "model_name": "HBoxModel",
          "model_module_version": "1.5.0",
          "state": {
            "_dom_classes": [],
            "_model_module": "@jupyter-widgets/controls",
            "_model_module_version": "1.5.0",
            "_model_name": "HBoxModel",
            "_view_count": null,
            "_view_module": "@jupyter-widgets/controls",
            "_view_module_version": "1.5.0",
            "_view_name": "HBoxView",
            "box_style": "",
            "children": [
              "IPY_MODEL_ba3d8357a06c4ec192857e68abb725bf",
              "IPY_MODEL_da882f43c2554121820bd515df01a2f8",
              "IPY_MODEL_83b12d22149a46c3a23291a69290ad5c"
            ],
            "layout": "IPY_MODEL_1b9d7943f0cf495aa07c4c70957221ed"
          }
        },
        "ba3d8357a06c4ec192857e68abb725bf": {
          "model_module": "@jupyter-widgets/controls",
          "model_name": "HTMLModel",
          "model_module_version": "1.5.0",
          "state": {
            "_dom_classes": [],
            "_model_module": "@jupyter-widgets/controls",
            "_model_module_version": "1.5.0",
            "_model_name": "HTMLModel",
            "_view_count": null,
            "_view_module": "@jupyter-widgets/controls",
            "_view_module_version": "1.5.0",
            "_view_name": "HTMLView",
            "description": "",
            "description_tooltip": null,
            "layout": "IPY_MODEL_cf97687965914ba9aeabf1838fa95616",
            "placeholder": "​",
            "style": "IPY_MODEL_637f115475394184b81f9b62d3a2c764",
            "value": "100%"
          }
        },
        "da882f43c2554121820bd515df01a2f8": {
          "model_module": "@jupyter-widgets/controls",
          "model_name": "FloatProgressModel",
          "model_module_version": "1.5.0",
          "state": {
            "_dom_classes": [],
            "_model_module": "@jupyter-widgets/controls",
            "_model_module_version": "1.5.0",
            "_model_name": "FloatProgressModel",
            "_view_count": null,
            "_view_module": "@jupyter-widgets/controls",
            "_view_module_version": "1.5.0",
            "_view_name": "ProgressView",
            "bar_style": "success",
            "description": "",
            "description_tooltip": null,
            "layout": "IPY_MODEL_966dd3bf4a614c57b942d49cf83c27f1",
            "max": 196,
            "min": 0,
            "orientation": "horizontal",
            "style": "IPY_MODEL_818baa89a1474715848236ab966f3989",
            "value": 196
          }
        },
        "83b12d22149a46c3a23291a69290ad5c": {
          "model_module": "@jupyter-widgets/controls",
          "model_name": "HTMLModel",
          "model_module_version": "1.5.0",
          "state": {
            "_dom_classes": [],
            "_model_module": "@jupyter-widgets/controls",
            "_model_module_version": "1.5.0",
            "_model_name": "HTMLModel",
            "_view_count": null,
            "_view_module": "@jupyter-widgets/controls",
            "_view_module_version": "1.5.0",
            "_view_name": "HTMLView",
            "description": "",
            "description_tooltip": null,
            "layout": "IPY_MODEL_1f2b663448804e4e94a6d269840dc50b",
            "placeholder": "​",
            "style": "IPY_MODEL_26bad954fb8d45079feb4efdcfb0dd3c",
            "value": " 196/196 [01:24&lt;00:00,  2.90it/s]"
          }
        },
        "1b9d7943f0cf495aa07c4c70957221ed": {
          "model_module": "@jupyter-widgets/base",
          "model_name": "LayoutModel",
          "model_module_version": "1.2.0",
          "state": {
            "_model_module": "@jupyter-widgets/base",
            "_model_module_version": "1.2.0",
            "_model_name": "LayoutModel",
            "_view_count": null,
            "_view_module": "@jupyter-widgets/base",
            "_view_module_version": "1.2.0",
            "_view_name": "LayoutView",
            "align_content": null,
            "align_items": null,
            "align_self": null,
            "border": null,
            "bottom": null,
            "display": null,
            "flex": null,
            "flex_flow": null,
            "grid_area": null,
            "grid_auto_columns": null,
            "grid_auto_flow": null,
            "grid_auto_rows": null,
            "grid_column": null,
            "grid_gap": null,
            "grid_row": null,
            "grid_template_areas": null,
            "grid_template_columns": null,
            "grid_template_rows": null,
            "height": null,
            "justify_content": null,
            "justify_items": null,
            "left": null,
            "margin": null,
            "max_height": null,
            "max_width": null,
            "min_height": null,
            "min_width": null,
            "object_fit": null,
            "object_position": null,
            "order": null,
            "overflow": null,
            "overflow_x": null,
            "overflow_y": null,
            "padding": null,
            "right": null,
            "top": null,
            "visibility": null,
            "width": null
          }
        },
        "cf97687965914ba9aeabf1838fa95616": {
          "model_module": "@jupyter-widgets/base",
          "model_name": "LayoutModel",
          "model_module_version": "1.2.0",
          "state": {
            "_model_module": "@jupyter-widgets/base",
            "_model_module_version": "1.2.0",
            "_model_name": "LayoutModel",
            "_view_count": null,
            "_view_module": "@jupyter-widgets/base",
            "_view_module_version": "1.2.0",
            "_view_name": "LayoutView",
            "align_content": null,
            "align_items": null,
            "align_self": null,
            "border": null,
            "bottom": null,
            "display": null,
            "flex": null,
            "flex_flow": null,
            "grid_area": null,
            "grid_auto_columns": null,
            "grid_auto_flow": null,
            "grid_auto_rows": null,
            "grid_column": null,
            "grid_gap": null,
            "grid_row": null,
            "grid_template_areas": null,
            "grid_template_columns": null,
            "grid_template_rows": null,
            "height": null,
            "justify_content": null,
            "justify_items": null,
            "left": null,
            "margin": null,
            "max_height": null,
            "max_width": null,
            "min_height": null,
            "min_width": null,
            "object_fit": null,
            "object_position": null,
            "order": null,
            "overflow": null,
            "overflow_x": null,
            "overflow_y": null,
            "padding": null,
            "right": null,
            "top": null,
            "visibility": null,
            "width": null
          }
        },
        "637f115475394184b81f9b62d3a2c764": {
          "model_module": "@jupyter-widgets/controls",
          "model_name": "DescriptionStyleModel",
          "model_module_version": "1.5.0",
          "state": {
            "_model_module": "@jupyter-widgets/controls",
            "_model_module_version": "1.5.0",
            "_model_name": "DescriptionStyleModel",
            "_view_count": null,
            "_view_module": "@jupyter-widgets/base",
            "_view_module_version": "1.2.0",
            "_view_name": "StyleView",
            "description_width": ""
          }
        },
        "966dd3bf4a614c57b942d49cf83c27f1": {
          "model_module": "@jupyter-widgets/base",
          "model_name": "LayoutModel",
          "model_module_version": "1.2.0",
          "state": {
            "_model_module": "@jupyter-widgets/base",
            "_model_module_version": "1.2.0",
            "_model_name": "LayoutModel",
            "_view_count": null,
            "_view_module": "@jupyter-widgets/base",
            "_view_module_version": "1.2.0",
            "_view_name": "LayoutView",
            "align_content": null,
            "align_items": null,
            "align_self": null,
            "border": null,
            "bottom": null,
            "display": null,
            "flex": null,
            "flex_flow": null,
            "grid_area": null,
            "grid_auto_columns": null,
            "grid_auto_flow": null,
            "grid_auto_rows": null,
            "grid_column": null,
            "grid_gap": null,
            "grid_row": null,
            "grid_template_areas": null,
            "grid_template_columns": null,
            "grid_template_rows": null,
            "height": null,
            "justify_content": null,
            "justify_items": null,
            "left": null,
            "margin": null,
            "max_height": null,
            "max_width": null,
            "min_height": null,
            "min_width": null,
            "object_fit": null,
            "object_position": null,
            "order": null,
            "overflow": null,
            "overflow_x": null,
            "overflow_y": null,
            "padding": null,
            "right": null,
            "top": null,
            "visibility": null,
            "width": null
          }
        },
        "818baa89a1474715848236ab966f3989": {
          "model_module": "@jupyter-widgets/controls",
          "model_name": "ProgressStyleModel",
          "model_module_version": "1.5.0",
          "state": {
            "_model_module": "@jupyter-widgets/controls",
            "_model_module_version": "1.5.0",
            "_model_name": "ProgressStyleModel",
            "_view_count": null,
            "_view_module": "@jupyter-widgets/base",
            "_view_module_version": "1.2.0",
            "_view_name": "StyleView",
            "bar_color": null,
            "description_width": ""
          }
        },
        "1f2b663448804e4e94a6d269840dc50b": {
          "model_module": "@jupyter-widgets/base",
          "model_name": "LayoutModel",
          "model_module_version": "1.2.0",
          "state": {
            "_model_module": "@jupyter-widgets/base",
            "_model_module_version": "1.2.0",
            "_model_name": "LayoutModel",
            "_view_count": null,
            "_view_module": "@jupyter-widgets/base",
            "_view_module_version": "1.2.0",
            "_view_name": "LayoutView",
            "align_content": null,
            "align_items": null,
            "align_self": null,
            "border": null,
            "bottom": null,
            "display": null,
            "flex": null,
            "flex_flow": null,
            "grid_area": null,
            "grid_auto_columns": null,
            "grid_auto_flow": null,
            "grid_auto_rows": null,
            "grid_column": null,
            "grid_gap": null,
            "grid_row": null,
            "grid_template_areas": null,
            "grid_template_columns": null,
            "grid_template_rows": null,
            "height": null,
            "justify_content": null,
            "justify_items": null,
            "left": null,
            "margin": null,
            "max_height": null,
            "max_width": null,
            "min_height": null,
            "min_width": null,
            "object_fit": null,
            "object_position": null,
            "order": null,
            "overflow": null,
            "overflow_x": null,
            "overflow_y": null,
            "padding": null,
            "right": null,
            "top": null,
            "visibility": null,
            "width": null
          }
        },
        "26bad954fb8d45079feb4efdcfb0dd3c": {
          "model_module": "@jupyter-widgets/controls",
          "model_name": "DescriptionStyleModel",
          "model_module_version": "1.5.0",
          "state": {
            "_model_module": "@jupyter-widgets/controls",
            "_model_module_version": "1.5.0",
            "_model_name": "DescriptionStyleModel",
            "_view_count": null,
            "_view_module": "@jupyter-widgets/base",
            "_view_module_version": "1.2.0",
            "_view_name": "StyleView",
            "description_width": ""
          }
        },
        "8c521cea97944dc5abb6d524a65e7a71": {
          "model_module": "@jupyter-widgets/controls",
          "model_name": "HBoxModel",
          "model_module_version": "1.5.0",
          "state": {
            "_dom_classes": [],
            "_model_module": "@jupyter-widgets/controls",
            "_model_module_version": "1.5.0",
            "_model_name": "HBoxModel",
            "_view_count": null,
            "_view_module": "@jupyter-widgets/controls",
            "_view_module_version": "1.5.0",
            "_view_name": "HBoxView",
            "box_style": "",
            "children": [
              "IPY_MODEL_435953c5c84c45848c9b5c277759ea3d",
              "IPY_MODEL_b833a3a8e83f48cb818b5e7532a7cb72",
              "IPY_MODEL_73bd950c3f9c4f918b2266d5f400876d"
            ],
            "layout": "IPY_MODEL_c9a65e37f3c144c2b7dc961795f8e3ea"
          }
        },
        "435953c5c84c45848c9b5c277759ea3d": {
          "model_module": "@jupyter-widgets/controls",
          "model_name": "HTMLModel",
          "model_module_version": "1.5.0",
          "state": {
            "_dom_classes": [],
            "_model_module": "@jupyter-widgets/controls",
            "_model_module_version": "1.5.0",
            "_model_name": "HTMLModel",
            "_view_count": null,
            "_view_module": "@jupyter-widgets/controls",
            "_view_module_version": "1.5.0",
            "_view_name": "HTMLView",
            "description": "",
            "description_tooltip": null,
            "layout": "IPY_MODEL_a4b0410e45be401c8f432bb5b1a95815",
            "placeholder": "​",
            "style": "IPY_MODEL_599c83d718294b1db4b0e2b987afc551",
            "value": "100%"
          }
        },
        "b833a3a8e83f48cb818b5e7532a7cb72": {
          "model_module": "@jupyter-widgets/controls",
          "model_name": "FloatProgressModel",
          "model_module_version": "1.5.0",
          "state": {
            "_dom_classes": [],
            "_model_module": "@jupyter-widgets/controls",
            "_model_module_version": "1.5.0",
            "_model_name": "FloatProgressModel",
            "_view_count": null,
            "_view_module": "@jupyter-widgets/controls",
            "_view_module_version": "1.5.0",
            "_view_name": "ProgressView",
            "bar_style": "success",
            "description": "",
            "description_tooltip": null,
            "layout": "IPY_MODEL_7957b502af6141a5b2fa11545d8fb055",
            "max": 586,
            "min": 0,
            "orientation": "horizontal",
            "style": "IPY_MODEL_ddf9e2ee519446bf8d47c6db44ba4117",
            "value": 586
          }
        },
        "73bd950c3f9c4f918b2266d5f400876d": {
          "model_module": "@jupyter-widgets/controls",
          "model_name": "HTMLModel",
          "model_module_version": "1.5.0",
          "state": {
            "_dom_classes": [],
            "_model_module": "@jupyter-widgets/controls",
            "_model_module_version": "1.5.0",
            "_model_name": "HTMLModel",
            "_view_count": null,
            "_view_module": "@jupyter-widgets/controls",
            "_view_module_version": "1.5.0",
            "_view_name": "HTMLView",
            "description": "",
            "description_tooltip": null,
            "layout": "IPY_MODEL_97158b3e6450436b960726e43681999e",
            "placeholder": "​",
            "style": "IPY_MODEL_965331fb35db4c6bb6bbfe16a99c7100",
            "value": " 586/586 [11:52&lt;00:00,  1.19s/it]"
          }
        },
        "c9a65e37f3c144c2b7dc961795f8e3ea": {
          "model_module": "@jupyter-widgets/base",
          "model_name": "LayoutModel",
          "model_module_version": "1.2.0",
          "state": {
            "_model_module": "@jupyter-widgets/base",
            "_model_module_version": "1.2.0",
            "_model_name": "LayoutModel",
            "_view_count": null,
            "_view_module": "@jupyter-widgets/base",
            "_view_module_version": "1.2.0",
            "_view_name": "LayoutView",
            "align_content": null,
            "align_items": null,
            "align_self": null,
            "border": null,
            "bottom": null,
            "display": null,
            "flex": null,
            "flex_flow": null,
            "grid_area": null,
            "grid_auto_columns": null,
            "grid_auto_flow": null,
            "grid_auto_rows": null,
            "grid_column": null,
            "grid_gap": null,
            "grid_row": null,
            "grid_template_areas": null,
            "grid_template_columns": null,
            "grid_template_rows": null,
            "height": null,
            "justify_content": null,
            "justify_items": null,
            "left": null,
            "margin": null,
            "max_height": null,
            "max_width": null,
            "min_height": null,
            "min_width": null,
            "object_fit": null,
            "object_position": null,
            "order": null,
            "overflow": null,
            "overflow_x": null,
            "overflow_y": null,
            "padding": null,
            "right": null,
            "top": null,
            "visibility": null,
            "width": null
          }
        },
        "a4b0410e45be401c8f432bb5b1a95815": {
          "model_module": "@jupyter-widgets/base",
          "model_name": "LayoutModel",
          "model_module_version": "1.2.0",
          "state": {
            "_model_module": "@jupyter-widgets/base",
            "_model_module_version": "1.2.0",
            "_model_name": "LayoutModel",
            "_view_count": null,
            "_view_module": "@jupyter-widgets/base",
            "_view_module_version": "1.2.0",
            "_view_name": "LayoutView",
            "align_content": null,
            "align_items": null,
            "align_self": null,
            "border": null,
            "bottom": null,
            "display": null,
            "flex": null,
            "flex_flow": null,
            "grid_area": null,
            "grid_auto_columns": null,
            "grid_auto_flow": null,
            "grid_auto_rows": null,
            "grid_column": null,
            "grid_gap": null,
            "grid_row": null,
            "grid_template_areas": null,
            "grid_template_columns": null,
            "grid_template_rows": null,
            "height": null,
            "justify_content": null,
            "justify_items": null,
            "left": null,
            "margin": null,
            "max_height": null,
            "max_width": null,
            "min_height": null,
            "min_width": null,
            "object_fit": null,
            "object_position": null,
            "order": null,
            "overflow": null,
            "overflow_x": null,
            "overflow_y": null,
            "padding": null,
            "right": null,
            "top": null,
            "visibility": null,
            "width": null
          }
        },
        "599c83d718294b1db4b0e2b987afc551": {
          "model_module": "@jupyter-widgets/controls",
          "model_name": "DescriptionStyleModel",
          "model_module_version": "1.5.0",
          "state": {
            "_model_module": "@jupyter-widgets/controls",
            "_model_module_version": "1.5.0",
            "_model_name": "DescriptionStyleModel",
            "_view_count": null,
            "_view_module": "@jupyter-widgets/base",
            "_view_module_version": "1.2.0",
            "_view_name": "StyleView",
            "description_width": ""
          }
        },
        "7957b502af6141a5b2fa11545d8fb055": {
          "model_module": "@jupyter-widgets/base",
          "model_name": "LayoutModel",
          "model_module_version": "1.2.0",
          "state": {
            "_model_module": "@jupyter-widgets/base",
            "_model_module_version": "1.2.0",
            "_model_name": "LayoutModel",
            "_view_count": null,
            "_view_module": "@jupyter-widgets/base",
            "_view_module_version": "1.2.0",
            "_view_name": "LayoutView",
            "align_content": null,
            "align_items": null,
            "align_self": null,
            "border": null,
            "bottom": null,
            "display": null,
            "flex": null,
            "flex_flow": null,
            "grid_area": null,
            "grid_auto_columns": null,
            "grid_auto_flow": null,
            "grid_auto_rows": null,
            "grid_column": null,
            "grid_gap": null,
            "grid_row": null,
            "grid_template_areas": null,
            "grid_template_columns": null,
            "grid_template_rows": null,
            "height": null,
            "justify_content": null,
            "justify_items": null,
            "left": null,
            "margin": null,
            "max_height": null,
            "max_width": null,
            "min_height": null,
            "min_width": null,
            "object_fit": null,
            "object_position": null,
            "order": null,
            "overflow": null,
            "overflow_x": null,
            "overflow_y": null,
            "padding": null,
            "right": null,
            "top": null,
            "visibility": null,
            "width": null
          }
        },
        "ddf9e2ee519446bf8d47c6db44ba4117": {
          "model_module": "@jupyter-widgets/controls",
          "model_name": "ProgressStyleModel",
          "model_module_version": "1.5.0",
          "state": {
            "_model_module": "@jupyter-widgets/controls",
            "_model_module_version": "1.5.0",
            "_model_name": "ProgressStyleModel",
            "_view_count": null,
            "_view_module": "@jupyter-widgets/base",
            "_view_module_version": "1.2.0",
            "_view_name": "StyleView",
            "bar_color": null,
            "description_width": ""
          }
        },
        "97158b3e6450436b960726e43681999e": {
          "model_module": "@jupyter-widgets/base",
          "model_name": "LayoutModel",
          "model_module_version": "1.2.0",
          "state": {
            "_model_module": "@jupyter-widgets/base",
            "_model_module_version": "1.2.0",
            "_model_name": "LayoutModel",
            "_view_count": null,
            "_view_module": "@jupyter-widgets/base",
            "_view_module_version": "1.2.0",
            "_view_name": "LayoutView",
            "align_content": null,
            "align_items": null,
            "align_self": null,
            "border": null,
            "bottom": null,
            "display": null,
            "flex": null,
            "flex_flow": null,
            "grid_area": null,
            "grid_auto_columns": null,
            "grid_auto_flow": null,
            "grid_auto_rows": null,
            "grid_column": null,
            "grid_gap": null,
            "grid_row": null,
            "grid_template_areas": null,
            "grid_template_columns": null,
            "grid_template_rows": null,
            "height": null,
            "justify_content": null,
            "justify_items": null,
            "left": null,
            "margin": null,
            "max_height": null,
            "max_width": null,
            "min_height": null,
            "min_width": null,
            "object_fit": null,
            "object_position": null,
            "order": null,
            "overflow": null,
            "overflow_x": null,
            "overflow_y": null,
            "padding": null,
            "right": null,
            "top": null,
            "visibility": null,
            "width": null
          }
        },
        "965331fb35db4c6bb6bbfe16a99c7100": {
          "model_module": "@jupyter-widgets/controls",
          "model_name": "DescriptionStyleModel",
          "model_module_version": "1.5.0",
          "state": {
            "_model_module": "@jupyter-widgets/controls",
            "_model_module_version": "1.5.0",
            "_model_name": "DescriptionStyleModel",
            "_view_count": null,
            "_view_module": "@jupyter-widgets/base",
            "_view_module_version": "1.2.0",
            "_view_name": "StyleView",
            "description_width": ""
          }
        },
        "555a33e61668449b9b8a03d2ee5d69da": {
          "model_module": "@jupyter-widgets/controls",
          "model_name": "HBoxModel",
          "model_module_version": "1.5.0",
          "state": {
            "_dom_classes": [],
            "_model_module": "@jupyter-widgets/controls",
            "_model_module_version": "1.5.0",
            "_model_name": "HBoxModel",
            "_view_count": null,
            "_view_module": "@jupyter-widgets/controls",
            "_view_module_version": "1.5.0",
            "_view_name": "HBoxView",
            "box_style": "",
            "children": [
              "IPY_MODEL_7f5d9b503d54430bbf760d4fd1132bad",
              "IPY_MODEL_a6d850671f0441fd8f54aa4963a9b690",
              "IPY_MODEL_dbe0ed4ee02444a59d794aaf161a36f0"
            ],
            "layout": "IPY_MODEL_aa092437686c470ea56d3ee2f656be1d"
          }
        },
        "7f5d9b503d54430bbf760d4fd1132bad": {
          "model_module": "@jupyter-widgets/controls",
          "model_name": "HTMLModel",
          "model_module_version": "1.5.0",
          "state": {
            "_dom_classes": [],
            "_model_module": "@jupyter-widgets/controls",
            "_model_module_version": "1.5.0",
            "_model_name": "HTMLModel",
            "_view_count": null,
            "_view_module": "@jupyter-widgets/controls",
            "_view_module_version": "1.5.0",
            "_view_name": "HTMLView",
            "description": "",
            "description_tooltip": null,
            "layout": "IPY_MODEL_cd26d95756894b12bbea346587804049",
            "placeholder": "​",
            "style": "IPY_MODEL_39f3c7bb8f1d4ef9b6527d97275c6548",
            "value": "100%"
          }
        },
        "a6d850671f0441fd8f54aa4963a9b690": {
          "model_module": "@jupyter-widgets/controls",
          "model_name": "FloatProgressModel",
          "model_module_version": "1.5.0",
          "state": {
            "_dom_classes": [],
            "_model_module": "@jupyter-widgets/controls",
            "_model_module_version": "1.5.0",
            "_model_name": "FloatProgressModel",
            "_view_count": null,
            "_view_module": "@jupyter-widgets/controls",
            "_view_module_version": "1.5.0",
            "_view_name": "ProgressView",
            "bar_style": "success",
            "description": "",
            "description_tooltip": null,
            "layout": "IPY_MODEL_43d0a248c4f04172b4406103ff7827b8",
            "max": 196,
            "min": 0,
            "orientation": "horizontal",
            "style": "IPY_MODEL_4cad51fab0904ce4887fae2228f78ec1",
            "value": 196
          }
        },
        "dbe0ed4ee02444a59d794aaf161a36f0": {
          "model_module": "@jupyter-widgets/controls",
          "model_name": "HTMLModel",
          "model_module_version": "1.5.0",
          "state": {
            "_dom_classes": [],
            "_model_module": "@jupyter-widgets/controls",
            "_model_module_version": "1.5.0",
            "_model_name": "HTMLModel",
            "_view_count": null,
            "_view_module": "@jupyter-widgets/controls",
            "_view_module_version": "1.5.0",
            "_view_name": "HTMLView",
            "description": "",
            "description_tooltip": null,
            "layout": "IPY_MODEL_1fc1f3f4c85f490eb7a369567ada8c6c",
            "placeholder": "​",
            "style": "IPY_MODEL_1f3c11d8a0a6435585698f999a86b85a",
            "value": " 196/196 [01:24&lt;00:00,  2.90it/s]"
          }
        },
        "aa092437686c470ea56d3ee2f656be1d": {
          "model_module": "@jupyter-widgets/base",
          "model_name": "LayoutModel",
          "model_module_version": "1.2.0",
          "state": {
            "_model_module": "@jupyter-widgets/base",
            "_model_module_version": "1.2.0",
            "_model_name": "LayoutModel",
            "_view_count": null,
            "_view_module": "@jupyter-widgets/base",
            "_view_module_version": "1.2.0",
            "_view_name": "LayoutView",
            "align_content": null,
            "align_items": null,
            "align_self": null,
            "border": null,
            "bottom": null,
            "display": null,
            "flex": null,
            "flex_flow": null,
            "grid_area": null,
            "grid_auto_columns": null,
            "grid_auto_flow": null,
            "grid_auto_rows": null,
            "grid_column": null,
            "grid_gap": null,
            "grid_row": null,
            "grid_template_areas": null,
            "grid_template_columns": null,
            "grid_template_rows": null,
            "height": null,
            "justify_content": null,
            "justify_items": null,
            "left": null,
            "margin": null,
            "max_height": null,
            "max_width": null,
            "min_height": null,
            "min_width": null,
            "object_fit": null,
            "object_position": null,
            "order": null,
            "overflow": null,
            "overflow_x": null,
            "overflow_y": null,
            "padding": null,
            "right": null,
            "top": null,
            "visibility": null,
            "width": null
          }
        },
        "cd26d95756894b12bbea346587804049": {
          "model_module": "@jupyter-widgets/base",
          "model_name": "LayoutModel",
          "model_module_version": "1.2.0",
          "state": {
            "_model_module": "@jupyter-widgets/base",
            "_model_module_version": "1.2.0",
            "_model_name": "LayoutModel",
            "_view_count": null,
            "_view_module": "@jupyter-widgets/base",
            "_view_module_version": "1.2.0",
            "_view_name": "LayoutView",
            "align_content": null,
            "align_items": null,
            "align_self": null,
            "border": null,
            "bottom": null,
            "display": null,
            "flex": null,
            "flex_flow": null,
            "grid_area": null,
            "grid_auto_columns": null,
            "grid_auto_flow": null,
            "grid_auto_rows": null,
            "grid_column": null,
            "grid_gap": null,
            "grid_row": null,
            "grid_template_areas": null,
            "grid_template_columns": null,
            "grid_template_rows": null,
            "height": null,
            "justify_content": null,
            "justify_items": null,
            "left": null,
            "margin": null,
            "max_height": null,
            "max_width": null,
            "min_height": null,
            "min_width": null,
            "object_fit": null,
            "object_position": null,
            "order": null,
            "overflow": null,
            "overflow_x": null,
            "overflow_y": null,
            "padding": null,
            "right": null,
            "top": null,
            "visibility": null,
            "width": null
          }
        },
        "39f3c7bb8f1d4ef9b6527d97275c6548": {
          "model_module": "@jupyter-widgets/controls",
          "model_name": "DescriptionStyleModel",
          "model_module_version": "1.5.0",
          "state": {
            "_model_module": "@jupyter-widgets/controls",
            "_model_module_version": "1.5.0",
            "_model_name": "DescriptionStyleModel",
            "_view_count": null,
            "_view_module": "@jupyter-widgets/base",
            "_view_module_version": "1.2.0",
            "_view_name": "StyleView",
            "description_width": ""
          }
        },
        "43d0a248c4f04172b4406103ff7827b8": {
          "model_module": "@jupyter-widgets/base",
          "model_name": "LayoutModel",
          "model_module_version": "1.2.0",
          "state": {
            "_model_module": "@jupyter-widgets/base",
            "_model_module_version": "1.2.0",
            "_model_name": "LayoutModel",
            "_view_count": null,
            "_view_module": "@jupyter-widgets/base",
            "_view_module_version": "1.2.0",
            "_view_name": "LayoutView",
            "align_content": null,
            "align_items": null,
            "align_self": null,
            "border": null,
            "bottom": null,
            "display": null,
            "flex": null,
            "flex_flow": null,
            "grid_area": null,
            "grid_auto_columns": null,
            "grid_auto_flow": null,
            "grid_auto_rows": null,
            "grid_column": null,
            "grid_gap": null,
            "grid_row": null,
            "grid_template_areas": null,
            "grid_template_columns": null,
            "grid_template_rows": null,
            "height": null,
            "justify_content": null,
            "justify_items": null,
            "left": null,
            "margin": null,
            "max_height": null,
            "max_width": null,
            "min_height": null,
            "min_width": null,
            "object_fit": null,
            "object_position": null,
            "order": null,
            "overflow": null,
            "overflow_x": null,
            "overflow_y": null,
            "padding": null,
            "right": null,
            "top": null,
            "visibility": null,
            "width": null
          }
        },
        "4cad51fab0904ce4887fae2228f78ec1": {
          "model_module": "@jupyter-widgets/controls",
          "model_name": "ProgressStyleModel",
          "model_module_version": "1.5.0",
          "state": {
            "_model_module": "@jupyter-widgets/controls",
            "_model_module_version": "1.5.0",
            "_model_name": "ProgressStyleModel",
            "_view_count": null,
            "_view_module": "@jupyter-widgets/base",
            "_view_module_version": "1.2.0",
            "_view_name": "StyleView",
            "bar_color": null,
            "description_width": ""
          }
        },
        "1fc1f3f4c85f490eb7a369567ada8c6c": {
          "model_module": "@jupyter-widgets/base",
          "model_name": "LayoutModel",
          "model_module_version": "1.2.0",
          "state": {
            "_model_module": "@jupyter-widgets/base",
            "_model_module_version": "1.2.0",
            "_model_name": "LayoutModel",
            "_view_count": null,
            "_view_module": "@jupyter-widgets/base",
            "_view_module_version": "1.2.0",
            "_view_name": "LayoutView",
            "align_content": null,
            "align_items": null,
            "align_self": null,
            "border": null,
            "bottom": null,
            "display": null,
            "flex": null,
            "flex_flow": null,
            "grid_area": null,
            "grid_auto_columns": null,
            "grid_auto_flow": null,
            "grid_auto_rows": null,
            "grid_column": null,
            "grid_gap": null,
            "grid_row": null,
            "grid_template_areas": null,
            "grid_template_columns": null,
            "grid_template_rows": null,
            "height": null,
            "justify_content": null,
            "justify_items": null,
            "left": null,
            "margin": null,
            "max_height": null,
            "max_width": null,
            "min_height": null,
            "min_width": null,
            "object_fit": null,
            "object_position": null,
            "order": null,
            "overflow": null,
            "overflow_x": null,
            "overflow_y": null,
            "padding": null,
            "right": null,
            "top": null,
            "visibility": null,
            "width": null
          }
        },
        "1f3c11d8a0a6435585698f999a86b85a": {
          "model_module": "@jupyter-widgets/controls",
          "model_name": "DescriptionStyleModel",
          "model_module_version": "1.5.0",
          "state": {
            "_model_module": "@jupyter-widgets/controls",
            "_model_module_version": "1.5.0",
            "_model_name": "DescriptionStyleModel",
            "_view_count": null,
            "_view_module": "@jupyter-widgets/base",
            "_view_module_version": "1.2.0",
            "_view_name": "StyleView",
            "description_width": ""
          }
        },
        "c62237fc410c4e5d95c350e3dab989ad": {
          "model_module": "@jupyter-widgets/controls",
          "model_name": "HBoxModel",
          "model_module_version": "1.5.0",
          "state": {
            "_dom_classes": [],
            "_model_module": "@jupyter-widgets/controls",
            "_model_module_version": "1.5.0",
            "_model_name": "HBoxModel",
            "_view_count": null,
            "_view_module": "@jupyter-widgets/controls",
            "_view_module_version": "1.5.0",
            "_view_name": "HBoxView",
            "box_style": "",
            "children": [
              "IPY_MODEL_7a8f47eccb2d4e2d8d8328ad3cf6c2a5",
              "IPY_MODEL_d3d2878826f64ff38503310b391da14a",
              "IPY_MODEL_fbc062fb79cc44bb90ffb2517983c6ed"
            ],
            "layout": "IPY_MODEL_832c437a75a5433bb12eaf9d07804bc4"
          }
        },
        "7a8f47eccb2d4e2d8d8328ad3cf6c2a5": {
          "model_module": "@jupyter-widgets/controls",
          "model_name": "HTMLModel",
          "model_module_version": "1.5.0",
          "state": {
            "_dom_classes": [],
            "_model_module": "@jupyter-widgets/controls",
            "_model_module_version": "1.5.0",
            "_model_name": "HTMLModel",
            "_view_count": null,
            "_view_module": "@jupyter-widgets/controls",
            "_view_module_version": "1.5.0",
            "_view_name": "HTMLView",
            "description": "",
            "description_tooltip": null,
            "layout": "IPY_MODEL_2278c6b704cf4439a16e45dcaeec0e18",
            "placeholder": "​",
            "style": "IPY_MODEL_a1965132bb93423c901283154fc453cc",
            "value": "100%"
          }
        },
        "d3d2878826f64ff38503310b391da14a": {
          "model_module": "@jupyter-widgets/controls",
          "model_name": "FloatProgressModel",
          "model_module_version": "1.5.0",
          "state": {
            "_dom_classes": [],
            "_model_module": "@jupyter-widgets/controls",
            "_model_module_version": "1.5.0",
            "_model_name": "FloatProgressModel",
            "_view_count": null,
            "_view_module": "@jupyter-widgets/controls",
            "_view_module_version": "1.5.0",
            "_view_name": "ProgressView",
            "bar_style": "success",
            "description": "",
            "description_tooltip": null,
            "layout": "IPY_MODEL_f6bfaf6cc7914b0caa7a81b440423f0c",
            "max": 586,
            "min": 0,
            "orientation": "horizontal",
            "style": "IPY_MODEL_637d295be3ad484cb67a27fd7c7c0720",
            "value": 586
          }
        },
        "fbc062fb79cc44bb90ffb2517983c6ed": {
          "model_module": "@jupyter-widgets/controls",
          "model_name": "HTMLModel",
          "model_module_version": "1.5.0",
          "state": {
            "_dom_classes": [],
            "_model_module": "@jupyter-widgets/controls",
            "_model_module_version": "1.5.0",
            "_model_name": "HTMLModel",
            "_view_count": null,
            "_view_module": "@jupyter-widgets/controls",
            "_view_module_version": "1.5.0",
            "_view_name": "HTMLView",
            "description": "",
            "description_tooltip": null,
            "layout": "IPY_MODEL_89e736606eb24eef8f051ba6f1271385",
            "placeholder": "​",
            "style": "IPY_MODEL_25c094755c084e87b11d39ed540857bc",
            "value": " 586/586 [11:51&lt;00:00,  1.19s/it]"
          }
        },
        "832c437a75a5433bb12eaf9d07804bc4": {
          "model_module": "@jupyter-widgets/base",
          "model_name": "LayoutModel",
          "model_module_version": "1.2.0",
          "state": {
            "_model_module": "@jupyter-widgets/base",
            "_model_module_version": "1.2.0",
            "_model_name": "LayoutModel",
            "_view_count": null,
            "_view_module": "@jupyter-widgets/base",
            "_view_module_version": "1.2.0",
            "_view_name": "LayoutView",
            "align_content": null,
            "align_items": null,
            "align_self": null,
            "border": null,
            "bottom": null,
            "display": null,
            "flex": null,
            "flex_flow": null,
            "grid_area": null,
            "grid_auto_columns": null,
            "grid_auto_flow": null,
            "grid_auto_rows": null,
            "grid_column": null,
            "grid_gap": null,
            "grid_row": null,
            "grid_template_areas": null,
            "grid_template_columns": null,
            "grid_template_rows": null,
            "height": null,
            "justify_content": null,
            "justify_items": null,
            "left": null,
            "margin": null,
            "max_height": null,
            "max_width": null,
            "min_height": null,
            "min_width": null,
            "object_fit": null,
            "object_position": null,
            "order": null,
            "overflow": null,
            "overflow_x": null,
            "overflow_y": null,
            "padding": null,
            "right": null,
            "top": null,
            "visibility": null,
            "width": null
          }
        },
        "2278c6b704cf4439a16e45dcaeec0e18": {
          "model_module": "@jupyter-widgets/base",
          "model_name": "LayoutModel",
          "model_module_version": "1.2.0",
          "state": {
            "_model_module": "@jupyter-widgets/base",
            "_model_module_version": "1.2.0",
            "_model_name": "LayoutModel",
            "_view_count": null,
            "_view_module": "@jupyter-widgets/base",
            "_view_module_version": "1.2.0",
            "_view_name": "LayoutView",
            "align_content": null,
            "align_items": null,
            "align_self": null,
            "border": null,
            "bottom": null,
            "display": null,
            "flex": null,
            "flex_flow": null,
            "grid_area": null,
            "grid_auto_columns": null,
            "grid_auto_flow": null,
            "grid_auto_rows": null,
            "grid_column": null,
            "grid_gap": null,
            "grid_row": null,
            "grid_template_areas": null,
            "grid_template_columns": null,
            "grid_template_rows": null,
            "height": null,
            "justify_content": null,
            "justify_items": null,
            "left": null,
            "margin": null,
            "max_height": null,
            "max_width": null,
            "min_height": null,
            "min_width": null,
            "object_fit": null,
            "object_position": null,
            "order": null,
            "overflow": null,
            "overflow_x": null,
            "overflow_y": null,
            "padding": null,
            "right": null,
            "top": null,
            "visibility": null,
            "width": null
          }
        },
        "a1965132bb93423c901283154fc453cc": {
          "model_module": "@jupyter-widgets/controls",
          "model_name": "DescriptionStyleModel",
          "model_module_version": "1.5.0",
          "state": {
            "_model_module": "@jupyter-widgets/controls",
            "_model_module_version": "1.5.0",
            "_model_name": "DescriptionStyleModel",
            "_view_count": null,
            "_view_module": "@jupyter-widgets/base",
            "_view_module_version": "1.2.0",
            "_view_name": "StyleView",
            "description_width": ""
          }
        },
        "f6bfaf6cc7914b0caa7a81b440423f0c": {
          "model_module": "@jupyter-widgets/base",
          "model_name": "LayoutModel",
          "model_module_version": "1.2.0",
          "state": {
            "_model_module": "@jupyter-widgets/base",
            "_model_module_version": "1.2.0",
            "_model_name": "LayoutModel",
            "_view_count": null,
            "_view_module": "@jupyter-widgets/base",
            "_view_module_version": "1.2.0",
            "_view_name": "LayoutView",
            "align_content": null,
            "align_items": null,
            "align_self": null,
            "border": null,
            "bottom": null,
            "display": null,
            "flex": null,
            "flex_flow": null,
            "grid_area": null,
            "grid_auto_columns": null,
            "grid_auto_flow": null,
            "grid_auto_rows": null,
            "grid_column": null,
            "grid_gap": null,
            "grid_row": null,
            "grid_template_areas": null,
            "grid_template_columns": null,
            "grid_template_rows": null,
            "height": null,
            "justify_content": null,
            "justify_items": null,
            "left": null,
            "margin": null,
            "max_height": null,
            "max_width": null,
            "min_height": null,
            "min_width": null,
            "object_fit": null,
            "object_position": null,
            "order": null,
            "overflow": null,
            "overflow_x": null,
            "overflow_y": null,
            "padding": null,
            "right": null,
            "top": null,
            "visibility": null,
            "width": null
          }
        },
        "637d295be3ad484cb67a27fd7c7c0720": {
          "model_module": "@jupyter-widgets/controls",
          "model_name": "ProgressStyleModel",
          "model_module_version": "1.5.0",
          "state": {
            "_model_module": "@jupyter-widgets/controls",
            "_model_module_version": "1.5.0",
            "_model_name": "ProgressStyleModel",
            "_view_count": null,
            "_view_module": "@jupyter-widgets/base",
            "_view_module_version": "1.2.0",
            "_view_name": "StyleView",
            "bar_color": null,
            "description_width": ""
          }
        },
        "89e736606eb24eef8f051ba6f1271385": {
          "model_module": "@jupyter-widgets/base",
          "model_name": "LayoutModel",
          "model_module_version": "1.2.0",
          "state": {
            "_model_module": "@jupyter-widgets/base",
            "_model_module_version": "1.2.0",
            "_model_name": "LayoutModel",
            "_view_count": null,
            "_view_module": "@jupyter-widgets/base",
            "_view_module_version": "1.2.0",
            "_view_name": "LayoutView",
            "align_content": null,
            "align_items": null,
            "align_self": null,
            "border": null,
            "bottom": null,
            "display": null,
            "flex": null,
            "flex_flow": null,
            "grid_area": null,
            "grid_auto_columns": null,
            "grid_auto_flow": null,
            "grid_auto_rows": null,
            "grid_column": null,
            "grid_gap": null,
            "grid_row": null,
            "grid_template_areas": null,
            "grid_template_columns": null,
            "grid_template_rows": null,
            "height": null,
            "justify_content": null,
            "justify_items": null,
            "left": null,
            "margin": null,
            "max_height": null,
            "max_width": null,
            "min_height": null,
            "min_width": null,
            "object_fit": null,
            "object_position": null,
            "order": null,
            "overflow": null,
            "overflow_x": null,
            "overflow_y": null,
            "padding": null,
            "right": null,
            "top": null,
            "visibility": null,
            "width": null
          }
        },
        "25c094755c084e87b11d39ed540857bc": {
          "model_module": "@jupyter-widgets/controls",
          "model_name": "DescriptionStyleModel",
          "model_module_version": "1.5.0",
          "state": {
            "_model_module": "@jupyter-widgets/controls",
            "_model_module_version": "1.5.0",
            "_model_name": "DescriptionStyleModel",
            "_view_count": null,
            "_view_module": "@jupyter-widgets/base",
            "_view_module_version": "1.2.0",
            "_view_name": "StyleView",
            "description_width": ""
          }
        },
        "094c2c09011a42ec919bceff78a1e062": {
          "model_module": "@jupyter-widgets/controls",
          "model_name": "HBoxModel",
          "model_module_version": "1.5.0",
          "state": {
            "_dom_classes": [],
            "_model_module": "@jupyter-widgets/controls",
            "_model_module_version": "1.5.0",
            "_model_name": "HBoxModel",
            "_view_count": null,
            "_view_module": "@jupyter-widgets/controls",
            "_view_module_version": "1.5.0",
            "_view_name": "HBoxView",
            "box_style": "",
            "children": [
              "IPY_MODEL_0e0a97d1a53c4d82be7b5cdc731a93f7",
              "IPY_MODEL_a658bca4586d459bb49f6bfca443a1ec",
              "IPY_MODEL_da7d6f6161064bb3951f256c250802cd"
            ],
            "layout": "IPY_MODEL_381e88feaefd460f89b526c9e597d90e"
          }
        },
        "0e0a97d1a53c4d82be7b5cdc731a93f7": {
          "model_module": "@jupyter-widgets/controls",
          "model_name": "HTMLModel",
          "model_module_version": "1.5.0",
          "state": {
            "_dom_classes": [],
            "_model_module": "@jupyter-widgets/controls",
            "_model_module_version": "1.5.0",
            "_model_name": "HTMLModel",
            "_view_count": null,
            "_view_module": "@jupyter-widgets/controls",
            "_view_module_version": "1.5.0",
            "_view_name": "HTMLView",
            "description": "",
            "description_tooltip": null,
            "layout": "IPY_MODEL_726f09c64cd140ecaadd75084caaaaab",
            "placeholder": "​",
            "style": "IPY_MODEL_171b247586ab4cc58deac048749f012f",
            "value": "100%"
          }
        },
        "a658bca4586d459bb49f6bfca443a1ec": {
          "model_module": "@jupyter-widgets/controls",
          "model_name": "FloatProgressModel",
          "model_module_version": "1.5.0",
          "state": {
            "_dom_classes": [],
            "_model_module": "@jupyter-widgets/controls",
            "_model_module_version": "1.5.0",
            "_model_name": "FloatProgressModel",
            "_view_count": null,
            "_view_module": "@jupyter-widgets/controls",
            "_view_module_version": "1.5.0",
            "_view_name": "ProgressView",
            "bar_style": "success",
            "description": "",
            "description_tooltip": null,
            "layout": "IPY_MODEL_528e62a7656f48c98de1509c3b746c41",
            "max": 196,
            "min": 0,
            "orientation": "horizontal",
            "style": "IPY_MODEL_212d47de9dd84911a09742418dc36164",
            "value": 196
          }
        },
        "da7d6f6161064bb3951f256c250802cd": {
          "model_module": "@jupyter-widgets/controls",
          "model_name": "HTMLModel",
          "model_module_version": "1.5.0",
          "state": {
            "_dom_classes": [],
            "_model_module": "@jupyter-widgets/controls",
            "_model_module_version": "1.5.0",
            "_model_name": "HTMLModel",
            "_view_count": null,
            "_view_module": "@jupyter-widgets/controls",
            "_view_module_version": "1.5.0",
            "_view_name": "HTMLView",
            "description": "",
            "description_tooltip": null,
            "layout": "IPY_MODEL_85c8ec9c53ec4420820404753dbe3c4e",
            "placeholder": "​",
            "style": "IPY_MODEL_c1871027665e4757a299091dd512a392",
            "value": " 196/196 [01:24&lt;00:00,  2.93it/s]"
          }
        },
        "381e88feaefd460f89b526c9e597d90e": {
          "model_module": "@jupyter-widgets/base",
          "model_name": "LayoutModel",
          "model_module_version": "1.2.0",
          "state": {
            "_model_module": "@jupyter-widgets/base",
            "_model_module_version": "1.2.0",
            "_model_name": "LayoutModel",
            "_view_count": null,
            "_view_module": "@jupyter-widgets/base",
            "_view_module_version": "1.2.0",
            "_view_name": "LayoutView",
            "align_content": null,
            "align_items": null,
            "align_self": null,
            "border": null,
            "bottom": null,
            "display": null,
            "flex": null,
            "flex_flow": null,
            "grid_area": null,
            "grid_auto_columns": null,
            "grid_auto_flow": null,
            "grid_auto_rows": null,
            "grid_column": null,
            "grid_gap": null,
            "grid_row": null,
            "grid_template_areas": null,
            "grid_template_columns": null,
            "grid_template_rows": null,
            "height": null,
            "justify_content": null,
            "justify_items": null,
            "left": null,
            "margin": null,
            "max_height": null,
            "max_width": null,
            "min_height": null,
            "min_width": null,
            "object_fit": null,
            "object_position": null,
            "order": null,
            "overflow": null,
            "overflow_x": null,
            "overflow_y": null,
            "padding": null,
            "right": null,
            "top": null,
            "visibility": null,
            "width": null
          }
        },
        "726f09c64cd140ecaadd75084caaaaab": {
          "model_module": "@jupyter-widgets/base",
          "model_name": "LayoutModel",
          "model_module_version": "1.2.0",
          "state": {
            "_model_module": "@jupyter-widgets/base",
            "_model_module_version": "1.2.0",
            "_model_name": "LayoutModel",
            "_view_count": null,
            "_view_module": "@jupyter-widgets/base",
            "_view_module_version": "1.2.0",
            "_view_name": "LayoutView",
            "align_content": null,
            "align_items": null,
            "align_self": null,
            "border": null,
            "bottom": null,
            "display": null,
            "flex": null,
            "flex_flow": null,
            "grid_area": null,
            "grid_auto_columns": null,
            "grid_auto_flow": null,
            "grid_auto_rows": null,
            "grid_column": null,
            "grid_gap": null,
            "grid_row": null,
            "grid_template_areas": null,
            "grid_template_columns": null,
            "grid_template_rows": null,
            "height": null,
            "justify_content": null,
            "justify_items": null,
            "left": null,
            "margin": null,
            "max_height": null,
            "max_width": null,
            "min_height": null,
            "min_width": null,
            "object_fit": null,
            "object_position": null,
            "order": null,
            "overflow": null,
            "overflow_x": null,
            "overflow_y": null,
            "padding": null,
            "right": null,
            "top": null,
            "visibility": null,
            "width": null
          }
        },
        "171b247586ab4cc58deac048749f012f": {
          "model_module": "@jupyter-widgets/controls",
          "model_name": "DescriptionStyleModel",
          "model_module_version": "1.5.0",
          "state": {
            "_model_module": "@jupyter-widgets/controls",
            "_model_module_version": "1.5.0",
            "_model_name": "DescriptionStyleModel",
            "_view_count": null,
            "_view_module": "@jupyter-widgets/base",
            "_view_module_version": "1.2.0",
            "_view_name": "StyleView",
            "description_width": ""
          }
        },
        "528e62a7656f48c98de1509c3b746c41": {
          "model_module": "@jupyter-widgets/base",
          "model_name": "LayoutModel",
          "model_module_version": "1.2.0",
          "state": {
            "_model_module": "@jupyter-widgets/base",
            "_model_module_version": "1.2.0",
            "_model_name": "LayoutModel",
            "_view_count": null,
            "_view_module": "@jupyter-widgets/base",
            "_view_module_version": "1.2.0",
            "_view_name": "LayoutView",
            "align_content": null,
            "align_items": null,
            "align_self": null,
            "border": null,
            "bottom": null,
            "display": null,
            "flex": null,
            "flex_flow": null,
            "grid_area": null,
            "grid_auto_columns": null,
            "grid_auto_flow": null,
            "grid_auto_rows": null,
            "grid_column": null,
            "grid_gap": null,
            "grid_row": null,
            "grid_template_areas": null,
            "grid_template_columns": null,
            "grid_template_rows": null,
            "height": null,
            "justify_content": null,
            "justify_items": null,
            "left": null,
            "margin": null,
            "max_height": null,
            "max_width": null,
            "min_height": null,
            "min_width": null,
            "object_fit": null,
            "object_position": null,
            "order": null,
            "overflow": null,
            "overflow_x": null,
            "overflow_y": null,
            "padding": null,
            "right": null,
            "top": null,
            "visibility": null,
            "width": null
          }
        },
        "212d47de9dd84911a09742418dc36164": {
          "model_module": "@jupyter-widgets/controls",
          "model_name": "ProgressStyleModel",
          "model_module_version": "1.5.0",
          "state": {
            "_model_module": "@jupyter-widgets/controls",
            "_model_module_version": "1.5.0",
            "_model_name": "ProgressStyleModel",
            "_view_count": null,
            "_view_module": "@jupyter-widgets/base",
            "_view_module_version": "1.2.0",
            "_view_name": "StyleView",
            "bar_color": null,
            "description_width": ""
          }
        },
        "85c8ec9c53ec4420820404753dbe3c4e": {
          "model_module": "@jupyter-widgets/base",
          "model_name": "LayoutModel",
          "model_module_version": "1.2.0",
          "state": {
            "_model_module": "@jupyter-widgets/base",
            "_model_module_version": "1.2.0",
            "_model_name": "LayoutModel",
            "_view_count": null,
            "_view_module": "@jupyter-widgets/base",
            "_view_module_version": "1.2.0",
            "_view_name": "LayoutView",
            "align_content": null,
            "align_items": null,
            "align_self": null,
            "border": null,
            "bottom": null,
            "display": null,
            "flex": null,
            "flex_flow": null,
            "grid_area": null,
            "grid_auto_columns": null,
            "grid_auto_flow": null,
            "grid_auto_rows": null,
            "grid_column": null,
            "grid_gap": null,
            "grid_row": null,
            "grid_template_areas": null,
            "grid_template_columns": null,
            "grid_template_rows": null,
            "height": null,
            "justify_content": null,
            "justify_items": null,
            "left": null,
            "margin": null,
            "max_height": null,
            "max_width": null,
            "min_height": null,
            "min_width": null,
            "object_fit": null,
            "object_position": null,
            "order": null,
            "overflow": null,
            "overflow_x": null,
            "overflow_y": null,
            "padding": null,
            "right": null,
            "top": null,
            "visibility": null,
            "width": null
          }
        },
        "c1871027665e4757a299091dd512a392": {
          "model_module": "@jupyter-widgets/controls",
          "model_name": "DescriptionStyleModel",
          "model_module_version": "1.5.0",
          "state": {
            "_model_module": "@jupyter-widgets/controls",
            "_model_module_version": "1.5.0",
            "_model_name": "DescriptionStyleModel",
            "_view_count": null,
            "_view_module": "@jupyter-widgets/base",
            "_view_module_version": "1.2.0",
            "_view_name": "StyleView",
            "description_width": ""
          }
        },
        "92aeec6afe7841b79ae54b7e8fc9b7c4": {
          "model_module": "@jupyter-widgets/controls",
          "model_name": "HBoxModel",
          "model_module_version": "1.5.0",
          "state": {
            "_dom_classes": [],
            "_model_module": "@jupyter-widgets/controls",
            "_model_module_version": "1.5.0",
            "_model_name": "HBoxModel",
            "_view_count": null,
            "_view_module": "@jupyter-widgets/controls",
            "_view_module_version": "1.5.0",
            "_view_name": "HBoxView",
            "box_style": "",
            "children": [
              "IPY_MODEL_ff547f5be9b4446e81459b5dbf6e3c7c",
              "IPY_MODEL_f8b05386502043bc923771151717e611",
              "IPY_MODEL_713c59735bf142429e1c1916451914f6"
            ],
            "layout": "IPY_MODEL_3965dc2b528747239bb65de943de5575"
          }
        },
        "ff547f5be9b4446e81459b5dbf6e3c7c": {
          "model_module": "@jupyter-widgets/controls",
          "model_name": "HTMLModel",
          "model_module_version": "1.5.0",
          "state": {
            "_dom_classes": [],
            "_model_module": "@jupyter-widgets/controls",
            "_model_module_version": "1.5.0",
            "_model_name": "HTMLModel",
            "_view_count": null,
            "_view_module": "@jupyter-widgets/controls",
            "_view_module_version": "1.5.0",
            "_view_name": "HTMLView",
            "description": "",
            "description_tooltip": null,
            "layout": "IPY_MODEL_064dac4f11f84d198d4d0fbcea641445",
            "placeholder": "​",
            "style": "IPY_MODEL_6d854f50133943a4a13f97e59393b2b5",
            "value": "100%"
          }
        },
        "f8b05386502043bc923771151717e611": {
          "model_module": "@jupyter-widgets/controls",
          "model_name": "FloatProgressModel",
          "model_module_version": "1.5.0",
          "state": {
            "_dom_classes": [],
            "_model_module": "@jupyter-widgets/controls",
            "_model_module_version": "1.5.0",
            "_model_name": "FloatProgressModel",
            "_view_count": null,
            "_view_module": "@jupyter-widgets/controls",
            "_view_module_version": "1.5.0",
            "_view_name": "ProgressView",
            "bar_style": "success",
            "description": "",
            "description_tooltip": null,
            "layout": "IPY_MODEL_33b3f597b9624f5297c422b9463e32f9",
            "max": 586,
            "min": 0,
            "orientation": "horizontal",
            "style": "IPY_MODEL_6e98199195294fa998d5a4ec889b179e",
            "value": 586
          }
        },
        "713c59735bf142429e1c1916451914f6": {
          "model_module": "@jupyter-widgets/controls",
          "model_name": "HTMLModel",
          "model_module_version": "1.5.0",
          "state": {
            "_dom_classes": [],
            "_model_module": "@jupyter-widgets/controls",
            "_model_module_version": "1.5.0",
            "_model_name": "HTMLModel",
            "_view_count": null,
            "_view_module": "@jupyter-widgets/controls",
            "_view_module_version": "1.5.0",
            "_view_name": "HTMLView",
            "description": "",
            "description_tooltip": null,
            "layout": "IPY_MODEL_f43be70903af4bba9fec7a52bc41f3ba",
            "placeholder": "​",
            "style": "IPY_MODEL_48edfc97a54d4579b8080ff2d0a8d789",
            "value": " 586/586 [11:52&lt;00:00,  1.19s/it]"
          }
        },
        "3965dc2b528747239bb65de943de5575": {
          "model_module": "@jupyter-widgets/base",
          "model_name": "LayoutModel",
          "model_module_version": "1.2.0",
          "state": {
            "_model_module": "@jupyter-widgets/base",
            "_model_module_version": "1.2.0",
            "_model_name": "LayoutModel",
            "_view_count": null,
            "_view_module": "@jupyter-widgets/base",
            "_view_module_version": "1.2.0",
            "_view_name": "LayoutView",
            "align_content": null,
            "align_items": null,
            "align_self": null,
            "border": null,
            "bottom": null,
            "display": null,
            "flex": null,
            "flex_flow": null,
            "grid_area": null,
            "grid_auto_columns": null,
            "grid_auto_flow": null,
            "grid_auto_rows": null,
            "grid_column": null,
            "grid_gap": null,
            "grid_row": null,
            "grid_template_areas": null,
            "grid_template_columns": null,
            "grid_template_rows": null,
            "height": null,
            "justify_content": null,
            "justify_items": null,
            "left": null,
            "margin": null,
            "max_height": null,
            "max_width": null,
            "min_height": null,
            "min_width": null,
            "object_fit": null,
            "object_position": null,
            "order": null,
            "overflow": null,
            "overflow_x": null,
            "overflow_y": null,
            "padding": null,
            "right": null,
            "top": null,
            "visibility": null,
            "width": null
          }
        },
        "064dac4f11f84d198d4d0fbcea641445": {
          "model_module": "@jupyter-widgets/base",
          "model_name": "LayoutModel",
          "model_module_version": "1.2.0",
          "state": {
            "_model_module": "@jupyter-widgets/base",
            "_model_module_version": "1.2.0",
            "_model_name": "LayoutModel",
            "_view_count": null,
            "_view_module": "@jupyter-widgets/base",
            "_view_module_version": "1.2.0",
            "_view_name": "LayoutView",
            "align_content": null,
            "align_items": null,
            "align_self": null,
            "border": null,
            "bottom": null,
            "display": null,
            "flex": null,
            "flex_flow": null,
            "grid_area": null,
            "grid_auto_columns": null,
            "grid_auto_flow": null,
            "grid_auto_rows": null,
            "grid_column": null,
            "grid_gap": null,
            "grid_row": null,
            "grid_template_areas": null,
            "grid_template_columns": null,
            "grid_template_rows": null,
            "height": null,
            "justify_content": null,
            "justify_items": null,
            "left": null,
            "margin": null,
            "max_height": null,
            "max_width": null,
            "min_height": null,
            "min_width": null,
            "object_fit": null,
            "object_position": null,
            "order": null,
            "overflow": null,
            "overflow_x": null,
            "overflow_y": null,
            "padding": null,
            "right": null,
            "top": null,
            "visibility": null,
            "width": null
          }
        },
        "6d854f50133943a4a13f97e59393b2b5": {
          "model_module": "@jupyter-widgets/controls",
          "model_name": "DescriptionStyleModel",
          "model_module_version": "1.5.0",
          "state": {
            "_model_module": "@jupyter-widgets/controls",
            "_model_module_version": "1.5.0",
            "_model_name": "DescriptionStyleModel",
            "_view_count": null,
            "_view_module": "@jupyter-widgets/base",
            "_view_module_version": "1.2.0",
            "_view_name": "StyleView",
            "description_width": ""
          }
        },
        "33b3f597b9624f5297c422b9463e32f9": {
          "model_module": "@jupyter-widgets/base",
          "model_name": "LayoutModel",
          "model_module_version": "1.2.0",
          "state": {
            "_model_module": "@jupyter-widgets/base",
            "_model_module_version": "1.2.0",
            "_model_name": "LayoutModel",
            "_view_count": null,
            "_view_module": "@jupyter-widgets/base",
            "_view_module_version": "1.2.0",
            "_view_name": "LayoutView",
            "align_content": null,
            "align_items": null,
            "align_self": null,
            "border": null,
            "bottom": null,
            "display": null,
            "flex": null,
            "flex_flow": null,
            "grid_area": null,
            "grid_auto_columns": null,
            "grid_auto_flow": null,
            "grid_auto_rows": null,
            "grid_column": null,
            "grid_gap": null,
            "grid_row": null,
            "grid_template_areas": null,
            "grid_template_columns": null,
            "grid_template_rows": null,
            "height": null,
            "justify_content": null,
            "justify_items": null,
            "left": null,
            "margin": null,
            "max_height": null,
            "max_width": null,
            "min_height": null,
            "min_width": null,
            "object_fit": null,
            "object_position": null,
            "order": null,
            "overflow": null,
            "overflow_x": null,
            "overflow_y": null,
            "padding": null,
            "right": null,
            "top": null,
            "visibility": null,
            "width": null
          }
        },
        "6e98199195294fa998d5a4ec889b179e": {
          "model_module": "@jupyter-widgets/controls",
          "model_name": "ProgressStyleModel",
          "model_module_version": "1.5.0",
          "state": {
            "_model_module": "@jupyter-widgets/controls",
            "_model_module_version": "1.5.0",
            "_model_name": "ProgressStyleModel",
            "_view_count": null,
            "_view_module": "@jupyter-widgets/base",
            "_view_module_version": "1.2.0",
            "_view_name": "StyleView",
            "bar_color": null,
            "description_width": ""
          }
        },
        "f43be70903af4bba9fec7a52bc41f3ba": {
          "model_module": "@jupyter-widgets/base",
          "model_name": "LayoutModel",
          "model_module_version": "1.2.0",
          "state": {
            "_model_module": "@jupyter-widgets/base",
            "_model_module_version": "1.2.0",
            "_model_name": "LayoutModel",
            "_view_count": null,
            "_view_module": "@jupyter-widgets/base",
            "_view_module_version": "1.2.0",
            "_view_name": "LayoutView",
            "align_content": null,
            "align_items": null,
            "align_self": null,
            "border": null,
            "bottom": null,
            "display": null,
            "flex": null,
            "flex_flow": null,
            "grid_area": null,
            "grid_auto_columns": null,
            "grid_auto_flow": null,
            "grid_auto_rows": null,
            "grid_column": null,
            "grid_gap": null,
            "grid_row": null,
            "grid_template_areas": null,
            "grid_template_columns": null,
            "grid_template_rows": null,
            "height": null,
            "justify_content": null,
            "justify_items": null,
            "left": null,
            "margin": null,
            "max_height": null,
            "max_width": null,
            "min_height": null,
            "min_width": null,
            "object_fit": null,
            "object_position": null,
            "order": null,
            "overflow": null,
            "overflow_x": null,
            "overflow_y": null,
            "padding": null,
            "right": null,
            "top": null,
            "visibility": null,
            "width": null
          }
        },
        "48edfc97a54d4579b8080ff2d0a8d789": {
          "model_module": "@jupyter-widgets/controls",
          "model_name": "DescriptionStyleModel",
          "model_module_version": "1.5.0",
          "state": {
            "_model_module": "@jupyter-widgets/controls",
            "_model_module_version": "1.5.0",
            "_model_name": "DescriptionStyleModel",
            "_view_count": null,
            "_view_module": "@jupyter-widgets/base",
            "_view_module_version": "1.2.0",
            "_view_name": "StyleView",
            "description_width": ""
          }
        },
        "174324ee854b4ec49b2183bf09f6d013": {
          "model_module": "@jupyter-widgets/controls",
          "model_name": "HBoxModel",
          "model_module_version": "1.5.0",
          "state": {
            "_dom_classes": [],
            "_model_module": "@jupyter-widgets/controls",
            "_model_module_version": "1.5.0",
            "_model_name": "HBoxModel",
            "_view_count": null,
            "_view_module": "@jupyter-widgets/controls",
            "_view_module_version": "1.5.0",
            "_view_name": "HBoxView",
            "box_style": "",
            "children": [
              "IPY_MODEL_ad7875ee73df408e93944314bc8cc090",
              "IPY_MODEL_e3deff3cf35f460391f70c6b3df22a25",
              "IPY_MODEL_9f28b9f0df4c44fca86e2bf90189ee3b"
            ],
            "layout": "IPY_MODEL_1788fd0a705d44deb37539cf97341cc3"
          }
        },
        "ad7875ee73df408e93944314bc8cc090": {
          "model_module": "@jupyter-widgets/controls",
          "model_name": "HTMLModel",
          "model_module_version": "1.5.0",
          "state": {
            "_dom_classes": [],
            "_model_module": "@jupyter-widgets/controls",
            "_model_module_version": "1.5.0",
            "_model_name": "HTMLModel",
            "_view_count": null,
            "_view_module": "@jupyter-widgets/controls",
            "_view_module_version": "1.5.0",
            "_view_name": "HTMLView",
            "description": "",
            "description_tooltip": null,
            "layout": "IPY_MODEL_815c320eef164e4083bc53032af119a0",
            "placeholder": "​",
            "style": "IPY_MODEL_3b8a336ef41742e496d0627c68789def",
            "value": "100%"
          }
        },
        "e3deff3cf35f460391f70c6b3df22a25": {
          "model_module": "@jupyter-widgets/controls",
          "model_name": "FloatProgressModel",
          "model_module_version": "1.5.0",
          "state": {
            "_dom_classes": [],
            "_model_module": "@jupyter-widgets/controls",
            "_model_module_version": "1.5.0",
            "_model_name": "FloatProgressModel",
            "_view_count": null,
            "_view_module": "@jupyter-widgets/controls",
            "_view_module_version": "1.5.0",
            "_view_name": "ProgressView",
            "bar_style": "success",
            "description": "",
            "description_tooltip": null,
            "layout": "IPY_MODEL_34097aa363494f80ac58afb20834fcaa",
            "max": 196,
            "min": 0,
            "orientation": "horizontal",
            "style": "IPY_MODEL_3f18e803d7c641f9917495245c20433f",
            "value": 196
          }
        },
        "9f28b9f0df4c44fca86e2bf90189ee3b": {
          "model_module": "@jupyter-widgets/controls",
          "model_name": "HTMLModel",
          "model_module_version": "1.5.0",
          "state": {
            "_dom_classes": [],
            "_model_module": "@jupyter-widgets/controls",
            "_model_module_version": "1.5.0",
            "_model_name": "HTMLModel",
            "_view_count": null,
            "_view_module": "@jupyter-widgets/controls",
            "_view_module_version": "1.5.0",
            "_view_name": "HTMLView",
            "description": "",
            "description_tooltip": null,
            "layout": "IPY_MODEL_738e0e6d28294ebeab62f385291721f8",
            "placeholder": "​",
            "style": "IPY_MODEL_80fa11d8c66745b8b229ae2348d95b88",
            "value": " 196/196 [01:24&lt;00:00,  2.93it/s]"
          }
        },
        "1788fd0a705d44deb37539cf97341cc3": {
          "model_module": "@jupyter-widgets/base",
          "model_name": "LayoutModel",
          "model_module_version": "1.2.0",
          "state": {
            "_model_module": "@jupyter-widgets/base",
            "_model_module_version": "1.2.0",
            "_model_name": "LayoutModel",
            "_view_count": null,
            "_view_module": "@jupyter-widgets/base",
            "_view_module_version": "1.2.0",
            "_view_name": "LayoutView",
            "align_content": null,
            "align_items": null,
            "align_self": null,
            "border": null,
            "bottom": null,
            "display": null,
            "flex": null,
            "flex_flow": null,
            "grid_area": null,
            "grid_auto_columns": null,
            "grid_auto_flow": null,
            "grid_auto_rows": null,
            "grid_column": null,
            "grid_gap": null,
            "grid_row": null,
            "grid_template_areas": null,
            "grid_template_columns": null,
            "grid_template_rows": null,
            "height": null,
            "justify_content": null,
            "justify_items": null,
            "left": null,
            "margin": null,
            "max_height": null,
            "max_width": null,
            "min_height": null,
            "min_width": null,
            "object_fit": null,
            "object_position": null,
            "order": null,
            "overflow": null,
            "overflow_x": null,
            "overflow_y": null,
            "padding": null,
            "right": null,
            "top": null,
            "visibility": null,
            "width": null
          }
        },
        "815c320eef164e4083bc53032af119a0": {
          "model_module": "@jupyter-widgets/base",
          "model_name": "LayoutModel",
          "model_module_version": "1.2.0",
          "state": {
            "_model_module": "@jupyter-widgets/base",
            "_model_module_version": "1.2.0",
            "_model_name": "LayoutModel",
            "_view_count": null,
            "_view_module": "@jupyter-widgets/base",
            "_view_module_version": "1.2.0",
            "_view_name": "LayoutView",
            "align_content": null,
            "align_items": null,
            "align_self": null,
            "border": null,
            "bottom": null,
            "display": null,
            "flex": null,
            "flex_flow": null,
            "grid_area": null,
            "grid_auto_columns": null,
            "grid_auto_flow": null,
            "grid_auto_rows": null,
            "grid_column": null,
            "grid_gap": null,
            "grid_row": null,
            "grid_template_areas": null,
            "grid_template_columns": null,
            "grid_template_rows": null,
            "height": null,
            "justify_content": null,
            "justify_items": null,
            "left": null,
            "margin": null,
            "max_height": null,
            "max_width": null,
            "min_height": null,
            "min_width": null,
            "object_fit": null,
            "object_position": null,
            "order": null,
            "overflow": null,
            "overflow_x": null,
            "overflow_y": null,
            "padding": null,
            "right": null,
            "top": null,
            "visibility": null,
            "width": null
          }
        },
        "3b8a336ef41742e496d0627c68789def": {
          "model_module": "@jupyter-widgets/controls",
          "model_name": "DescriptionStyleModel",
          "model_module_version": "1.5.0",
          "state": {
            "_model_module": "@jupyter-widgets/controls",
            "_model_module_version": "1.5.0",
            "_model_name": "DescriptionStyleModel",
            "_view_count": null,
            "_view_module": "@jupyter-widgets/base",
            "_view_module_version": "1.2.0",
            "_view_name": "StyleView",
            "description_width": ""
          }
        },
        "34097aa363494f80ac58afb20834fcaa": {
          "model_module": "@jupyter-widgets/base",
          "model_name": "LayoutModel",
          "model_module_version": "1.2.0",
          "state": {
            "_model_module": "@jupyter-widgets/base",
            "_model_module_version": "1.2.0",
            "_model_name": "LayoutModel",
            "_view_count": null,
            "_view_module": "@jupyter-widgets/base",
            "_view_module_version": "1.2.0",
            "_view_name": "LayoutView",
            "align_content": null,
            "align_items": null,
            "align_self": null,
            "border": null,
            "bottom": null,
            "display": null,
            "flex": null,
            "flex_flow": null,
            "grid_area": null,
            "grid_auto_columns": null,
            "grid_auto_flow": null,
            "grid_auto_rows": null,
            "grid_column": null,
            "grid_gap": null,
            "grid_row": null,
            "grid_template_areas": null,
            "grid_template_columns": null,
            "grid_template_rows": null,
            "height": null,
            "justify_content": null,
            "justify_items": null,
            "left": null,
            "margin": null,
            "max_height": null,
            "max_width": null,
            "min_height": null,
            "min_width": null,
            "object_fit": null,
            "object_position": null,
            "order": null,
            "overflow": null,
            "overflow_x": null,
            "overflow_y": null,
            "padding": null,
            "right": null,
            "top": null,
            "visibility": null,
            "width": null
          }
        },
        "3f18e803d7c641f9917495245c20433f": {
          "model_module": "@jupyter-widgets/controls",
          "model_name": "ProgressStyleModel",
          "model_module_version": "1.5.0",
          "state": {
            "_model_module": "@jupyter-widgets/controls",
            "_model_module_version": "1.5.0",
            "_model_name": "ProgressStyleModel",
            "_view_count": null,
            "_view_module": "@jupyter-widgets/base",
            "_view_module_version": "1.2.0",
            "_view_name": "StyleView",
            "bar_color": null,
            "description_width": ""
          }
        },
        "738e0e6d28294ebeab62f385291721f8": {
          "model_module": "@jupyter-widgets/base",
          "model_name": "LayoutModel",
          "model_module_version": "1.2.0",
          "state": {
            "_model_module": "@jupyter-widgets/base",
            "_model_module_version": "1.2.0",
            "_model_name": "LayoutModel",
            "_view_count": null,
            "_view_module": "@jupyter-widgets/base",
            "_view_module_version": "1.2.0",
            "_view_name": "LayoutView",
            "align_content": null,
            "align_items": null,
            "align_self": null,
            "border": null,
            "bottom": null,
            "display": null,
            "flex": null,
            "flex_flow": null,
            "grid_area": null,
            "grid_auto_columns": null,
            "grid_auto_flow": null,
            "grid_auto_rows": null,
            "grid_column": null,
            "grid_gap": null,
            "grid_row": null,
            "grid_template_areas": null,
            "grid_template_columns": null,
            "grid_template_rows": null,
            "height": null,
            "justify_content": null,
            "justify_items": null,
            "left": null,
            "margin": null,
            "max_height": null,
            "max_width": null,
            "min_height": null,
            "min_width": null,
            "object_fit": null,
            "object_position": null,
            "order": null,
            "overflow": null,
            "overflow_x": null,
            "overflow_y": null,
            "padding": null,
            "right": null,
            "top": null,
            "visibility": null,
            "width": null
          }
        },
        "80fa11d8c66745b8b229ae2348d95b88": {
          "model_module": "@jupyter-widgets/controls",
          "model_name": "DescriptionStyleModel",
          "model_module_version": "1.5.0",
          "state": {
            "_model_module": "@jupyter-widgets/controls",
            "_model_module_version": "1.5.0",
            "_model_name": "DescriptionStyleModel",
            "_view_count": null,
            "_view_module": "@jupyter-widgets/base",
            "_view_module_version": "1.2.0",
            "_view_name": "StyleView",
            "description_width": ""
          }
        }
      }
    }
  },
  "nbformat": 4,
  "nbformat_minor": 0
}