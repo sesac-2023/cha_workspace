{
  "cells": [
    {
      "cell_type": "markdown",
      "metadata": {
        "id": "ecOHtGBs7lDO"
      },
      "source": [
        "# 문서 분류 (Document Classification)"
      ]
    },
    {
      "cell_type": "markdown",
      "metadata": {
        "id": "MSHRKud41Tr0"
      },
      "source": [
        "# 1 나이브 베이즈 분류(Naive Bayes Classifier)"
      ]
    },
    {
      "cell_type": "markdown",
      "metadata": {
        "id": "32FEohTU9qob"
      },
      "source": [
        "## 1.1 직접구현"
      ]
    },
    {
      "cell_type": "markdown",
      "metadata": {
        "id": "DwzbT2LkrCwH"
      },
      "source": [
        "### Naive Bayes Classifier"
      ]
    },
    {
      "cell_type": "code",
      "execution_count": 1,
      "metadata": {
        "id": "yvX-1FJ7qXOu"
      },
      "outputs": [],
      "source": [
        "# 1: 스팸, 0: 정상\n",
        "training_set = [\n",
        "    ['me free lottery', 1],\n",
        "    ['free get free you', 1],\n",
        "    ['you free scholarship', 0],\n",
        "    ['free to contact me', 0],\n",
        "    ['you won award', 0],\n",
        "    ['you ticket lottery', 1]\n",
        "]"
      ]
    },
    {
      "cell_type": "markdown",
      "metadata": {
        "id": "c8irQ-xFsq39"
      },
      "source": [
        "### 토큰 빈도수 및 문서별 토큰수 계산 (확률 계산을 위한 준비)"
      ]
    },
    {
      "cell_type": "markdown",
      "metadata": {
        "id": "6MLSe8V1sYsv"
      },
      "source": [
        "![대체 텍스트](https://wikimedia.org/api/rest_v1/media/math/render/svg/98f086c560aa2f66650060277dda4f90e54e30c0)"
      ]
    },
    {
      "cell_type": "code",
      "execution_count": null,
      "metadata": {
        "id": "r4KjiGtqsbm_"
      },
      "outputs": [],
      "source": [
        "[\n",
        "    # 스팸, #정상\n",
        "    [0,     0 ], # 토큰 1\n",
        "\n",
        "]"
      ]
    },
    {
      "cell_type": "code",
      "execution_count": 2,
      "metadata": {
        "colab": {
          "base_uri": "https://localhost:8080/"
        },
        "id": "umiXcndIVw5H",
        "outputId": "f504bb1d-2c9c-4cb6-b18a-95723c8683d3"
      },
      "outputs": [
        {
          "data": {
            "text/plain": [
              "[['me free lottery', 1],\n",
              " ['free get free you', 1],\n",
              " ['you free scholarship', 0],\n",
              " ['free to contact me', 0],\n",
              " ['you won award', 0],\n",
              " ['you ticket lottery', 1]]"
            ]
          },
          "execution_count": 2,
          "metadata": {},
          "output_type": "execute_result"
        }
      ],
      "source": [
        "training_set"
      ]
    },
    {
      "cell_type": "code",
      "execution_count": 3,
      "metadata": {
        "colab": {
          "base_uri": "https://localhost:8080/"
        },
        "id": "dG8C_2aYVrip",
        "outputId": "3c312a94-b37a-4371-d04e-db214fe578cb"
      },
      "outputs": [
        {
          "name": "stdout",
          "output_type": "stream",
          "text": [
            "{0: ['you', 'free', 'scholarship', 'free', 'to', 'contact', 'me', 'you', 'won', 'award'], 1: ['me', 'free', 'lottery', 'free', 'get', 'free', 'you', 'you', 'ticket', 'lottery']}\n",
            "{'me', 'you', 'get', 'to', 'contact', 'lottery', 'scholarship', 'free', 'won', 'ticket', 'award'}\n"
          ]
        }
      ],
      "source": [
        "# 사전확률 계산을 위한 준비\n",
        "# 1. token2idx\n",
        "# 2. 각 라벨별 토큰들\n",
        "unique_tokens = []\n",
        "\n",
        "token_dict = {\n",
        "    0: [], # 정상, 토큰들\n",
        "    1: []  # 스팸, 토큰들\n",
        "}\n",
        "\n",
        "for sent, label in training_set:\n",
        "    tokens = sent.split()\n",
        "    unique_tokens.extend(tokens)\n",
        "    token_dict[label].extend(tokens)\n",
        "\n",
        "print(token_dict, set(unique_tokens), sep='\\n')\n",
        "token2idx = {token:i for i, token in enumerate(set(unique_tokens))}"
      ]
    },
    {
      "cell_type": "code",
      "execution_count": 4,
      "metadata": {},
      "outputs": [
        {
          "data": {
            "text/plain": [
              "(['me',\n",
              "  'free',\n",
              "  'lottery',\n",
              "  'free',\n",
              "  'get',\n",
              "  'free',\n",
              "  'you',\n",
              "  'you',\n",
              "  'free',\n",
              "  'scholarship',\n",
              "  'free',\n",
              "  'to',\n",
              "  'contact',\n",
              "  'me',\n",
              "  'you',\n",
              "  'won',\n",
              "  'award',\n",
              "  'you',\n",
              "  'ticket',\n",
              "  'lottery'],\n",
              " 20)"
            ]
          },
          "execution_count": 4,
          "metadata": {},
          "output_type": "execute_result"
        }
      ],
      "source": [
        "unique_tokens, len(unique_tokens)"
      ]
    },
    {
      "cell_type": "code",
      "execution_count": 5,
      "metadata": {},
      "outputs": [
        {
          "data": {
            "text/plain": [
              "({'award',\n",
              "  'contact',\n",
              "  'free',\n",
              "  'get',\n",
              "  'lottery',\n",
              "  'me',\n",
              "  'scholarship',\n",
              "  'ticket',\n",
              "  'to',\n",
              "  'won',\n",
              "  'you'},\n",
              " 11)"
            ]
          },
          "execution_count": 5,
          "metadata": {},
          "output_type": "execute_result"
        }
      ],
      "source": [
        "set(unique_tokens), len(set(unique_tokens))"
      ]
    },
    {
      "cell_type": "markdown",
      "metadata": {
        "id": "uKs_HaKwskLP"
      },
      "source": [
        "### Training : 토큰별 조건부 확률 계산"
      ]
    },
    {
      "cell_type": "code",
      "execution_count": 6,
      "metadata": {},
      "outputs": [
        {
          "data": {
            "text/plain": [
              "{'me': 0,\n",
              " 'you': 1,\n",
              " 'get': 2,\n",
              " 'to': 3,\n",
              " 'contact': 4,\n",
              " 'lottery': 5,\n",
              " 'scholarship': 6,\n",
              " 'free': 7,\n",
              " 'won': 8,\n",
              " 'ticket': 9,\n",
              " 'award': 10}"
            ]
          },
          "execution_count": 6,
          "metadata": {},
          "output_type": "execute_result"
        }
      ],
      "source": [
        "token2idx"
      ]
    },
    {
      "cell_type": "code",
      "execution_count": 79,
      "metadata": {},
      "outputs": [
        {
          "data": {
            "text/plain": [
              "{0: ['you',\n",
              "  'free',\n",
              "  'scholarship',\n",
              "  'free',\n",
              "  'to',\n",
              "  'contact',\n",
              "  'me',\n",
              "  'you',\n",
              "  'won',\n",
              "  'award'],\n",
              " 1: ['me',\n",
              "  'free',\n",
              "  'lottery',\n",
              "  'free',\n",
              "  'get',\n",
              "  'free',\n",
              "  'you',\n",
              "  'you',\n",
              "  'ticket',\n",
              "  'lottery']}"
            ]
          },
          "execution_count": 79,
          "metadata": {},
          "output_type": "execute_result"
        }
      ],
      "source": [
        "token_dict"
      ]
    },
    {
      "cell_type": "code",
      "execution_count": 8,
      "metadata": {
        "colab": {
          "base_uri": "https://localhost:8080/"
        },
        "id": "73zyaNgLZ5Ci",
        "outputId": "3c46539d-48d2-485b-bc0e-34f56e46479c"
      },
      "outputs": [
        {
          "data": {
            "text/plain": [
              "[(1, 1),\n",
              " (2, 2),\n",
              " (0, 1),\n",
              " (1, 0),\n",
              " (1, 0),\n",
              " (0, 2),\n",
              " (1, 0),\n",
              " (2, 3),\n",
              " (1, 0),\n",
              " (0, 1),\n",
              " (1, 0)]"
            ]
          },
          "execution_count": 8,
          "metadata": {},
          "output_type": "execute_result"
        }
      ],
      "source": [
        "# 토큰별 스팸, 정상 카운팅\n",
        "prior_list = []\n",
        "\n",
        "for token in token2idx:\n",
        "    token_0 = token_dict[0].count(token) # 정상 토큰들 (list)\n",
        "    token_1 = token_dict[1].count(token) # 스팸 토큰들 (list)\n",
        "\n",
        "    prior_list.append( (token_0, token_1) )\n",
        "\n",
        "prior_list"
      ]
    },
    {
      "cell_type": "code",
      "execution_count": 9,
      "metadata": {
        "id": "dgCsmiCNsjjF"
      },
      "outputs": [],
      "source": [
        "import pandas as pd"
      ]
    },
    {
      "cell_type": "code",
      "execution_count": 10,
      "metadata": {
        "id": "sw2LIIeka4pf"
      },
      "outputs": [
        {
          "data": {
            "text/html": [
              "<div>\n",
              "<style scoped>\n",
              "    .dataframe tbody tr th:only-of-type {\n",
              "        vertical-align: middle;\n",
              "    }\n",
              "\n",
              "    .dataframe tbody tr th {\n",
              "        vertical-align: top;\n",
              "    }\n",
              "\n",
              "    .dataframe thead th {\n",
              "        text-align: right;\n",
              "    }\n",
              "</style>\n",
              "<table border=\"1\" class=\"dataframe\">\n",
              "  <thead>\n",
              "    <tr style=\"text-align: right;\">\n",
              "      <th></th>\n",
              "      <th>0</th>\n",
              "      <th>1</th>\n",
              "    </tr>\n",
              "  </thead>\n",
              "  <tbody>\n",
              "    <tr>\n",
              "      <th>me</th>\n",
              "      <td>1</td>\n",
              "      <td>1</td>\n",
              "    </tr>\n",
              "    <tr>\n",
              "      <th>you</th>\n",
              "      <td>2</td>\n",
              "      <td>2</td>\n",
              "    </tr>\n",
              "    <tr>\n",
              "      <th>get</th>\n",
              "      <td>0</td>\n",
              "      <td>1</td>\n",
              "    </tr>\n",
              "    <tr>\n",
              "      <th>to</th>\n",
              "      <td>1</td>\n",
              "      <td>0</td>\n",
              "    </tr>\n",
              "    <tr>\n",
              "      <th>contact</th>\n",
              "      <td>1</td>\n",
              "      <td>0</td>\n",
              "    </tr>\n",
              "    <tr>\n",
              "      <th>lottery</th>\n",
              "      <td>0</td>\n",
              "      <td>2</td>\n",
              "    </tr>\n",
              "    <tr>\n",
              "      <th>scholarship</th>\n",
              "      <td>1</td>\n",
              "      <td>0</td>\n",
              "    </tr>\n",
              "    <tr>\n",
              "      <th>free</th>\n",
              "      <td>2</td>\n",
              "      <td>3</td>\n",
              "    </tr>\n",
              "    <tr>\n",
              "      <th>won</th>\n",
              "      <td>1</td>\n",
              "      <td>0</td>\n",
              "    </tr>\n",
              "    <tr>\n",
              "      <th>ticket</th>\n",
              "      <td>0</td>\n",
              "      <td>1</td>\n",
              "    </tr>\n",
              "    <tr>\n",
              "      <th>award</th>\n",
              "      <td>1</td>\n",
              "      <td>0</td>\n",
              "    </tr>\n",
              "  </tbody>\n",
              "</table>\n",
              "</div>"
            ],
            "text/plain": [
              "             0  1\n",
              "me           1  1\n",
              "you          2  2\n",
              "get          0  1\n",
              "to           1  0\n",
              "contact      1  0\n",
              "lottery      0  2\n",
              "scholarship  1  0\n",
              "free         2  3\n",
              "won          1  0\n",
              "ticket       0  1\n",
              "award        1  0"
            ]
          },
          "execution_count": 10,
          "metadata": {},
          "output_type": "execute_result"
        }
      ],
      "source": [
        "nb_df = pd.DataFrame(prior_list, index=token2idx)\n",
        "nb_df"
      ]
    },
    {
      "cell_type": "code",
      "execution_count": 11,
      "metadata": {
        "id": "bJztxX-IbKUP"
      },
      "outputs": [
        {
          "data": {
            "text/plain": [
              "RangeIndex(start=0, stop=2, step=1)"
            ]
          },
          "execution_count": 11,
          "metadata": {},
          "output_type": "execute_result"
        }
      ],
      "source": [
        "label_cols = nb_df.columns\n",
        "label_cols"
      ]
    },
    {
      "cell_type": "code",
      "execution_count": 12,
      "metadata": {},
      "outputs": [
        {
          "data": {
            "text/html": [
              "<div>\n",
              "<style scoped>\n",
              "    .dataframe tbody tr th:only-of-type {\n",
              "        vertical-align: middle;\n",
              "    }\n",
              "\n",
              "    .dataframe tbody tr th {\n",
              "        vertical-align: top;\n",
              "    }\n",
              "\n",
              "    .dataframe thead th {\n",
              "        text-align: right;\n",
              "    }\n",
              "</style>\n",
              "<table border=\"1\" class=\"dataframe\">\n",
              "  <thead>\n",
              "    <tr style=\"text-align: right;\">\n",
              "      <th></th>\n",
              "      <th>0</th>\n",
              "      <th>1</th>\n",
              "      <th>p_0</th>\n",
              "      <th>p_1</th>\n",
              "    </tr>\n",
              "  </thead>\n",
              "  <tbody>\n",
              "    <tr>\n",
              "      <th>me</th>\n",
              "      <td>1</td>\n",
              "      <td>1</td>\n",
              "      <td>0.136364</td>\n",
              "      <td>0.136364</td>\n",
              "    </tr>\n",
              "    <tr>\n",
              "      <th>you</th>\n",
              "      <td>2</td>\n",
              "      <td>2</td>\n",
              "      <td>0.227273</td>\n",
              "      <td>0.227273</td>\n",
              "    </tr>\n",
              "    <tr>\n",
              "      <th>get</th>\n",
              "      <td>0</td>\n",
              "      <td>1</td>\n",
              "      <td>0.045455</td>\n",
              "      <td>0.136364</td>\n",
              "    </tr>\n",
              "    <tr>\n",
              "      <th>to</th>\n",
              "      <td>1</td>\n",
              "      <td>0</td>\n",
              "      <td>0.136364</td>\n",
              "      <td>0.045455</td>\n",
              "    </tr>\n",
              "    <tr>\n",
              "      <th>contact</th>\n",
              "      <td>1</td>\n",
              "      <td>0</td>\n",
              "      <td>0.136364</td>\n",
              "      <td>0.045455</td>\n",
              "    </tr>\n",
              "    <tr>\n",
              "      <th>lottery</th>\n",
              "      <td>0</td>\n",
              "      <td>2</td>\n",
              "      <td>0.045455</td>\n",
              "      <td>0.227273</td>\n",
              "    </tr>\n",
              "    <tr>\n",
              "      <th>scholarship</th>\n",
              "      <td>1</td>\n",
              "      <td>0</td>\n",
              "      <td>0.136364</td>\n",
              "      <td>0.045455</td>\n",
              "    </tr>\n",
              "    <tr>\n",
              "      <th>free</th>\n",
              "      <td>2</td>\n",
              "      <td>3</td>\n",
              "      <td>0.227273</td>\n",
              "      <td>0.318182</td>\n",
              "    </tr>\n",
              "    <tr>\n",
              "      <th>won</th>\n",
              "      <td>1</td>\n",
              "      <td>0</td>\n",
              "      <td>0.136364</td>\n",
              "      <td>0.045455</td>\n",
              "    </tr>\n",
              "    <tr>\n",
              "      <th>ticket</th>\n",
              "      <td>0</td>\n",
              "      <td>1</td>\n",
              "      <td>0.045455</td>\n",
              "      <td>0.136364</td>\n",
              "    </tr>\n",
              "    <tr>\n",
              "      <th>award</th>\n",
              "      <td>1</td>\n",
              "      <td>0</td>\n",
              "      <td>0.136364</td>\n",
              "      <td>0.045455</td>\n",
              "    </tr>\n",
              "  </tbody>\n",
              "</table>\n",
              "</div>"
            ],
            "text/plain": [
              "             0  1       p_0       p_1\n",
              "me           1  1  0.136364  0.136364\n",
              "you          2  2  0.227273  0.227273\n",
              "get          0  1  0.045455  0.136364\n",
              "to           1  0  0.136364  0.045455\n",
              "contact      1  0  0.136364  0.045455\n",
              "lottery      0  2  0.045455  0.227273\n",
              "scholarship  1  0  0.136364  0.045455\n",
              "free         2  3  0.227273  0.318182\n",
              "won          1  0  0.136364  0.045455\n",
              "ticket       0  1  0.045455  0.136364\n",
              "award        1  0  0.136364  0.045455"
            ]
          },
          "execution_count": 12,
          "metadata": {},
          "output_type": "execute_result"
        }
      ],
      "source": [
        "# laplace smoothing 적용 조건부 확률 계산\n",
        "k = 0.5\n",
        "\n",
        "for label in label_cols:\n",
        "    nb_df[f'p_{label}'] = (nb_df[label] + k) / (nb_df[label].sum() + 2 * k)\n",
        "nb_df"
      ]
    },
    {
      "cell_type": "code",
      "execution_count": 13,
      "metadata": {
        "colab": {
          "base_uri": "https://localhost:8080/",
          "height": 394
        },
        "id": "6ICWL_FccK74",
        "outputId": "ff02228b-e56f-4297-a589-a2f08a23c187"
      },
      "outputs": [
        {
          "data": {
            "text/html": [
              "<div>\n",
              "<style scoped>\n",
              "    .dataframe tbody tr th:only-of-type {\n",
              "        vertical-align: middle;\n",
              "    }\n",
              "\n",
              "    .dataframe tbody tr th {\n",
              "        vertical-align: top;\n",
              "    }\n",
              "\n",
              "    .dataframe thead th {\n",
              "        text-align: right;\n",
              "    }\n",
              "</style>\n",
              "<table border=\"1\" class=\"dataframe\">\n",
              "  <thead>\n",
              "    <tr style=\"text-align: right;\">\n",
              "      <th></th>\n",
              "      <th>0</th>\n",
              "      <th>1</th>\n",
              "      <th>p_0</th>\n",
              "      <th>p_1</th>\n",
              "      <th>log_p_0</th>\n",
              "      <th>log_p_1</th>\n",
              "    </tr>\n",
              "  </thead>\n",
              "  <tbody>\n",
              "    <tr>\n",
              "      <th>me</th>\n",
              "      <td>1</td>\n",
              "      <td>1</td>\n",
              "      <td>0.136364</td>\n",
              "      <td>0.136364</td>\n",
              "      <td>-1.992430</td>\n",
              "      <td>-1.992430</td>\n",
              "    </tr>\n",
              "    <tr>\n",
              "      <th>you</th>\n",
              "      <td>2</td>\n",
              "      <td>2</td>\n",
              "      <td>0.227273</td>\n",
              "      <td>0.227273</td>\n",
              "      <td>-1.481605</td>\n",
              "      <td>-1.481605</td>\n",
              "    </tr>\n",
              "    <tr>\n",
              "      <th>get</th>\n",
              "      <td>0</td>\n",
              "      <td>1</td>\n",
              "      <td>0.045455</td>\n",
              "      <td>0.136364</td>\n",
              "      <td>-3.091042</td>\n",
              "      <td>-1.992430</td>\n",
              "    </tr>\n",
              "    <tr>\n",
              "      <th>to</th>\n",
              "      <td>1</td>\n",
              "      <td>0</td>\n",
              "      <td>0.136364</td>\n",
              "      <td>0.045455</td>\n",
              "      <td>-1.992430</td>\n",
              "      <td>-3.091042</td>\n",
              "    </tr>\n",
              "    <tr>\n",
              "      <th>contact</th>\n",
              "      <td>1</td>\n",
              "      <td>0</td>\n",
              "      <td>0.136364</td>\n",
              "      <td>0.045455</td>\n",
              "      <td>-1.992430</td>\n",
              "      <td>-3.091042</td>\n",
              "    </tr>\n",
              "    <tr>\n",
              "      <th>lottery</th>\n",
              "      <td>0</td>\n",
              "      <td>2</td>\n",
              "      <td>0.045455</td>\n",
              "      <td>0.227273</td>\n",
              "      <td>-3.091042</td>\n",
              "      <td>-1.481605</td>\n",
              "    </tr>\n",
              "    <tr>\n",
              "      <th>scholarship</th>\n",
              "      <td>1</td>\n",
              "      <td>0</td>\n",
              "      <td>0.136364</td>\n",
              "      <td>0.045455</td>\n",
              "      <td>-1.992430</td>\n",
              "      <td>-3.091042</td>\n",
              "    </tr>\n",
              "    <tr>\n",
              "      <th>free</th>\n",
              "      <td>2</td>\n",
              "      <td>3</td>\n",
              "      <td>0.227273</td>\n",
              "      <td>0.318182</td>\n",
              "      <td>-1.481605</td>\n",
              "      <td>-1.145132</td>\n",
              "    </tr>\n",
              "    <tr>\n",
              "      <th>won</th>\n",
              "      <td>1</td>\n",
              "      <td>0</td>\n",
              "      <td>0.136364</td>\n",
              "      <td>0.045455</td>\n",
              "      <td>-1.992430</td>\n",
              "      <td>-3.091042</td>\n",
              "    </tr>\n",
              "    <tr>\n",
              "      <th>ticket</th>\n",
              "      <td>0</td>\n",
              "      <td>1</td>\n",
              "      <td>0.045455</td>\n",
              "      <td>0.136364</td>\n",
              "      <td>-3.091042</td>\n",
              "      <td>-1.992430</td>\n",
              "    </tr>\n",
              "    <tr>\n",
              "      <th>award</th>\n",
              "      <td>1</td>\n",
              "      <td>0</td>\n",
              "      <td>0.136364</td>\n",
              "      <td>0.045455</td>\n",
              "      <td>-1.992430</td>\n",
              "      <td>-3.091042</td>\n",
              "    </tr>\n",
              "  </tbody>\n",
              "</table>\n",
              "</div>"
            ],
            "text/plain": [
              "             0  1       p_0       p_1   log_p_0   log_p_1\n",
              "me           1  1  0.136364  0.136364 -1.992430 -1.992430\n",
              "you          2  2  0.227273  0.227273 -1.481605 -1.481605\n",
              "get          0  1  0.045455  0.136364 -3.091042 -1.992430\n",
              "to           1  0  0.136364  0.045455 -1.992430 -3.091042\n",
              "contact      1  0  0.136364  0.045455 -1.992430 -3.091042\n",
              "lottery      0  2  0.045455  0.227273 -3.091042 -1.481605\n",
              "scholarship  1  0  0.136364  0.045455 -1.992430 -3.091042\n",
              "free         2  3  0.227273  0.318182 -1.481605 -1.145132\n",
              "won          1  0  0.136364  0.045455 -1.992430 -3.091042\n",
              "ticket       0  1  0.045455  0.136364 -3.091042 -1.992430\n",
              "award        1  0  0.136364  0.045455 -1.992430 -3.091042"
            ]
          },
          "execution_count": 13,
          "metadata": {},
          "output_type": "execute_result"
        }
      ],
      "source": [
        "import numpy as np\n",
        "# 로그 씌우기\n",
        "for label in label_cols:\n",
        "    nb_df[f'log_p_{label}'] = np.log(nb_df[f'p_{label}'])\n",
        "\n",
        "nb_df"
      ]
    },
    {
      "cell_type": "markdown",
      "metadata": {
        "id": "_Viq9UFbs3Y2"
      },
      "source": [
        "### Classify : 신규 텍스트가 주어졌을 때 확률 계산"
      ]
    },
    {
      "cell_type": "code",
      "execution_count": 14,
      "metadata": {},
      "outputs": [
        {
          "data": {
            "text/plain": [
              "10"
            ]
          },
          "execution_count": 14,
          "metadata": {},
          "output_type": "execute_result"
        }
      ],
      "source": [
        "nb_df[label].sum()"
      ]
    },
    {
      "cell_type": "code",
      "execution_count": 15,
      "metadata": {
        "colab": {
          "base_uri": "https://localhost:8080/"
        },
        "id": "vyWw852Xd9Ww",
        "outputId": "573ec788-c5c3-4c19-84f5-789eb404b71c"
      },
      "outputs": [
        {
          "data": {
            "text/plain": [
              "0.5"
            ]
          },
          "execution_count": 15,
          "metadata": {},
          "output_type": "execute_result"
        }
      ],
      "source": [
        "nb_df[label].sum() / nb_df[label_cols].sum().sum()"
      ]
    },
    {
      "cell_type": "code",
      "execution_count": 16,
      "metadata": {
        "colab": {
          "base_uri": "https://localhost:8080/"
        },
        "id": "ypuyUtI4LAQs",
        "outputId": "130b4666-7a05-4347-b5ed-4e7f00c46fb5"
      },
      "outputs": [
        {
          "data": {
            "text/plain": [
              "(0.8749999999999999, 0.12500000000000008)"
            ]
          },
          "execution_count": 16,
          "metadata": {},
          "output_type": "execute_result"
        }
      ],
      "source": [
        "target_text = 'free lottery'\n",
        "target_tokens = target_text.split()\n",
        "\n",
        "# target_text가 스팸일 확률?\n",
        "# P(스팸) * P(free | 스팸) * P(lottery | 스팸)\n",
        "# 단어들 공간\n",
        "\n",
        "log_event_prob = [] # [-0.6931, -0.6931]\n",
        "\n",
        "for label in label_cols:\n",
        "    log_event_prob.append(np.log(nb_df[label].sum() / nb_df[label_cols].sum().sum()))\n",
        "\n",
        "log_event_prob\n",
        "\n",
        "# log(P(스팸) * P(free | 스팸) * P(lottery | 스팸))\n",
        "# log(P(스팸)) + log(P(free | 스팸)) + log(P(lottery | 스팸)))\n",
        "\n",
        "log_sum_0 = log_event_prob[0]\n",
        "log_sum_1 = log_event_prob[1]\n",
        "for token in target_tokens:\n",
        "    log_sum_0 += nb_df['log_p_0'][token]\n",
        "    log_sum_1 += nb_df['log_p_1'][token]\n",
        "\n",
        "spam_prob = np.exp(log_sum_1) / (np.exp(log_sum_1) + np.exp(log_sum_0))\n",
        "spam_prob\n",
        "# target_text가 정상일 확률?\n",
        "norm_prob = np.exp(log_sum_0) / (np.exp(log_sum_0) + np.exp(log_sum_1))\n",
        "spam_prob, norm_prob"
      ]
    },
    {
      "cell_type": "markdown",
      "metadata": {
        "id": "l-A8xr_o_JOt"
      },
      "source": [
        "## 1.2 sklearn 활용 (영문 뉴스 분류)\n",
        "\n",
        "- naive_bayes.MultinomialNB() : 빈도수 기반 Naive Bayse Classifier"
      ]
    },
    {
      "cell_type": "markdown",
      "metadata": {
        "id": "-Yov08uo5rxT"
      },
      "source": [
        "### 뉴스 데이터 다운로드\n",
        "\n"
      ]
    },
    {
      "cell_type": "code",
      "execution_count": 17,
      "metadata": {
        "id": "nBAWgb3FIm4b"
      },
      "outputs": [
        {
          "name": "stdout",
          "output_type": "stream",
          "text": [
            "20\n",
            "From: lerxst@wam.umd.edu (where's my thing)\n",
            "Subject: WHAT car is this!?\n",
            "Nntp-Posting-Host: rac3.wam.umd.edu\n",
            "Organization: University of Maryland, College Park\n",
            "Lines: 15\n",
            "\n",
            " I was wondering if anyone out there could enlighten me on this car I saw\n",
            "the other day. It was a 2-door sports car, looked to be from the late 60s/\n",
            "early 70s. It was called a Bricklin. The doors were really small. In addition,\n",
            "the front bumper was separate from the rest of the body. This is \n",
            "all I know. If anyone can tellme a model name, engine specs, years\n",
            "of production, where this car is made, history, or whatever info you\n",
            "have on this funky looking car, please e-mail.\n",
            "\n",
            "Thanks,\n",
            "- IL\n",
            "   ---- brought to you by your neighborhood Lerxst ----\n",
            "\n",
            "\n",
            "\n",
            "\n",
            "\n"
          ]
        }
      ],
      "source": [
        "from sklearn.datasets import fetch_20newsgroups\n",
        "twenty_train = fetch_20newsgroups(subset='train', shuffle=True)\n",
        "print(len(twenty_train.target_names)) #뉴스 카테고리 출력\n",
        "print(twenty_train.data[0]) #뉴스 데이터 출력"
      ]
    },
    {
      "cell_type": "markdown",
      "metadata": {
        "id": "n4hNTVqR6urR"
      },
      "source": [
        "### 문서 분류(파이프 라인 사용)"
      ]
    },
    {
      "cell_type": "code",
      "execution_count": 18,
      "metadata": {
        "id": "7zGR3Yx9JFsI"
      },
      "outputs": [],
      "source": [
        "from sklearn.pipeline import Pipeline\n",
        "from sklearn.feature_extraction.text import CountVectorizer\n",
        "from sklearn.feature_extraction.text import TfidfTransformer\n",
        "from sklearn.naive_bayes import MultinomialNB\n",
        "\n",
        "text_clf = Pipeline([\n",
        "    ('vect', CountVectorizer()),\n",
        "    ('tfidf', TfidfTransformer()),\n",
        "    ('clf', MultinomialNB()),\n",
        "])\n",
        "\n",
        "text_clf = text_clf.fit(twenty_train.data, twenty_train.target)"
      ]
    },
    {
      "cell_type": "code",
      "execution_count": 19,
      "metadata": {
        "id": "H68bo8u6_5aS"
      },
      "outputs": [
        {
          "name": "stdout",
          "output_type": "stream",
          "text": [
            "\u001b[1;31mInit signature:\u001b[0m\n",
            "\u001b[0mCountVectorizer\u001b[0m\u001b[1;33m(\u001b[0m\u001b[1;33m\n",
            "\u001b[0m    \u001b[1;33m*\u001b[0m\u001b[1;33m,\u001b[0m\u001b[1;33m\n",
            "\u001b[0m    \u001b[0minput\u001b[0m\u001b[1;33m=\u001b[0m\u001b[1;34m'content'\u001b[0m\u001b[1;33m,\u001b[0m\u001b[1;33m\n",
            "\u001b[0m    \u001b[0mencoding\u001b[0m\u001b[1;33m=\u001b[0m\u001b[1;34m'utf-8'\u001b[0m\u001b[1;33m,\u001b[0m\u001b[1;33m\n",
            "\u001b[0m    \u001b[0mdecode_error\u001b[0m\u001b[1;33m=\u001b[0m\u001b[1;34m'strict'\u001b[0m\u001b[1;33m,\u001b[0m\u001b[1;33m\n",
            "\u001b[0m    \u001b[0mstrip_accents\u001b[0m\u001b[1;33m=\u001b[0m\u001b[1;32mNone\u001b[0m\u001b[1;33m,\u001b[0m\u001b[1;33m\n",
            "\u001b[0m    \u001b[0mlowercase\u001b[0m\u001b[1;33m=\u001b[0m\u001b[1;32mTrue\u001b[0m\u001b[1;33m,\u001b[0m\u001b[1;33m\n",
            "\u001b[0m    \u001b[0mpreprocessor\u001b[0m\u001b[1;33m=\u001b[0m\u001b[1;32mNone\u001b[0m\u001b[1;33m,\u001b[0m\u001b[1;33m\n",
            "\u001b[0m    \u001b[0mtokenizer\u001b[0m\u001b[1;33m=\u001b[0m\u001b[1;32mNone\u001b[0m\u001b[1;33m,\u001b[0m\u001b[1;33m\n",
            "\u001b[0m    \u001b[0mstop_words\u001b[0m\u001b[1;33m=\u001b[0m\u001b[1;32mNone\u001b[0m\u001b[1;33m,\u001b[0m\u001b[1;33m\n",
            "\u001b[0m    \u001b[0mtoken_pattern\u001b[0m\u001b[1;33m=\u001b[0m\u001b[1;34m'(?u)\\\\b\\\\w\\\\w+\\\\b'\u001b[0m\u001b[1;33m,\u001b[0m\u001b[1;33m\n",
            "\u001b[0m    \u001b[0mngram_range\u001b[0m\u001b[1;33m=\u001b[0m\u001b[1;33m(\u001b[0m\u001b[1;36m1\u001b[0m\u001b[1;33m,\u001b[0m \u001b[1;36m1\u001b[0m\u001b[1;33m)\u001b[0m\u001b[1;33m,\u001b[0m\u001b[1;33m\n",
            "\u001b[0m    \u001b[0manalyzer\u001b[0m\u001b[1;33m=\u001b[0m\u001b[1;34m'word'\u001b[0m\u001b[1;33m,\u001b[0m\u001b[1;33m\n",
            "\u001b[0m    \u001b[0mmax_df\u001b[0m\u001b[1;33m=\u001b[0m\u001b[1;36m1.0\u001b[0m\u001b[1;33m,\u001b[0m\u001b[1;33m\n",
            "\u001b[0m    \u001b[0mmin_df\u001b[0m\u001b[1;33m=\u001b[0m\u001b[1;36m1\u001b[0m\u001b[1;33m,\u001b[0m\u001b[1;33m\n",
            "\u001b[0m    \u001b[0mmax_features\u001b[0m\u001b[1;33m=\u001b[0m\u001b[1;32mNone\u001b[0m\u001b[1;33m,\u001b[0m\u001b[1;33m\n",
            "\u001b[0m    \u001b[0mvocabulary\u001b[0m\u001b[1;33m=\u001b[0m\u001b[1;32mNone\u001b[0m\u001b[1;33m,\u001b[0m\u001b[1;33m\n",
            "\u001b[0m    \u001b[0mbinary\u001b[0m\u001b[1;33m=\u001b[0m\u001b[1;32mFalse\u001b[0m\u001b[1;33m,\u001b[0m\u001b[1;33m\n",
            "\u001b[0m    \u001b[0mdtype\u001b[0m\u001b[1;33m=\u001b[0m\u001b[1;33m<\u001b[0m\u001b[1;32mclass\u001b[0m \u001b[1;34m'numpy.int64'\u001b[0m\u001b[1;33m>\u001b[0m\u001b[1;33m,\u001b[0m\u001b[1;33m\n",
            "\u001b[0m\u001b[1;33m)\u001b[0m\u001b[1;33m\u001b[0m\u001b[1;33m\u001b[0m\u001b[0m\n",
            "\u001b[1;31mDocstring:\u001b[0m     \n",
            "Convert a collection of text documents to a matrix of token counts.\n",
            "\n",
            "This implementation produces a sparse representation of the counts using\n",
            "scipy.sparse.csr_matrix.\n",
            "\n",
            "If you do not provide an a-priori dictionary and you do not use an analyzer\n",
            "that does some kind of feature selection then the number of features will\n",
            "be equal to the vocabulary size found by analyzing the data.\n",
            "\n",
            "Read more in the :ref:`User Guide <text_feature_extraction>`.\n",
            "\n",
            "Parameters\n",
            "----------\n",
            "input : {'filename', 'file', 'content'}, default='content'\n",
            "    - If `'filename'`, the sequence passed as an argument to fit is\n",
            "      expected to be a list of filenames that need reading to fetch\n",
            "      the raw content to analyze.\n",
            "\n",
            "    - If `'file'`, the sequence items must have a 'read' method (file-like\n",
            "      object) that is called to fetch the bytes in memory.\n",
            "\n",
            "    - If `'content'`, the input is expected to be a sequence of items that\n",
            "      can be of type string or byte.\n",
            "\n",
            "encoding : str, default='utf-8'\n",
            "    If bytes or files are given to analyze, this encoding is used to\n",
            "    decode.\n",
            "\n",
            "decode_error : {'strict', 'ignore', 'replace'}, default='strict'\n",
            "    Instruction on what to do if a byte sequence is given to analyze that\n",
            "    contains characters not of the given `encoding`. By default, it is\n",
            "    'strict', meaning that a UnicodeDecodeError will be raised. Other\n",
            "    values are 'ignore' and 'replace'.\n",
            "\n",
            "strip_accents : {'ascii', 'unicode'} or callable, default=None\n",
            "    Remove accents and perform other character normalization\n",
            "    during the preprocessing step.\n",
            "    'ascii' is a fast method that only works on characters that have\n",
            "    a direct ASCII mapping.\n",
            "    'unicode' is a slightly slower method that works on any characters.\n",
            "    None (default) does nothing.\n",
            "\n",
            "    Both 'ascii' and 'unicode' use NFKD normalization from\n",
            "    :func:`unicodedata.normalize`.\n",
            "\n",
            "lowercase : bool, default=True\n",
            "    Convert all characters to lowercase before tokenizing.\n",
            "\n",
            "preprocessor : callable, default=None\n",
            "    Override the preprocessing (strip_accents and lowercase) stage while\n",
            "    preserving the tokenizing and n-grams generation steps.\n",
            "    Only applies if ``analyzer`` is not callable.\n",
            "\n",
            "tokenizer : callable, default=None\n",
            "    Override the string tokenization step while preserving the\n",
            "    preprocessing and n-grams generation steps.\n",
            "    Only applies if ``analyzer == 'word'``.\n",
            "\n",
            "stop_words : {'english'}, list, default=None\n",
            "    If 'english', a built-in stop word list for English is used.\n",
            "    There are several known issues with 'english' and you should\n",
            "    consider an alternative (see :ref:`stop_words`).\n",
            "\n",
            "    If a list, that list is assumed to contain stop words, all of which\n",
            "    will be removed from the resulting tokens.\n",
            "    Only applies if ``analyzer == 'word'``.\n",
            "\n",
            "    If None, no stop words will be used. In this case, setting `max_df`\n",
            "    to a higher value, such as in the range (0.7, 1.0), can automatically detect\n",
            "    and filter stop words based on intra corpus document frequency of terms.\n",
            "\n",
            "token_pattern : str or None, default=r\"(?u)\\\\b\\\\w\\\\w+\\\\b\"\n",
            "    Regular expression denoting what constitutes a \"token\", only used\n",
            "    if ``analyzer == 'word'``. The default regexp select tokens of 2\n",
            "    or more alphanumeric characters (punctuation is completely ignored\n",
            "    and always treated as a token separator).\n",
            "\n",
            "    If there is a capturing group in token_pattern then the\n",
            "    captured group content, not the entire match, becomes the token.\n",
            "    At most one capturing group is permitted.\n",
            "\n",
            "ngram_range : tuple (min_n, max_n), default=(1, 1)\n",
            "    The lower and upper boundary of the range of n-values for different\n",
            "    word n-grams or char n-grams to be extracted. All values of n such\n",
            "    such that min_n <= n <= max_n will be used. For example an\n",
            "    ``ngram_range`` of ``(1, 1)`` means only unigrams, ``(1, 2)`` means\n",
            "    unigrams and bigrams, and ``(2, 2)`` means only bigrams.\n",
            "    Only applies if ``analyzer`` is not callable.\n",
            "\n",
            "analyzer : {'word', 'char', 'char_wb'} or callable, default='word'\n",
            "    Whether the feature should be made of word n-gram or character\n",
            "    n-grams.\n",
            "    Option 'char_wb' creates character n-grams only from text inside\n",
            "    word boundaries; n-grams at the edges of words are padded with space.\n",
            "\n",
            "    If a callable is passed it is used to extract the sequence of features\n",
            "    out of the raw, unprocessed input.\n",
            "\n",
            "    .. versionchanged:: 0.21\n",
            "\n",
            "    Since v0.21, if ``input`` is ``filename`` or ``file``, the data is\n",
            "    first read from the file and then passed to the given callable\n",
            "    analyzer.\n",
            "\n",
            "max_df : float in range [0.0, 1.0] or int, default=1.0\n",
            "    When building the vocabulary ignore terms that have a document\n",
            "    frequency strictly higher than the given threshold (corpus-specific\n",
            "    stop words).\n",
            "    If float, the parameter represents a proportion of documents, integer\n",
            "    absolute counts.\n",
            "    This parameter is ignored if vocabulary is not None.\n",
            "\n",
            "min_df : float in range [0.0, 1.0] or int, default=1\n",
            "    When building the vocabulary ignore terms that have a document\n",
            "    frequency strictly lower than the given threshold. This value is also\n",
            "    called cut-off in the literature.\n",
            "    If float, the parameter represents a proportion of documents, integer\n",
            "    absolute counts.\n",
            "    This parameter is ignored if vocabulary is not None.\n",
            "\n",
            "max_features : int, default=None\n",
            "    If not None, build a vocabulary that only consider the top\n",
            "    `max_features` ordered by term frequency across the corpus.\n",
            "    Otherwise, all features are used.\n",
            "\n",
            "    This parameter is ignored if vocabulary is not None.\n",
            "\n",
            "vocabulary : Mapping or iterable, default=None\n",
            "    Either a Mapping (e.g., a dict) where keys are terms and values are\n",
            "    indices in the feature matrix, or an iterable over terms. If not\n",
            "    given, a vocabulary is determined from the input documents. Indices\n",
            "    in the mapping should not be repeated and should not have any gap\n",
            "    between 0 and the largest index.\n",
            "\n",
            "binary : bool, default=False\n",
            "    If True, all non zero counts are set to 1. This is useful for discrete\n",
            "    probabilistic models that model binary events rather than integer\n",
            "    counts.\n",
            "\n",
            "dtype : dtype, default=np.int64\n",
            "    Type of the matrix returned by fit_transform() or transform().\n",
            "\n",
            "Attributes\n",
            "----------\n",
            "vocabulary_ : dict\n",
            "    A mapping of terms to feature indices.\n",
            "\n",
            "fixed_vocabulary_ : bool\n",
            "    True if a fixed vocabulary of term to indices mapping\n",
            "    is provided by the user.\n",
            "\n",
            "stop_words_ : set\n",
            "    Terms that were ignored because they either:\n",
            "\n",
            "      - occurred in too many documents (`max_df`)\n",
            "      - occurred in too few documents (`min_df`)\n",
            "      - were cut off by feature selection (`max_features`).\n",
            "\n",
            "    This is only available if no vocabulary was given.\n",
            "\n",
            "See Also\n",
            "--------\n",
            "HashingVectorizer : Convert a collection of text documents to a\n",
            "    matrix of token counts.\n",
            "\n",
            "TfidfVectorizer : Convert a collection of raw documents to a matrix\n",
            "    of TF-IDF features.\n",
            "\n",
            "Notes\n",
            "-----\n",
            "The ``stop_words_`` attribute can get large and increase the model size\n",
            "when pickling. This attribute is provided only for introspection and can\n",
            "be safely removed using delattr or set to None before pickling.\n",
            "\n",
            "Examples\n",
            "--------\n",
            ">>> from sklearn.feature_extraction.text import CountVectorizer\n",
            ">>> corpus = [\n",
            "...     'This is the first document.',\n",
            "...     'This document is the second document.',\n",
            "...     'And this is the third one.',\n",
            "...     'Is this the first document?',\n",
            "... ]\n",
            ">>> vectorizer = CountVectorizer()\n",
            ">>> X = vectorizer.fit_transform(corpus)\n",
            ">>> vectorizer.get_feature_names_out()\n",
            "array(['and', 'document', 'first', 'is', 'one', 'second', 'the', 'third',\n",
            "       'this'], ...)\n",
            ">>> print(X.toarray())\n",
            "[[0 1 1 1 0 0 1 0 1]\n",
            " [0 2 0 1 0 1 1 0 1]\n",
            " [1 0 0 1 1 0 1 1 1]\n",
            " [0 1 1 1 0 0 1 0 1]]\n",
            ">>> vectorizer2 = CountVectorizer(analyzer='word', ngram_range=(2, 2))\n",
            ">>> X2 = vectorizer2.fit_transform(corpus)\n",
            ">>> vectorizer2.get_feature_names_out()\n",
            "array(['and this', 'document is', 'first document', 'is the', 'is this',\n",
            "       'second document', 'the first', 'the second', 'the third', 'third one',\n",
            "       'this document', 'this is', 'this the'], ...)\n",
            " >>> print(X2.toarray())\n",
            " [[0 0 1 1 0 0 1 0 0 0 0 1 0]\n",
            " [0 1 0 1 0 1 0 1 0 0 1 0 0]\n",
            " [1 0 0 1 0 0 0 0 1 1 0 1 0]\n",
            " [0 0 1 0 1 0 1 0 0 0 0 0 1]]\n",
            "\u001b[1;31mFile:\u001b[0m           c:\\users\\user\\anaconda3\\envs\\mecab\\lib\\site-packages\\sklearn\\feature_extraction\\text.py\n",
            "\u001b[1;31mType:\u001b[0m           type\n",
            "\u001b[1;31mSubclasses:\u001b[0m     TfidfVectorizer"
          ]
        }
      ],
      "source": [
        "CountVectorizer?"
      ]
    },
    {
      "cell_type": "code",
      "execution_count": 20,
      "metadata": {
        "colab": {
          "base_uri": "https://localhost:8080/"
        },
        "id": "Z_dEYI3DJMII",
        "outputId": "fb114de3-e106-4e87-ae96-16c3830e320b"
      },
      "outputs": [
        {
          "data": {
            "text/plain": [
              "0.7738980350504514"
            ]
          },
          "execution_count": 20,
          "metadata": {},
          "output_type": "execute_result"
        }
      ],
      "source": [
        "import numpy as np\n",
        "twenty_test = fetch_20newsgroups(subset='test', shuffle=True)\n",
        "predicted = text_clf.predict(twenty_test.data)\n",
        "np.mean(predicted == twenty_test.target)"
      ]
    },
    {
      "cell_type": "code",
      "execution_count": 21,
      "metadata": {
        "id": "JvuVlV3kg6xX"
      },
      "outputs": [],
      "source": [
        "accuracy = np.mean(predicted == twenty_test.target)"
      ]
    },
    {
      "cell_type": "code",
      "execution_count": 22,
      "metadata": {
        "colab": {
          "base_uri": "https://localhost:8080/"
        },
        "id": "w9r3q6hng4IK",
        "outputId": "fdc7a3f4-c5d7-4364-8dc6-f8c9636f21c4"
      },
      "outputs": [
        {
          "data": {
            "text/plain": [
              "0.7738980350504514"
            ]
          },
          "execution_count": 22,
          "metadata": {},
          "output_type": "execute_result"
        }
      ],
      "source": [
        "accuracy"
      ]
    },
    {
      "cell_type": "markdown",
      "metadata": {
        "id": "sh1ocCeDCSlu"
      },
      "source": [
        "### Grid Search"
      ]
    },
    {
      "cell_type": "code",
      "execution_count": 23,
      "metadata": {
        "colab": {
          "base_uri": "https://localhost:8080/",
          "height": 421
        },
        "id": "M0OW4UoP-owr",
        "outputId": "e3bb02fa-8dda-47c2-906b-b71a4c52335b"
      },
      "outputs": [
        {
          "name": "stdout",
          "output_type": "stream",
          "text": [
            "Fitting 5 folds for each of 4 candidates, totalling 20 fits\n",
            "Best score: 0.8518650274101537\n",
            "Best parameters set:\n",
            "\tclf: MultinomialNB()\n",
            "\tclf__alpha: 1.0\n",
            "\tclf__class_prior: None\n",
            "\tclf__fit_prior: True\n",
            "\tclf__force_alpha: warn\n",
            "\tmemory: None\n",
            "\tsteps: [('vect', CountVectorizer(ngram_range=(1, 2))), ('tfidf', TfidfTransformer()), ('clf', MultinomialNB())]\n",
            "\ttfidf: TfidfTransformer()\n",
            "\ttfidf__norm: l2\n",
            "\ttfidf__smooth_idf: True\n",
            "\ttfidf__sublinear_tf: False\n",
            "\ttfidf__use_idf: True\n",
            "\tvect: CountVectorizer(ngram_range=(1, 2))\n",
            "\tvect__analyzer: word\n",
            "\tvect__binary: False\n",
            "\tvect__decode_error: strict\n",
            "\tvect__dtype: <class 'numpy.int64'>\n",
            "\tvect__encoding: utf-8\n",
            "\tvect__input: content\n",
            "\tvect__lowercase: True\n",
            "\tvect__max_df: 1.0\n",
            "\tvect__max_features: None\n",
            "\tvect__min_df: 1\n",
            "\tvect__ngram_range: (1, 2)\n",
            "\tvect__preprocessor: None\n",
            "\tvect__stop_words: None\n",
            "\tvect__strip_accents: None\n",
            "\tvect__token_pattern: (?u)\\b\\w\\w+\\b\n",
            "\tvect__tokenizer: None\n",
            "\tvect__vocabulary: None\n",
            "\tverbose: False\n"
          ]
        }
      ],
      "source": [
        "from sklearn.model_selection import GridSearchCV\n",
        "parameters_clf = {\n",
        "    'vect__ngram_range': [(1, 1), (1, 2)],\n",
        "    'tfidf__use_idf': (True, False),\n",
        "}\n",
        "gs_clf = GridSearchCV(text_clf, parameters_clf, n_jobs=-1, verbose=2)\n",
        "gs_clf = gs_clf.fit(twenty_train.data, twenty_train.target)\n",
        "print(\"Best score: {0}\".format(gs_clf.best_score_))\n",
        "print(\"Best parameters set:\")\n",
        "best_parameters = gs_clf.best_estimator_.get_params()\n",
        "for param_name in sorted(list(best_parameters.keys())):\n",
        "    print(\"\\t{0}: {1}\".format(param_name, best_parameters[param_name]))"
      ]
    },
    {
      "cell_type": "markdown",
      "metadata": {
        "id": "7ErcyV1GC0Hn"
      },
      "source": [
        "### Parameter 적용"
      ]
    },
    {
      "cell_type": "code",
      "execution_count": 24,
      "metadata": {
        "id": "z7kjWoCB7Gbo"
      },
      "outputs": [
        {
          "data": {
            "text/plain": [
              "0.765400955921402"
            ]
          },
          "execution_count": 24,
          "metadata": {},
          "output_type": "execute_result"
        }
      ],
      "source": [
        "import numpy as np\n",
        "predicted = gs_clf.best_estimator_.predict(twenty_test.data)\n",
        "np.mean(predicted == twenty_test.target)"
      ]
    },
    {
      "cell_type": "markdown",
      "metadata": {
        "id": "dzYxe6IN7ISd"
      },
      "source": [
        "# 2 서포트 벡터 머신(SVM, Support Vector Machine)\n",
        "\n",
        "- linear_model.SGDClassifier() : 선형 경사하강법 분류 모델"
      ]
    },
    {
      "cell_type": "markdown",
      "metadata": {
        "id": "fErbEM2hCKOZ"
      },
      "source": [
        "### 뉴스 데이터 다운로드"
      ]
    },
    {
      "cell_type": "code",
      "execution_count": 25,
      "metadata": {
        "id": "xznbZipo9Lhp"
      },
      "outputs": [
        {
          "name": "stdout",
          "output_type": "stream",
          "text": [
            "['alt.atheism', 'comp.graphics', 'comp.os.ms-windows.misc', 'comp.sys.ibm.pc.hardware', 'comp.sys.mac.hardware', 'comp.windows.x', 'misc.forsale', 'rec.autos', 'rec.motorcycles', 'rec.sport.baseball', 'rec.sport.hockey', 'sci.crypt', 'sci.electronics', 'sci.med', 'sci.space', 'soc.religion.christian', 'talk.politics.guns', 'talk.politics.mideast', 'talk.politics.misc', 'talk.religion.misc']\n",
            "From: lerxst@wam.umd.edu (where's my thing)\n",
            "Subject: WHAT car is this!?\n",
            "Nntp-Posting-Host: rac3.wam.umd.edu\n",
            "Organization: University of Maryland, College Park\n",
            "Lines: 15\n",
            "\n",
            " I was wondering if anyone out there could enlighten me on this car I saw\n",
            "the other day. It was a 2-door sports car, looked to be from the late 60s/\n",
            "early 70s. It was called a Bricklin. The doors were really small. In addition,\n",
            "the front bumper was separate from the rest of the body. This is \n",
            "all I know. If anyone can tellme a model name, engine specs, years\n",
            "of production, where this car is made, history, or whatever info you\n",
            "have on this funky looking car, please e-mail.\n",
            "\n",
            "Thanks,\n",
            "- IL\n",
            "   ---- brought to you by your neighborhood Lerxst ----\n",
            "\n",
            "\n",
            "\n",
            "\n",
            "\n"
          ]
        }
      ],
      "source": [
        "from sklearn.datasets import fetch_20newsgroups\n",
        "twenty_train = fetch_20newsgroups(subset='train', shuffle=True)\n",
        "print(twenty_train.target_names) #뉴스 카테고리 출력\n",
        "print(twenty_train.data[0]) #뉴데 이터 출력"
      ]
    },
    {
      "cell_type": "markdown",
      "metadata": {
        "id": "xRCLiCJBCM8x"
      },
      "source": [
        "### 문서 분류 (파이프 라인 사용)"
      ]
    },
    {
      "cell_type": "code",
      "execution_count": 26,
      "metadata": {
        "colab": {
          "base_uri": "https://localhost:8080/"
        },
        "id": "CNWY00WlJN9u",
        "outputId": "f4badd3d-e989-4512-e889-90271a0a51a1"
      },
      "outputs": [
        {
          "data": {
            "text/plain": [
              "0.8240839086563994"
            ]
          },
          "execution_count": 26,
          "metadata": {},
          "output_type": "execute_result"
        }
      ],
      "source": [
        "from sklearn.pipeline import Pipeline\n",
        "from sklearn.feature_extraction.text import CountVectorizer\n",
        "from sklearn.feature_extraction.text import TfidfTransformer\n",
        "from sklearn.linear_model import SGDClassifier\n",
        "text_clf_svm = Pipeline([\n",
        "    ('vect', CountVectorizer()),\n",
        "    ('tfidf', TfidfTransformer()),\n",
        "    ('clf-svm', SGDClassifier(loss='hinge', penalty='l2', alpha=1e-3, n_iter_no_change=5, random_state=42)),\n",
        "])\n",
        "text_clf_svm = text_clf_svm.fit(twenty_train.data, twenty_train.target)\n",
        "predicted_svm = text_clf_svm.predict(twenty_test.data)\n",
        "np.mean(predicted_svm == twenty_test.target)"
      ]
    },
    {
      "cell_type": "markdown",
      "metadata": {
        "id": "yIN4DobwCGbz"
      },
      "source": [
        "### Grid Search"
      ]
    },
    {
      "cell_type": "code",
      "execution_count": 27,
      "metadata": {
        "colab": {
          "base_uri": "https://localhost:8080/"
        },
        "id": "sGQD1lywJrsa",
        "outputId": "176ceebd-302e-48ad-d9af-23d20a592d43"
      },
      "outputs": [
        {
          "name": "stdout",
          "output_type": "stream",
          "text": [
            "Fitting 5 folds for each of 8 candidates, totalling 40 fits\n"
          ]
        },
        {
          "data": {
            "text/plain": [
              "(0.9051618841994754,\n",
              " {'clf-svm__alpha': 0.001,\n",
              "  'tfidf__use_idf': True,\n",
              "  'vect__ngram_range': (1, 2)})"
            ]
          },
          "execution_count": 27,
          "metadata": {},
          "output_type": "execute_result"
        }
      ],
      "source": [
        "from sklearn.model_selection import GridSearchCV\n",
        "parameters_svm = {\n",
        "    'vect__ngram_range': [(1, 1), (1, 2)],\n",
        "    'tfidf__use_idf': (True, False),\n",
        "    'clf-svm__alpha': (1e-2, 1e-3),\n",
        "}\n",
        "gs_clf_svm = GridSearchCV(text_clf_svm, parameters_svm, n_jobs=-1, verbose=2)\n",
        "gs_clf_svm = gs_clf_svm.fit(twenty_train.data, twenty_train.target)\n",
        "gs_clf_svm.best_score_, gs_clf_svm.best_params_"
      ]
    },
    {
      "cell_type": "code",
      "execution_count": 28,
      "metadata": {
        "id": "uikLHCLSCE6u"
      },
      "outputs": [
        {
          "name": "stdout",
          "output_type": "stream",
          "text": [
            "Best score: 0.9051618841994754\n",
            "Best parameters set:\n",
            "\tclf-svm: SGDClassifier(alpha=0.001, random_state=42)\n",
            "\tclf-svm__alpha: 0.001\n",
            "\tclf-svm__average: False\n",
            "\tclf-svm__class_weight: None\n",
            "\tclf-svm__early_stopping: False\n",
            "\tclf-svm__epsilon: 0.1\n",
            "\tclf-svm__eta0: 0.0\n",
            "\tclf-svm__fit_intercept: True\n",
            "\tclf-svm__l1_ratio: 0.15\n",
            "\tclf-svm__learning_rate: optimal\n",
            "\tclf-svm__loss: hinge\n",
            "\tclf-svm__max_iter: 1000\n",
            "\tclf-svm__n_iter_no_change: 5\n",
            "\tclf-svm__n_jobs: None\n",
            "\tclf-svm__penalty: l2\n",
            "\tclf-svm__power_t: 0.5\n",
            "\tclf-svm__random_state: 42\n",
            "\tclf-svm__shuffle: True\n",
            "\tclf-svm__tol: 0.001\n",
            "\tclf-svm__validation_fraction: 0.1\n",
            "\tclf-svm__verbose: 0\n",
            "\tclf-svm__warm_start: False\n",
            "\tmemory: None\n",
            "\tsteps: [('vect', CountVectorizer(ngram_range=(1, 2))), ('tfidf', TfidfTransformer()), ('clf-svm', SGDClassifier(alpha=0.001, random_state=42))]\n",
            "\ttfidf: TfidfTransformer()\n",
            "\ttfidf__norm: l2\n",
            "\ttfidf__smooth_idf: True\n",
            "\ttfidf__sublinear_tf: False\n",
            "\ttfidf__use_idf: True\n",
            "\tvect: CountVectorizer(ngram_range=(1, 2))\n",
            "\tvect__analyzer: word\n",
            "\tvect__binary: False\n",
            "\tvect__decode_error: strict\n",
            "\tvect__dtype: <class 'numpy.int64'>\n",
            "\tvect__encoding: utf-8\n",
            "\tvect__input: content\n",
            "\tvect__lowercase: True\n",
            "\tvect__max_df: 1.0\n",
            "\tvect__max_features: None\n",
            "\tvect__min_df: 1\n",
            "\tvect__ngram_range: (1, 2)\n",
            "\tvect__preprocessor: None\n",
            "\tvect__stop_words: None\n",
            "\tvect__strip_accents: None\n",
            "\tvect__token_pattern: (?u)\\b\\w\\w+\\b\n",
            "\tvect__tokenizer: None\n",
            "\tvect__vocabulary: None\n",
            "\tverbose: False\n"
          ]
        }
      ],
      "source": [
        "print(\"Best score: {0}\".format(gs_clf_svm.best_score_))\n",
        "print(\"Best parameters set:\")\n",
        "best_parameters = gs_clf_svm.best_estimator_.get_params()\n",
        "for param_name in sorted(list(best_parameters.keys())):\n",
        "    print(\"\\t{0}: {1}\".format(param_name, best_parameters[param_name]))"
      ]
    }
  ],
  "metadata": {
    "colab": {
      "provenance": []
    },
    "kernelspec": {
      "display_name": "base",
      "language": "python",
      "name": "python3"
    },
    "language_info": {
      "codemirror_mode": {
        "name": "ipython",
        "version": 3
      },
      "file_extension": ".py",
      "mimetype": "text/x-python",
      "name": "python",
      "nbconvert_exporter": "python",
      "pygments_lexer": "ipython3",
      "version": "3.8.0"
    },
    "vscode": {
      "interpreter": {
        "hash": "e508c96042fd7b3aa969c1a8875668ac50b0a6c54de6b2bab6d59ac763cd3db2"
      }
    }
  },
  "nbformat": 4,
  "nbformat_minor": 0
}
