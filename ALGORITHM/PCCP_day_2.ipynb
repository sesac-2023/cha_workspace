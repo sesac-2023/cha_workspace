{
 "cells": [
  {
   "cell_type": "markdown",
   "id": "7f93eea8",
   "metadata": {},
   "source": [
    "# 중복된 문자 제거\n",
    "- https://school.programmers.co.kr/learn/courses/30/lessons/120888?language=python3"
   ]
  },
  {
   "cell_type": "markdown",
   "id": "40565564",
   "metadata": {},
   "source": [
    "### 1. 문제 이해\n",
    "- 주어진 문자열에서 중복되지 않는 문자들을 순서대로 추출하여 반환\n",
    "\n",
    "### 2. 데이터 구조 선택\n",
    "- set 자료형\n",
    "- 원소의 유일성 보장 == 중복 제거\n",
    "- 원소의 순서 보장 x (파이썬 3.7 버전 이후 변동 있음)\n",
    "- 공간 복잡도 고려 필요\n",
    "\n",
    "### 3. 시간 복잡도\n",
    "- O(N)"
   ]
  },
  {
   "cell_type": "code",
   "execution_count": 1,
   "id": "cdef210d",
   "metadata": {},
   "outputs": [],
   "source": [
    "def solution(my_string):\n",
    "    answer = ''\n",
    "    exclusive_letters = set(my_string) # set은 그 자체로 중복을 제거합니다.\n",
    "    for letter in my_string:  \n",
    "        if letter in exclusive_letters: # O(1)의 빠른 containment test\n",
    "            answer += letter # 앞쪽부터 차례로 이어붙이고\n",
    "            exclusive_letters.discard(letter)  # 쓴 것은 제외해줍니다. O(1)\n",
    "\n",
    "    return answer"
   ]
  },
  {
   "cell_type": "code",
   "execution_count": 2,
   "id": "e10cab65",
   "metadata": {},
   "outputs": [
    {
     "name": "stdout",
     "output_type": "stream",
     "text": [
      "Peopl\n"
     ]
    }
   ],
   "source": [
    "my_string = 'People'\n",
    "print(solution(my_string))"
   ]
  },
  {
   "cell_type": "markdown",
   "id": "ed590449",
   "metadata": {},
   "source": [
    "---"
   ]
  },
  {
   "cell_type": "markdown",
   "id": "172d21aa",
   "metadata": {},
   "source": [
    "# 숫자 문자열과 영단어\n",
    "- https://school.programmers.co.kr/learn/courses/30/lessons/81301"
   ]
  },
  {
   "cell_type": "markdown",
   "id": "f610ca26",
   "metadata": {},
   "source": [
    "### 1. 문제 이해\n",
    "- 알파벳 문자와 숫자로 이루어진 문자열이 주어지며, 해당 문자열에 포함된 영단어 숫자를 실제 숫자로 변경\n",
    "\n",
    "### 2. 데이터 구조 선택\n",
    "- 영단어와 실제 숫자를 매핑하는 dictionary 자료형\n",
    "- 영단어 키를 사용하여 해당하는 숫자값을 빠르게 검색\n",
    "\n",
    "### 3. 적용\n",
    "- replace 메서드\n",
    "- 영단어 키 값으로 접근 -> 영단어가 있을 경우 -> 숫자값으로 변환"
   ]
  },
  {
   "cell_type": "code",
   "execution_count": 3,
   "id": "2448bbd4",
   "metadata": {},
   "outputs": [],
   "source": [
    "def solution(s):\n",
    "    nums = {\n",
    "        'zero': '0', 'one': '1', 'two': '2',\n",
    "        'three': '3', 'four': '4', 'five': '5',\n",
    "        'six': '6', 'seven': '7', 'eight': '8', 'nine': '9'\n",
    "    }\n",
    "\n",
    "    for n in nums:\n",
    "        s = s.replace(n, nums[n])\n",
    "\n",
    "    return int(s)"
   ]
  },
  {
   "cell_type": "code",
   "execution_count": 4,
   "id": "2cce87aa",
   "metadata": {},
   "outputs": [
    {
     "name": "stdout",
     "output_type": "stream",
     "text": [
      "1478\n",
      "234567\n",
      "234567\n"
     ]
    }
   ],
   "source": [
    "print(solution(\"one4seveneight\"))  \n",
    "print(solution(\"23four5six7\"))     \n",
    "print(solution(\"2three45sixseven\"))"
   ]
  },
  {
   "cell_type": "markdown",
   "id": "6831f6bc",
   "metadata": {},
   "source": [
    "---"
   ]
  },
  {
   "cell_type": "markdown",
   "id": "e2090068",
   "metadata": {},
   "source": [
    "# 한 번만 등장한 문자\n",
    "- https://school.programmers.co.kr/learn/courses/30/lessons/120896"
   ]
  },
  {
   "cell_type": "markdown",
   "id": "5eaa8b76",
   "metadata": {},
   "source": [
    "### 1. 문제 이해\n",
    "- 문자열에서 각 문자의 등장 횟수를 세고, 등장 횟수가 1인 문자들을 알파벳 순서로 이어붙여 반환\n",
    "\n",
    "### 2. 데이터 구조 선택\n",
    "- 문자의 등장 횟수를 저장하기 위해 딕셔너리 사용\n",
    "- 등장 횟수가 1인 문자들을 모으기 위해 리스트 사용\n",
    "\n",
    "### 3. 적용\n",
    "- 주어진 문자열을 순회 -> 각 문자의 등장 횟수 세기\n",
    "- 등장 횟수가 1인 문자들을 리스트에 모은다\n",
    "- 알파벳 순서로 정렬 -> 이어 붙이기"
   ]
  },
  {
   "cell_type": "code",
   "execution_count": 5,
   "id": "335a9be9",
   "metadata": {},
   "outputs": [],
   "source": [
    "def solution(s):\n",
    "    letters_dict = {}  # 구조화\n",
    "    exclusive_letter = []  # 하나만 있는 키를 모아줄 리스트\n",
    "\n",
    "    for letter in s:\n",
    "        if letters_dict.get(letter, -1) == -1:  # 만약 없으면?\n",
    "            letters_dict[letter] = 1  # 최초로 갯수를 세팅하고\n",
    "        else:  # 이미 있다면?\n",
    "            letters_dict[letter] += 1  # 더해줍니다.\n",
    "\n",
    "    for key, val in letters_dict.items(): # 사실 파이썬의 딕셔너리는 순서를 보장하지 않습니다.\n",
    "        if val == 1:\n",
    "            exclusive_letter.append(key)\n",
    "\n",
    "    exclusive_letter.sort()  # 정렬을 하고\n",
    "    answer = ''.join(exclusive_letter)  # 공백 없이 붙여줍니다.\n",
    "\n",
    "    return answer"
   ]
  },
  {
   "cell_type": "code",
   "execution_count": 8,
   "id": "7da6626c",
   "metadata": {},
   "outputs": [
    {
     "name": "stdout",
     "output_type": "stream",
     "text": [
      "ael\n",
      "b\n",
      "eho\n"
     ]
    }
   ],
   "source": [
    "print(solution(\"apple\")) \n",
    "print(solution(\"banana\"))  \n",
    "print(solution(\"hello\")) "
   ]
  },
  {
   "cell_type": "markdown",
   "id": "d25c00a3",
   "metadata": {},
   "source": [
    ">방법 2\n",
    "### 2. 데이터 구조 선택\n",
    "- 주어진 문자열을 리스트로 변환하여 사용\n",
    "- 등장 횟수가 1인 문자들을 모으기 위해 리스트 사용\n",
    "\n",
    "### 3. 적용\n",
    "- 주어진 문자열을 리스트로 변환 -> 문자 하나씩 순회 -> 각 문자의 등장 횟수 세기\n",
    "- 등장 횟수가 1인 문자들을 리스트에 모은다.\n",
    "- 알파벳 순서로 정렬 -> 이어붙이는 작업"
   ]
  },
  {
   "cell_type": "code",
   "execution_count": 9,
   "id": "259420b2",
   "metadata": {},
   "outputs": [],
   "source": [
    "def solution(s):\n",
    "    letters = list(s)  # 스트링을 리스트로 쪼개는 방법\n",
    "    answer_list = []\n",
    "\n",
    "    for letter in letters:\n",
    "        if letters.count(letter) == 1:\n",
    "            answer_list.append(letter)\n",
    "\n",
    "    answer_list.sort()\n",
    "    answer = ''.join(answer_list)\n",
    "\n",
    "    return answer"
   ]
  },
  {
   "cell_type": "code",
   "execution_count": 10,
   "id": "642a9a5c",
   "metadata": {},
   "outputs": [
    {
     "name": "stdout",
     "output_type": "stream",
     "text": [
      "ael\n",
      "b\n",
      "eho\n"
     ]
    }
   ],
   "source": [
    "print(solution(\"apple\")) \n",
    "print(solution(\"banana\"))  \n",
    "print(solution(\"hello\")) "
   ]
  },
  {
   "cell_type": "code",
   "execution_count": null,
   "id": "cc264e60",
   "metadata": {},
   "outputs": [],
   "source": []
  }
 ],
 "metadata": {
  "kernelspec": {
   "display_name": "Python 3 (ipykernel)",
   "language": "python",
   "name": "python3"
  },
  "language_info": {
   "codemirror_mode": {
    "name": "ipython",
    "version": 3
   },
   "file_extension": ".py",
   "mimetype": "text/x-python",
   "name": "python",
   "nbconvert_exporter": "python",
   "pygments_lexer": "ipython3",
   "version": "3.10.9"
  }
 },
 "nbformat": 4,
 "nbformat_minor": 5
}
