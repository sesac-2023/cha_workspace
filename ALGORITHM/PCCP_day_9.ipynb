{
 "cells": [
  {
   "cell_type": "markdown",
   "metadata": {},
   "source": [
    "# 비트 연산과 부분집합"
   ]
  },
  {
   "cell_type": "markdown",
   "metadata": {},
   "source": [
    "> 비트 연산"
   ]
  },
  {
   "cell_type": "markdown",
   "metadata": {},
   "source": [
    "비트연산자 = set 연산자\n",
    "- 교집합 - and - &\n",
    "- 합집합 -  or - |"
   ]
  },
  {
   "cell_type": "code",
   "execution_count": 1,
   "metadata": {},
   "outputs": [
    {
     "data": {
      "text/plain": [
       "2"
      ]
     },
     "execution_count": 1,
     "metadata": {},
     "output_type": "execute_result"
    }
   ],
   "source": [
    "3 & 6\n",
    "\n",
    "# 011 -> 3\n",
    "# 110 -> 6\n",
    "#-----\n",
    "# 010 -> 2"
   ]
  },
  {
   "cell_type": "code",
   "execution_count": 4,
   "metadata": {},
   "outputs": [
    {
     "data": {
      "text/plain": [
       "7"
      ]
     },
     "execution_count": 4,
     "metadata": {},
     "output_type": "execute_result"
    }
   ],
   "source": [
    "3 | 6\n",
    "\n",
    "# 011 -> 3\n",
    "# 110 -> 6\n",
    "#-----\n",
    "# 111 -> 7"
   ]
  },
  {
   "cell_type": "markdown",
   "metadata": {},
   "source": [
    "---"
   ]
  },
  {
   "cell_type": "markdown",
   "metadata": {},
   "source": [
    "### << 왼쪽 shift"
   ]
  },
  {
   "cell_type": "code",
   "execution_count": 7,
   "metadata": {},
   "outputs": [
    {
     "data": {
      "text/plain": [
       "14"
      ]
     },
     "execution_count": 7,
     "metadata": {},
     "output_type": "execute_result"
    }
   ],
   "source": [
    "7 << 1  # 2배\n",
    "\n",
    "# 111 -> 1110 -> 8 + 4 + 2 + 0 = 14"
   ]
  },
  {
   "cell_type": "code",
   "execution_count": 8,
   "metadata": {},
   "outputs": [
    {
     "data": {
      "text/plain": [
       "24"
      ]
     },
     "execution_count": 8,
     "metadata": {},
     "output_type": "execute_result"
    }
   ],
   "source": [
    "6 << 2  # 4배\n",
    "\n",
    "# 110 -> 11000 -> 16 + 8 = 24"
   ]
  },
  {
   "cell_type": "code",
   "execution_count": 15,
   "metadata": {},
   "outputs": [
    {
     "data": {
      "text/plain": [
       "16"
      ]
     },
     "execution_count": 15,
     "metadata": {},
     "output_type": "execute_result"
    }
   ],
   "source": [
    "2 << 3 # 8배"
   ]
  },
  {
   "cell_type": "markdown",
   "metadata": {},
   "source": [
    "### >> 오른쪽 shift"
   ]
  },
  {
   "cell_type": "code",
   "execution_count": 13,
   "metadata": {},
   "outputs": [
    {
     "data": {
      "text/plain": [
       "3"
      ]
     },
     "execution_count": 13,
     "metadata": {},
     "output_type": "execute_result"
    }
   ],
   "source": [
    "7 >> 1  # 2로 나눈 몫\n",
    "\n",
    "# 111 -> 11 -> 2 + 1 = 3"
   ]
  },
  {
   "cell_type": "code",
   "execution_count": 14,
   "metadata": {},
   "outputs": [
    {
     "data": {
      "text/plain": [
       "3"
      ]
     },
     "execution_count": 14,
     "metadata": {},
     "output_type": "execute_result"
    }
   ],
   "source": [
    "6 >> 1  # 2로 나눈 몫\n",
    "\n",
    "# 110 -> 11 -> 2 + 1 = 3"
   ]
  },
  {
   "cell_type": "code",
   "execution_count": 18,
   "metadata": {},
   "outputs": [
    {
     "data": {
      "text/plain": [
       "25"
      ]
     },
     "execution_count": 18,
     "metadata": {},
     "output_type": "execute_result"
    }
   ],
   "source": [
    "415 >> 4 # 16로 나눈 몫"
   ]
  },
  {
   "cell_type": "markdown",
   "metadata": {},
   "source": [
    "---\n",
    "### XOR - ^ (exclusive or 배타적 논리쌍)"
   ]
  },
  {
   "cell_type": "code",
   "execution_count": 20,
   "metadata": {},
   "outputs": [
    {
     "data": {
      "text/plain": [
       "5"
      ]
     },
     "execution_count": 20,
     "metadata": {},
     "output_type": "execute_result"
    }
   ],
   "source": [
    "6 ^ 3\n",
    "\n",
    "# 110 -> 6\n",
    "# 011 -> 3\n",
    "# ----\n",
    "# 101 -> 5"
   ]
  },
  {
   "cell_type": "code",
   "execution_count": 21,
   "metadata": {},
   "outputs": [],
   "source": [
    "# 외톨이 문자열 - 깍두기 검출 로직 짜기\n",
    "# nums = [1, 3, 1, 2, 2]\n",
    "nums = [34, 12, 1, 5, 12, 5, 1, 34, 77]"
   ]
  },
  {
   "cell_type": "code",
   "execution_count": 64,
   "metadata": {},
   "outputs": [
    {
     "name": "stdout",
     "output_type": "stream",
     "text": [
      "77\n"
     ]
    }
   ],
   "source": [
    "answer = 0\n",
    "for num in nums:\n",
    "    answer ^= num\n",
    "print(answer)"
   ]
  },
  {
   "cell_type": "markdown",
   "metadata": {},
   "source": [
    "---\n",
    "> 부분집합\n",
    "## 부분집합 구하기"
   ]
  },
  {
   "cell_type": "code",
   "execution_count": 65,
   "metadata": {},
   "outputs": [
    {
     "name": "stdout",
     "output_type": "stream",
     "text": [
      "[]\n",
      "['a']\n",
      "['b']\n",
      "['a', 'b']\n",
      "['c']\n",
      "['a', 'c']\n",
      "['b', 'c']\n",
      "['a', 'b', 'c']\n"
     ]
    }
   ],
   "source": [
    "# 비트를 활용한 부분집합 구하기\n",
    "letters = ['a', 'b', 'c']\n",
    "\n",
    "for i in range(1 << len(letters)):  # 총 2³, 8개의 경우의 수 체크\n",
    "    selected = []\n",
    "    for j in range(len(letters)): # 각각 비트를 한칸씩 옮기며 대조\n",
    "        if i & (1 << j):  # 1칸씩 왼쪽으로 옮겨가며 총 3칸을 대조해본다.\n",
    "            selected.append(letters[j]) # 대조 결과가 성공이라면 selected에 append!\n",
    "\n",
    "    print(selected)\n",
    "\n",
    "# []                | => (i = 0) => 0 0 0 => 공집합\n",
    "# ['a']             | => (i = 1) => 0 0 1 => (j = 0)에서 걸려 'a'가 뽑힘\n",
    "# ['b']             | => (i = 2) => 0 1 0\n",
    "# ['a', 'b']        | => (i = 3) => 0 1 1\n",
    "# ['c']             | => (i = 4) => 1 0 0 => (j = 2)에서 걸려 'c'가 뽑힘\n",
    "# ['a', 'c']        | => (i = 5) => 1 0 1\n",
    "# ['b', 'c']        | => (i = 6) => 1 1 0\n",
    "# ['a', 'b', 'c']   | => (i = 7) => 1 1 1"
   ]
  },
  {
   "cell_type": "code",
   "execution_count": 83,
   "metadata": {},
   "outputs": [
    {
     "name": "stdout",
     "output_type": "stream",
     "text": [
      "[]\n",
      "['a']\n",
      "['b']\n",
      "['a', 'b']\n",
      "['c']\n",
      "['a', 'c']\n",
      "['b', 'c']\n",
      "['a', 'b', 'c']\n"
     ]
    }
   ],
   "source": [
    "# https://pythontutor.com/render.html#code=letters%20%3D%20%5B'a',%20'b',%20'c'%5D%0A%0Afor%20i%20in%20range%281%20%3C%3C%20len%28letters%29%29%3A%0A%20%20%20%20selected%20%3D%20%5B%5D%0A%20%20%20%20for%20j%20in%20range%28len%28letters%29%29%3A%0A%20%20%20%20%20%20%20%20if%20i%20%26%20%281%20%3C%3C%20j%29%3A%0A%20%20%20%20%20%20%20%20%20%20%20%20selected.append%28letters%5Bj%5D%29%0A%20%20%20%20print%28selected%29&cumulative=false&curInstr=0&heapPrimitives=nevernest&mode=display&origin=opt-frontend.js&py=3&rawInputLstJSON=%5B%5D&textReferences=false\n",
    "\n",
    "letters = ['a', 'b', 'c']\n",
    "\n",
    "for i in range(1 << len(letters)):\n",
    "    selected = []\n",
    "    for j in range(len(letters)):\n",
    "        if i & (1 << j):\n",
    "            selected.append(letters[j])\n",
    "    print(selected)"
   ]
  }
 ],
 "metadata": {
  "kernelspec": {
   "display_name": "base",
   "language": "python",
   "name": "python3"
  },
  "language_info": {
   "codemirror_mode": {
    "name": "ipython",
    "version": 3
   },
   "file_extension": ".py",
   "mimetype": "text/x-python",
   "name": "python",
   "nbconvert_exporter": "python",
   "pygments_lexer": "ipython3",
   "version": "3.10.9"
  },
  "orig_nbformat": 4
 },
 "nbformat": 4,
 "nbformat_minor": 2
}
