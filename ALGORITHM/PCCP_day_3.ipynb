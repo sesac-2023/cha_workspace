{
 "cells": [
  {
   "cell_type": "markdown",
   "metadata": {},
   "source": [
    "## 스트링 알고리즘\n",
    "\n",
    "### 시간 복잡도 고려하기\n",
    "- 상수 최적화에 집착하지 않기\n",
    "- O(N), O(N^2), O(logN) 대분류 안에서 적절한 복잡도 구현\n",
    "\n",
    "### 회문 검사하기\n",
    "- 회문 : 뒤집어도 똑같은 단어 (ex. level, 스위스)\n",
    "- two pointer 활용하기\n",
    "    - 문자수 N개일 경우, 총 N/2(+1)번의 검증만 필요함"
   ]
  },
  {
   "cell_type": "code",
   "execution_count": 6,
   "metadata": {},
   "outputs": [
    {
     "name": "stdout",
     "output_type": "stream",
     "text": [
      "True\n"
     ]
    }
   ],
   "source": [
    "word = input('단어를 입력하세요: ')\n",
    "\n",
    "left = 0 # 시작 인덱스\n",
    "right = len(word)-1 # 마지막 인덱스\n",
    "\n",
    "is_palindrome = True\n",
    "while left < right:  # 왼쪽과 오른쪽이 유지될때까지 돌아라!\n",
    "    if word[left] == word[right]:  # 같은 경우라면 아직은 회문 조건을 만족함\n",
    "        left += 1  # 왼쪽 포인터를 한칸 오른쪽으로 증가시키고\n",
    "        right -= 1  # 오른쪽 포인터를 한 칸 왼쪽으로 감소\n",
    "        continue\n",
    "    else:  # 다른 경우라면 그 즉시 안된다고 표시하고 break\n",
    "        is_palindrome = False\n",
    "        break\n",
    "\n",
    "print(is_palindrome)"
   ]
  },
  {
   "cell_type": "code",
   "execution_count": 12,
   "metadata": {},
   "outputs": [
    {
     "name": "stdout",
     "output_type": "stream",
     "text": [
      "\u001b[1;31mType:\u001b[0m        bool\n",
      "\u001b[1;31mString form:\u001b[0m True\n",
      "\u001b[1;31mDocstring:\u001b[0m  \n",
      "bool(x) -> bool\n",
      "\n",
      "Returns True when the argument x is true, False otherwise.\n",
      "The builtins True and False are the only two instances of the class bool.\n",
      "The class bool is a subclass of the class int, and cannot be subclassed."
     ]
    }
   ],
   "source": [
    "is_palindrome?"
   ]
  },
  {
   "cell_type": "markdown",
   "metadata": {},
   "source": [
    "---\n",
    "### 카운팅 정렬 \n",
    "- 안정 정렬\n",
    "    - 누적합 활용\n",
    "- 불안정 정렬"
   ]
  },
  {
   "cell_type": "code",
   "execution_count": 13,
   "metadata": {},
   "outputs": [
    {
     "name": "stdout",
     "output_type": "stream",
     "text": [
      "[1, 1, 2, 3, 4, 4, 5, 5, 5]\n"
     ]
    }
   ],
   "source": [
    "# 카운팅 정렬 코드\n",
    "nums = [4, 4, 2, 3, 5, 5, 1, 1, 5]\n",
    "\n",
    "count = [0] * (max(nums) + 1)  # 갯수 세는 리스트\n",
    "sorted_nums = [0] * len(nums)  # 정렬된 리스트의 원형 틀\n",
    "\n",
    "for num in nums:  # 일단 몇개씩 있는지 카운트\n",
    "    count[num] += 1\n",
    "\n",
    "for i in range(1, len(count)):  # 누적합\n",
    "    count[i] = count[i] + count[i-1]\n",
    "\n",
    "for j in range(len(nums)-1, -1, -1):  # 뒤의 자리부터 뽑아서,\n",
    "    sorted_nums[count[nums[j]]-1] = nums[j] # 5가 튀어나오면 5의 위치에 뒤부터 삽입.\n",
    "    count[nums[j]] -= 1  # 위치 인덱스 하나 깎음\n",
    "\n",
    "print(sorted_nums)"
   ]
  },
  {
   "cell_type": "markdown",
   "metadata": {},
   "source": [
    "---\n",
    "### 구간합 "
   ]
  },
  {
   "cell_type": "markdown",
   "metadata": {},
   "source": [
    "1. 슬라이싱 방식 - O(N^2)\n",
    "2. 누적합 방식\n",
    "3. 슬라이딩 윈도우(미닫이문) 방식 - O(N)"
   ]
  },
  {
   "cell_type": "code",
   "execution_count": 32,
   "metadata": {},
   "outputs": [
    {
     "name": "stdout",
     "output_type": "stream",
     "text": [
      "6\n",
      "9\n",
      "12\n"
     ]
    }
   ],
   "source": [
    "## 2. 누적합 방식\n",
    "\n",
    "a = [0, 1, 3, 6, 10, 15]\n",
    "# 6-0\n",
    "# 10-1\n",
    "# 15-3\n",
    "\n",
    "# 6, 9, 12\n",
    "print(a[3]-a[0])\n",
    "print(a[4]-a[1])\n",
    "print(a[5]-a[2])"
   ]
  },
  {
   "cell_type": "markdown",
   "metadata": {},
   "source": [
    "---\n",
    "### 시간 복잡도 logN (밑 : 2)"
   ]
  },
  {
   "cell_type": "markdown",
   "metadata": {},
   "source": [
    "이진검색\n",
    "- 조건 : 원소가 정렬되어 있는 상태\n",
    "- 원소가 8개일 경우 최대 3번 안에 검색 가능\n",
    "- log 8 < 3 < log 16 (원소 8개~ 15개까지 최대 3번 안에 검색 가능)"
   ]
  },
  {
   "cell_type": "markdown",
   "metadata": {},
   "source": [
    "---\n",
    "### 문자열 포함 여부 검사하기\n",
    "- two pointer 활용"
   ]
  },
  {
   "cell_type": "code",
   "execution_count": 31,
   "metadata": {},
   "outputs": [
    {
     "name": "stdout",
     "output_type": "stream",
     "text": [
      "6\n"
     ]
    }
   ],
   "source": [
    "t = 'hello world' # text\n",
    "p = 'wor'         # target pattern\n",
    "\n",
    "def find_word(p, t):\n",
    "    N = len(t)\n",
    "    M = len(p)\n",
    "\n",
    "    for i in range(N-M+1):\n",
    "        cnt = 0\n",
    "        for j in range(M):\n",
    "            if t[i+j] == p[j]:\n",
    "                cnt += 1\n",
    "            else:\n",
    "                break\n",
    "\n",
    "        if cnt == M:\n",
    "            return i\n",
    "\n",
    "    return '못찾았음'\n",
    "\n",
    "print(find_word(p, t))"
   ]
  }
 ],
 "metadata": {
  "kernelspec": {
   "display_name": "base",
   "language": "python",
   "name": "python3"
  },
  "language_info": {
   "codemirror_mode": {
    "name": "ipython",
    "version": 3
   },
   "file_extension": ".py",
   "mimetype": "text/x-python",
   "name": "python",
   "nbconvert_exporter": "python",
   "pygments_lexer": "ipython3",
   "version": "3.10.9"
  },
  "orig_nbformat": 4
 },
 "nbformat": 4,
 "nbformat_minor": 2
}
