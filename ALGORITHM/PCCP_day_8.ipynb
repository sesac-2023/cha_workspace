{
 "cells": [
  {
   "cell_type": "markdown",
   "metadata": {},
   "source": [
    "## 재귀 DFS"
   ]
  },
  {
   "cell_type": "code",
   "execution_count": 15,
   "metadata": {},
   "outputs": [
    {
     "name": "stdout",
     "output_type": "stream",
     "text": [
      "2\n",
      "13\n"
     ]
    }
   ],
   "source": [
    "# N*N크기의 배열이 주어졌을때 1의 개수는 몇개인지 세어보기 dfs를 이용해서\n",
    "# 하나의 시작 1로 부터 붙어져 있는 연속된 1의 개수 세어보기 => 2, 13이 답이 됨.\n",
    "# 7\n",
    "# 0000011\n",
    "# 0000000\n",
    "# 0011100\n",
    "# 0010111\n",
    "# 0110010\n",
    "# 0011100\n",
    "# 0000000\n",
    "# 방향잡기(상,우,하,좌)\n",
    "dr = [-1,0,1,0]\n",
    "dc = [0,1,0,-1]\n",
    "\n",
    "# 행과 열의 좌표가 들어옴\n",
    "def DFS(r, c):\n",
    "    global cnt\n",
    "    # 해당 arr[r][c] 자리값이 1이므로 방문체크와 동시에 카운트를 1증가\n",
    "    arr[r][c] = 0\n",
    "    cnt += 1\n",
    "    # 4방 탐색\n",
    "    for i in range(4):\n",
    "        # 새로운 좌표값을 활용\n",
    "        nr = r + dr[i]\n",
    "        nc = c + dc[i]\n",
    "\n",
    "        # 새로운 좌표값을 활용한 범위검사\n",
    "        # 범위를 벗어나면 다른 방향을 탐색\n",
    "        # if 0<=nr<N and 0<=nc<N: 조건도 가능(파이썬에서만)\n",
    "        if nr<0 or nr>= N or nc <0 or nc>=N:\n",
    "            continue\n",
    "        # 이미 방문을 했어도 종료(이것이 없으면 무한으로 방문)\n",
    "        # 이 아래 조건을 위에 한꺼번에 쓸거면 단축평가 오른쪽엔 가능함 근데 이거 따로쓸거면 맵 제한조건보다 위에 두면 조짐. \n",
    "        if arr[nr][nc] == 0:\n",
    "            continue\n",
    "        # 걸러낼 조건을 모두 걸러내면 재귀가 가능\n",
    "        DFS(nr, nc)  # 또 한 뎁스 들어가라!!\n",
    "\n",
    "N = int(input())\n",
    "arr = [list(map(int, input())) for _ in range(N)]  # 행의 길이만큼 만들어준다\n",
    "\n",
    "# 입력이 끝났으면 처음 시작 위치 찾기\n",
    "for i in range(N):  # 행우선순회 하면서 전부다 보되\n",
    "    for j in range(N):\n",
    "        if arr[i][j] == 1:  # 그자리가 1이야?\n",
    "            cnt = 0  # prep 하고\n",
    "            DFS(i, j)  # dfs 해!\n",
    "            print(cnt)"
   ]
  },
  {
   "cell_type": "code",
   "execution_count": 8,
   "metadata": {},
   "outputs": [
    {
     "name": "stdout",
     "output_type": "stream",
     "text": [
      "0 0 0 0 0 1 2\n",
      "0 0 0 0 0 0 0\n",
      "0 0 1 2 3 0 0\n",
      "0 0 2 0 4 5 6\n",
      "0 4 3 0 0 6 0\n",
      "0 0 4 5 6 0 0\n",
      "0 0 0 0 0 0 0\n"
     ]
    }
   ],
   "source": [
    "dr = [0, 0, 1, -1]\n",
    "dc = [1, -1, 0, 0]\n",
    "\n",
    "\n",
    "def BFS(r, c):\n",
    "    # Q를 초기화\n",
    "    Q = []\n",
    "    Q.append((r, c))\n",
    "    dist[r][c] = 1\n",
    "    # Q에 요소가 존재할때까지만 돌 것(빈 컨테이너가 되면 멈춰버린다)\n",
    "    while Q:\n",
    "        curr_r, curr_c = Q.pop(0)\n",
    "        # 4방향탐색\n",
    "        for i in range(4):\n",
    "            nr = curr_r + dr[i]\n",
    "            nc = curr_c + dc[i]\n",
    "            # 범위를 벗어나면 다른방향 탐색\n",
    "            if nr < 0 or nr >= N or nc < 0 or nc >= N: continue\n",
    "            # 갈 수 없는 자리거나 이미 방문한 경우\n",
    "            if arr[nr][nc] == 0 or dist[nr][nc] != 0: continue\n",
    "\n",
    "            Q.append((nr, nc))\n",
    "            dist[nr][nc] = dist[curr_r][curr_c] + 1\n",
    "\n",
    "\n",
    "N = int(input())\n",
    "arr = [list(map(int, input())) for _ in range(N)]  # 행의 길이만큼 만들어준다\n",
    "dist = [[0]*N for _ in range(N)]\n",
    "# 입력이 끝났으면 처음 시작 위치 찾기\n",
    "for i in range(N):\n",
    "    for j in range(N):\n",
    "        if arr[i][j] == 1 and dist[i][j] == 0:\n",
    "            BFS(i, j)\n",
    "\n",
    "for d in dist: # 이 부분을 프린트해서 찍어봅니다!\n",
    "    print(*d)\n",
    "\n",
    "# 7\n",
    "# 0000011\n",
    "# 0000000\n",
    "# 0011100\n",
    "# 0010111\n",
    "# 0110010\n",
    "# 0011100\n",
    "# 0000000"
   ]
  },
  {
   "cell_type": "markdown",
   "metadata": {},
   "source": [
    "- 2차원 리스트 받기"
   ]
  },
  {
   "cell_type": "code",
   "execution_count": 1,
   "metadata": {},
   "outputs": [
    {
     "name": "stdout",
     "output_type": "stream",
     "text": [
      "[[1, 2, 3], [4, 5, 6], [7, 8, 9]] <class 'list'>\n"
     ]
    }
   ],
   "source": [
    "# 1 2 3 => 1 2 3 을 입력후 엔터\n",
    "# 4 5 6 => 그다음 4 5 6 입력후 엔터\n",
    "# 7 8 9 => 그다음 7 8 9 입력후 엔터\n",
    "\n",
    "nums_matrix = [list(map(int, input().split())) for _ in range(3)]\n",
    "print(nums_matrix, type(nums_matrix))\n",
    "# [[1, 2, 3], [4, 5, 6], [7, 8, 9]] <class 'list'>"
   ]
  },
  {
   "cell_type": "code",
   "execution_count": 14,
   "metadata": {},
   "outputs": [
    {
     "name": "stdout",
     "output_type": "stream",
     "text": [
      "<__main__.Stack object at 0x0000013D95D584F0>\n",
      "alex\n",
      "<__main__.Stack object at 0x0000013D95D584F0>\n"
     ]
    }
   ],
   "source": [
    "class Stack:\n",
    "    def __init__(self,n):\n",
    "        self.top = -1\n",
    "        self.stack = [0]*n\n",
    "\n",
    "    def push(self,data):\n",
    "        if self.top == len(self.stack) - 1:\n",
    "            return None\n",
    "        self.top += 1\n",
    "        self.stack[self.top] = data\n",
    "\n",
    "    def pop(self):\n",
    "        if self.top == -1:\n",
    "            return None\n",
    "        self.top -= 1\n",
    "        return self.stack[self.top+1]\n",
    "\n",
    "my_stack = Stack(10)\n",
    "my_stack.push('alex')\n",
    "print(my_stack)\n",
    "print(my_stack.pop())\n",
    "print(my_stack)"
   ]
  }
 ],
 "metadata": {
  "kernelspec": {
   "display_name": "base",
   "language": "python",
   "name": "python3"
  },
  "language_info": {
   "codemirror_mode": {
    "name": "ipython",
    "version": 3
   },
   "file_extension": ".py",
   "mimetype": "text/x-python",
   "name": "python",
   "nbconvert_exporter": "python",
   "pygments_lexer": "ipython3",
   "version": "3.10.9"
  },
  "orig_nbformat": 4
 },
 "nbformat": 4,
 "nbformat_minor": 2
}
