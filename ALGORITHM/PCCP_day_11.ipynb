{
 "cells": [
  {
   "cell_type": "markdown",
   "metadata": {},
   "source": [
    "## 조합"
   ]
  },
  {
   "cell_type": "code",
   "execution_count": 1,
   "metadata": {},
   "outputs": [
    {
     "name": "stdout",
     "output_type": "stream",
     "text": [
      "A B\n",
      "A C\n",
      "B C\n",
      "A A\n",
      "A B\n",
      "A C\n",
      "B B\n",
      "B C\n",
      "C C\n"
     ]
    }
   ],
   "source": [
    "# 그냥 조합 2개뽑기\n",
    "arr = ['A', 'B', 'C']\n",
    "for i in range(3):\n",
    "    for j in range(i+1, 3):\n",
    "        print(arr[i], arr[j])\n",
    "\n",
    "# 중복조합 2개뽑기\n",
    "arr = ['A', 'B', 'C']\n",
    "for i in range(3):\n",
    "    for j in range(i, 3):\n",
    "        print(arr[i], arr[j])"
   ]
  },
  {
   "cell_type": "markdown",
   "metadata": {},
   "source": [
    "- 재귀 조합"
   ]
  },
  {
   "cell_type": "code",
   "execution_count": 4,
   "metadata": {},
   "outputs": [
    {
     "name": "stdout",
     "output_type": "stream",
     "text": [
      "['A', 'B', 'C']\n",
      "['A', 'B', 'D']\n",
      "['A', 'B', 'E']\n",
      "['A', 'C', 'D']\n",
      "['A', 'C', 'E']\n",
      "['A', 'D', 'E']\n",
      "['B', 'C', 'D']\n",
      "['B', 'C', 'E']\n",
      "['B', 'D', 'E']\n",
      "['C', 'D', 'E']\n"
     ]
    }
   ],
   "source": [
    "# 5C3\n",
    "arr = ['A', 'B', 'C', 'D', 'E']\n",
    "sel = [0, 0, 0]\n",
    "\n",
    "\n",
    "def combination(idx, sidx):\n",
    "    if sidx == 3:  # sel 길이 범위를 벗어나면 sel이 확정됐다는 소리니까 print\n",
    "        print(sel)\n",
    "        return\n",
    "\n",
    "    if idx == 5:  # 얘도 벗어나지 않아야 함\n",
    "        return\n",
    "\n",
    "    sel[sidx] = arr[idx]  # sidx가 가리키는 위치에 idx가 가리키는 재료를 넣음\n",
    "    combination(idx+1, sidx+1)  # 첫번째로는 두개의 화살표가 동시에 오른쪽으로 가보고\n",
    "    combination(idx+1, sidx)  # 두번째로는 arr 쪽 화살표만 혼자 가봄.\n",
    "\n",
    "\n",
    "combination(0, 0)"
   ]
  },
  {
   "cell_type": "markdown",
   "metadata": {},
   "source": [
    "- 중복 조합"
   ]
  },
  {
   "cell_type": "code",
   "execution_count": 10,
   "metadata": {},
   "outputs": [
    {
     "name": "stdout",
     "output_type": "stream",
     "text": [
      "1 1 1 1\n",
      "1 1 1 2\n",
      "1 1 1 3\n",
      "1 1 2 2\n",
      "1 1 2 3\n",
      "1 1 3 3\n",
      "1 2 2 2\n",
      "1 2 2 3\n",
      "1 2 3 3\n",
      "1 3 3 3\n",
      "2 2 2 2\n",
      "2 2 2 3\n",
      "2 2 3 3\n",
      "2 3 3 3\n",
      "3 3 3 3\n"
     ]
    }
   ],
   "source": [
    "# 좀 더 일반화된 버전\n",
    "def combi_rep(idx, sidx):\n",
    "    if sidx == m:\n",
    "        print(*sel)\n",
    "        return\n",
    "\n",
    "    if idx == n:\n",
    "        return\n",
    "\n",
    "    sel[sidx] = arr[idx]\n",
    "    combi_rep(idx, sidx+1)\n",
    "    combi_rep(idx+1, sidx)\n",
    "\n",
    "\n",
    "n, m = map(int, input().split())\n",
    "arr = list(range(1, n+1))\n",
    "sel = [0]*m\n",
    "combi_rep(0, 0)"
   ]
  },
  {
   "cell_type": "markdown",
   "metadata": {},
   "source": [
    "---"
   ]
  },
  {
   "cell_type": "markdown",
   "metadata": {},
   "source": [
    "### 재귀함수로 부분집합 구하기"
   ]
  },
  {
   "cell_type": "code",
   "execution_count": 11,
   "metadata": {},
   "outputs": [
    {
     "name": "stdout",
     "output_type": "stream",
     "text": [
      "체크 배열은 다음과 같음:  0 0 0\n",
      "[]\n",
      "체크 배열은 다음과 같음:  0 0 1\n",
      "['C']\n",
      "체크 배열은 다음과 같음:  0 1 0\n",
      "['B']\n",
      "체크 배열은 다음과 같음:  0 1 1\n",
      "['B', 'C']\n",
      "체크 배열은 다음과 같음:  1 0 0\n",
      "['A']\n",
      "체크 배열은 다음과 같음:  1 0 1\n",
      "['A', 'C']\n",
      "체크 배열은 다음과 같음:  1 1 0\n",
      "['A', 'B']\n",
      "체크 배열은 다음과 같음:  1 1 1\n",
      "['A', 'B', 'C']\n"
     ]
    }
   ],
   "source": [
    "arr = ['A', 'B', 'C']  # 재료 리스트\n",
    "check = [0, 0, 0]  # 위치 체크용 리스트\n",
    "\n",
    "\n",
    "def powerset(idx):  # 재귀 깊이가 파라미터\n",
    "    if idx == 3:   # 마지막 깊이에 도달했다면?\n",
    "        print('체크 배열은 다음과 같음: ', *check)  # 이 당시의 check 배열 현황\n",
    "        result = []\n",
    "        for j in range(3):  # 체크 배열을 하나씩 보면서\n",
    "            if check[j] == 1:  # 살아있다면?\n",
    "                result.append(arr[j])  # 그 위치를 res에 담음\n",
    "        print(result)  # res 프린트!\n",
    "        return\n",
    "\n",
    "    check[idx] = 0\n",
    "    powerset(idx + 1)\n",
    "\n",
    "    check[idx] = 1\n",
    "    powerset(idx + 1)\n",
    "\n",
    "    # for i in range(2):\n",
    "    #     check[idx] = i\n",
    "    #     powerset(idx+1)\n",
    "\n",
    "powerset(0)"
   ]
  },
  {
   "cell_type": "markdown",
   "metadata": {},
   "source": [
    "---\n",
    "### N-Queen 문제\n",
    "https://swexpertacademy.com/main/code/problem/problemDetail.do?contestProbId=AV7GKs06AU0DFAXB"
   ]
  },
  {
   "cell_type": "code",
   "execution_count": 12,
   "metadata": {},
   "outputs": [
    {
     "name": "stdout",
     "output_type": "stream",
     "text": [
      "#1 10\n",
      "#2 10\n",
      "#3 10\n",
      "#4 10\n",
      "#5 10\n"
     ]
    }
   ],
   "source": [
    "T = int(input())\n",
    "\n",
    "for tc in range(1, T+1):\n",
    "    N = int(input())\n",
    "\n",
    "    answer = 0\n",
    "    visited = [[0] * N for _ in range(N)]\n",
    "\n",
    "\n",
    "    def queens_road(r, c, erase=False):  # 어떤 (r,c) 에서 시작하면 아래, 왼쪽대각선, 오른쪽 대각선을 방문체크 해야함\n",
    "        # 아래를 방문체크\n",
    "        for x in range(r, N):\n",
    "            if not erase:\n",
    "                visited[x][c] += 1\n",
    "            elif erase:  # 지우는 옵션이 True 라면 visited 그 depth 거는 초기화!!\n",
    "                visited[x][c] -= 1\n",
    "\n",
    "        # 아래 방향 왼쪽 대각선을 방문체크\n",
    "        column_left = c\n",
    "        for y in range(r, N):\n",
    "            if column_left < 0 or column_left >= N:\n",
    "                break\n",
    "            else:\n",
    "                if not erase:\n",
    "                    visited[y][column_left] += 1\n",
    "                elif erase:\n",
    "                    visited[y][column_left] -= 1\n",
    "                column_left -= 1\n",
    "\n",
    "        # 아래 방향 오른쪽 대각선을 방문체크\n",
    "        column_right = c\n",
    "        for z in range(r, N):\n",
    "            if column_right < 0 or column_right >= N:\n",
    "                break\n",
    "            else:\n",
    "                if not erase:\n",
    "                    visited[z][column_right] += 1\n",
    "                elif erase:\n",
    "                    visited[z][column_right] -= 1\n",
    "                column_right += 1\n",
    "\n",
    "\n",
    "    def deploy_queens(depth):  # 여기 depth 는 r c 에서의 r 과 같다고 생각\n",
    "        global answer\n",
    "\n",
    "        if depth == N:  # 이경우는 무사히 퀸들이 배치가 끝나서 최대 뎁스까지 내려간 경우\n",
    "            answer += 1\n",
    "            return\n",
    "\n",
    "        else:  # 최대 뎁스까지 도달하지 못한 경우라면?\n",
    "            for c in range(N):  # 각 뎁스는 N회 만큼 화살표 돌릴 기회를 가질 것.\n",
    "                if visited[depth][c] == 0:\n",
    "                    queens_road(depth, c)  # 아래, 대각선들 다 방문체크 하고\n",
    "                    deploy_queens(depth + 1)\n",
    "                    queens_road(depth, c, erase=True)  # depth 빠져나오면 방문 초기화.\n",
    "\n",
    "\n",
    "    deploy_queens(0)  # 맨 위부터 시작해야함\n",
    "    print('#{} {}'.format(tc, answer))"
   ]
  },
  {
   "cell_type": "code",
   "execution_count": 13,
   "metadata": {},
   "outputs": [
    {
     "name": "stdout",
     "output_type": "stream",
     "text": [
      "#1 10\n",
      "#2 10\n",
      "#3 10\n",
      "#4 10\n",
      "#5 10\n"
     ]
    }
   ],
   "source": [
    "T = int(input())\n",
    "\n",
    "for tc in range(1, T+1):\n",
    "    N = int(input())\n",
    "    arr = [0] * N\n",
    "    answer = 0\n",
    "\n",
    "    def deploy_queens(current_depth):\n",
    "        global answer\n",
    "        if current_depth == N:\n",
    "            answer += 1\n",
    "            return\n",
    "\n",
    "        for i in range(N):\n",
    "            arr[current_depth] = i\n",
    "            for check_depth in range(current_depth):\n",
    "                if arr[check_depth] == arr[current_depth]:  # 열 검사부터\n",
    "                    break\n",
    "                if (current_depth - check_depth) == abs(arr[current_depth] - arr[check_depth]):  # 대각선 검사\n",
    "                    break\n",
    "            else:\n",
    "                deploy_queens(current_depth+1)\n",
    "\n",
    "    deploy_queens(0)\n",
    "    print('#{} {}'.format(tc, answer))"
   ]
  }
 ],
 "metadata": {
  "kernelspec": {
   "display_name": "base",
   "language": "python",
   "name": "python3"
  },
  "language_info": {
   "codemirror_mode": {
    "name": "ipython",
    "version": 3
   },
   "file_extension": ".py",
   "mimetype": "text/x-python",
   "name": "python",
   "nbconvert_exporter": "python",
   "pygments_lexer": "ipython3",
   "version": "3.10.9"
  },
  "orig_nbformat": 4
 },
 "nbformat": 4,
 "nbformat_minor": 2
}
