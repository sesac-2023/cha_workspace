{
 "cells": [
  {
   "cell_type": "markdown",
   "metadata": {},
   "source": [
    "## 달팽이 문제\n",
    "https://swexpertacademy.com/main/code/problem/problemDetail.do?contestProbId=AV5PobmqAPoDFAUq&"
   ]
  },
  {
   "cell_type": "markdown",
   "metadata": {},
   "source": [
    "- 방향 전환을 통한 풀이"
   ]
  },
  {
   "cell_type": "code",
   "execution_count": null,
   "metadata": {},
   "outputs": [],
   "source": [
    "# 1954_달팽이숫자\n",
    "\n",
    "dr = (0, 1, 0, -1)\n",
    "dc = (1, 0, -1, 0)\n",
    "\n",
    "for tc in range(1, int(input()) + 1):\n",
    "    N = int(input())\n",
    "\n",
    "    snail = [[0] * N for _ in range(N)]\n",
    "    r, c, d = 0, 0, 0\n",
    "\n",
    "\t\t# 1부터 N**2까지 차례로 순회하며 할당합니다.\n",
    "    for num in range(1, N ** 2 + 1):\n",
    "\t\t\t\t# 해당 좌표에 해당 숫자를 할당합니다.\n",
    "        snail[r][c] = num\n",
    "\n",
    "\t\t\t\t# 기본적으로 기존 방향을 유지하며 다음 좌표를 설정합니다.\n",
    "        nr, nc = r + dr[d], c + dc[d]\n",
    "\n",
    "\t\t\t\t# 다음 좌표가 범위를 벗어나는 경우 또는 다음 좌표에 이미 숫자가 할당된 경우 방향을 전환합니다.\n",
    "        if nr < 0 or nr >= N or nc < 0 or nc >= N or snail[nr][nc] != 0:\n",
    "\t\t\t\t\t\t# 아래와 같이 방향 전환 좌표를 설정하면 3 => 0으로의 방향 전환이 가능합니다.\n",
    "            d = (d + 1) % 4\n",
    "            nr, nc = r + dr[d], c + dc[d]\n",
    "\n",
    "\t\t\t\t# 위에서 계산한 다음 좌표를 현재 좌표로 최신화한 후 다음 반복으로 넘어갑니다.\n",
    "        r, c = nr, nc\n",
    "\n",
    "    print(f'#{tc}')\n",
    "    for ans in snail:\n",
    "        print(*ans)"
   ]
  },
  {
   "cell_type": "markdown",
   "metadata": {},
   "source": [
    "- 방향 전환 횟수 및 각 방향에서 움직임 횟수에 대한 규칙을 통한 풀이  \n",
    "\n",
    "💡 아이디어\n",
    "N자리 달팽이 숫자에서 방향 전환은 (2N-1)번 일어나고,  \n",
    "각 방향에서 움직임 횟수는 N ~ N-1 ~ N-1 ~ N-2 ~ N-2 ~ … ~ 2 ~ 2 ~ 1 ~ 1 순으로 발생"
   ]
  },
  {
   "cell_type": "code",
   "execution_count": null,
   "metadata": {},
   "outputs": [],
   "source": [
    "dr = [0, 1, 0, -1]  #우하좌상\n",
    "dc = [1, 0, -1, 0]\n",
    "\n",
    "for tc in range(1, int(input())+1):\n",
    "    N = int(input())\n",
    "    snail = [[0 for _ in range(N)] for _ in range(N)]\n",
    "\n",
    "    d = 0  # 방향\n",
    "    num = 0  # 달팽이 안에 넣을 숫자\n",
    "    r = 0  # 행 좌표\n",
    "    c = -1  # 시작 cell은 0이여야하는데, 아래코드로 시작하면 (0, 1)에서 시작. 따라서 (0,0) 옆 왼쪽의 가상의 칸에서 시작한다\n",
    "\n",
    "    for i in range(N * 2, 1, -1):  # 방향바꾸기 횟수 2N-1\n",
    "        for _ in range(i // 2):  # 각 방향에서 움직임 횟수\n",
    "            num += 1\n",
    "            r += dr[d % 4]\n",
    "            c += dc[d % 4]\n",
    "            snail[r][c] = num\n",
    "        d += 1  # 방향 바꾸기\n",
    "\n",
    "    print(f'#{tc}')\n",
    "    for ans in snail:\n",
    "        print(*ans)"
   ]
  }
 ],
 "metadata": {
  "kernelspec": {
   "display_name": "base",
   "language": "python",
   "name": "python3"
  },
  "language_info": {
   "codemirror_mode": {
    "name": "ipython",
    "version": 3
   },
   "file_extension": ".py",
   "mimetype": "text/x-python",
   "name": "python",
   "nbconvert_exporter": "python",
   "pygments_lexer": "ipython3",
   "version": "3.10.9"
  },
  "orig_nbformat": 4
 },
 "nbformat": 4,
 "nbformat_minor": 2
}
