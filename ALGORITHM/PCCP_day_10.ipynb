{
 "cells": [
  {
   "cell_type": "markdown",
   "metadata": {},
   "source": [
    "# 순열"
   ]
  },
  {
   "cell_type": "markdown",
   "metadata": {},
   "source": [
    "- 포문 순열"
   ]
  },
  {
   "cell_type": "code",
   "execution_count": 2,
   "metadata": {},
   "outputs": [
    {
     "name": "stdout",
     "output_type": "stream",
     "text": [
      "['A', 'B', 'C']\n",
      "['A', 'C', 'B']\n",
      "['B', 'A', 'C']\n",
      "['B', 'C', 'A']\n",
      "['C', 'A', 'B']\n",
      "['C', 'B', 'A']\n"
     ]
    }
   ],
   "source": [
    "arr = ['A', 'B', 'C']\n",
    "\n",
    "for i in range(3):\n",
    "    for j in range(3):\n",
    "        for k in range(3):\n",
    "            if i != j and j != k and k != i:\n",
    "                print([arr[i], arr[j], arr[k]])"
   ]
  },
  {
   "cell_type": "markdown",
   "metadata": {},
   "source": [
    "- 재귀 순열"
   ]
  },
  {
   "cell_type": "code",
   "execution_count": 3,
   "metadata": {},
   "outputs": [
    {
     "name": "stdout",
     "output_type": "stream",
     "text": [
      "['A', 'B', 'C']\n",
      "['A', 'C', 'B']\n",
      "['B', 'A', 'C']\n",
      "['B', 'C', 'A']\n",
      "['C', 'A', 'B']\n",
      "['C', 'B', 'A']\n"
     ]
    }
   ],
   "source": [
    "arr = ['A', 'B', 'C']  # 재료 리스트\n",
    "sel = [0, 0, 0]  # 인형뽑기 selection\n",
    "check = [0, 0, 0]  # 뽑을지 말지 결정하는 리스트\n",
    "\n",
    "\n",
    "def perm(depth):  # 각자 뎁스에서는? \n",
    "    if depth == 3:  # 최고 뎁스에 도달했으면? # if depth == len(sel)\n",
    "        print(sel)  # print\n",
    "        return\n",
    "\n",
    "    for i in range(3):  # 3번의 화살표 떨어트릴 기회\n",
    "        if not check[i]:  # 각 기회 안에서 check를 보고 멈출 수 있는지 보고?\n",
    "            check[i] = 1  # 멈출 수 있다면 if 통과했으니까 자리 차지했다고 표시하고\n",
    "            sel[depth] = arr[i]  # 화살표가 떨어진 위치의 재료리스트\n",
    "            perm(depth+1)\n",
    "            check[i] = 0  # 돌아나오면서 다시 다음을 위해 초기화!! (중요)\n",
    "\n",
    "perm(0)"
   ]
  },
  {
   "cell_type": "markdown",
   "metadata": {},
   "source": [
    "- 중복 순열 (중복 조합과 비교하기)"
   ]
  },
  {
   "cell_type": "code",
   "execution_count": 4,
   "metadata": {},
   "outputs": [
    {
     "name": "stdout",
     "output_type": "stream",
     "text": [
      "A A A\n",
      "A A B\n",
      "A A C\n",
      "A B A\n",
      "A B B\n",
      "A B C\n",
      "A C A\n",
      "A C B\n",
      "A C C\n",
      "B A A\n",
      "B A B\n",
      "B A C\n",
      "B B A\n",
      "B B B\n",
      "B B C\n",
      "B C A\n",
      "B C B\n",
      "B C C\n",
      "C A A\n",
      "C A B\n",
      "C A C\n",
      "C B A\n",
      "C B B\n",
      "C B C\n",
      "C C A\n",
      "C C B\n",
      "C C C\n"
     ]
    }
   ],
   "source": [
    "arr = ['A', 'B', 'C']\n",
    "sel = [0, 0, 0]\n",
    "\n",
    "\n",
    "def perm_rep(depth):\n",
    "    if depth == 3:\n",
    "        print(*sel)\n",
    "        return\n",
    "\n",
    "    for i in range(3):\n",
    "        sel[depth] = arr[i]\n",
    "        perm_rep(depth+1)\n",
    "\n",
    "\n",
    "perm_rep(0)"
   ]
  },
  {
   "cell_type": "code",
   "execution_count": null,
   "metadata": {},
   "outputs": [],
   "source": []
  }
 ],
 "metadata": {
  "kernelspec": {
   "display_name": "base",
   "language": "python",
   "name": "python3"
  },
  "language_info": {
   "codemirror_mode": {
    "name": "ipython",
    "version": 3
   },
   "file_extension": ".py",
   "mimetype": "text/x-python",
   "name": "python",
   "nbconvert_exporter": "python",
   "pygments_lexer": "ipython3",
   "version": "3.10.9"
  },
  "orig_nbformat": 4
 },
 "nbformat": 4,
 "nbformat_minor": 2
}
