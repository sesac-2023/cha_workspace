{
 "cells": [
  {
   "cell_type": "markdown",
   "metadata": {},
   "source": [
    "## 입출력\n",
    "- map 함수"
   ]
  },
  {
   "cell_type": "code",
   "execution_count": 13,
   "metadata": {},
   "outputs": [
    {
     "name": "stdout",
     "output_type": "stream",
     "text": [
      "1 2 3 4 5 6 <class 'str'>\n"
     ]
    }
   ],
   "source": [
    "nums = input() \n",
    "print(nums, type(nums)) # 1 2 3 4 5 6 <class 'str'>\n",
    "# 사실은 nums에는 '1 2 3 4 5 6'의 스트링이 공백까지 포함한 상태로 들어가 버렸습니다."
   ]
  },
  {
   "cell_type": "code",
   "execution_count": 14,
   "metadata": {},
   "outputs": [
    {
     "name": "stdout",
     "output_type": "stream",
     "text": [
      "['1', '2', '3', '4', '5', '6'] <class 'list'>\n"
     ]
    }
   ],
   "source": [
    "nums = input().split()\n",
    "print(nums, type(nums)) # ['1', '2', '3', '4', '5', '6'] <class 'list'>"
   ]
  },
  {
   "cell_type": "code",
   "execution_count": 16,
   "metadata": {},
   "outputs": [
    {
     "name": "stdout",
     "output_type": "stream",
     "text": [
      "<map object at 0x00000211FBE01300> <class 'map'>\n"
     ]
    }
   ],
   "source": [
    "nums = map(int, input().split())\n",
    "print(nums, type(nums)) # <map object at 0x00000208B2D9F400> <class 'map'>"
   ]
  },
  {
   "cell_type": "code",
   "execution_count": 17,
   "metadata": {},
   "outputs": [
    {
     "name": "stdout",
     "output_type": "stream",
     "text": [
      "[1, 2, 3, 4, 5, 6] <class 'list'>\n"
     ]
    }
   ],
   "source": [
    "nums = list(map(int, input().split()))\n",
    "print(nums, type(nums)) # [1, 2, 3, 4, 5, 6] <class 'list'> "
   ]
  },
  {
   "cell_type": "markdown",
   "metadata": {},
   "source": [
    "---\n",
    "## 함수와 재귀함수"
   ]
  },
  {
   "cell_type": "markdown",
   "metadata": {},
   "source": [
    "### global variable / local variable\n",
    "- 함수 내에 있을 때 local variable\n",
    "- 함수 바깥에 있을 때 global variable\n",
    ".\n",
    "- 함수 내에서 global variabla 재할당 불가  \n",
    "    - 재할당이 필요할 경우 함수 내에 global 사용\n"
   ]
  },
  {
   "cell_type": "code",
   "execution_count": 2,
   "metadata": {},
   "outputs": [
    {
     "name": "stdout",
     "output_type": "stream",
     "text": [
      "2\n",
      "2\n"
     ]
    }
   ],
   "source": [
    "a= 10\n",
    "\n",
    "def my_func():\n",
    "    global a\n",
    "    a = 2\n",
    "    return a\n",
    "\n",
    "print(my_func())\n",
    "print(a)"
   ]
  },
  {
   "cell_type": "code",
   "execution_count": 3,
   "metadata": {},
   "outputs": [
    {
     "name": "stdout",
     "output_type": "stream",
     "text": [
      "2\n",
      "10\n"
     ]
    }
   ],
   "source": [
    "a= 10\n",
    "\n",
    "def my_func():\n",
    "    a = 2\n",
    "    return a\n",
    "\n",
    "print(my_func())\n",
    "print(a)"
   ]
  },
  {
   "cell_type": "markdown",
   "metadata": {},
   "source": [
    "- 재귀함수  \n",
    "함수 내에서 동일한 함수가 실행되는 함수"
   ]
  },
  {
   "cell_type": "code",
   "execution_count": 9,
   "metadata": {},
   "outputs": [
    {
     "name": "stdout",
     "output_type": "stream",
     "text": [
      "현재 0에 있습니다\n",
      "현재 1에 있습니다\n",
      "현재 2에 있습니다\n",
      "2에 있을 때 아직 실행이 안된 라인\n",
      "1에 있을 때 아직 실행이 안된 라인\n",
      "0에 있을 때 아직 실행이 안된 라인\n"
     ]
    }
   ],
   "source": [
    "def recur(depth):\n",
    "    if depth == 3:\n",
    "        return\n",
    "    print(f'현재 {depth}에 있습니다')\n",
    "    recur(depth + 1) # 블랙홀로 생각하기\n",
    "    print(f'{depth}에 있을 때 아직 실행이 안된 라인') # 실행하지 않은 기록을 시스템 스택에 넣기 -> 거꾸로 하나씩 꺼내서 실행하기\n",
    "\n",
    "recur(0) # -> 0-1-2-2-1-0"
   ]
  },
  {
   "cell_type": "markdown",
   "metadata": {},
   "source": [
    "- 피보나치 수열 - 재귀함수"
   ]
  },
  {
   "cell_type": "code",
   "execution_count": 8,
   "metadata": {},
   "outputs": [
    {
     "name": "stdout",
     "output_type": "stream",
     "text": [
      "3\n"
     ]
    }
   ],
   "source": [
    "def fibo(n):\n",
    "    if n < 2 : # 1은 더 쪼개지지 않음\n",
    "        return n\n",
    "    else:\n",
    "        return fibo(n-1) + fibo(n-2) # 재귀 호출 -> 블랙홀 두 개라고 생각하기 / 왼쪽 트리부터 먼저 계산\n",
    "    \n",
    "print(fibo(4))\n",
    "\n",
    "# 실행되지 않은 기록을 시스템 스택에 넣기 n= 4, f(2) - n=3, f(1), n=2, f(0) ..."
   ]
  },
  {
   "cell_type": "markdown",
   "metadata": {},
   "source": [
    "- 참고 - 메모이제이션"
   ]
  },
  {
   "cell_type": "code",
   "execution_count": 11,
   "metadata": {},
   "outputs": [
    {
     "name": "stdout",
     "output_type": "stream",
     "text": [
      "55\n"
     ]
    }
   ],
   "source": [
    "memo = [0, 1]\n",
    "\n",
    "def fibo(n):\n",
    "    if n >= 2 and n >= len(memo):\n",
    "        memo.append(fibo(n-1) + fibo(n-2))\n",
    "    return memo[n]\n",
    "\n",
    "print(fibo(10))"
   ]
  },
  {
   "cell_type": "markdown",
   "metadata": {},
   "source": [
    "- 이진 검색"
   ]
  },
  {
   "cell_type": "code",
   "execution_count": 12,
   "metadata": {},
   "outputs": [
    {
     "data": {
      "text/plain": [
       "11"
      ]
     },
     "execution_count": 12,
     "metadata": {},
     "output_type": "execute_result"
    }
   ],
   "source": [
    "nums = [1, 2, 3, 4, 5, 6, 7, 8, 9]\n",
    "\n",
    "def binary_search(low, high, target): # low와 high에 투포인터 활용\n",
    "    if low > high:\n",
    "        return '찾지 못함'\n",
    "\n",
    "    mid = (low + high) // 2\n",
    "    if target == nums[mid]:\n",
    "        return mid\n",
    "    elif target < nums[mid]:\n",
    "        return binary_search(low, mid-1, target)\n",
    "    elif target > nums[mid]:\n",
    "        return binary_search(mid+1, high, target)\n",
    "\n",
    "print(binary_search(0, len(nums)-1, 7))"
   ]
  }
 ],
 "metadata": {
  "kernelspec": {
   "display_name": "base",
   "language": "python",
   "name": "python3"
  },
  "language_info": {
   "codemirror_mode": {
    "name": "ipython",
    "version": 3
   },
   "file_extension": ".py",
   "mimetype": "text/x-python",
   "name": "python",
   "nbconvert_exporter": "python",
   "pygments_lexer": "ipython3",
   "version": "3.10.9"
  },
  "orig_nbformat": 4
 },
 "nbformat": 4,
 "nbformat_minor": 2
}
