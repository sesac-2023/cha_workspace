{
 "cells": [
  {
   "cell_type": "code",
   "execution_count": 2,
   "metadata": {},
   "outputs": [
    {
     "name": "stdout",
     "output_type": "stream",
     "text": [
      "200\n"
     ]
    }
   ],
   "source": [
    "import requests # python request\n",
    "# sample url\n",
    "URL = \"https://www.mccormick.northwestern.edu/computer-science/academics/courses/descriptions/337.html\"\n",
    "\n",
    "response = requests.get(URL) # requests -> get Function ( def get() )\n",
    "print(response.status_code)"
   ]
  },
  {
   "cell_type": "code",
   "execution_count": 3,
   "metadata": {},
   "outputs": [
    {
     "name": "stdout",
     "output_type": "stream",
     "text": [
      "<!DOCTYPE html>\n",
      "\n",
      "<html lang=\"en\" xmlns=\"http://www.w3.org/1999/xhtml\">\n",
      "<head>\n",
      "<meta charset=\"utf-8\"/>\n",
      "<meta content=\"IE=Edge\" http-equiv=\"X-UA-Compatible\"/>\n",
      "<meta content=\"width=device-width, initial-scale=1.0\" name=\"viewport\"/>\n",
      "<meta content=\"#571963\" name=\"theme-color\"/>\n",
      "<meta content=\"department\" name=\"sitetype\"/>\n",
      "<title>COMP_SCI 337: Intro to Natural Language Processing | Computer Science | Northwestern Engineering</title>\n",
      "<link href=\"https://www.mccormick.northwestern.edu/images/structure/favicon.png\" rel=\"icon\" type=\"image/png\"/>\n",
      "<link href=\"/css/normalize.css\" media=\"screen\" rel=\"stylesheet\"/>\n",
      "<link href=\"/css/jquery/jquery-slick.css\" media=\"screen\" rel=\"stylesheet\"/>\n",
      "<link href=\"/css/default.css\" media=\"all\" rel=\"stylesheet\"/>\n",
      "<link href=\"/css/layout.css\" media=\"screen\" rel=\"stylesheet\"/>\n",
      "<link href=\"/css/layout-print.css\" media=\"print\" rel=\"stylesheet\"/>\n",
      "<script src=\"//code.jquery.com/jquery-1.11.0.min.js\" type=\"text/javascript\"></script>\n",
      "<script src=\"//code.jquery.com/jquery-migrate-1.2.1.min.js\" type=\"text/javascript\"></script>\n",
      "<script src=\"/js/jquery/jquery-footable.min.js\" type=\"text/javascript\">\n",
      "</script>\n",
      "</head>\n",
      "<body class=\"no-right-sidebar\">\n",
      "<script xmlns:nuwc=\"NUWC\">\n",
      "            dataLayer = [{\n",
      "                'pageType' : 'general content, department-division site',\n",
      "                'pageProgramType' : 'none',\n",
      "                'academicAos' : '',\n",
      "                'academicDept':'',\n",
      "                'academicProg':'',\n",
      "                'academicUnit' : 'mccormick'}];\n",
      "        </script>\n",
      "<!-- Google Tag Manager -->\n",
      "<noscript><iframe height=\"0\" src=\"//www.googletagmanager.com/ns.html?id=GTM-KX6F23&gt;m_auth=wMILQr1-arU9JWeIZPlVAQ&gt;m_preview=env-1&gt;m_cookies_win=x\" style=\"display:none;visibility:hidden\" width=\"0\"></iframe></noscript>\n",
      "<script>(function(w,d,s,l,i){w[l]=w[l]||[];w[l].push({'gtm.start':\n",
      "new Date().getTime(),event:'gtm.js'});var f=d.getElementsByTagName(s)[0],\n",
      "j=d.createElement(s),dl=l!='dataLayer'?'&l='+l:'';j.async=true;j.src=\n",
      "'//www.googletagmanager.com/gtm.js?id='+i+dl+'&gtm_auth=wMILQr1-arU9JWeIZPlVAQ&gtm_preview=env-1&gtm_cookies_win=x';f.parentNode.insertBefore(j,f);\n",
      "})(window,document,'script','dataLayer','GTM-KX6F23');</script>\n",
      "<!-- End Google Tag Manager -->\n",
      "<header>\n",
      "<div id=\"northwestern-logo-wrapper-outer\">\n",
      "<div id=\"northwestern-logo-wrapper\">\n",
      "<a href=\"https://www.northwestern.edu\" id=\"northwestern-logo\" target=\"_blank\">\n",
      "<img alt=\"Northwestern University\" class=\"desktop\" src=\"https://www.mccormick.northwestern.edu/images/structure/sprites/northwestern-logo-global-nav.svg\"/>\n",
      "</a>\n",
      "<div class=\"dept-super\" id=\"super-nav\"><ul><li><a>Northwestern Engineering</a><span class=\"dropdown-arrow\"></span><ul><li><a href=\"/about/index.html\">About</a></li><li><a href=\"/academics/index.html\">Academics</a></li><li><a href=\"/research-faculty/index.html\">Research &amp; Faculty</a></li><li><a href=\"/offices-services/index.html\">Offices &amp; Services</a></li><hr/><li>\n",
      "                Information for:\n",
      "            </li><li><a href=\"/students/index.html\">Students</a></li><li><a href=\"/faculty-staff-resources/index.html\">Faculty &amp; Staff</a></li><li><a href=\"/alumni/index.html\">Alumni</a></li><li><a href=\"https://www.mccormick.northwestern.edu/corporate-engagement/index.html\">Companies</a></li><hr/><li><a href=\"/news-events/index.html\">News &amp; Events</a></li><li><a href=\"/contact/index.html\">Contact &amp; Visit</a></li></ul></li></ul></div>\n",
      "</div>\n",
      "</div>\n",
      "<div class=\"mid-dept\" id=\"mid-header\">\n",
      "<div class=\"header-container mid-header-grid\">\n",
      "<div>\n",
      "<a class=\"mccormick-header-logo\" href=\"https://www.mccormick.northwestern.edu\">\n",
      "<img alt=\"McCormick School of Engineering\" class=\"desktop\" src=\"https://www.mccormick.northwestern.edu/images/structure/engineering-logo.svg\"/>\n",
      "</a>\n",
      "<ul class=\"top-links\">\n",
      "<li><a href=\"/computer-science/resources/index.html\">Resources</a></li>\n",
      "<li><a href=\"/computer-science/careers/index.html\">Careers</a></li>\n",
      "<li><a href=\"/computer-science/students/index.html\">Students</a></li>\n",
      "<li><a href=\"/computer-science/diversity/index.html\">Diversity</a></li>\n",
      "</ul>\n",
      "</div>\n",
      "<div class=\"dept-row\">\n",
      "<h1><a href=\"https://www.mccormick.northwestern.edu/computer-science\">Computer Science</a></h1>\n",
      "<div class=\"hide-mobile\" id=\"search\">\n",
      "<div class=\"search-form group\">\n",
      "<form _lpchecked=\"1\" action=\"https://www.mccormick.northwestern.edu/search/\" method=\"get\" role=\"search\">\n",
      "<label class=\"hide-label\" for=\"q-desktop\">Search this site</label>\n",
      "<input id=\"q-desktop\" name=\"q\" placeholder=\"Search this site\" type=\"text\"/>\n",
      "<input name=\"sitetitle\" type=\"hidden\" value=\"Computer Science\"/>\n",
      "<input name=\"as_sitesearch\" type=\"hidden\" value=\"https://www.mccormick.northwestern.edu/computer-science\"/>\n",
      "<button type=\"submit\">\n",
      "<span class=\"hide-label\">Search</span>\n",
      "</button>\n",
      "</form>\n",
      "</div>\n",
      "</div>\n",
      "</div>\n",
      "</div>\n",
      "</div>\n",
      "<nav><ul class=\"main-nav header-container\"><li><a href=\"/computer-science/about/index.html\">About<span class=\"dropdown-arrow\"></span></a><div><ul><li><a href=\"/computer-science/about/index.html\">About the Department</a></li><li><a href=\"/computer-science/about/message-from-the-chair.html\">Message from the Chair</a></li></ul></div></li><li><a href=\"/computer-science/academics/index.html\">Academics<span class=\"dropdown-arrow\"></span></a><div><ul><li><a href=\"/computer-science/academics/index.html\">Academics</a></li><li><a href=\"/computer-science/academics/undergraduate/index.html\">Undergraduate </a></li><li><a href=\"/computer-science/academics/graduate/index.html\">Graduate</a></li><li><a href=\"/computer-science/academics/courses/index.html\">Courses</a></li></ul><div><span class=\"quick-link-title\">Quick Links</span><ul><li><a href=\"/computer-science/students/index.html\" target=\"\">Student Resources</a></li><li><a href=\"/computer-science/diversity/index.html\" target=\"\">Diversity</a></li><li><a href=\"/computer-science/diversity/bpc-plan.html\" target=\"\">Broadening Participation in Computing (BPC) Plan</a></li></ul></div></div></li><li><a href=\"/computer-science/research/index.html\">Research<span class=\"dropdown-arrow\"></span></a><div><ul><li><a href=\"/computer-science/research/index.html\">Research Overview</a></li><li><a href=\"/computer-science/research/areas/index.html\">Research Areas</a></li><li><a href=\"/computer-science/research/groups-labs.html\">Groups &amp; Labs</a></li><li><a href=\"/computer-science/research/affiliated-centers-institutes.html\">Affiliated Centers &amp; Institutes</a></li><li><a href=\"/computer-science/research/industry-partnerships/index.html\">Industry Partnerships</a></li><li><a href=\"/computer-science/research/tech-reports/index.html\">Tech Reports</a></li><li><a href=\"/computer-science/research/machines.html\">Machines</a></li></ul></div></li><li><a href=\"/computer-science/cs-plus-x/index.html\">CS+X<span class=\"dropdown-arrow\"></span></a><div style=\"padding-top:0px;\"><div class=\"contains-media\"><div class=\"media\"><a class=\"modal-trigger\" href=\"https://youtu.be/dNo_BVzNb28\" target=\"_blank\"><img alt=\"Power of CS Video\" src=\"/computer-science/images/homepage/power-of-cs-callout.jpg\"/></a></div><span class=\"menu-title\">The Power of CS</span><p>By bringing the power of computer science to fields such as journalism, education, robotics, and art, Northwestern University computer scientists are exponentially accelerating research and innovation. Watch our video above or learn more at the link below.</p><a class=\"media-cta modal-trigger\" href=\"/computer-science/cs-plus-x/index.html\" target=\"\">Learn more</a></div></div></li><li><a href=\"/computer-science/people/index.html\">People<span class=\"dropdown-arrow\"></span></a><div><ul><li><a href=\"/computer-science/people/faculty/index.html\">Faculty</a></li><li><a href=\"/computer-science/people/staff.html\">Staff</a></li><li><a href=\"/computer-science/people/postdoctoral-fellows.html\">Postdoctoral Fellows</a></li><li><a href=\"/computer-science/people/phd-students/index.html\">PhD Students</a></li><li><a href=\"/computer-science/people/outgoing-phds-postdocs.html\">Outgoing PhDs and Postdocs</a></li><li><a href=\"/computer-science/people/visiting-scholars.html\">Visiting Scholars</a></li></ul><div><span class=\"quick-link-title\">Quick Links</span><ul><li><a href=\"/computer-science/diversity/cs-faculty-diversity-committee.html\" target=\"\">CS Faculty Diversity Committee</a></li></ul></div></div></li><li><a href=\"/computer-science/news-events/index.html\">News &amp; Events<span class=\"dropdown-arrow\"></span></a><div><ul><li><a href=\"/computer-science/news-events/news/index.html\">News</a></li><li><a href=\"/computer-science/news-events/newsletters/index.html\">Newsletters</a></li><li><a href=\"/computer-science/news-events/events/index.php\">All Public Events</a></li><li><a href=\"/computer-science/news-events/seminars-workshops-talks/index.html\">Seminars, Workshops, &amp; Talks</a></li><li><a href=\"/computer-science/news-events/honors-awards/index.html\">Honors and Awards</a></li></ul></div></li><li><a href=\"/computer-science/contact/index.html\">Contact</a></li></ul></nav>\n",
      "<div class=\"mobile-bar\">\n",
      "<div class=\"\" id=\"mobile-search\">\n",
      "<div class=\"search-form group\">\n",
      "<form _lpchecked=\"1\" action=\"https://www.mccormick.northwestern.edu/search/index.php\" method=\"get\" role=\"search\">\n",
      "<label class=\"hide-label\" for=\"q-mobile\">Search this site</label>\n",
      "<input id=\"q-mobile\" name=\"q\" placeholder=\"Search this site\" type=\"text\"/>\n",
      "<input name=\"sitetitle\" type=\"hidden\" value=\"Computer Science\"/>\n",
      "<input name=\"as_sitesearch\" type=\"hidden\" value=\"https://www.mccormick.northwestern.edu/computer-science\"/>\n",
      "<button type=\"submit\">\n",
      "<span class=\"hide-label\">Search</span>\n",
      "</button>\n",
      "</form>\n",
      "</div>\n",
      "</div>\n",
      "<a id=\"mobile-nav-link\">\n",
      "<span class=\"hide-label\">Menu</span>\n",
      "</a>\n",
      "</div>\n",
      "<div id=\"main-mobile-nav\"><ul><li><a href=\"/computer-science/about/index.html\">About</a><span class=\"dropdown-arrow\"><a aria-haspopup=\"true\" href=\"#\" role=\"button\"><span>Collapse</span>About Submenu\n",
      "                    </a></span><ul><li><a href=\"/computer-science/about/index.html\">About the Department</a></li><li><a href=\"/computer-science/about/message-from-the-chair.html\">Message from the Chair</a></li></ul></li><li><a href=\"/computer-science/academics/index.html\">Academics</a><span class=\"dropdown-arrow\"><a aria-haspopup=\"true\" href=\"#\" role=\"button\"><span>Collapse</span>Academics Submenu\n",
      "                    </a></span><ul><li><a href=\"/computer-science/academics/index.html\">Academics</a></li><li><a href=\"/computer-science/academics/undergraduate/index.html\">Undergraduate </a><span class=\"dropdown-arrow\"><a aria-haspopup=\"true\" href=\"#\" role=\"button\"><span>Collapse</span>Undergraduate  Submenu\n",
      "                    </a></span><ul><li><a href=\"/computer-science/academics/undergraduate/bachelors/index.html\">Computer Science Major (BS/BA)</a></li><li><a href=\"/computer-science/academics/undergraduate/cs-minor/index.html\">Computer Science Minor</a></li><li><a href=\"/computer-science/academics/undergraduate/dse-minor/index.html\">Data Science and Engineering Minor</a></li><li><a href=\"/computer-science/academics/undergraduate/combined-bs-ba-ms-program.html\">Combined BS (or BA)/MS Degree Program</a></li><li><a href=\"/computer-science/academics/undergraduate/introductory-courses/index.html\">Intro Courses</a></li><li><a href=\"/computer-science/academics/undergraduate/special-programs.html\">Special Programs &amp; Opportunities</a></li><li><a href=\"/computer-science/academics/undergraduate/groups-organizations.html\">Student Groups &amp; Organizations</a></li><li><a href=\"/computer-science/academics/undergraduate/forms-documents.html\">Advising Resources for Current Students</a></li><li><a href=\"/computer-science/academics/undergraduate/index.html\">Undergraduate Programs</a></li><li><a href=\"/computer-science/academics/undergraduate/undergraduate-research.html\">Undergraduate Research</a></li><li><a href=\"/computer-science/academics/undergraduate/senior-thesis.html\">Senior Thesis</a></li><li><a href=\"/computer-science/academics/undergraduate/peer-mentor-program/index.html\">Peer Mentors</a></li></ul></li><li><a href=\"/computer-science/academics/graduate/index.html\">Graduate</a><span class=\"dropdown-arrow\"><a aria-haspopup=\"true\" href=\"#\" role=\"button\"><span>Collapse</span>Graduate Submenu\n",
      "                    </a></span><ul><li><a href=\"/computer-science/academics/graduate/masters/index.html\">MS in Computer Science</a><span class=\"dropdown-arrow\"><a aria-haspopup=\"true\" href=\"#\" role=\"button\"><span>Collapse</span>MS in Computer Science Submenu\n",
      "                    </a></span><ul><li><a href=\"/computer-science/academics/graduate/masters/curriculum.html\">Curriculum &amp; Requirements</a></li><li><a href=\"/computer-science/academics/graduate/masters/index.html\">MS in Computer Science</a></li></ul></li><li><a href=\"/computer-science/academics/graduate/phd/index.html\">PhD in Computer Science</a><span class=\"dropdown-arrow\"><a aria-haspopup=\"true\" href=\"#\" role=\"button\"><span>Collapse</span>PhD in Computer Science Submenu\n",
      "                    </a></span><ul><li><a href=\"/computer-science/academics/graduate/phd/curriculum.html\">Curriculum &amp; Requirements</a></li><li><a href=\"/computer-science/academics/graduate/phd/index.html\">PhD in Computer Science</a></li></ul></li><li><a href=\"/computer-science/academics/graduate/admissions/index.html\">Admissions</a><span class=\"dropdown-arrow\"><a aria-haspopup=\"true\" href=\"#\" role=\"button\"><span>Collapse</span>Admissions Submenu\n",
      "                    </a></span><ul><li><a href=\"/computer-science/academics/graduate/admissions/index.html\">Admissions</a></li><li><a href=\"/computer-science/academics/graduate/admissions/faq.html\">Admissions FAQ</a></li></ul></li><li><a href=\"/computer-science/academics/graduate/financial-aid.html\">Financial Aid</a></li><li><a href=\"/computer-science/academics/graduate/groups-organizations.html\">Student Groups &amp; Organizations</a></li><li><a href=\"/computer-science/academics/graduate/forms-documents.html\">Graduate Program Forms &amp; Documents</a></li><li><a href=\"/computer-science/academics/graduate/announce-deadlines.html\">Announcements and Deadlines</a></li><li><a href=\"/computer-science/academics/graduate/index.html\">Graduate Programs</a></li></ul></li><li><a href=\"/computer-science/academics/courses/index.html\">Courses</a><span class=\"dropdown-arrow\"><a aria-haspopup=\"true\" href=\"#\" role=\"button\"><span>Collapse</span>Courses Submenu\n",
      "                    </a></span></li></ul></li><li><a href=\"/computer-science/research/index.html\">Research</a><span class=\"dropdown-arrow\"><a aria-haspopup=\"true\" href=\"#\" role=\"button\"><span>Collapse</span>Research Submenu\n",
      "                    </a></span><ul><li><a href=\"/computer-science/research/index.html\">Research Overview</a></li><li><a href=\"/computer-science/research/areas/index.html\">Research Areas</a><span class=\"dropdown-arrow\"><a aria-haspopup=\"true\" href=\"#\" role=\"button\"><span>Collapse</span>Research Areas Submenu\n",
      "                    </a></span><ul><li><a href=\"/computer-science/research/areas/index.html\">Research Areas</a></li><li><a href=\"/computer-science/research/areas/systems-networking.html\">Systems and Networking</a></li><li><a href=\"/computer-science/research/areas/security-privacy.html\">Security and Privacy</a></li><li><a href=\"/computer-science/research/areas/programming-languages.html\">Programming Languages</a></li><li><a href=\"/computer-science/research/areas/theory.html\">Theory</a></li><li><a href=\"/computer-science/research/areas/artificial-intelligence.html\">Artificial Intelligence</a></li><li><a href=\"/computer-science/research/areas/human-computer-interaction.html\">Human-Computer Interaction</a></li><li><a href=\"/computer-science/research/areas/vision-graphics.html\">Vision and Graphics</a></li><li><a href=\"/computer-science/research/areas/robotics.html\">Robotics</a></li></ul></li><li><a href=\"/computer-science/research/groups-labs.html\">Groups &amp; Labs</a></li><li><a href=\"/computer-science/research/affiliated-centers-institutes.html\">Affiliated Centers &amp; Institutes</a></li><li><a href=\"/computer-science/research/industry-partnerships/index.html\">Industry Partnerships</a><span class=\"dropdown-arrow\"><a aria-haspopup=\"true\" href=\"#\" role=\"button\"><span>Collapse</span>Industry Partnerships Submenu\n",
      "                    </a></span><ul><li><a href=\"/computer-science/research/industry-partnerships/index.html\">Industry Partnerships</a></li><li><a href=\"/computer-science/research/industry-partnerships/adobe-research-partnership.html\">Adobe Research Partnership</a></li><li><a href=\"/computer-science/research/industry-partnerships/casmi.html\">Center for Advancing Safety of Machine Intelligence</a></li></ul></li><li><a href=\"/computer-science/research/tech-reports/index.html\">Tech Reports</a><span class=\"dropdown-arrow\"><a aria-haspopup=\"true\" href=\"#\" role=\"button\"><span>Collapse</span>Tech Reports Submenu\n",
      "                    </a></span><ul><li><a href=\"/computer-science/research/tech-reports/submit-tech-report.html\">Submit a Tech Report</a></li><li><a href=\"/computer-science/research/tech-reports/index.html\">Tech Reports </a></li><li><a href=\"/computer-science/research/tech-reports/post-2000.html\">Post-2000</a></li><li><a href=\"/computer-science/research/tech-reports/pre-1999.html\">Pre-1999</a></li></ul></li><li><a href=\"/computer-science/research/machines.html\">Machines</a></li></ul></li><li><a href=\"/computer-science/cs-plus-x/index.html\">CS+X</a></li><li><a href=\"/computer-science/people/index.html\">People</a><span class=\"dropdown-arrow\"><a aria-haspopup=\"true\" href=\"#\" role=\"button\"><span>Collapse</span>People Submenu\n",
      "                    </a></span><ul><li><a href=\"/computer-science/people/faculty/index.html\">Faculty</a><span class=\"dropdown-arrow\"><a aria-haspopup=\"true\" href=\"#\" role=\"button\"><span>Collapse</span>Faculty Submenu\n",
      "                    </a></span><ul><li><a href=\"/computer-science/people/faculty/index.html\">Faculty</a></li><li><a href=\"/computer-science/people/faculty/faculty-of-instruction.html\">Faculty of Instruction</a></li><li><a href=\"/computer-science/people/faculty/affiliated.html\">Affiliated Faculty</a></li><li><a href=\"/computer-science/people/faculty/adjunct-faculty.html\">Adjunct Faculty</a></li></ul></li><li><a href=\"/computer-science/people/staff.html\">Staff</a></li><li><a href=\"/computer-science/people/postdoctoral-fellows.html\">Postdoctoral Fellows</a></li><li><a href=\"/computer-science/people/phd-students/index.html\">PhD Students</a><span class=\"dropdown-arrow\"><a aria-haspopup=\"true\" href=\"#\" role=\"button\"><span>Collapse</span>PhD Students Submenu\n",
      "                    </a></span><ul><li><a href=\"/computer-science/people/phd-students/a-k.html\">A - K</a></li><li><a href=\"/computer-science/people/phd-students/index.html\">PhD Students</a></li><li><a href=\"/computer-science/people/phd-students/l-r.html\">L - R</a></li><li><a href=\"/computer-science/people/phd-students/s-z.html\">S - Z</a></li></ul></li><li><a href=\"/computer-science/people/outgoing-phds-postdocs.html\">Outgoing PhDs and Postdocs</a></li><li><a href=\"/computer-science/people/visiting-scholars.html\">Visiting Scholars</a></li></ul></li><li><a href=\"/computer-science/news-events/index.html\">News &amp; Events</a><span class=\"dropdown-arrow\"><a aria-haspopup=\"true\" href=\"#\" role=\"button\"><span>Collapse</span>News &amp; Events Submenu\n",
      "                    </a></span><ul><li><a href=\"/computer-science/news-events/news/index.html\">News</a><span class=\"dropdown-arrow\"><a aria-haspopup=\"true\" href=\"#\" role=\"button\"><span>Collapse</span>News Submenu\n",
      "                    </a></span><ul><li><a href=\"/computer-science/news-events/news/index.html\">All News</a></li><li><a href=\"/computer-science/news-events/news/archive.html\">News Archive</a></li></ul></li><li><a href=\"/computer-science/news-events/newsletters/index.html\">Newsletters</a><span class=\"dropdown-arrow\"><a aria-haspopup=\"true\" href=\"#\" role=\"button\"><span>Collapse</span>Newsletters Submenu\n",
      "                    </a></span><ul><li><a href=\"/computer-science/news-events/newsletters/index.html\">Newsletter</a></li><li><a href=\"/computer-science/news-events/newsletters/weekly-bulletin.html\">Weekly Bulletin</a></li><li><a href=\"/computer-science/news-events/newsletters/monthly-student-newsletter.html\">Monthly Student Newsletter</a></li></ul></li><li><a href=\"/computer-science/news-events/events/index.html\">All Public Events</a></li><li><a href=\"/computer-science/news-events/seminars-workshops-talks/index.html\">Seminars, Workshops, &amp; Talks</a><span class=\"dropdown-arrow\"><a aria-haspopup=\"true\" href=\"#\" role=\"button\"><span>Collapse</span>Seminars, Workshops, &amp; Talks Submenu\n",
      "                    </a></span><ul><li><a href=\"/computer-science/news-events/seminars-workshops-talks/index.html\">Seminars, Workshops, &amp; Talks</a></li><li><a href=\"/computer-science/news-events/seminars-workshops-talks/distinguished-lecture-series.html\">Distinguished Lecture Series</a></li><li><a href=\"/computer-science/news-events/seminars-workshops-talks/cs-colloquium-series.html\">CS Colloquium Series</a></li><li><a href=\"/computer-science/news-events/seminars-workshops-talks/csx-events.html\">CS + X Events</a></li><li><a href=\"/computer-science/news-events/seminars-workshops-talks/tech-talk-series.html\">Tech Talk Series</a></li></ul></li><li><a href=\"/computer-science/news-events/honors-awards/index.html\">Honors and Awards</a><span class=\"dropdown-arrow\"><a aria-haspopup=\"true\" href=\"#\" role=\"button\"><span>Collapse</span>Honors and Awards Submenu\n",
      "                    </a></span><ul><li><a href=\"/computer-science/news-events/honors-awards/index.html\">Honors &amp; Awards</a></li><li><a href=\"/computer-science/news-events/honors-awards/external-faculty-awards.html\">External Faculty Awards</a></li><li><a href=\"/computer-science/news-events/honors-awards/university-awards.html\">University Awards</a></li><li><a href=\"/computer-science/news-events/honors-awards/department-awards.html\">Department Awards</a></li></ul></li></ul></li><li><a href=\"/computer-science/contact/index.html\">Contact</a></li><div id=\"mobile-nav-bottom\"><ul><li><a href=\"/computer-science/resources/index.html\">Resources</a><span class=\"dropdown-arrow\"><a aria-haspopup=\"true\" href=\"#\" role=\"button\"><span>Collapse</span>Resources Submenu\n",
      "                    </a></span><ul><li><a href=\"/computer-science/resources/index.html\">RESOURCES</a></li><li><a href=\"/computer-science/resources/travel-reimbursement-procedures.html\">Travel</a></li></ul></li><li><a href=\"/computer-science/careers/index.html\">Careers</a></li><li><a href=\"/computer-science/students/index.html\">Students</a><span class=\"dropdown-arrow\"><a aria-haspopup=\"true\" href=\"#\" role=\"button\"><span>Collapse</span>Student Resources Submenu\n",
      "                    </a></span><ul><li><a href=\"/computer-science/students/index.html\">Student Resources</a></li><li><a href=\"/computer-science/students/jobs-internships.html\">Jobs and Internships</a></li><li><a href=\"/computer-science/students/miscellaneous-resources.html\">Miscellaneous Resources</a></li><li><a href=\"/computer-science/students/national-fellowship-calendar.html\">National Fellowship Calendar</a></li><li><a href=\"/computer-science/students/reserve-rooms.html\">Space and Room Reservations</a></li></ul></li><li><a href=\"/computer-science/diversity/index.html\">Diversity</a><span class=\"dropdown-arrow\"><a aria-haspopup=\"true\" href=\"#\" role=\"button\"><span>Collapse</span>Diversity Submenu\n",
      "                    </a></span><ul><li><a href=\"/computer-science/diversity/index.html\">Diversity</a></li><li><a href=\"/computer-science/diversity/initiatives.html\">Initiatives</a></li><li><a href=\"/computer-science/diversity/student-groups.html\">Student Groups</a></li><li><a href=\"/computer-science/diversity/cs-faculty-diversity-committee.html\">CS Faculty Diversity Committee</a></li><li><a href=\"/computer-science/diversity/resources.html\">Resources</a></li><li><a href=\"/computer-science/diversity/news-events.html\">News &amp; Events</a></li><li><a href=\"/computer-science/diversity/bpc-plan.html\">Broadening Participation in Computing (BPC) Plan</a></li></ul></li><li><a href=\"https://www.mccormick.northwestern.edu/\">Northwestern Engineering</a></li></ul></div></ul></div>\n",
      "<div class=\"overlay\"></div>\n",
      "</header>\n",
      "<div class=\"modal\" id=\"modal\"><div class=\"modal-dialog\"><div class=\"modal-content\"><div class=\"modal-body\"></div><a class=\"link-bttn\" href=\"../../../cs-plus-x/index.html\" target=\"\">Explore CS+X</a></div></div></div><div class=\"modal-backdrop\" id=\"modal-backdrop\"></div>\n",
      "<div id=\"container\">\n",
      "<div id=\"left-col\"><nav class=\"redesign\"><ul><li class=\"active expanded section\"><a href=\"../../index.html\">Academics</a><ul><li class=\"index\"><a href=\"../../index.html\">Academics</a></li><li class=\"section\"><a href=\"../../undergraduate/index.html\">Undergraduate </a><ul><li class=\"index\"><a href=\"../../undergraduate/index.html\">Undergraduate Programs</a></li><li><a href=\"../../undergraduate/bachelors/index.html\">Computer Science Major (BS/BA)</a></li><li><a href=\"../../undergraduate/cs-minor/index.html\">Computer Science Minor</a></li><li><a href=\"../../undergraduate/dse-minor/index.html\">Data Science and Engineering Minor</a></li><li><a href=\"../../undergraduate/combined-bs-ba-ms-program.html\">Combined BS (or BA)/MS Degree Program</a></li><li><a href=\"../../undergraduate/introductory-courses/index.html\">Intro Courses</a></li><li><a href=\"../../undergraduate/special-programs.html\">Special Programs &amp; Opportunities</a></li><li><a href=\"../../undergraduate/groups-organizations.html\">Student Groups &amp; Organizations</a></li><li><a href=\"../../undergraduate/forms-documents.html\">Advising Resources for Current Students</a></li><li><a href=\"../../undergraduate/undergraduate-research.html\">Undergraduate Research</a></li><li><a href=\"../../undergraduate/senior-thesis.html\">Senior Thesis</a></li><li><a href=\"../../undergraduate/peer-mentor-program/index.html\">Peer Mentors</a></li></ul></li><li class=\"section\"><a href=\"../../graduate/index.html\">Graduate</a><ul><li class=\"index\"><a href=\"../../graduate/index.html\">Graduate Programs</a></li><li class=\"section\"><a href=\"../../graduate/masters/index.html\">MS in Computer Science</a><ul><li class=\"index\"><a href=\"../../graduate/masters/index.html\">MS in Computer Science</a></li><li><a href=\"../../graduate/masters/curriculum.html\">Curriculum &amp; Requirements</a></li></ul></li><li class=\"section\"><a href=\"../../graduate/phd/index.html\">PhD in Computer Science</a><ul><li class=\"index\"><a href=\"../../graduate/phd/index.html\">PhD in Computer Science</a></li><li><a href=\"../../graduate/phd/curriculum.html\">Curriculum &amp; Requirements</a></li></ul></li><li class=\"section\"><a href=\"../../graduate/admissions/index.html\">Admissions</a><ul><li class=\"index\"><a href=\"../../graduate/admissions/index.html\">Admissions</a></li><li><a href=\"../../graduate/admissions/faq.html\">Admissions FAQ</a></li></ul></li><li><a href=\"../../graduate/financial-aid.html\">Financial Aid</a></li><li><a href=\"../../graduate/groups-organizations.html\">Student Groups &amp; Organizations</a></li><li><a href=\"../../graduate/forms-documents.html\">Graduate Program Forms &amp; Documents</a></li><li><a href=\"../../graduate/announce-deadlines.html\">Announcements and Deadlines</a></li></ul></li><li class=\"active expanded\"><a href=\"../index.html\">Courses</a></li></ul></li></ul></nav></div>\n",
      "<div id=\"main-content-wrap\">\n",
      "<div id=\"main-content\" role=\"main\"><h1 id=\"page-title\"><div><div class=\"section-bc-segment\">Academics</div><span class=\"section-bc-segment-separator\">  /  </span><div class=\"section-bc-segment\">Courses</div><span class=\"section-bc-segment-separator\">  /  </span><div class=\"section-bc-segment\">Descriptions</div></div>COMP_SCI 337: Intro to Natural Language Processing</h1><br/><a class=\"link-bttn\" href=\"../index.html\">VIEW ALL COURSE TIMES AND SESSIONS</a><h3>Prerequisites</h3>Senior CS majors  or COMP_SCI 348 or consent of instructor<h3>Description</h3><p>A semantics-oriented introduction to natural language processing, broadly construed. Representation of meaning and knowledge inference in story understanding, script/frame theory, plans and plan recognition, counter-planning, and thematic structures.</p>\n",
      "<ul>\n",
      "<li><em>This course satisfies the AI Breadth &amp;</em> Project Requirement </li>\n",
      "</ul>\n",
      "<p><strong>REQUIRED TEXTBOOK</strong>: None.</p>\n",
      "<p><strong>REFERENCE TEXTBOOKS:</strong></p>\n",
      "<p>• ANSI Common Lisp Book</p>\n",
      "<p><strong>INSTRUCTORS: </strong><a href=\"https://www.mccormick.northwestern.edu/research-faculty/directory/profiles/birnbaum-larry.html\">Prof. Birnbaum</a><strong><br/>COURSE COORDINATOR: </strong><a href=\"https://www.mccormick.northwestern.edu/research-faculty/directory/profiles/birnbaum-larry.html\" target=\"_self\">Prof. Larry Birnbaum</a></p>\n",
      "<p><strong>DETAILED COURSE TOPICS:</strong></p>\n",
      "<ul>\n",
      "<li>Language Understanding</li>\n",
      "<li>Modeling Human Cognition with Computers</li>\n",
      "<li>Psychological Theories and Themes</li>\n",
      "<li>Task Driven Software and Artifact Design</li>\n",
      "</ul>\n",
      "<p><strong>HOMEWORK ASSIGNMENTS:</strong></p>\n",
      "<ul>\n",
      "<li>Assignment 1 - Lisp Intro</li>\n",
      "<li>Assignment 2 - Ambiguity</li>\n",
      "<li>Assignment 3 - Eliza</li>\n",
      "<li>Assignment 4 - Action - Inference.</li>\n",
      "<li>Assignment 5 - Inferencer</li>\n",
      "<li>Pick one: Paper or Program</li>\n",
      "</ul>\n",
      "<p><strong>GRADES:</strong></p>\n",
      "<ul>\n",
      "<li>Class discussion - 10%</li>\n",
      "<li>Projects and Assignments - 50% (Harder assignments are worth more. Go figure.)</li>\n",
      "<li>Final Paper - 30%</li>\n",
      "<li>Attendance - 10%</li>\n",
      "</ul></div>\n",
      "<div id=\"back-to-top\"><a href=\"#top\">BACK TO TOP</a></div>\n",
      "</div>\n",
      "</div>\n",
      "<footer class=\"cf\" role=\"contentinfo\"><div class=\"header-container cf\"><a href=\"http://www.northwestern.edu\" id=\"footer-logo\" target=\"_blank\">Northwestern Seal</a><div id=\"footer-links\"><p class=\"department-footer-header\"><span class=\"dept\" style=\"font-weight: bold; margin-bottom:10px;\">Computer Science</span><span class=\"footer-branding-element\">McCormick School of Engineering,</span> \n",
      "\t\t\t\t\t\t\n",
      "\t\t\t\t\t\t\n",
      "\t\t\t\t\t\t<span class=\"footer-branding-element\">Northwestern University</span></p><address style=\"margin-bottom:0px;\">Mudd Hall<br/>2233 Tech Drive, Third Floor, Evanston, IL 60208</address><p style=\"margin-bottom:10px;\">Phone: \n",
      "\t\t\t\t\t\t\t847-491-3500  |  \n",
      "\t\t\t\t\t\t<a href=\"mailto:compsci@northwestern.edu\">Email</a></p><p class=\"contact-info white-single-arrow extra-height\"><a href=\"https://www.mccormick.northwestern.edu/computer-science/contact/index.html\">View all department contact info</a></p><ul><li><a href=\"https://www.mccormick.northwestern.edu/computer-science/academics/undergraduate/index.html\">Undergraduate</a></li><li><a href=\"https://www.mccormick.northwestern.edu/computer-science/academics/graduate/index.html\">Graduate</a></li><li><a href=\"https://www.mccormick.northwestern.edu/computer-science/research/index.html\">Research</a></li><li><a href=\"https://www.mccormick.northwestern.edu/computer-science/people/faculty/index.html\">Faculty</a></li><li><a href=\"https://www.mccormick.northwestern.edu/computer-science/cs-plus-x/index.html\">CS+X</a></li><li><a href=\"https://www.mccormick.northwestern.edu/computer-science/news-events/news/index.html\">News &amp; Events</a></li><li><a href=\"https://www.northwestern.edu/accessibility/about/report-an-accessibility-issue.html\" target=\"_blank\">Report an Accessibility Issue</a></li></ul></div><div id=\"footer-icons\"><a class=\"icon-Twitter iconset-footer\" href=\"http://twitter.com/northwesterncs\" target=\"_blank\">McCormick on Twitter</a><a class=\"icon-Facebook iconset-footer\" href=\"http://facebook.com/northwesterncs\" target=\"_blank\">McCormick on Facebook</a><a class=\"icon-LinkedIn iconset-footer\" href=\"https://www.linkedin.com/company/mccormick-school-of-engineering/\" target=\"_blank\">McCormick on LinkedIn</a><a class=\"icon-YouTube iconset-footer\" href=\"https://www.youtube.com/channel/UCX2Xg61G1tDeyzDkBDya7tw\" target=\"_blank\">McCormick on YouTube</a></div></div><div id=\"footer-copyright\"><div class=\"header-container\">\n",
      "                     © \n",
      "                    \n",
      "\t\t\t\t\t\n",
      "\t\t\t\t\t\n",
      "\t\t\t\t\t2023 Robert R. McCormick School of Engineering and Applied Science, Northwestern University   \n",
      "                    \n",
      "\t\t\t\t\t\n",
      "\t\t\t\t\t\n",
      "\t\t\t\t\t<a href=\"http://www.northwestern.edu/disclaimer.html\" target=\"_blank\">Disclaimer</a></div></div></footer>\n",
      "<!--[if lte IE 8]>\n",
      "      <script src=\"/js/selectivizr.min.js\"></script>\n",
      "    <![endif]-->\n",
      "<!--[if lte IE 9]>\n",
      "      <script src=\"/js/media.match.min.js\"></script>\n",
      "      <script src=\"/js/rem.js\"></script>\n",
      "    <![endif]-->\n",
      "<!--[if lte IE 10]>\n",
      "        <script src=\"/js/placeholders.js\"></script>\n",
      "    <![endif]-->\n",
      "<script src=\"/js/jquery/jquery.fitvids.js\"></script>\n",
      "<script src=\"/js/jquery/restive.min.js\" type=\"text/javascript\"></script>\n",
      "<script src=\"/js/jquery/video-helpers.1.1.js\" type=\"text/javascript\"></script>\n",
      "<script src=\"/js/breakpoints.js\" type=\"text/javascript\"></script>\n",
      "<script src=\"/js/modernizr.js\" type=\"text/javascript\"></script>\n",
      "<script src=\"/js/jquery/jquery-slick-1.3.6.js\" type=\"text/javascript\"></script>\n",
      "<script async=\"\" src=\"/js/lazysizes.min.js\"></script>\n",
      "<script type=\"text/javascript\">\n",
      "\n",
      "  var _gaq = _gaq || [];\n",
      " _gaq.push(['_setAccount', 'UA-136182345-3']);\n",
      " _gaq.push(['_trackPageview']);\n",
      "\n",
      "  _gaq.push(['_setDomainName', '.northwestern.edu']);\n",
      "\n",
      "  (function() {\n",
      "    var ga = document.createElement('script'); ga.type = 'text/javascript'; ga.async = true;\n",
      "    ga.src = ('https:' == document.location.protocol ? 'https://ssl' : 'http://www') + '.google-analytics.com/ga.js';\n",
      "    var s = document.getElementsByTagName('script')[0]; s.parentNode.insertBefore(ga, s);\n",
      "  })();\n",
      "\n",
      "</script>\n",
      "<script src=\"/js/mti-tracking.js\" type=\"text/javascript\"></script>\n",
      "</body>\n",
      "</html>\n"
     ]
    }
   ],
   "source": [
    "from bs4 import BeautifulSoup # BS4 -> Comfortable ( Famous )\n",
    "soup = BeautifulSoup(response.text, \"html.parser\") #xml, json\n",
    "print(soup)"
   ]
  },
  {
   "cell_type": "code",
   "execution_count": 4,
   "metadata": {},
   "outputs": [
    {
     "name": "stdout",
     "output_type": "stream",
     "text": [
      "<p>A semantics-oriented introduction to natural language processing, broadly construed. Representation of meaning and knowledge inference in story understanding, script/frame theory, plans and plan recognition, counter-planning, and thematic structures.</p>\n",
      "<p><strong>REQUIRED TEXTBOOK</strong>: None.</p>\n",
      "[<p>A semantics-oriented introduction to natural language processing, broadly construed. Representation of meaning and knowledge inference in story understanding, script/frame theory, plans and plan recognition, counter-planning, and thematic structures.</p>, <p><strong>REQUIRED TEXTBOOK</strong>: None.</p>, <p><strong>REFERENCE TEXTBOOKS:</strong></p>, <p>• ANSI Common Lisp Book</p>, <p><strong>INSTRUCTORS: </strong><a href=\"https://www.mccormick.northwestern.edu/research-faculty/directory/profiles/birnbaum-larry.html\">Prof. Birnbaum</a><strong><br/>COURSE COORDINATOR: </strong><a href=\"https://www.mccormick.northwestern.edu/research-faculty/directory/profiles/birnbaum-larry.html\" target=\"_self\">Prof. Larry Birnbaum</a></p>, <p><strong>DETAILED COURSE TOPICS:</strong></p>, <p><strong>HOMEWORK ASSIGNMENTS:</strong></p>, <p><strong>GRADES:</strong></p>]\n"
     ]
    }
   ],
   "source": [
    "content_list = soup.select(\"#main-content p\")\n",
    "print(content_list[0])\n",
    "print(content_list[1])\n",
    "print(content_list)"
   ]
  },
  {
   "cell_type": "code",
   "execution_count": 5,
   "metadata": {},
   "outputs": [
    {
     "name": "stdout",
     "output_type": "stream",
     "text": [
      "8\n",
      "A semantics-oriented introduction to natural language processing, broadly construed. Representation of meaning and knowledge inference in story understanding, script/frame theory, plans and plan recognition, counter-planning, and thematic structures.\n",
      "REQUIRED TEXTBOOK: None.\n",
      "REFERENCE TEXTBOOKS:\n",
      "• ANSI Common Lisp Book\n",
      "INSTRUCTORS: Prof. BirnbaumCOURSE COORDINATOR: Prof. Larry Birnbaum\n",
      "DETAILED COURSE TOPICS:\n",
      "HOMEWORK ASSIGNMENTS:\n",
      "GRADES:\n"
     ]
    }
   ],
   "source": [
    "print(len(content_list))\n",
    "\n",
    "for i in content_list:\n",
    "    print(i.text)"
   ]
  },
  {
   "cell_type": "code",
   "execution_count": 6,
   "metadata": {},
   "outputs": [
    {
     "name": "stdout",
     "output_type": "stream",
     "text": [
      "200\n"
     ]
    }
   ],
   "source": [
    "course_url = \"https://www.mccormick.northwestern.edu/computer-science/academics/courses/\"\n",
    "\n",
    "# /description/XXX.html -> 규칙\n",
    "# table id : course_list > tbody > a href\n",
    "# <a href=\"descriptions/203.html\">COMP_ENG 203</a>\n",
    "# For Loop -> url + XXX.html -> XXX ????\n",
    "\n",
    "response = requests.get(course_url)\n",
    "print(response.status_code)"
   ]
  },
  {
   "cell_type": "code",
   "execution_count": 7,
   "metadata": {},
   "outputs": [
    {
     "name": "stdout",
     "output_type": "stream",
     "text": [
      "<a href=\"descriptions/110.html\">COMP_SCI 110</a>\n",
      "<a href=\"descriptions/110.html\">Intro to Computer Programming</a>\n"
     ]
    }
   ],
   "source": [
    "soup = BeautifulSoup(response.text, \"html.parser\")\n",
    "# print(soup)\n",
    "course_list = soup.select(\"#course_list tbody a\") # PATH # 앞에 나온게 무조건 위에 있는 Level\n",
    "# # <- id id=\"\"\n",
    "print(course_list[0])\n",
    "print(course_list[1])"
   ]
  },
  {
   "cell_type": "code",
   "execution_count": 8,
   "metadata": {},
   "outputs": [
    {
     "data": {
      "text/plain": [
       "[<a href=\"descriptions/110.html\">COMP_SCI 110</a>,\n",
       " <a href=\"descriptions/110.html\">Intro to Computer Programming</a>,\n",
       " <a href=\"descriptions/111.html\">COMP_SCI 111</a>,\n",
       " <a href=\"descriptions/111.html\">Fundamentals of Computer Programming I</a>,\n",
       " <a href=\"descriptions/150.html\">COMP_SCI 150</a>,\n",
       " <a href=\"descriptions/150.html\">Fundamentals of Computer Programming 1.5</a>,\n",
       " <a href=\"descriptions/203.html\">COMP_ENG 203</a>,\n",
       " <a href=\"descriptions/203.html\">Intro to Computer Engineering</a>,\n",
       " <a href=\"descriptions/205.html\">COMP_ENG 205</a>,\n",
       " <a href=\"descriptions/205.html\">Fundamentals of Computer System Software</a>,\n",
       " <a href=\"descriptions/211.html\">COMP_SCI 211</a>,\n",
       " <a href=\"descriptions/211.html\">Fundamentals of Computer Programming II</a>,\n",
       " <a href=\"descriptions/212.html\">COMP_SCI 212</a>,\n",
       " <a href=\"descriptions/212.html\">Mathematical Foundations of Computer Science</a>,\n",
       " <a href=\"descriptions/213-20.html\">COMP_SCI 213</a>,\n",
       " <a href=\"descriptions/213-20.html\">Intro to Computer Systems</a>,\n",
       " <a href=\"descriptions/214.html\">COMP_SCI 214</a>,\n",
       " <a href=\"descriptions/214.html\">Data Structures and Algorithms</a>,\n",
       " <a href=\"descriptions/217.html\">COMP_SCI 217</a>,\n",
       " <a href=\"descriptions/217.html\">Data Management and Information Processing</a>,\n",
       " <a href=\"descriptions/260-460.html\">COMP_SCI 260, 460</a>,\n",
       " <a href=\"descriptions/260-460.html\">Introduction to Law and Digital Technologies</a>,\n",
       " <a href=\"descriptions/296-1.html\">COMP_SCI 296</a>,\n",
       " <a href=\"descriptions/296-1.html\">AI and International Security</a>,\n",
       " <a href=\"descriptions/298-1.html\">COMP_SCI 298</a>,\n",
       " <a href=\"descriptions/298-1.html\">CS Research Track Program</a>,\n",
       " <a href=\"descriptions/301.html\">COMP_SCI 301</a>,\n",
       " <a href=\"descriptions/301.html\">Introduction to Robotics Laboratory</a>,\n",
       " <a href=\"descriptions/303.html\">COMP_ENG 303</a>,\n",
       " <a href=\"descriptions/303.html\">Advanced Digital Design</a>,\n",
       " <a href=\"descriptions/307.html\">COMP_SCI 307</a>,\n",
       " <a href=\"descriptions/307.html\">Introduction to Cryptography</a>,\n",
       " <a href=\"descriptions/310.html\">COMP_SCI 310</a>,\n",
       " <a href=\"descriptions/310.html\">Scalable Software Architectures</a>,\n",
       " <a href=\"descriptions/311.html\">COMP_SCI 311</a>,\n",
       " <a href=\"descriptions/311.html\">Inclusive Making</a>,\n",
       " <a href=\"descriptions/312-412.html\">COMP_SCI 312, 412</a>,\n",
       " <a href=\"descriptions/312-412.html\">Data Privacy</a>,\n",
       " <a href=\"descriptions/313-413.html\">COMP_SCI 313, 413</a>,\n",
       " <a href=\"descriptions/313-413.html\">Tangible Interaction Design and Learning</a>,\n",
       " <a href=\"descriptions/314.html\">COMP_SCI 314</a>,\n",
       " <a href=\"descriptions/314.html\">Technology &amp; Human Interaction</a>,\n",
       " <a href=\"descriptions/315-415.html\">COMP_SCI 315, 415</a>,\n",
       " <a href=\"descriptions/315-415.html\">Design, Technology, and Research</a>,\n",
       " <a href=\"descriptions/321.html\">COMP_SCI 321</a>,\n",
       " <a href=\"descriptions/321.html\">Programming Languages</a>,\n",
       " <a href=\"descriptions/322.html\">COMP_SCI 322</a>,\n",
       " <a href=\"descriptions/322.html\">Compiler Construction</a>,\n",
       " <a href=\"descriptions/323.html\">COMP_SCI 323</a>,\n",
       " <a href=\"descriptions/323.html\">Code Analysis and Transformation</a>,\n",
       " <a href=\"descriptions/325.html\">COMP_SCI 325</a>,\n",
       " <a href=\"descriptions/325.html\">Artificial Intelligence Programming</a>,\n",
       " <a href=\"descriptions/326.html\">COMP_SCI 326</a>,\n",
       " <a href=\"descriptions/326.html\">Introduction to the Data Science Pipeline</a>,\n",
       " <a href=\"descriptions/327.html\">COMP_SCI 327</a>,\n",
       " <a href=\"descriptions/327.html\">Generative Methods</a>,\n",
       " <a href=\"descriptions/329.html\">COMP_SCI 329</a>,\n",
       " <a href=\"descriptions/329.html\">HCI Studio</a>,\n",
       " <a href=\"descriptions/330-1.html\">COMP_SCI 330</a>,\n",
       " <a href=\"descriptions/330-1.html\">Human Computer Interaction</a>,\n",
       " <a href=\"descriptions/332.html\">COMP_SCI 332</a>,\n",
       " <a href=\"descriptions/332.html\">Online Markets</a>,\n",
       " <a href=\"descriptions/333.html\">COMP_SCI 333</a>,\n",
       " <a href=\"descriptions/333.html\">Interactive Information Visualization</a>,\n",
       " <a href=\"descriptions/334.html\">ELEC_ENG/COMP_ENG 334</a>,\n",
       " <a href=\"descriptions/334.html\">Fundamentals of Blockchains and Decentralization</a>,\n",
       " <a href=\"descriptions/335.html\">COMP_SCI 335</a>,\n",
       " <a href=\"descriptions/335.html\">Intro to the Theory of Computation</a>,\n",
       " <a href=\"descriptions/336.html\">COMP_SCI 336</a>,\n",
       " <a href=\"descriptions/336.html\">Design &amp; Analysis of Algorithms</a>,\n",
       " <a href=\"descriptions/337.html\">COMP_SCI 337</a>,\n",
       " <a href=\"descriptions/337.html\">Intro to Natural Language Processing</a>,\n",
       " <a href=\"descriptions/338-1.html\">COMP_SCI 338</a>,\n",
       " <a href=\"descriptions/338-1.html\">Practicum in Intelligent Information Systems</a>,\n",
       " <a href=\"descriptions/338-2.html\">COMP_SCI 338</a>,\n",
       " <a href=\"descriptions/338-2.html\">Practicum in Intelligent Information Systems</a>,\n",
       " <a href=\"descriptions/339.html\">COMP_SCI 339</a>,\n",
       " <a href=\"descriptions/339.html\">Intro to Databases</a>,\n",
       " <a href=\"descriptions/340.html\">COMP_SCI 340</a>,\n",
       " <a href=\"descriptions/340.html\">Introduction to Computer Networking</a>,\n",
       " <a href=\"descriptions/343.html\">COMP_SCI 343</a>,\n",
       " <a href=\"descriptions/343.html\">Operating Systems</a>,\n",
       " <a href=\"descriptions/344.html\">COMP_SCI 344</a>,\n",
       " <a href=\"descriptions/344.html\">Design of Problem Solvers</a>,\n",
       " <a href=\"descriptions/345.html\">COMP_SCI 345</a>,\n",
       " <a href=\"descriptions/345.html\">Distributed Systems</a>,\n",
       " <a href=\"descriptions/346.html\">COMP_ENG 346</a>,\n",
       " <a href=\"descriptions/346.html\">Microprocessor System Design</a>,\n",
       " <a href=\"descriptions/347-447.html\">COMP_SCI 347, 447</a>,\n",
       " <a href=\"descriptions/347-447.html\">Conversational AI</a>,\n",
       " <a href=\"descriptions/348.html\">COMP_SCI 348</a>,\n",
       " <a href=\"descriptions/348.html\">Intro to Artificial Intelligence</a>,\n",
       " <a href=\"descriptions/349.html\">COMP_SCI 349</a>,\n",
       " <a href=\"descriptions/349.html\">Machine Learning</a>,\n",
       " <a href=\"descriptions/350.html\">COMP_SCI 350</a>,\n",
       " <a href=\"descriptions/350.html\">Introduction to Computer Security</a>,\n",
       " <a href=\"descriptions/351-1.html\">COMP_SCI 351-1</a>,\n",
       " <a href=\"descriptions/351-1.html\">Intro to Computer Graphics</a>,\n",
       " <a href=\"descriptions/351-2.html\">COMP_SCI 351-2</a>,\n",
       " <a href=\"descriptions/351-2.html\">Intermediate Computer Graphics</a>,\n",
       " <a href=\"descriptions/354.html\">COMP_SCI 354</a>,\n",
       " <a href=\"descriptions/354.html\">Computer System Security</a>,\n",
       " <a href=\"descriptions/355.html\">COMP_SCI 355</a>,\n",
       " <a href=\"descriptions/355.html\">Digital Forensics and Incident Response</a>,\n",
       " <a href=\"https://www.mccormick.northwestern.edu/electrical-computer/academics/courses/descriptions/361.html\">COMP_ENG 361</a>,\n",
       " <a href=\"https://www.mccormick.northwestern.edu/electrical-computer/academics/courses/descriptions/361.html\">Computer Architecture I</a>,\n",
       " <a href=\"descriptions/362.html\">COMP_ENG 362</a>,\n",
       " <a href=\"descriptions/362.html\">Computer Architecture Project</a>,\n",
       " <a href=\"descriptions/365-465.html\">COMP_ENG 365, 465</a>,\n",
       " <a href=\"descriptions/365-465.html\">Internet-of-Things Sensors, Systems, and Applications</a>,\n",
       " <a href=\"descriptions/368-468.html\">COMP_SCI 368, 468</a>,\n",
       " <a href=\"descriptions/368-468.html\">Programming Massively Parallel Processors with CUDA</a>,\n",
       " <a href=\"descriptions/371.html\">COMP_SCI 371</a>,\n",
       " <a href=\"descriptions/371.html\">Knowledge Representation and Reasoning</a>,\n",
       " <a href=\"descriptions/372-472.html\">COMP_SCI 372, 472</a>,\n",
       " <a href=\"descriptions/372-472.html\">Designing and Constructing Models with Multi-Agent Languages</a>,\n",
       " <a href=\"descriptions/376.html\">COMP_SCI 376</a>,\n",
       " <a href=\"descriptions/376.html\">Game Design and Development</a>,\n",
       " <a href=\"descriptions/377.html\">COMP_SCI 377</a>,\n",
       " <a href=\"descriptions/377.html\">Game Development Studio</a>,\n",
       " <a href=\"descriptions/392.html\">COMP_SCI 392</a>,\n",
       " <a href=\"descriptions/392.html\">Rapid Prototyping for Software Innovation</a>,\n",
       " <a href=\"descriptions/394.html\">COMP_SCI 394</a>,\n",
       " <a href=\"descriptions/394.html\">Agile Software Development</a>,\n",
       " <a href=\"descriptions/396-1.html\">COMP_SCI 396</a>,\n",
       " <a href=\"descriptions/396-1.html\">Advanced Graphics Seminar: VR/AR Systems</a>,\n",
       " <a href=\"descriptions/396-2.html\">COMP_SCI 396</a>,\n",
       " <a href=\"descriptions/396-2.html\">Artificial Life</a>,\n",
       " <a href=\"descriptions/396-5.html\">COMP_SCI 396</a>,\n",
       " <a href=\"descriptions/396-5.html\">Differential Privacy: from Foundations to Machine Learning</a>,\n",
       " <a href=\"descriptions/396-9.html\">COMP_SCI 396</a>,\n",
       " <a href=\"descriptions/396-9.html\">Social AR/VR Studio</a>,\n",
       " <a href=\"descriptions/396-10.html\">COMP_SCI 396</a>,\n",
       " <a href=\"descriptions/396-10.html\">Modeling Relationships with Causal Inference</a>,\n",
       " <a href=\"descriptions/396-11.html\">COMP_SCI 396</a>,\n",
       " <a href=\"descriptions/396-11.html\">Communicating Computer Science</a>,\n",
       " <a href=\"descriptions/396-12.html\">COMP_SCI 396</a>,\n",
       " <a href=\"descriptions/396-12.html\">Proving Properties of Programs with Mechanized Logic</a>,\n",
       " <a href=\"descriptions/396-14.html\">COMP_SCI 396</a>,\n",
       " <a href=\"descriptions/396-14.html\">Introduction to Computational Linguistics</a>,\n",
       " <a href=\"descriptions/396-15.html\">COMP_SCI 396</a>,\n",
       " <a href=\"descriptions/396-15.html\">Social Networks Analysis</a>,\n",
       " <a href=\"descriptions/396-16.html\">COMP_SCI 396</a>,\n",
       " <a href=\"descriptions/396-16.html\">Advanced Graphics Seminar</a>,\n",
       " <a href=\"descriptions/396-17.html\">COMP_SCI 396</a>,\n",
       " <a href=\"descriptions/396-17.html\">Advanced Offense and Defense in Cybersecurity</a>,\n",
       " <a href=\"descriptions/396-19.html\">COMP_SCI 396</a>,\n",
       " <a href=\"descriptions/396-19.html\">Natural &amp; Artificial Vision</a>,\n",
       " <a href=\"descriptions/396-21.html\">COMP_SCI 396</a>,\n",
       " <a href=\"descriptions/396-21.html\">TDD, Refactoring and Design Patterns for Software Engineering</a>,\n",
       " <a href=\"descriptions/396-22.html\">COMP_SCI 396</a>,\n",
       " <a href=\"descriptions/396-22.html\">Full Stack Software Engineering</a>,\n",
       " <a href=\"descriptions/396-24.html\">COMP_SCI 396</a>,\n",
       " <a href=\"descriptions/396-24.html\">Foundations of Security</a>,\n",
       " <a href=\"descriptions/396-496-2.html\">COMP_SCI 396, 496</a>,\n",
       " <a href=\"descriptions/396-496-2.html\">Advanced Algorithm Design through the Lens of Competitive Programming</a>,\n",
       " <a href=\"descriptions/396-496-6.html\">COMP_SCI 396, 496</a>,\n",
       " <a href=\"descriptions/396-496-6.html\">Data Science Seminar</a>,\n",
       " <a href=\"descriptions/396-496-7.html\">COMP_SCI 396, 496</a>,\n",
       " <a href=\"descriptions/396-496-7.html\">Foundations of Quantum Computing and Quantum Information</a>,\n",
       " <a href=\"descriptions/396-496-10.html\">COMP_SCI 396, 496</a>,\n",
       " <a href=\"descriptions/396-496-10.html\">Programming Languages Seminar</a>,\n",
       " <a href=\"descriptions/396-496-13.html\">COMP_SCI 396, 496</a>,\n",
       " <a href=\"descriptions/396-496-13.html\">Security and Privacy Education</a>,\n",
       " <a href=\"descriptions/396-496-15.html\">COMP_SCI 396, 496</a>,\n",
       " <a href=\"descriptions/396-496-15.html\">Dynamics of Programming Languages</a>,\n",
       " <a href=\"descriptions/396-496-16.html\">COMP_SCI 396, 496</a>,\n",
       " <a href=\"descriptions/396-496-16.html\">Advanced Topics in Modern Cryptography</a>,\n",
       " <a href=\"descriptions/396-496-18.html\">COMP_SCI 396, 496</a>,\n",
       " <a href=\"descriptions/396-496-18.html\">Topics in Software Engineering</a>,\n",
       " <a href=\"descriptions/396-496-19.html\">COMP_SCI 396, 496</a>,\n",
       " <a href=\"descriptions/396-496-19.html\">Introduction to Kolmogorov Complexity</a>,\n",
       " <a href=\"descriptions/396-496-21.html\">COMP_SCI 396, 496</a>,\n",
       " <a href=\"descriptions/396-496-21.html\">Approximation Algorithms</a>,\n",
       " <a href=\"descriptions/396-496-24.html\">COMP_SCI 396, 496</a>,\n",
       " <a href=\"descriptions/396-496-24.html\">CS Education Research in the Community</a>,\n",
       " <a href=\"descriptions/396-496-25.html\">COMP_SCI 396, 496</a>,\n",
       " <a href=\"descriptions/396-496-25.html\">Computing, Ethics, and Society</a>,\n",
       " <a href=\"descriptions/396-496-26.html\">COMP_SCI 396, 496</a>,\n",
       " <a href=\"descriptions/396-496-26.html\">Computational Optics</a>,\n",
       " <a href=\"descriptions/396-496-27.html\">COMP_SCI 496</a>,\n",
       " <a href=\"descriptions/396-496-27.html\">HCI Methods for Health Research</a>,\n",
       " <a href=\"descriptions/397-1.html\">COMP_SCI 397</a>,\n",
       " <a href=\"descriptions/397-1.html\">Seminar in Statistical Language Modeling</a>,\n",
       " <a href=\"descriptions/397-2.html\">COMP_SCI 397</a>,\n",
       " <a href=\"descriptions/397-2.html\">Computer Science Education</a>,\n",
       " <a href=\"descriptions/397-3.html\">COMP_SCI 397</a>,\n",
       " <a href=\"descriptions/397-3.html\">Topics in HCI and Design</a>,\n",
       " <a href=\"descriptions/397-497-10.html\">COMP_SCI 397, 497</a>,\n",
       " <a href=\"descriptions/397-497-10.html\">Multimodal learning analytics and interaction analysis</a>,\n",
       " <a href=\"descriptions/397-497-12.html\">COMP_SCI 397, 497</a>,\n",
       " <a href=\"descriptions/397-497-12.html\">Selected Topics in Computer Networks</a>,\n",
       " <a href=\"descriptions/397-497-14.html\">COMP_SCI 397, 497</a>,\n",
       " <a href=\"descriptions/397-497-14.html\">Wireless and Mobile Health (mHealth)</a>,\n",
       " <a href=\"descriptions/397-497-15.html\">COMP_SCI 397, 497</a>,\n",
       " <a href=\"descriptions/397-497-15.html\">Innovation Lab: Building Technologies for the Law</a>,\n",
       " <a href=\"descriptions/397-497-2.html\">COMP_SCI 397, 497</a>,\n",
       " <a href=\"descriptions/397-497-2.html\">Advanced Topics in Compilers</a>,\n",
       " <a href=\"descriptions/397-497-20.html\">COMP_SCI 397, 497</a>,\n",
       " <a href=\"descriptions/397-497-20.html\">Wireless Protocols for the Internet of Things</a>,\n",
       " <a href=\"descriptions/397-497-3.html\">COMP_SCI 397, 497</a>,\n",
       " <a href=\"descriptions/397-497-3.html\">Sports, Technology and Learning</a>,\n",
       " <a href=\"descriptions/397-497-4.html\">COMP_SCI 397, 497</a>,\n",
       " <a href=\"descriptions/397-497-4.html\">(Special Topics) Innovation in Journalism &amp; Technology</a>,\n",
       " <a href=\"descriptions/401.html\">COMP_SCI 401</a>,\n",
       " <a href=\"descriptions/401.html\">Introduction to Graduate Studies in Computer Science</a>,\n",
       " <a href=\"descriptions/409.html\">COMP_SCI 409</a>,\n",
       " <a href=\"descriptions/409.html\">Swarms and Multi-Robot Systems</a>,\n",
       " <a href=\"descriptions/410.html\">COMP_SCI 410</a>,\n",
       " <a href=\"descriptions/410.html\">Quadrotor Design and Control</a>,\n",
       " <a href=\"descriptions/440.html\">COMP_SCI 440</a>,\n",
       " <a href=\"descriptions/440.html\">Advanced Networking</a>,\n",
       " <a href=\"descriptions/445.html\">COMP_SCI 445</a>,\n",
       " <a href=\"descriptions/445.html\">Internet-scale Experimentation</a>,\n",
       " <a href=\"descriptions/446.html\">COMP_SCI 446</a>,\n",
       " <a href=\"descriptions/446.html\">Kernel and Other Low-level Software Development</a>,\n",
       " <a href=\"descriptions/449.html\">COMP_SCI 449</a>,\n",
       " <a href=\"descriptions/449.html\">Deep Learning</a>,\n",
       " <a href=\"descriptions/450.html\">COMP_SCI 450</a>,\n",
       " <a href=\"descriptions/450.html\">Internet Security</a>,\n",
       " <a href=\"descriptions/452.html\">COMP_ENG 452</a>,\n",
       " <a href=\"descriptions/452.html\">Advanced Computer Architecture I</a>,\n",
       " <a href=\"descriptions/453.html\">COMP_ENG 453</a>,\n",
       " <a href=\"descriptions/453.html\">Parallel Architectures</a>,\n",
       " <a href=\"descriptions/456.html\">COMP_ENG 456</a>,\n",
       " <a href=\"descriptions/456.html\">Modern Topics in Computer Architecture</a>,\n",
       " <a href=\"descriptions/459.html\">COMP_ENG 459</a>,\n",
       " <a href=\"descriptions/459.html\">VLSI Algorithmics</a>,\n",
       " <a href=\"descriptions/469.html\">COMP_SCI 469</a>,\n",
       " <a href=\"descriptions/469.html\">Machine Learning and Artificial Intelligence for Robotics</a>,\n",
       " <a href=\"descriptions/474.html\">COMP_SCI 474</a>,\n",
       " <a href=\"descriptions/474.html\">Probabilistic Graphical Models</a>,\n",
       " <a href=\"descriptions/496-7.html\">COMP_SCI 496</a>,\n",
       " <a href=\"descriptions/496-7.html\">The Design of Technological Tools for Thinking and Learning</a>,\n",
       " <a href=\"descriptions/496-8.html\">COMP_SCI 496</a>,\n",
       " <a href=\"descriptions/496-8.html\">Advanced Topics on Deep Learning</a>,\n",
       " <a href=\"descriptions/496-15.html\">COMP_SCI 496</a>,\n",
       " <a href=\"descriptions/496-15.html\">Special Topics In Data Systems Seminar</a>,\n",
       " <a href=\"descriptions/496-20.html\">COMP_SCI 496</a>,\n",
       " <a href=\"descriptions/496-20.html\">Engineering Modern Cryptographic Protocols</a>,\n",
       " <a href=\"descriptions/496-21.html\">COMP_SCI 496</a>,\n",
       " <a href=\"descriptions/496-21.html\">Qualitative Reasoning Seminar</a>,\n",
       " <a href=\"descriptions/496-23.html\">COMP_SCI 496</a>,\n",
       " <a href=\"descriptions/496-23.html\">AI Perspectives: Symbolic Reasoning to Deep Learning</a>,\n",
       " <a href=\"descriptions/496-24.html\">COMP_SCI 496</a>,\n",
       " <a href=\"descriptions/496-24.html\">Visualization for Scientific Communication</a>,\n",
       " <a href=\"descriptions/496-25.html\">COMP_SCI 496</a>,\n",
       " <a href=\"descriptions/496-25.html\">Generative Deep Models</a>,\n",
       " <a href=\"descriptions/496-26.html\">COMP_SCI 496</a>,\n",
       " <a href=\"descriptions/496-26.html\">Foundations of Reliable Machine Learning</a>,\n",
       " <a href=\"descriptions/496-29.html\">COMP_SCI 496</a>,\n",
       " <a href=\"descriptions/496-29.html\">Advanced System Security</a>,\n",
       " <a href=\"descriptions/496-30.html\">COMP_SCI 496</a>,\n",
       " <a href=\"descriptions/496-30.html\">Logic In AI</a>,\n",
       " <a href=\"descriptions/496-31.html\">COMP_SCI 496</a>,\n",
       " <a href=\"descriptions/496-31.html\">Computational Optics</a>,\n",
       " <a href=\"descriptions/496-32.html\">COMP_SCI 496</a>,\n",
       " <a href=\"descriptions/496-32.html\">Modern Discrete Probability</a>,\n",
       " <a href=\"descriptions/496-33.html\">COMP_SCI 496</a>,\n",
       " <a href=\"descriptions/496-33.html\">Mathematical and Computational Foundations of Tensors and Applications</a>,\n",
       " <a href=\"descriptions/496-35.html\">COMP_SCI 496</a>,\n",
       " <a href=\"descriptions/496-35.html\">Randomized Algorithms in Linear Algebra and Scientific Computing</a>,\n",
       " <a href=\"descriptions/496-36.html\">COMP_SCI 496</a>,\n",
       " <a href=\"descriptions/496-36.html\">Learning in Networks</a>,\n",
       " <a href=\"descriptions/496-37.html\">COMP_SCI 496</a>,\n",
       " <a href=\"descriptions/496-37.html\">Graduate Social Network Analysis</a>,\n",
       " <a href=\"descriptions/496-38.html\">COMP_SCI 496</a>,\n",
       " <a href=\"descriptions/496-38.html\">Mathematical Foundations of Machine Learning</a>,\n",
       " <a href=\"descriptions/496-39.html\">COMP_SCI 496</a>,\n",
       " <a href=\"descriptions/496-39.html\">Academic Job Search</a>,\n",
       " <a href=\"descriptions/497-9.html\">COMP_SCI 497</a>,\n",
       " <a href=\"descriptions/497-9.html\">Advanced Database Systems</a>,\n",
       " <a href=\"descriptions/497-10.html\">COMP_SCI 497</a>,\n",
       " <a href=\"descriptions/497-10.html\">Learning Augmented Online Algorithms</a>,\n",
       " <a href=\"descriptions/497-11.html\">COMP_SCI 497</a>,\n",
       " <a href=\"descriptions/497-11.html\">Explanation and reproducibility in data-driven science</a>,\n",
       " <a href=\"descriptions/497-12.html\">COMP_SCI 497</a>,\n",
       " <a href=\"descriptions/497-12.html\">Recent Highlights in Theoretical Computer Science</a>,\n",
       " <a href=\"descriptions/497-3.html\">COMP_SCI 497</a>,\n",
       " <a href=\"descriptions/497-3.html\">Digital Musical Instrument Design</a>,\n",
       " <a href=\"descriptions/497-4.html\">COMP_SCI 497</a>,\n",
       " <a href=\"descriptions/497-4.html\">The Design of Tools and Technologies for Computer Science Education</a>,\n",
       " <a href=\"descriptions/497-6.html\">COMP_SCI 497</a>,\n",
       " <a href=\"descriptions/497-6.html\">Deep Learning for Natural Language Processing</a>,\n",
       " <a href=\"descriptions/497-8.html\">COMP_SCI 497</a>,\n",
       " <a href=\"descriptions/497-8.html\">Data Economics</a>]"
      ]
     },
     "execution_count": 8,
     "metadata": {},
     "output_type": "execute_result"
    }
   ],
   "source": [
    "course_list"
   ]
  },
  {
   "cell_type": "code",
   "execution_count": 9,
   "metadata": {},
   "outputs": [
    {
     "name": "stdout",
     "output_type": "stream",
     "text": [
      "['descriptions/110.html', 'descriptions/111.html', 'descriptions/150.html', 'descriptions/203.html', 'descriptions/205.html', 'descriptions/211.html', 'descriptions/212.html', 'descriptions/213-20.html', 'descriptions/214.html', 'descriptions/217.html', 'descriptions/260-460.html', 'descriptions/296-1.html', 'descriptions/298-1.html', 'descriptions/301.html', 'descriptions/303.html', 'descriptions/307.html', 'descriptions/310.html', 'descriptions/311.html', 'descriptions/312-412.html', 'descriptions/313-413.html', 'descriptions/314.html', 'descriptions/315-415.html', 'descriptions/321.html', 'descriptions/322.html', 'descriptions/323.html', 'descriptions/325.html', 'descriptions/326.html', 'descriptions/327.html', 'descriptions/329.html', 'descriptions/330-1.html', 'descriptions/332.html', 'descriptions/333.html', 'descriptions/335.html', 'descriptions/336.html', 'descriptions/337.html', 'descriptions/338-1.html', 'descriptions/338-2.html', 'descriptions/339.html', 'descriptions/340.html', 'descriptions/343.html', 'descriptions/344.html', 'descriptions/345.html', 'descriptions/346.html', 'descriptions/347-447.html', 'descriptions/348.html', 'descriptions/349.html', 'descriptions/350.html', 'descriptions/351-1.html', 'descriptions/351-2.html', 'descriptions/354.html', 'descriptions/355.html', 'https://www.mccormick.northwestern.edu/electrical-computer/academics/courses/descriptions/361.html', 'descriptions/362.html', 'descriptions/365-465.html', 'descriptions/368-468.html', 'descriptions/371.html', 'descriptions/372-472.html', 'descriptions/376.html', 'descriptions/377.html', 'descriptions/392.html', 'descriptions/394.html', 'descriptions/396-1.html', 'descriptions/396-2.html', 'descriptions/396-5.html', 'descriptions/396-9.html', 'descriptions/396-10.html', 'descriptions/396-11.html', 'descriptions/396-12.html', 'descriptions/396-14.html', 'descriptions/396-15.html', 'descriptions/396-16.html', 'descriptions/396-17.html', 'descriptions/396-19.html', 'descriptions/396-21.html', 'descriptions/396-22.html', 'descriptions/396-24.html', 'descriptions/396-496-2.html', 'descriptions/396-496-6.html', 'descriptions/396-496-7.html', 'descriptions/396-496-10.html', 'descriptions/396-496-13.html', 'descriptions/396-496-15.html', 'descriptions/396-496-16.html', 'descriptions/396-496-18.html', 'descriptions/396-496-19.html', 'descriptions/396-496-21.html', 'descriptions/396-496-24.html', 'descriptions/396-496-25.html', 'descriptions/396-496-26.html', 'descriptions/396-496-27.html', 'descriptions/397-1.html', 'descriptions/397-2.html', 'descriptions/397-3.html', 'descriptions/397-497-10.html', 'descriptions/397-497-12.html', 'descriptions/397-497-14.html', 'descriptions/397-497-15.html', 'descriptions/397-497-2.html', 'descriptions/397-497-20.html', 'descriptions/397-497-3.html', 'descriptions/397-497-4.html', 'descriptions/401.html', 'descriptions/409.html', 'descriptions/410.html', 'descriptions/440.html', 'descriptions/445.html', 'descriptions/446.html', 'descriptions/449.html', 'descriptions/450.html', 'descriptions/452.html', 'descriptions/453.html', 'descriptions/456.html', 'descriptions/459.html', 'descriptions/469.html', 'descriptions/474.html', 'descriptions/496-7.html', 'descriptions/496-8.html', 'descriptions/496-15.html', 'descriptions/496-20.html', 'descriptions/496-21.html', 'descriptions/496-23.html', 'descriptions/496-24.html', 'descriptions/496-25.html', 'descriptions/496-26.html', 'descriptions/496-29.html', 'descriptions/496-30.html', 'descriptions/496-31.html', 'descriptions/496-32.html', 'descriptions/496-33.html', 'descriptions/496-35.html', 'descriptions/496-36.html', 'descriptions/496-37.html', 'descriptions/496-38.html', 'descriptions/496-39.html', 'descriptions/497-9.html', 'descriptions/497-10.html', 'descriptions/497-11.html', 'descriptions/497-12.html', 'descriptions/497-3.html', 'descriptions/497-4.html', 'descriptions/497-6.html', 'descriptions/497-8.html']\n"
     ]
    }
   ],
   "source": [
    "# List Comprehension\n",
    "# Lambda\n",
    "# course_list_url = [  i[\"href\"] for i in course_list if str(i.text).startswith(\"COMP\") ]\n",
    "# print(course_list_url[0])\n",
    "course_list_url = []\n",
    "for i in course_list:\n",
    "    # i.text -> String\n",
    "    if (i.text).startswith(\"COMP\"):\n",
    "        # print(i)\n",
    "        # print(i[\"href\"])\n",
    "        course_list_url.append(i[\"href\"])\n",
    "print(course_list_url)"
   ]
  },
  {
   "cell_type": "code",
   "execution_count": 10,
   "metadata": {},
   "outputs": [
    {
     "name": "stdout",
     "output_type": "stream",
     "text": [
      "['https://www.mccormick.northwestern.edu/computer-science/academics/courses/descriptions/110.html', 'https://www.mccormick.northwestern.edu/computer-science/academics/courses/descriptions/111.html', 'https://www.mccormick.northwestern.edu/computer-science/academics/courses/descriptions/150.html', 'https://www.mccormick.northwestern.edu/computer-science/academics/courses/descriptions/203.html', 'https://www.mccormick.northwestern.edu/computer-science/academics/courses/descriptions/205.html', 'https://www.mccormick.northwestern.edu/computer-science/academics/courses/descriptions/211.html', 'https://www.mccormick.northwestern.edu/computer-science/academics/courses/descriptions/212.html', 'https://www.mccormick.northwestern.edu/computer-science/academics/courses/descriptions/213-20.html', 'https://www.mccormick.northwestern.edu/computer-science/academics/courses/descriptions/214.html', 'https://www.mccormick.northwestern.edu/computer-science/academics/courses/descriptions/217.html', 'https://www.mccormick.northwestern.edu/computer-science/academics/courses/descriptions/260-460.html', 'https://www.mccormick.northwestern.edu/computer-science/academics/courses/descriptions/296-1.html', 'https://www.mccormick.northwestern.edu/computer-science/academics/courses/descriptions/298-1.html', 'https://www.mccormick.northwestern.edu/computer-science/academics/courses/descriptions/301.html', 'https://www.mccormick.northwestern.edu/computer-science/academics/courses/descriptions/303.html', 'https://www.mccormick.northwestern.edu/computer-science/academics/courses/descriptions/307.html', 'https://www.mccormick.northwestern.edu/computer-science/academics/courses/descriptions/310.html', 'https://www.mccormick.northwestern.edu/computer-science/academics/courses/descriptions/311.html', 'https://www.mccormick.northwestern.edu/computer-science/academics/courses/descriptions/312-412.html', 'https://www.mccormick.northwestern.edu/computer-science/academics/courses/descriptions/313-413.html', 'https://www.mccormick.northwestern.edu/computer-science/academics/courses/descriptions/314.html', 'https://www.mccormick.northwestern.edu/computer-science/academics/courses/descriptions/315-415.html', 'https://www.mccormick.northwestern.edu/computer-science/academics/courses/descriptions/321.html', 'https://www.mccormick.northwestern.edu/computer-science/academics/courses/descriptions/322.html', 'https://www.mccormick.northwestern.edu/computer-science/academics/courses/descriptions/323.html', 'https://www.mccormick.northwestern.edu/computer-science/academics/courses/descriptions/325.html', 'https://www.mccormick.northwestern.edu/computer-science/academics/courses/descriptions/326.html', 'https://www.mccormick.northwestern.edu/computer-science/academics/courses/descriptions/327.html', 'https://www.mccormick.northwestern.edu/computer-science/academics/courses/descriptions/329.html', 'https://www.mccormick.northwestern.edu/computer-science/academics/courses/descriptions/330-1.html', 'https://www.mccormick.northwestern.edu/computer-science/academics/courses/descriptions/332.html', 'https://www.mccormick.northwestern.edu/computer-science/academics/courses/descriptions/333.html', 'https://www.mccormick.northwestern.edu/computer-science/academics/courses/descriptions/335.html', 'https://www.mccormick.northwestern.edu/computer-science/academics/courses/descriptions/336.html', 'https://www.mccormick.northwestern.edu/computer-science/academics/courses/descriptions/337.html', 'https://www.mccormick.northwestern.edu/computer-science/academics/courses/descriptions/338-1.html', 'https://www.mccormick.northwestern.edu/computer-science/academics/courses/descriptions/338-2.html', 'https://www.mccormick.northwestern.edu/computer-science/academics/courses/descriptions/339.html', 'https://www.mccormick.northwestern.edu/computer-science/academics/courses/descriptions/340.html', 'https://www.mccormick.northwestern.edu/computer-science/academics/courses/descriptions/343.html', 'https://www.mccormick.northwestern.edu/computer-science/academics/courses/descriptions/344.html', 'https://www.mccormick.northwestern.edu/computer-science/academics/courses/descriptions/345.html', 'https://www.mccormick.northwestern.edu/computer-science/academics/courses/descriptions/346.html', 'https://www.mccormick.northwestern.edu/computer-science/academics/courses/descriptions/347-447.html', 'https://www.mccormick.northwestern.edu/computer-science/academics/courses/descriptions/348.html', 'https://www.mccormick.northwestern.edu/computer-science/academics/courses/descriptions/349.html', 'https://www.mccormick.northwestern.edu/computer-science/academics/courses/descriptions/350.html', 'https://www.mccormick.northwestern.edu/computer-science/academics/courses/descriptions/351-1.html', 'https://www.mccormick.northwestern.edu/computer-science/academics/courses/descriptions/351-2.html', 'https://www.mccormick.northwestern.edu/computer-science/academics/courses/descriptions/354.html', 'https://www.mccormick.northwestern.edu/computer-science/academics/courses/descriptions/355.html', 'https://www.mccormick.northwestern.edu/computer-science/academics/courses/https://www.mccormick.northwestern.edu/electrical-computer/academics/courses/descriptions/361.html', 'https://www.mccormick.northwestern.edu/computer-science/academics/courses/descriptions/362.html', 'https://www.mccormick.northwestern.edu/computer-science/academics/courses/descriptions/365-465.html', 'https://www.mccormick.northwestern.edu/computer-science/academics/courses/descriptions/368-468.html', 'https://www.mccormick.northwestern.edu/computer-science/academics/courses/descriptions/371.html', 'https://www.mccormick.northwestern.edu/computer-science/academics/courses/descriptions/372-472.html', 'https://www.mccormick.northwestern.edu/computer-science/academics/courses/descriptions/376.html', 'https://www.mccormick.northwestern.edu/computer-science/academics/courses/descriptions/377.html', 'https://www.mccormick.northwestern.edu/computer-science/academics/courses/descriptions/392.html', 'https://www.mccormick.northwestern.edu/computer-science/academics/courses/descriptions/394.html', 'https://www.mccormick.northwestern.edu/computer-science/academics/courses/descriptions/396-1.html', 'https://www.mccormick.northwestern.edu/computer-science/academics/courses/descriptions/396-2.html', 'https://www.mccormick.northwestern.edu/computer-science/academics/courses/descriptions/396-5.html', 'https://www.mccormick.northwestern.edu/computer-science/academics/courses/descriptions/396-9.html', 'https://www.mccormick.northwestern.edu/computer-science/academics/courses/descriptions/396-10.html', 'https://www.mccormick.northwestern.edu/computer-science/academics/courses/descriptions/396-11.html', 'https://www.mccormick.northwestern.edu/computer-science/academics/courses/descriptions/396-12.html', 'https://www.mccormick.northwestern.edu/computer-science/academics/courses/descriptions/396-14.html', 'https://www.mccormick.northwestern.edu/computer-science/academics/courses/descriptions/396-15.html', 'https://www.mccormick.northwestern.edu/computer-science/academics/courses/descriptions/396-16.html', 'https://www.mccormick.northwestern.edu/computer-science/academics/courses/descriptions/396-17.html', 'https://www.mccormick.northwestern.edu/computer-science/academics/courses/descriptions/396-19.html', 'https://www.mccormick.northwestern.edu/computer-science/academics/courses/descriptions/396-21.html', 'https://www.mccormick.northwestern.edu/computer-science/academics/courses/descriptions/396-22.html', 'https://www.mccormick.northwestern.edu/computer-science/academics/courses/descriptions/396-24.html', 'https://www.mccormick.northwestern.edu/computer-science/academics/courses/descriptions/396-496-2.html', 'https://www.mccormick.northwestern.edu/computer-science/academics/courses/descriptions/396-496-6.html', 'https://www.mccormick.northwestern.edu/computer-science/academics/courses/descriptions/396-496-7.html', 'https://www.mccormick.northwestern.edu/computer-science/academics/courses/descriptions/396-496-10.html', 'https://www.mccormick.northwestern.edu/computer-science/academics/courses/descriptions/396-496-13.html', 'https://www.mccormick.northwestern.edu/computer-science/academics/courses/descriptions/396-496-15.html', 'https://www.mccormick.northwestern.edu/computer-science/academics/courses/descriptions/396-496-16.html', 'https://www.mccormick.northwestern.edu/computer-science/academics/courses/descriptions/396-496-18.html', 'https://www.mccormick.northwestern.edu/computer-science/academics/courses/descriptions/396-496-19.html', 'https://www.mccormick.northwestern.edu/computer-science/academics/courses/descriptions/396-496-21.html', 'https://www.mccormick.northwestern.edu/computer-science/academics/courses/descriptions/396-496-24.html', 'https://www.mccormick.northwestern.edu/computer-science/academics/courses/descriptions/396-496-25.html', 'https://www.mccormick.northwestern.edu/computer-science/academics/courses/descriptions/396-496-26.html', 'https://www.mccormick.northwestern.edu/computer-science/academics/courses/descriptions/396-496-27.html', 'https://www.mccormick.northwestern.edu/computer-science/academics/courses/descriptions/397-1.html', 'https://www.mccormick.northwestern.edu/computer-science/academics/courses/descriptions/397-2.html', 'https://www.mccormick.northwestern.edu/computer-science/academics/courses/descriptions/397-3.html', 'https://www.mccormick.northwestern.edu/computer-science/academics/courses/descriptions/397-497-10.html', 'https://www.mccormick.northwestern.edu/computer-science/academics/courses/descriptions/397-497-12.html', 'https://www.mccormick.northwestern.edu/computer-science/academics/courses/descriptions/397-497-14.html', 'https://www.mccormick.northwestern.edu/computer-science/academics/courses/descriptions/397-497-15.html', 'https://www.mccormick.northwestern.edu/computer-science/academics/courses/descriptions/397-497-2.html', 'https://www.mccormick.northwestern.edu/computer-science/academics/courses/descriptions/397-497-20.html', 'https://www.mccormick.northwestern.edu/computer-science/academics/courses/descriptions/397-497-3.html', 'https://www.mccormick.northwestern.edu/computer-science/academics/courses/descriptions/397-497-4.html', 'https://www.mccormick.northwestern.edu/computer-science/academics/courses/descriptions/401.html', 'https://www.mccormick.northwestern.edu/computer-science/academics/courses/descriptions/409.html', 'https://www.mccormick.northwestern.edu/computer-science/academics/courses/descriptions/410.html', 'https://www.mccormick.northwestern.edu/computer-science/academics/courses/descriptions/440.html', 'https://www.mccormick.northwestern.edu/computer-science/academics/courses/descriptions/445.html', 'https://www.mccormick.northwestern.edu/computer-science/academics/courses/descriptions/446.html', 'https://www.mccormick.northwestern.edu/computer-science/academics/courses/descriptions/449.html', 'https://www.mccormick.northwestern.edu/computer-science/academics/courses/descriptions/450.html', 'https://www.mccormick.northwestern.edu/computer-science/academics/courses/descriptions/452.html', 'https://www.mccormick.northwestern.edu/computer-science/academics/courses/descriptions/453.html', 'https://www.mccormick.northwestern.edu/computer-science/academics/courses/descriptions/456.html', 'https://www.mccormick.northwestern.edu/computer-science/academics/courses/descriptions/459.html', 'https://www.mccormick.northwestern.edu/computer-science/academics/courses/descriptions/469.html', 'https://www.mccormick.northwestern.edu/computer-science/academics/courses/descriptions/474.html', 'https://www.mccormick.northwestern.edu/computer-science/academics/courses/descriptions/496-7.html', 'https://www.mccormick.northwestern.edu/computer-science/academics/courses/descriptions/496-8.html', 'https://www.mccormick.northwestern.edu/computer-science/academics/courses/descriptions/496-15.html', 'https://www.mccormick.northwestern.edu/computer-science/academics/courses/descriptions/496-20.html', 'https://www.mccormick.northwestern.edu/computer-science/academics/courses/descriptions/496-21.html', 'https://www.mccormick.northwestern.edu/computer-science/academics/courses/descriptions/496-23.html', 'https://www.mccormick.northwestern.edu/computer-science/academics/courses/descriptions/496-24.html', 'https://www.mccormick.northwestern.edu/computer-science/academics/courses/descriptions/496-25.html', 'https://www.mccormick.northwestern.edu/computer-science/academics/courses/descriptions/496-26.html', 'https://www.mccormick.northwestern.edu/computer-science/academics/courses/descriptions/496-29.html', 'https://www.mccormick.northwestern.edu/computer-science/academics/courses/descriptions/496-30.html', 'https://www.mccormick.northwestern.edu/computer-science/academics/courses/descriptions/496-31.html', 'https://www.mccormick.northwestern.edu/computer-science/academics/courses/descriptions/496-32.html', 'https://www.mccormick.northwestern.edu/computer-science/academics/courses/descriptions/496-33.html', 'https://www.mccormick.northwestern.edu/computer-science/academics/courses/descriptions/496-35.html', 'https://www.mccormick.northwestern.edu/computer-science/academics/courses/descriptions/496-36.html', 'https://www.mccormick.northwestern.edu/computer-science/academics/courses/descriptions/496-37.html', 'https://www.mccormick.northwestern.edu/computer-science/academics/courses/descriptions/496-38.html', 'https://www.mccormick.northwestern.edu/computer-science/academics/courses/descriptions/496-39.html', 'https://www.mccormick.northwestern.edu/computer-science/academics/courses/descriptions/497-9.html', 'https://www.mccormick.northwestern.edu/computer-science/academics/courses/descriptions/497-10.html', 'https://www.mccormick.northwestern.edu/computer-science/academics/courses/descriptions/497-11.html', 'https://www.mccormick.northwestern.edu/computer-science/academics/courses/descriptions/497-12.html', 'https://www.mccormick.northwestern.edu/computer-science/academics/courses/descriptions/497-3.html', 'https://www.mccormick.northwestern.edu/computer-science/academics/courses/descriptions/497-4.html', 'https://www.mccormick.northwestern.edu/computer-science/academics/courses/descriptions/497-6.html', 'https://www.mccormick.northwestern.edu/computer-science/academics/courses/descriptions/497-8.html']\n"
     ]
    }
   ],
   "source": [
    "# \"https://www.mccormick.northwestern.edu/computer-science/academics/courses/descriptions/337.html\"\n",
    "loop_url = \"https://www.mccormick.northwestern.edu/computer-science/academics/courses/\"\n",
    "course_list = []\n",
    "for course in course_list_url:\n",
    "    # print(f\"{loop_url}{course}\")\n",
    "    course_list.append(loop_url + course) # str_1 + str_2 -> str 1,2\n",
    "print(course_list) # course_list <- 우리가 들어가려는 모든 주소"
   ]
  },
  {
   "cell_type": "code",
   "execution_count": 11,
   "metadata": {},
   "outputs": [
    {
     "name": "stdout",
     "output_type": "stream",
     "text": [
      "                                             CS_Course Desc\n",
      "0    https://www.mccormick.northwestern.edu/compute...  NaN\n",
      "1    https://www.mccormick.northwestern.edu/compute...  NaN\n",
      "2    https://www.mccormick.northwestern.edu/compute...  NaN\n",
      "3    https://www.mccormick.northwestern.edu/compute...  NaN\n",
      "4    https://www.mccormick.northwestern.edu/compute...  NaN\n",
      "..                                                 ...  ...\n",
      "137  https://www.mccormick.northwestern.edu/compute...  NaN\n",
      "138  https://www.mccormick.northwestern.edu/compute...  NaN\n",
      "139  https://www.mccormick.northwestern.edu/compute...  NaN\n",
      "140  https://www.mccormick.northwestern.edu/compute...  NaN\n",
      "141  https://www.mccormick.northwestern.edu/compute...  NaN\n",
      "\n",
      "[142 rows x 2 columns]\n"
     ]
    }
   ],
   "source": [
    "import pandas as pd # pandas python DB, Excel\n",
    "df = pd.DataFrame(columns=[\"CS_Course\", \"Desc\"])\n",
    "df[\"CS_Course\"] = course_list\n",
    "print(df)"
   ]
  },
  {
   "cell_type": "code",
   "execution_count": 12,
   "metadata": {},
   "outputs": [
    {
     "data": {
      "text/plain": [
       "RangeIndex(start=0, stop=142, step=1)"
      ]
     },
     "execution_count": 12,
     "metadata": {},
     "output_type": "execute_result"
    }
   ],
   "source": [
    "df.index"
   ]
  },
  {
   "cell_type": "code",
   "execution_count": 13,
   "metadata": {},
   "outputs": [
    {
     "data": {
      "text/plain": [
       "Index(['CS_Course', 'Desc'], dtype='object')"
      ]
     },
     "execution_count": 13,
     "metadata": {},
     "output_type": "execute_result"
    }
   ],
   "source": [
    "df.columns"
   ]
  },
  {
   "cell_type": "code",
   "execution_count": 14,
   "metadata": {},
   "outputs": [
    {
     "data": {
      "text/html": [
       "<div>\n",
       "<style scoped>\n",
       "    .dataframe tbody tr th:only-of-type {\n",
       "        vertical-align: middle;\n",
       "    }\n",
       "\n",
       "    .dataframe tbody tr th {\n",
       "        vertical-align: top;\n",
       "    }\n",
       "\n",
       "    .dataframe thead th {\n",
       "        text-align: right;\n",
       "    }\n",
       "</style>\n",
       "<table border=\"1\" class=\"dataframe\">\n",
       "  <thead>\n",
       "    <tr style=\"text-align: right;\">\n",
       "      <th></th>\n",
       "      <th>CS_Course</th>\n",
       "      <th>Desc</th>\n",
       "    </tr>\n",
       "  </thead>\n",
       "  <tbody>\n",
       "    <tr>\n",
       "      <th>0</th>\n",
       "      <td>https://www.mccormick.northwestern.edu/compute...</td>\n",
       "      <td>NaN</td>\n",
       "    </tr>\n",
       "    <tr>\n",
       "      <th>1</th>\n",
       "      <td>https://www.mccormick.northwestern.edu/compute...</td>\n",
       "      <td>NaN</td>\n",
       "    </tr>\n",
       "    <tr>\n",
       "      <th>2</th>\n",
       "      <td>https://www.mccormick.northwestern.edu/compute...</td>\n",
       "      <td>NaN</td>\n",
       "    </tr>\n",
       "    <tr>\n",
       "      <th>3</th>\n",
       "      <td>https://www.mccormick.northwestern.edu/compute...</td>\n",
       "      <td>NaN</td>\n",
       "    </tr>\n",
       "    <tr>\n",
       "      <th>4</th>\n",
       "      <td>https://www.mccormick.northwestern.edu/compute...</td>\n",
       "      <td>NaN</td>\n",
       "    </tr>\n",
       "    <tr>\n",
       "      <th>...</th>\n",
       "      <td>...</td>\n",
       "      <td>...</td>\n",
       "    </tr>\n",
       "    <tr>\n",
       "      <th>137</th>\n",
       "      <td>https://www.mccormick.northwestern.edu/compute...</td>\n",
       "      <td>NaN</td>\n",
       "    </tr>\n",
       "    <tr>\n",
       "      <th>138</th>\n",
       "      <td>https://www.mccormick.northwestern.edu/compute...</td>\n",
       "      <td>NaN</td>\n",
       "    </tr>\n",
       "    <tr>\n",
       "      <th>139</th>\n",
       "      <td>https://www.mccormick.northwestern.edu/compute...</td>\n",
       "      <td>NaN</td>\n",
       "    </tr>\n",
       "    <tr>\n",
       "      <th>140</th>\n",
       "      <td>https://www.mccormick.northwestern.edu/compute...</td>\n",
       "      <td>NaN</td>\n",
       "    </tr>\n",
       "    <tr>\n",
       "      <th>141</th>\n",
       "      <td>https://www.mccormick.northwestern.edu/compute...</td>\n",
       "      <td>NaN</td>\n",
       "    </tr>\n",
       "  </tbody>\n",
       "</table>\n",
       "<p>142 rows × 2 columns</p>\n",
       "</div>"
      ],
      "text/plain": [
       "                                             CS_Course Desc\n",
       "0    https://www.mccormick.northwestern.edu/compute...  NaN\n",
       "1    https://www.mccormick.northwestern.edu/compute...  NaN\n",
       "2    https://www.mccormick.northwestern.edu/compute...  NaN\n",
       "3    https://www.mccormick.northwestern.edu/compute...  NaN\n",
       "4    https://www.mccormick.northwestern.edu/compute...  NaN\n",
       "..                                                 ...  ...\n",
       "137  https://www.mccormick.northwestern.edu/compute...  NaN\n",
       "138  https://www.mccormick.northwestern.edu/compute...  NaN\n",
       "139  https://www.mccormick.northwestern.edu/compute...  NaN\n",
       "140  https://www.mccormick.northwestern.edu/compute...  NaN\n",
       "141  https://www.mccormick.northwestern.edu/compute...  NaN\n",
       "\n",
       "[142 rows x 2 columns]"
      ]
     },
     "execution_count": 14,
     "metadata": {},
     "output_type": "execute_result"
    }
   ],
   "source": [
    "df"
   ]
  },
  {
   "cell_type": "code",
   "execution_count": 15,
   "metadata": {},
   "outputs": [
    {
     "name": "stdout",
     "output_type": "stream",
     "text": [
      "200\n",
      "200\n",
      "200\n",
      "200\n",
      "200\n",
      "200\n",
      "200\n",
      "200\n",
      "200\n",
      "200\n",
      "200\n",
      "200\n",
      "200\n",
      "200\n",
      "200\n",
      "200\n",
      "200\n",
      "200\n",
      "200\n",
      "200\n",
      "200\n",
      "200\n",
      "200\n",
      "200\n",
      "200\n",
      "200\n",
      "200\n",
      "200\n",
      "200\n",
      "200\n",
      "200\n",
      "200\n",
      "200\n",
      "200\n",
      "200\n",
      "200\n",
      "200\n",
      "200\n",
      "200\n",
      "200\n",
      "200\n",
      "200\n",
      "200\n",
      "200\n",
      "200\n",
      "200\n",
      "200\n",
      "200\n",
      "200\n",
      "200\n",
      "200\n",
      "404\n",
      "200\n",
      "200\n",
      "200\n",
      "200\n",
      "200\n",
      "200\n",
      "200\n",
      "200\n",
      "200\n",
      "200\n",
      "200\n",
      "200\n",
      "200\n",
      "200\n",
      "200\n",
      "200\n",
      "200\n",
      "200\n",
      "200\n",
      "200\n",
      "200\n",
      "200\n",
      "200\n",
      "200\n",
      "200\n",
      "200\n",
      "200\n",
      "200\n",
      "200\n",
      "200\n",
      "200\n",
      "200\n",
      "200\n",
      "200\n",
      "200\n",
      "200\n",
      "200\n",
      "200\n",
      "200\n",
      "200\n",
      "200\n",
      "200\n",
      "200\n",
      "200\n",
      "200\n",
      "200\n",
      "200\n",
      "200\n",
      "200\n",
      "200\n",
      "200\n",
      "200\n",
      "200\n",
      "200\n",
      "200\n",
      "200\n",
      "200\n",
      "200\n",
      "200\n",
      "200\n",
      "200\n",
      "200\n",
      "200\n",
      "200\n",
      "200\n",
      "200\n",
      "200\n",
      "200\n",
      "200\n",
      "200\n",
      "200\n",
      "200\n",
      "200\n",
      "200\n",
      "200\n",
      "200\n",
      "200\n",
      "200\n",
      "200\n",
      "200\n",
      "200\n",
      "200\n",
      "200\n",
      "200\n",
      "200\n",
      "200\n",
      "200\n",
      "200\n",
      "200\n",
      "200\n"
     ]
    }
   ],
   "source": [
    "# take a few minutes\n",
    "import time\n",
    "for idx in df.index:\n",
    "    response = requests.get(df.loc[idx, \"CS_Course\"])\n",
    "    print(response.status_code)\n",
    "    soup = BeautifulSoup(response.text, \"html.parser\")\n",
    "    content_list = soup.select(\"#main-content p\")\n",
    "    df.at[idx, \"Desc\"] = content_list[0]\n",
    "    # time.sleep(1) # 1초 Sleep\n",
    "    # 이 코드가 정상적으로 실행된 뒤에 넘어가라"
   ]
  },
  {
   "cell_type": "code",
   "execution_count": 16,
   "metadata": {},
   "outputs": [
    {
     "name": "stdout",
     "output_type": "stream",
     "text": [
      "                                             CS_Course  \\\n",
      "0    https://www.mccormick.northwestern.edu/compute...   \n",
      "1    https://www.mccormick.northwestern.edu/compute...   \n",
      "2    https://www.mccormick.northwestern.edu/compute...   \n",
      "3    https://www.mccormick.northwestern.edu/compute...   \n",
      "4    https://www.mccormick.northwestern.edu/compute...   \n",
      "..                                                 ...   \n",
      "137  https://www.mccormick.northwestern.edu/compute...   \n",
      "138  https://www.mccormick.northwestern.edu/compute...   \n",
      "139  https://www.mccormick.northwestern.edu/compute...   \n",
      "140  https://www.mccormick.northwestern.edu/compute...   \n",
      "141  https://www.mccormick.northwestern.edu/compute...   \n",
      "\n",
      "                                                  Desc  \n",
      "0    [Introduction to programming practice using Py...  \n",
      "1    [This is an introductory course on the fundame...  \n",
      "2    [Intended for students who have completed COMP...  \n",
      "3    [Overview of computer engineering design. Numb...  \n",
      "4    [[CATALOG DESCRIPTION: ], Basics of assembly l...  \n",
      "..                                                 ...  \n",
      "137  [This graduate-level seminar class will cover ...  \n",
      "138  [Digital Musical Instrument Design approaches ...  \n",
      "139  [This seminar class will focus on reading rese...  \n",
      "140  [In the first half of this course, we will exp...  \n",
      "141  [This is an advanced topics seminar that will ...  \n",
      "\n",
      "[142 rows x 2 columns]\n"
     ]
    }
   ],
   "source": [
    "print(df)"
   ]
  },
  {
   "cell_type": "code",
   "execution_count": 17,
   "metadata": {},
   "outputs": [
    {
     "data": {
      "text/html": [
       "<div>\n",
       "<style scoped>\n",
       "    .dataframe tbody tr th:only-of-type {\n",
       "        vertical-align: middle;\n",
       "    }\n",
       "\n",
       "    .dataframe tbody tr th {\n",
       "        vertical-align: top;\n",
       "    }\n",
       "\n",
       "    .dataframe thead th {\n",
       "        text-align: right;\n",
       "    }\n",
       "</style>\n",
       "<table border=\"1\" class=\"dataframe\">\n",
       "  <thead>\n",
       "    <tr style=\"text-align: right;\">\n",
       "      <th></th>\n",
       "      <th>CS_Course</th>\n",
       "      <th>Desc</th>\n",
       "    </tr>\n",
       "  </thead>\n",
       "  <tbody>\n",
       "    <tr>\n",
       "      <th>0</th>\n",
       "      <td>https://www.mccormick.northwestern.edu/compute...</td>\n",
       "      <td>[Introduction to programming practice using Py...</td>\n",
       "    </tr>\n",
       "    <tr>\n",
       "      <th>1</th>\n",
       "      <td>https://www.mccormick.northwestern.edu/compute...</td>\n",
       "      <td>[This is an introductory course on the fundame...</td>\n",
       "    </tr>\n",
       "    <tr>\n",
       "      <th>2</th>\n",
       "      <td>https://www.mccormick.northwestern.edu/compute...</td>\n",
       "      <td>[Intended for students who have completed COMP...</td>\n",
       "    </tr>\n",
       "    <tr>\n",
       "      <th>3</th>\n",
       "      <td>https://www.mccormick.northwestern.edu/compute...</td>\n",
       "      <td>[Overview of computer engineering design. Numb...</td>\n",
       "    </tr>\n",
       "    <tr>\n",
       "      <th>4</th>\n",
       "      <td>https://www.mccormick.northwestern.edu/compute...</td>\n",
       "      <td>[[CATALOG DESCRIPTION: ], Basics of assembly l...</td>\n",
       "    </tr>\n",
       "    <tr>\n",
       "      <th>...</th>\n",
       "      <td>...</td>\n",
       "      <td>...</td>\n",
       "    </tr>\n",
       "    <tr>\n",
       "      <th>137</th>\n",
       "      <td>https://www.mccormick.northwestern.edu/compute...</td>\n",
       "      <td>[This graduate-level seminar class will cover ...</td>\n",
       "    </tr>\n",
       "    <tr>\n",
       "      <th>138</th>\n",
       "      <td>https://www.mccormick.northwestern.edu/compute...</td>\n",
       "      <td>[Digital Musical Instrument Design approaches ...</td>\n",
       "    </tr>\n",
       "    <tr>\n",
       "      <th>139</th>\n",
       "      <td>https://www.mccormick.northwestern.edu/compute...</td>\n",
       "      <td>[This seminar class will focus on reading rese...</td>\n",
       "    </tr>\n",
       "    <tr>\n",
       "      <th>140</th>\n",
       "      <td>https://www.mccormick.northwestern.edu/compute...</td>\n",
       "      <td>[In the first half of this course, we will exp...</td>\n",
       "    </tr>\n",
       "    <tr>\n",
       "      <th>141</th>\n",
       "      <td>https://www.mccormick.northwestern.edu/compute...</td>\n",
       "      <td>[This is an advanced topics seminar that will ...</td>\n",
       "    </tr>\n",
       "  </tbody>\n",
       "</table>\n",
       "<p>142 rows × 2 columns</p>\n",
       "</div>"
      ],
      "text/plain": [
       "                                             CS_Course  \\\n",
       "0    https://www.mccormick.northwestern.edu/compute...   \n",
       "1    https://www.mccormick.northwestern.edu/compute...   \n",
       "2    https://www.mccormick.northwestern.edu/compute...   \n",
       "3    https://www.mccormick.northwestern.edu/compute...   \n",
       "4    https://www.mccormick.northwestern.edu/compute...   \n",
       "..                                                 ...   \n",
       "137  https://www.mccormick.northwestern.edu/compute...   \n",
       "138  https://www.mccormick.northwestern.edu/compute...   \n",
       "139  https://www.mccormick.northwestern.edu/compute...   \n",
       "140  https://www.mccormick.northwestern.edu/compute...   \n",
       "141  https://www.mccormick.northwestern.edu/compute...   \n",
       "\n",
       "                                                  Desc  \n",
       "0    [Introduction to programming practice using Py...  \n",
       "1    [This is an introductory course on the fundame...  \n",
       "2    [Intended for students who have completed COMP...  \n",
       "3    [Overview of computer engineering design. Numb...  \n",
       "4    [[CATALOG DESCRIPTION: ], Basics of assembly l...  \n",
       "..                                                 ...  \n",
       "137  [This graduate-level seminar class will cover ...  \n",
       "138  [Digital Musical Instrument Design approaches ...  \n",
       "139  [This seminar class will focus on reading rese...  \n",
       "140  [In the first half of this course, we will exp...  \n",
       "141  [This is an advanced topics seminar that will ...  \n",
       "\n",
       "[142 rows x 2 columns]"
      ]
     },
     "execution_count": 17,
     "metadata": {},
     "output_type": "execute_result"
    }
   ],
   "source": [
    "df"
   ]
  },
  {
   "cell_type": "code",
   "execution_count": 18,
   "metadata": {},
   "outputs": [],
   "source": [
    "df.to_csv('./course_description.csv')"
   ]
  },
  {
   "cell_type": "markdown",
   "metadata": {},
   "source": [
    "---"
   ]
  },
  {
   "cell_type": "markdown",
   "metadata": {},
   "source": [
    "https://spacy.io/"
   ]
  },
  {
   "cell_type": "code",
   "execution_count": 2,
   "metadata": {},
   "outputs": [],
   "source": [
    "import nltk # 최근 nltk 보다 spaCy 모듈을 사용하는 추세"
   ]
  },
  {
   "cell_type": "code",
   "execution_count": 3,
   "metadata": {},
   "outputs": [
    {
     "data": {
      "text/plain": [
       "1074"
      ]
     },
     "execution_count": 3,
     "metadata": {},
     "output_type": "execute_result"
    }
   ],
   "source": [
    "sample_txt = \"The Ukrainian military is doubling down on efforts to break through thick Russian defenses in its counteroffensive in the south, which has struggled to gain momentum since being launched at the beginning of June.Ukrainian officials have said little about what fresh units are being committed to the offensive, but the military has clearly added recently-minted units equipped with western armor in at least one important segment of the southern front.The challenges faced by the Ukrainians are perhaps less to do with numbers and more to do with capabilities, training and coordination, factors that are critical when an attacking force is faced with such an array of defenses.The commitment of new units last week does appear to have enabled the Ukrainians to make modest advances south of the town of Orikhiv, edging closer to the important Russian hub of Tokmak some 20 kilometers to the south of the current frontline.There are other modest successes further east, but the few frontline accounts to have emerged speak of unceasing Russian aviation and artillery strikes.\"\n",
    "len(sample_txt)"
   ]
  },
  {
   "cell_type": "code",
   "execution_count": 4,
   "metadata": {},
   "outputs": [
    {
     "name": "stdout",
     "output_type": "stream",
     "text": [
      "['The Ukrainian military is doubling down on efforts to break through thick Russian defenses in its counteroffensive in the south, which has struggled to gain momentum since being launched at the beginning of June', 'Ukrainian officials have said little about what fresh units are being committed to the offensive, but the military has clearly added recently-minted units equipped with western armor in at least one important segment of the southern front', 'The challenges faced by the Ukrainians are perhaps less to do with numbers and more to do with capabilities, training and coordination, factors that are critical when an attacking force is faced with such an array of defenses', 'The commitment of new units last week does appear to have enabled the Ukrainians to make modest advances south of the town of Orikhiv, edging closer to the important Russian hub of Tokmak some 20 kilometers to the south of the current frontline', 'There are other modest successes further east, but the few frontline accounts to have emerged speak of unceasing Russian aviation and artillery strikes', '']\n",
      "6\n"
     ]
    }
   ],
   "source": [
    "# split\n",
    "txt_list = sample_txt.split(\".\")\n",
    "print(txt_list)\n",
    "print(len(txt_list)) # -> 총 5문장 (마지막 리스트 요소 : '')"
   ]
  },
  {
   "cell_type": "code",
   "execution_count": 5,
   "metadata": {},
   "outputs": [],
   "source": [
    "from nltk.tokenize import word_tokenize"
   ]
  },
  {
   "cell_type": "code",
   "execution_count": 6,
   "metadata": {},
   "outputs": [
    {
     "name": "stderr",
     "output_type": "stream",
     "text": [
      "[nltk_data] Downloading package punkt to\n",
      "[nltk_data]     C:\\Users\\user\\AppData\\Roaming\\nltk_data...\n",
      "[nltk_data]   Package punkt is already up-to-date!\n"
     ]
    },
    {
     "data": {
      "text/plain": [
       "True"
      ]
     },
     "execution_count": 6,
     "metadata": {},
     "output_type": "execute_result"
    }
   ],
   "source": [
    "nltk.download('punkt')"
   ]
  },
  {
   "cell_type": "code",
   "execution_count": 11,
   "metadata": {},
   "outputs": [
    {
     "data": {
      "text/plain": [
       "'Ukrainian officials have said little about what fresh units are being committed to the offensive, but the military has clearly added recently-minted units equipped with western armor in at least one important segment of the southern front'"
      ]
     },
     "execution_count": 11,
     "metadata": {},
     "output_type": "execute_result"
    }
   ],
   "source": [
    "txt_list[1]"
   ]
  },
  {
   "cell_type": "code",
   "execution_count": 20,
   "metadata": {},
   "outputs": [
    {
     "data": {
      "text/plain": [
       "['Ukrainian',\n",
       " 'officials',\n",
       " 'have',\n",
       " 'said',\n",
       " 'little',\n",
       " 'about',\n",
       " 'what',\n",
       " 'fresh',\n",
       " 'units',\n",
       " 'are',\n",
       " 'being',\n",
       " 'committed',\n",
       " 'to',\n",
       " 'the',\n",
       " 'offensive',\n",
       " ',',\n",
       " 'but',\n",
       " 'the',\n",
       " 'military',\n",
       " 'has',\n",
       " 'clearly',\n",
       " 'added',\n",
       " 'recently-minted',\n",
       " 'units',\n",
       " 'equipped',\n",
       " 'with',\n",
       " 'western',\n",
       " 'armor',\n",
       " 'in',\n",
       " 'at',\n",
       " 'least',\n",
       " 'one',\n",
       " 'important',\n",
       " 'segment',\n",
       " 'of',\n",
       " 'the',\n",
       " 'southern',\n",
       " 'front']"
      ]
     },
     "execution_count": 20,
     "metadata": {},
     "output_type": "execute_result"
    }
   ],
   "source": [
    "word_tokenize(txt_list[1])"
   ]
  },
  {
   "cell_type": "code",
   "execution_count": 10,
   "metadata": {},
   "outputs": [
    {
     "name": "stdout",
     "output_type": "stream",
     "text": [
      "0\n",
      "1\n",
      "2\n",
      "3\n",
      "4\n"
     ]
    },
    {
     "data": {
      "text/plain": [
       "[['The',\n",
       "  'Ukrainian',\n",
       "  'military',\n",
       "  'is',\n",
       "  'doubling',\n",
       "  'down',\n",
       "  'on',\n",
       "  'efforts',\n",
       "  'to',\n",
       "  'break',\n",
       "  'through',\n",
       "  'thick',\n",
       "  'Russian',\n",
       "  'defenses',\n",
       "  'in',\n",
       "  'its',\n",
       "  'counteroffensive',\n",
       "  'in',\n",
       "  'the',\n",
       "  'south',\n",
       "  ',',\n",
       "  'which',\n",
       "  'has',\n",
       "  'struggled',\n",
       "  'to',\n",
       "  'gain',\n",
       "  'momentum',\n",
       "  'since',\n",
       "  'being',\n",
       "  'launched',\n",
       "  'at',\n",
       "  'the',\n",
       "  'beginning',\n",
       "  'of',\n",
       "  'June'],\n",
       " ['Ukrainian',\n",
       "  'officials',\n",
       "  'have',\n",
       "  'said',\n",
       "  'little',\n",
       "  'about',\n",
       "  'what',\n",
       "  'fresh',\n",
       "  'units',\n",
       "  'are',\n",
       "  'being',\n",
       "  'committed',\n",
       "  'to',\n",
       "  'the',\n",
       "  'offensive',\n",
       "  ',',\n",
       "  'but',\n",
       "  'the',\n",
       "  'military',\n",
       "  'has',\n",
       "  'clearly',\n",
       "  'added',\n",
       "  'recently-minted',\n",
       "  'units',\n",
       "  'equipped',\n",
       "  'with',\n",
       "  'western',\n",
       "  'armor',\n",
       "  'in',\n",
       "  'at',\n",
       "  'least',\n",
       "  'one',\n",
       "  'important',\n",
       "  'segment',\n",
       "  'of',\n",
       "  'the',\n",
       "  'southern',\n",
       "  'front'],\n",
       " ['The',\n",
       "  'challenges',\n",
       "  'faced',\n",
       "  'by',\n",
       "  'the',\n",
       "  'Ukrainians',\n",
       "  'are',\n",
       "  'perhaps',\n",
       "  'less',\n",
       "  'to',\n",
       "  'do',\n",
       "  'with',\n",
       "  'numbers',\n",
       "  'and',\n",
       "  'more',\n",
       "  'to',\n",
       "  'do',\n",
       "  'with',\n",
       "  'capabilities',\n",
       "  ',',\n",
       "  'training',\n",
       "  'and',\n",
       "  'coordination',\n",
       "  ',',\n",
       "  'factors',\n",
       "  'that',\n",
       "  'are',\n",
       "  'critical',\n",
       "  'when',\n",
       "  'an',\n",
       "  'attacking',\n",
       "  'force',\n",
       "  'is',\n",
       "  'faced',\n",
       "  'with',\n",
       "  'such',\n",
       "  'an',\n",
       "  'array',\n",
       "  'of',\n",
       "  'defenses'],\n",
       " ['The',\n",
       "  'commitment',\n",
       "  'of',\n",
       "  'new',\n",
       "  'units',\n",
       "  'last',\n",
       "  'week',\n",
       "  'does',\n",
       "  'appear',\n",
       "  'to',\n",
       "  'have',\n",
       "  'enabled',\n",
       "  'the',\n",
       "  'Ukrainians',\n",
       "  'to',\n",
       "  'make',\n",
       "  'modest',\n",
       "  'advances',\n",
       "  'south',\n",
       "  'of',\n",
       "  'the',\n",
       "  'town',\n",
       "  'of',\n",
       "  'Orikhiv',\n",
       "  ',',\n",
       "  'edging',\n",
       "  'closer',\n",
       "  'to',\n",
       "  'the',\n",
       "  'important',\n",
       "  'Russian',\n",
       "  'hub',\n",
       "  'of',\n",
       "  'Tokmak',\n",
       "  'some',\n",
       "  '20',\n",
       "  'kilometers',\n",
       "  'to',\n",
       "  'the',\n",
       "  'south',\n",
       "  'of',\n",
       "  'the',\n",
       "  'current',\n",
       "  'frontline'],\n",
       " ['There',\n",
       "  'are',\n",
       "  'other',\n",
       "  'modest',\n",
       "  'successes',\n",
       "  'further',\n",
       "  'east',\n",
       "  ',',\n",
       "  'but',\n",
       "  'the',\n",
       "  'few',\n",
       "  'frontline',\n",
       "  'accounts',\n",
       "  'to',\n",
       "  'have',\n",
       "  'emerged',\n",
       "  'speak',\n",
       "  'of',\n",
       "  'unceasing',\n",
       "  'Russian',\n",
       "  'aviation',\n",
       "  'and',\n",
       "  'artillery',\n",
       "  'strikes']]"
      ]
     },
     "execution_count": 10,
     "metadata": {},
     "output_type": "execute_result"
    }
   ],
   "source": [
    "tokenize_list = []\n",
    "\n",
    "for i in range(len(txt_list)-1):\n",
    "    tokenize_list.append(  word_tokenize(txt_list[i])  )\n",
    "    print(i)\n",
    "tokenize_list"
   ]
  },
  {
   "cell_type": "code",
   "execution_count": 16,
   "metadata": {},
   "outputs": [
    {
     "name": "stderr",
     "output_type": "stream",
     "text": [
      "[nltk_data] Downloading package averaged_perceptron_tagger to\n",
      "[nltk_data]     C:\\Users\\user\\AppData\\Roaming\\nltk_data...\n",
      "[nltk_data]   Package averaged_perceptron_tagger is already up-to-\n",
      "[nltk_data]       date!\n",
      "[nltk_data] Downloading package stopwords to\n",
      "[nltk_data]     C:\\Users\\user\\AppData\\Roaming\\nltk_data...\n",
      "[nltk_data]   Package stopwords is already up-to-date!\n"
     ]
    }
   ],
   "source": [
    "# Tagging\n",
    "# Stopword - is, a, the\n",
    "# nltk.pos_tag\n",
    "# tokenize_list\n",
    "nltk.download('averaged_perceptron_tagger') # pos tagging\n",
    "nltk.download('stopwords') # stopword\n",
    "\n",
    "pos = nltk.pos_tag(tokenize_list[0])\n",
    "stop = nltk.corpus.stopwords.words(\"english\") # parameter"
   ]
  },
  {
   "cell_type": "code",
   "execution_count": 17,
   "metadata": {},
   "outputs": [
    {
     "name": "stdout",
     "output_type": "stream",
     "text": [
      "[('The', 'DT'), ('Ukrainian', 'JJ'), ('military', 'NN'), ('is', 'VBZ'), ('doubling', 'VBG'), ('down', 'RP'), ('on', 'IN'), ('efforts', 'NNS'), ('to', 'TO'), ('break', 'VB'), ('through', 'IN'), ('thick', 'JJ'), ('Russian', 'JJ'), ('defenses', 'NNS'), ('in', 'IN'), ('its', 'PRP$'), ('counteroffensive', 'NN'), ('in', 'IN'), ('the', 'DT'), ('south', 'NN'), (',', ','), ('which', 'WDT'), ('has', 'VBZ'), ('struggled', 'VBN'), ('to', 'TO'), ('gain', 'VB'), ('momentum', 'NN'), ('since', 'IN'), ('being', 'VBG'), ('launched', 'VBN'), ('at', 'IN'), ('the', 'DT'), ('beginning', 'NN'), ('of', 'IN'), ('June', 'NNP')]\n"
     ]
    }
   ],
   "source": [
    "print(pos)"
   ]
  },
  {
   "cell_type": "code",
   "execution_count": 18,
   "metadata": {},
   "outputs": [
    {
     "name": "stdout",
     "output_type": "stream",
     "text": [
      "['i', 'me', 'my', 'myself', 'we', 'our', 'ours', 'ourselves', 'you', \"you're\", \"you've\", \"you'll\", \"you'd\", 'your', 'yours', 'yourself', 'yourselves', 'he', 'him', 'his', 'himself', 'she', \"she's\", 'her', 'hers', 'herself', 'it', \"it's\", 'its', 'itself', 'they', 'them', 'their', 'theirs', 'themselves', 'what', 'which', 'who', 'whom', 'this', 'that', \"that'll\", 'these', 'those', 'am', 'is', 'are', 'was', 'were', 'be', 'been', 'being', 'have', 'has', 'had', 'having', 'do', 'does', 'did', 'doing', 'a', 'an', 'the', 'and', 'but', 'if', 'or', 'because', 'as', 'until', 'while', 'of', 'at', 'by', 'for', 'with', 'about', 'against', 'between', 'into', 'through', 'during', 'before', 'after', 'above', 'below', 'to', 'from', 'up', 'down', 'in', 'out', 'on', 'off', 'over', 'under', 'again', 'further', 'then', 'once', 'here', 'there', 'when', 'where', 'why', 'how', 'all', 'any', 'both', 'each', 'few', 'more', 'most', 'other', 'some', 'such', 'no', 'nor', 'not', 'only', 'own', 'same', 'so', 'than', 'too', 'very', 's', 't', 'can', 'will', 'just', 'don', \"don't\", 'should', \"should've\", 'now', 'd', 'll', 'm', 'o', 're', 've', 'y', 'ain', 'aren', \"aren't\", 'couldn', \"couldn't\", 'didn', \"didn't\", 'doesn', \"doesn't\", 'hadn', \"hadn't\", 'hasn', \"hasn't\", 'haven', \"haven't\", 'isn', \"isn't\", 'ma', 'mightn', \"mightn't\", 'mustn', \"mustn't\", 'needn', \"needn't\", 'shan', \"shan't\", 'shouldn', \"shouldn't\", 'wasn', \"wasn't\", 'weren', \"weren't\", 'won', \"won't\", 'wouldn', \"wouldn't\"]\n"
     ]
    }
   ],
   "source": [
    "print(stop)"
   ]
  },
  {
   "cell_type": "code",
   "execution_count": 22,
   "metadata": {},
   "outputs": [
    {
     "name": "stdout",
     "output_type": "stream",
     "text": [
      "('Ukrainian', 'JJ')\n",
      "('military', 'NN')\n",
      "('doubling', 'VBG')\n",
      "('efforts', 'NNS')\n",
      "('break', 'VB')\n",
      "('thick', 'JJ')\n",
      "('Russian', 'JJ')\n",
      "('defenses', 'NNS')\n",
      "('counteroffensive', 'NN')\n",
      "('south', 'NN')\n",
      "(',', ',')\n",
      "('struggled', 'VBN')\n",
      "('gain', 'VB')\n",
      "('momentum', 'NN')\n",
      "('since', 'IN')\n",
      "('launched', 'VBN')\n",
      "('beginning', 'NN')\n",
      "('June', 'NNP')\n"
     ]
    }
   ],
   "source": [
    "# stopword list에 포함된 단어는 제외\n",
    "for i in pos:\n",
    "  if str(i[0]).lower() not in stop:\n",
    "    print(i)"
   ]
  },
  {
   "cell_type": "markdown",
   "metadata": {},
   "source": [
    "---"
   ]
  },
  {
   "cell_type": "code",
   "execution_count": 23,
   "metadata": {},
   "outputs": [],
   "source": [
    "import pandas as pd"
   ]
  },
  {
   "cell_type": "code",
   "execution_count": 28,
   "metadata": {},
   "outputs": [],
   "source": [
    "df = pd.read_csv('course_description.csv')"
   ]
  },
  {
   "cell_type": "code",
   "execution_count": 29,
   "metadata": {},
   "outputs": [
    {
     "name": "stdout",
     "output_type": "stream",
     "text": [
      "<class 'pandas.core.frame.DataFrame'>\n",
      "RangeIndex: 142 entries, 0 to 141\n",
      "Data columns (total 3 columns):\n",
      " #   Column      Non-Null Count  Dtype \n",
      "---  ------      --------------  ----- \n",
      " 0   Unnamed: 0  142 non-null    int64 \n",
      " 1   CS_Course   142 non-null    object\n",
      " 2   Desc        142 non-null    object\n",
      "dtypes: int64(1), object(2)\n",
      "memory usage: 3.5+ KB\n"
     ]
    }
   ],
   "source": [
    "df.info()"
   ]
  },
  {
   "cell_type": "code",
   "execution_count": 30,
   "metadata": {},
   "outputs": [
    {
     "data": {
      "text/html": [
       "<div>\n",
       "<style scoped>\n",
       "    .dataframe tbody tr th:only-of-type {\n",
       "        vertical-align: middle;\n",
       "    }\n",
       "\n",
       "    .dataframe tbody tr th {\n",
       "        vertical-align: top;\n",
       "    }\n",
       "\n",
       "    .dataframe thead th {\n",
       "        text-align: right;\n",
       "    }\n",
       "</style>\n",
       "<table border=\"1\" class=\"dataframe\">\n",
       "  <thead>\n",
       "    <tr style=\"text-align: right;\">\n",
       "      <th></th>\n",
       "      <th>Unnamed: 0</th>\n",
       "      <th>CS_Course</th>\n",
       "      <th>Desc</th>\n",
       "    </tr>\n",
       "  </thead>\n",
       "  <tbody>\n",
       "    <tr>\n",
       "      <th>0</th>\n",
       "      <td>0</td>\n",
       "      <td>https://www.mccormick.northwestern.edu/compute...</td>\n",
       "      <td>&lt;p&gt;Introduction to programming practice using ...</td>\n",
       "    </tr>\n",
       "    <tr>\n",
       "      <th>1</th>\n",
       "      <td>1</td>\n",
       "      <td>https://www.mccormick.northwestern.edu/compute...</td>\n",
       "      <td>&lt;p&gt;This is an introductory course on the funda...</td>\n",
       "    </tr>\n",
       "    <tr>\n",
       "      <th>2</th>\n",
       "      <td>2</td>\n",
       "      <td>https://www.mccormick.northwestern.edu/compute...</td>\n",
       "      <td>&lt;p&gt;Intended for students who have completed CO...</td>\n",
       "    </tr>\n",
       "    <tr>\n",
       "      <th>3</th>\n",
       "      <td>3</td>\n",
       "      <td>https://www.mccormick.northwestern.edu/compute...</td>\n",
       "      <td>&lt;p&gt;Overview of computer engineering design. Nu...</td>\n",
       "    </tr>\n",
       "    <tr>\n",
       "      <th>4</th>\n",
       "      <td>4</td>\n",
       "      <td>https://www.mccormick.northwestern.edu/compute...</td>\n",
       "      <td>&lt;p&gt;&lt;strong&gt;CATALOG DESCRIPTION: &lt;/strong&gt;Basic...</td>\n",
       "    </tr>\n",
       "  </tbody>\n",
       "</table>\n",
       "</div>"
      ],
      "text/plain": [
       "   Unnamed: 0                                          CS_Course  \\\n",
       "0           0  https://www.mccormick.northwestern.edu/compute...   \n",
       "1           1  https://www.mccormick.northwestern.edu/compute...   \n",
       "2           2  https://www.mccormick.northwestern.edu/compute...   \n",
       "3           3  https://www.mccormick.northwestern.edu/compute...   \n",
       "4           4  https://www.mccormick.northwestern.edu/compute...   \n",
       "\n",
       "                                                Desc  \n",
       "0  <p>Introduction to programming practice using ...  \n",
       "1  <p>This is an introductory course on the funda...  \n",
       "2  <p>Intended for students who have completed CO...  \n",
       "3  <p>Overview of computer engineering design. Nu...  \n",
       "4  <p><strong>CATALOG DESCRIPTION: </strong>Basic...  "
      ]
     },
     "execution_count": 30,
     "metadata": {},
     "output_type": "execute_result"
    }
   ],
   "source": [
    "df.head()"
   ]
  },
  {
   "cell_type": "code",
   "execution_count": 34,
   "metadata": {},
   "outputs": [],
   "source": [
    "df = pd.read_csv(\"course_description.csv\", encoding_errors=\"ignore\", usecols=[\"Desc\"]) # 인코딩 종류 utf-8, utf-16, cp949, euc-kr"
   ]
  },
  {
   "cell_type": "code",
   "execution_count": 35,
   "metadata": {},
   "outputs": [
    {
     "name": "stdout",
     "output_type": "stream",
     "text": [
      "<class 'pandas.core.frame.DataFrame'>\n",
      "RangeIndex: 142 entries, 0 to 141\n",
      "Data columns (total 1 columns):\n",
      " #   Column  Non-Null Count  Dtype \n",
      "---  ------  --------------  ----- \n",
      " 0   Desc    142 non-null    object\n",
      "dtypes: object(1)\n",
      "memory usage: 1.2+ KB\n"
     ]
    }
   ],
   "source": [
    "df.info()"
   ]
  },
  {
   "cell_type": "code",
   "execution_count": 36,
   "metadata": {},
   "outputs": [
    {
     "data": {
      "text/html": [
       "<div>\n",
       "<style scoped>\n",
       "    .dataframe tbody tr th:only-of-type {\n",
       "        vertical-align: middle;\n",
       "    }\n",
       "\n",
       "    .dataframe tbody tr th {\n",
       "        vertical-align: top;\n",
       "    }\n",
       "\n",
       "    .dataframe thead th {\n",
       "        text-align: right;\n",
       "    }\n",
       "</style>\n",
       "<table border=\"1\" class=\"dataframe\">\n",
       "  <thead>\n",
       "    <tr style=\"text-align: right;\">\n",
       "      <th></th>\n",
       "      <th>Desc</th>\n",
       "    </tr>\n",
       "  </thead>\n",
       "  <tbody>\n",
       "    <tr>\n",
       "      <th>0</th>\n",
       "      <td>&lt;p&gt;Introduction to programming practice using ...</td>\n",
       "    </tr>\n",
       "    <tr>\n",
       "      <th>1</th>\n",
       "      <td>&lt;p&gt;This is an introductory course on the funda...</td>\n",
       "    </tr>\n",
       "    <tr>\n",
       "      <th>2</th>\n",
       "      <td>&lt;p&gt;Intended for students who have completed CO...</td>\n",
       "    </tr>\n",
       "    <tr>\n",
       "      <th>3</th>\n",
       "      <td>&lt;p&gt;Overview of computer engineering design. Nu...</td>\n",
       "    </tr>\n",
       "    <tr>\n",
       "      <th>4</th>\n",
       "      <td>&lt;p&gt;&lt;strong&gt;CATALOG DESCRIPTION: &lt;/strong&gt;Basic...</td>\n",
       "    </tr>\n",
       "  </tbody>\n",
       "</table>\n",
       "</div>"
      ],
      "text/plain": [
       "                                                Desc\n",
       "0  <p>Introduction to programming practice using ...\n",
       "1  <p>This is an introductory course on the funda...\n",
       "2  <p>Intended for students who have completed CO...\n",
       "3  <p>Overview of computer engineering design. Nu...\n",
       "4  <p><strong>CATALOG DESCRIPTION: </strong>Basic..."
      ]
     },
     "execution_count": 36,
     "metadata": {},
     "output_type": "execute_result"
    }
   ],
   "source": [
    "df.head()"
   ]
  },
  {
   "cell_type": "code",
   "execution_count": 45,
   "metadata": {},
   "outputs": [
    {
     "data": {
      "text/plain": [
       "[\"<p>Introduction to programming practice using Python. Analysis and formulation of problems for computer solution. Systematic design, construction, and testing of programs. Substantial programming assignments in Python. See professor's website for an updated syllabus.</p>\",\n",
       " '<p>This is an introductory course on the fundamentals of computer programming. I see this class as an opportunity for you, the student, to see what computer programming is all about and (more importantly) to see whether you want to spend the next few years doing more of it. This course will include weekly programming projects, readings, a midterm, and final examinations. Class participation is not optional.</p>',\n",
       " '<p>Intended for students who have completed COMP_SCI 111, but don’t have any other formal Computer Science background. It will provide an introduction to object-oriented programming in Python, preparing students for future courses such as COMP_SCI 211.\\xa0</p>',\n",
       " '<p>Overview of computer engineering design. Number systems and Boolean algebra. Logic gates. Design of combinational circuits and simplification. Decoders, multiplexors, adders. Sequential logic and flip flops. Introduction to assembly language. \\xa0</p>',\n",
       " '<p><strong>CATALOG DESCRIPTION:\\xa0</strong>Basics of assembly language programming and instruction set architectures. System stack and procedure calls. Techniques for writing assembly language programs. The course covers ARM32 instruction set and basic I/O. Interfaces between high-level languages and assembly codes will be discussed.</p>',\n",
       " '<p><strong>CATALOG DESCRIPTION: </strong> CS 211 teaches foundational software design skills at a small-to-medium scale. We aim to provide a bridge from the student-oriented <em>How to Design Programs</em> languages to real, industry-standard languages and tools. In the first half of the course, you’ll learn the basics of imperative programming and manual memory management using the C programming language. In the second half of the course, we’ll transition to C++, which provides abstraction mechanisms such as classes and templates that we use to express our design ideas. Topics include expressions, statements, types, functions, branches and iteration, user-defined types, data hiding, basic UNIX shell usage, and testing.</p>',\n",
       " '<p>This course will discuss fundamental concepts and tools in discrete mathematics with emphasis on their applications to computer science. Example topics include logic and Boolean circuits; sets, functions, relations, databases, and finite automata; deterministic algorithms and randomized algorithms; analysis techniques based on counting methods and recurrence equations; trees and more general graphs.</p>',\n",
       " '<p>This course has four purposes: (1) to learn about the hierarchy of abstractions and implementations that comprise a modern computer system; (2) to demystify the machine and the tools that we use to program it; (3) to come up to speed on systems programming in C in the Unix environment; (4) to prepare students for upper-level systems courses.</p>',\n",
       " '<p>The design, implementation, and analysis of abstract data types, data structures and their algorithms. Topics include: data and procedural abstraction, amortized data structures, trees and search trees, hash tables, priority queues, graphs, shortest paths, searching, and sorting. Required for computer science majors.</p>',\n",
       " '<p>This course will teach students how to organize and analyze real-world data sets using tools that are most commonly used in the business world. In particular, students will learn the SQL language for analyzing data in relational databases. Students will also learn the details of common data encodings (integer, floating point, fixed point, text, date and time), how such data are structured in data files, and how to model complex data sets as a series of SQL tables. In other words, students will learn how to organize large data sets, and to answer questions using that data. The SQL skills taught in COMP_SCI 217 are essential for “data science” practitioners, especially when working with business data. COMP_SCI 217 is all about data, but not really about statistics, visualization, or programming (except SQL, which will be taught). Homework assignments will use the SQ database management systems. Some homework needs basic python programming as well.<br/>COMP_SCI 217 is different from the COMP_SCI 339 and ELEC_ENG/COMP_ENG 495 “Introduction to Databases” courses that we offer to computer science students in that COMP_SCI 217 does not teach the details of how database management systems are built. In other words, the students in this class will learn how to use a database system, not how to build it from scratch.Formerly COMP_SCI 317.</p>']"
      ]
     },
     "execution_count": 45,
     "metadata": {},
     "output_type": "execute_result"
    }
   ],
   "source": [
    "content_list = df[\"Desc\"].tolist() # 데이터프레임에서 반복문을 돌리면 시간이 오래 걸림. 속도를 높이기 위해서 리스트로 형 변환. \n",
    "content_list[:10]"
   ]
  },
  {
   "cell_type": "markdown",
   "metadata": {},
   "source": [
    "xa0 제거 방법 참고  \n",
    "https://stackoverflow.com/questions/10993612/how-to-remove-xa0-from-string-in-python"
   ]
  },
  {
   "cell_type": "code",
   "execution_count": 46,
   "metadata": {},
   "outputs": [
    {
     "data": {
      "text/plain": [
       "[\"Introduction to programming practice using Python. Analysis and formulation of problems for computer solution. Systematic design, construction, and testing of programs. Substantial programming assignments in Python. See professor's website for an updated syllabus.\",\n",
       " 'This is an introductory course on the fundamentals of computer programming. I see this class as an opportunity for you, the student, to see what computer programming is all about and (more importantly) to see whether you want to spend the next few years doing more of it. This course will include weekly programming projects, readings, a midterm, and final examinations. Class participation is not optional.',\n",
       " 'Intended for students who have completed COMP_SCI 111, but don’t have any other formal Computer Science background. It will provide an introduction to object-oriented programming in Python, preparing students for future courses such as COMP_SCI 211.\\xa0',\n",
       " 'Overview of computer engineering design. Number systems and Boolean algebra. Logic gates. Design of combinational circuits and simplification. Decoders, multiplexors, adders. Sequential logic and flip flops. Introduction to assembly language. \\xa0',\n",
       " 'CATALOG DESCRIPTION:\\xa0Basics of assembly language programming and instruction set architectures. System stack and procedure calls. Techniques for writing assembly language programs. The course covers ARM32 instruction set and basic I/O. Interfaces between high-level languages and assembly codes will be discussed.',\n",
       " 'CATALOG DESCRIPTION:  CS 211 teaches foundational software design skills at a small-to-medium scale. We aim to provide a bridge from the student-oriented How to Design Programs languages to real, industry-standard languages and tools. In the first half of the course, you’ll learn the basics of imperative programming and manual memory management using the C programming language. In the second half of the course, we’ll transition to C++, which provides abstraction mechanisms such as classes and templates that we use to express our design ideas. Topics include expressions, statements, types, functions, branches and iteration, user-defined types, data hiding, basic UNIX shell usage, and testing.',\n",
       " 'This course will discuss fundamental concepts and tools in discrete mathematics with emphasis on their applications to computer science. Example topics include logic and Boolean circuits; sets, functions, relations, databases, and finite automata; deterministic algorithms and randomized algorithms; analysis techniques based on counting methods and recurrence equations; trees and more general graphs.',\n",
       " 'This course has four purposes: (1) to learn about the hierarchy of abstractions and implementations that comprise a modern computer system; (2) to demystify the machine and the tools that we use to program it; (3) to come up to speed on systems programming in C in the Unix environment; (4) to prepare students for upper-level systems courses.',\n",
       " 'The design, implementation, and analysis of abstract data types, data structures and their algorithms. Topics include: data and procedural abstraction, amortized data structures, trees and search trees, hash tables, priority queues, graphs, shortest paths, searching, and sorting. Required for computer science majors.',\n",
       " 'This course will teach students how to organize and analyze real-world data sets using tools that are most commonly used in the business world. In particular, students will learn the SQL language for analyzing data in relational databases. Students will also learn the details of common data encodings (integer, floating point, fixed point, text, date and time), how such data are structured in data files, and how to model complex data sets as a series of SQL tables. In other words, students will learn how to organize large data sets, and to answer questions using that data. The SQL skills taught in COMP_SCI 217 are essential for “data science” practitioners, especially when working with business data. COMP_SCI 217 is all about data, but not really about statistics, visualization, or programming (except SQL, which will be taught). Homework assignments will use the SQ database management systems. Some homework needs basic python programming as well.COMP_SCI 217 is different from the COMP_SCI 339 and ELEC_ENG/COMP_ENG 495 “Introduction to Databases” courses that we offer to computer science students in that COMP_SCI 217 does not teach the details of how database management systems are built. In other words, the students in this class will learn how to use a database system, not how to build it from scratch.Formerly COMP_SCI 317.']"
      ]
     },
     "execution_count": 46,
     "metadata": {},
     "output_type": "execute_result"
    }
   ],
   "source": [
    "from bs4 import BeautifulSoup as bs\n",
    "\n",
    "string_list = [bs(i, \"html.parser\").get_text() for i in content_list]  # remove html tag\n",
    "string_list[:10]"
   ]
  },
  {
   "cell_type": "code",
   "execution_count": 47,
   "metadata": {},
   "outputs": [
    {
     "data": {
      "text/plain": [
       "[\"Introduction to programming practice using Python. Analysis and formulation of problems for computer solution. Systematic design, construction, and testing of programs. Substantial programming assignments in Python. See professor's website for an updated syllabus.\",\n",
       " 'This is an introductory course on the fundamentals of computer programming. I see this class as an opportunity for you, the student, to see what computer programming is all about and (more importantly) to see whether you want to spend the next few years doing more of it. This course will include weekly programming projects, readings, a midterm, and final examinations. Class participation is not optional.',\n",
       " 'Intended for students who have completed COMP_SCI 111, but don’t have any other formal Computer Science background. It will provide an introduction to object-oriented programming in Python, preparing students for future courses such as COMP_SCI 211.\\xa0',\n",
       " 'Overview of computer engineering design. Number systems and Boolean algebra. Logic gates. Design of combinational circuits and simplification. Decoders, multiplexors, adders. Sequential logic and flip flops. Introduction to assembly language. \\xa0',\n",
       " 'CATALOG DESCRIPTION:\\xa0Basics of assembly language programming and instruction set architectures. System stack and procedure calls. Techniques for writing assembly language programs. The course covers ARM32 instruction set and basic I/O. Interfaces between high-level languages and assembly codes will be discussed.',\n",
       " 'CATALOG DESCRIPTION:  CS 211 teaches foundational software design skills at a small-to-medium scale. We aim to provide a bridge from the student-oriented How to Design Programs languages to real, industry-standard languages and tools. In the first half of the course, you’ll learn the basics of imperative programming and manual memory management using the C programming language. In the second half of the course, we’ll transition to C++, which provides abstraction mechanisms such as classes and templates that we use to express our design ideas. Topics include expressions, statements, types, functions, branches and iteration, user-defined types, data hiding, basic UNIX shell usage, and testing.',\n",
       " 'This course will discuss fundamental concepts and tools in discrete mathematics with emphasis on their applications to computer science. Example topics include logic and Boolean circuits; sets, functions, relations, databases, and finite automata; deterministic algorithms and randomized algorithms; analysis techniques based on counting methods and recurrence equations; trees and more general graphs.',\n",
       " 'This course has four purposes: (1) to learn about the hierarchy of abstractions and implementations that comprise a modern computer system; (2) to demystify the machine and the tools that we use to program it; (3) to come up to speed on systems programming in C in the Unix environment; (4) to prepare students for upper-level systems courses.',\n",
       " 'The design, implementation, and analysis of abstract data types, data structures and their algorithms. Topics include: data and procedural abstraction, amortized data structures, trees and search trees, hash tables, priority queues, graphs, shortest paths, searching, and sorting. Required for computer science majors.',\n",
       " 'This course will teach students how to organize and analyze real-world data sets using tools that are most commonly used in the business world. In particular, students will learn the SQL language for analyzing data in relational databases. Students will also learn the details of common data encodings (integer, floating point, fixed point, text, date and time), how such data are structured in data files, and how to model complex data sets as a series of SQL tables. In other words, students will learn how to organize large data sets, and to answer questions using that data. The SQL skills taught in COMP_SCI 217 are essential for “data science” practitioners, especially when working with business data. COMP_SCI 217 is all about data, but not really about statistics, visualization, or programming (except SQL, which will be taught). Homework assignments will use the SQ database management systems. Some homework needs basic python programming as well.COMP_SCI 217 is different from the COMP_SCI 339 and ELEC_ENG/COMP_ENG 495 “Introduction to Databases” courses that we offer to computer science students in that COMP_SCI 217 does not teach the details of how database management systems are built. In other words, the students in this class will learn how to use a database system, not how to build it from scratch.Formerly COMP_SCI 317.']"
      ]
     },
     "execution_count": 47,
     "metadata": {},
     "output_type": "execute_result"
    }
   ],
   "source": [
    "str_list = [bs(i, \"html.parser\").text for i in content_list]  # remove html tag\n",
    "str_list[:10]"
   ]
  }
 ],
 "metadata": {
  "kernelspec": {
   "display_name": "base",
   "language": "python",
   "name": "python3"
  },
  "language_info": {
   "codemirror_mode": {
    "name": "ipython",
    "version": 3
   },
   "file_extension": ".py",
   "mimetype": "text/x-python",
   "name": "python",
   "nbconvert_exporter": "python",
   "pygments_lexer": "ipython3",
   "version": "3.10.9"
  },
  "orig_nbformat": 4
 },
 "nbformat": 4,
 "nbformat_minor": 2
}
