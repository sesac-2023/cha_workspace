{
 "cells": [
  {
   "cell_type": "markdown",
   "id": "82a1e6b1-c4e7-4372-a705-bdf1556655dc",
   "metadata": {
    "tags": []
   },
   "source": [
    "# Pandas\n",
    "\n",
    "dtype, astype\n",
    "\n",
    "dtype - Return the dtypes in the DataFrame. This returns a Series with the data type of each column. ( type () )\n",
    "astype - Cast a pandas object to a specified dtype.\n",
    "\n",
    "https://pandas.pydata.org/docs/reference/api/pandas.DataFrame.astype.html"
   ]
  },
  {
   "cell_type": "code",
   "execution_count": 7,
   "id": "5c8c1448",
   "metadata": {},
   "outputs": [
    {
     "name": "stdout",
     "output_type": "stream",
     "text": [
      "   col1  col2\n",
      "0     1     3\n",
      "1     2     4\n"
     ]
    }
   ],
   "source": [
    "import pandas as pd\n",
    "\n",
    "d = {'col1': [1, 2], 'col2': [3, 4]}\n",
    "df = pd.DataFrame(data=d)\n",
    "print(df)"
   ]
  },
  {
   "cell_type": "code",
   "execution_count": 25,
   "id": "596658fd-17f7-4faf-8237-f251dcbed739",
   "metadata": {
    "collapsed": true,
    "jupyter": {
     "outputs_hidden": true
    },
    "tags": []
   },
   "outputs": [
    {
     "name": "stdout",
     "output_type": "stream",
     "text": [
      "col1    int64\n",
      "col2    int64\n",
      "dtype: object\n",
      "int64\n"
     ]
    }
   ],
   "source": [
    "print(df.dtypes)\n",
    "print(df[\"col1\"].dtype)"
   ]
  },
  {
   "cell_type": "code",
   "execution_count": 26,
   "id": "c5a3ccb5",
   "metadata": {},
   "outputs": [
    {
     "data": {
      "text/plain": [
       "col1    float64\n",
       "col2    float64\n",
       "dtype: object"
      ]
     },
     "execution_count": 26,
     "metadata": {},
     "output_type": "execute_result"
    }
   ],
   "source": [
    "df.astype(\"float\").dtypes"
   ]
  },
  {
   "cell_type": "code",
   "execution_count": 27,
   "id": "b65928d3",
   "metadata": {},
   "outputs": [
    {
     "data": {
      "text/plain": [
       "col1    int64\n",
       "col2    int64\n",
       "dtype: object"
      ]
     },
     "execution_count": 27,
     "metadata": {},
     "output_type": "execute_result"
    }
   ],
   "source": [
    "df.dtypes"
   ]
  },
  {
   "cell_type": "markdown",
   "id": "b6b5c459-e260-41c3-a608-d20ad36ca5f5",
   "metadata": {},
   "source": [
    "# Pandas\n",
    "\n",
    "copy, deepcopy\n",
    "\n",
    "Make a copy of this object’s indices and data. ( deep=True, deep=False )"
   ]
  },
  {
   "cell_type": "code",
   "execution_count": 29,
   "id": "560295e2",
   "metadata": {},
   "outputs": [
    {
     "name": "stdout",
     "output_type": "stream",
     "text": [
      "\u001b[1;31mSignature:\u001b[0m \u001b[0mdf\u001b[0m\u001b[1;33m.\u001b[0m\u001b[0mcopy\u001b[0m\u001b[1;33m(\u001b[0m\u001b[0mdeep\u001b[0m\u001b[1;33m:\u001b[0m \u001b[1;34m'bool_t | None'\u001b[0m \u001b[1;33m=\u001b[0m \u001b[1;32mTrue\u001b[0m\u001b[1;33m)\u001b[0m \u001b[1;33m->\u001b[0m \u001b[1;34m'Self'\u001b[0m\u001b[1;33m\u001b[0m\u001b[1;33m\u001b[0m\u001b[0m\n",
      "\u001b[1;31mDocstring:\u001b[0m\n",
      "Make a copy of this object's indices and data.\n",
      "\n",
      "When ``deep=True`` (default), a new object will be created with a\n",
      "copy of the calling object's data and indices. Modifications to\n",
      "the data or indices of the copy will not be reflected in the\n",
      "original object (see notes below).\n",
      "\n",
      "When ``deep=False``, a new object will be created without copying\n",
      "the calling object's data or index (only references to the data\n",
      "and index are copied). Any changes to the data of the original\n",
      "will be reflected in the shallow copy (and vice versa).\n",
      "\n",
      "Parameters\n",
      "----------\n",
      "deep : bool, default True\n",
      "    Make a deep copy, including a copy of the data and the indices.\n",
      "    With ``deep=False`` neither the indices nor the data are copied.\n",
      "\n",
      "Returns\n",
      "-------\n",
      "Series or DataFrame\n",
      "    Object type matches caller.\n",
      "\n",
      "Notes\n",
      "-----\n",
      "When ``deep=True``, data is copied but actual Python objects\n",
      "will not be copied recursively, only the reference to the object.\n",
      "This is in contrast to `copy.deepcopy` in the Standard Library,\n",
      "which recursively copies object data (see examples below).\n",
      "\n",
      "While ``Index`` objects are copied when ``deep=True``, the underlying\n",
      "numpy array is not copied for performance reasons. Since ``Index`` is\n",
      "immutable, the underlying data can be safely shared and a copy\n",
      "is not needed.\n",
      "\n",
      "Since pandas is not thread safe, see the\n",
      ":ref:`gotchas <gotchas.thread-safety>` when copying in a threading\n",
      "environment.\n",
      "\n",
      "When ``copy_on_write`` in pandas config is set to ``True``, the\n",
      "``copy_on_write`` config takes effect even when ``deep=False``.\n",
      "This means that any changes to the copied data would make a new copy\n",
      "of the data upon write (and vice versa). Changes made to either the\n",
      "original or copied variable would not be reflected in the counterpart.\n",
      "See :ref:`Copy_on_Write <copy_on_write>` for more information.\n",
      "\n",
      "Examples\n",
      "--------\n",
      ">>> s = pd.Series([1, 2], index=[\"a\", \"b\"])\n",
      ">>> s\n",
      "a    1\n",
      "b    2\n",
      "dtype: int64\n",
      "\n",
      ">>> s_copy = s.copy()\n",
      ">>> s_copy\n",
      "a    1\n",
      "b    2\n",
      "dtype: int64\n",
      "\n",
      "**Shallow copy versus default (deep) copy:**\n",
      "\n",
      ">>> s = pd.Series([1, 2], index=[\"a\", \"b\"])\n",
      ">>> deep = s.copy()\n",
      ">>> shallow = s.copy(deep=False)\n",
      "\n",
      "Shallow copy shares data and index with original.\n",
      "\n",
      ">>> s is shallow\n",
      "False\n",
      ">>> s.values is shallow.values and s.index is shallow.index\n",
      "True\n",
      "\n",
      "Deep copy has own copy of data and index.\n",
      "\n",
      ">>> s is deep\n",
      "False\n",
      ">>> s.values is deep.values or s.index is deep.index\n",
      "False\n",
      "\n",
      "Updates to the data shared by shallow copy and original is reflected\n",
      "in both; deep copy remains unchanged.\n",
      "\n",
      ">>> s.iloc[0] = 3\n",
      ">>> shallow.iloc[1] = 4\n",
      ">>> s\n",
      "a    3\n",
      "b    4\n",
      "dtype: int64\n",
      ">>> shallow\n",
      "a    3\n",
      "b    4\n",
      "dtype: int64\n",
      ">>> deep\n",
      "a    1\n",
      "b    2\n",
      "dtype: int64\n",
      "\n",
      "Note that when copying an object containing Python objects, a deep copy\n",
      "will copy the data, but will not do so recursively. Updating a nested\n",
      "data object will be reflected in the deep copy.\n",
      "\n",
      ">>> s = pd.Series([[1, 2], [3, 4]])\n",
      ">>> deep = s.copy()\n",
      ">>> s[0][0] = 10\n",
      ">>> s\n",
      "0    [10, 2]\n",
      "1     [3, 4]\n",
      "dtype: object\n",
      ">>> deep\n",
      "0    [10, 2]\n",
      "1     [3, 4]\n",
      "dtype: object\n",
      "\n",
      "** Copy-on-Write is set to true: **\n",
      "\n",
      ">>> with pd.option_context(\"mode.copy_on_write\", True):\n",
      "...     s = pd.Series([1, 2], index=[\"a\", \"b\"])\n",
      "...     copy = s.copy(deep=False)\n",
      "...     s.iloc[0] = 100\n",
      "...     s\n",
      "a    100\n",
      "b      2\n",
      "dtype: int64\n",
      ">>> copy\n",
      "a    1\n",
      "b    2\n",
      "dtype: int64\n",
      "\u001b[1;31mFile:\u001b[0m      c:\\users\\user\\anaconda3\\lib\\site-packages\\pandas\\core\\generic.py\n",
      "\u001b[1;31mType:\u001b[0m      method"
     ]
    }
   ],
   "source": [
    "df.copy?"
   ]
  },
  {
   "cell_type": "code",
   "execution_count": 13,
   "id": "dd81c00f-c5da-42d5-8735-7eb1b22e1215",
   "metadata": {
    "collapsed": true,
    "jupyter": {
     "outputs_hidden": true
    },
    "tags": []
   },
   "outputs": [
    {
     "name": "stdout",
     "output_type": "stream",
     "text": [
      "   col1  col2\n",
      "0     1     3\n",
      "1     2     4\n",
      "   col1  col2\n",
      "0    99     3\n",
      "1     2     4\n"
     ]
    }
   ],
   "source": [
    "d = {'col1': [1, 2], 'col2': [3, 4]}\n",
    "df = pd.DataFrame(data=d)\n",
    "\n",
    "df_copy_1 = df.copy(deep=True)\n",
    "df_copy_2 = df.copy(deep=False)\n",
    "\n",
    "df.at[0, \"col1\"] = 99\n",
    "print(df_copy_1)\n",
    "print(df_copy_2)"
   ]
  },
  {
   "cell_type": "markdown",
   "id": "3b38854a-15ab-4509-959f-bbf1d1bbdd21",
   "metadata": {},
   "source": [
    "# eval, exec\n",
    "\n",
    "Eval() only evaluates the single expression, not the complex logic code, whereas Exec can be used to execute any number of expression. exec() accept the source code which contains statements like, for, while, print, import, class."
   ]
  },
  {
   "cell_type": "code",
   "execution_count": 3,
   "id": "4aaf374e",
   "metadata": {},
   "outputs": [
    {
     "ename": "SyntaxError",
     "evalue": "invalid syntax (<string>, line 1)",
     "output_type": "error",
     "traceback": [
      "Traceback \u001b[1;36m(most recent call last)\u001b[0m:\n",
      "\u001b[0m  File \u001b[0;32mc:\\Users\\user\\anaconda3\\lib\\site-packages\\IPython\\core\\interactiveshell.py:3460\u001b[0m in \u001b[0;35mrun_code\u001b[0m\n    exec(code_obj, self.user_global_ns, self.user_ns)\u001b[0m\n",
      "\u001b[1;36m  Cell \u001b[1;32mIn[3], line 1\u001b[1;36m\n\u001b[1;33m    eval(\"c=3+5\")\u001b[1;36m\n",
      "\u001b[1;36m  File \u001b[1;32m<string>:1\u001b[1;36m\u001b[0m\n\u001b[1;33m    c=3+5\u001b[0m\n\u001b[1;37m     ^\u001b[0m\n\u001b[1;31mSyntaxError\u001b[0m\u001b[1;31m:\u001b[0m invalid syntax\n"
     ]
    }
   ],
   "source": [
    "eval(\"c=3+5\")"
   ]
  },
  {
   "cell_type": "code",
   "execution_count": 5,
   "id": "351ed479",
   "metadata": {},
   "outputs": [
    {
     "data": {
      "text/plain": [
       "8"
      ]
     },
     "execution_count": 5,
     "metadata": {},
     "output_type": "execute_result"
    }
   ],
   "source": [
    "exec(\"c=3+5\")\n",
    "c"
   ]
  },
  {
   "cell_type": "code",
   "execution_count": 8,
   "id": "4cfc57a0-6294-4c86-b8c8-c1af5b6110f4",
   "metadata": {
    "tags": []
   },
   "outputs": [],
   "source": [
    "d = {'col1': [\"[1,2,3,4]\", \"a=3+5\"]}\n",
    "df = pd.DataFrame(data=d)"
   ]
  },
  {
   "cell_type": "code",
   "execution_count": 9,
   "id": "85687281-c210-43bc-bb87-931ed9231a39",
   "metadata": {
    "collapsed": true,
    "jupyter": {
     "outputs_hidden": true
    },
    "tags": []
   },
   "outputs": [
    {
     "name": "stdout",
     "output_type": "stream",
     "text": [
      "[1,2,3,4]\n",
      "a=3+5\n",
      "<class 'str'>\n",
      "<class 'str'>\n",
      "===\n",
      "[1, 2, 3, 4]\n",
      "<class 'list'>\n"
     ]
    },
    {
     "data": {
      "text/plain": [
       "8"
      ]
     },
     "execution_count": 9,
     "metadata": {},
     "output_type": "execute_result"
    }
   ],
   "source": [
    "print(df.loc[0, \"col1\"])\n",
    "print(df.loc[1, \"col1\"])\n",
    "print(type(df.loc[0, \"col1\"]))\n",
    "print(type(df.loc[1, \"col1\"]))\n",
    "\n",
    "print('===')\n",
    "\n",
    "list_type = eval(df.loc[0, \"col1\"])\n",
    "print(list_type)\n",
    "print(type(list_type))\n",
    "\n",
    "exec(df.loc[1, \"col1\"])\n",
    "a"
   ]
  },
  {
   "cell_type": "markdown",
   "id": "684001e7-17f0-4e31-a161-4e85d6252c90",
   "metadata": {},
   "source": [
    "# groupby\n",
    "\n",
    "https://pandas.pydata.org/docs/reference/api/pandas.DataFrame.groupby.html\n",
    "\n",
    "1. 기준이 될 Group 을 지정해주고\n",
    "2. 기준이 되는 Group 을 중심으로 지정해준 Column 을 연산한다 "
   ]
  },
  {
   "cell_type": "code",
   "execution_count": 14,
   "id": "978893c3",
   "metadata": {},
   "outputs": [
    {
     "data": {
      "text/html": [
       "<div>\n",
       "<style scoped>\n",
       "    .dataframe tbody tr th:only-of-type {\n",
       "        vertical-align: middle;\n",
       "    }\n",
       "\n",
       "    .dataframe tbody tr th {\n",
       "        vertical-align: top;\n",
       "    }\n",
       "\n",
       "    .dataframe thead th {\n",
       "        text-align: right;\n",
       "    }\n",
       "</style>\n",
       "<table border=\"1\" class=\"dataframe\">\n",
       "  <thead>\n",
       "    <tr style=\"text-align: right;\">\n",
       "      <th></th>\n",
       "      <th>col1</th>\n",
       "      <th>col2</th>\n",
       "    </tr>\n",
       "  </thead>\n",
       "  <tbody>\n",
       "    <tr>\n",
       "      <th>0</th>\n",
       "      <td>1</td>\n",
       "      <td>10</td>\n",
       "    </tr>\n",
       "    <tr>\n",
       "      <th>1</th>\n",
       "      <td>1</td>\n",
       "      <td>20</td>\n",
       "    </tr>\n",
       "    <tr>\n",
       "      <th>2</th>\n",
       "      <td>1</td>\n",
       "      <td>30</td>\n",
       "    </tr>\n",
       "    <tr>\n",
       "      <th>3</th>\n",
       "      <td>2</td>\n",
       "      <td>100</td>\n",
       "    </tr>\n",
       "    <tr>\n",
       "      <th>4</th>\n",
       "      <td>2</td>\n",
       "      <td>200</td>\n",
       "    </tr>\n",
       "    <tr>\n",
       "      <th>5</th>\n",
       "      <td>2</td>\n",
       "      <td>300</td>\n",
       "    </tr>\n",
       "  </tbody>\n",
       "</table>\n",
       "</div>"
      ],
      "text/plain": [
       "   col1  col2\n",
       "0     1    10\n",
       "1     1    20\n",
       "2     1    30\n",
       "3     2   100\n",
       "4     2   200\n",
       "5     2   300"
      ]
     },
     "execution_count": 14,
     "metadata": {},
     "output_type": "execute_result"
    }
   ],
   "source": [
    "d = {'col1': [1, 1, 1, 2, 2, 2], 'col2': [10, 20, 30, 100, 200, 300]}\n",
    "df = pd.DataFrame(data=d)\n",
    "df"
   ]
  },
  {
   "cell_type": "code",
   "execution_count": 18,
   "id": "8db9cb58-ba20-4439-bf6b-039b34592034",
   "metadata": {
    "collapsed": true,
    "jupyter": {
     "outputs_hidden": true
    },
    "tags": []
   },
   "outputs": [
    {
     "data": {
      "text/plain": [
       "col1\n",
       "1     60\n",
       "2    600\n",
       "Name: col2, dtype: int64"
      ]
     },
     "execution_count": 18,
     "metadata": {},
     "output_type": "execute_result"
    }
   ],
   "source": [
    "df.groupby(\"col1\")[\"col2\"].sum()"
   ]
  },
  {
   "cell_type": "code",
   "execution_count": 19,
   "id": "227ce736",
   "metadata": {},
   "outputs": [
    {
     "data": {
      "text/html": [
       "<div>\n",
       "<style scoped>\n",
       "    .dataframe tbody tr th:only-of-type {\n",
       "        vertical-align: middle;\n",
       "    }\n",
       "\n",
       "    .dataframe tbody tr th {\n",
       "        vertical-align: top;\n",
       "    }\n",
       "\n",
       "    .dataframe thead th {\n",
       "        text-align: right;\n",
       "    }\n",
       "</style>\n",
       "<table border=\"1\" class=\"dataframe\">\n",
       "  <thead>\n",
       "    <tr style=\"text-align: right;\">\n",
       "      <th></th>\n",
       "      <th>col1</th>\n",
       "      <th>col2</th>\n",
       "    </tr>\n",
       "  </thead>\n",
       "  <tbody>\n",
       "    <tr>\n",
       "      <th>0</th>\n",
       "      <td>1</td>\n",
       "      <td>a</td>\n",
       "    </tr>\n",
       "    <tr>\n",
       "      <th>1</th>\n",
       "      <td>1</td>\n",
       "      <td>b</td>\n",
       "    </tr>\n",
       "    <tr>\n",
       "      <th>2</th>\n",
       "      <td>1</td>\n",
       "      <td>c</td>\n",
       "    </tr>\n",
       "    <tr>\n",
       "      <th>3</th>\n",
       "      <td>2</td>\n",
       "      <td>1</td>\n",
       "    </tr>\n",
       "    <tr>\n",
       "      <th>4</th>\n",
       "      <td>2</td>\n",
       "      <td>2</td>\n",
       "    </tr>\n",
       "    <tr>\n",
       "      <th>5</th>\n",
       "      <td>2</td>\n",
       "      <td>3</td>\n",
       "    </tr>\n",
       "  </tbody>\n",
       "</table>\n",
       "</div>"
      ],
      "text/plain": [
       "   col1 col2\n",
       "0     1    a\n",
       "1     1    b\n",
       "2     1    c\n",
       "3     2    1\n",
       "4     2    2\n",
       "5     2    3"
      ]
     },
     "execution_count": 19,
     "metadata": {},
     "output_type": "execute_result"
    }
   ],
   "source": [
    "d = {'col1': [1, 1, 1, 2, 2, 2], 'col2': [\"a\", \"b\", \"c\", \"1\", \"2\", \"3\"]}\n",
    "df = pd.DataFrame(data=d)\n",
    "df"
   ]
  },
  {
   "cell_type": "code",
   "execution_count": 20,
   "id": "401ace00",
   "metadata": {},
   "outputs": [
    {
     "data": {
      "text/plain": [
       "col1\n",
       "1    abc\n",
       "2    123\n",
       "Name: col2, dtype: object"
      ]
     },
     "execution_count": 20,
     "metadata": {},
     "output_type": "execute_result"
    }
   ],
   "source": [
    "df.groupby(\"col1\")[\"col2\"].sum()"
   ]
  },
  {
   "cell_type": "code",
   "execution_count": 25,
   "id": "b11a4fd6",
   "metadata": {},
   "outputs": [
    {
     "data": {
      "text/plain": [
       "pandas.core.series.Series"
      ]
     },
     "execution_count": 25,
     "metadata": {},
     "output_type": "execute_result"
    }
   ],
   "source": [
    "type(df.groupby(\"col1\")[\"col2\"].sum())"
   ]
  },
  {
   "cell_type": "code",
   "execution_count": 26,
   "id": "323b93a0",
   "metadata": {},
   "outputs": [
    {
     "data": {
      "text/html": [
       "<div>\n",
       "<style scoped>\n",
       "    .dataframe tbody tr th:only-of-type {\n",
       "        vertical-align: middle;\n",
       "    }\n",
       "\n",
       "    .dataframe tbody tr th {\n",
       "        vertical-align: top;\n",
       "    }\n",
       "\n",
       "    .dataframe thead th {\n",
       "        text-align: right;\n",
       "    }\n",
       "</style>\n",
       "<table border=\"1\" class=\"dataframe\">\n",
       "  <thead>\n",
       "    <tr style=\"text-align: right;\">\n",
       "      <th></th>\n",
       "      <th>col2</th>\n",
       "    </tr>\n",
       "    <tr>\n",
       "      <th>col1</th>\n",
       "      <th></th>\n",
       "    </tr>\n",
       "  </thead>\n",
       "  <tbody>\n",
       "    <tr>\n",
       "      <th>1</th>\n",
       "      <td>abc</td>\n",
       "    </tr>\n",
       "    <tr>\n",
       "      <th>2</th>\n",
       "      <td>123</td>\n",
       "    </tr>\n",
       "  </tbody>\n",
       "</table>\n",
       "</div>"
      ],
      "text/plain": [
       "     col2\n",
       "col1     \n",
       "1     abc\n",
       "2     123"
      ]
     },
     "execution_count": 26,
     "metadata": {},
     "output_type": "execute_result"
    }
   ],
   "source": [
    "pd.DataFrame(df.groupby(\"col1\")[\"col2\"].sum())"
   ]
  },
  {
   "cell_type": "markdown",
   "id": "0012c6de-b911-41a9-b6d3-e5f876c6148e",
   "metadata": {
    "tags": []
   },
   "source": [
    "# Pandas\n",
    "\n",
    "Using Python Pandas To Find in DataFrame The Desired Values\n"
   ]
  },
  {
   "cell_type": "code",
   "execution_count": 17,
   "id": "e2f24ed3-35c9-4129-b460-f17fc8782ec2",
   "metadata": {
    "collapsed": true,
    "jupyter": {
     "outputs_hidden": true
    },
    "tags": []
   },
   "outputs": [
    {
     "name": "stdout",
     "output_type": "stream",
     "text": [
      "   col1 col2\n",
      "1     1    b\n",
      "7     3    b\n",
      "   col1 col2\n",
      "7     3    b\n",
      "   col1 col2\n",
      "1     1    b\n",
      "6     3    a\n",
      "7     3    b\n",
      "8     3    c\n"
     ]
    }
   ],
   "source": [
    "d = {'col1': [1, 1, 1, 2, 2, 2, 3, 3, 3], 'col2': [\"a\", \"b\", \"c\", \"1\", \"2\", \"3\", \"a\", \"b\", \"c\"]}\n",
    "df = pd.DataFrame(data=d)\n",
    "\n",
    "con_1 = (df[\"col2\"] == \"b\")\n",
    "ret_1 = df[con_1]\n",
    "print(ret_1)\n",
    "\n",
    "con_2 = (df[\"col1\"] == 3)\n",
    "ret_2 = df[con_1 & con_2]\n",
    "print(ret_2)\n",
    "\n",
    "ret_3 = df[con_1 | con_2]\n",
    "print(ret_3)"
   ]
  },
  {
   "cell_type": "markdown",
   "id": "e6c762bc-a295-453d-b4b3-fc0fe0da3c5d",
   "metadata": {},
   "source": [
    "# Pandas\n",
    "\n",
    "read_csv - Parameter\n",
    "\n",
    "https://pandas.pydata.org/docs/reference/api/pandas.read_csv.html\n",
    "\n",
    "1. usecols -> 불러오고 싶은 column 만 지정해줄 수 있다.\n",
    "2. encoding -> 불러오는 Data 의 Encoding Type 을 지정. \n",
    "3. encoding_errors -> ignore 로 해버리면 강제로 불러올 수 있다.\n",
    "4. header -> column 이 시작되는 위치를 지정해줄 수 있다.\n"
   ]
  },
  {
   "cell_type": "markdown",
   "id": "89f44f26-c69e-4651-be6f-db4c4e3debd7",
   "metadata": {},
   "source": [
    "# Pandas\n",
    "\n",
    "https://pandas.pydata.org/docs/reference/api/pandas.DataFrame.to_excel.html\n",
    "\n",
    "1. to_csv 뿐만 아니라 to_excel 로 사용할 수 있다.\n",
    "2. to_excel 에서의 장점은 Sheet 이름을 지정해줄 수 있다는 점이다.\n",
    "\n",
    "parameter - sheet_name\n"
   ]
  },
  {
   "cell_type": "code",
   "execution_count": 18,
   "id": "c9230e76-d616-43ef-a654-5a6869323cd3",
   "metadata": {
    "tags": []
   },
   "outputs": [],
   "source": [
    "d = {'col1': [1, 1, 1, 2, 2, 2, 3, 3, 3], 'col2': [\"a\", \"b\", \"c\", \"1\", \"2\", \"3\", \"a\", \"b\", \"c\"]}\n",
    "df = pd.DataFrame(data=d)\n",
    "xlsx_writer = pd.ExcelWriter(\"sample_2.xlsx\")\n",
    "df.to_excel(xlsx_writer, sheet_name=\"sheet1\")\n",
    "df.to_excel(xlsx_writer, sheet_name=\"sheet2\")\n",
    "xlsx_writer.close()"
   ]
  },
  {
   "cell_type": "markdown",
   "id": "68ab31f8",
   "metadata": {},
   "source": [
    "---"
   ]
  },
  {
   "cell_type": "code",
   "execution_count": 27,
   "id": "346b76b3-6f39-420f-8c15-9638e0a11a6d",
   "metadata": {},
   "outputs": [],
   "source": [
    ">>> df = pd.DataFrame(\n",
    "...     [\n",
    "...         [24.3, 75.7, \"high\"],\n",
    "...         [31, 87.8, \"high\"],\n",
    "...         [22, 71.6, \"medium\"],\n",
    "...         [35, 95, \"medium\"],\n",
    "...     ],\n",
    "...     columns=[\"temp_celsius\", \"temp_fahrenheit\", \"windspeed\"],\n",
    "...     index=pd.date_range(start=\"2014-02-12\", end=\"2014-02-15\", freq=\"D\"),\n",
    "... )"
   ]
  },
  {
   "cell_type": "code",
   "execution_count": 28,
   "id": "264705c6",
   "metadata": {},
   "outputs": [
    {
     "data": {
      "text/html": [
       "<div>\n",
       "<style scoped>\n",
       "    .dataframe tbody tr th:only-of-type {\n",
       "        vertical-align: middle;\n",
       "    }\n",
       "\n",
       "    .dataframe tbody tr th {\n",
       "        vertical-align: top;\n",
       "    }\n",
       "\n",
       "    .dataframe thead th {\n",
       "        text-align: right;\n",
       "    }\n",
       "</style>\n",
       "<table border=\"1\" class=\"dataframe\">\n",
       "  <thead>\n",
       "    <tr style=\"text-align: right;\">\n",
       "      <th></th>\n",
       "      <th>temp_celsius</th>\n",
       "      <th>temp_fahrenheit</th>\n",
       "      <th>windspeed</th>\n",
       "    </tr>\n",
       "  </thead>\n",
       "  <tbody>\n",
       "    <tr>\n",
       "      <th>2014-02-12</th>\n",
       "      <td>24.3</td>\n",
       "      <td>75.7</td>\n",
       "      <td>high</td>\n",
       "    </tr>\n",
       "    <tr>\n",
       "      <th>2014-02-13</th>\n",
       "      <td>31.0</td>\n",
       "      <td>87.8</td>\n",
       "      <td>high</td>\n",
       "    </tr>\n",
       "    <tr>\n",
       "      <th>2014-02-14</th>\n",
       "      <td>22.0</td>\n",
       "      <td>71.6</td>\n",
       "      <td>medium</td>\n",
       "    </tr>\n",
       "    <tr>\n",
       "      <th>2014-02-15</th>\n",
       "      <td>35.0</td>\n",
       "      <td>95.0</td>\n",
       "      <td>medium</td>\n",
       "    </tr>\n",
       "  </tbody>\n",
       "</table>\n",
       "</div>"
      ],
      "text/plain": [
       "            temp_celsius  temp_fahrenheit windspeed\n",
       "2014-02-12          24.3             75.7      high\n",
       "2014-02-13          31.0             87.8      high\n",
       "2014-02-14          22.0             71.6    medium\n",
       "2014-02-15          35.0             95.0    medium"
      ]
     },
     "execution_count": 28,
     "metadata": {},
     "output_type": "execute_result"
    }
   ],
   "source": [
    "df"
   ]
  },
  {
   "cell_type": "code",
   "execution_count": 29,
   "id": "584499e3",
   "metadata": {},
   "outputs": [
    {
     "data": {
      "text/html": [
       "<div>\n",
       "<style scoped>\n",
       "    .dataframe tbody tr th:only-of-type {\n",
       "        vertical-align: middle;\n",
       "    }\n",
       "\n",
       "    .dataframe tbody tr th {\n",
       "        vertical-align: top;\n",
       "    }\n",
       "\n",
       "    .dataframe thead th {\n",
       "        text-align: right;\n",
       "    }\n",
       "</style>\n",
       "<table border=\"1\" class=\"dataframe\">\n",
       "  <thead>\n",
       "    <tr style=\"text-align: right;\">\n",
       "      <th></th>\n",
       "      <th>temp_celsius</th>\n",
       "      <th>windspeed</th>\n",
       "    </tr>\n",
       "  </thead>\n",
       "  <tbody>\n",
       "    <tr>\n",
       "      <th>2014-02-12</th>\n",
       "      <td>24.3</td>\n",
       "      <td>high</td>\n",
       "    </tr>\n",
       "    <tr>\n",
       "      <th>2014-02-13</th>\n",
       "      <td>31.0</td>\n",
       "      <td>high</td>\n",
       "    </tr>\n",
       "    <tr>\n",
       "      <th>2014-02-14</th>\n",
       "      <td>22.0</td>\n",
       "      <td>medium</td>\n",
       "    </tr>\n",
       "    <tr>\n",
       "      <th>2014-02-15</th>\n",
       "      <td>35.0</td>\n",
       "      <td>medium</td>\n",
       "    </tr>\n",
       "  </tbody>\n",
       "</table>\n",
       "</div>"
      ],
      "text/plain": [
       "            temp_celsius windspeed\n",
       "2014-02-12          24.3      high\n",
       "2014-02-13          31.0      high\n",
       "2014-02-14          22.0    medium\n",
       "2014-02-15          35.0    medium"
      ]
     },
     "execution_count": 29,
     "metadata": {},
     "output_type": "execute_result"
    }
   ],
   "source": [
    ">>> df.get([\"temp_celsius\", \"windspeed\"])"
   ]
  },
  {
   "cell_type": "code",
   "execution_count": null,
   "id": "5f3ca65a",
   "metadata": {},
   "outputs": [],
   "source": []
  }
 ],
 "metadata": {
  "kernelspec": {
   "display_name": "Python 3 (ipykernel)",
   "language": "python",
   "name": "python3"
  },
  "language_info": {
   "codemirror_mode": {
    "name": "ipython",
    "version": 3
   },
   "file_extension": ".py",
   "mimetype": "text/x-python",
   "name": "python",
   "nbconvert_exporter": "python",
   "pygments_lexer": "ipython3",
   "version": "3.10.9"
  }
 },
 "nbformat": 4,
 "nbformat_minor": 5
}
