{
 "cells": [
  {
   "cell_type": "markdown",
   "metadata": {},
   "source": [
    "https://github.com/entelecheia/eKoNLPy"
   ]
  },
  {
   "cell_type": "code",
   "execution_count": 1,
   "metadata": {},
   "outputs": [],
   "source": [
    "from ekonlpy.tag import Mecab\n",
    "import pandas as pd"
   ]
  },
  {
   "cell_type": "code",
   "execution_count": 2,
   "metadata": {},
   "outputs": [
    {
     "data": {
      "text/plain": [
       "[('양', 'MM'),\n",
       " ('호한', 'NNG'),\n",
       " ('이머징', 'NNG'),\n",
       " ('경기', 'NNG'),\n",
       " ('흐름', 'NNG'),\n",
       " ('을', 'JKO'),\n",
       " ('바탕', 'NNG'),\n",
       " ('으로', 'JKB'),\n",
       " ('유가', 'NNG'),\n",
       " ('등', 'NNB'),\n",
       " ('원자재', 'NNG'),\n",
       " ('가격', 'NNG'),\n",
       " ('이', 'JKS'),\n",
       " ('크', 'VA'),\n",
       " ('폭', 'NNG'),\n",
       " ('으로', 'JKB'),\n",
       " ('상승', 'NNG'),\n",
       " ('하', 'VV'),\n",
       " ('다', 'EC')]"
      ]
     },
     "execution_count": 2,
     "metadata": {},
     "output_type": "execute_result"
    }
   ],
   "source": [
    "mecab = Mecab ( )\n",
    "tokens = mecab.pos('양호한 이머징 경기흐름을 바탕으로 유가 등 원자재 가격이 큰 폭으로 상승했다')\n",
    "mecab.sent_words(tokens)\n",
    "mecab.replace_synonyms(tokens)\n",
    "mecab.lemmatize (tokens)"
   ]
  },
  {
   "cell_type": "code",
   "execution_count": 13,
   "metadata": {},
   "outputs": [
    {
     "name": "stdout",
     "output_type": "stream",
     "text": [
      "load_dictionary error: [Errno 2] No such file or directory: 'wordlist.txt'\n"
     ]
    }
   ],
   "source": [
    "mecab.add_dictionary('', 'NNG' )\n",
    "# mecab.add_synonym('더블딥', '이중침체', tag = 'NNG')\n",
    "# mecab.add_lemma('커져야', '크')\n",
    "\n",
    "mecab.load_dictionary('wordlist.txt', tag='NNG')\n",
    "# mecab.load_synonyms('synonyms.txt', tag='NNG')"
   ]
  },
  {
   "cell_type": "code",
   "execution_count": null,
   "metadata": {},
   "outputs": [],
   "source": [
    "from ekonlpy.sentiment import MPKO\n",
    "\n",
    "mpko = MPKO(kind=1)\n",
    "tokens = mpko.tokenize(text)\n",
    "score = mpko.get_score(tokens)"
   ]
  }
 ],
 "metadata": {
  "kernelspec": {
   "display_name": "base",
   "language": "python",
   "name": "python3"
  },
  "language_info": {
   "codemirror_mode": {
    "name": "ipython",
    "version": 3
   },
   "file_extension": ".py",
   "mimetype": "text/x-python",
   "name": "python",
   "nbconvert_exporter": "python",
   "pygments_lexer": "ipython3",
   "version": "3.9.13"
  },
  "orig_nbformat": 4
 },
 "nbformat": 4,
 "nbformat_minor": 2
}
