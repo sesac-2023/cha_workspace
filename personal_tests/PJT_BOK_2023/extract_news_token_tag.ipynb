{
 "cells": [
  {
   "cell_type": "markdown",
   "metadata": {},
   "source": [
    "날짜별로 크롤링한 뉴스 데이터프레임 활용 -> 토큰, 태그 추출하기 -> txt 파일로 내보내기"
   ]
  },
  {
   "cell_type": "code",
   "execution_count": 2,
   "metadata": {},
   "outputs": [],
   "source": [
    "from ekonlpy.tag import Mecab\n",
    "import pandas as pd\n",
    "import tqdm"
   ]
  },
  {
   "cell_type": "code",
   "execution_count": 5,
   "metadata": {},
   "outputs": [],
   "source": [
    "mecab = Mecab ( )"
   ]
  },
  {
   "cell_type": "code",
   "execution_count": 6,
   "metadata": {},
   "outputs": [
    {
     "name": "stdout",
     "output_type": "stream",
     "text": [
      "<class 'pandas.core.frame.DataFrame'>\n",
      "RangeIndex: 189607 entries, 0 to 189606\n",
      "Data columns (total 3 columns):\n",
      " #   Column   Non-Null Count   Dtype \n",
      "---  ------   --------------   ----- \n",
      " 0   date     189607 non-null  object\n",
      " 1   url      189607 non-null  object\n",
      " 2   content  189607 non-null  object\n",
      "dtypes: object(3)\n",
      "memory usage: 4.3+ MB\n"
     ]
    }
   ],
   "source": [
    "df=pd.read_csv('bok_hk_news.txt')\n",
    "df.info()"
   ]
  },
  {
   "cell_type": "code",
   "execution_count": 7,
   "metadata": {},
   "outputs": [],
   "source": [
    "df = df.dropna(axis=0)"
   ]
  },
  {
   "cell_type": "code",
   "execution_count": 8,
   "metadata": {},
   "outputs": [
    {
     "name": "stdout",
     "output_type": "stream",
     "text": [
      "<class 'pandas.core.frame.DataFrame'>\n",
      "RangeIndex: 189607 entries, 0 to 189606\n",
      "Data columns (total 3 columns):\n",
      " #   Column   Non-Null Count   Dtype \n",
      "---  ------   --------------   ----- \n",
      " 0   date     189607 non-null  object\n",
      " 1   url      189607 non-null  object\n",
      " 2   content  189607 non-null  object\n",
      "dtypes: object(3)\n",
      "memory usage: 4.3+ MB\n"
     ]
    }
   ],
   "source": [
    "df.info()"
   ]
  },
  {
   "cell_type": "code",
   "execution_count": 8,
   "metadata": {},
   "outputs": [
    {
     "data": {
      "text/html": [
       "<div>\n",
       "<style scoped>\n",
       "    .dataframe tbody tr th:only-of-type {\n",
       "        vertical-align: middle;\n",
       "    }\n",
       "\n",
       "    .dataframe tbody tr th {\n",
       "        vertical-align: top;\n",
       "    }\n",
       "\n",
       "    .dataframe thead th {\n",
       "        text-align: right;\n",
       "    }\n",
       "</style>\n",
       "<table border=\"1\" class=\"dataframe\">\n",
       "  <thead>\n",
       "    <tr style=\"text-align: right;\">\n",
       "      <th></th>\n",
       "      <th>date</th>\n",
       "      <th>url</th>\n",
       "      <th>content</th>\n",
       "    </tr>\n",
       "  </thead>\n",
       "  <tbody>\n",
       "    <tr>\n",
       "      <th>0</th>\n",
       "      <td>20230831</td>\n",
       "      <td>https://www.hankyung.com/article/202308315800Y</td>\n",
       "      <td>뉴욕증시는 연방준비제도(연준·Fed)가 선호하는 물가 지표가 대체로 예상치에 부합하...</td>\n",
       "    </tr>\n",
       "    <tr>\n",
       "      <th>1</th>\n",
       "      <td>20230831</td>\n",
       "      <td>https://www.hankyung.com/article/2023083157961</td>\n",
       "      <td>['미국의 지난 7월 개인소비지출(PCE) 가격지수가 시장 추정치에 부합했다. 미국...</td>\n",
       "    </tr>\n",
       "    <tr>\n",
       "      <th>2</th>\n",
       "      <td>20230831</td>\n",
       "      <td>https://www.hankyung.com/article/202308315765Y</td>\n",
       "      <td>[\"6월 상승률 감소 폭 컸던 영향…'연준 중시' 근원 PCE는 전망치 부합 미 연...</td>\n",
       "    </tr>\n",
       "    <tr>\n",
       "      <th>3</th>\n",
       "      <td>20230831</td>\n",
       "      <td>https://www.hankyung.com/article/2023083157575</td>\n",
       "      <td>['미국 바이든 행정부가 초과근무 수당 지급 대상을 확대하는 방안을 발표했다. 30...</td>\n",
       "    </tr>\n",
       "    <tr>\n",
       "      <th>4</th>\n",
       "      <td>20230831</td>\n",
       "      <td>https://www.hankyung.com/article/202308315738Y</td>\n",
       "      <td>['중국 대형 시중은행들이 내달 1일부터 예금 금리를 인하한다고 증권시보 등 현지 ...</td>\n",
       "    </tr>\n",
       "  </tbody>\n",
       "</table>\n",
       "</div>"
      ],
      "text/plain": [
       "       date                                             url  \\\n",
       "0  20230831  https://www.hankyung.com/article/202308315800Y   \n",
       "1  20230831  https://www.hankyung.com/article/2023083157961   \n",
       "2  20230831  https://www.hankyung.com/article/202308315765Y   \n",
       "3  20230831  https://www.hankyung.com/article/2023083157575   \n",
       "4  20230831  https://www.hankyung.com/article/202308315738Y   \n",
       "\n",
       "                                             content  \n",
       "0  뉴욕증시는 연방준비제도(연준·Fed)가 선호하는 물가 지표가 대체로 예상치에 부합하...  \n",
       "1  ['미국의 지난 7월 개인소비지출(PCE) 가격지수가 시장 추정치에 부합했다. 미국...  \n",
       "2  [\"6월 상승률 감소 폭 컸던 영향…'연준 중시' 근원 PCE는 전망치 부합 미 연...  \n",
       "3  ['미국 바이든 행정부가 초과근무 수당 지급 대상을 확대하는 방안을 발표했다. 30...  \n",
       "4  ['중국 대형 시중은행들이 내달 1일부터 예금 금리를 인하한다고 증권시보 등 현지 ...  "
      ]
     },
     "execution_count": 8,
     "metadata": {},
     "output_type": "execute_result"
    }
   ],
   "source": [
    "df.head()"
   ]
  },
  {
   "cell_type": "code",
   "execution_count": 94,
   "metadata": {},
   "outputs": [],
   "source": [
    "df.loc[:, ('words')] = \"\"\n",
    "for idx in df.index:\n",
    "    df.at[idx, 'words'] = [word for word, pos in mecab.pos(df.loc[idx, \"content\"]) if pos in ['NNG', 'VV', 'VA','VAX','MAG']]"
   ]
  },
  {
   "cell_type": "code",
   "execution_count": 96,
   "metadata": {},
   "outputs": [
    {
     "data": {
      "text/html": [
       "<div>\n",
       "<style scoped>\n",
       "    .dataframe tbody tr th:only-of-type {\n",
       "        vertical-align: middle;\n",
       "    }\n",
       "\n",
       "    .dataframe tbody tr th {\n",
       "        vertical-align: top;\n",
       "    }\n",
       "\n",
       "    .dataframe thead th {\n",
       "        text-align: right;\n",
       "    }\n",
       "</style>\n",
       "<table border=\"1\" class=\"dataframe\">\n",
       "  <thead>\n",
       "    <tr style=\"text-align: right;\">\n",
       "      <th></th>\n",
       "      <th>date</th>\n",
       "      <th>url</th>\n",
       "      <th>content</th>\n",
       "      <th>words</th>\n",
       "    </tr>\n",
       "  </thead>\n",
       "  <tbody>\n",
       "    <tr>\n",
       "      <th>0</th>\n",
       "      <td>20230831</td>\n",
       "      <td>https://www.hankyung.com/article/202308315800Y</td>\n",
       "      <td>뉴욕증시는 연방준비제도(연준·Fed)가 선호하는 물가 지표가 대체로 예상치에 부합하...</td>\n",
       "      <td>[뉴욕증시, 연방준비제도, 연준, Fed, 선호, 물가, 지표, 대체로, 예상치, ...</td>\n",
       "    </tr>\n",
       "    <tr>\n",
       "      <th>1</th>\n",
       "      <td>20230831</td>\n",
       "      <td>https://www.hankyung.com/article/2023083157961</td>\n",
       "      <td>['미국의 지난 7월 개인소비지출(PCE) 가격지수가 시장 추정치에 부합했다. 미국...</td>\n",
       "      <td>[미국, 지난, 개인, 소비, 지출, PCE, 가격지수, 시장, 추정, 부합, 미국...</td>\n",
       "    </tr>\n",
       "    <tr>\n",
       "      <th>2</th>\n",
       "      <td>20230831</td>\n",
       "      <td>https://www.hankyung.com/article/202308315765Y</td>\n",
       "      <td>[\"6월 상승률 감소 폭 컸던 영향…'연준 중시' 근원 PCE는 전망치 부합 미 연...</td>\n",
       "      <td>[상승률, 감소, 폭, 컸, 영향, 연준, 중시, 근원, PCE, 전망치, 부합, ...</td>\n",
       "    </tr>\n",
       "    <tr>\n",
       "      <th>3</th>\n",
       "      <td>20230831</td>\n",
       "      <td>https://www.hankyung.com/article/2023083157575</td>\n",
       "      <td>['미국 바이든 행정부가 초과근무 수당 지급 대상을 확대하는 방안을 발표했다. 30...</td>\n",
       "      <td>[미국, 행정부, 수당, 지급, 대상, 확대, 방안, 발표, 일, 현지, 시간, 로...</td>\n",
       "    </tr>\n",
       "    <tr>\n",
       "      <th>4</th>\n",
       "      <td>20230831</td>\n",
       "      <td>https://www.hankyung.com/article/202308315738Y</td>\n",
       "      <td>['중국 대형 시중은행들이 내달 1일부터 예금 금리를 인하한다고 증권시보 등 현지 ...</td>\n",
       "      <td>[중국, 대형, 시중은행, 내달, 일, 예금, 금리, 인하, 증권, 시보, 현지, ...</td>\n",
       "    </tr>\n",
       "    <tr>\n",
       "      <th>...</th>\n",
       "      <td>...</td>\n",
       "      <td>...</td>\n",
       "      <td>...</td>\n",
       "      <td>...</td>\n",
       "    </tr>\n",
       "    <tr>\n",
       "      <th>189602</th>\n",
       "      <td>20140101</td>\n",
       "      <td>https://www.hankyung.com/article/2013123063836</td>\n",
       "      <td>['(왼쪽 위부터)강상욱 트리니티투자자문 대표, 구재상 케이클라비스투자자문 대표, ...</td>\n",
       "      <td>[왼쪽, 위, 투자자문, 대표, 재상, 클, 투자자문, 대표, 투자자문, 대표, 대...</td>\n",
       "    </tr>\n",
       "    <tr>\n",
       "      <th>189603</th>\n",
       "      <td>20140101</td>\n",
       "      <td>https://www.hankyung.com/article/2013123181231</td>\n",
       "      <td>['부동산 전문가들은 수도권 집값이 상반기에 바닥을 찍고 소폭 상승세로 돌아설 것으...</td>\n",
       "      <td>[부동산, 전문가, 수도권, 집값, 상반기, 바닥, 찍, 소폭, 상승세, 돌아설, ...</td>\n",
       "    </tr>\n",
       "    <tr>\n",
       "      <th>189604</th>\n",
       "      <td>20140101</td>\n",
       "      <td>https://www.hankyung.com/article/2013123183591</td>\n",
       "      <td>[\"이미지 크게보기● 미국 경기 회복세 가속도…'돈줄죄기' 규모가 변수올해 미국 경...</td>\n",
       "      <td>[이미지, 크, 미국, 경기, 회복세, 속도, 돈줄, 죄기, 규모, 변수, 올해, ...</td>\n",
       "    </tr>\n",
       "    <tr>\n",
       "      <th>189605</th>\n",
       "      <td>20140101</td>\n",
       "      <td>https://www.hankyung.com/article/2013123183651</td>\n",
       "      <td>['이미지 크게보기‘본격적인 경기 회복이냐, 반짝 성장이냐.’ 한국 경제가 수년간 ...</td>\n",
       "      <td>[이미지, 크, 본격, 경기, 회복, 반짝, 성장, 한국, 경제, 수년, 침체, 벗...</td>\n",
       "    </tr>\n",
       "    <tr>\n",
       "      <th>189606</th>\n",
       "      <td>20140101</td>\n",
       "      <td>https://www.hankyung.com/article/2014010111368</td>\n",
       "      <td>['50대 대도시 중 10곳 집값, 최고치 수준 회복  미국의 10월 대도시 주택 ...</td>\n",
       "      <td>[도시, 중, 곳, 집값, 최고치, 수준, 회복, 미국, 도시, 주택가격, 전년, ...</td>\n",
       "    </tr>\n",
       "  </tbody>\n",
       "</table>\n",
       "<p>189607 rows × 4 columns</p>\n",
       "</div>"
      ],
      "text/plain": [
       "            date                                             url  \\\n",
       "0       20230831  https://www.hankyung.com/article/202308315800Y   \n",
       "1       20230831  https://www.hankyung.com/article/2023083157961   \n",
       "2       20230831  https://www.hankyung.com/article/202308315765Y   \n",
       "3       20230831  https://www.hankyung.com/article/2023083157575   \n",
       "4       20230831  https://www.hankyung.com/article/202308315738Y   \n",
       "...          ...                                             ...   \n",
       "189602  20140101  https://www.hankyung.com/article/2013123063836   \n",
       "189603  20140101  https://www.hankyung.com/article/2013123181231   \n",
       "189604  20140101  https://www.hankyung.com/article/2013123183591   \n",
       "189605  20140101  https://www.hankyung.com/article/2013123183651   \n",
       "189606  20140101  https://www.hankyung.com/article/2014010111368   \n",
       "\n",
       "                                                  content  \\\n",
       "0       뉴욕증시는 연방준비제도(연준·Fed)가 선호하는 물가 지표가 대체로 예상치에 부합하...   \n",
       "1       ['미국의 지난 7월 개인소비지출(PCE) 가격지수가 시장 추정치에 부합했다. 미국...   \n",
       "2       [\"6월 상승률 감소 폭 컸던 영향…'연준 중시' 근원 PCE는 전망치 부합 미 연...   \n",
       "3       ['미국 바이든 행정부가 초과근무 수당 지급 대상을 확대하는 방안을 발표했다. 30...   \n",
       "4       ['중국 대형 시중은행들이 내달 1일부터 예금 금리를 인하한다고 증권시보 등 현지 ...   \n",
       "...                                                   ...   \n",
       "189602  ['(왼쪽 위부터)강상욱 트리니티투자자문 대표, 구재상 케이클라비스투자자문 대표, ...   \n",
       "189603  ['부동산 전문가들은 수도권 집값이 상반기에 바닥을 찍고 소폭 상승세로 돌아설 것으...   \n",
       "189604  [\"이미지 크게보기● 미국 경기 회복세 가속도…'돈줄죄기' 규모가 변수올해 미국 경...   \n",
       "189605  ['이미지 크게보기‘본격적인 경기 회복이냐, 반짝 성장이냐.’ 한국 경제가 수년간 ...   \n",
       "189606  ['50대 대도시 중 10곳 집값, 최고치 수준 회복  미국의 10월 대도시 주택 ...   \n",
       "\n",
       "                                                    words  \n",
       "0       [뉴욕증시, 연방준비제도, 연준, Fed, 선호, 물가, 지표, 대체로, 예상치, ...  \n",
       "1       [미국, 지난, 개인, 소비, 지출, PCE, 가격지수, 시장, 추정, 부합, 미국...  \n",
       "2       [상승률, 감소, 폭, 컸, 영향, 연준, 중시, 근원, PCE, 전망치, 부합, ...  \n",
       "3       [미국, 행정부, 수당, 지급, 대상, 확대, 방안, 발표, 일, 현지, 시간, 로...  \n",
       "4       [중국, 대형, 시중은행, 내달, 일, 예금, 금리, 인하, 증권, 시보, 현지, ...  \n",
       "...                                                   ...  \n",
       "189602  [왼쪽, 위, 투자자문, 대표, 재상, 클, 투자자문, 대표, 투자자문, 대표, 대...  \n",
       "189603  [부동산, 전문가, 수도권, 집값, 상반기, 바닥, 찍, 소폭, 상승세, 돌아설, ...  \n",
       "189604  [이미지, 크, 미국, 경기, 회복세, 속도, 돈줄, 죄기, 규모, 변수, 올해, ...  \n",
       "189605  [이미지, 크, 본격, 경기, 회복, 반짝, 성장, 한국, 경제, 수년, 침체, 벗...  \n",
       "189606  [도시, 중, 곳, 집값, 최고치, 수준, 회복, 미국, 도시, 주택가격, 전년, ...  \n",
       "\n",
       "[189607 rows x 4 columns]"
      ]
     },
     "execution_count": 96,
     "metadata": {},
     "output_type": "execute_result"
    }
   ],
   "source": [
    "df"
   ]
  },
  {
   "cell_type": "code",
   "execution_count": 97,
   "metadata": {},
   "outputs": [],
   "source": [
    "# 같은 날짜 뉴스의 토큰은 하나의 리스트로 병합하기\n",
    "output = (df.groupby('date', as_index=False, sort=False)['words'].agg(lambda x: [e for l in x for e in l]))"
   ]
  },
  {
   "cell_type": "code",
   "execution_count": 98,
   "metadata": {},
   "outputs": [
    {
     "data": {
      "text/html": [
       "<div>\n",
       "<style scoped>\n",
       "    .dataframe tbody tr th:only-of-type {\n",
       "        vertical-align: middle;\n",
       "    }\n",
       "\n",
       "    .dataframe tbody tr th {\n",
       "        vertical-align: top;\n",
       "    }\n",
       "\n",
       "    .dataframe thead th {\n",
       "        text-align: right;\n",
       "    }\n",
       "</style>\n",
       "<table border=\"1\" class=\"dataframe\">\n",
       "  <thead>\n",
       "    <tr style=\"text-align: right;\">\n",
       "      <th></th>\n",
       "      <th>date</th>\n",
       "      <th>words</th>\n",
       "    </tr>\n",
       "  </thead>\n",
       "  <tbody>\n",
       "    <tr>\n",
       "      <th>0</th>\n",
       "      <td>20230831</td>\n",
       "      <td>[뉴욕증시, 연방준비제도, 연준, Fed, 선호, 물가, 지표, 대체로, 예상치, ...</td>\n",
       "    </tr>\n",
       "    <tr>\n",
       "      <th>1</th>\n",
       "      <td>20230830</td>\n",
       "      <td>[비자, 마스터카드, 미국, 신용카드결제, 수수료, 인상, 계획, 미국, 일, 현지...</td>\n",
       "    </tr>\n",
       "    <tr>\n",
       "      <th>2</th>\n",
       "      <td>20230829</td>\n",
       "      <td>[사진, 미국, 기업, 경기, 침체, 대한, 우려, 채용, 줄이, 중, 미국, 채용...</td>\n",
       "    </tr>\n",
       "    <tr>\n",
       "      <th>3</th>\n",
       "      <td>20230828</td>\n",
       "      <td>[뉴욕증시, 이번, 주, 후반, 나올, 연방준비제도, 연준, Fed, 선호, 물가,...</td>\n",
       "    </tr>\n",
       "    <tr>\n",
       "      <th>4</th>\n",
       "      <td>20230827</td>\n",
       "      <td>[시장, 전망, 엇갈려, 대주주, 지분, 축소, 추가, 규제, 증거금, 인하, 발표...</td>\n",
       "    </tr>\n",
       "    <tr>\n",
       "      <th>...</th>\n",
       "      <td>...</td>\n",
       "      <td>...</td>\n",
       "    </tr>\n",
       "    <tr>\n",
       "      <th>3506</th>\n",
       "      <td>20140105</td>\n",
       "      <td>[미국, 중앙은행, Fed, 의장, 사진, 미국, 경제, 비롯, 세계, 경제, 대해...</td>\n",
       "    </tr>\n",
       "    <tr>\n",
       "      <th>3507</th>\n",
       "      <td>20140104</td>\n",
       "      <td>[양적완화, 축소, 노동시장, 개선, 반영, 초저금리, 미국, 연방준비제도, 연준,...</td>\n",
       "    </tr>\n",
       "    <tr>\n",
       "      <th>3508</th>\n",
       "      <td>20140103</td>\n",
       "      <td>[수입차, 업체, 새해, 공격적, 차값, 내리, 와중, 자세히, 보, 인기, 차종,...</td>\n",
       "    </tr>\n",
       "    <tr>\n",
       "      <th>3509</th>\n",
       "      <td>20140102</td>\n",
       "      <td>[은행장, 세환, 사진, 지난해, 저성장, 저금리, 기조, 속, 비이, 이익, 부문...</td>\n",
       "    </tr>\n",
       "    <tr>\n",
       "      <th>3510</th>\n",
       "      <td>20140101</td>\n",
       "      <td>[올해, 벤처, 중소기업, 추가, 고용, 때, 정책, 자금, 대출, 금리, 인, 포...</td>\n",
       "    </tr>\n",
       "  </tbody>\n",
       "</table>\n",
       "<p>3511 rows × 2 columns</p>\n",
       "</div>"
      ],
      "text/plain": [
       "          date                                              words\n",
       "0     20230831  [뉴욕증시, 연방준비제도, 연준, Fed, 선호, 물가, 지표, 대체로, 예상치, ...\n",
       "1     20230830  [비자, 마스터카드, 미국, 신용카드결제, 수수료, 인상, 계획, 미국, 일, 현지...\n",
       "2     20230829  [사진, 미국, 기업, 경기, 침체, 대한, 우려, 채용, 줄이, 중, 미국, 채용...\n",
       "3     20230828  [뉴욕증시, 이번, 주, 후반, 나올, 연방준비제도, 연준, Fed, 선호, 물가,...\n",
       "4     20230827  [시장, 전망, 엇갈려, 대주주, 지분, 축소, 추가, 규제, 증거금, 인하, 발표...\n",
       "...        ...                                                ...\n",
       "3506  20140105  [미국, 중앙은행, Fed, 의장, 사진, 미국, 경제, 비롯, 세계, 경제, 대해...\n",
       "3507  20140104  [양적완화, 축소, 노동시장, 개선, 반영, 초저금리, 미국, 연방준비제도, 연준,...\n",
       "3508  20140103  [수입차, 업체, 새해, 공격적, 차값, 내리, 와중, 자세히, 보, 인기, 차종,...\n",
       "3509  20140102  [은행장, 세환, 사진, 지난해, 저성장, 저금리, 기조, 속, 비이, 이익, 부문...\n",
       "3510  20140101  [올해, 벤처, 중소기업, 추가, 고용, 때, 정책, 자금, 대출, 금리, 인, 포...\n",
       "\n",
       "[3511 rows x 2 columns]"
      ]
     },
     "execution_count": 98,
     "metadata": {},
     "output_type": "execute_result"
    }
   ],
   "source": [
    "output"
   ]
  },
  {
   "cell_type": "code",
   "execution_count": 99,
   "metadata": {},
   "outputs": [],
   "source": [
    "output.to_csv('bok_news_token.txt', index=False)"
   ]
  },
  {
   "cell_type": "markdown",
   "metadata": {},
   "source": [
    "---\n",
    "태그가 포함된 파일 생성하기"
   ]
  },
  {
   "cell_type": "code",
   "execution_count": 9,
   "metadata": {},
   "outputs": [],
   "source": [
    "df_with_tag = df.copy()"
   ]
  },
  {
   "cell_type": "code",
   "execution_count": 10,
   "metadata": {},
   "outputs": [
    {
     "data": {
      "text/html": [
       "<div>\n",
       "<style scoped>\n",
       "    .dataframe tbody tr th:only-of-type {\n",
       "        vertical-align: middle;\n",
       "    }\n",
       "\n",
       "    .dataframe tbody tr th {\n",
       "        vertical-align: top;\n",
       "    }\n",
       "\n",
       "    .dataframe thead th {\n",
       "        text-align: right;\n",
       "    }\n",
       "</style>\n",
       "<table border=\"1\" class=\"dataframe\">\n",
       "  <thead>\n",
       "    <tr style=\"text-align: right;\">\n",
       "      <th></th>\n",
       "      <th>date</th>\n",
       "      <th>url</th>\n",
       "      <th>content</th>\n",
       "    </tr>\n",
       "  </thead>\n",
       "  <tbody>\n",
       "    <tr>\n",
       "      <th>0</th>\n",
       "      <td>20230831</td>\n",
       "      <td>https://www.hankyung.com/article/202308315800Y</td>\n",
       "      <td>뉴욕증시는 연방준비제도(연준·Fed)가 선호하는 물가 지표가 대체로 예상치에 부합하...</td>\n",
       "    </tr>\n",
       "    <tr>\n",
       "      <th>1</th>\n",
       "      <td>20230831</td>\n",
       "      <td>https://www.hankyung.com/article/2023083157961</td>\n",
       "      <td>['미국의 지난 7월 개인소비지출(PCE) 가격지수가 시장 추정치에 부합했다. 미국...</td>\n",
       "    </tr>\n",
       "    <tr>\n",
       "      <th>2</th>\n",
       "      <td>20230831</td>\n",
       "      <td>https://www.hankyung.com/article/202308315765Y</td>\n",
       "      <td>[\"6월 상승률 감소 폭 컸던 영향…'연준 중시' 근원 PCE는 전망치 부합 미 연...</td>\n",
       "    </tr>\n",
       "    <tr>\n",
       "      <th>3</th>\n",
       "      <td>20230831</td>\n",
       "      <td>https://www.hankyung.com/article/2023083157575</td>\n",
       "      <td>['미국 바이든 행정부가 초과근무 수당 지급 대상을 확대하는 방안을 발표했다. 30...</td>\n",
       "    </tr>\n",
       "    <tr>\n",
       "      <th>4</th>\n",
       "      <td>20230831</td>\n",
       "      <td>https://www.hankyung.com/article/202308315738Y</td>\n",
       "      <td>['중국 대형 시중은행들이 내달 1일부터 예금 금리를 인하한다고 증권시보 등 현지 ...</td>\n",
       "    </tr>\n",
       "  </tbody>\n",
       "</table>\n",
       "</div>"
      ],
      "text/plain": [
       "       date                                             url  \\\n",
       "0  20230831  https://www.hankyung.com/article/202308315800Y   \n",
       "1  20230831  https://www.hankyung.com/article/2023083157961   \n",
       "2  20230831  https://www.hankyung.com/article/202308315765Y   \n",
       "3  20230831  https://www.hankyung.com/article/2023083157575   \n",
       "4  20230831  https://www.hankyung.com/article/202308315738Y   \n",
       "\n",
       "                                             content  \n",
       "0  뉴욕증시는 연방준비제도(연준·Fed)가 선호하는 물가 지표가 대체로 예상치에 부합하...  \n",
       "1  ['미국의 지난 7월 개인소비지출(PCE) 가격지수가 시장 추정치에 부합했다. 미국...  \n",
       "2  [\"6월 상승률 감소 폭 컸던 영향…'연준 중시' 근원 PCE는 전망치 부합 미 연...  \n",
       "3  ['미국 바이든 행정부가 초과근무 수당 지급 대상을 확대하는 방안을 발표했다. 30...  \n",
       "4  ['중국 대형 시중은행들이 내달 1일부터 예금 금리를 인하한다고 증권시보 등 현지 ...  "
      ]
     },
     "execution_count": 10,
     "metadata": {},
     "output_type": "execute_result"
    }
   ],
   "source": [
    "df_with_tag.head()"
   ]
  },
  {
   "cell_type": "code",
   "execution_count": 11,
   "metadata": {},
   "outputs": [],
   "source": [
    "df_with_tag.loc[:, ('words')] = \"\""
   ]
  },
  {
   "cell_type": "code",
   "execution_count": 13,
   "metadata": {},
   "outputs": [],
   "source": [
    "for idx in df_with_tag.index:\n",
    "    df_with_tag.at[idx, 'words'] = [(word,pos) for word, pos in mecab.pos(df_with_tag.loc[idx, \"content\"]) if pos in ['NNG', 'VV', 'VA','VAX','MAG']]"
   ]
  },
  {
   "cell_type": "code",
   "execution_count": 14,
   "metadata": {},
   "outputs": [
    {
     "data": {
      "text/html": [
       "<div>\n",
       "<style scoped>\n",
       "    .dataframe tbody tr th:only-of-type {\n",
       "        vertical-align: middle;\n",
       "    }\n",
       "\n",
       "    .dataframe tbody tr th {\n",
       "        vertical-align: top;\n",
       "    }\n",
       "\n",
       "    .dataframe thead th {\n",
       "        text-align: right;\n",
       "    }\n",
       "</style>\n",
       "<table border=\"1\" class=\"dataframe\">\n",
       "  <thead>\n",
       "    <tr style=\"text-align: right;\">\n",
       "      <th></th>\n",
       "      <th>date</th>\n",
       "      <th>url</th>\n",
       "      <th>content</th>\n",
       "      <th>words</th>\n",
       "    </tr>\n",
       "  </thead>\n",
       "  <tbody>\n",
       "    <tr>\n",
       "      <th>0</th>\n",
       "      <td>20230831</td>\n",
       "      <td>https://www.hankyung.com/article/202308315800Y</td>\n",
       "      <td>뉴욕증시는 연방준비제도(연준·Fed)가 선호하는 물가 지표가 대체로 예상치에 부합하...</td>\n",
       "      <td>[(뉴욕증시, NNG), (연방준비제도, NNG), (연준, NNG), (Fed, ...</td>\n",
       "    </tr>\n",
       "    <tr>\n",
       "      <th>1</th>\n",
       "      <td>20230831</td>\n",
       "      <td>https://www.hankyung.com/article/2023083157961</td>\n",
       "      <td>['미국의 지난 7월 개인소비지출(PCE) 가격지수가 시장 추정치에 부합했다. 미국...</td>\n",
       "      <td>[(미국, NNG), (지난, VV), (개인, NNG), (소비, NNG), (지...</td>\n",
       "    </tr>\n",
       "    <tr>\n",
       "      <th>2</th>\n",
       "      <td>20230831</td>\n",
       "      <td>https://www.hankyung.com/article/202308315765Y</td>\n",
       "      <td>[\"6월 상승률 감소 폭 컸던 영향…'연준 중시' 근원 PCE는 전망치 부합 미 연...</td>\n",
       "      <td>[(상승률, NNG), (감소, NNG), (폭, NNG), (컸, VA), (영향...</td>\n",
       "    </tr>\n",
       "    <tr>\n",
       "      <th>3</th>\n",
       "      <td>20230831</td>\n",
       "      <td>https://www.hankyung.com/article/2023083157575</td>\n",
       "      <td>['미국 바이든 행정부가 초과근무 수당 지급 대상을 확대하는 방안을 발표했다. 30...</td>\n",
       "      <td>[(미국, NNG), (행정부, NNG), (수당, NNG), (지급, NNG), ...</td>\n",
       "    </tr>\n",
       "    <tr>\n",
       "      <th>4</th>\n",
       "      <td>20230831</td>\n",
       "      <td>https://www.hankyung.com/article/202308315738Y</td>\n",
       "      <td>['중국 대형 시중은행들이 내달 1일부터 예금 금리를 인하한다고 증권시보 등 현지 ...</td>\n",
       "      <td>[(중국, NNG), (대형, NNG), (시중은행, NNG), (내달, NNG),...</td>\n",
       "    </tr>\n",
       "  </tbody>\n",
       "</table>\n",
       "</div>"
      ],
      "text/plain": [
       "       date                                             url  \\\n",
       "0  20230831  https://www.hankyung.com/article/202308315800Y   \n",
       "1  20230831  https://www.hankyung.com/article/2023083157961   \n",
       "2  20230831  https://www.hankyung.com/article/202308315765Y   \n",
       "3  20230831  https://www.hankyung.com/article/2023083157575   \n",
       "4  20230831  https://www.hankyung.com/article/202308315738Y   \n",
       "\n",
       "                                             content  \\\n",
       "0  뉴욕증시는 연방준비제도(연준·Fed)가 선호하는 물가 지표가 대체로 예상치에 부합하...   \n",
       "1  ['미국의 지난 7월 개인소비지출(PCE) 가격지수가 시장 추정치에 부합했다. 미국...   \n",
       "2  [\"6월 상승률 감소 폭 컸던 영향…'연준 중시' 근원 PCE는 전망치 부합 미 연...   \n",
       "3  ['미국 바이든 행정부가 초과근무 수당 지급 대상을 확대하는 방안을 발표했다. 30...   \n",
       "4  ['중국 대형 시중은행들이 내달 1일부터 예금 금리를 인하한다고 증권시보 등 현지 ...   \n",
       "\n",
       "                                               words  \n",
       "0  [(뉴욕증시, NNG), (연방준비제도, NNG), (연준, NNG), (Fed, ...  \n",
       "1  [(미국, NNG), (지난, VV), (개인, NNG), (소비, NNG), (지...  \n",
       "2  [(상승률, NNG), (감소, NNG), (폭, NNG), (컸, VA), (영향...  \n",
       "3  [(미국, NNG), (행정부, NNG), (수당, NNG), (지급, NNG), ...  \n",
       "4  [(중국, NNG), (대형, NNG), (시중은행, NNG), (내달, NNG),...  "
      ]
     },
     "execution_count": 14,
     "metadata": {},
     "output_type": "execute_result"
    }
   ],
   "source": [
    "df_with_tag.head()"
   ]
  },
  {
   "cell_type": "code",
   "execution_count": 16,
   "metadata": {},
   "outputs": [],
   "source": [
    "df_with_tag.to_csv('bok_news_token_tag.txt', index=False)"
   ]
  },
  {
   "cell_type": "code",
   "execution_count": 17,
   "metadata": {},
   "outputs": [],
   "source": [
    "# 같은 날짜 뉴스의 토큰은 하나의 리스트로 병합하기\n",
    "output = (df_with_tag.groupby('date', as_index=False, sort=False)['words'].agg(lambda x: [e for l in x for e in l]))"
   ]
  },
  {
   "cell_type": "code",
   "execution_count": 19,
   "metadata": {},
   "outputs": [
    {
     "data": {
      "text/html": [
       "<div>\n",
       "<style scoped>\n",
       "    .dataframe tbody tr th:only-of-type {\n",
       "        vertical-align: middle;\n",
       "    }\n",
       "\n",
       "    .dataframe tbody tr th {\n",
       "        vertical-align: top;\n",
       "    }\n",
       "\n",
       "    .dataframe thead th {\n",
       "        text-align: right;\n",
       "    }\n",
       "</style>\n",
       "<table border=\"1\" class=\"dataframe\">\n",
       "  <thead>\n",
       "    <tr style=\"text-align: right;\">\n",
       "      <th></th>\n",
       "      <th>date</th>\n",
       "      <th>words</th>\n",
       "    </tr>\n",
       "  </thead>\n",
       "  <tbody>\n",
       "    <tr>\n",
       "      <th>0</th>\n",
       "      <td>20230831</td>\n",
       "      <td>[(뉴욕증시, NNG), (연방준비제도, NNG), (연준, NNG), (Fed, ...</td>\n",
       "    </tr>\n",
       "    <tr>\n",
       "      <th>1</th>\n",
       "      <td>20230830</td>\n",
       "      <td>[(비자, NNG), (마스터카드, NNG), (미국, NNG), (신용카드결제, ...</td>\n",
       "    </tr>\n",
       "    <tr>\n",
       "      <th>2</th>\n",
       "      <td>20230829</td>\n",
       "      <td>[(사진, NNG), (미국, NNG), (기업, NNG), (경기, NNG), (...</td>\n",
       "    </tr>\n",
       "    <tr>\n",
       "      <th>3</th>\n",
       "      <td>20230828</td>\n",
       "      <td>[(뉴욕증시, NNG), (이번, NNG), (주, NNG), (후반, NNG), ...</td>\n",
       "    </tr>\n",
       "    <tr>\n",
       "      <th>4</th>\n",
       "      <td>20230827</td>\n",
       "      <td>[(시장, NNG), (전망, NNG), (엇갈려, VV), (대주주, NNG), ...</td>\n",
       "    </tr>\n",
       "  </tbody>\n",
       "</table>\n",
       "</div>"
      ],
      "text/plain": [
       "       date                                              words\n",
       "0  20230831  [(뉴욕증시, NNG), (연방준비제도, NNG), (연준, NNG), (Fed, ...\n",
       "1  20230830  [(비자, NNG), (마스터카드, NNG), (미국, NNG), (신용카드결제, ...\n",
       "2  20230829  [(사진, NNG), (미국, NNG), (기업, NNG), (경기, NNG), (...\n",
       "3  20230828  [(뉴욕증시, NNG), (이번, NNG), (주, NNG), (후반, NNG), ...\n",
       "4  20230827  [(시장, NNG), (전망, NNG), (엇갈려, VV), (대주주, NNG), ..."
      ]
     },
     "execution_count": 19,
     "metadata": {},
     "output_type": "execute_result"
    }
   ],
   "source": [
    "output.head()"
   ]
  },
  {
   "cell_type": "code",
   "execution_count": 20,
   "metadata": {},
   "outputs": [
    {
     "name": "stdout",
     "output_type": "stream",
     "text": [
      "<class 'pandas.core.frame.DataFrame'>\n",
      "RangeIndex: 3511 entries, 0 to 3510\n",
      "Data columns (total 2 columns):\n",
      " #   Column  Non-Null Count  Dtype \n",
      "---  ------  --------------  ----- \n",
      " 0   date    3511 non-null   object\n",
      " 1   words   3511 non-null   object\n",
      "dtypes: object(2)\n",
      "memory usage: 55.0+ KB\n"
     ]
    }
   ],
   "source": [
    "output.info()"
   ]
  },
  {
   "cell_type": "code",
   "execution_count": 21,
   "metadata": {},
   "outputs": [],
   "source": [
    "# txt 파일로 내보내기\n",
    "output.to_csv('bok_news_token_tag.txt', index=False)"
   ]
  }
 ],
 "metadata": {
  "kernelspec": {
   "display_name": "ekonlpy",
   "language": "python",
   "name": "python3"
  },
  "language_info": {
   "codemirror_mode": {
    "name": "ipython",
    "version": 3
   },
   "file_extension": ".py",
   "mimetype": "text/x-python",
   "name": "python",
   "nbconvert_exporter": "python",
   "pygments_lexer": "ipython3",
   "version": "3.9.13"
  },
  "orig_nbformat": 4
 },
 "nbformat": 4,
 "nbformat_minor": 2
}
