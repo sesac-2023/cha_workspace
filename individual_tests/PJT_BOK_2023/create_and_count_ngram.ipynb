{
 "cells": [
  {
   "cell_type": "code",
   "execution_count": 9,
   "metadata": {},
   "outputs": [],
   "source": [
    "import pandas as pd\n",
    "\n",
    "df = pd.read_csv('./document_with_label.csv')\n",
    "for i in range(len(df)//500+1):\n",
    "    df.iloc[i*500:(i+1)*500].to_csv('./document_with_label_{}.csv'.format(i), index=None)"
   ]
  },
  {
   "cell_type": "code",
   "execution_count": 32,
   "metadata": {},
   "outputs": [],
   "source": [
    "for i in range(7):\n",
    "    df = pd.read_csv('./document_with_label_{}.csv'.format(i))\n",
    "    ngram_result = [] \n",
    "\n",
    "    for label in ['상승', '하락']:\n",
    "        for words in df[df['up_down']==label]['words'].apply(eval):\n",
    "            temp = []\n",
    "            temp += words\n",
    "            for n in range(2, 6):\n",
    "                ngram = list(map(';'.join, zip(*[words[idx:] for idx in range(n)])))\n",
    "                temp+=ngram\n",
    "            ngram_result.append(temp)\n",
    "\n",
    "        freqd = nltk.FreqDist(itertools.chain(*ngram_result))\n",
    "        cdf = pd.DataFrame(list(zip(freqd.keys(), freqd.values())))\n",
    "        cdf.to_csv('counting_{}_{}.csv'.format(i, label), index=None)\n",
    "    "
   ]
  },
  {
   "cell_type": "code",
   "execution_count": 3,
   "metadata": {},
   "outputs": [],
   "source": [
    "import json\n",
    "with open('./ngram_result.json', 'w', encoding='utf-8') as f:\n",
    "    json.dump(ngram_result, f)"
   ]
  },
  {
   "cell_type": "code",
   "execution_count": 9,
   "metadata": {},
   "outputs": [],
   "source": [
    "test_tokens =ngram_result[0][:10]"
   ]
  },
  {
   "cell_type": "code",
   "execution_count": 11,
   "metadata": {},
   "outputs": [
    {
     "name": "stdout",
     "output_type": "stream",
     "text": [
      "[('뉴욕증시', '거래일'), ('거래일', '맞'), ('맞', '혼조세'), ('혼조세', '장'), ('장', '출발'), ('출발', '일'), ('일', '미'), ('미', '시간'), ('시간', '오전')]\n",
      "[('뉴욕증시', '거래일', '맞'), ('거래일', '맞', '혼조세'), ('맞', '혼조세', '장'), ('혼조세', '장', '출발'), ('장', '출발', '일'), ('출발', '일', '미'), ('일', '미', '시간'), ('미', '시간', '오전')]\n",
      "[('뉴욕증시', '거래일', '맞', '혼조세'), ('거래일', '맞', '혼조세', '장'), ('맞', '혼조세', '장', '출발'), ('혼조세', '장', '출발', '일'), ('장', '출발', '일', '미'), ('출발', '일', '미', '시간'), ('일', '미', '시간', '오전')]\n",
      "[('뉴욕증시', '거래일', '맞', '혼조세', '장'), ('거래일', '맞', '혼조세', '장', '출발'), ('맞', '혼조세', '장', '출발', '일'), ('혼조세', '장', '출발', '일', '미'), ('장', '출발', '일', '미', '시간'), ('출발', '일', '미', '시간', '오전')]\n"
     ]
    }
   ],
   "source": [
    "for n in range(2, 6):\n",
    "    ngram = list(zip(*[test_tokens[idx:] for idx in range(n)]))\n",
    "    \n",
    "    print(ngram)"
   ]
  },
  {
   "cell_type": "code",
   "execution_count": 11,
   "metadata": {},
   "outputs": [],
   "source": [
    "import nltk\n",
    "import itertools"
   ]
  },
  {
   "cell_type": "code",
   "execution_count": 27,
   "metadata": {},
   "outputs": [
    {
     "data": {
      "text/plain": [
       "0      ['뉴욕증시', '거래일', '맞', '혼조세', '장', '출발', '일', '미...\n",
       "1      ['뉴욕증시', '마지막', '거래일', '맞', '실적', '예상치', '계속',...\n",
       "2      ['사진', '한경', 'DB', '한국', '혁신기업', '집중투자', '상장지수...\n",
       "3      ['보험', '카드사', '실적발표', '이어진', '가운데', '올해', '상반기...\n",
       "4      ['경제', '채권', '매크로', '이슈', '점검', '금리', '추가', '상...\n",
       "                             ...                        \n",
       "495    ['통화정책', '불확실성', '완화', '미연준', '월', '연간', '통화정책...\n",
       "496    ['인플레', '적극', '대응', '미연준', '월', '정책금리', '인상', ...\n",
       "497    ['뉴욕증시', '연방공개시장위원회', 'FOMC', '정례회의', '결과', '앞...\n",
       "498    ['미국', '뉴욕', '백화점', '전경', '미국', '도매', '물가', '달...\n",
       "499    ['미국', '시간', '일', '오전', '다우', 'S&P500', '선물', ...\n",
       "Name: words, Length: 500, dtype: object"
      ]
     },
     "execution_count": 27,
     "metadata": {},
     "output_type": "execute_result"
    }
   ],
   "source": [
    "df['words']"
   ]
  },
  {
   "cell_type": "code",
   "execution_count": 30,
   "metadata": {},
   "outputs": [
    {
     "data": {
      "text/plain": [
       "['뉴욕증시',\n",
       " '거래일',\n",
       " '맞',\n",
       " '혼조세',\n",
       " '장',\n",
       " '출발',\n",
       " '일',\n",
       " '미',\n",
       " '시간',\n",
       " '오전',\n",
       " '현재',\n",
       " '다우존스30산업평균지수',\n",
       " '전장',\n",
       " '포인트',\n",
       " '오른',\n",
       " '기록',\n",
       " '중',\n",
       " 'S&P',\n",
       " '지수',\n",
       " '전장']"
      ]
     },
     "execution_count": 30,
     "metadata": {},
     "output_type": "execute_result"
    }
   ],
   "source": [
    "list(itertools.chain(*df['words'].apply(eval)))[:20]"
   ]
  },
  {
   "cell_type": "code",
   "execution_count": 23,
   "metadata": {},
   "outputs": [],
   "source": [
    "freqd = nltk.FreqDist(itertools.chain(*df['words'].apply(eval)))"
   ]
  },
  {
   "cell_type": "code",
   "execution_count": 24,
   "metadata": {},
   "outputs": [],
   "source": [
    "cdf = pd.DataFrame(list(zip(freqd.keys(), freqd.values())))"
   ]
  },
  {
   "cell_type": "code",
   "execution_count": 25,
   "metadata": {},
   "outputs": [
    {
     "data": {
      "text/plain": [
       "0      ['뉴욕증시', '거래일', '맞', '혼조세', '장', '출발', '일', '미...\n",
       "1      ['뉴욕증시', '마지막', '거래일', '맞', '실적', '예상치', '계속',...\n",
       "2      ['사진', '한경', 'DB', '한국', '혁신기업', '집중투자', '상장지수...\n",
       "3      ['보험', '카드사', '실적발표', '이어진', '가운데', '올해', '상반기...\n",
       "4      ['경제', '채권', '매크로', '이슈', '점검', '금리', '추가', '상...\n",
       "                             ...                        \n",
       "495    ['통화정책', '불확실성', '완화', '미연준', '월', '연간', '통화정책...\n",
       "496    ['인플레', '적극', '대응', '미연준', '월', '정책금리', '인상', ...\n",
       "497    ['뉴욕증시', '연방공개시장위원회', 'FOMC', '정례회의', '결과', '앞...\n",
       "498    ['미국', '뉴욕', '백화점', '전경', '미국', '도매', '물가', '달...\n",
       "499    ['미국', '시간', '일', '오전', '다우', 'S&P500', '선물', ...\n",
       "Name: words, Length: 500, dtype: object"
      ]
     },
     "execution_count": 25,
     "metadata": {},
     "output_type": "execute_result"
    }
   ],
   "source": [
    "df['words']"
   ]
  },
  {
   "cell_type": "code",
   "execution_count": 26,
   "metadata": {},
   "outputs": [
    {
     "data": {
      "text/html": [
       "<div>\n",
       "<style scoped>\n",
       "    .dataframe tbody tr th:only-of-type {\n",
       "        vertical-align: middle;\n",
       "    }\n",
       "\n",
       "    .dataframe tbody tr th {\n",
       "        vertical-align: top;\n",
       "    }\n",
       "\n",
       "    .dataframe thead th {\n",
       "        text-align: right;\n",
       "    }\n",
       "</style>\n",
       "<table border=\"1\" class=\"dataframe\">\n",
       "  <thead>\n",
       "    <tr style=\"text-align: right;\">\n",
       "      <th></th>\n",
       "      <th>0</th>\n",
       "      <th>1</th>\n",
       "    </tr>\n",
       "  </thead>\n",
       "  <tbody>\n",
       "    <tr>\n",
       "      <th>0</th>\n",
       "      <td>뉴욕증시</td>\n",
       "      <td>6168</td>\n",
       "    </tr>\n",
       "    <tr>\n",
       "      <th>1</th>\n",
       "      <td>거래일</td>\n",
       "      <td>7552</td>\n",
       "    </tr>\n",
       "    <tr>\n",
       "      <th>2</th>\n",
       "      <td>맞</td>\n",
       "      <td>4224</td>\n",
       "    </tr>\n",
       "    <tr>\n",
       "      <th>3</th>\n",
       "      <td>혼조세</td>\n",
       "      <td>929</td>\n",
       "    </tr>\n",
       "    <tr>\n",
       "      <th>4</th>\n",
       "      <td>장</td>\n",
       "      <td>9168</td>\n",
       "    </tr>\n",
       "    <tr>\n",
       "      <th>...</th>\n",
       "      <td>...</td>\n",
       "      <td>...</td>\n",
       "    </tr>\n",
       "    <tr>\n",
       "      <th>48883</th>\n",
       "      <td>흐른다면</td>\n",
       "      <td>1</td>\n",
       "    </tr>\n",
       "    <tr>\n",
       "      <th>48884</th>\n",
       "      <td>임직</td>\n",
       "      <td>1</td>\n",
       "    </tr>\n",
       "    <tr>\n",
       "      <th>48885</th>\n",
       "      <td>쌍수</td>\n",
       "      <td>1</td>\n",
       "    </tr>\n",
       "    <tr>\n",
       "      <th>48886</th>\n",
       "      <td>돕지</td>\n",
       "      <td>1</td>\n",
       "    </tr>\n",
       "    <tr>\n",
       "      <th>48887</th>\n",
       "      <td>군산복합체</td>\n",
       "      <td>1</td>\n",
       "    </tr>\n",
       "  </tbody>\n",
       "</table>\n",
       "<p>48888 rows × 2 columns</p>\n",
       "</div>"
      ],
      "text/plain": [
       "           0     1\n",
       "0       뉴욕증시  6168\n",
       "1        거래일  7552\n",
       "2          맞  4224\n",
       "3        혼조세   929\n",
       "4          장  9168\n",
       "...      ...   ...\n",
       "48883   흐른다면     1\n",
       "48884     임직     1\n",
       "48885     쌍수     1\n",
       "48886     돕지     1\n",
       "48887  군산복합체     1\n",
       "\n",
       "[48888 rows x 2 columns]"
      ]
     },
     "execution_count": 26,
     "metadata": {},
     "output_type": "execute_result"
    }
   ],
   "source": [
    "cdf"
   ]
  }
 ],
 "metadata": {
  "kernelspec": {
   "display_name": "ekonlpy",
   "language": "python",
   "name": "python3"
  },
  "language_info": {
   "codemirror_mode": {
    "name": "ipython",
    "version": 3
   },
   "file_extension": ".py",
   "mimetype": "text/x-python",
   "name": "python",
   "nbconvert_exporter": "python",
   "pygments_lexer": "ipython3",
   "version": "3.9.13"
  },
  "orig_nbformat": 4
 },
 "nbformat": 4,
 "nbformat_minor": 2
}
