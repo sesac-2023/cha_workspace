{
 "cells": [
  {
   "cell_type": "code",
   "execution_count": 1,
   "metadata": {},
   "outputs": [],
   "source": [
    "import pandas as pd"
   ]
  },
  {
   "cell_type": "code",
   "execution_count": 160,
   "metadata": {},
   "outputs": [],
   "source": [
    "df1 = pd.read_csv('./naver_economy_life_0.csv')\n",
    "df2 = pd.read_csv('./naver_economy_life_1.csv')\n",
    "df1"
   ]
  },
  {
   "cell_type": "code",
   "execution_count": 163,
   "metadata": {},
   "outputs": [
    {
     "data": {
      "text/html": [
       "<div>\n",
       "<style scoped>\n",
       "    .dataframe tbody tr th:only-of-type {\n",
       "        vertical-align: middle;\n",
       "    }\n",
       "\n",
       "    .dataframe tbody tr th {\n",
       "        vertical-align: top;\n",
       "    }\n",
       "\n",
       "    .dataframe thead th {\n",
       "        text-align: right;\n",
       "    }\n",
       "</style>\n",
       "<table border=\"1\" class=\"dataframe\">\n",
       "  <thead>\n",
       "    <tr style=\"text-align: right;\">\n",
       "      <th></th>\n",
       "      <th>url</th>\n",
       "      <th>writer</th>\n",
       "    </tr>\n",
       "  </thead>\n",
       "  <tbody>\n",
       "    <tr>\n",
       "      <th>0</th>\n",
       "      <td>https://n.news.naver.com/mnews/article/082/000...</td>\n",
       "      <td>김덕준 기자</td>\n",
       "    </tr>\n",
       "    <tr>\n",
       "      <th>1</th>\n",
       "      <td>https://n.news.naver.com/mnews/article/629/000...</td>\n",
       "      <td>박은평 기자</td>\n",
       "    </tr>\n",
       "    <tr>\n",
       "      <th>2</th>\n",
       "      <td>https://n.news.naver.com/mnews/article/374/000...</td>\n",
       "      <td>신채연 기자</td>\n",
       "    </tr>\n",
       "    <tr>\n",
       "      <th>3</th>\n",
       "      <td>https://n.news.naver.com/mnews/article/241/000...</td>\n",
       "      <td>NaN</td>\n",
       "    </tr>\n",
       "    <tr>\n",
       "      <th>4</th>\n",
       "      <td>https://n.news.naver.com/mnews/article/001/001...</td>\n",
       "      <td>박동주 기자</td>\n",
       "    </tr>\n",
       "    <tr>\n",
       "      <th>...</th>\n",
       "      <td>...</td>\n",
       "      <td>...</td>\n",
       "    </tr>\n",
       "    <tr>\n",
       "      <th>161994</th>\n",
       "      <td>https://n.news.naver.com/mnews/article/003/001...</td>\n",
       "      <td>정병혁 기자</td>\n",
       "    </tr>\n",
       "    <tr>\n",
       "      <th>161995</th>\n",
       "      <td>https://n.news.naver.com/mnews/article/003/001...</td>\n",
       "      <td>정병혁 기자</td>\n",
       "    </tr>\n",
       "    <tr>\n",
       "      <th>161996</th>\n",
       "      <td>https://n.news.naver.com/mnews/article/003/001...</td>\n",
       "      <td>정병혁 기자</td>\n",
       "    </tr>\n",
       "    <tr>\n",
       "      <th>161997</th>\n",
       "      <td>https://n.news.naver.com/mnews/article/003/001...</td>\n",
       "      <td>정병혁 기자</td>\n",
       "    </tr>\n",
       "    <tr>\n",
       "      <th>161998</th>\n",
       "      <td>https://n.news.naver.com/mnews/article/003/001...</td>\n",
       "      <td>정병혁 기자</td>\n",
       "    </tr>\n",
       "  </tbody>\n",
       "</table>\n",
       "<p>161999 rows × 2 columns</p>\n",
       "</div>"
      ],
      "text/plain": [
       "                                                      url  writer\n",
       "0       https://n.news.naver.com/mnews/article/082/000...  김덕준 기자\n",
       "1       https://n.news.naver.com/mnews/article/629/000...  박은평 기자\n",
       "2       https://n.news.naver.com/mnews/article/374/000...  신채연 기자\n",
       "3       https://n.news.naver.com/mnews/article/241/000...     NaN\n",
       "4       https://n.news.naver.com/mnews/article/001/001...  박동주 기자\n",
       "...                                                   ...     ...\n",
       "161994  https://n.news.naver.com/mnews/article/003/001...  정병혁 기자\n",
       "161995  https://n.news.naver.com/mnews/article/003/001...  정병혁 기자\n",
       "161996  https://n.news.naver.com/mnews/article/003/001...  정병혁 기자\n",
       "161997  https://n.news.naver.com/mnews/article/003/001...  정병혁 기자\n",
       "161998  https://n.news.naver.com/mnews/article/003/001...  정병혁 기자\n",
       "\n",
       "[161999 rows x 2 columns]"
      ]
     },
     "execution_count": 163,
     "metadata": {},
     "output_type": "execute_result"
    }
   ],
   "source": [
    "df2"
   ]
  },
  {
   "cell_type": "code",
   "execution_count": 165,
   "metadata": {},
   "outputs": [],
   "source": [
    "merged_df = pd.concat([df1, df2], ignore_index=True)\n",
    "merged_df"
   ]
  },
  {
   "cell_type": "code",
   "execution_count": 167,
   "metadata": {},
   "outputs": [],
   "source": [
    "merged_df.drop_duplicates(inplace=True)"
   ]
  },
  {
   "cell_type": "code",
   "execution_count": 168,
   "metadata": {},
   "outputs": [
    {
     "data": {
      "text/html": [
       "<div>\n",
       "<style scoped>\n",
       "    .dataframe tbody tr th:only-of-type {\n",
       "        vertical-align: middle;\n",
       "    }\n",
       "\n",
       "    .dataframe tbody tr th {\n",
       "        vertical-align: top;\n",
       "    }\n",
       "\n",
       "    .dataframe thead th {\n",
       "        text-align: right;\n",
       "    }\n",
       "</style>\n",
       "<table border=\"1\" class=\"dataframe\">\n",
       "  <thead>\n",
       "    <tr style=\"text-align: right;\">\n",
       "      <th></th>\n",
       "      <th>url</th>\n",
       "      <th>writer</th>\n",
       "    </tr>\n",
       "  </thead>\n",
       "  <tbody>\n",
       "    <tr>\n",
       "      <th>0</th>\n",
       "      <td>https://n.news.naver.com/mnews/article/052/000...</td>\n",
       "      <td>이동우 기자</td>\n",
       "    </tr>\n",
       "    <tr>\n",
       "      <th>1</th>\n",
       "      <td>https://n.news.naver.com/mnews/article/422/000...</td>\n",
       "      <td>조성흠 기자</td>\n",
       "    </tr>\n",
       "    <tr>\n",
       "      <th>2</th>\n",
       "      <td>https://n.news.naver.com/mnews/article/001/001...</td>\n",
       "      <td>이지헌 기자</td>\n",
       "    </tr>\n",
       "    <tr>\n",
       "      <th>3</th>\n",
       "      <td>https://n.news.naver.com/mnews/article/052/000...</td>\n",
       "      <td>엄윤주 기자</td>\n",
       "    </tr>\n",
       "    <tr>\n",
       "      <th>4</th>\n",
       "      <td>https://n.news.naver.com/mnews/article/052/000...</td>\n",
       "      <td>나연수 기자</td>\n",
       "    </tr>\n",
       "    <tr>\n",
       "      <th>...</th>\n",
       "      <td>...</td>\n",
       "      <td>...</td>\n",
       "    </tr>\n",
       "    <tr>\n",
       "      <th>622334</th>\n",
       "      <td>https://n.news.naver.com/mnews/article/022/000...</td>\n",
       "      <td>NaN</td>\n",
       "    </tr>\n",
       "    <tr>\n",
       "      <th>622335</th>\n",
       "      <td>https://n.news.naver.com/mnews/article/025/000...</td>\n",
       "      <td>손해용 기자</td>\n",
       "    </tr>\n",
       "    <tr>\n",
       "      <th>622336</th>\n",
       "      <td>https://n.news.naver.com/mnews/article/629/000...</td>\n",
       "      <td>NaN</td>\n",
       "    </tr>\n",
       "    <tr>\n",
       "      <th>622337</th>\n",
       "      <td>https://n.news.naver.com/mnews/article/087/000...</td>\n",
       "      <td>강동휘 기자</td>\n",
       "    </tr>\n",
       "    <tr>\n",
       "      <th>622338</th>\n",
       "      <td>https://n.news.naver.com/mnews/article/087/000...</td>\n",
       "      <td>신형철 기자</td>\n",
       "    </tr>\n",
       "  </tbody>\n",
       "</table>\n",
       "<p>622133 rows × 2 columns</p>\n",
       "</div>"
      ],
      "text/plain": [
       "                                                      url  writer\n",
       "0       https://n.news.naver.com/mnews/article/052/000...  이동우 기자\n",
       "1       https://n.news.naver.com/mnews/article/422/000...  조성흠 기자\n",
       "2       https://n.news.naver.com/mnews/article/001/001...  이지헌 기자\n",
       "3       https://n.news.naver.com/mnews/article/052/000...  엄윤주 기자\n",
       "4       https://n.news.naver.com/mnews/article/052/000...  나연수 기자\n",
       "...                                                   ...     ...\n",
       "622334  https://n.news.naver.com/mnews/article/022/000...     NaN\n",
       "622335  https://n.news.naver.com/mnews/article/025/000...  손해용 기자\n",
       "622336  https://n.news.naver.com/mnews/article/629/000...     NaN\n",
       "622337  https://n.news.naver.com/mnews/article/087/000...  강동휘 기자\n",
       "622338  https://n.news.naver.com/mnews/article/087/000...  신형철 기자\n",
       "\n",
       "[622133 rows x 2 columns]"
      ]
     },
     "execution_count": 168,
     "metadata": {},
     "output_type": "execute_result"
    }
   ],
   "source": [
    "merged_df"
   ]
  },
  {
   "cell_type": "code",
   "execution_count": 169,
   "metadata": {},
   "outputs": [],
   "source": [
    "merged_df.to_csv('./naver_economy.csv', index=None)"
   ]
  },
  {
   "cell_type": "code",
   "execution_count": 170,
   "metadata": {},
   "outputs": [],
   "source": [
    "data = pd.read_csv('./naver_economy.csv')\n",
    "data"
   ]
  },
  {
   "cell_type": "code",
   "execution_count": 128,
   "metadata": {},
   "outputs": [
    {
     "name": "stdout",
     "output_type": "stream",
     "text": [
      "<class 'pandas.core.frame.DataFrame'>\n",
      "RangeIndex: 254380 entries, 0 to 254379\n",
      "Data columns (total 11 columns):\n",
      " #   Column     Non-Null Count   Dtype \n",
      "---  ------     --------------   ----- \n",
      " 0   site       254380 non-null  object\n",
      " 1   category   254380 non-null  object\n",
      " 2   sub        254380 non-null  object\n",
      " 3   url        254380 non-null  object\n",
      " 4   date       254380 non-null  object\n",
      " 5   edit_date  141989 non-null  object\n",
      " 6   title      254380 non-null  object\n",
      " 7   press      254380 non-null  object\n",
      " 8   content    254272 non-null  object\n",
      " 9   reaction   254380 non-null  object\n",
      " 10  comment    93428 non-null   object\n",
      "dtypes: object(11)\n",
      "memory usage: 21.3+ MB\n"
     ]
    }
   ],
   "source": [
    "data.info()"
   ]
  },
  {
   "cell_type": "code",
   "execution_count": 123,
   "metadata": {},
   "outputs": [],
   "source": [
    "from datetime import date, datetime, timedelta\n",
    "from dateutil.relativedelta import relativedelta\n",
    "\n",
    "start_date = date(2023, 4, 14)\n",
    "end_date = start_date-relativedelta(days=31)"
   ]
  },
  {
   "cell_type": "code",
   "execution_count": 124,
   "metadata": {},
   "outputs": [
    {
     "data": {
      "text/plain": [
       "datetime.date(2023, 3, 14)"
      ]
     },
     "execution_count": 124,
     "metadata": {},
     "output_type": "execute_result"
    }
   ],
   "source": [
    "end_date"
   ]
  }
 ],
 "metadata": {
  "kernelspec": {
   "display_name": "base",
   "language": "python",
   "name": "python3"
  },
  "language_info": {
   "codemirror_mode": {
    "name": "ipython",
    "version": 3
   },
   "file_extension": ".py",
   "mimetype": "text/x-python",
   "name": "python",
   "nbconvert_exporter": "python",
   "pygments_lexer": "ipython3",
   "version": "3.10.9"
  },
  "orig_nbformat": 4
 },
 "nbformat": 4,
 "nbformat_minor": 2
}
