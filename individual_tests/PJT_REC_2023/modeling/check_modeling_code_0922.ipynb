{
 "cells": [
  {
   "cell_type": "code",
   "execution_count": 1,
   "metadata": {},
   "outputs": [],
   "source": [
    "from updated_modeling import load_data, modeling"
   ]
  },
  {
   "cell_type": "code",
   "execution_count": 10,
   "metadata": {},
   "outputs": [],
   "source": [
    "from updated_modeling import load_data, load_doc2vec, show_similar_results"
   ]
  },
  {
   "cell_type": "code",
   "execution_count": 11,
   "metadata": {},
   "outputs": [],
   "source": [
    "data= load_data()\n",
    "model = load_doc2vec()"
   ]
  },
  {
   "cell_type": "code",
   "execution_count": 16,
   "metadata": {},
   "outputs": [
    {
     "data": {
      "text/html": [
       "<div>\n",
       "<style scoped>\n",
       "    .dataframe tbody tr th:only-of-type {\n",
       "        vertical-align: middle;\n",
       "    }\n",
       "\n",
       "    .dataframe tbody tr th {\n",
       "        vertical-align: top;\n",
       "    }\n",
       "\n",
       "    .dataframe thead th {\n",
       "        text-align: right;\n",
       "    }\n",
       "</style>\n",
       "<table border=\"1\" class=\"dataframe\">\n",
       "  <thead>\n",
       "    <tr style=\"text-align: right;\">\n",
       "      <th></th>\n",
       "      <th>title</th>\n",
       "      <th>date_upload</th>\n",
       "      <th>content</th>\n",
       "    </tr>\n",
       "  </thead>\n",
       "  <tbody>\n",
       "    <tr>\n",
       "      <th>99419</th>\n",
       "      <td>‘류진 회장’ 만난 손경식 회장, “기업하기 좋은 환경 위해 경총-전경련 뜻 모아야”</td>\n",
       "      <td>2023-08-23 15:56:00</td>\n",
       "      <td>[헤럴드경제=김성우 기자] 손경식 한국경영자총협회 회장이 23일 인사차 경총을 방...</td>\n",
       "    </tr>\n",
       "  </tbody>\n",
       "</table>\n",
       "</div>"
      ],
      "text/plain": [
       "                                                 title          date_upload  \\\n",
       "99419  ‘류진 회장’ 만난 손경식 회장, “기업하기 좋은 환경 위해 경총-전경련 뜻 모아야”  2023-08-23 15:56:00   \n",
       "\n",
       "                                                 content  \n",
       "99419   [헤럴드경제=김성우 기자] 손경식 한국경영자총협회 회장이 23일 인사차 경총을 방...  "
      ]
     },
     "execution_count": 16,
     "metadata": {},
     "output_type": "execute_result"
    }
   ],
   "source": [
    "url = 'https://n.news.naver.com/mnews/article/016/0002187292?sid=101'\n",
    "data[data['url'] == url][['title', 'date_upload', 'content']]"
   ]
  },
  {
   "cell_type": "code",
   "execution_count": 17,
   "metadata": {},
   "outputs": [
    {
     "data": {
      "text/html": [
       "<div>\n",
       "<style scoped>\n",
       "    .dataframe tbody tr th:only-of-type {\n",
       "        vertical-align: middle;\n",
       "    }\n",
       "\n",
       "    .dataframe tbody tr th {\n",
       "        vertical-align: top;\n",
       "    }\n",
       "\n",
       "    .dataframe thead th {\n",
       "        text-align: right;\n",
       "    }\n",
       "</style>\n",
       "<table border=\"1\" class=\"dataframe\">\n",
       "  <thead>\n",
       "    <tr style=\"text-align: right;\">\n",
       "      <th></th>\n",
       "      <th>title</th>\n",
       "      <th>date_upload</th>\n",
       "      <th>content</th>\n",
       "      <th>cos_simil</th>\n",
       "    </tr>\n",
       "  </thead>\n",
       "  <tbody>\n",
       "    <tr>\n",
       "      <th>137592</th>\n",
       "      <td>[머니S포토] 2023년 하반기 VCM 참석하는 이재옥 롯데GFR 대표이사</td>\n",
       "      <td>2023-07-18 16:53:00</td>\n",
       "      <td>이재옥 롯데GFR 대표이사가 18일 오후 서울 송파구 롯데월드타워에서 열린 202...</td>\n",
       "      <td>0.918640</td>\n",
       "    </tr>\n",
       "    <tr>\n",
       "      <th>345284</th>\n",
       "      <td>추경호 부총리, 김호일 대한노인회중앙회 회장 면담</td>\n",
       "      <td>2023-07-13 14:00:00</td>\n",
       "      <td>(서울=뉴스1) = 추경호 경제부총리 겸 기획재정부 장관이 13일 서울 종로구 정...</td>\n",
       "      <td>0.917387</td>\n",
       "    </tr>\n",
       "    <tr>\n",
       "      <th>93920</th>\n",
       "      <td>삼성전자, 메모리카드 신제품 'PRO Ultimate' 출시</td>\n",
       "      <td>2023-08-29 09:32:00</td>\n",
       "      <td>(서울=뉴스1) = 삼성전자가 속도와 안정성을 강화한 SD카드와 마이크로 SD카드...</td>\n",
       "      <td>0.915928</td>\n",
       "    </tr>\n",
       "    <tr>\n",
       "      <th>137567</th>\n",
       "      <td>[머니S포토] 김주남 대표이사, 2023년 하반기 VCM 참석</td>\n",
       "      <td>2023-07-18 17:10:00</td>\n",
       "      <td>김주남 롯데면세점 대표이사가 18일 오후 서울 송파구 롯데월드타워에서 열린 202...</td>\n",
       "      <td>0.915677</td>\n",
       "    </tr>\n",
       "    <tr>\n",
       "      <th>137571</th>\n",
       "      <td>[머니S포토] 롯데 VCM 참석하는 김연섭 대표</td>\n",
       "      <td>2023-07-18 17:13:00</td>\n",
       "      <td>김연섭 롯데에너지머티리얼즈 대표가 18일 오후 서울 송파구 롯데월드타워에서 열린 ...</td>\n",
       "      <td>0.914515</td>\n",
       "    </tr>\n",
       "    <tr>\n",
       "      <th>30306</th>\n",
       "      <td>서유석 금투협회장, '여름휴가는 어촌·바다로 릴레이 캠페인' 참여</td>\n",
       "      <td>2023-08-21 10:51:00</td>\n",
       "      <td>[이데일리 양지윤 기자] 금융투자협회는 서유석 회장이 ‘여름휴가는 어촌·바다로 릴레...</td>\n",
       "      <td>0.913912</td>\n",
       "    </tr>\n",
       "    <tr>\n",
       "      <th>295568</th>\n",
       "      <td>[포토]EAFF 축사하는 홍영표 한중의원연맹 회장</td>\n",
       "      <td>2023-08-22 10:43:00</td>\n",
       "      <td>[이데일리 이영훈 기자] 홍영표 한중의원연맹 회장이 22일 서울 중구 소공동 더플...</td>\n",
       "      <td>0.913755</td>\n",
       "    </tr>\n",
       "    <tr>\n",
       "      <th>191132</th>\n",
       "      <td>함영주 하나금융 회장, 마약근절 캠페인 '노엑시트' 참여</td>\n",
       "      <td>2023-07-30 08:01:00</td>\n",
       "      <td>[데일리안 = 김효숙 기자] 하나금융그룹은 마약중독의 위험성에 대한 경각심을 고취...</td>\n",
       "      <td>0.913555</td>\n",
       "    </tr>\n",
       "    <tr>\n",
       "      <th>137547</th>\n",
       "      <td>[머니S포토] 2023 VCM 참석하는 이원직 롯데바이오로직스 대표</td>\n",
       "      <td>2023-07-18 17:23:00</td>\n",
       "      <td>이원직 롯데바이오로직스 대표가 18일 오후 서울 송파구 롯데월드타워에서 열린 20...</td>\n",
       "      <td>0.913076</td>\n",
       "    </tr>\n",
       "    <tr>\n",
       "      <th>235842</th>\n",
       "      <td>사과·배 추석 앞두고 가격 상승…공급 확대</td>\n",
       "      <td>2023-09-06 14:00:00</td>\n",
       "      <td>(서울=뉴스1) 이재명 기자 = 6일 오전 서울 송파구 가락농수산물종합도매시장에서...</td>\n",
       "      <td>0.912904</td>\n",
       "    </tr>\n",
       "  </tbody>\n",
       "</table>\n",
       "</div>"
      ],
      "text/plain": [
       "                                            title          date_upload  \\\n",
       "137592  [머니S포토] 2023년 하반기 VCM 참석하는 이재옥 롯데GFR 대표이사  2023-07-18 16:53:00   \n",
       "345284                추경호 부총리, 김호일 대한노인회중앙회 회장 면담  2023-07-13 14:00:00   \n",
       "93920           삼성전자, 메모리카드 신제품 'PRO Ultimate' 출시  2023-08-29 09:32:00   \n",
       "137567         [머니S포토] 김주남 대표이사, 2023년 하반기 VCM 참석  2023-07-18 17:10:00   \n",
       "137571                 [머니S포토] 롯데 VCM 참석하는 김연섭 대표  2023-07-18 17:13:00   \n",
       "30306        서유석 금투협회장, '여름휴가는 어촌·바다로 릴레이 캠페인' 참여  2023-08-21 10:51:00   \n",
       "295568                [포토]EAFF 축사하는 홍영표 한중의원연맹 회장  2023-08-22 10:43:00   \n",
       "191132            함영주 하나금융 회장, 마약근절 캠페인 '노엑시트' 참여  2023-07-30 08:01:00   \n",
       "137547      [머니S포토] 2023 VCM 참석하는 이원직 롯데바이오로직스 대표  2023-07-18 17:23:00   \n",
       "235842                    사과·배 추석 앞두고 가격 상승…공급 확대  2023-09-06 14:00:00   \n",
       "\n",
       "                                                  content  cos_simil  \n",
       "137592   이재옥 롯데GFR 대표이사가 18일 오후 서울 송파구 롯데월드타워에서 열린 202...   0.918640  \n",
       "345284   (서울=뉴스1) = 추경호 경제부총리 겸 기획재정부 장관이 13일 서울 종로구 정...   0.917387  \n",
       "93920    (서울=뉴스1) = 삼성전자가 속도와 안정성을 강화한 SD카드와 마이크로 SD카드...   0.915928  \n",
       "137567   김주남 롯데면세점 대표이사가 18일 오후 서울 송파구 롯데월드타워에서 열린 202...   0.915677  \n",
       "137571   김연섭 롯데에너지머티리얼즈 대표가 18일 오후 서울 송파구 롯데월드타워에서 열린 ...   0.914515  \n",
       "30306   [이데일리 양지윤 기자] 금융투자협회는 서유석 회장이 ‘여름휴가는 어촌·바다로 릴레...   0.913912  \n",
       "295568   [이데일리 이영훈 기자] 홍영표 한중의원연맹 회장이 22일 서울 중구 소공동 더플...   0.913755  \n",
       "191132   [데일리안 = 김효숙 기자] 하나금융그룹은 마약중독의 위험성에 대한 경각심을 고취...   0.913555  \n",
       "137547   이원직 롯데바이오로직스 대표가 18일 오후 서울 송파구 롯데월드타워에서 열린 20...   0.913076  \n",
       "235842   (서울=뉴스1) 이재명 기자 = 6일 오전 서울 송파구 가락농수산물종합도매시장에서...   0.912904  "
      ]
     },
     "execution_count": 17,
     "metadata": {},
     "output_type": "execute_result"
    }
   ],
   "source": [
    "show_similar_results(data=data, model=model, url=url)"
   ]
  },
  {
   "cell_type": "code",
   "execution_count": null,
   "metadata": {},
   "outputs": [],
   "source": []
  }
 ],
 "metadata": {
  "kernelspec": {
   "display_name": "base",
   "language": "python",
   "name": "python3"
  },
  "language_info": {
   "codemirror_mode": {
    "name": "ipython",
    "version": 3
   },
   "file_extension": ".py",
   "mimetype": "text/x-python",
   "name": "python",
   "nbconvert_exporter": "python",
   "pygments_lexer": "ipython3",
   "version": "3.10.9"
  },
  "orig_nbformat": 4
 },
 "nbformat": 4,
 "nbformat_minor": 2
}
