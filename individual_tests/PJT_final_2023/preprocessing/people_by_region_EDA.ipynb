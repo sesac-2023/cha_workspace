{
 "cells": [
  {
   "cell_type": "markdown",
   "metadata": {},
   "source": [
    "## 서울시 행정동별 거주인구 EDA"
   ]
  },
  {
   "cell_type": "code",
   "execution_count": 2,
   "metadata": {},
   "outputs": [
    {
     "data": {
      "text/plain": [
       "'NO 필드명 필드내용 비 고\\n1 STD_YM 기준년월\\n2 ADMI_CD 행정동코드 8자리\\n3 ADMI_NM 행정동명\\n4 SEXDSTN_CD 성별_코드 (1 : 남성, 2 : 여성)\\n5 AGRDE_CD 연령대_코드\\n6 RSPOP_CNT 거주인구_수\\n7 CTY_NM 시군구명'"
      ]
     },
     "execution_count": 2,
     "metadata": {},
     "output_type": "execute_result"
    }
   ],
   "source": [
    "\"\"\"NO 필드명 필드내용 비 고\n",
    "1 STD_YM 기준년월\n",
    "2 ADMI_CD 행정동코드 8자리\n",
    "3 ADMI_NM 행정동명\n",
    "4 SEXDSTN_CD 성별_코드 (1 : 남성, 2 : 여성)\n",
    "5 AGRDE_CD 연령대_코드\n",
    "6 RSPOP_CNT 거주인구_수\n",
    "7 CTY_NM 시군구명\"\"\""
   ]
  },
  {
   "cell_type": "code",
   "execution_count": 31,
   "metadata": {},
   "outputs": [],
   "source": [
    "import pandas as pd\n",
    "import numpy as np\n",
    "import re\n",
    "from matplotlib import pyplot as plt"
   ]
  },
  {
   "cell_type": "markdown",
   "metadata": {},
   "source": [
    "### 데이터 로드 및 불필요한 특수문자(백틱) 제거"
   ]
  },
  {
   "cell_type": "code",
   "execution_count": 32,
   "metadata": {},
   "outputs": [],
   "source": [
    "data = pd.read_csv('./서울시 행정동별 거주인구.csv')"
   ]
  },
  {
   "cell_type": "code",
   "execution_count": 33,
   "metadata": {},
   "outputs": [],
   "source": [
    "# 컬럼명에서 백틱 제외\n",
    "data.columns =[re.sub('[`]', '', i) for i in data.columns.to_list()]\n",
    "\n",
    "# 본문에서 백틱 제외\n",
    "for column in data.columns:\n",
    "    data[column] = data[column].apply(lambda x : re.sub('[`]', '', x))"
   ]
  },
  {
   "cell_type": "code",
   "execution_count": 34,
   "metadata": {},
   "outputs": [
    {
     "data": {
      "text/html": [
       "<div>\n",
       "<style scoped>\n",
       "    .dataframe tbody tr th:only-of-type {\n",
       "        vertical-align: middle;\n",
       "    }\n",
       "\n",
       "    .dataframe tbody tr th {\n",
       "        vertical-align: top;\n",
       "    }\n",
       "\n",
       "    .dataframe thead th {\n",
       "        text-align: right;\n",
       "    }\n",
       "</style>\n",
       "<table border=\"1\" class=\"dataframe\">\n",
       "  <thead>\n",
       "    <tr style=\"text-align: right;\">\n",
       "      <th></th>\n",
       "      <th>STD_YM</th>\n",
       "      <th>ADMI_CD</th>\n",
       "      <th>ADMI_NM</th>\n",
       "      <th>SEXDSTN_CD</th>\n",
       "      <th>AGRDE_CD</th>\n",
       "      <th>RSPOP_CNT</th>\n",
       "      <th>CTY_NM</th>\n",
       "    </tr>\n",
       "  </thead>\n",
       "  <tbody>\n",
       "    <tr>\n",
       "      <th>0</th>\n",
       "      <td>202306</td>\n",
       "      <td>11290600</td>\n",
       "      <td>안암동</td>\n",
       "      <td>1</td>\n",
       "      <td>0004</td>\n",
       "      <td>174</td>\n",
       "      <td>성북구</td>\n",
       "    </tr>\n",
       "    <tr>\n",
       "      <th>1</th>\n",
       "      <td>202306</td>\n",
       "      <td>11230720</td>\n",
       "      <td>휘경1동</td>\n",
       "      <td>1</td>\n",
       "      <td>0004</td>\n",
       "      <td>326</td>\n",
       "      <td>동대문구</td>\n",
       "    </tr>\n",
       "  </tbody>\n",
       "</table>\n",
       "</div>"
      ],
      "text/plain": [
       "   STD_YM   ADMI_CD ADMI_NM SEXDSTN_CD AGRDE_CD RSPOP_CNT CTY_NM\n",
       "0  202306  11290600     안암동          1     0004       174    성북구\n",
       "1  202306  11230720    휘경1동          1     0004       326   동대문구"
      ]
     },
     "execution_count": 34,
     "metadata": {},
     "output_type": "execute_result"
    }
   ],
   "source": [
    "data.head(2)"
   ]
  },
  {
   "cell_type": "code",
   "execution_count": 35,
   "metadata": {},
   "outputs": [],
   "source": [
    "# 거주인구 integer로 형 변환\n",
    "data['RSPOP_CNT'] = data['RSPOP_CNT'].astype('int')"
   ]
  },
  {
   "cell_type": "code",
   "execution_count": 36,
   "metadata": {},
   "outputs": [
    {
     "name": "stdout",
     "output_type": "stream",
     "text": [
      "<class 'pandas.core.frame.DataFrame'>\n",
      "RangeIndex: 17724 entries, 0 to 17723\n",
      "Data columns (total 7 columns):\n",
      " #   Column      Non-Null Count  Dtype \n",
      "---  ------      --------------  ----- \n",
      " 0   STD_YM      17724 non-null  object\n",
      " 1   ADMI_CD     17724 non-null  object\n",
      " 2   ADMI_NM     17724 non-null  object\n",
      " 3   SEXDSTN_CD  17724 non-null  object\n",
      " 4   AGRDE_CD    17724 non-null  object\n",
      " 5   RSPOP_CNT   17724 non-null  int32 \n",
      " 6   CTY_NM      17724 non-null  object\n",
      "dtypes: int32(1), object(6)\n",
      "memory usage: 900.2+ KB\n"
     ]
    }
   ],
   "source": [
    "data.info()"
   ]
  },
  {
   "cell_type": "code",
   "execution_count": 38,
   "metadata": {},
   "outputs": [
    {
     "data": {
      "text/plain": [
       "421"
      ]
     },
     "execution_count": 38,
     "metadata": {},
     "output_type": "execute_result"
    }
   ],
   "source": [
    "len(data['ADMI_NM'].unique())"
   ]
  },
  {
   "cell_type": "markdown",
   "metadata": {},
   "source": [
    "### 행정동, 법정동 전처리 \n",
    "화곡 1동, 화곡 2동 -> 화곡동으로 바꾸고 인구 합치기"
   ]
  },
  {
   "cell_type": "code",
   "execution_count": 22,
   "metadata": {},
   "outputs": [],
   "source": [
    "# 동이름에서 숫자 제외하기\n",
    "kor_str = [re.sub(r\"[^ㄱ-ㅣ가-힣\\s]\", \"\",i )for i in data['ADMI_NM']]\n",
    "data['ADMI_NM'] = kor_str"
   ]
  },
  {
   "cell_type": "code",
   "execution_count": 23,
   "metadata": {},
   "outputs": [
    {
     "data": {
      "text/html": [
       "<div>\n",
       "<style scoped>\n",
       "    .dataframe tbody tr th:only-of-type {\n",
       "        vertical-align: middle;\n",
       "    }\n",
       "\n",
       "    .dataframe tbody tr th {\n",
       "        vertical-align: top;\n",
       "    }\n",
       "\n",
       "    .dataframe thead th {\n",
       "        text-align: right;\n",
       "    }\n",
       "</style>\n",
       "<table border=\"1\" class=\"dataframe\">\n",
       "  <thead>\n",
       "    <tr style=\"text-align: right;\">\n",
       "      <th></th>\n",
       "      <th>CTY_NM</th>\n",
       "      <th>ADMI_NM</th>\n",
       "      <th>SEXDSTN_CD</th>\n",
       "      <th>AGRDE_CD</th>\n",
       "      <th>RSPOP_CNT</th>\n",
       "    </tr>\n",
       "  </thead>\n",
       "  <tbody>\n",
       "    <tr>\n",
       "      <th>0</th>\n",
       "      <td>강남구</td>\n",
       "      <td>개포동</td>\n",
       "      <td>1</td>\n",
       "      <td>0004</td>\n",
       "      <td>2232</td>\n",
       "    </tr>\n",
       "    <tr>\n",
       "      <th>1</th>\n",
       "      <td>강남구</td>\n",
       "      <td>개포동</td>\n",
       "      <td>1</td>\n",
       "      <td>0509</td>\n",
       "      <td>3392</td>\n",
       "    </tr>\n",
       "    <tr>\n",
       "      <th>2</th>\n",
       "      <td>강남구</td>\n",
       "      <td>개포동</td>\n",
       "      <td>1</td>\n",
       "      <td>1014</td>\n",
       "      <td>3984</td>\n",
       "    </tr>\n",
       "    <tr>\n",
       "      <th>3</th>\n",
       "      <td>강남구</td>\n",
       "      <td>개포동</td>\n",
       "      <td>1</td>\n",
       "      <td>1519</td>\n",
       "      <td>3710</td>\n",
       "    </tr>\n",
       "    <tr>\n",
       "      <th>4</th>\n",
       "      <td>강남구</td>\n",
       "      <td>개포동</td>\n",
       "      <td>1</td>\n",
       "      <td>2024</td>\n",
       "      <td>3880</td>\n",
       "    </tr>\n",
       "    <tr>\n",
       "      <th>...</th>\n",
       "      <td>...</td>\n",
       "      <td>...</td>\n",
       "      <td>...</td>\n",
       "      <td>...</td>\n",
       "      <td>...</td>\n",
       "    </tr>\n",
       "    <tr>\n",
       "      <th>10201</th>\n",
       "      <td>중랑구</td>\n",
       "      <td>중화동</td>\n",
       "      <td>2</td>\n",
       "      <td>8084</td>\n",
       "      <td>1390</td>\n",
       "    </tr>\n",
       "    <tr>\n",
       "      <th>10202</th>\n",
       "      <td>중랑구</td>\n",
       "      <td>중화동</td>\n",
       "      <td>2</td>\n",
       "      <td>8589</td>\n",
       "      <td>684</td>\n",
       "    </tr>\n",
       "    <tr>\n",
       "      <th>10203</th>\n",
       "      <td>중랑구</td>\n",
       "      <td>중화동</td>\n",
       "      <td>2</td>\n",
       "      <td>9094</td>\n",
       "      <td>188</td>\n",
       "    </tr>\n",
       "    <tr>\n",
       "      <th>10204</th>\n",
       "      <td>중랑구</td>\n",
       "      <td>중화동</td>\n",
       "      <td>2</td>\n",
       "      <td>9599</td>\n",
       "      <td>46</td>\n",
       "    </tr>\n",
       "    <tr>\n",
       "      <th>10205</th>\n",
       "      <td>중랑구</td>\n",
       "      <td>중화동</td>\n",
       "      <td>2</td>\n",
       "      <td>I00</td>\n",
       "      <td>4</td>\n",
       "    </tr>\n",
       "  </tbody>\n",
       "</table>\n",
       "<p>10206 rows × 5 columns</p>\n",
       "</div>"
      ],
      "text/plain": [
       "      CTY_NM ADMI_NM SEXDSTN_CD AGRDE_CD  RSPOP_CNT\n",
       "0        강남구     개포동          1     0004       2232\n",
       "1        강남구     개포동          1     0509       3392\n",
       "2        강남구     개포동          1     1014       3984\n",
       "3        강남구     개포동          1     1519       3710\n",
       "4        강남구     개포동          1     2024       3880\n",
       "...      ...     ...        ...      ...        ...\n",
       "10201    중랑구     중화동          2     8084       1390\n",
       "10202    중랑구     중화동          2     8589        684\n",
       "10203    중랑구     중화동          2     9094        188\n",
       "10204    중랑구     중화동          2     9599         46\n",
       "10205    중랑구     중화동          2      I00          4\n",
       "\n",
       "[10206 rows x 5 columns]"
      ]
     },
     "execution_count": 23,
     "metadata": {},
     "output_type": "execute_result"
    }
   ],
   "source": [
    "# 숫자가 제외된 동이름으로 묶고, 인구수 집계 \n",
    "df = data.groupby(['CTY_NM', 'ADMI_NM','SEXDSTN_CD', 'AGRDE_CD'])['RSPOP_CNT'].sum().to_frame()\n",
    "df.reset_index(inplace=True)\n",
    "df"
   ]
  },
  {
   "cell_type": "code",
   "execution_count": 24,
   "metadata": {},
   "outputs": [
    {
     "name": "stdout",
     "output_type": "stream",
     "text": [
      "<class 'pandas.core.frame.DataFrame'>\n",
      "RangeIndex: 10206 entries, 0 to 10205\n",
      "Data columns (total 5 columns):\n",
      " #   Column      Non-Null Count  Dtype \n",
      "---  ------      --------------  ----- \n",
      " 0   CTY_NM      10206 non-null  object\n",
      " 1   ADMI_NM     10206 non-null  object\n",
      " 2   SEXDSTN_CD  10206 non-null  object\n",
      " 3   AGRDE_CD    10206 non-null  object\n",
      " 4   RSPOP_CNT   10206 non-null  int32 \n",
      "dtypes: int32(1), object(4)\n",
      "memory usage: 358.9+ KB\n"
     ]
    }
   ],
   "source": [
    "df.info()"
   ]
  },
  {
   "cell_type": "code",
   "execution_count": 43,
   "metadata": {},
   "outputs": [
    {
     "name": "stdout",
     "output_type": "stream",
     "text": [
      "행정구역 동 통합 이후 개수: 240 개\n"
     ]
    }
   ],
   "source": [
    "print('행정구역 동 통합 이후 개수:', len(df['ADMI_NM'].unique()), '개')"
   ]
  },
  {
   "cell_type": "code",
   "execution_count": 25,
   "metadata": {},
   "outputs": [],
   "source": [
    "# 막대 그래프 그리는 함수 설정\n",
    "def plot_bar(data, xlabel, ylabel, title):\n",
    "    plt.rc('font', family='Malgun Gothic')\n",
    "    plt.bar(x=data.index, height=data.values)\n",
    "    plt.xlabel(xlabel)\n",
    "    plt.ylabel(ylabel)\n",
    "    plt.title(title)\n",
    "    plt.xticks(rotation=45)\n",
    "    plt.show()"
   ]
  },
  {
   "cell_type": "code",
   "execution_count": 26,
   "metadata": {},
   "outputs": [
    {
     "data": {
      "text/plain": [
       "CTY_NM\n",
       "송파구    1314202\n",
       "강서구    1133678\n",
       "강남구    1040140\n",
       "노원구    1000208\n",
       "관악구     974384\n",
       "은평구     926596\n",
       "양천구     876706\n",
       "성북구     858284\n",
       "강동구     815494\n",
       "서초구     808968\n",
       "Name: RSPOP_CNT, dtype: int32"
      ]
     },
     "execution_count": 26,
     "metadata": {},
     "output_type": "execute_result"
    }
   ],
   "source": [
    "# 구별 거주 인구 합계(내림차순)\n",
    "df.groupby('CTY_NM').sum()['RSPOP_CNT'].sort_values(ascending=False).head(10)"
   ]
  },
  {
   "cell_type": "code",
   "execution_count": 28,
   "metadata": {},
   "outputs": [
    {
     "data": {
      "image/png": "[encoded data removed]",
      "text/plain": [
       "<Figure size 640x480 with 1 Axes>"
      ]
     },
     "metadata": {},
     "output_type": "display_data"
    }
   ],
   "source": [
    "plot_bar(df.groupby('CTY_NM').sum()['RSPOP_CNT'].sort_values(ascending=False).head(10), '구이름', '인구수', '구별 인구수 상위 10개')"
   ]
  },
  {
   "cell_type": "code",
   "execution_count": 29,
   "metadata": {},
   "outputs": [
    {
     "data": {
      "text/plain": [
       "CTY_NM  ADMI_NM\n",
       "노원구     상계동        393652\n",
       "양천구     신정동        346162\n",
       "강서구     화곡동        317708\n",
       "양천구     목동         291540\n",
       "동작구     상도동        248214\n",
       "양천구     신월동        239004\n",
       "송파구     잠실동        232176\n",
       "도봉구     창동         231768\n",
       "구로구     구로동        230018\n",
       "서초구     서초동        218956\n",
       "Name: RSPOP_CNT, dtype: int32"
      ]
     },
     "execution_count": 29,
     "metadata": {},
     "output_type": "execute_result"
    }
   ],
   "source": [
    "# 동별 거주 인구 합계(내림차순)\n",
    "df.groupby(['CTY_NM', 'ADMI_NM']).sum()['RSPOP_CNT'].sort_values(ascending=False).head(10)"
   ]
  },
  {
   "cell_type": "code",
   "execution_count": 48,
   "metadata": {},
   "outputs": [
    {
     "data": {
      "image/png": "[encoded data removed]",
      "text/plain": [
       "<Figure size 640x480 with 1 Axes>"
      ]
     },
     "metadata": {},
     "output_type": "display_data"
    }
   ],
   "source": [
    "plot_bar(df.groupby(['ADMI_NM']).sum()['RSPOP_CNT'].sort_values(ascending=False).head(10), '동 이름', '인구수', '동 별 인구수 상위 10개')"
   ]
  },
  {
   "cell_type": "code",
   "execution_count": 78,
   "metadata": {},
   "outputs": [
    {
     "data": {
      "text/plain": [
       "CTY_NM  ADMI_NM\n",
       "은평구     진관동        109356\n",
       "강서구     화곡1동       103224\n",
       "양천구     신정3동       100026\n",
       "금천구     독산1동        92664\n",
       "강동구     길동          89616\n",
       "송파구     위례동         89344\n",
       "동작구     상도1동        88674\n",
       "은평구     역촌동         88564\n",
       "강남구     세곡동         88410\n",
       "강서구     우장산동        87492\n",
       "Name: RSPOP_CNT, dtype: int32"
      ]
     },
     "execution_count": 78,
     "metadata": {},
     "output_type": "execute_result"
    }
   ],
   "source": [
    "# 동별 거주 인구 합계(내림차순)_ 동 통합 이전\n",
    "data.groupby(['CTY_NM', 'ADMI_NM']).sum()['RSPOP_CNT'].sort_values(ascending=False).head(10)"
   ]
  },
  {
   "cell_type": "code",
   "execution_count": 54,
   "metadata": {},
   "outputs": [
    {
     "data": {
      "text/plain": [
       "CTY_NM  ADMI_NM\n",
       "노원구     상계동        188282\n",
       "양천구     신정동        167894\n",
       "강서구     화곡동        153464\n",
       "양천구     목동         141620\n",
       "동작구     상도동        119696\n",
       "양천구     신월동        118832\n",
       "구로구     구로동        113768\n",
       "도봉구     창동         111756\n",
       "송파구     잠실동        110476\n",
       "서초구     서초동        105018\n",
       "Name: RSPOP_CNT, dtype: int32"
      ]
     },
     "execution_count": 54,
     "metadata": {},
     "output_type": "execute_result"
    }
   ],
   "source": [
    "# 동별 거주 인구 남성 인구 합계(내림차순)\n",
    "df[df['SEXDSTN_CD'] == '1'].groupby(['CTY_NM', 'ADMI_NM'])['RSPOP_CNT'].sum().sort_values(ascending=False).head(10)"
   ]
  },
  {
   "cell_type": "code",
   "execution_count": 56,
   "metadata": {},
   "outputs": [
    {
     "data": {
      "text/plain": [
       "CTY_NM  ADMI_NM\n",
       "은평구     진관동        51004\n",
       "강서구     화곡1동       50186\n",
       "양천구     신정3동       48376\n",
       "금천구     독산1동       47224\n",
       "강동구     길동         43700\n",
       "송파구     위례동        43536\n",
       "동작구     상도1동       43062\n",
       "강서구     우장산동       41824\n",
       "은평구     역촌동        41572\n",
       "강남구     세곡동        41426\n",
       "Name: RSPOP_CNT, dtype: int32"
      ]
     },
     "execution_count": 56,
     "metadata": {},
     "output_type": "execute_result"
    }
   ],
   "source": [
    "# 동별 거주 인구 남성 인구 합계(내림차순)_동 통합 이전\n",
    "data[data['SEXDSTN_CD'] == '1'].groupby(['CTY_NM', 'ADMI_NM'])['RSPOP_CNT'].sum().sort_values(ascending=False).head(10)"
   ]
  },
  {
   "cell_type": "code",
   "execution_count": 55,
   "metadata": {},
   "outputs": [
    {
     "data": {
      "image/png": "[encoded data removed]",
      "text/plain": [
       "<Figure size 640x480 with 1 Axes>"
      ]
     },
     "metadata": {},
     "output_type": "display_data"
    }
   ],
   "source": [
    "plot_bar(df[df['SEXDSTN_CD'] == '1'].groupby(['ADMI_NM'])['RSPOP_CNT'].sum().sort_values(ascending=False).head(10), '동 이름', '남자 인구수', '동 별 남자 인구수 상위 10개')"
   ]
  },
  {
   "cell_type": "code",
   "execution_count": 59,
   "metadata": {},
   "outputs": [
    {
     "data": {
      "text/plain": [
       "CTY_NM  ADMI_NM\n",
       "노원구     상계동        205370\n",
       "양천구     신정동        178268\n",
       "강서구     화곡동        164244\n",
       "양천구     목동         149920\n",
       "동작구     상도동        128518\n",
       "송파구     잠실동        121700\n",
       "양천구     신월동        120172\n",
       "도봉구     창동         120012\n",
       "구로구     구로동        116250\n",
       "서초구     서초동        113938\n",
       "Name: RSPOP_CNT, dtype: int32"
      ]
     },
     "execution_count": 59,
     "metadata": {},
     "output_type": "execute_result"
    }
   ],
   "source": [
    "# 동별 거주 인구 여성 인구 합계\n",
    "df[df['SEXDSTN_CD'] == '2'].groupby(['CTY_NM', 'ADMI_NM'])['RSPOP_CNT'].sum().sort_values(ascending=False).nlargest(10)"
   ]
  },
  {
   "cell_type": "code",
   "execution_count": 60,
   "metadata": {},
   "outputs": [
    {
     "data": {
      "text/plain": [
       "CTY_NM  ADMI_NM\n",
       "은평구     진관동        58352\n",
       "강서구     화곡1동       53038\n",
       "양천구     신정3동       51650\n",
       "은평구     역촌동        46992\n",
       "강남구     세곡동        46984\n",
       "강동구     길동         45916\n",
       "송파구     위례동        45808\n",
       "강서구     우장산동       45668\n",
       "동작구     상도1동       45612\n",
       "금천구     독산1동       45440\n",
       "Name: RSPOP_CNT, dtype: int32"
      ]
     },
     "execution_count": 60,
     "metadata": {},
     "output_type": "execute_result"
    }
   ],
   "source": [
    "# 동별 거주 인구 여성 인구 합계\n",
    "data[data['SEXDSTN_CD'] == '2'].groupby(['CTY_NM', 'ADMI_NM'])['RSPOP_CNT'].sum().sort_values(ascending=False).nlargest(10)"
   ]
  },
  {
   "cell_type": "code",
   "execution_count": 58,
   "metadata": {},
   "outputs": [
    {
     "data": {
      "image/png": "[encoded data removed]",
      "text/plain": [
       "<Figure size 640x480 with 1 Axes>"
      ]
     },
     "metadata": {},
     "output_type": "display_data"
    }
   ],
   "source": [
    "plot_bar(df[df['SEXDSTN_CD'] == '2'].groupby(['ADMI_NM'])['RSPOP_CNT'].sum().sort_values(ascending=False).head(10), '동 이름', '여자 인구수', '동 별 여자 인구수 상위 10개')"
   ]
  },
  {
   "cell_type": "code",
   "execution_count": null,
   "metadata": {},
   "outputs": [],
   "source": []
  }
 ],
 "metadata": {
  "kernelspec": {
   "display_name": "base",
   "language": "python",
   "name": "python3"
  },
  "language_info": {
   "codemirror_mode": {
    "name": "ipython",
    "version": 3
   },
   "file_extension": ".py",
   "mimetype": "text/x-python",
   "name": "python",
   "nbconvert_exporter": "python",
   "pygments_lexer": "ipython3",
   "version": "3.10.9"
  }
 },
 "nbformat": 4,
 "nbformat_minor": 2
}
