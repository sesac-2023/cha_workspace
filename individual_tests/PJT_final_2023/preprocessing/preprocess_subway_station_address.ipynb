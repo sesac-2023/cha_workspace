{
 "cells": [
  {
   "cell_type": "markdown",
   "metadata": {},
   "source": [
    "수도권 1, 9호선 주소 정보 가져와서 하나로 합치기"
   ]
  },
  {
   "cell_type": "code",
   "execution_count": 1,
   "metadata": {},
   "outputs": [],
   "source": [
    "import pandas as pd"
   ]
  },
  {
   "cell_type": "code",
   "execution_count": 11,
   "metadata": {},
   "outputs": [],
   "source": [
    "# 데이터 불러오기\n",
    "line_1 = pd.read_excel('./data_to_preprocess/수도권1호선주소.xlsx')\n",
    "line_9 = pd.read_excel('./data_to_preprocess/수도권9호선주소.xlsx')\n",
    "line_1_9 = pd.concat([line_1, line_9])"
   ]
  },
  {
   "cell_type": "code",
   "execution_count": 14,
   "metadata": {},
   "outputs": [
    {
     "data": {
      "text/html": [
       "<div>\n",
       "<style scoped>\n",
       "    .dataframe tbody tr th:only-of-type {\n",
       "        vertical-align: middle;\n",
       "    }\n",
       "\n",
       "    .dataframe tbody tr th {\n",
       "        vertical-align: top;\n",
       "    }\n",
       "\n",
       "    .dataframe thead th {\n",
       "        text-align: right;\n",
       "    }\n",
       "</style>\n",
       "<table border=\"1\" class=\"dataframe\">\n",
       "  <thead>\n",
       "    <tr style=\"text-align: right;\">\n",
       "      <th></th>\n",
       "      <th>호선</th>\n",
       "      <th>역명</th>\n",
       "      <th>지번주소</th>\n",
       "      <th>도로명주소</th>\n",
       "    </tr>\n",
       "  </thead>\n",
       "  <tbody>\n",
       "    <tr>\n",
       "      <th>0</th>\n",
       "      <td>1호선</td>\n",
       "      <td>소요산</td>\n",
       "      <td>경기도 동두천시 상봉암동 126-3</td>\n",
       "      <td>경기도 동두천시 평화로 2925</td>\n",
       "    </tr>\n",
       "    <tr>\n",
       "      <th>1</th>\n",
       "      <td>1호선</td>\n",
       "      <td>동두천</td>\n",
       "      <td>경기도 동두천시 동두천동 245-210</td>\n",
       "      <td>경기도 동두천시 평화로 2687</td>\n",
       "    </tr>\n",
       "    <tr>\n",
       "      <th>2</th>\n",
       "      <td>1호선</td>\n",
       "      <td>보산</td>\n",
       "      <td>경기도 동두천시 보산동 422</td>\n",
       "      <td>경기도 동두천시 평화로 2539</td>\n",
       "    </tr>\n",
       "    <tr>\n",
       "      <th>3</th>\n",
       "      <td>1호선</td>\n",
       "      <td>동두천중앙</td>\n",
       "      <td>경기도 동두천시 생연동 726-3</td>\n",
       "      <td>경기도 동두천시 동두천로 228</td>\n",
       "    </tr>\n",
       "    <tr>\n",
       "      <th>4</th>\n",
       "      <td>1호선</td>\n",
       "      <td>지행</td>\n",
       "      <td>경기도 동두천시 지행동 424-1</td>\n",
       "      <td>경기도 동두천시 평화로 2285</td>\n",
       "    </tr>\n",
       "    <tr>\n",
       "      <th>...</th>\n",
       "      <td>...</td>\n",
       "      <td>...</td>\n",
       "      <td>...</td>\n",
       "      <td>...</td>\n",
       "    </tr>\n",
       "    <tr>\n",
       "      <th>25</th>\n",
       "      <td>9호선</td>\n",
       "      <td>언주</td>\n",
       "      <td>서울특별시 강남구 논현동 279-165</td>\n",
       "      <td>서울특별시 강남구 봉은사로 201</td>\n",
       "    </tr>\n",
       "    <tr>\n",
       "      <th>26</th>\n",
       "      <td>9호선</td>\n",
       "      <td>선정릉</td>\n",
       "      <td>서울특별시 강남구 삼성동 111-114</td>\n",
       "      <td>서울특별시 강남구 선릉로 580</td>\n",
       "    </tr>\n",
       "    <tr>\n",
       "      <th>27</th>\n",
       "      <td>9호선</td>\n",
       "      <td>삼성중앙</td>\n",
       "      <td>서울특별시 강남구 삼성동 111-147</td>\n",
       "      <td>서울특별시 강남구 봉은사로 501</td>\n",
       "    </tr>\n",
       "    <tr>\n",
       "      <th>28</th>\n",
       "      <td>9호선</td>\n",
       "      <td>봉은사</td>\n",
       "      <td>서울특별시 강남구 삼성동 172</td>\n",
       "      <td>서울특별시 강남구 봉은사로 601</td>\n",
       "    </tr>\n",
       "    <tr>\n",
       "      <th>29</th>\n",
       "      <td>9호선</td>\n",
       "      <td>종합운동장</td>\n",
       "      <td>서울특별시 송파구 잠실동 123</td>\n",
       "      <td>서울특별시 송파구 올림픽로 23</td>\n",
       "    </tr>\n",
       "  </tbody>\n",
       "</table>\n",
       "<p>128 rows × 4 columns</p>\n",
       "</div>"
      ],
      "text/plain": [
       "     호선     역명                   지번주소               도로명주소\n",
       "0   1호선    소요산    경기도 동두천시 상봉암동 126-3   경기도 동두천시 평화로 2925\n",
       "1   1호선    동두천  경기도 동두천시 동두천동 245-210  경기도 동두천시 평화로 2687 \n",
       "2   1호선     보산       경기도 동두천시 보산동 422   경기도 동두천시 평화로 2539\n",
       "3   1호선  동두천중앙     경기도 동두천시 생연동 726-3   경기도 동두천시 동두천로 228\n",
       "4   1호선     지행     경기도 동두천시 지행동 424-1   경기도 동두천시 평화로 2285\n",
       "..  ...    ...                    ...                 ...\n",
       "25  9호선     언주  서울특별시 강남구 논현동 279-165  서울특별시 강남구 봉은사로 201\n",
       "26  9호선    선정릉  서울특별시 강남구 삼성동 111-114   서울특별시 강남구 선릉로 580\n",
       "27  9호선   삼성중앙  서울특별시 강남구 삼성동 111-147  서울특별시 강남구 봉은사로 501\n",
       "28  9호선    봉은사      서울특별시 강남구 삼성동 172  서울특별시 강남구 봉은사로 601\n",
       "29  9호선  종합운동장      서울특별시 송파구 잠실동 123   서울특별시 송파구 올림픽로 23\n",
       "\n",
       "[128 rows x 4 columns]"
      ]
     },
     "execution_count": 14,
     "metadata": {},
     "output_type": "execute_result"
    }
   ],
   "source": [
    "# 불필요한 열 제거하고 컬럼명 변경\n",
    "line_1_9.drop(columns='철도운영기관명', inplace=True)\n",
    "line_1_9.rename(columns={'선명': '호선'}, inplace=True)\n",
    "line_1_9"
   ]
  },
  {
   "cell_type": "markdown",
   "metadata": {},
   "source": [
    "괄호 안의 역명은 괄호와 함께 제거"
   ]
  },
  {
   "cell_type": "code",
   "execution_count": 18,
   "metadata": {},
   "outputs": [
    {
     "name": "stdout",
     "output_type": "stream",
     "text": [
      "['소요산', '동두천', '보산', '동두천중앙', '지행', '덕정', '덕계', '양주', '녹양', '가능', '의정부', '회룡', '망월사', '도봉산', '도봉', '방학', '창동', '녹천', '월계', '광운대', '석계', '신이문', '외대앞', '회기', '남영', '용산', '노량진', '대방', '신길', '영등포', '신도림', '구로', '구일', '개봉', '오류동', '온수', '역곡', '소사', '부천', '중동', '송내', '부개', '부평', '백운', '동암', '간석', '주안', '도화', '제물포', '도원', '동인천', '인천', '가산디지털단지', '독산', '금천구청', '광명', '석수', '관악', '안양', '명학', '금정', '군포', '당정', '의왕', '성균관대', '화서', '수원', '세류', '병점', '서동탄', '세마', '오산대', '오산', '진위', '송탄', '서정리', '지제', '평택', '성환', '직산', '두정', '천안', '봉명', '쌍용(나사렛대)', '아산', '배방', '온양온천', '신창(순천향대)', '청량리(서울시립대입구)', '제기동', '신설동', '동묘앞', '동대문', '종로5가', '종로3가', '종각', '시청', '서울역', '개화', '김포공항', '공항시장', '신방화', '마곡나루', '양천향교', '가양', '증미', '등촌', '염창', '신목동', '선유도', '당산', '국회의사당', '여의도', '샛강', '노량진', '노들', '흑석(중앙대입구)', '동작(현충원)', '구반포', '신반포', '고속터미널', '사평', '신논현', '언주', '선정릉', '삼성중앙', '봉은사', '종합운동장']\n"
     ]
    }
   ],
   "source": [
    "# 역명 조회\n",
    "print(line_1_9['역명'].to_list())"
   ]
  },
  {
   "cell_type": "code",
   "execution_count": 19,
   "metadata": {},
   "outputs": [],
   "source": [
    "# 괄호 안에 포함된 역명 괄호와 함께 제거\n",
    "line_1_9['역명'] = line_1_9['역명'].map(lambda x : x.split('(')[0] if x.find('(') > 0 else x)"
   ]
  },
  {
   "cell_type": "code",
   "execution_count": 20,
   "metadata": {},
   "outputs": [
    {
     "name": "stdout",
     "output_type": "stream",
     "text": [
      "['소요산', '동두천', '보산', '동두천중앙', '지행', '덕정', '덕계', '양주', '녹양', '가능', '의정부', '회룡', '망월사', '도봉산', '도봉', '방학', '창동', '녹천', '월계', '광운대', '석계', '신이문', '외대앞', '회기', '남영', '용산', '노량진', '대방', '신길', '영등포', '신도림', '구로', '구일', '개봉', '오류동', '온수', '역곡', '소사', '부천', '중동', '송내', '부개', '부평', '백운', '동암', '간석', '주안', '도화', '제물포', '도원', '동인천', '인천', '가산디지털단지', '독산', '금천구청', '광명', '석수', '관악', '안양', '명학', '금정', '군포', '당정', '의왕', '성균관대', '화서', '수원', '세류', '병점', '서동탄', '세마', '오산대', '오산', '진위', '송탄', '서정리', '지제', '평택', '성환', '직산', '두정', '천안', '봉명', '쌍용', '아산', '배방', '온양온천', '신창', '청량리', '제기동', '신설동', '동묘앞', '동대문', '종로5가', '종로3가', '종각', '시청', '서울역', '개화', '김포공항', '공항시장', '신방화', '마곡나루', '양천향교', '가양', '증미', '등촌', '염창', '신목동', '선유도', '당산', '국회의사당', '여의도', '샛강', '노량진', '노들', '흑석', '동작', '구반포', '신반포', '고속터미널', '사평', '신논현', '언주', '선정릉', '삼성중앙', '봉은사', '종합운동장']\n"
     ]
    }
   ],
   "source": [
    "# 제거 후, 역명 조회\n",
    "print(line_1_9['역명'].to_list())"
   ]
  },
  {
   "cell_type": "code",
   "execution_count": 22,
   "metadata": {},
   "outputs": [
    {
     "data": {
      "text/plain": [
       "호선     역명     지번주소   도로명주소\n",
       "False  False  False  False    127\n",
       "              True   False      1\n",
       "Name: count, dtype: int64"
      ]
     },
     "execution_count": 22,
     "metadata": {},
     "output_type": "execute_result"
    }
   ],
   "source": [
    "# 주소가 결측치인 row 확인\n",
    "line_1_9.isnull().value_counts()"
   ]
  },
  {
   "cell_type": "code",
   "execution_count": 25,
   "metadata": {},
   "outputs": [
    {
     "data": {
      "text/html": [
       "<div>\n",
       "<style scoped>\n",
       "    .dataframe tbody tr th:only-of-type {\n",
       "        vertical-align: middle;\n",
       "    }\n",
       "\n",
       "    .dataframe tbody tr th {\n",
       "        vertical-align: top;\n",
       "    }\n",
       "\n",
       "    .dataframe thead th {\n",
       "        text-align: right;\n",
       "    }\n",
       "</style>\n",
       "<table border=\"1\" class=\"dataframe\">\n",
       "  <thead>\n",
       "    <tr style=\"text-align: right;\">\n",
       "      <th></th>\n",
       "      <th>호선</th>\n",
       "      <th>역명</th>\n",
       "      <th>지번주소</th>\n",
       "      <th>도로명주소</th>\n",
       "    </tr>\n",
       "  </thead>\n",
       "  <tbody>\n",
       "    <tr>\n",
       "      <th>13</th>\n",
       "      <td>1호선</td>\n",
       "      <td>도봉산</td>\n",
       "      <td>서울특별시 도봉구 도봉동 18-1</td>\n",
       "      <td>서울특별시 도봉구 도봉로 964-33</td>\n",
       "    </tr>\n",
       "    <tr>\n",
       "      <th>14</th>\n",
       "      <td>1호선</td>\n",
       "      <td>도봉</td>\n",
       "      <td>서울특별시 도봉구 도봉동 639</td>\n",
       "      <td>서울특별시 도봉구 도봉로 170길 2</td>\n",
       "    </tr>\n",
       "    <tr>\n",
       "      <th>15</th>\n",
       "      <td>1호선</td>\n",
       "      <td>방학</td>\n",
       "      <td>서울특별시 도봉구 방학동 728</td>\n",
       "      <td>서울특별시 도봉구 도봉로 150다길 3</td>\n",
       "    </tr>\n",
       "    <tr>\n",
       "      <th>16</th>\n",
       "      <td>1호선</td>\n",
       "      <td>창동</td>\n",
       "      <td>서울특별시 도봉구 창동 135-1</td>\n",
       "      <td>서울특별시 도봉구 마들로11길 77</td>\n",
       "    </tr>\n",
       "    <tr>\n",
       "      <th>17</th>\n",
       "      <td>1호선</td>\n",
       "      <td>녹천</td>\n",
       "      <td>서울특별시 도봉구 창동 57-11</td>\n",
       "      <td>서울특별시 도붕구 덕릉로 376</td>\n",
       "    </tr>\n",
       "    <tr>\n",
       "      <th>...</th>\n",
       "      <td>...</td>\n",
       "      <td>...</td>\n",
       "      <td>...</td>\n",
       "      <td>...</td>\n",
       "    </tr>\n",
       "    <tr>\n",
       "      <th>25</th>\n",
       "      <td>9호선</td>\n",
       "      <td>언주</td>\n",
       "      <td>서울특별시 강남구 논현동 279-165</td>\n",
       "      <td>서울특별시 강남구 봉은사로 201</td>\n",
       "    </tr>\n",
       "    <tr>\n",
       "      <th>26</th>\n",
       "      <td>9호선</td>\n",
       "      <td>선정릉</td>\n",
       "      <td>서울특별시 강남구 삼성동 111-114</td>\n",
       "      <td>서울특별시 강남구 선릉로 580</td>\n",
       "    </tr>\n",
       "    <tr>\n",
       "      <th>27</th>\n",
       "      <td>9호선</td>\n",
       "      <td>삼성중앙</td>\n",
       "      <td>서울특별시 강남구 삼성동 111-147</td>\n",
       "      <td>서울특별시 강남구 봉은사로 501</td>\n",
       "    </tr>\n",
       "    <tr>\n",
       "      <th>28</th>\n",
       "      <td>9호선</td>\n",
       "      <td>봉은사</td>\n",
       "      <td>서울특별시 강남구 삼성동 172</td>\n",
       "      <td>서울특별시 강남구 봉은사로 601</td>\n",
       "    </tr>\n",
       "    <tr>\n",
       "      <th>29</th>\n",
       "      <td>9호선</td>\n",
       "      <td>종합운동장</td>\n",
       "      <td>서울특별시 송파구 잠실동 123</td>\n",
       "      <td>서울특별시 송파구 올림픽로 23</td>\n",
       "    </tr>\n",
       "  </tbody>\n",
       "</table>\n",
       "<p>66 rows × 4 columns</p>\n",
       "</div>"
      ],
      "text/plain": [
       "     호선     역명                   지번주소                  도로명주소\n",
       "13  1호선    도봉산     서울특별시 도봉구 도봉동 18-1   서울특별시 도봉구 도봉로 964-33\n",
       "14  1호선     도봉      서울특별시 도봉구 도봉동 639   서울특별시 도봉구 도봉로 170길 2\n",
       "15  1호선     방학      서울특별시 도봉구 방학동 728  서울특별시 도봉구 도봉로 150다길 3\n",
       "16  1호선     창동     서울특별시 도봉구 창동 135-1    서울특별시 도봉구 마들로11길 77\n",
       "17  1호선     녹천     서울특별시 도봉구 창동 57-11      서울특별시 도붕구 덕릉로 376\n",
       "..  ...    ...                    ...                    ...\n",
       "25  9호선     언주  서울특별시 강남구 논현동 279-165     서울특별시 강남구 봉은사로 201\n",
       "26  9호선    선정릉  서울특별시 강남구 삼성동 111-114      서울특별시 강남구 선릉로 580\n",
       "27  9호선   삼성중앙  서울특별시 강남구 삼성동 111-147     서울특별시 강남구 봉은사로 501\n",
       "28  9호선    봉은사      서울특별시 강남구 삼성동 172     서울특별시 강남구 봉은사로 601\n",
       "29  9호선  종합운동장      서울특별시 송파구 잠실동 123      서울특별시 송파구 올림픽로 23\n",
       "\n",
       "[66 rows x 4 columns]"
      ]
     },
     "execution_count": 25,
     "metadata": {},
     "output_type": "execute_result"
    }
   ],
   "source": [
    "# 도로명 주소에 서울이 포함된 행만 남기기\n",
    "line_1_9 = line_1_9[line_1_9['도로명주소'].str.contains('서울')]\n",
    "line_1_9"
   ]
  },
  {
   "cell_type": "code",
   "execution_count": 26,
   "metadata": {},
   "outputs": [],
   "source": [
    "# 파일 내보내기\n",
    "line_1_9.to_csv('./preprocessed_data/서울_1_9_호선_주소.csv', index=False)"
   ]
  }
 ],
 "metadata": {
  "kernelspec": {
   "display_name": "mecab",
   "language": "python",
   "name": "python3"
  },
  "language_info": {
   "codemirror_mode": {
    "name": "ipython",
    "version": 3
   },
   "file_extension": ".py",
   "mimetype": "text/x-python",
   "name": "python",
   "nbconvert_exporter": "python",
   "pygments_lexer": "ipython3",
   "version": "3.8.0"
  }
 },
 "nbformat": 4,
 "nbformat_minor": 2
}
