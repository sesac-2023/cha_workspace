{
 "cells": [
  {
   "cell_type": "code",
   "execution_count": 1,
   "metadata": {},
   "outputs": [],
   "source": [
    "import pandas as pd"
   ]
  },
  {
   "cell_type": "code",
   "execution_count": 3,
   "metadata": {},
   "outputs": [],
   "source": [
    "# 데이터 로드\n",
    "subway_data = pd.read_csv('./data/서울지하철_호선별_역별_승하차인원_일평균_행정동포함.csv', usecols = ['행정동명', '승하차인원'])\n",
    "bus_data = pd.read_csv('./data/버스 행정동별 합계 최종.csv', index_col=0)\n",
    "\n",
    "# 행정동명으로 인덱스 \n",
    "# subway_data.set_index('행정동명', inplace=True)\n",
    "# bus_data.set_index('행정동명', inplace=True)\n",
    "\n",
    "# 소수점 값이 포함된 지하철 승하차 인원은 반올림 후, 정수로 형 변화\n",
    "subway_data['승하차인원'] = round(subway_data['승하차인원']).astype('int')\n",
    "\n",
    "# 행정동별로 그룹핑하고 합계 내기\n",
    "subway_data = subway_data.groupby('행정동명').sum().reset_index()"
   ]
  },
  {
   "cell_type": "code",
   "execution_count": 4,
   "metadata": {},
   "outputs": [
    {
     "data": {
      "text/html": [
       "<div>\n",
       "<style scoped>\n",
       "    .dataframe tbody tr th:only-of-type {\n",
       "        vertical-align: middle;\n",
       "    }\n",
       "\n",
       "    .dataframe tbody tr th {\n",
       "        vertical-align: top;\n",
       "    }\n",
       "\n",
       "    .dataframe thead th {\n",
       "        text-align: right;\n",
       "    }\n",
       "</style>\n",
       "<table border=\"1\" class=\"dataframe\">\n",
       "  <thead>\n",
       "    <tr style=\"text-align: right;\">\n",
       "      <th></th>\n",
       "      <th>행정동명</th>\n",
       "      <th>승하차인원</th>\n",
       "    </tr>\n",
       "  </thead>\n",
       "  <tbody>\n",
       "    <tr>\n",
       "      <th>0</th>\n",
       "      <td>가락1동</td>\n",
       "      <td>145128</td>\n",
       "    </tr>\n",
       "    <tr>\n",
       "      <th>1</th>\n",
       "      <td>가락2동</td>\n",
       "      <td>179506</td>\n",
       "    </tr>\n",
       "  </tbody>\n",
       "</table>\n",
       "</div>"
      ],
      "text/plain": [
       "   행정동명   승하차인원\n",
       "0  가락1동  145128\n",
       "1  가락2동  179506"
      ]
     },
     "execution_count": 4,
     "metadata": {},
     "output_type": "execute_result"
    }
   ],
   "source": [
    "bus_data.head(2)"
   ]
  },
  {
   "cell_type": "code",
   "execution_count": 5,
   "metadata": {},
   "outputs": [
    {
     "data": {
      "text/html": [
       "<div>\n",
       "<style scoped>\n",
       "    .dataframe tbody tr th:only-of-type {\n",
       "        vertical-align: middle;\n",
       "    }\n",
       "\n",
       "    .dataframe tbody tr th {\n",
       "        vertical-align: top;\n",
       "    }\n",
       "\n",
       "    .dataframe thead th {\n",
       "        text-align: right;\n",
       "    }\n",
       "</style>\n",
       "<table border=\"1\" class=\"dataframe\">\n",
       "  <thead>\n",
       "    <tr style=\"text-align: right;\">\n",
       "      <th></th>\n",
       "      <th>행정동명</th>\n",
       "      <th>승하차인원</th>\n",
       "    </tr>\n",
       "  </thead>\n",
       "  <tbody>\n",
       "    <tr>\n",
       "      <th>0</th>\n",
       "      <td>가락1동</td>\n",
       "      <td>39596</td>\n",
       "    </tr>\n",
       "    <tr>\n",
       "      <th>1</th>\n",
       "      <td>가락2동</td>\n",
       "      <td>10546</td>\n",
       "    </tr>\n",
       "  </tbody>\n",
       "</table>\n",
       "</div>"
      ],
      "text/plain": [
       "   행정동명  승하차인원\n",
       "0  가락1동  39596\n",
       "1  가락2동  10546"
      ]
     },
     "execution_count": 5,
     "metadata": {},
     "output_type": "execute_result"
    }
   ],
   "source": [
    "subway_data.head(2)"
   ]
  },
  {
   "cell_type": "code",
   "execution_count": 7,
   "metadata": {},
   "outputs": [
    {
     "data": {
      "text/html": [
       "<div>\n",
       "<style scoped>\n",
       "    .dataframe tbody tr th:only-of-type {\n",
       "        vertical-align: middle;\n",
       "    }\n",
       "\n",
       "    .dataframe tbody tr th {\n",
       "        vertical-align: top;\n",
       "    }\n",
       "\n",
       "    .dataframe thead th {\n",
       "        text-align: right;\n",
       "    }\n",
       "</style>\n",
       "<table border=\"1\" class=\"dataframe\">\n",
       "  <thead>\n",
       "    <tr style=\"text-align: right;\">\n",
       "      <th></th>\n",
       "      <th>행정동명</th>\n",
       "      <th>승하차인원_버스</th>\n",
       "      <th>승하차인원_지하철</th>\n",
       "      <th>승하차인원_버스_지하철</th>\n",
       "    </tr>\n",
       "  </thead>\n",
       "  <tbody>\n",
       "    <tr>\n",
       "      <th>0</th>\n",
       "      <td>가락1동</td>\n",
       "      <td>145128</td>\n",
       "      <td>39596.0</td>\n",
       "      <td>184724.0</td>\n",
       "    </tr>\n",
       "    <tr>\n",
       "      <th>1</th>\n",
       "      <td>가락2동</td>\n",
       "      <td>179506</td>\n",
       "      <td>10546.0</td>\n",
       "      <td>190052.0</td>\n",
       "    </tr>\n",
       "    <tr>\n",
       "      <th>2</th>\n",
       "      <td>가락본동</td>\n",
       "      <td>263168</td>\n",
       "      <td>10459.0</td>\n",
       "      <td>273627.0</td>\n",
       "    </tr>\n",
       "    <tr>\n",
       "      <th>3</th>\n",
       "      <td>가리봉동</td>\n",
       "      <td>230955</td>\n",
       "      <td>0.0</td>\n",
       "      <td>230955.0</td>\n",
       "    </tr>\n",
       "    <tr>\n",
       "      <th>4</th>\n",
       "      <td>가산동</td>\n",
       "      <td>899875</td>\n",
       "      <td>40233.0</td>\n",
       "      <td>940108.0</td>\n",
       "    </tr>\n",
       "    <tr>\n",
       "      <th>...</th>\n",
       "      <td>...</td>\n",
       "      <td>...</td>\n",
       "      <td>...</td>\n",
       "      <td>...</td>\n",
       "    </tr>\n",
       "    <tr>\n",
       "      <th>421</th>\n",
       "      <td>효창동</td>\n",
       "      <td>130781</td>\n",
       "      <td>10164.0</td>\n",
       "      <td>140945.0</td>\n",
       "    </tr>\n",
       "    <tr>\n",
       "      <th>422</th>\n",
       "      <td>후암동</td>\n",
       "      <td>176879</td>\n",
       "      <td>0.0</td>\n",
       "      <td>176879.0</td>\n",
       "    </tr>\n",
       "    <tr>\n",
       "      <th>423</th>\n",
       "      <td>휘경1동</td>\n",
       "      <td>402280</td>\n",
       "      <td>0.0</td>\n",
       "      <td>402280.0</td>\n",
       "    </tr>\n",
       "    <tr>\n",
       "      <th>424</th>\n",
       "      <td>휘경2동</td>\n",
       "      <td>227224</td>\n",
       "      <td>0.0</td>\n",
       "      <td>227224.0</td>\n",
       "    </tr>\n",
       "    <tr>\n",
       "      <th>425</th>\n",
       "      <td>흑석동</td>\n",
       "      <td>490509</td>\n",
       "      <td>11721.0</td>\n",
       "      <td>502230.0</td>\n",
       "    </tr>\n",
       "  </tbody>\n",
       "</table>\n",
       "<p>426 rows × 4 columns</p>\n",
       "</div>"
      ],
      "text/plain": [
       "     행정동명  승하차인원_버스  승하차인원_지하철  승하차인원_버스_지하철\n",
       "0    가락1동    145128    39596.0      184724.0\n",
       "1    가락2동    179506    10546.0      190052.0\n",
       "2    가락본동    263168    10459.0      273627.0\n",
       "3    가리봉동    230955        0.0      230955.0\n",
       "4     가산동    899875    40233.0      940108.0\n",
       "..    ...       ...        ...           ...\n",
       "421   효창동    130781    10164.0      140945.0\n",
       "422   후암동    176879        0.0      176879.0\n",
       "423  휘경1동    402280        0.0      402280.0\n",
       "424  휘경2동    227224        0.0      227224.0\n",
       "425   흑석동    490509    11721.0      502230.0\n",
       "\n",
       "[426 rows x 4 columns]"
      ]
     },
     "execution_count": 7,
     "metadata": {},
     "output_type": "execute_result"
    }
   ],
   "source": [
    "# 버스와 지하철 데이터 합치기\n",
    "final_df = pd.merge(bus_data, subway_data, on=['행정동명'], how='left', suffixes=['_버스', '_지하철'])\n",
    "final_df.fillna(0, inplace=True)\n",
    "\n",
    "# 승하차 인원 합계\n",
    "final_df['승하차인원_버스_지하철'] = final_df['승하차인원_버스'] + final_df['승하차인원_지하철']\n",
    "final_df"
   ]
  },
  {
   "cell_type": "code",
   "execution_count": 131,
   "metadata": {},
   "outputs": [],
   "source": [
    "final_df.to_csv('./preprocessed_data/버스_지하철_승하차인원_8월평균.csv', index=None)"
   ]
  },
  {
   "cell_type": "code",
   "execution_count": null,
   "metadata": {},
   "outputs": [],
   "source": []
  }
 ],
 "metadata": {
  "kernelspec": {
   "display_name": "mecab",
   "language": "python",
   "name": "python3"
  },
  "language_info": {
   "codemirror_mode": {
    "name": "ipython",
    "version": 3
   },
   "file_extension": ".py",
   "mimetype": "text/x-python",
   "name": "python",
   "nbconvert_exporter": "python",
   "pygments_lexer": "ipython3",
   "version": "3.10.9"
  }
 },
 "nbformat": 4,
 "nbformat_minor": 2
}
