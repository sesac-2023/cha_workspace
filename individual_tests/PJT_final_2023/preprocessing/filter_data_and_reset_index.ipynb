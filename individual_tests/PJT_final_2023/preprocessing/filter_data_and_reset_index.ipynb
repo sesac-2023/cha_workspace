{
 "cells": [
  {
   "cell_type": "code",
   "execution_count": 1,
   "metadata": {},
   "outputs": [],
   "source": [
    "import pandas as pd"
   ]
  },
  {
   "cell_type": "code",
   "execution_count": 2,
   "metadata": {},
   "outputs": [
    {
     "name": "stderr",
     "output_type": "stream",
     "text": [
      "C:\\Users\\user\\AppData\\Local\\Temp\\ipykernel_8328\\2427268233.py:1: DtypeWarning: Columns (2) have mixed types. Specify dtype option on import or set low_memory=False.\n",
      "  df = pd.read_csv('소상공인시장진흥공단_상가(상권)정보_서울_202306.csv')\n"
     ]
    }
   ],
   "source": [
    "df = pd.read_csv('소상공인시장진흥공단_상가(상권)정보_서울_202306.csv')"
   ]
  },
  {
   "cell_type": "code",
   "execution_count": 5,
   "metadata": {},
   "outputs": [
    {
     "name": "stdout",
     "output_type": "stream",
     "text": [
      "<class 'pandas.core.frame.DataFrame'>\n",
      "RangeIndex: 489903 entries, 0 to 489902\n",
      "Data columns (total 39 columns):\n",
      " #   Column     Non-Null Count   Dtype  \n",
      "---  ------     --------------   -----  \n",
      " 0   상가업소번호     489903 non-null  object \n",
      " 1   상호명        489903 non-null  object \n",
      " 2   지점명        6082 non-null    object \n",
      " 3   상권업종대분류코드  489903 non-null  object \n",
      " 4   상권업종대분류명   489903 non-null  object \n",
      " 5   상권업종중분류코드  489903 non-null  object \n",
      " 6   상권업종중분류명   489903 non-null  object \n",
      " 7   상권업종소분류코드  489903 non-null  object \n",
      " 8   상권업종소분류명   489903 non-null  object \n",
      " 9   표준산업분류코드   489833 non-null  object \n",
      " 10  표준산업분류명    489833 non-null  object \n",
      " 11  시도코드       489903 non-null  int64  \n",
      " 12  시도명        489903 non-null  object \n",
      " 13  시군구코드      489903 non-null  int64  \n",
      " 14  시군구명       489903 non-null  object \n",
      " 15  행정동코드      489903 non-null  int64  \n",
      " 16  행정동명       489903 non-null  object \n",
      " 17  법정동코드      489903 non-null  int64  \n",
      " 18  법정동명       489903 non-null  object \n",
      " 19  지번코드       489903 non-null  int64  \n",
      " 20  대지구분코드     489903 non-null  int64  \n",
      " 21  대지구분명      489903 non-null  object \n",
      " 22  지번본번지      489903 non-null  int64  \n",
      " 23  지번부번지      409738 non-null  float64\n",
      " 24  지번주소       489903 non-null  object \n",
      " 25  도로명코드      489903 non-null  int64  \n",
      " 26  도로명        489903 non-null  object \n",
      " 27  건물본번지      489902 non-null  float64\n",
      " 28  건물부번지      64400 non-null   float64\n",
      " 29  건물관리번호     489899 non-null  object \n",
      " 30  건물명        232380 non-null  object \n",
      " 31  도로명주소      489903 non-null  object \n",
      " 32  구우편번호      489903 non-null  int64  \n",
      " 33  신우편번호      489903 non-null  int64  \n",
      " 34  동정보        0 non-null       float64\n",
      " 35  층정보        338831 non-null  object \n",
      " 36  호정보        0 non-null       float64\n",
      " 37  경도         489903 non-null  float64\n",
      " 38  위도         489903 non-null  float64\n",
      "dtypes: float64(7), int64(10), object(22)\n",
      "memory usage: 145.8+ MB\n"
     ]
    }
   ],
   "source": [
    "df.info()"
   ]
  },
  {
   "cell_type": "code",
   "execution_count": 4,
   "metadata": {},
   "outputs": [
    {
     "data": {
      "text/html": [
       "<div>\n",
       "<style scoped>\n",
       "    .dataframe tbody tr th:only-of-type {\n",
       "        vertical-align: middle;\n",
       "    }\n",
       "\n",
       "    .dataframe tbody tr th {\n",
       "        vertical-align: top;\n",
       "    }\n",
       "\n",
       "    .dataframe thead th {\n",
       "        text-align: right;\n",
       "    }\n",
       "</style>\n",
       "<table border=\"1\" class=\"dataframe\">\n",
       "  <thead>\n",
       "    <tr style=\"text-align: right;\">\n",
       "      <th></th>\n",
       "      <th>상가업소번호</th>\n",
       "      <th>상호명</th>\n",
       "      <th>지점명</th>\n",
       "      <th>상권업종대분류코드</th>\n",
       "      <th>상권업종대분류명</th>\n",
       "      <th>상권업종중분류코드</th>\n",
       "      <th>상권업종중분류명</th>\n",
       "      <th>상권업종소분류코드</th>\n",
       "      <th>상권업종소분류명</th>\n",
       "      <th>표준산업분류코드</th>\n",
       "      <th>...</th>\n",
       "      <th>건물관리번호</th>\n",
       "      <th>건물명</th>\n",
       "      <th>도로명주소</th>\n",
       "      <th>구우편번호</th>\n",
       "      <th>신우편번호</th>\n",
       "      <th>동정보</th>\n",
       "      <th>층정보</th>\n",
       "      <th>호정보</th>\n",
       "      <th>경도</th>\n",
       "      <th>위도</th>\n",
       "    </tr>\n",
       "  </thead>\n",
       "  <tbody>\n",
       "    <tr>\n",
       "      <th>0</th>\n",
       "      <td>MA0101202210A0037544</td>\n",
       "      <td>영자's곱창</td>\n",
       "      <td>NaN</td>\n",
       "      <td>I2</td>\n",
       "      <td>음식</td>\n",
       "      <td>I201</td>\n",
       "      <td>한식</td>\n",
       "      <td>I20109</td>\n",
       "      <td>곱창 전골/구이</td>\n",
       "      <td>I56111</td>\n",
       "      <td>...</td>\n",
       "      <td>1121510100101690021003140</td>\n",
       "      <td>NaN</td>\n",
       "      <td>서울특별시 광진구 면목로 172</td>\n",
       "      <td>143900</td>\n",
       "      <td>4904</td>\n",
       "      <td>NaN</td>\n",
       "      <td>1</td>\n",
       "      <td>NaN</td>\n",
       "      <td>127.082832</td>\n",
       "      <td>37.568503</td>\n",
       "    </tr>\n",
       "    <tr>\n",
       "      <th>1</th>\n",
       "      <td>MA0101202210A0097916</td>\n",
       "      <td>호텔클로이</td>\n",
       "      <td>NaN</td>\n",
       "      <td>I1</td>\n",
       "      <td>숙박</td>\n",
       "      <td>I101</td>\n",
       "      <td>일반 숙박</td>\n",
       "      <td>I10102</td>\n",
       "      <td>여관/모텔</td>\n",
       "      <td>I55102</td>\n",
       "      <td>...</td>\n",
       "      <td>1114014500101300000014092</td>\n",
       "      <td>유성장</td>\n",
       "      <td>서울특별시 중구 을지로42길 11</td>\n",
       "      <td>100411</td>\n",
       "      <td>4561</td>\n",
       "      <td>NaN</td>\n",
       "      <td>NaN</td>\n",
       "      <td>NaN</td>\n",
       "      <td>127.005849</td>\n",
       "      <td>37.565708</td>\n",
       "    </tr>\n",
       "  </tbody>\n",
       "</table>\n",
       "<p>2 rows × 39 columns</p>\n",
       "</div>"
      ],
      "text/plain": [
       "                 상가업소번호     상호명  지점명 상권업종대분류코드 상권업종대분류명 상권업종중분류코드 상권업종중분류명  \\\n",
       "0  MA0101202210A0037544  영자's곱창  NaN        I2       음식      I201       한식   \n",
       "1  MA0101202210A0097916   호텔클로이  NaN        I1       숙박      I101    일반 숙박   \n",
       "\n",
       "  상권업종소분류코드  상권업종소분류명 표준산업분류코드  ...                     건물관리번호  건물명  \\\n",
       "0    I20109  곱창 전골/구이   I56111  ...  1121510100101690021003140  NaN   \n",
       "1    I10102     여관/모텔   I55102  ...  1114014500101300000014092  유성장   \n",
       "\n",
       "                도로명주소   구우편번호 신우편번호  동정보  층정보  호정보          경도         위도  \n",
       "0   서울특별시 광진구 면목로 172  143900  4904  NaN    1  NaN  127.082832  37.568503  \n",
       "1  서울특별시 중구 을지로42길 11  100411  4561  NaN  NaN  NaN  127.005849  37.565708  \n",
       "\n",
       "[2 rows x 39 columns]"
      ]
     },
     "execution_count": 4,
     "metadata": {},
     "output_type": "execute_result"
    }
   ],
   "source": [
    "df.head(2)"
   ]
  },
  {
   "cell_type": "code",
   "execution_count": 18,
   "metadata": {},
   "outputs": [],
   "source": [
    "store_df = df[df['상권업종소분류코드']=='G20506'] # 업종코드가 채소과일소매업인 데이터만 남기기\n",
    "store_df.reset_index(drop=True, inplace=True) # 기존 인덱스를 데이터프레임 컬럼으로 편입하지 않고, 인덱스 리셋\n",
    "store_df.to_csv('소상공인진흥공단_상권_G20506_채소과일소매업_1417건.csv', index=False)"
   ]
  },
  {
   "cell_type": "markdown",
   "metadata": {},
   "source": [
    "- 참고  "
   ]
  },
  {
   "cell_type": "markdown",
   "metadata": {},
   "source": [
    "오류 메시지 DtypeWarning: Columns (2) have mixed types. Specify dtype option on import or set low_memory=False.  \n",
    "시간날 때 디버깅하고 업데이트하기"
   ]
  },
  {
   "cell_type": "markdown",
   "metadata": {},
   "source": []
  }
 ],
 "metadata": {
  "kernelspec": {
   "display_name": "base",
   "language": "python",
   "name": "python3"
  },
  "language_info": {
   "codemirror_mode": {
    "name": "ipython",
    "version": 3
   },
   "file_extension": ".py",
   "mimetype": "text/x-python",
   "name": "python",
   "nbconvert_exporter": "python",
   "pygments_lexer": "ipython3",
   "version": "3.10.9"
  }
 },
 "nbformat": 4,
 "nbformat_minor": 2
}
