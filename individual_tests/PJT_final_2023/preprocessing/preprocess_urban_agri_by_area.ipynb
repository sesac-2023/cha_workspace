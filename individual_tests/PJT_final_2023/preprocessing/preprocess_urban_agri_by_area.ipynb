{
 "cells": [
  {
   "cell_type": "code",
   "execution_count": 1,
   "metadata": {},
   "outputs": [],
   "source": [
    "import pandas as pd"
   ]
  },
  {
   "cell_type": "code",
   "execution_count": 5,
   "metadata": {},
   "outputs": [],
   "source": [
    "# 카카오맵데이터 로드\n",
    "data = pd.read_csv('./data_to_preprocess/서울시_도시농업_행정동_위치정보.csv')\n",
    "\n",
    "# 도로명 주소에 서울이 포함된 경우만 남기기\n",
    "data = data[data['도로명주소'].str.contains('서울')]\n",
    "data.rename(columns={'행정동':'행정동명'}, inplace=True)\n",
    "\n",
    "# 세분화된 과정명 구분없이 프로그램 수로 카운트\n",
    "program_data = data.copy()\n",
    "program_data = program_data.groupby('행정동명').size().to_frame()\n",
    "program_data.rename(columns={program_data.columns[0]: '도시농업(프로그램수)'}, inplace=True)\n",
    "\n",
    "# 도로명 주소로 중복된 값은 삭제하고 시설 수로 카운트 (도로명 주소가 동일한지만 양식이 다른 경우, 정확한 결과가 도출되지 않음)\n",
    "filtered_program_data = data.copy()\n",
    "filtered_program_data = filtered_program_data.drop_duplicates(subset='도로명주소')\n",
    "filtered_program_data = filtered_program_data.groupby('행정동명').size().to_frame()\n",
    "filtered_program_data.rename(columns={filtered_program_data.columns[0]: '도시농업(시설수)'}, inplace=True)"
   ]
  },
  {
   "cell_type": "code",
   "execution_count": 7,
   "metadata": {},
   "outputs": [],
   "source": [
    "# 행정동별 도시농업 프로그램수와 시설수 데이터를 합친 뒤, csv로 내보내기\n",
    "merged_data = pd.concat([program_data, filtered_program_data], axis=1)\n",
    "merged_data.to_csv('./preprocessed_data/행정동별_도시농업.csv')"
   ]
  },
  {
   "cell_type": "code",
   "execution_count": 17,
   "metadata": {},
   "outputs": [
    {
     "name": "stdout",
     "output_type": "stream",
     "text": [
      "0_동명이 같습니다: 강일동\n",
      "1_동명이 같습니다: 공항동\n",
      "2_동명이 같습니다: 광장동\n",
      "3_동명이 같습니다: 광희동\n",
      "4_동명이 같습니다: 구로2동\n",
      "5_동명이 같습니다: 낙성대동\n",
      "6_동명이 같습니다: 내곡동\n",
      "7_동명이 같습니다: 녹번동\n",
      "8_동명이 같습니다: 당산1동\n",
      "9_동명이 같습니다: 대방동\n",
      "10_동명이 같습니다: 도곡1동\n",
      "11_동명이 같습니다: 독산1동\n",
      "12_동명이 같습니다: 둔촌2동\n",
      "13_동명이 같습니다: 마장동\n",
      "14_동명이 같습니다: 망우3동\n",
      "15_동명이 같습니다: 무악동\n",
      "16_동명이 같습니다: 문래동\n",
      "17_동명이 같습니다: 방학1동\n",
      "18_동명이 같습니다: 방학3동\n",
      "19_동명이 같습니다: 불광2동\n",
      "20_동명이 같습니다: 삼선동\n",
      "21_동명이 같습니다: 삼성2동\n",
      "22_동명이 같습니다: 상계3.4동\n",
      "23_동명이 같습니다: 상계6.7동\n",
      "24_동명이 같습니다: 상암동\n",
      "25_동명이 같습니다: 서빙고동\n",
      "26_동명이 같습니다: 서초2동\n",
      "27_동명이 같습니다: 석관동\n",
      "28_동명이 같습니다: 성내1동\n",
      "29_동명이 같습니다: 성산2동\n",
      "30_동명이 같습니다: 세곡동\n",
      "31_동명이 같습니다: 소공동\n",
      "32_동명이 같습니다: 수궁동\n",
      "33_동명이 같습니다: 수유3동\n",
      "34_동명이 같습니다: 시흥1동\n",
      "35_동명이 같습니다: 신내1동\n",
      "36_동명이 같습니다: 신내2동\n",
      "37_동명이 같습니다: 신사2동\n",
      "38_동명이 같습니다: 신월7동\n",
      "39_동명이 같습니다: 신정6동\n",
      "40_동명이 같습니다: 쌍문1동\n",
      "41_동명이 같습니다: 암사2동\n",
      "42_동명이 같습니다: 연희동\n",
      "43_동명이 같습니다: 오륜동\n",
      "44_동명이 같습니다: 이태원1동\n",
      "45_동명이 같습니다: 자양1동\n",
      "46_동명이 같습니다: 잠실6동\n",
      "47_동명이 같습니다: 종로1.2.3.4가동\n",
      "48_동명이 같습니다: 청룡동\n",
      "49_동명이 같습니다: 행당1동\n",
      "50_동명이 같습니다: 화곡6동\n"
     ]
    }
   ],
   "source": [
    "# 거주인구 행정동 명과 카카오맵에서 변환한 도시농업의 행정동이 상이한지 확인하기\n",
    "popul_data = pd.read_csv('./preprocessed_data/행정동별_거주인구.csv')\n",
    "for idx, i in enumerate(merged_data.index):\n",
    "    if i not in popul_data['행정동명'].unique():\n",
    "        print(f'{idx}_동명이 다릅니다: {i}')\n",
    "    else:\n",
    "        print(f'{idx}_동명이 같습니다: {i}')"
   ]
  },
  {
   "cell_type": "code",
   "execution_count": null,
   "metadata": {},
   "outputs": [],
   "source": []
  }
 ],
 "metadata": {
  "kernelspec": {
   "display_name": "mecab",
   "language": "python",
   "name": "python3"
  },
  "language_info": {
   "codemirror_mode": {
    "name": "ipython",
    "version": 3
   },
   "file_extension": ".py",
   "mimetype": "text/x-python",
   "name": "python",
   "nbconvert_exporter": "python",
   "pygments_lexer": "ipython3",
   "version": "3.8.0"
  }
 },
 "nbformat": 4,
 "nbformat_minor": 2
}
