{
  "cells": [
    {
      "cell_type": "code",
      "execution_count": null,
      "metadata": {
        "id": "HmsqM_2Q8fFu"
      },
      "outputs": [],
      "source": [
        "!pip install prince"
      ]
    },
    {
      "cell_type": "code",
      "execution_count": 3,
      "metadata": {
        "id": "AmKjIqid8fFx"
      },
      "outputs": [],
      "source": [
        "import numpy as np \n",
        "import pandas as pd\n",
        "import matplotlib.pyplot as plt\n",
        "plt.style.use('fivethirtyeight')\n",
        "\n",
        "# 차원축소\n",
        "from sklearn.preprocessing import *\n",
        "from sklearn.decomposition import PCA\n",
        "import prince\n"
      ]
    },
    {
      "cell_type": "code",
      "execution_count": 4,
      "metadata": {
        "id": "hw33eDBC8fFz"
      },
      "outputs": [
        {
          "data": {
            "text/html": [
              "<div>\n",
              "<style scoped>\n",
              "    .dataframe tbody tr th:only-of-type {\n",
              "        vertical-align: middle;\n",
              "    }\n",
              "\n",
              "    .dataframe tbody tr th {\n",
              "        vertical-align: top;\n",
              "    }\n",
              "\n",
              "    .dataframe thead th {\n",
              "        text-align: right;\n",
              "    }\n",
              "</style>\n",
              "<table border=\"1\" class=\"dataframe\">\n",
              "  <thead>\n",
              "    <tr style=\"text-align: right;\">\n",
              "      <th></th>\n",
              "      <th>2023년09월_전체세대</th>\n",
              "      <th>2023년09월_1인세대</th>\n",
              "      <th>2023년09월_2인세대</th>\n",
              "      <th>2023년09월_3인세대</th>\n",
              "      <th>2023년09월_4인세대</th>\n",
              "      <th>2023년09월_5인세대</th>\n",
              "      <th>2023년9월_6인가구이상</th>\n",
              "      <th>채소가게수</th>\n",
              "      <th>제로웨이스트 가게수</th>\n",
              "      <th>유치원수</th>\n",
              "      <th>...</th>\n",
              "      <th>2_40대</th>\n",
              "      <th>2_50대</th>\n",
              "      <th>2_60대</th>\n",
              "      <th>2_70대</th>\n",
              "      <th>2_80대</th>\n",
              "      <th>2_90대</th>\n",
              "      <th>2_기타</th>\n",
              "      <th>카페수</th>\n",
              "      <th>승하차인원_버스_지하철</th>\n",
              "      <th>1점포당_1년_매출액</th>\n",
              "    </tr>\n",
              "  </thead>\n",
              "  <tbody>\n",
              "    <tr>\n",
              "      <th>가락1동</th>\n",
              "      <td>9836</td>\n",
              "      <td>1633</td>\n",
              "      <td>2492</td>\n",
              "      <td>2706</td>\n",
              "      <td>2438</td>\n",
              "      <td>449</td>\n",
              "      <td>118</td>\n",
              "      <td>10.0</td>\n",
              "      <td>0.0</td>\n",
              "      <td>1.0</td>\n",
              "      <td>...</td>\n",
              "      <td>4892</td>\n",
              "      <td>3948</td>\n",
              "      <td>3832</td>\n",
              "      <td>1672</td>\n",
              "      <td>478</td>\n",
              "      <td>94</td>\n",
              "      <td>4</td>\n",
              "      <td>43.0</td>\n",
              "      <td>184724.0</td>\n",
              "      <td>1.175032e+08</td>\n",
              "    </tr>\n",
              "    <tr>\n",
              "      <th>가락2동</th>\n",
              "      <td>12375</td>\n",
              "      <td>3568</td>\n",
              "      <td>2746</td>\n",
              "      <td>2825</td>\n",
              "      <td>2641</td>\n",
              "      <td>453</td>\n",
              "      <td>142</td>\n",
              "      <td>3.0</td>\n",
              "      <td>0.0</td>\n",
              "      <td>4.0</td>\n",
              "      <td>...</td>\n",
              "      <td>5304</td>\n",
              "      <td>5224</td>\n",
              "      <td>4686</td>\n",
              "      <td>1834</td>\n",
              "      <td>840</td>\n",
              "      <td>182</td>\n",
              "      <td>8</td>\n",
              "      <td>74.0</td>\n",
              "      <td>190052.0</td>\n",
              "      <td>3.372717e+07</td>\n",
              "    </tr>\n",
              "    <tr>\n",
              "      <th>가락본동</th>\n",
              "      <td>11667</td>\n",
              "      <td>4854</td>\n",
              "      <td>2640</td>\n",
              "      <td>2123</td>\n",
              "      <td>1567</td>\n",
              "      <td>385</td>\n",
              "      <td>98</td>\n",
              "      <td>9.0</td>\n",
              "      <td>2.0</td>\n",
              "      <td>2.0</td>\n",
              "      <td>...</td>\n",
              "      <td>3520</td>\n",
              "      <td>4500</td>\n",
              "      <td>4002</td>\n",
              "      <td>1718</td>\n",
              "      <td>768</td>\n",
              "      <td>132</td>\n",
              "      <td>4</td>\n",
              "      <td>99.0</td>\n",
              "      <td>273627.0</td>\n",
              "      <td>3.056880e+07</td>\n",
              "    </tr>\n",
              "  </tbody>\n",
              "</table>\n",
              "<p>3 rows × 49 columns</p>\n",
              "</div>"
            ],
            "text/plain": [
              "      2023년09월_전체세대  2023년09월_1인세대  2023년09월_2인세대  2023년09월_3인세대  \\\n",
              "가락1동           9836           1633           2492           2706   \n",
              "가락2동          12375           3568           2746           2825   \n",
              "가락본동          11667           4854           2640           2123   \n",
              "\n",
              "      2023년09월_4인세대  2023년09월_5인세대  2023년9월_6인가구이상  채소가게수  제로웨이스트 가게수  유치원수  \\\n",
              "가락1동           2438            449             118   10.0         0.0   1.0   \n",
              "가락2동           2641            453             142    3.0         0.0   4.0   \n",
              "가락본동           1567            385              98    9.0         2.0   2.0   \n",
              "\n",
              "      ...  2_40대  2_50대  2_60대  2_70대  2_80대  2_90대  2_기타   카페수  승하차인원_버스_지하철  \\\n",
              "가락1동  ...   4892   3948   3832   1672    478     94     4  43.0      184724.0   \n",
              "가락2동  ...   5304   5224   4686   1834    840    182     8  74.0      190052.0   \n",
              "가락본동  ...   3520   4500   4002   1718    768    132     4  99.0      273627.0   \n",
              "\n",
              "       1점포당_1년_매출액  \n",
              "가락1동  1.175032e+08  \n",
              "가락2동  3.372717e+07  \n",
              "가락본동  3.056880e+07  \n",
              "\n",
              "[3 rows x 49 columns]"
            ]
          },
          "execution_count": 4,
          "metadata": {},
          "output_type": "execute_result"
        }
      ],
      "source": [
        "data = pd.read_csv('./data_to_model/세대원_상가_제로_유치원_환경_도시농업_초등학교_사업체_채식_인구수_연령별_카페_유동인구_매출_sum.csv', index_col=0)\n",
        "data.fillna(0, inplace=True)\n",
        "data.head(3)"
      ]
    },
    {
      "cell_type": "code",
      "execution_count": 5,
      "metadata": {},
      "outputs": [
        {
          "data": {
            "text/plain": [
              "Index(['2023년09월_전체세대', '2023년09월_1인세대', '2023년09월_2인세대', '2023년09월_3인세대',\n",
              "       '2023년09월_4인세대', '2023년09월_5인세대', '2023년9월_6인가구이상', '채소가게수',\n",
              "       '제로웨이스트 가게수', '유치원수', '거주인구대비취약자수', '거주인구대비취약자백분위수', '미세먼지지수',\n",
              "       '미세먼지백분위', '행정구역면적', '공원수', '공원율', '도시농업(프로그램수)', '도시농업(시설수)', '초등학교수',\n",
              "       '사업체수 (개)', '종사자수 (명)', '채식식당수', '인구수', '1_0대', '1_10대', '1_20대',\n",
              "       '1_30대', '1_40대', '1_50대', '1_60대', '1_70대', '1_80대', '1_90대', '1_기타',\n",
              "       '2_0대', '2_10대', '2_20대', '2_30대', '2_40대', '2_50대', '2_60대', '2_70대',\n",
              "       '2_80대', '2_90대', '2_기타', '카페수', '승하차인원_버스_지하철', '1점포당_1년_매출액'],\n",
              "      dtype='object')"
            ]
          },
          "execution_count": 5,
          "metadata": {},
          "output_type": "execute_result"
        }
      ],
      "source": [
        "df = data.copy()\n",
        "df.columns"
      ]
    },
    {
      "cell_type": "code",
      "execution_count": 6,
      "metadata": {},
      "outputs": [],
      "source": [
        "# 인구 범위 축소하기\n",
        "df['남자_10대이하'] = df['1_0대'] + df['1_10대']\n",
        "df['남자_20_30대'] = df['1_20대'] + df['1_30대']\n",
        "df['남자_40_60대'] = df['1_40대'] + df['1_50대'] + df['1_60대']\n",
        "df['남자_70대이상'] = df['1_70대'] + df['1_80대'] + df['1_90대'] + df['1_기타']\n",
        "\n",
        "df['여자_10대이하'] = df['2_0대'] + df['2_10대']\n",
        "df['여자_20_30대'] = df['2_20대'] + df['2_30대']\n",
        "df['여자_40_60대'] = df['2_40대'] + df['2_50대'] + df['2_60대']\n",
        "df['여자_70대이상'] = df['2_70대'] + df['2_80대'] + df['2_90대'] + df['2_기타']\n",
        "\n",
        "# 유치원, 초등학교 수 합치기\n",
        "df['유치원_초등학교'] = df['유치원수'] + df['초등학교수']"
      ]
    },
    {
      "cell_type": "code",
      "execution_count": 86,
      "metadata": {},
      "outputs": [
        {
          "data": {
            "text/plain": [
              "Index(['2023년09월_전체세대', '2023년09월_1인세대', '2023년09월_2인세대', '2023년09월_3인세대',\n",
              "       '2023년09월_4인세대', '2023년09월_5인세대', '2023년9월_6인가구이상', '채소가게수',\n",
              "       '제로웨이스트 가게수', '유치원수', '거주인구대비취약자수', '거주인구대비취약자백분위수', '미세먼지지수',\n",
              "       '미세먼지백분위', '행정구역면적', '공원수', '공원율', '도시농업(프로그램수)', '도시농업(시설수)', '초등학교수',\n",
              "       '사업체수 (개)', '종사자수 (명)', '채식식당수', '인구수', '1_0대', '1_10대', '1_20대',\n",
              "       '1_30대', '1_40대', '1_50대', '1_60대', '1_70대', '1_80대', '1_90대', '1_기타',\n",
              "       '2_0대', '2_10대', '2_20대', '2_30대', '2_40대', '2_50대', '2_60대', '2_70대',\n",
              "       '2_80대', '2_90대', '2_기타', '카페수', '승하차인원_버스_지하철', '1점포당_1년_매출액',\n",
              "       '남자_10대이하', '남자_20_30대', '남자_40_60대', '남자_70대이상', '여자_10대이하',\n",
              "       '여자_20_30대', '여자_40_60대', '여자_70대이상', '유치원_초등학교'],\n",
              "      dtype='object')"
            ]
          },
          "execution_count": 86,
          "metadata": {},
          "output_type": "execute_result"
        }
      ],
      "source": [
        "df.columns"
      ]
    },
    {
      "cell_type": "code",
      "execution_count": 27,
      "metadata": {},
      "outputs": [],
      "source": [
        "population_feature = ['2023년09월_1인세대', '남자_10대이하', '남자_20_30대', '남자_40_60대', '남자_70대이상', '여자_10대이하',\n",
        "       '여자_20_30대', '여자_40_60대', '여자_70대이상']\n",
        "\n",
        "# infra_feature = ['공원수', '도시농업(프로그램수)', '도시농업(시설수)']\n",
        "# demand_feature = ['채소가게수', '카페수', '채식식당수', '초등학교수', '유치원수']\n",
        "environ_featrue = ['미세먼지지수', '미세먼지백분위', '거주인구대비취약자수', '공원수', '도시농업(프로그램수)', '도시농업(시설수)']\n",
        "market_feature = ['1점포당_1년_매출액', '승하차인원_버스_지하철', '종사자수 (명)', '사업체수 (개)', '채소가게수', '카페수', '채식식당수', '초등학교수', '유치원수']"
      ]
    },
    {
      "cell_type": "code",
      "execution_count": 28,
      "metadata": {},
      "outputs": [
        {
          "data": {
            "text/plain": [
              "24"
            ]
          },
          "execution_count": 28,
          "metadata": {},
          "output_type": "execute_result"
        }
      ],
      "source": [
        "len(population_feature) + len(environ_featrue) + len(market_feature)"
      ]
    },
    {
      "cell_type": "code",
      "execution_count": 7,
      "metadata": {},
      "outputs": [],
      "source": [
        "# # 인구 합치기 전, 스케일링\n",
        "# scaled_data2 = StandardScaler().fit_transform(np.log1p(data))\n",
        "# data_scale_log2=pd.DataFrame(data=scaled_data2, columns=data.columns)"
      ]
    },
    {
      "cell_type": "code",
      "execution_count": 24,
      "metadata": {
        "id": "UL4LYxNn8fFz"
      },
      "outputs": [
        {
          "data": {
            "text/html": [
              "<div>\n",
              "<style scoped>\n",
              "    .dataframe tbody tr th:only-of-type {\n",
              "        vertical-align: middle;\n",
              "    }\n",
              "\n",
              "    .dataframe tbody tr th {\n",
              "        vertical-align: top;\n",
              "    }\n",
              "\n",
              "    .dataframe thead th {\n",
              "        text-align: right;\n",
              "    }\n",
              "</style>\n",
              "<table border=\"1\" class=\"dataframe\">\n",
              "  <thead>\n",
              "    <tr style=\"text-align: right;\">\n",
              "      <th></th>\n",
              "      <th>2023년09월_전체세대</th>\n",
              "      <th>2023년09월_1인세대</th>\n",
              "      <th>2023년09월_2인세대</th>\n",
              "      <th>2023년09월_3인세대</th>\n",
              "      <th>2023년09월_4인세대</th>\n",
              "      <th>2023년09월_5인세대</th>\n",
              "      <th>2023년9월_6인가구이상</th>\n",
              "      <th>채소가게수</th>\n",
              "      <th>제로웨이스트 가게수</th>\n",
              "      <th>유치원수</th>\n",
              "      <th>...</th>\n",
              "      <th>1점포당_1년_매출액</th>\n",
              "      <th>남자_10대이하</th>\n",
              "      <th>남자_20_30대</th>\n",
              "      <th>남자_40_60대</th>\n",
              "      <th>남자_70대이상</th>\n",
              "      <th>여자_10대이하</th>\n",
              "      <th>여자_20_30대</th>\n",
              "      <th>여자_40_60대</th>\n",
              "      <th>여자_70대이상</th>\n",
              "      <th>유치원_초등학교</th>\n",
              "    </tr>\n",
              "  </thead>\n",
              "  <tbody>\n",
              "    <tr>\n",
              "      <th>0</th>\n",
              "      <td>0.082020</td>\n",
              "      <td>-1.232252</td>\n",
              "      <td>0.298329</td>\n",
              "      <td>0.868037</td>\n",
              "      <td>1.054325</td>\n",
              "      <td>0.838395</td>\n",
              "      <td>0.760275</td>\n",
              "      <td>1.691391</td>\n",
              "      <td>-0.602463</td>\n",
              "      <td>-0.648543</td>\n",
              "      <td>...</td>\n",
              "      <td>1.762880</td>\n",
              "      <td>1.244875</td>\n",
              "      <td>0.477965</td>\n",
              "      <td>0.643055</td>\n",
              "      <td>0.257813</td>\n",
              "      <td>1.232333</td>\n",
              "      <td>0.592844</td>\n",
              "      <td>0.683955</td>\n",
              "      <td>-0.122153</td>\n",
              "      <td>-0.018742</td>\n",
              "    </tr>\n",
              "    <tr>\n",
              "      <th>1</th>\n",
              "      <td>0.481592</td>\n",
              "      <td>-0.104676</td>\n",
              "      <td>0.458849</td>\n",
              "      <td>0.932058</td>\n",
              "      <td>1.161431</td>\n",
              "      <td>0.850548</td>\n",
              "      <td>1.040792</td>\n",
              "      <td>0.284733</td>\n",
              "      <td>-0.602463</td>\n",
              "      <td>1.121062</td>\n",
              "      <td>...</td>\n",
              "      <td>0.077817</td>\n",
              "      <td>1.196505</td>\n",
              "      <td>0.743152</td>\n",
              "      <td>0.933382</td>\n",
              "      <td>0.512298</td>\n",
              "      <td>1.129477</td>\n",
              "      <td>0.760896</td>\n",
              "      <td>0.960985</td>\n",
              "      <td>0.257900</td>\n",
              "      <td>1.034959</td>\n",
              "    </tr>\n",
              "    <tr>\n",
              "      <th>2</th>\n",
              "      <td>0.379076</td>\n",
              "      <td>0.339458</td>\n",
              "      <td>0.393743</td>\n",
              "      <td>0.507109</td>\n",
              "      <td>0.462467</td>\n",
              "      <td>0.627721</td>\n",
              "      <td>0.479326</td>\n",
              "      <td>1.558860</td>\n",
              "      <td>1.561220</td>\n",
              "      <td>0.134520</td>\n",
              "      <td>...</td>\n",
              "      <td>-0.054924</td>\n",
              "      <td>0.417238</td>\n",
              "      <td>0.693772</td>\n",
              "      <td>0.641965</td>\n",
              "      <td>0.340402</td>\n",
              "      <td>0.439900</td>\n",
              "      <td>0.612464</td>\n",
              "      <td>0.604165</td>\n",
              "      <td>0.119354</td>\n",
              "      <td>0.401415</td>\n",
              "    </tr>\n",
              "    <tr>\n",
              "      <th>3</th>\n",
              "      <td>-0.750427</td>\n",
              "      <td>0.215361</td>\n",
              "      <td>-1.232976</td>\n",
              "      <td>-1.958958</td>\n",
              "      <td>-2.224547</td>\n",
              "      <td>-2.630133</td>\n",
              "      <td>-3.565654</td>\n",
              "      <td>0.848543</td>\n",
              "      <td>-0.602463</td>\n",
              "      <td>-1.987197</td>\n",
              "      <td>...</td>\n",
              "      <td>-1.760553</td>\n",
              "      <td>-2.918667</td>\n",
              "      <td>-1.585274</td>\n",
              "      <td>-2.404177</td>\n",
              "      <td>-1.323867</td>\n",
              "      <td>-3.141218</td>\n",
              "      <td>-2.004816</td>\n",
              "      <td>-2.817779</td>\n",
              "      <td>-1.522056</td>\n",
              "      <td>-1.323869</td>\n",
              "    </tr>\n",
              "    <tr>\n",
              "      <th>4</th>\n",
              "      <td>1.139489</td>\n",
              "      <td>1.876298</td>\n",
              "      <td>0.132325</td>\n",
              "      <td>-0.618365</td>\n",
              "      <td>-0.893192</td>\n",
              "      <td>-0.920683</td>\n",
              "      <td>-0.943036</td>\n",
              "      <td>1.248573</td>\n",
              "      <td>-0.602463</td>\n",
              "      <td>-0.648543</td>\n",
              "      <td>...</td>\n",
              "      <td>1.089504</td>\n",
              "      <td>-0.733127</td>\n",
              "      <td>1.503474</td>\n",
              "      <td>0.313347</td>\n",
              "      <td>-0.142810</td>\n",
              "      <td>-0.709616</td>\n",
              "      <td>1.289160</td>\n",
              "      <td>-0.243285</td>\n",
              "      <td>-0.422832</td>\n",
              "      <td>-1.323869</td>\n",
              "    </tr>\n",
              "  </tbody>\n",
              "</table>\n",
              "<p>5 rows × 58 columns</p>\n",
              "</div>"
            ],
            "text/plain": [
              "   2023년09월_전체세대  2023년09월_1인세대  2023년09월_2인세대  2023년09월_3인세대  2023년09월_4인세대  \\\n",
              "0       0.082020      -1.232252       0.298329       0.868037       1.054325   \n",
              "1       0.481592      -0.104676       0.458849       0.932058       1.161431   \n",
              "2       0.379076       0.339458       0.393743       0.507109       0.462467   \n",
              "3      -0.750427       0.215361      -1.232976      -1.958958      -2.224547   \n",
              "4       1.139489       1.876298       0.132325      -0.618365      -0.893192   \n",
              "\n",
              "   2023년09월_5인세대  2023년9월_6인가구이상     채소가게수  제로웨이스트 가게수      유치원수  ...  \\\n",
              "0       0.838395        0.760275  1.691391   -0.602463 -0.648543  ...   \n",
              "1       0.850548        1.040792  0.284733   -0.602463  1.121062  ...   \n",
              "2       0.627721        0.479326  1.558860    1.561220  0.134520  ...   \n",
              "3      -2.630133       -3.565654  0.848543   -0.602463 -1.987197  ...   \n",
              "4      -0.920683       -0.943036  1.248573   -0.602463 -0.648543  ...   \n",
              "\n",
              "   1점포당_1년_매출액  남자_10대이하  남자_20_30대  남자_40_60대  남자_70대이상  여자_10대이하  여자_20_30대  \\\n",
              "0     1.762880  1.244875   0.477965   0.643055  0.257813  1.232333   0.592844   \n",
              "1     0.077817  1.196505   0.743152   0.933382  0.512298  1.129477   0.760896   \n",
              "2    -0.054924  0.417238   0.693772   0.641965  0.340402  0.439900   0.612464   \n",
              "3    -1.760553 -2.918667  -1.585274  -2.404177 -1.323867 -3.141218  -2.004816   \n",
              "4     1.089504 -0.733127   1.503474   0.313347 -0.142810 -0.709616   1.289160   \n",
              "\n",
              "   여자_40_60대  여자_70대이상  유치원_초등학교  \n",
              "0   0.683955 -0.122153 -0.018742  \n",
              "1   0.960985  0.257900  1.034959  \n",
              "2   0.604165  0.119354  0.401415  \n",
              "3  -2.817779 -1.522056 -1.323869  \n",
              "4  -0.243285 -0.422832 -1.323869  \n",
              "\n",
              "[5 rows x 58 columns]"
            ]
          },
          "execution_count": 24,
          "metadata": {},
          "output_type": "execute_result"
        }
      ],
      "source": [
        "# 인구 합친 후, 스케일링 (로그, 스탠다드)\n",
        "scale_kind = 'log_standard'\n",
        "scaled_data = StandardScaler().fit_transform(np.log1p(df))\n",
        "data_scale_log=pd.DataFrame(data=scaled_data, columns=df.columns)\n",
        "data_scale_log.head(5)"
      ]
    },
    {
      "cell_type": "code",
      "execution_count": null,
      "metadata": {},
      "outputs": [],
      "source": [
        "# # 인구 합친 후, 스케일링 (min-max)\n",
        "# scaled_data = MinMaxScaler().fit_transform(df)\n",
        "# data_scale_log=pd.DataFrame(data=scaled_data, columns=df.columns)\n",
        "# data_scale_log"
      ]
    },
    {
      "cell_type": "code",
      "execution_count": null,
      "metadata": {},
      "outputs": [],
      "source": [
        "# # 인구 합친 후, 스케일링 (log, min-max)\n",
        "# scaled_data = MinMaxScaler().fit_transform(np.log1p(df))\n",
        "# data_scale_log=pd.DataFrame(data=scaled_data, columns=df.columns)\n",
        "# data_scale_log"
      ]
    },
    {
      "cell_type": "markdown",
      "metadata": {
        "id": "QEy7SytW8fF6"
      },
      "source": [
        "#### 인구특성\n",
        "\n"
      ]
    },
    {
      "cell_type": "code",
      "execution_count": 9,
      "metadata": {
        "id": "iS7L2KHx8fF6",
        "outputId": "1157933e-e808-4efa-82d8-87a3970b1ca7"
      },
      "outputs": [
        {
          "name": "stdout",
          "output_type": "stream",
          "text": [
            "주성분의 개수: 3\n"
          ]
        }
      ],
      "source": [
        "population_feature = ['2023년09월_1인세대', '남자_10대이하', '남자_20_30대', '남자_40_60대', '남자_70대이상', '여자_10대이하',\n",
        "       '여자_20_30대', '여자_40_60대', '여자_70대이상']\n",
        "\n",
        "pca = PCA(n_components=0.95)\n",
        "population_scale_data = data_scale_log[population_feature]\n",
        "pca.fit(population_scale_data)\n",
        "pca_population = pd.DataFrame((pca.transform(population_scale_data)))\n",
        "\n",
        "num_of_principal = pca_population.shape[1] \n",
        "print('주성분의 개수:', num_of_principal)"
      ]
    },
    {
      "cell_type": "code",
      "execution_count": 10,
      "metadata": {
        "id": "W4JyqhJh8fF7",
        "outputId": "07f9fd20-3606-4eb7-b552-81d73f59f2f7"
      },
      "outputs": [
        {
          "name": "stdout",
          "output_type": "stream",
          "text": [
            "주성분의 설명력\n",
            "제 1주성분 : 0.8243068415827797\n",
            "제 2주성분 : 0.11777893165341181\n",
            "제 3주성분 : 0.037538521129754754\n"
          ]
        },
        {
          "data": {
            "text/html": [
              "<div>\n",
              "<style scoped>\n",
              "    .dataframe tbody tr th:only-of-type {\n",
              "        vertical-align: middle;\n",
              "    }\n",
              "\n",
              "    .dataframe tbody tr th {\n",
              "        vertical-align: top;\n",
              "    }\n",
              "\n",
              "    .dataframe thead th {\n",
              "        text-align: right;\n",
              "    }\n",
              "</style>\n",
              "<table border=\"1\" class=\"dataframe\">\n",
              "  <thead>\n",
              "    <tr style=\"text-align: right;\">\n",
              "      <th></th>\n",
              "      <th>0</th>\n",
              "      <th>1</th>\n",
              "      <th>2</th>\n",
              "    </tr>\n",
              "  </thead>\n",
              "  <tbody>\n",
              "    <tr>\n",
              "      <th>2023년09월_1인세대</th>\n",
              "      <td>-0.248212</td>\n",
              "      <td>0.691402</td>\n",
              "      <td>0.109357</td>\n",
              "    </tr>\n",
              "    <tr>\n",
              "      <th>남자_10대이하</th>\n",
              "      <td>-0.323765</td>\n",
              "      <td>-0.422133</td>\n",
              "      <td>0.231143</td>\n",
              "    </tr>\n",
              "    <tr>\n",
              "      <th>남자_20_30대</th>\n",
              "      <td>-0.344253</td>\n",
              "      <td>0.268372</td>\n",
              "      <td>0.266949</td>\n",
              "    </tr>\n",
              "    <tr>\n",
              "      <th>남자_40_60대</th>\n",
              "      <td>-0.358644</td>\n",
              "      <td>-0.102116</td>\n",
              "      <td>-0.036978</td>\n",
              "    </tr>\n",
              "    <tr>\n",
              "      <th>남자_70대이상</th>\n",
              "      <td>-0.345005</td>\n",
              "      <td>0.038929</td>\n",
              "      <td>-0.550983</td>\n",
              "    </tr>\n",
              "    <tr>\n",
              "      <th>여자_10대이하</th>\n",
              "      <td>-0.323410</td>\n",
              "      <td>-0.419514</td>\n",
              "      <td>0.258925</td>\n",
              "    </tr>\n",
              "    <tr>\n",
              "      <th>여자_20_30대</th>\n",
              "      <td>-0.342574</td>\n",
              "      <td>0.232359</td>\n",
              "      <td>0.395523</td>\n",
              "    </tr>\n",
              "    <tr>\n",
              "      <th>여자_40_60대</th>\n",
              "      <td>-0.357236</td>\n",
              "      <td>-0.168928</td>\n",
              "      <td>-0.031918</td>\n",
              "    </tr>\n",
              "    <tr>\n",
              "      <th>여자_70대이상</th>\n",
              "      <td>-0.343270</td>\n",
              "      <td>0.035784</td>\n",
              "      <td>-0.577844</td>\n",
              "    </tr>\n",
              "  </tbody>\n",
              "</table>\n",
              "</div>"
            ],
            "text/plain": [
              "                      0         1         2\n",
              "2023년09월_1인세대 -0.248212  0.691402  0.109357\n",
              "남자_10대이하      -0.323765 -0.422133  0.231143\n",
              "남자_20_30대     -0.344253  0.268372  0.266949\n",
              "남자_40_60대     -0.358644 -0.102116 -0.036978\n",
              "남자_70대이상      -0.345005  0.038929 -0.550983\n",
              "여자_10대이하      -0.323410 -0.419514  0.258925\n",
              "여자_20_30대     -0.342574  0.232359  0.395523\n",
              "여자_40_60대     -0.357236 -0.168928 -0.031918\n",
              "여자_70대이상      -0.343270  0.035784 -0.577844"
            ]
          },
          "execution_count": 10,
          "metadata": {},
          "output_type": "execute_result"
        }
      ],
      "source": [
        "print('주성분의 설명력')\n",
        "for i in range(num_of_principal) :\n",
        "    print(f\"제 {i+1}주성분 :\", pca.explained_variance_ratio_[i])\n",
        "    \n",
        "pd.DataFrame(data=pca.components_,columns=population_scale_data.columns).T"
      ]
    },
    {
      "cell_type": "code",
      "execution_count": 11,
      "metadata": {},
      "outputs": [],
      "source": [
        "population_columns = ['인구가 비교적 적은 지역', '1인 세대 및 20~30대 남녀가 많은 지역', '미취학 및 초등학생, 젊은 세대가 많은 지역']"
      ]
    },
    {
      "cell_type": "markdown",
      "metadata": {},
      "source": [
        "---\n",
        "인구 합치기 전"
      ]
    },
    {
      "cell_type": "code",
      "execution_count": null,
      "metadata": {},
      "outputs": [],
      "source": [
        "population_feature2 = ['2023년09월_전체세대', '2023년09월_1인세대', '2023년09월_2인세대', '2023년09월_3인세대',\n",
        "       '2023년09월_4인세대', '2023년09월_5인세대', '2023년9월_6인가구이상', '인구수', '1_0대', '1_10대', '1_20대', '1_30대', '1_40대', '1_50대', '1_60대',\n",
        "       '1_70대', '1_80대', '1_90대', '1_기타', '2_0대', '2_10대', '2_20대', '2_30대',\n",
        "       '2_40대', '2_50대', '2_60대', '2_70대', '2_80대', '2_90대', '2_기타']\n",
        "\n",
        "pca = PCA(n_components=0.9)\n",
        "population_scale_data2 = data_scale_log2[population_feature2]\n",
        "pca.fit(population_scale_data2)\n",
        "pca_population2 = pd.DataFrame((pca.transform(population_scale_data2)))\n",
        "\n",
        "num_of_principal = pca_population2.shape[1] \n",
        "print('주성분의 개수:', num_of_principal)"
      ]
    },
    {
      "cell_type": "code",
      "execution_count": null,
      "metadata": {},
      "outputs": [],
      "source": [
        "print('주성분의 설명력')\n",
        "for i in range(num_of_principal) :\n",
        "    print(f\"제 {i+1}주성분 :\", pca.explained_variance_ratio_[i])\n",
        "    \n",
        "pd.DataFrame(data=pca.components_,columns=population_scale_data2.columns).T"
      ]
    },
    {
      "cell_type": "markdown",
      "metadata": {},
      "source": [
        "---"
      ]
    },
    {
      "cell_type": "markdown",
      "metadata": {
        "id": "aCYChqHC8fF_"
      },
      "source": [
        "### 환경 관련 인프라 특성"
      ]
    },
    {
      "cell_type": "code",
      "execution_count": 12,
      "metadata": {
        "id": "dd_Aap5y8fF-",
        "outputId": "f72eda8e-612a-4056-e826-1f2518974567"
      },
      "outputs": [
        {
          "name": "stdout",
          "output_type": "stream",
          "text": [
            "주성분의 개수: 3\n"
          ]
        }
      ],
      "source": [
        "environ_feature = ['미세먼지지수', '미세먼지백분위', '거주인구대비취약자수', '공원수', '도시농업(프로그램수)', '도시농업(시설수)']\n",
        "\n",
        "pca = PCA(n_components=0.85)\n",
        "environ_scale_data = data_scale_log[environ_feature]\n",
        "pca.fit(environ_scale_data)\n",
        "pca_environ = pd.DataFrame((pca.transform(environ_scale_data)))\n",
        "\n",
        "num_of_principal = pca_environ.shape[1] \n",
        "print('주성분의 개수:', num_of_principal)"
      ]
    },
    {
      "cell_type": "code",
      "execution_count": 13,
      "metadata": {
        "id": "AwtjaV_h8fF_",
        "outputId": "3c717ca8-1626-4567-988d-57956f148112"
      },
      "outputs": [
        {
          "name": "stdout",
          "output_type": "stream",
          "text": [
            "주성분의 설명력\n",
            "제 1주성분 : 0.34494991794817903\n",
            "제 2주성분 : 0.311309010781767\n",
            "제 3주성분 : 0.21163370812189125\n"
          ]
        },
        {
          "data": {
            "text/html": [
              "<div>\n",
              "<style scoped>\n",
              "    .dataframe tbody tr th:only-of-type {\n",
              "        vertical-align: middle;\n",
              "    }\n",
              "\n",
              "    .dataframe tbody tr th {\n",
              "        vertical-align: top;\n",
              "    }\n",
              "\n",
              "    .dataframe thead th {\n",
              "        text-align: right;\n",
              "    }\n",
              "</style>\n",
              "<table border=\"1\" class=\"dataframe\">\n",
              "  <thead>\n",
              "    <tr style=\"text-align: right;\">\n",
              "      <th></th>\n",
              "      <th>0</th>\n",
              "      <th>1</th>\n",
              "      <th>2</th>\n",
              "    </tr>\n",
              "  </thead>\n",
              "  <tbody>\n",
              "    <tr>\n",
              "      <th>미세먼지지수</th>\n",
              "      <td>0.272322</td>\n",
              "      <td>0.593267</td>\n",
              "      <td>-0.225943</td>\n",
              "    </tr>\n",
              "    <tr>\n",
              "      <th>미세먼지백분위</th>\n",
              "      <td>0.240552</td>\n",
              "      <td>0.561226</td>\n",
              "      <td>-0.336481</td>\n",
              "    </tr>\n",
              "    <tr>\n",
              "      <th>거주인구대비취약자수</th>\n",
              "      <td>0.035272</td>\n",
              "      <td>-0.455978</td>\n",
              "      <td>-0.528951</td>\n",
              "    </tr>\n",
              "    <tr>\n",
              "      <th>공원수</th>\n",
              "      <td>0.203339</td>\n",
              "      <td>-0.245971</td>\n",
              "      <td>-0.669930</td>\n",
              "    </tr>\n",
              "    <tr>\n",
              "      <th>도시농업(프로그램수)</th>\n",
              "      <td>0.645616</td>\n",
              "      <td>-0.168277</td>\n",
              "      <td>0.230092</td>\n",
              "    </tr>\n",
              "    <tr>\n",
              "      <th>도시농업(시설수)</th>\n",
              "      <td>0.639191</td>\n",
              "      <td>-0.190590</td>\n",
              "      <td>0.232793</td>\n",
              "    </tr>\n",
              "  </tbody>\n",
              "</table>\n",
              "</div>"
            ],
            "text/plain": [
              "                    0         1         2\n",
              "미세먼지지수       0.272322  0.593267 -0.225943\n",
              "미세먼지백분위      0.240552  0.561226 -0.336481\n",
              "거주인구대비취약자수   0.035272 -0.455978 -0.528951\n",
              "공원수          0.203339 -0.245971 -0.669930\n",
              "도시농업(프로그램수)  0.645616 -0.168277  0.230092\n",
              "도시농업(시설수)    0.639191 -0.190590  0.232793"
            ]
          },
          "execution_count": 13,
          "metadata": {},
          "output_type": "execute_result"
        }
      ],
      "source": [
        "print('주성분의 설명력')\n",
        "for i in range(num_of_principal) :\n",
        "    print(f\"제 {i+1}주성분 :\", pca.explained_variance_ratio_[i])\n",
        "    \n",
        "pd.DataFrame(data=pca.components_,columns=environ_scale_data.columns).T"
      ]
    },
    {
      "cell_type": "code",
      "execution_count": 14,
      "metadata": {},
      "outputs": [],
      "source": [
        "environ_column = ['도시농업 체험 프로그램이 많은 지역', '공기질 오염이 심한 지역', '공원녹지가 부족한 지역']"
      ]
    },
    {
      "cell_type": "markdown",
      "metadata": {},
      "source": [
        "### 상권 특성"
      ]
    },
    {
      "cell_type": "code",
      "execution_count": 15,
      "metadata": {},
      "outputs": [
        {
          "name": "stdout",
          "output_type": "stream",
          "text": [
            "주성분의 개수: 5\n"
          ]
        }
      ],
      "source": [
        "market_feature = ['1점포당_1년_매출액', '승하차인원_버스_지하철', '종사자수 (명)', '사업체수 (개)', '채소가게수', '카페수', '채식식당수', '초등학교수', '유치원수']\n",
        "\n",
        "pca = PCA(n_components=0.85)\n",
        "market_scale_data = data_scale_log[market_feature]\n",
        "pca.fit(market_scale_data)\n",
        "pca_market = pd.DataFrame((pca.transform(market_scale_data)))\n",
        "\n",
        "num_of_principal = pca_market.shape[1] \n",
        "print('주성분의 개수:', num_of_principal)"
      ]
    },
    {
      "cell_type": "code",
      "execution_count": 16,
      "metadata": {},
      "outputs": [
        {
          "name": "stdout",
          "output_type": "stream",
          "text": [
            "주성분의 설명력\n",
            "제 1주성분 : 0.4424658409818186\n",
            "제 2주성분 : 0.17119352080163067\n",
            "제 3주성분 : 0.1176347578222602\n",
            "제 4주성분 : 0.09620794430131395\n",
            "제 5주성분 : 0.05246297849188734\n"
          ]
        },
        {
          "data": {
            "text/html": [
              "<div>\n",
              "<style scoped>\n",
              "    .dataframe tbody tr th:only-of-type {\n",
              "        vertical-align: middle;\n",
              "    }\n",
              "\n",
              "    .dataframe tbody tr th {\n",
              "        vertical-align: top;\n",
              "    }\n",
              "\n",
              "    .dataframe thead th {\n",
              "        text-align: right;\n",
              "    }\n",
              "</style>\n",
              "<table border=\"1\" class=\"dataframe\">\n",
              "  <thead>\n",
              "    <tr style=\"text-align: right;\">\n",
              "      <th></th>\n",
              "      <th>0</th>\n",
              "      <th>1</th>\n",
              "      <th>2</th>\n",
              "      <th>3</th>\n",
              "      <th>4</th>\n",
              "    </tr>\n",
              "  </thead>\n",
              "  <tbody>\n",
              "    <tr>\n",
              "      <th>1점포당_1년_매출액</th>\n",
              "      <td>-0.122757</td>\n",
              "      <td>0.000869</td>\n",
              "      <td>-0.690619</td>\n",
              "      <td>0.706112</td>\n",
              "      <td>-0.064832</td>\n",
              "    </tr>\n",
              "    <tr>\n",
              "      <th>승하차인원_버스_지하철</th>\n",
              "      <td>-0.398226</td>\n",
              "      <td>0.090381</td>\n",
              "      <td>-0.009250</td>\n",
              "      <td>-0.007641</td>\n",
              "      <td>0.082025</td>\n",
              "    </tr>\n",
              "    <tr>\n",
              "      <th>종사자수 (명)</th>\n",
              "      <td>-0.464186</td>\n",
              "      <td>-0.024304</td>\n",
              "      <td>-0.052965</td>\n",
              "      <td>-0.088007</td>\n",
              "      <td>0.101034</td>\n",
              "    </tr>\n",
              "    <tr>\n",
              "      <th>사업체수 (개)</th>\n",
              "      <td>-0.457300</td>\n",
              "      <td>-0.019667</td>\n",
              "      <td>0.128240</td>\n",
              "      <td>0.001495</td>\n",
              "      <td>0.043630</td>\n",
              "    </tr>\n",
              "    <tr>\n",
              "      <th>채소가게수</th>\n",
              "      <td>-0.173291</td>\n",
              "      <td>-0.048152</td>\n",
              "      <td>0.673122</td>\n",
              "      <td>0.642310</td>\n",
              "      <td>0.070056</td>\n",
              "    </tr>\n",
              "    <tr>\n",
              "      <th>카페수</th>\n",
              "      <td>-0.465254</td>\n",
              "      <td>-0.038941</td>\n",
              "      <td>0.024518</td>\n",
              "      <td>-0.116538</td>\n",
              "      <td>-0.115328</td>\n",
              "    </tr>\n",
              "    <tr>\n",
              "      <th>채식식당수</th>\n",
              "      <td>-0.389649</td>\n",
              "      <td>-0.111004</td>\n",
              "      <td>-0.184323</td>\n",
              "      <td>-0.254739</td>\n",
              "      <td>-0.177768</td>\n",
              "    </tr>\n",
              "    <tr>\n",
              "      <th>초등학교수</th>\n",
              "      <td>-0.053689</td>\n",
              "      <td>0.696772</td>\n",
              "      <td>-0.077889</td>\n",
              "      <td>-0.038565</td>\n",
              "      <td>0.664129</td>\n",
              "    </tr>\n",
              "    <tr>\n",
              "      <th>유치원수</th>\n",
              "      <td>-0.023565</td>\n",
              "      <td>0.699432</td>\n",
              "      <td>0.099865</td>\n",
              "      <td>0.032815</td>\n",
              "      <td>-0.697195</td>\n",
              "    </tr>\n",
              "  </tbody>\n",
              "</table>\n",
              "</div>"
            ],
            "text/plain": [
              "                     0         1         2         3         4\n",
              "1점포당_1년_매출액  -0.122757  0.000869 -0.690619  0.706112 -0.064832\n",
              "승하차인원_버스_지하철 -0.398226  0.090381 -0.009250 -0.007641  0.082025\n",
              "종사자수 (명)     -0.464186 -0.024304 -0.052965 -0.088007  0.101034\n",
              "사업체수 (개)     -0.457300 -0.019667  0.128240  0.001495  0.043630\n",
              "채소가게수        -0.173291 -0.048152  0.673122  0.642310  0.070056\n",
              "카페수          -0.465254 -0.038941  0.024518 -0.116538 -0.115328\n",
              "채식식당수        -0.389649 -0.111004 -0.184323 -0.254739 -0.177768\n",
              "초등학교수        -0.053689  0.696772 -0.077889 -0.038565  0.664129\n",
              "유치원수         -0.023565  0.699432  0.099865  0.032815 -0.697195"
            ]
          },
          "execution_count": 16,
          "metadata": {},
          "output_type": "execute_result"
        }
      ],
      "source": [
        "print('주성분의 설명력')\n",
        "for i in range(num_of_principal) :\n",
        "    print(f\"제 {i+1}주성분 :\", pca.explained_variance_ratio_[i])\n",
        "    \n",
        "pd.DataFrame(data=pca.components_,columns=market_scale_data.columns).T"
      ]
    },
    {
      "cell_type": "code",
      "execution_count": 17,
      "metadata": {},
      "outputs": [],
      "source": [
        "market_column = ['사업체 및 유동인구가 적은 지역', '초등학교 및 유치원이 많은 지역', '채소 가게 소비가 많은 지역', '상가 매출이 많은 곳','초등학교가 많은 지역']"
      ]
    },
    {
      "cell_type": "markdown",
      "metadata": {
        "id": "CzTwm1g08fGB"
      },
      "source": [
        "## 차원축소 결과"
      ]
    },
    {
      "cell_type": "code",
      "execution_count": 18,
      "metadata": {
        "id": "f5Fl-WjJ8fGB"
      },
      "outputs": [],
      "source": [
        "pca_result =pd.concat([pca_population, pca_environ, pca_market],axis=1)"
      ]
    },
    {
      "cell_type": "code",
      "execution_count": 19,
      "metadata": {
        "id": "a3oCTvYT8fGB",
        "outputId": "e492436c-623b-4272-a2a3-b448c8baf6c8"
      },
      "outputs": [
        {
          "data": {
            "text/html": [
              "<div>\n",
              "<style scoped>\n",
              "    .dataframe tbody tr th:only-of-type {\n",
              "        vertical-align: middle;\n",
              "    }\n",
              "\n",
              "    .dataframe tbody tr th {\n",
              "        vertical-align: top;\n",
              "    }\n",
              "\n",
              "    .dataframe thead th {\n",
              "        text-align: right;\n",
              "    }\n",
              "</style>\n",
              "<table border=\"1\" class=\"dataframe\">\n",
              "  <thead>\n",
              "    <tr style=\"text-align: right;\">\n",
              "      <th></th>\n",
              "      <th>인구가 비교적 적은 지역</th>\n",
              "      <th>1인 세대 및 20~30대 남녀가 많은 지역</th>\n",
              "      <th>미취학 및 초등학생, 젊은 세대가 많은 지역</th>\n",
              "      <th>도시농업 체험 프로그램이 많은 지역</th>\n",
              "      <th>공기질 오염이 심한 지역</th>\n",
              "      <th>공원녹지가 부족한 지역</th>\n",
              "      <th>사업체 및 유동인구가 적은 지역</th>\n",
              "      <th>초등학교 및 유치원이 많은 지역</th>\n",
              "      <th>채소 가게 소비가 많은 지역</th>\n",
              "      <th>상가 매출이 많은 곳</th>\n",
              "      <th>초등학교가 많은 지역</th>\n",
              "    </tr>\n",
              "  </thead>\n",
              "  <tbody>\n",
              "    <tr>\n",
              "      <th>가락1동</th>\n",
              "      <td>-1.385345</td>\n",
              "      <td>-1.803981</td>\n",
              "      <td>0.717072</td>\n",
              "      <td>-0.502649</td>\n",
              "      <td>0.088431</td>\n",
              "      <td>-0.199792</td>\n",
              "      <td>-0.491026</td>\n",
              "      <td>0.026846</td>\n",
              "      <td>0.131241</td>\n",
              "      <td>2.564634</td>\n",
              "      <td>1.186516</td>\n",
              "    </tr>\n",
              "    <tr>\n",
              "      <th>가락2동</th>\n",
              "      <td>-2.186509</td>\n",
              "      <td>-0.903525</td>\n",
              "      <td>0.560421</td>\n",
              "      <td>-0.129250</td>\n",
              "      <td>-0.448272</td>\n",
              "      <td>-1.514910</td>\n",
              "      <td>-0.678847</td>\n",
              "      <td>1.198229</td>\n",
              "      <td>0.318815</td>\n",
              "      <td>0.186852</td>\n",
              "      <td>-0.318566</td>\n",
              "    </tr>\n",
              "    <tr>\n",
              "      <th>가락본동</th>\n",
              "      <td>-1.414738</td>\n",
              "      <td>0.052435</td>\n",
              "      <td>0.375364</td>\n",
              "      <td>-0.146461</td>\n",
              "      <td>-0.225765</td>\n",
              "      <td>-1.256795</td>\n",
              "      <td>-2.658041</td>\n",
              "      <td>0.262004</td>\n",
              "      <td>0.903382</td>\n",
              "      <td>0.324795</td>\n",
              "      <td>0.300484</td>\n",
              "    </tr>\n",
              "    <tr>\n",
              "      <th>가리봉동</th>\n",
              "      <td>5.988013</td>\n",
              "      <td>2.422976</td>\n",
              "      <td>-0.892778</td>\n",
              "      <td>-0.980968</td>\n",
              "      <td>0.832861</td>\n",
              "      <td>1.690127</td>\n",
              "      <td>2.110154</td>\n",
              "      <td>-1.382596</td>\n",
              "      <td>1.742615</td>\n",
              "      <td>-0.177782</td>\n",
              "      <td>1.688921</td>\n",
              "    </tr>\n",
              "    <tr>\n",
              "      <th>가산동</th>\n",
              "      <td>-0.789125</td>\n",
              "      <td>2.595896</td>\n",
              "      <td>1.082431</td>\n",
              "      <td>-0.380187</td>\n",
              "      <td>0.636643</td>\n",
              "      <td>-0.011804</td>\n",
              "      <td>-6.147138</td>\n",
              "      <td>-2.132169</td>\n",
              "      <td>0.081840</td>\n",
              "      <td>0.490467</td>\n",
              "      <td>-0.787168</td>\n",
              "    </tr>\n",
              "  </tbody>\n",
              "</table>\n",
              "</div>"
            ],
            "text/plain": [
              "      인구가 비교적 적은 지역  1인 세대 및 20~30대 남녀가 많은 지역  미취학 및 초등학생, 젊은 세대가 많은 지역  \\\n",
              "가락1동      -1.385345                 -1.803981                  0.717072   \n",
              "가락2동      -2.186509                 -0.903525                  0.560421   \n",
              "가락본동      -1.414738                  0.052435                  0.375364   \n",
              "가리봉동       5.988013                  2.422976                 -0.892778   \n",
              "가산동       -0.789125                  2.595896                  1.082431   \n",
              "\n",
              "      도시농업 체험 프로그램이 많은 지역  공기질 오염이 심한 지역  공원녹지가 부족한 지역  사업체 및 유동인구가 적은 지역  \\\n",
              "가락1동            -0.502649       0.088431     -0.199792          -0.491026   \n",
              "가락2동            -0.129250      -0.448272     -1.514910          -0.678847   \n",
              "가락본동            -0.146461      -0.225765     -1.256795          -2.658041   \n",
              "가리봉동            -0.980968       0.832861      1.690127           2.110154   \n",
              "가산동             -0.380187       0.636643     -0.011804          -6.147138   \n",
              "\n",
              "      초등학교 및 유치원이 많은 지역  채소 가게 소비가 많은 지역  상가 매출이 많은 곳  초등학교가 많은 지역  \n",
              "가락1동           0.026846         0.131241     2.564634     1.186516  \n",
              "가락2동           1.198229         0.318815     0.186852    -0.318566  \n",
              "가락본동           0.262004         0.903382     0.324795     0.300484  \n",
              "가리봉동          -1.382596         1.742615    -0.177782     1.688921  \n",
              "가산동           -2.132169         0.081840     0.490467    -0.787168  "
            ]
          },
          "execution_count": 19,
          "metadata": {},
          "output_type": "execute_result"
        }
      ],
      "source": [
        "pca_result.columns= population_columns + environ_column + market_column\n",
        "pca_result.index = data.index\n",
        "pca_result.head()"
      ]
    },
    {
      "cell_type": "code",
      "execution_count": 22,
      "metadata": {},
      "outputs": [
        {
          "data": {
            "text/plain": [
              "역삼1동          -6.999186\n",
              "종로1.2.3.4가동   -6.860880\n",
              "여의동           -6.681952\n",
              "가산동           -6.147138\n",
              "서교동           -5.839454\n",
              "Name: 사업체 및 유동인구가 적은 지역, dtype: float64"
            ]
          },
          "execution_count": 22,
          "metadata": {},
          "output_type": "execute_result"
        }
      ],
      "source": [
        "pca_result['사업체 및 유동인구가 적은 지역'].nsmallest(5)"
      ]
    },
    {
      "cell_type": "code",
      "execution_count": 23,
      "metadata": {},
      "outputs": [
        {
          "data": {
            "text/plain": [
              "둔촌1동    8.280829\n",
              "개포1동    4.950309\n",
              "창신3동    4.920214\n",
              "반포본동    4.737938\n",
              "이촌2동    4.554871\n",
              "Name: 사업체 및 유동인구가 적은 지역, dtype: float64"
            ]
          },
          "execution_count": 23,
          "metadata": {},
          "output_type": "execute_result"
        }
      ],
      "source": [
        "pca_result['사업체 및 유동인구가 적은 지역'].nlargest(5)"
      ]
    },
    {
      "cell_type": "code",
      "execution_count": 25,
      "metadata": {},
      "outputs": [],
      "source": [
        "pca_result.to_csv(f'./data_to_model/data_after_pca_with_{scale_kind}_scaled_{len(pca_result.columns)}_features.csv')"
      ]
    },
    {
      "cell_type": "code",
      "execution_count": null,
      "metadata": {},
      "outputs": [],
      "source": []
    }
  ],
  "metadata": {
    "colab": {
      "name": "pca.ipynb",
      "provenance": []
    },
    "interpreter": {
      "hash": "337f1a600d345c50cd007a2461b073851b5ec4b77bc6c65adb33d085b42175ad"
    },
    "kernelspec": {
      "display_name": "Python 3.9.5 64-bit ('base': conda)",
      "language": "python",
      "name": "python3"
    },
    "language_info": {
      "codemirror_mode": {
        "name": "ipython",
        "version": 3
      },
      "file_extension": ".py",
      "mimetype": "text/x-python",
      "name": "python",
      "nbconvert_exporter": "python",
      "pygments_lexer": "ipython3",
      "version": "3.8.0"
    },
    "orig_nbformat": 4
  },
  "nbformat": 4,
  "nbformat_minor": 0
}
