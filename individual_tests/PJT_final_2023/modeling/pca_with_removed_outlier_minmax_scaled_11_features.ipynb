{
  "cells": [
    {
      "cell_type": "code",
      "execution_count": null,
      "metadata": {
        "id": "HmsqM_2Q8fFu"
      },
      "outputs": [],
      "source": [
        "!pip install prince"
      ]
    },
    {
      "cell_type": "code",
      "execution_count": 33,
      "metadata": {
        "id": "AmKjIqid8fFx"
      },
      "outputs": [],
      "source": [
        "import numpy as np \n",
        "import pandas as pd\n",
        "import matplotlib.pyplot as plt\n",
        "plt.style.use('fivethirtyeight')\n",
        "\n",
        "# 차원축소\n",
        "from sklearn.preprocessing import *\n",
        "from sklearn.decomposition import PCA\n",
        "import prince\n"
      ]
    },
    {
      "cell_type": "code",
      "execution_count": 34,
      "metadata": {
        "id": "hw33eDBC8fFz"
      },
      "outputs": [
        {
          "data": {
            "text/html": [
              "<div>\n",
              "<style scoped>\n",
              "    .dataframe tbody tr th:only-of-type {\n",
              "        vertical-align: middle;\n",
              "    }\n",
              "\n",
              "    .dataframe tbody tr th {\n",
              "        vertical-align: top;\n",
              "    }\n",
              "\n",
              "    .dataframe thead th {\n",
              "        text-align: right;\n",
              "    }\n",
              "</style>\n",
              "<table border=\"1\" class=\"dataframe\">\n",
              "  <thead>\n",
              "    <tr style=\"text-align: right;\">\n",
              "      <th></th>\n",
              "      <th>2023년09월_전체세대</th>\n",
              "      <th>2023년09월_1인세대</th>\n",
              "      <th>2023년09월_2인세대</th>\n",
              "      <th>2023년09월_3인세대</th>\n",
              "      <th>2023년09월_4인세대</th>\n",
              "      <th>2023년09월_5인세대</th>\n",
              "      <th>2023년9월_6인가구이상</th>\n",
              "      <th>채소가게수</th>\n",
              "      <th>제로웨이스트 가게수</th>\n",
              "      <th>유치원수</th>\n",
              "      <th>...</th>\n",
              "      <th>2_40대</th>\n",
              "      <th>2_50대</th>\n",
              "      <th>2_60대</th>\n",
              "      <th>2_70대</th>\n",
              "      <th>2_80대</th>\n",
              "      <th>2_90대</th>\n",
              "      <th>2_기타</th>\n",
              "      <th>카페수</th>\n",
              "      <th>승하차인원_버스_지하철</th>\n",
              "      <th>1점포당_1년_매출액</th>\n",
              "    </tr>\n",
              "  </thead>\n",
              "  <tbody>\n",
              "    <tr>\n",
              "      <th>가양2동</th>\n",
              "      <td>8020</td>\n",
              "      <td>4650</td>\n",
              "      <td>1987</td>\n",
              "      <td>829</td>\n",
              "      <td>428</td>\n",
              "      <td>84</td>\n",
              "      <td>42</td>\n",
              "      <td>0.0</td>\n",
              "      <td>0.0</td>\n",
              "      <td>3.0</td>\n",
              "      <td>...</td>\n",
              "      <td>1374</td>\n",
              "      <td>1774</td>\n",
              "      <td>3360</td>\n",
              "      <td>1948</td>\n",
              "      <td>1172</td>\n",
              "      <td>226</td>\n",
              "      <td>4</td>\n",
              "      <td>12.0</td>\n",
              "      <td>90113.0</td>\n",
              "      <td>30928029.88</td>\n",
              "    </tr>\n",
              "    <tr>\n",
              "      <th>가양3동</th>\n",
              "      <td>7746</td>\n",
              "      <td>3743</td>\n",
              "      <td>2294</td>\n",
              "      <td>1098</td>\n",
              "      <td>481</td>\n",
              "      <td>106</td>\n",
              "      <td>24</td>\n",
              "      <td>0.0</td>\n",
              "      <td>0.0</td>\n",
              "      <td>4.0</td>\n",
              "      <td>...</td>\n",
              "      <td>1678</td>\n",
              "      <td>2008</td>\n",
              "      <td>3056</td>\n",
              "      <td>2014</td>\n",
              "      <td>1054</td>\n",
              "      <td>160</td>\n",
              "      <td>6</td>\n",
              "      <td>9.0</td>\n",
              "      <td>67861.0</td>\n",
              "      <td>53256287.08</td>\n",
              "    </tr>\n",
              "    <tr>\n",
              "      <th>갈현1동</th>\n",
              "      <td>7455</td>\n",
              "      <td>3614</td>\n",
              "      <td>1708</td>\n",
              "      <td>1165</td>\n",
              "      <td>764</td>\n",
              "      <td>161</td>\n",
              "      <td>43</td>\n",
              "      <td>3.0</td>\n",
              "      <td>0.0</td>\n",
              "      <td>1.0</td>\n",
              "      <td>...</td>\n",
              "      <td>1972</td>\n",
              "      <td>2670</td>\n",
              "      <td>2642</td>\n",
              "      <td>1528</td>\n",
              "      <td>732</td>\n",
              "      <td>106</td>\n",
              "      <td>4</td>\n",
              "      <td>40.0</td>\n",
              "      <td>232027.0</td>\n",
              "      <td>27594935.59</td>\n",
              "    </tr>\n",
              "  </tbody>\n",
              "</table>\n",
              "<p>3 rows × 49 columns</p>\n",
              "</div>"
            ],
            "text/plain": [
              "      2023년09월_전체세대  2023년09월_1인세대  2023년09월_2인세대  2023년09월_3인세대  \\\n",
              "가양2동           8020           4650           1987            829   \n",
              "가양3동           7746           3743           2294           1098   \n",
              "갈현1동           7455           3614           1708           1165   \n",
              "\n",
              "      2023년09월_4인세대  2023년09월_5인세대  2023년9월_6인가구이상  채소가게수  제로웨이스트 가게수  유치원수  \\\n",
              "가양2동            428             84              42    0.0         0.0   3.0   \n",
              "가양3동            481            106              24    0.0         0.0   4.0   \n",
              "갈현1동            764            161              43    3.0         0.0   1.0   \n",
              "\n",
              "      ...  2_40대  2_50대  2_60대  2_70대  2_80대  2_90대  2_기타   카페수  승하차인원_버스_지하철  \\\n",
              "가양2동  ...   1374   1774   3360   1948   1172    226     4  12.0       90113.0   \n",
              "가양3동  ...   1678   2008   3056   2014   1054    160     6   9.0       67861.0   \n",
              "갈현1동  ...   1972   2670   2642   1528    732    106     4  40.0      232027.0   \n",
              "\n",
              "      1점포당_1년_매출액  \n",
              "가양2동  30928029.88  \n",
              "가양3동  53256287.08  \n",
              "갈현1동  27594935.59  \n",
              "\n",
              "[3 rows x 49 columns]"
            ]
          },
          "execution_count": 34,
          "metadata": {},
          "output_type": "execute_result"
        }
      ],
      "source": [
        "data = pd.read_csv('./data_to_model/data_with_removed_outlier.csv', index_col=0)\n",
        "data.fillna(0, inplace=True)\n",
        "data.head(3)"
      ]
    },
    {
      "cell_type": "code",
      "execution_count": 35,
      "metadata": {},
      "outputs": [
        {
          "data": {
            "text/plain": [
              "Index(['2023년09월_전체세대', '2023년09월_1인세대', '2023년09월_2인세대', '2023년09월_3인세대',\n",
              "       '2023년09월_4인세대', '2023년09월_5인세대', '2023년9월_6인가구이상', '채소가게수',\n",
              "       '제로웨이스트 가게수', '유치원수', '거주인구대비취약자수', '거주인구대비취약자백분위수', '미세먼지지수',\n",
              "       '미세먼지백분위', '행정구역면적', '공원수', '공원율', '도시농업(프로그램수)', '도시농업(시설수)', '초등학교수',\n",
              "       '사업체수 (개)', '종사자수 (명)', '채식식당수', '인구수', '1_0대', '1_10대', '1_20대',\n",
              "       '1_30대', '1_40대', '1_50대', '1_60대', '1_70대', '1_80대', '1_90대', '1_기타',\n",
              "       '2_0대', '2_10대', '2_20대', '2_30대', '2_40대', '2_50대', '2_60대', '2_70대',\n",
              "       '2_80대', '2_90대', '2_기타', '카페수', '승하차인원_버스_지하철', '1점포당_1년_매출액'],\n",
              "      dtype='object')"
            ]
          },
          "execution_count": 35,
          "metadata": {},
          "output_type": "execute_result"
        }
      ],
      "source": [
        "df = data.copy()\n",
        "df.columns"
      ]
    },
    {
      "cell_type": "code",
      "execution_count": 36,
      "metadata": {},
      "outputs": [],
      "source": [
        "# 인구 범위 축소하기\n",
        "df['남자_10대이하'] = df['1_0대'] + df['1_10대']\n",
        "df['남자_20_30대'] = df['1_20대'] + df['1_30대']\n",
        "df['남자_40_60대'] = df['1_40대'] + df['1_50대'] + df['1_60대']\n",
        "df['남자_70대이상'] = df['1_70대'] + df['1_80대'] + df['1_90대'] + df['1_기타']\n",
        "\n",
        "df['여자_10대이하'] = df['2_0대'] + df['2_10대']\n",
        "df['여자_20_30대'] = df['2_20대'] + df['2_30대']\n",
        "df['여자_40_60대'] = df['2_40대'] + df['2_50대'] + df['2_60대']\n",
        "df['여자_70대이상'] = df['2_70대'] + df['2_80대'] + df['2_90대'] + df['2_기타']\n",
        "\n",
        "# 유치원, 초등학교 수 합치기\n",
        "df['유치원_초등학교'] = df['유치원수'] + df['초등학교수']"
      ]
    },
    {
      "cell_type": "code",
      "execution_count": 37,
      "metadata": {},
      "outputs": [
        {
          "data": {
            "text/plain": [
              "Index(['2023년09월_전체세대', '2023년09월_1인세대', '2023년09월_2인세대', '2023년09월_3인세대',\n",
              "       '2023년09월_4인세대', '2023년09월_5인세대', '2023년9월_6인가구이상', '채소가게수',\n",
              "       '제로웨이스트 가게수', '유치원수', '거주인구대비취약자수', '거주인구대비취약자백분위수', '미세먼지지수',\n",
              "       '미세먼지백분위', '행정구역면적', '공원수', '공원율', '도시농업(프로그램수)', '도시농업(시설수)', '초등학교수',\n",
              "       '사업체수 (개)', '종사자수 (명)', '채식식당수', '인구수', '1_0대', '1_10대', '1_20대',\n",
              "       '1_30대', '1_40대', '1_50대', '1_60대', '1_70대', '1_80대', '1_90대', '1_기타',\n",
              "       '2_0대', '2_10대', '2_20대', '2_30대', '2_40대', '2_50대', '2_60대', '2_70대',\n",
              "       '2_80대', '2_90대', '2_기타', '카페수', '승하차인원_버스_지하철', '1점포당_1년_매출액',\n",
              "       '남자_10대이하', '남자_20_30대', '남자_40_60대', '남자_70대이상', '여자_10대이하',\n",
              "       '여자_20_30대', '여자_40_60대', '여자_70대이상', '유치원_초등학교'],\n",
              "      dtype='object')"
            ]
          },
          "execution_count": 37,
          "metadata": {},
          "output_type": "execute_result"
        }
      ],
      "source": [
        "df.columns"
      ]
    },
    {
      "cell_type": "code",
      "execution_count": 38,
      "metadata": {},
      "outputs": [],
      "source": [
        "population_feature = ['2023년09월_1인세대', '남자_10대이하', '남자_20_30대', '남자_40_60대', '남자_70대이상', '여자_10대이하',\n",
        "       '여자_20_30대', '여자_40_60대', '여자_70대이상']\n",
        "\n",
        "# infra_feature = ['공원수', '도시농업(프로그램수)', '도시농업(시설수)']\n",
        "# demand_feature = ['채소가게수', '카페수', '채식식당수', '초등학교수', '유치원수']\n",
        "environ_featrue = ['미세먼지지수', '미세먼지백분위', '거주인구대비취약자수', '공원수', '도시농업(프로그램수)', '도시농업(시설수)']\n",
        "market_feature = ['1점포당_1년_매출액', '승하차인원_버스_지하철', '종사자수 (명)', '사업체수 (개)', '채소가게수', '카페수', '채식식당수', '초등학교수', '유치원수']"
      ]
    },
    {
      "cell_type": "code",
      "execution_count": 7,
      "metadata": {},
      "outputs": [],
      "source": [
        "# # 인구 합치기 전, 스케일링\n",
        "# scaled_data2 = StandardScaler().fit_transform(np.log1p(data))\n",
        "# data_scale_log2=pd.DataFrame(data=scaled_data2, columns=data.columns)"
      ]
    },
    {
      "cell_type": "code",
      "execution_count": null,
      "metadata": {
        "id": "UL4LYxNn8fFz"
      },
      "outputs": [],
      "source": [
        "# # 인구 합친 후, 스케일링 (로그, 스탠다드)\n",
        "# scale_kind = 'standard_log'\n",
        "# scaled_data = StandardScaler().fit_transform(np.log1p(df))\n",
        "# data_scale_log=pd.DataFrame(data=scaled_data, columns=df.columns)\n",
        "# data_scale_log.head(5)"
      ]
    },
    {
      "cell_type": "code",
      "execution_count": 39,
      "metadata": {},
      "outputs": [
        {
          "data": {
            "text/html": [
              "<div>\n",
              "<style scoped>\n",
              "    .dataframe tbody tr th:only-of-type {\n",
              "        vertical-align: middle;\n",
              "    }\n",
              "\n",
              "    .dataframe tbody tr th {\n",
              "        vertical-align: top;\n",
              "    }\n",
              "\n",
              "    .dataframe thead th {\n",
              "        text-align: right;\n",
              "    }\n",
              "</style>\n",
              "<table border=\"1\" class=\"dataframe\">\n",
              "  <thead>\n",
              "    <tr style=\"text-align: right;\">\n",
              "      <th></th>\n",
              "      <th>2023년09월_전체세대</th>\n",
              "      <th>2023년09월_1인세대</th>\n",
              "      <th>2023년09월_2인세대</th>\n",
              "      <th>2023년09월_3인세대</th>\n",
              "      <th>2023년09월_4인세대</th>\n",
              "      <th>2023년09월_5인세대</th>\n",
              "      <th>2023년9월_6인가구이상</th>\n",
              "      <th>채소가게수</th>\n",
              "      <th>제로웨이스트 가게수</th>\n",
              "      <th>유치원수</th>\n",
              "      <th>...</th>\n",
              "      <th>1점포당_1년_매출액</th>\n",
              "      <th>남자_10대이하</th>\n",
              "      <th>남자_20_30대</th>\n",
              "      <th>남자_40_60대</th>\n",
              "      <th>남자_70대이상</th>\n",
              "      <th>여자_10대이하</th>\n",
              "      <th>여자_20_30대</th>\n",
              "      <th>여자_40_60대</th>\n",
              "      <th>여자_70대이상</th>\n",
              "      <th>유치원_초등학교</th>\n",
              "    </tr>\n",
              "  </thead>\n",
              "  <tbody>\n",
              "    <tr>\n",
              "      <th>0</th>\n",
              "      <td>0.452482</td>\n",
              "      <td>0.437267</td>\n",
              "      <td>0.488077</td>\n",
              "      <td>0.288359</td>\n",
              "      <td>0.147143</td>\n",
              "      <td>0.151737</td>\n",
              "      <td>0.266234</td>\n",
              "      <td>0.000</td>\n",
              "      <td>0.0</td>\n",
              "      <td>0.500000</td>\n",
              "      <td>...</td>\n",
              "      <td>0.333839</td>\n",
              "      <td>0.153462</td>\n",
              "      <td>0.270953</td>\n",
              "      <td>0.401737</td>\n",
              "      <td>0.575773</td>\n",
              "      <td>0.1444</td>\n",
              "      <td>0.361073</td>\n",
              "      <td>0.393024</td>\n",
              "      <td>0.659642</td>\n",
              "      <td>0.500</td>\n",
              "    </tr>\n",
              "    <tr>\n",
              "      <th>1</th>\n",
              "      <td>0.436776</td>\n",
              "      <td>0.350730</td>\n",
              "      <td>0.564332</td>\n",
              "      <td>0.384122</td>\n",
              "      <td>0.166071</td>\n",
              "      <td>0.191956</td>\n",
              "      <td>0.149351</td>\n",
              "      <td>0.000</td>\n",
              "      <td>0.0</td>\n",
              "      <td>0.666667</td>\n",
              "      <td>...</td>\n",
              "      <td>0.580707</td>\n",
              "      <td>0.188080</td>\n",
              "      <td>0.326615</td>\n",
              "      <td>0.400401</td>\n",
              "      <td>0.478066</td>\n",
              "      <td>0.1972</td>\n",
              "      <td>0.432044</td>\n",
              "      <td>0.407444</td>\n",
              "      <td>0.636581</td>\n",
              "      <td>0.625</td>\n",
              "    </tr>\n",
              "    <tr>\n",
              "      <th>2</th>\n",
              "      <td>0.420096</td>\n",
              "      <td>0.338422</td>\n",
              "      <td>0.418778</td>\n",
              "      <td>0.407974</td>\n",
              "      <td>0.267143</td>\n",
              "      <td>0.292505</td>\n",
              "      <td>0.272727</td>\n",
              "      <td>0.375</td>\n",
              "      <td>0.0</td>\n",
              "      <td>0.166667</td>\n",
              "      <td>...</td>\n",
              "      <td>0.296987</td>\n",
              "      <td>0.281941</td>\n",
              "      <td>0.345010</td>\n",
              "      <td>0.439279</td>\n",
              "      <td>0.428714</td>\n",
              "      <td>0.2664</td>\n",
              "      <td>0.400933</td>\n",
              "      <td>0.440843</td>\n",
              "      <td>0.464811</td>\n",
              "      <td>0.125</td>\n",
              "    </tr>\n",
              "    <tr>\n",
              "      <th>3</th>\n",
              "      <td>0.713516</td>\n",
              "      <td>0.449385</td>\n",
              "      <td>0.830104</td>\n",
              "      <td>0.816661</td>\n",
              "      <td>0.578929</td>\n",
              "      <td>0.696527</td>\n",
              "      <td>0.649351</td>\n",
              "      <td>0.125</td>\n",
              "      <td>0.0</td>\n",
              "      <td>0.666667</td>\n",
              "      <td>...</td>\n",
              "      <td>0.189866</td>\n",
              "      <td>0.614561</td>\n",
              "      <td>0.586052</td>\n",
              "      <td>0.812558</td>\n",
              "      <td>0.745264</td>\n",
              "      <td>0.6604</td>\n",
              "      <td>0.756562</td>\n",
              "      <td>0.848780</td>\n",
              "      <td>0.815507</td>\n",
              "      <td>0.750</td>\n",
              "    </tr>\n",
              "    <tr>\n",
              "      <th>4</th>\n",
              "      <td>0.142841</td>\n",
              "      <td>0.059250</td>\n",
              "      <td>0.145057</td>\n",
              "      <td>0.199359</td>\n",
              "      <td>0.190357</td>\n",
              "      <td>0.261426</td>\n",
              "      <td>0.331169</td>\n",
              "      <td>0.500</td>\n",
              "      <td>0.0</td>\n",
              "      <td>0.166667</td>\n",
              "      <td>...</td>\n",
              "      <td>0.588238</td>\n",
              "      <td>0.090650</td>\n",
              "      <td>0.048065</td>\n",
              "      <td>0.096994</td>\n",
              "      <td>0.123629</td>\n",
              "      <td>0.1036</td>\n",
              "      <td>0.064651</td>\n",
              "      <td>0.096808</td>\n",
              "      <td>0.105567</td>\n",
              "      <td>0.250</td>\n",
              "    </tr>\n",
              "  </tbody>\n",
              "</table>\n",
              "<p>5 rows × 58 columns</p>\n",
              "</div>"
            ],
            "text/plain": [
              "   2023년09월_전체세대  2023년09월_1인세대  2023년09월_2인세대  2023년09월_3인세대  2023년09월_4인세대  \\\n",
              "0       0.452482       0.437267       0.488077       0.288359       0.147143   \n",
              "1       0.436776       0.350730       0.564332       0.384122       0.166071   \n",
              "2       0.420096       0.338422       0.418778       0.407974       0.267143   \n",
              "3       0.713516       0.449385       0.830104       0.816661       0.578929   \n",
              "4       0.142841       0.059250       0.145057       0.199359       0.190357   \n",
              "\n",
              "   2023년09월_5인세대  2023년9월_6인가구이상  채소가게수  제로웨이스트 가게수      유치원수  ...  \\\n",
              "0       0.151737        0.266234  0.000         0.0  0.500000  ...   \n",
              "1       0.191956        0.149351  0.000         0.0  0.666667  ...   \n",
              "2       0.292505        0.272727  0.375         0.0  0.166667  ...   \n",
              "3       0.696527        0.649351  0.125         0.0  0.666667  ...   \n",
              "4       0.261426        0.331169  0.500         0.0  0.166667  ...   \n",
              "\n",
              "   1점포당_1년_매출액  남자_10대이하  남자_20_30대  남자_40_60대  남자_70대이상  여자_10대이하  여자_20_30대  \\\n",
              "0     0.333839  0.153462   0.270953   0.401737  0.575773    0.1444   0.361073   \n",
              "1     0.580707  0.188080   0.326615   0.400401  0.478066    0.1972   0.432044   \n",
              "2     0.296987  0.281941   0.345010   0.439279  0.428714    0.2664   0.400933   \n",
              "3     0.189866  0.614561   0.586052   0.812558  0.745264    0.6604   0.756562   \n",
              "4     0.588238  0.090650   0.048065   0.096994  0.123629    0.1036   0.064651   \n",
              "\n",
              "   여자_40_60대  여자_70대이상  유치원_초등학교  \n",
              "0   0.393024  0.659642     0.500  \n",
              "1   0.407444  0.636581     0.625  \n",
              "2   0.440843  0.464811     0.125  \n",
              "3   0.848780  0.815507     0.750  \n",
              "4   0.096808  0.105567     0.250  \n",
              "\n",
              "[5 rows x 58 columns]"
            ]
          },
          "execution_count": 39,
          "metadata": {},
          "output_type": "execute_result"
        }
      ],
      "source": [
        "# 인구 합친 후, 스케일링 (min-max)\n",
        "scale_kind = 'min_max'\n",
        "scaled_data = MinMaxScaler().fit_transform(df)\n",
        "data_scale_log=pd.DataFrame(data=scaled_data, columns=df.columns)\n",
        "data_scale_log.head()"
      ]
    },
    {
      "cell_type": "code",
      "execution_count": null,
      "metadata": {},
      "outputs": [],
      "source": [
        "# # 인구 합친 후, 스케일링 (log, min-max)\n",
        "# scaled_data = MinMaxScaler().fit_transform(np.log1p(df))\n",
        "# data_scale_log=pd.DataFrame(data=scaled_data, columns=df.columns)\n",
        "# data_scale_log.head()"
      ]
    },
    {
      "cell_type": "markdown",
      "metadata": {
        "id": "QEy7SytW8fF6"
      },
      "source": [
        "#### 인구특성\n",
        "\n"
      ]
    },
    {
      "cell_type": "code",
      "execution_count": 40,
      "metadata": {
        "id": "iS7L2KHx8fF6",
        "outputId": "1157933e-e808-4efa-82d8-87a3970b1ca7"
      },
      "outputs": [
        {
          "name": "stdout",
          "output_type": "stream",
          "text": [
            "주성분의 개수: 3\n"
          ]
        }
      ],
      "source": [
        "population_feature = ['2023년09월_1인세대', '남자_10대이하', '남자_20_30대', '남자_40_60대', '남자_70대이상', '여자_10대이하',\n",
        "       '여자_20_30대', '여자_40_60대', '여자_70대이상']\n",
        "\n",
        "pca = PCA(n_components=0.95)\n",
        "population_scale_data = data_scale_log[population_feature]\n",
        "pca.fit(population_scale_data)\n",
        "pca_population = pd.DataFrame((pca.transform(population_scale_data)))\n",
        "\n",
        "num_of_principal = pca_population.shape[1] \n",
        "print('주성분의 개수:', num_of_principal)"
      ]
    },
    {
      "cell_type": "code",
      "execution_count": 41,
      "metadata": {
        "id": "W4JyqhJh8fF7",
        "outputId": "07f9fd20-3606-4eb7-b552-81d73f59f2f7"
      },
      "outputs": [
        {
          "name": "stdout",
          "output_type": "stream",
          "text": [
            "주성분의 설명력\n",
            "제 1주성분 : 0.6777516145592198\n",
            "제 2주성분 : 0.22068578524814728\n",
            "제 3주성분 : 0.07426199825655232\n"
          ]
        },
        {
          "data": {
            "text/html": [
              "<div>\n",
              "<style scoped>\n",
              "    .dataframe tbody tr th:only-of-type {\n",
              "        vertical-align: middle;\n",
              "    }\n",
              "\n",
              "    .dataframe tbody tr th {\n",
              "        vertical-align: top;\n",
              "    }\n",
              "\n",
              "    .dataframe thead th {\n",
              "        text-align: right;\n",
              "    }\n",
              "</style>\n",
              "<table border=\"1\" class=\"dataframe\">\n",
              "  <thead>\n",
              "    <tr style=\"text-align: right;\">\n",
              "      <th></th>\n",
              "      <th>0</th>\n",
              "      <th>1</th>\n",
              "      <th>2</th>\n",
              "    </tr>\n",
              "  </thead>\n",
              "  <tbody>\n",
              "    <tr>\n",
              "      <th>2023년09월_1인세대</th>\n",
              "      <td>-0.182091</td>\n",
              "      <td>0.566711</td>\n",
              "      <td>-0.249983</td>\n",
              "    </tr>\n",
              "    <tr>\n",
              "      <th>남자_10대이하</th>\n",
              "      <td>-0.337349</td>\n",
              "      <td>-0.467736</td>\n",
              "      <td>-0.202266</td>\n",
              "    </tr>\n",
              "    <tr>\n",
              "      <th>남자_20_30대</th>\n",
              "      <td>-0.278458</td>\n",
              "      <td>0.276414</td>\n",
              "      <td>-0.290460</td>\n",
              "    </tr>\n",
              "    <tr>\n",
              "      <th>남자_40_60대</th>\n",
              "      <td>-0.380586</td>\n",
              "      <td>-0.019393</td>\n",
              "      <td>0.161138</td>\n",
              "    </tr>\n",
              "    <tr>\n",
              "      <th>남자_70대이상</th>\n",
              "      <td>-0.322951</td>\n",
              "      <td>0.153501</td>\n",
              "      <td>0.454604</td>\n",
              "    </tr>\n",
              "    <tr>\n",
              "      <th>여자_10대이하</th>\n",
              "      <td>-0.365686</td>\n",
              "      <td>-0.504928</td>\n",
              "      <td>-0.231537</td>\n",
              "    </tr>\n",
              "    <tr>\n",
              "      <th>여자_20_30대</th>\n",
              "      <td>-0.352347</td>\n",
              "      <td>0.271720</td>\n",
              "      <td>-0.473812</td>\n",
              "    </tr>\n",
              "    <tr>\n",
              "      <th>여자_40_60대</th>\n",
              "      <td>-0.383225</td>\n",
              "      <td>-0.079336</td>\n",
              "      <td>0.137598</td>\n",
              "    </tr>\n",
              "    <tr>\n",
              "      <th>여자_70대이상</th>\n",
              "      <td>-0.348741</td>\n",
              "      <td>0.156975</td>\n",
              "      <td>0.531564</td>\n",
              "    </tr>\n",
              "  </tbody>\n",
              "</table>\n",
              "</div>"
            ],
            "text/plain": [
              "                      0         1         2\n",
              "2023년09월_1인세대 -0.182091  0.566711 -0.249983\n",
              "남자_10대이하      -0.337349 -0.467736 -0.202266\n",
              "남자_20_30대     -0.278458  0.276414 -0.290460\n",
              "남자_40_60대     -0.380586 -0.019393  0.161138\n",
              "남자_70대이상      -0.322951  0.153501  0.454604\n",
              "여자_10대이하      -0.365686 -0.504928 -0.231537\n",
              "여자_20_30대     -0.352347  0.271720 -0.473812\n",
              "여자_40_60대     -0.383225 -0.079336  0.137598\n",
              "여자_70대이상      -0.348741  0.156975  0.531564"
            ]
          },
          "execution_count": 41,
          "metadata": {},
          "output_type": "execute_result"
        }
      ],
      "source": [
        "print('주성분의 설명력')\n",
        "for i in range(num_of_principal) :\n",
        "    print(f\"제 {i+1}주성분 :\", pca.explained_variance_ratio_[i])\n",
        "    \n",
        "pd.DataFrame(data=pca.components_,columns=population_scale_data.columns).T"
      ]
    },
    {
      "cell_type": "code",
      "execution_count": 42,
      "metadata": {},
      "outputs": [],
      "source": [
        "population_column = ['인구가 비교적 적은 지역', '1인 세대 및 20~30대 남녀가 많은 지역', '노령 인구가 많은 지역']"
      ]
    },
    {
      "cell_type": "markdown",
      "metadata": {},
      "source": [
        "---"
      ]
    },
    {
      "cell_type": "markdown",
      "metadata": {
        "id": "aCYChqHC8fF_"
      },
      "source": [
        "### 환경 관련 인프라 특성"
      ]
    },
    {
      "cell_type": "code",
      "execution_count": 43,
      "metadata": {
        "id": "dd_Aap5y8fF-",
        "outputId": "f72eda8e-612a-4056-e826-1f2518974567"
      },
      "outputs": [
        {
          "name": "stdout",
          "output_type": "stream",
          "text": [
            "주성분의 개수: 2\n"
          ]
        }
      ],
      "source": [
        "environ_feature = ['미세먼지지수', '미세먼지백분위', '거주인구대비취약자수', '공원수', '도시농업(프로그램수)', '도시농업(시설수)']\n",
        "\n",
        "pca = PCA(n_components=0.85)\n",
        "environ_scale_data = data_scale_log[environ_feature]\n",
        "pca.fit(environ_scale_data)\n",
        "pca_environ = pd.DataFrame((pca.transform(environ_scale_data)))\n",
        "\n",
        "num_of_principal = pca_environ.shape[1] \n",
        "print('주성분의 개수:', num_of_principal)"
      ]
    },
    {
      "cell_type": "code",
      "execution_count": 44,
      "metadata": {
        "id": "AwtjaV_h8fF_",
        "outputId": "3c717ca8-1626-4567-988d-57956f148112"
      },
      "outputs": [
        {
          "name": "stdout",
          "output_type": "stream",
          "text": [
            "주성분의 설명력\n",
            "제 1주성분 : 0.5370422829517691\n",
            "제 2주성분 : 0.31841280740307915\n"
          ]
        },
        {
          "data": {
            "text/html": [
              "<div>\n",
              "<style scoped>\n",
              "    .dataframe tbody tr th:only-of-type {\n",
              "        vertical-align: middle;\n",
              "    }\n",
              "\n",
              "    .dataframe tbody tr th {\n",
              "        vertical-align: top;\n",
              "    }\n",
              "\n",
              "    .dataframe thead th {\n",
              "        text-align: right;\n",
              "    }\n",
              "</style>\n",
              "<table border=\"1\" class=\"dataframe\">\n",
              "  <thead>\n",
              "    <tr style=\"text-align: right;\">\n",
              "      <th></th>\n",
              "      <th>0</th>\n",
              "      <th>1</th>\n",
              "    </tr>\n",
              "  </thead>\n",
              "  <tbody>\n",
              "    <tr>\n",
              "      <th>미세먼지지수</th>\n",
              "      <td>0.610855</td>\n",
              "      <td>-0.035129</td>\n",
              "    </tr>\n",
              "    <tr>\n",
              "      <th>미세먼지백분위</th>\n",
              "      <td>0.788612</td>\n",
              "      <td>-0.024351</td>\n",
              "    </tr>\n",
              "    <tr>\n",
              "      <th>거주인구대비취약자수</th>\n",
              "      <td>-0.016358</td>\n",
              "      <td>0.657988</td>\n",
              "    </tr>\n",
              "    <tr>\n",
              "      <th>공원수</th>\n",
              "      <td>0.068403</td>\n",
              "      <td>0.751815</td>\n",
              "    </tr>\n",
              "    <tr>\n",
              "      <th>도시농업(프로그램수)</th>\n",
              "      <td>0.000000</td>\n",
              "      <td>0.000000</td>\n",
              "    </tr>\n",
              "    <tr>\n",
              "      <th>도시농업(시설수)</th>\n",
              "      <td>0.000000</td>\n",
              "      <td>0.000000</td>\n",
              "    </tr>\n",
              "  </tbody>\n",
              "</table>\n",
              "</div>"
            ],
            "text/plain": [
              "                    0         1\n",
              "미세먼지지수       0.610855 -0.035129\n",
              "미세먼지백분위      0.788612 -0.024351\n",
              "거주인구대비취약자수  -0.016358  0.657988\n",
              "공원수          0.068403  0.751815\n",
              "도시농업(프로그램수)  0.000000  0.000000\n",
              "도시농업(시설수)    0.000000  0.000000"
            ]
          },
          "execution_count": 44,
          "metadata": {},
          "output_type": "execute_result"
        }
      ],
      "source": [
        "print('주성분의 설명력')\n",
        "for i in range(num_of_principal) :\n",
        "    print(f\"제 {i+1}주성분 :\", pca.explained_variance_ratio_[i])\n",
        "    \n",
        "pd.DataFrame(data=pca.components_,columns=environ_scale_data.columns).T"
      ]
    },
    {
      "cell_type": "markdown",
      "metadata": {},
      "source": [
        "이상치 제거 후, 도시농업 데이터나 0으로 변경되어 영향력이 사라짐"
      ]
    },
    {
      "cell_type": "code",
      "execution_count": 45,
      "metadata": {},
      "outputs": [],
      "source": [
        "environ_column = ['공기질 오염이 심한 지역', '공원녹지가 많은 지역']"
      ]
    },
    {
      "cell_type": "markdown",
      "metadata": {},
      "source": [
        "### 상권 특성"
      ]
    },
    {
      "cell_type": "code",
      "execution_count": 48,
      "metadata": {},
      "outputs": [
        {
          "name": "stdout",
          "output_type": "stream",
          "text": [
            "주성분의 개수: 6\n"
          ]
        }
      ],
      "source": [
        "market_feature = ['1점포당_1년_매출액', '승하차인원_버스_지하철', '종사자수 (명)', '사업체수 (개)', '채소가게수', '카페수', '채식식당수', '초등학교수', '유치원수']\n",
        "\n",
        "pca = PCA(n_components=0.9)\n",
        "market_scale_data = data_scale_log[market_feature]\n",
        "pca.fit(market_scale_data)\n",
        "pca_market = pd.DataFrame((pca.transform(market_scale_data)))\n",
        "\n",
        "num_of_principal = pca_market.shape[1] \n",
        "print('주성분의 개수:', num_of_principal)"
      ]
    },
    {
      "cell_type": "code",
      "execution_count": 49,
      "metadata": {},
      "outputs": [
        {
          "name": "stdout",
          "output_type": "stream",
          "text": [
            "주성분의 설명력\n",
            "제 1주성분 : 0.3129945775292557\n",
            "제 2주성분 : 0.21289500232008568\n",
            "제 3주성분 : 0.15547555201491134\n",
            "제 4주성분 : 0.09216627205706351\n",
            "제 5주성분 : 0.07895376902980764\n",
            "제 6주성분 : 0.07048986461621767\n"
          ]
        },
        {
          "data": {
            "text/html": [
              "<div>\n",
              "<style scoped>\n",
              "    .dataframe tbody tr th:only-of-type {\n",
              "        vertical-align: middle;\n",
              "    }\n",
              "\n",
              "    .dataframe tbody tr th {\n",
              "        vertical-align: top;\n",
              "    }\n",
              "\n",
              "    .dataframe thead th {\n",
              "        text-align: right;\n",
              "    }\n",
              "</style>\n",
              "<table border=\"1\" class=\"dataframe\">\n",
              "  <thead>\n",
              "    <tr style=\"text-align: right;\">\n",
              "      <th></th>\n",
              "      <th>0</th>\n",
              "      <th>1</th>\n",
              "      <th>2</th>\n",
              "      <th>3</th>\n",
              "      <th>4</th>\n",
              "      <th>5</th>\n",
              "    </tr>\n",
              "  </thead>\n",
              "  <tbody>\n",
              "    <tr>\n",
              "      <th>1점포당_1년_매출액</th>\n",
              "      <td>0.058219</td>\n",
              "      <td>0.075403</td>\n",
              "      <td>-0.225955</td>\n",
              "      <td>0.948146</td>\n",
              "      <td>-0.030040</td>\n",
              "      <td>-0.172878</td>\n",
              "    </tr>\n",
              "    <tr>\n",
              "      <th>승하차인원_버스_지하철</th>\n",
              "      <td>0.277811</td>\n",
              "      <td>0.062807</td>\n",
              "      <td>0.096376</td>\n",
              "      <td>0.057965</td>\n",
              "      <td>-0.510455</td>\n",
              "      <td>0.127554</td>\n",
              "    </tr>\n",
              "    <tr>\n",
              "      <th>종사자수 (명)</th>\n",
              "      <td>0.397816</td>\n",
              "      <td>0.097517</td>\n",
              "      <td>-0.093017</td>\n",
              "      <td>0.060092</td>\n",
              "      <td>-0.068382</td>\n",
              "      <td>0.354772</td>\n",
              "    </tr>\n",
              "    <tr>\n",
              "      <th>사업체수 (개)</th>\n",
              "      <td>0.447087</td>\n",
              "      <td>0.007162</td>\n",
              "      <td>0.043183</td>\n",
              "      <td>-0.009158</td>\n",
              "      <td>-0.104693</td>\n",
              "      <td>0.438115</td>\n",
              "    </tr>\n",
              "    <tr>\n",
              "      <th>채소가게수</th>\n",
              "      <td>0.245569</td>\n",
              "      <td>-0.462717</td>\n",
              "      <td>0.783035</td>\n",
              "      <td>0.168871</td>\n",
              "      <td>0.064006</td>\n",
              "      <td>-0.249666</td>\n",
              "    </tr>\n",
              "    <tr>\n",
              "      <th>카페수</th>\n",
              "      <td>0.453339</td>\n",
              "      <td>0.070470</td>\n",
              "      <td>-0.034888</td>\n",
              "      <td>-0.060616</td>\n",
              "      <td>0.020274</td>\n",
              "      <td>0.025552</td>\n",
              "    </tr>\n",
              "    <tr>\n",
              "      <th>채식식당수</th>\n",
              "      <td>0.537040</td>\n",
              "      <td>0.151521</td>\n",
              "      <td>-0.244605</td>\n",
              "      <td>-0.178535</td>\n",
              "      <td>0.414785</td>\n",
              "      <td>-0.554917</td>\n",
              "    </tr>\n",
              "    <tr>\n",
              "      <th>초등학교수</th>\n",
              "      <td>-0.083192</td>\n",
              "      <td>0.693127</td>\n",
              "      <td>0.466408</td>\n",
              "      <td>0.127121</td>\n",
              "      <td>0.443719</td>\n",
              "      <td>0.239208</td>\n",
              "    </tr>\n",
              "    <tr>\n",
              "      <th>유치원수</th>\n",
              "      <td>-0.011533</td>\n",
              "      <td>0.508284</td>\n",
              "      <td>0.193418</td>\n",
              "      <td>-0.117211</td>\n",
              "      <td>-0.591147</td>\n",
              "      <td>-0.455956</td>\n",
              "    </tr>\n",
              "  </tbody>\n",
              "</table>\n",
              "</div>"
            ],
            "text/plain": [
              "                     0         1         2         3         4         5\n",
              "1점포당_1년_매출액   0.058219  0.075403 -0.225955  0.948146 -0.030040 -0.172878\n",
              "승하차인원_버스_지하철  0.277811  0.062807  0.096376  0.057965 -0.510455  0.127554\n",
              "종사자수 (명)      0.397816  0.097517 -0.093017  0.060092 -0.068382  0.354772\n",
              "사업체수 (개)      0.447087  0.007162  0.043183 -0.009158 -0.104693  0.438115\n",
              "채소가게수         0.245569 -0.462717  0.783035  0.168871  0.064006 -0.249666\n",
              "카페수           0.453339  0.070470 -0.034888 -0.060616  0.020274  0.025552\n",
              "채식식당수         0.537040  0.151521 -0.244605 -0.178535  0.414785 -0.554917\n",
              "초등학교수        -0.083192  0.693127  0.466408  0.127121  0.443719  0.239208\n",
              "유치원수         -0.011533  0.508284  0.193418 -0.117211 -0.591147 -0.455956"
            ]
          },
          "execution_count": 49,
          "metadata": {},
          "output_type": "execute_result"
        }
      ],
      "source": [
        "print('주성분의 설명력')\n",
        "for i in range(num_of_principal) :\n",
        "    print(f\"제 {i+1}주성분 :\", pca.explained_variance_ratio_[i])\n",
        "    \n",
        "pd.DataFrame(data=pca.components_,columns=market_scale_data.columns).T"
      ]
    },
    {
      "cell_type": "code",
      "execution_count": 15,
      "metadata": {},
      "outputs": [],
      "source": [
        "market_column = ['사업체와 카페가 많은 지역', '초등학교 및 유치원이 많은 지역', '거주 지역', '상가 매출이 많은 곳','유동인구가 많은 지역']"
      ]
    },
    {
      "cell_type": "markdown",
      "metadata": {
        "id": "CzTwm1g08fGB"
      },
      "source": [
        "## 차원축소 결과"
      ]
    },
    {
      "cell_type": "code",
      "execution_count": 20,
      "metadata": {
        "id": "f5Fl-WjJ8fGB"
      },
      "outputs": [],
      "source": [
        "pca_result =pd.concat([pca_population, pca_environ, pca_market],axis=1)"
      ]
    },
    {
      "cell_type": "code",
      "execution_count": 21,
      "metadata": {
        "id": "a3oCTvYT8fGB",
        "outputId": "e492436c-623b-4272-a2a3-b448c8baf6c8"
      },
      "outputs": [
        {
          "data": {
            "text/html": [
              "<div>\n",
              "<style scoped>\n",
              "    .dataframe tbody tr th:only-of-type {\n",
              "        vertical-align: middle;\n",
              "    }\n",
              "\n",
              "    .dataframe tbody tr th {\n",
              "        vertical-align: top;\n",
              "    }\n",
              "\n",
              "    .dataframe thead th {\n",
              "        text-align: right;\n",
              "    }\n",
              "</style>\n",
              "<table border=\"1\" class=\"dataframe\">\n",
              "  <thead>\n",
              "    <tr style=\"text-align: right;\">\n",
              "      <th></th>\n",
              "      <th>인구가 비교적 적은 지역</th>\n",
              "      <th>1인 세대 및 20~30대 남녀가 많은 지역</th>\n",
              "      <th>노령 인구가 많은 지역</th>\n",
              "      <th>공기질 오염이 심한 지역</th>\n",
              "      <th>공원녹지가 많은 지역</th>\n",
              "      <th>사업체가 많고 채식 소비가 많은 지역</th>\n",
              "      <th>초등학교 및 유치원이 많은 지역</th>\n",
              "      <th>거주 지역</th>\n",
              "      <th>상가 매출이 많은 곳</th>\n",
              "      <th>유동인구가 많은 지역</th>\n",
              "    </tr>\n",
              "  </thead>\n",
              "  <tbody>\n",
              "    <tr>\n",
              "      <th>가양2동</th>\n",
              "      <td>0.338207</td>\n",
              "      <td>0.301216</td>\n",
              "      <td>0.303639</td>\n",
              "      <td>0.087892</td>\n",
              "      <td>0.036253</td>\n",
              "      <td>-0.348108</td>\n",
              "      <td>0.156950</td>\n",
              "      <td>-0.257588</td>\n",
              "      <td>-0.086238</td>\n",
              "      <td>-0.024465</td>\n",
              "    </tr>\n",
              "    <tr>\n",
              "      <th>가양3동</th>\n",
              "      <td>0.317052</td>\n",
              "      <td>0.224256</td>\n",
              "      <td>0.201343</td>\n",
              "      <td>0.075567</td>\n",
              "      <td>-0.104940</td>\n",
              "      <td>-0.360364</td>\n",
              "      <td>0.243992</td>\n",
              "      <td>-0.248914</td>\n",
              "      <td>0.173667</td>\n",
              "      <td>-0.214045</td>\n",
              "    </tr>\n",
              "    <tr>\n",
              "      <th>갈현1동</th>\n",
              "      <td>0.316409</td>\n",
              "      <td>0.097126</td>\n",
              "      <td>0.075928</td>\n",
              "      <td>-0.392406</td>\n",
              "      <td>0.114279</td>\n",
              "      <td>0.097132</td>\n",
              "      <td>-0.377073</td>\n",
              "      <td>-0.156749</td>\n",
              "      <td>-0.059318</td>\n",
              "      <td>-0.104315</td>\n",
              "    </tr>\n",
              "    <tr>\n",
              "      <th>갈현2동</th>\n",
              "      <td>-0.675440</td>\n",
              "      <td>0.032787</td>\n",
              "      <td>0.097775</td>\n",
              "      <td>-0.395642</td>\n",
              "      <td>0.244427</td>\n",
              "      <td>0.080925</td>\n",
              "      <td>0.462681</td>\n",
              "      <td>0.075103</td>\n",
              "      <td>-0.179652</td>\n",
              "      <td>-0.138109</td>\n",
              "    </tr>\n",
              "    <tr>\n",
              "      <th>개포1동</th>\n",
              "      <td>1.178407</td>\n",
              "      <td>-0.132153</td>\n",
              "      <td>0.035540</td>\n",
              "      <td>0.358068</td>\n",
              "      <td>-0.511077</td>\n",
              "      <td>-0.447158</td>\n",
              "      <td>-0.269525</td>\n",
              "      <td>0.068464</td>\n",
              "      <td>0.317769</td>\n",
              "      <td>0.119895</td>\n",
              "    </tr>\n",
              "  </tbody>\n",
              "</table>\n",
              "</div>"
            ],
            "text/plain": [
              "      인구가 비교적 적은 지역  1인 세대 및 20~30대 남녀가 많은 지역  노령 인구가 많은 지역  공기질 오염이 심한 지역  \\\n",
              "가양2동       0.338207                  0.301216      0.303639       0.087892   \n",
              "가양3동       0.317052                  0.224256      0.201343       0.075567   \n",
              "갈현1동       0.316409                  0.097126      0.075928      -0.392406   \n",
              "갈현2동      -0.675440                  0.032787      0.097775      -0.395642   \n",
              "개포1동       1.178407                 -0.132153      0.035540       0.358068   \n",
              "\n",
              "      공원녹지가 많은 지역  사업체가 많고 채식 소비가 많은 지역  초등학교 및 유치원이 많은 지역     거주 지역  \\\n",
              "가양2동     0.036253             -0.348108           0.156950 -0.257588   \n",
              "가양3동    -0.104940             -0.360364           0.243992 -0.248914   \n",
              "갈현1동     0.114279              0.097132          -0.377073 -0.156749   \n",
              "갈현2동     0.244427              0.080925           0.462681  0.075103   \n",
              "개포1동    -0.511077             -0.447158          -0.269525  0.068464   \n",
              "\n",
              "      상가 매출이 많은 곳  유동인구가 많은 지역  \n",
              "가양2동    -0.086238    -0.024465  \n",
              "가양3동     0.173667    -0.214045  \n",
              "갈현1동    -0.059318    -0.104315  \n",
              "갈현2동    -0.179652    -0.138109  \n",
              "개포1동     0.317769     0.119895  "
            ]
          },
          "execution_count": 21,
          "metadata": {},
          "output_type": "execute_result"
        }
      ],
      "source": [
        "pca_result.columns= population_column + environ_column + market_column\n",
        "pca_result.index = data.index\n",
        "pca_result.head()"
      ]
    },
    {
      "cell_type": "code",
      "execution_count": 31,
      "metadata": {},
      "outputs": [],
      "source": [
        "data_kind = 'removed_outlier_'"
      ]
    },
    {
      "cell_type": "code",
      "execution_count": 32,
      "metadata": {},
      "outputs": [],
      "source": [
        "pca_result.to_csv(f'./data_to_model/data_after_pca_with_{data_kind}{scale_kind}_scaled_{len(pca_result.columns)}_features.csv')"
      ]
    },
    {
      "cell_type": "code",
      "execution_count": null,
      "metadata": {},
      "outputs": [],
      "source": []
    }
  ],
  "metadata": {
    "colab": {
      "name": "pca.ipynb",
      "provenance": []
    },
    "interpreter": {
      "hash": "337f1a600d345c50cd007a2461b073851b5ec4b77bc6c65adb33d085b42175ad"
    },
    "kernelspec": {
      "display_name": "Python 3.9.5 64-bit ('base': conda)",
      "language": "python",
      "name": "python3"
    },
    "language_info": {
      "codemirror_mode": {
        "name": "ipython",
        "version": 3
      },
      "file_extension": ".py",
      "mimetype": "text/x-python",
      "name": "python",
      "nbconvert_exporter": "python",
      "pygments_lexer": "ipython3",
      "version": "3.8.0"
    },
    "orig_nbformat": 4
  },
  "nbformat": 4,
  "nbformat_minor": 0
}
