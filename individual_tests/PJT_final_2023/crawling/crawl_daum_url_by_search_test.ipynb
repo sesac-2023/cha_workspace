{
 "cells": [
  {
   "cell_type": "code",
   "execution_count": 2,
   "metadata": {},
   "outputs": [],
   "source": [
    "import requests\n",
    "from bs4 import BeautifulSoup\n",
    "import time"
   ]
  },
  {
   "cell_type": "code",
   "execution_count": null,
   "metadata": {},
   "outputs": [],
   "source": [
    "import requests\n",
    "from bs4 import BeautifulSoup\n",
    "import time\n",
    "\n",
    "url = 'https://search.daum.net/search'\n",
    "\n",
    "params = {\n",
    "    'w': 'news',\n",
    "    'nil_search': 'btn',\n",
    "    'DA': 'PGD',\n",
    "    'enc': 'utf8',\n",
    "    'cluster': 'y',\n",
    "    'cluster_page': '1',\n",
    "    'q': '도심형 스마트팜',  # 수직형 스마트팜, 도심형 스마트팜\n",
    "    'show_dns': '1',\n",
    "    'sd': '20200101000000',  # 뉴스 검색 시작 날짜\n",
    "    'ed': '20230930235959',  # 뉴스 검색 마지막 날짜 20230930235959\n",
    "    'period': 'u',\n",
    "    'p': 1,  # 페이지 1부터 같은 페이지가 나올 때까지 while True로 구현 += 1\n",
    "    'sort': 'old',\n",
    "}\n",
    "\n",
    "# 기사의 개별 url 가져오는 함수\n",
    "def get_urls(soup):\n",
    "    urls = []\n",
    "    for item in soup.select('.item-title'):\n",
    "        urls.append(item.select_one('a').attrs['href'])\n",
    "\n",
    "    return urls\n",
    "\n",
    "# 한 화면에 기사 10개가 담긴 페이지에서, 원하는 기간 동안, 기사 개별 url 가져오기 (페이지 넘김 기능 필요)\n",
    "previous_urls = None\n",
    "result = []\n",
    "while True:\n",
    "    response = requests.get(url, params=params)\n",
    "    soup = BeautifulSoup(response.text, 'html.parser')\n",
    "    urls = get_urls(soup)  \n",
    "    current_page_content = str(soup)\n",
    "\n",
    "    if previous_urls == urls:\n",
    "        break\n",
    "\n",
    "    # time.sleep(1)\n",
    "    print(f\"Page {params['p']} URLs:\", urls)\n",
    "\n",
    "    params['p'] += 1\n",
    "    previous_urls = urls\n",
    "    result.extend(urls)"
   ]
  },
  {
   "cell_type": "code",
   "execution_count": null,
   "metadata": {},
   "outputs": [],
   "source": [
    "# list -> json 파일로 내보내기\n",
    "import json\n",
    "\n",
    "file_path = f\"도심형_스마트팜_{len(result)}.json\"\n",
    "\n",
    "# Write the list to a JSON file\n",
    "with open(file_path, \"w\") as json_file:\n",
    "    json.dump(result, json_file)\n",
    "\n",
    "print(f\"list -> json 파일로 내보내기 완료 {file_path}\")"
   ]
  },
  {
   "cell_type": "code",
   "execution_count": 20,
   "metadata": {},
   "outputs": [
    {
     "name": "stdout",
     "output_type": "stream",
     "text": [
      "['http://v.daum.net/v/20200101124748465', 'http://v.daum.net/v/20200102070404064', 'http://v.daum.net/v/20200114162158326', 'http://v.daum.net/v/20200227130140912', 'http://v.daum.net/v/20200603122506797', 'http://v.daum.net/v/20200603162110991', 'http://v.daum.net/v/20200603162127004', 'http://v.daum.net/v/20200623102757471', 'http://v.daum.net/v/20200623102904523', 'http://v.daum.net/v/20200623103245700', 'http://v.daum.net/v/20200623103740974', 'http://v.daum.net/v/20200623110324318', 'http://v.daum.net/v/20200623132151210', 'http://v.daum.net/v/20200623135024418', 'http://v.daum.net/v/20200623141758104', 'http://v.daum.net/v/20200623142510639', 'http://v.daum.net/v/20200623154950605', 'http://v.daum.net/v/20200623160406475', 'http://v.daum.net/v/20200624093022963', 'http://v.daum.net/v/20200627080023151', 'http://v.daum.net/v/20200702155031626', 'http://v.daum.net/v/20200718100108207', 'http://v.daum.net/v/20200802173320371', 'http://v.daum.net/v/20200805184001556', 'http://v.daum.net/v/20200806142107788', 'http://v.daum.net/v/20200806144706944', 'http://v.daum.net/v/20200806153323826', 'http://v.daum.net/v/20200806155330657', 'http://v.daum.net/v/20200806155919871', 'http://v.daum.net/v/20200806160548212', 'http://v.daum.net/v/20200806163404450', 'http://v.daum.net/v/20200806165305244', 'http://v.daum.net/v/20200806170137610', 'http://v.daum.net/v/20200815100024775', 'http://v.daum.net/v/20200819091030093', 'http://v.daum.net/v/20200819153829272', 'http://v.daum.net/v/20200901145653774', 'http://v.daum.net/v/20200903150324459', 'http://v.daum.net/v/20200906134332835', 'http://v.daum.net/v/20200907170102336', 'http://v.daum.net/v/20200921153034774', 'http://v.daum.net/v/20200921164120961', 'http://v.daum.net/v/20200921164956286', 'http://v.daum.net/v/20200921171207114', 'http://v.daum.net/v/20200922162903433', 'http://v.daum.net/v/20200924103742953', 'http://v.daum.net/v/20200924120503069', 'http://v.daum.net/v/20200924121907504', 'http://v.daum.net/v/20200924123343931', 'http://v.daum.net/v/20200924150209616', 'http://v.daum.net/v/20200924161340351', 'http://v.daum.net/v/20200930080040432', 'http://v.daum.net/v/20201002090015052', 'http://v.daum.net/v/20201016153339571', 'http://v.daum.net/v/20201029112403774', 'http://v.daum.net/v/20201029115228128', 'http://v.daum.net/v/20201029160644758', 'http://v.daum.net/v/20201105143051691', 'http://v.daum.net/v/20201113110100677', 'http://v.daum.net/v/20201115173312280', 'http://v.daum.net/v/20201126060223252', 'http://v.daum.net/v/20201205111705644', 'http://v.daum.net/v/20201210172823660', 'http://v.daum.net/v/20201211030415850', 'http://v.daum.net/v/20201219170015452', 'http://v.daum.net/v/20201222190302728', 'http://v.daum.net/v/20210102085704942', 'http://v.daum.net/v/20210107125844090', 'http://v.daum.net/v/20210107203603831', 'http://v.daum.net/v/20210111093744109', 'http://v.daum.net/v/20210111093955190', 'http://v.daum.net/v/20210111101607119', 'http://v.daum.net/v/20210111103148058', 'http://v.daum.net/v/20210111112419074', 'http://v.daum.net/v/20210111130535313', 'http://v.daum.net/v/20210111135315842', 'http://v.daum.net/v/20210111170710610', 'http://v.daum.net/v/20210118102402844', 'http://v.daum.net/v/20210118154013424', 'http://v.daum.net/v/20210118190243051', 'http://v.daum.net/v/20210121101801933', 'http://v.daum.net/v/20210126162927285', 'http://v.daum.net/v/20210126164151780', 'http://v.daum.net/v/20210126164738970', 'http://v.daum.net/v/20210126170616612', 'http://v.daum.net/v/20210211090028065', 'http://v.daum.net/v/20210223135348514', 'http://v.daum.net/v/20210223155047555', 'http://v.daum.net/v/20210223161829831', 'http://v.daum.net/v/20210223163736536', 'http://v.daum.net/v/20210225050053054', 'http://v.daum.net/v/20210226170955059', 'http://v.daum.net/v/20210323115327302', 'http://v.daum.net/v/20210326132653971', 'http://v.daum.net/v/20210329092726702', 'http://v.daum.net/v/20210329094327410', 'http://v.daum.net/v/20210329104421616', 'http://v.daum.net/v/20210329110904080', 'http://v.daum.net/v/20210329131034144', 'http://v.daum.net/v/20210329153656480', 'http://v.daum.net/v/20210329162341424', 'http://v.daum.net/v/20210329175121943', 'http://v.daum.net/v/20210402030126417', 'http://v.daum.net/v/20210402165421855', 'http://v.daum.net/v/20210407201148060', 'http://v.daum.net/v/20210426050119106', 'http://v.daum.net/v/20210504141502709', 'http://v.daum.net/v/20210517171336335', 'http://v.daum.net/v/20210518083741708', 'http://v.daum.net/v/20210520084957177', 'http://v.daum.net/v/20210608104528852', 'http://v.daum.net/v/20210608111148376', 'http://v.daum.net/v/20210608111814708', 'http://v.daum.net/v/20210608140252789', 'http://v.daum.net/v/20210609020505386', 'http://v.daum.net/v/20210615134103124', 'http://v.daum.net/v/20210615135803627', 'http://v.daum.net/v/20210616154810528', 'http://v.daum.net/v/20210625112055443', 'http://v.daum.net/v/20210715145420173', 'http://v.daum.net/v/20210727001902832', 'http://v.daum.net/v/20210804172108343', 'http://v.daum.net/v/20210806155353848', 'http://v.daum.net/v/20210807090049311', 'http://v.daum.net/v/20210810070134408', 'http://v.daum.net/v/20210916091639030', 'http://v.daum.net/v/20210919070051442', 'http://v.daum.net/v/20211026120016875', 'http://v.daum.net/v/20211026120019886', 'http://v.daum.net/v/20211026120110968', 'http://v.daum.net/v/20211026135603636', 'http://v.daum.net/v/20211027080722176', 'http://v.daum.net/v/20211027103906478', 'http://v.daum.net/v/20211027114409813', 'http://v.daum.net/v/20211027120154657', 'http://v.daum.net/v/20211028050703043', 'http://v.daum.net/v/20211028095311696', 'http://v.daum.net/v/20211028101620944', 'http://v.daum.net/v/20211104060012729', 'http://v.daum.net/v/20211111103405531', 'http://v.daum.net/v/20211111113556745', 'http://v.daum.net/v/20211201144409214', 'http://v.daum.net/v/20211201163333265', 'http://v.daum.net/v/20211224162756039', 'http://v.daum.net/v/20211224163406192', 'http://v.daum.net/v/20211224171301039', 'http://v.daum.net/v/20211231050003772', 'http://v.daum.net/v/20220108100023394', 'http://v.daum.net/v/20220117153304138', 'http://v.daum.net/v/20220207162327887', 'http://v.daum.net/v/20220207165305968', 'http://v.daum.net/v/20220208085102567', 'http://v.daum.net/v/20220208094008198', 'http://v.daum.net/v/20220219090101905', 'http://v.daum.net/v/20220227113913532', 'http://v.daum.net/v/20220318100035569', 'http://v.daum.net/v/20220318140021267', 'http://v.daum.net/v/20220330074426981', 'http://v.daum.net/v/20220330092638664', 'http://v.daum.net/v/20220410100100302', 'http://v.daum.net/v/20220415104953976', 'http://v.daum.net/v/20220430090033522', 'http://v.daum.net/v/20220507053709532', 'http://v.daum.net/v/20220507224312030', 'http://v.daum.net/v/20220516142403041', 'http://v.daum.net/v/20220526123908376', 'http://v.daum.net/v/20220530070507734', 'http://v.daum.net/v/20220611122028552', 'http://v.daum.net/v/20220714175122152', 'http://v.daum.net/v/20220714214302861', 'http://v.daum.net/v/20220723150012742', 'http://v.daum.net/v/20220803133736827', 'http://v.daum.net/v/20220803135637480', 'http://v.daum.net/v/20220809100003006', 'http://v.daum.net/v/20220811181028169', 'http://v.daum.net/v/20220817090400781', 'http://v.daum.net/v/20220914085820832', 'http://v.daum.net/v/20220914093601290', 'http://v.daum.net/v/20220914094542680', 'http://v.daum.net/v/20220914094734741', 'http://v.daum.net/v/20220914100712742', 'http://v.daum.net/v/20220914102313468', 'http://v.daum.net/v/20220914161837158', 'http://v.daum.net/v/20220914201233365', 'http://v.daum.net/v/20220919082934295', 'http://v.daum.net/v/20220929165400195', 'http://v.daum.net/v/20221005115030027', 'http://v.daum.net/v/20221011161902463', 'http://v.daum.net/v/20221023204009112', 'http://v.daum.net/v/20221117054503135', 'http://v.daum.net/v/20221118170606980', 'http://v.daum.net/v/20221122153102753', 'http://v.daum.net/v/20221122164902216', 'http://v.daum.net/v/20221124234302143', 'http://v.daum.net/v/20221227173943759', 'http://v.daum.net/v/20221227182909228', 'http://v.daum.net/v/20221228053425060', 'http://v.daum.net/v/20221228170524633', 'http://v.daum.net/v/20230104050206953', 'http://v.daum.net/v/20230104183611314', 'http://v.daum.net/v/20230105085438791', 'http://v.daum.net/v/20230106135429360', 'http://v.daum.net/v/20230106145313090', 'http://v.daum.net/v/20230106151605856', 'http://v.daum.net/v/20230106152802172', 'http://v.daum.net/v/20230106162103645', 'http://v.daum.net/v/20230107175003737', 'http://v.daum.net/v/20230108000105897', 'http://v.daum.net/v/20230108204801223', 'http://v.daum.net/v/20230109110028937', 'http://v.daum.net/v/20230109175121658', 'http://v.daum.net/v/20230111184202497', 'http://v.daum.net/v/20230208000310811', 'http://v.daum.net/v/20230208123413723', 'http://v.daum.net/v/20230210002100603', 'http://v.daum.net/v/20230214110125659', 'http://v.daum.net/v/20230220165912356', 'http://v.daum.net/v/20230221090223569', 'http://v.daum.net/v/20230221100006835', 'http://v.daum.net/v/20230224141650516', 'http://v.daum.net/v/20230226180826857', 'http://v.daum.net/v/20230306093820118', 'http://v.daum.net/v/20230420150105061', 'http://v.daum.net/v/20230427100034699', 'http://v.daum.net/v/20230427134605352', 'http://v.daum.net/v/20230522162030517', 'http://v.daum.net/v/20230522163752158', 'http://v.daum.net/v/20230524141844111', 'http://v.daum.net/v/20230524164631136', 'http://v.daum.net/v/20230623060052149', 'http://v.daum.net/v/20230702000026862', 'http://v.daum.net/v/20230703100712997', 'http://v.daum.net/v/20230721175706726', 'http://v.daum.net/v/20230802071226699', 'http://v.daum.net/v/20230802093357005', 'http://v.daum.net/v/20230802151646935', 'http://v.daum.net/v/20230802160245769', 'http://v.daum.net/v/20230805070043830', 'http://v.daum.net/v/20230829045905292', 'http://v.daum.net/v/20230908100011525', 'http://v.daum.net/v/20230908180320244', 'http://v.daum.net/v/20230911171321822', 'http://v.daum.net/v/20230915050205460', 'http://v.daum.net/v/20230927105630171', 'http://v.daum.net/v/20230929110026541', 'http://v.daum.net/v/20230930095357615']\n"
     ]
    }
   ],
   "source": [
    "# json 파일 -> list 로 읽기\n",
    "with open(file_path, \"r\") as json_file:\n",
    "    data = json.load(json_file)\n",
    "print(data)"
   ]
  }
 ],
 "metadata": {
  "kernelspec": {
   "display_name": "base",
   "language": "python",
   "name": "python3"
  },
  "language_info": {
   "codemirror_mode": {
    "name": "ipython",
    "version": 3
   },
   "file_extension": ".py",
   "mimetype": "text/x-python",
   "name": "python",
   "nbconvert_exporter": "python",
   "pygments_lexer": "ipython3",
   "version": "3.10.9"
  }
 },
 "nbformat": 4,
 "nbformat_minor": 2
}
