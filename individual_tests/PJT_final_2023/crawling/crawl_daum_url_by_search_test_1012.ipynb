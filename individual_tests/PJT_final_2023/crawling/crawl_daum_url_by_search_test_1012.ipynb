{
 "cells": [
  {
   "cell_type": "code",
   "execution_count": 126,
   "metadata": {},
   "outputs": [],
   "source": [
    "import requests\n",
    "from bs4 import BeautifulSoup\n",
    "import time\n",
    "import re\n",
    "import pandas as pd"
   ]
  },
  {
   "cell_type": "markdown",
   "metadata": {},
   "source": [
    "기사 개별 url 가져오기"
   ]
  },
  {
   "cell_type": "code",
   "execution_count": 178,
   "metadata": {},
   "outputs": [
    {
     "name": "stdout",
     "output_type": "stream",
     "text": [
      "Page 1 URLs: []\n",
      "0\n"
     ]
    }
   ],
   "source": [
    "url = 'https://search.daum.net/search'\n",
    "\n",
    "search_keywords = ['도시형 스마트팜', '도심형 스마트팜', '수직형 스마트팜']\n",
    "\n",
    "params = {\n",
    "    'w': 'news',\n",
    "    'nil_search': 'btn',\n",
    "    'DA': 'PGD',\n",
    "    'enc': 'utf8',\n",
    "    'cluster': 'y',\n",
    "    'cluster_page': '1',\n",
    "    'q': '수직형 스마트팜',  # 수직형 스마트팜, 도심형 스마트팜, 도시형 스마트팜\n",
    "    'show_dns': '1',\n",
    "    'sd': '20200101000000',  # 뉴스 검색 시작 날짜\n",
    "    'ed': '20230930235959',  # 뉴스 검색 마지막 날짜 20230930235959\n",
    "    'period': 'u',\n",
    "    'p': 1,  # 페이지 1부터 같은 페이지가 나올 때까지 while True로 구현 += 1\n",
    "    'sort': 'old',\n",
    "}\n",
    "\n",
    "# 기사의 개별 url 가져오는 함수\n",
    "def get_urls(soup):\n",
    "    urls = []\n",
    "    for item in soup.select('.item-title'):\n",
    "        urls.append(item.select_one('a').attrs['href'])\n",
    "\n",
    "    return urls\n",
    "\n",
    "# 한 화면에 기사 20개가 담긴 페이지에서, 원하는 기간 동안, 기사 개별 url 가져오기 (페이지 넘김 기능)\n",
    "\n",
    "result = []\n",
    "previous_urls = None\n",
    "while True:\n",
    "    response = requests.get(url, params=params)\n",
    "    soup = BeautifulSoup(response.text, 'html.parser')\n",
    "    urls = get_urls(soup)  \n",
    "    # current_page_content = str(soup)\n",
    "\n",
    "    if previous_urls == urls:\n",
    "        break\n",
    "\n",
    "    # time.sleep(1)\n",
    "    print(f\"Page {params['p']} URLs:\", urls)\n",
    "\n",
    "    params['p'] += 1\n",
    "    previous_urls = urls\n",
    "    result.extend(urls)\n",
    "print(len(result))"
   ]
  },
  {
   "cell_type": "markdown",
   "metadata": {},
   "source": [
    "다음 뉴스 본문 가져오기"
   ]
  },
  {
   "cell_type": "code",
   "execution_count": 174,
   "metadata": {},
   "outputs": [],
   "source": [
    "def get_articles_to_df(result):\n",
    "    articles = []\n",
    "    for url in result:\n",
    "        article = {}\n",
    "        response = requests.get(url)\n",
    "        soup = BeautifulSoup(response.text, 'html.parser')\n",
    "        title = soup.select_one('#mArticle > div.head_view > h3').text\n",
    "        date = ''.join([data.zfill(2) for data in re.findall(r'\\d+', soup.select_one('.info_view').text)[:3]])\n",
    "        # date = soup.select_one('#mArticle > div.head_view > div.info_view > span:nth-child(2)').text\n",
    "        content = re.sub('\\n|\\t|\\r','', soup.select_one('.article_view').text.strip())\n",
    "\n",
    "        article = {\n",
    "            'title' : title,\n",
    "            'date' : date,\n",
    "            'content' : content\n",
    "        }\n",
    "        articles.append(article)\n",
    "    df = pd.DataFrame(articles)\n",
    "    df.to_csv(f\"articles_{params['q']}_{params['sd'][:8]}_.csv\")\n",
    "    return df\n",
    "    \n",
    "df = get_articles_to_df(result)"
   ]
  },
  {
   "cell_type": "code",
   "execution_count": 175,
   "metadata": {},
   "outputs": [
    {
     "data": {
      "text/html": [
       "<div>\n",
       "<style scoped>\n",
       "    .dataframe tbody tr th:only-of-type {\n",
       "        vertical-align: middle;\n",
       "    }\n",
       "\n",
       "    .dataframe tbody tr th {\n",
       "        vertical-align: top;\n",
       "    }\n",
       "\n",
       "    .dataframe thead th {\n",
       "        text-align: right;\n",
       "    }\n",
       "</style>\n",
       "<table border=\"1\" class=\"dataframe\">\n",
       "  <thead>\n",
       "    <tr style=\"text-align: right;\">\n",
       "      <th></th>\n",
       "      <th>title</th>\n",
       "      <th>date</th>\n",
       "      <th>content</th>\n",
       "    </tr>\n",
       "  </thead>\n",
       "  <tbody>\n",
       "    <tr>\n",
       "      <th>0</th>\n",
       "      <td>미래를 여는 열쇠 사람과 환경 중심의 농업 농촌</td>\n",
       "      <td>20200221</td>\n",
       "      <td>국민께서 확실한 변화를 체감할 수 있도록 ‘사람과 환경 중심의 농정개혁’의 틀을 정...</td>\n",
       "    </tr>\n",
       "    <tr>\n",
       "      <th>1</th>\n",
       "      <td>진주乙 강민국, 젊은 심장 뛰는 진주 선언</td>\n",
       "      <td>20200407</td>\n",
       "      <td>[김동수 기자(=진주)(kdsu21@naver.com)]           진주 '...</td>\n",
       "    </tr>\n",
       "    <tr>\n",
       "      <th>2</th>\n",
       "      <td>안동시, 대도약 10대 프로젝트 추진..정책간담회서 논의</td>\n",
       "      <td>20200423</td>\n",
       "      <td>[안동=뉴시스] 김진호 기자 = 안동문화예술의전당 국제회의장에서 예산정책 간담회가 ...</td>\n",
       "    </tr>\n",
       "    <tr>\n",
       "      <th>3</th>\n",
       "      <td>안동시, '안동형 일자리'로 '포스트 코로나19' 올(All) 극복</td>\n",
       "      <td>20200507</td>\n",
       "      <td>경북 안동시가 '안동형 일자리'로 '포스트 코로나19'를 올(All) 극복한다. 3...</td>\n",
       "    </tr>\n",
       "    <tr>\n",
       "      <th>4</th>\n",
       "      <td>[인터뷰]김상범 서울교통공사 사장\"시민 신뢰 얻을 수 있는 최고 수준 안전 확보 최...</td>\n",
       "      <td>20200620</td>\n",
       "      <td>[아시아경제 박종일 기자] 김상범 서울교통공사 사장이 20일로 취임 2개월20일을 ...</td>\n",
       "    </tr>\n",
       "    <tr>\n",
       "      <th>...</th>\n",
       "      <td>...</td>\n",
       "      <td>...</td>\n",
       "      <td>...</td>\n",
       "    </tr>\n",
       "    <tr>\n",
       "      <th>271</th>\n",
       "      <td>방치됐던 명동 건물···최첨단 '딸기농장' 들어섰다</td>\n",
       "      <td>20230908</td>\n",
       "      <td>8일 서울 중구 명동에 문을 연 스마트팜 기업 넥스트온의 ‘매드베리팜하우스’를 찾은...</td>\n",
       "    </tr>\n",
       "    <tr>\n",
       "      <th>272</th>\n",
       "      <td>푸르메 재단·병원·농장 이어 '마을'…장애인을 위한 꿈은 계속 된다</td>\n",
       "      <td>20230911</td>\n",
       "      <td>[이명선 기자(overview@pressian.com)]\"1%의 우연이 필연이 되는...</td>\n",
       "    </tr>\n",
       "    <tr>\n",
       "      <th>273</th>\n",
       "      <td>텃밭 전문가 키우고 맞춤형 원예교육 … ‘도시농업 메카’ 일궈 [지방기획]</td>\n",
       "      <td>20230913</td>\n",
       "      <td>부산은 국내 대도시 가운데 엽채류·과채류·화훼류를 재배하는 근교농업과 시설원예가 발...</td>\n",
       "    </tr>\n",
       "    <tr>\n",
       "      <th>274</th>\n",
       "      <td>글로컬 상생 위해 순천시장-서울시교육감-순천대총장 뭉쳤다</td>\n",
       "      <td>20230914</td>\n",
       "      <td>[문경화 기자(=순천)(988810@hanmail.net)]노관규 순천시장은 조희연...</td>\n",
       "    </tr>\n",
       "    <tr>\n",
       "      <th>275</th>\n",
       "      <td>[르포]\"최저시급 받던 장애인 가족이 공동대표가 됐습니다\"</td>\n",
       "      <td>20230929</td>\n",
       "      <td>작업자가 가치만드소 광주지역센터 내부 식물재배실에서 작업을 하고 있다. (가치만드소...</td>\n",
       "    </tr>\n",
       "  </tbody>\n",
       "</table>\n",
       "<p>276 rows × 3 columns</p>\n",
       "</div>"
      ],
      "text/plain": [
       "                                                 title      date  \\\n",
       "0                           미래를 여는 열쇠 사람과 환경 중심의 농업 농촌  20200221   \n",
       "1                              진주乙 강민국, 젊은 심장 뛰는 진주 선언  20200407   \n",
       "2                      안동시, 대도약 10대 프로젝트 추진..정책간담회서 논의  20200423   \n",
       "3                안동시, '안동형 일자리'로 '포스트 코로나19' 올(All) 극복  20200507   \n",
       "4    [인터뷰]김상범 서울교통공사 사장\"시민 신뢰 얻을 수 있는 최고 수준 안전 확보 최...  20200620   \n",
       "..                                                 ...       ...   \n",
       "271                       방치됐던 명동 건물···최첨단 '딸기농장' 들어섰다  20230908   \n",
       "272              푸르메 재단·병원·농장 이어 '마을'…장애인을 위한 꿈은 계속 된다  20230911   \n",
       "273          텃밭 전문가 키우고 맞춤형 원예교육 … ‘도시농업 메카’ 일궈 [지방기획]  20230913   \n",
       "274                    글로컬 상생 위해 순천시장-서울시교육감-순천대총장 뭉쳤다  20230914   \n",
       "275                   [르포]\"최저시급 받던 장애인 가족이 공동대표가 됐습니다\"  20230929   \n",
       "\n",
       "                                               content  \n",
       "0    국민께서 확실한 변화를 체감할 수 있도록 ‘사람과 환경 중심의 농정개혁’의 틀을 정...  \n",
       "1    [김동수 기자(=진주)(kdsu21@naver.com)]           진주 '...  \n",
       "2    [안동=뉴시스] 김진호 기자 = 안동문화예술의전당 국제회의장에서 예산정책 간담회가 ...  \n",
       "3    경북 안동시가 '안동형 일자리'로 '포스트 코로나19'를 올(All) 극복한다. 3...  \n",
       "4    [아시아경제 박종일 기자] 김상범 서울교통공사 사장이 20일로 취임 2개월20일을 ...  \n",
       "..                                                 ...  \n",
       "271  8일 서울 중구 명동에 문을 연 스마트팜 기업 넥스트온의 ‘매드베리팜하우스’를 찾은...  \n",
       "272  [이명선 기자(overview@pressian.com)]\"1%의 우연이 필연이 되는...  \n",
       "273  부산은 국내 대도시 가운데 엽채류·과채류·화훼류를 재배하는 근교농업과 시설원예가 발...  \n",
       "274  [문경화 기자(=순천)(988810@hanmail.net)]노관규 순천시장은 조희연...  \n",
       "275  작업자가 가치만드소 광주지역센터 내부 식물재배실에서 작업을 하고 있다. (가치만드소...  \n",
       "\n",
       "[276 rows x 3 columns]"
      ]
     },
     "execution_count": 175,
     "metadata": {},
     "output_type": "execute_result"
    }
   ],
   "source": [
    "df"
   ]
  },
  {
   "cell_type": "code",
   "execution_count": 176,
   "metadata": {},
   "outputs": [],
   "source": [
    "df.to_csv(f\"articles_{params['q']}_{params['sd'][:8]}_.csv\")"
   ]
  },
  {
   "cell_type": "markdown",
   "metadata": {},
   "source": [
    "---\n",
    "json dump 필요시"
   ]
  },
  {
   "cell_type": "code",
   "execution_count": 14,
   "metadata": {},
   "outputs": [
    {
     "name": "stdout",
     "output_type": "stream",
     "text": [
      "list -> json 파일로 내보내기 완료 수직_농장_800.json\n"
     ]
    }
   ],
   "source": [
    "# list -> json 파일로 내보내기\n",
    "import json\n",
    "\n",
    "file_path = f\"수직_농장_{len(result)}.json\"\n",
    "\n",
    "# Write the list to a JSON file\n",
    "with open(file_path, \"w\") as json_file:\n",
    "    json.dump(result, json_file)\n",
    "\n",
    "print(f\"list -> json 파일로 내보내기 완료 {file_path}\")"
   ]
  },
  {
   "cell_type": "code",
   "execution_count": 57,
   "metadata": {},
   "outputs": [
    {
     "name": "stdout",
     "output_type": "stream",
     "text": [
      "['http://v.daum.net/v/20200102134531371', 'http://v.daum.net/v/20200103144228911', 'http://v.daum.net/v/20200104140154605', 'http://v.daum.net/v/20200104140208609', 'http://v.daum.net/v/20200105150102692', 'http://v.daum.net/v/20200106105905621', 'http://v.daum.net/v/20200107060020898', 'http://v.daum.net/v/20200107060144002', 'http://v.daum.net/v/20200107073915065', 'http://v.daum.net/v/20200107133159246', 'http://v.daum.net/v/20200108141118834', 'http://v.daum.net/v/20200108172602390', 'http://v.daum.net/v/20200109091153730', 'http://v.daum.net/v/20200109091330814', 'http://v.daum.net/v/20200113164605877', 'http://v.daum.net/v/20200113165038076', 'http://v.daum.net/v/20200113173903748', 'http://v.daum.net/v/20200115152330118', 'http://v.daum.net/v/20200116031210375', 'http://v.daum.net/v/20200116115551378', 'http://v.daum.net/v/20200117102018458', 'http://v.daum.net/v/20200117141235123', 'http://v.daum.net/v/20200120114306705', 'http://v.daum.net/v/20200120122635140', 'http://v.daum.net/v/20200121110435725', 'http://v.daum.net/v/20200121204505417', 'http://v.daum.net/v/20200122091836554', 'http://v.daum.net/v/20200122141718386', 'http://v.daum.net/v/20200122165236399', 'http://v.daum.net/v/20200128092703156', 'http://v.daum.net/v/20200131141352680', 'http://v.daum.net/v/20200203092024358', 'http://v.daum.net/v/20200203155204376', 'http://v.daum.net/v/20200205084556529', 'http://v.daum.net/v/20200210115655653', 'http://v.daum.net/v/20200225110504650', 'http://v.daum.net/v/20200225180405547', 'http://v.daum.net/v/20200226081636728', 'http://v.daum.net/v/20200226081955800', 'http://v.daum.net/v/20200226082155837', 'http://v.daum.net/v/20200226082409879', 'http://v.daum.net/v/20200226082907967', 'http://v.daum.net/v/20200226082951982', 'http://v.daum.net/v/20200226083534126', 'http://v.daum.net/v/20200226084202288', 'http://v.daum.net/v/20200226085552625', 'http://v.daum.net/v/20200226092226671', 'http://v.daum.net/v/20200226094307517', 'http://v.daum.net/v/20200226100335373', 'http://v.daum.net/v/20200226102809502', 'http://v.daum.net/v/20200302060753526', 'http://v.daum.net/v/20200302111047943', 'http://v.daum.net/v/20200303091403780', 'http://v.daum.net/v/20200303110457250', 'http://v.daum.net/v/20200304111638606', 'http://v.daum.net/v/20200304151203861', 'http://v.daum.net/v/20200305142558328', 'http://v.daum.net/v/20200305170134985', 'http://v.daum.net/v/20200311090223040', 'http://v.daum.net/v/20200312055005046', 'http://v.daum.net/v/20200318170129587', 'http://v.daum.net/v/20200324093445392', 'http://v.daum.net/v/20200325154618050', 'http://v.daum.net/v/20200326091050801', 'http://v.daum.net/v/20200326092538553', 'http://v.daum.net/v/20200330110645843', 'http://v.daum.net/v/20200330144231916', 'http://v.daum.net/v/20200401091442490', 'http://v.daum.net/v/20200401091834689', 'http://v.daum.net/v/20200402125539529', 'http://v.daum.net/v/20200403090945088', 'http://v.daum.net/v/20200406111238770', 'http://v.daum.net/v/20200407093100344', 'http://v.daum.net/v/20200408103003231', 'http://v.daum.net/v/20200408143924066', 'http://v.daum.net/v/20200408145712995', 'http://v.daum.net/v/20200409093644292', 'http://v.daum.net/v/20200409141331601', 'http://v.daum.net/v/20200413120351845', 'http://v.daum.net/v/20200414092351817', 'http://v.daum.net/v/20200414094453924', 'http://v.daum.net/v/20200415173002736', 'http://v.daum.net/v/20200420125624393', 'http://v.daum.net/v/20200420140305473', 'http://v.daum.net/v/20200423110236961', 'http://v.daum.net/v/20200423151830641', 'http://v.daum.net/v/20200427091424084', 'http://v.daum.net/v/20200427135924780', 'http://v.daum.net/v/20200429094542459', 'http://v.daum.net/v/20200504110227264', 'http://v.daum.net/v/20200506110442748', 'http://v.daum.net/v/20200511071200160', 'http://v.daum.net/v/20200511180019862', 'http://v.daum.net/v/20200512173620745', 'http://v.daum.net/v/20200515151626685', 'http://v.daum.net/v/20200516100022926', 'http://v.daum.net/v/20200518155400041', 'http://v.daum.net/v/20200518174802768', 'http://v.daum.net/v/20200522112230432', 'http://v.daum.net/v/20200525094420459', 'http://v.daum.net/v/20200528095022342', 'http://v.daum.net/v/20200529090847382', 'http://v.daum.net/v/20200530071602231', 'http://v.daum.net/v/20200531165700752', 'http://v.daum.net/v/20200531175102834', 'http://v.daum.net/v/20200602090845841', 'http://v.daum.net/v/20200604125153736', 'http://v.daum.net/v/20200604132730560', 'http://v.daum.net/v/20200605114602225', 'http://v.daum.net/v/20200609100601332', 'http://v.daum.net/v/20200611060015437', 'http://v.daum.net/v/20200617140106885', 'http://v.daum.net/v/20200620081013806', 'http://v.daum.net/v/20200622112333881', 'http://v.daum.net/v/20200624142403047', 'http://v.daum.net/v/20200630094931951', 'http://v.daum.net/v/20200630130331519', 'http://v.daum.net/v/20200701090836588', 'http://v.daum.net/v/20200701091630970', 'http://v.daum.net/v/20200702091421071', 'http://v.daum.net/v/20200703171501540', 'http://v.daum.net/v/20200712060314363', 'http://v.daum.net/v/20200712060320366', 'http://v.daum.net/v/20200712182701932', 'http://v.daum.net/v/20200714163801393', 'http://v.daum.net/v/20200715073021711', 'http://v.daum.net/v/20200716060123560', 'http://v.daum.net/v/20200716152517026', 'http://v.daum.net/v/20200719094205173', 'http://v.daum.net/v/20200723003458269', 'http://v.daum.net/v/20200725091449984', 'http://v.daum.net/v/20200726160000512', 'http://v.daum.net/v/20200727102002049', 'http://v.daum.net/v/20200729172103554', 'http://v.daum.net/v/20200729181601450', 'http://v.daum.net/v/20200730030230726', 'http://v.daum.net/v/20200810105400566', 'http://v.daum.net/v/20200811143542802', 'http://v.daum.net/v/20200812103538896', 'http://v.daum.net/v/20200814145728631', 'http://v.daum.net/v/20200818153903719', 'http://v.daum.net/v/20200820151010191', 'http://v.daum.net/v/20200820170007955', 'http://v.daum.net/v/20200825082619546', 'http://v.daum.net/v/20200825082815601', 'http://v.daum.net/v/20200825083836891', 'http://v.daum.net/v/20200825090723844', 'http://v.daum.net/v/20200825092115458', 'http://v.daum.net/v/20200825093408030', 'http://v.daum.net/v/20200825093801205', 'http://v.daum.net/v/20200825094946758', 'http://v.daum.net/v/20200825101220008', 'http://v.daum.net/v/20200825114131661', 'http://v.daum.net/v/20200825141636998', 'http://v.daum.net/v/20200825143456822', 'http://v.daum.net/v/20200825153809042', 'http://v.daum.net/v/20200825173022245', 'http://v.daum.net/v/20200825173545420', 'http://v.daum.net/v/20200826112310149', 'http://v.daum.net/v/20200826182539231', 'http://v.daum.net/v/20200829080259547', 'http://v.daum.net/v/20200901061022241', 'http://v.daum.net/v/20200901083252677', 'http://v.daum.net/v/20200902010006062', 'http://v.daum.net/v/20200902143811688', 'http://v.daum.net/v/20200902185952287', 'http://v.daum.net/v/20200904150713097', 'http://v.daum.net/v/20200909092701210', 'http://v.daum.net/v/20200909095331630', 'http://v.daum.net/v/20200909174909733', 'http://v.daum.net/v/20200913101602156', 'http://v.daum.net/v/20200916142609811', 'http://v.daum.net/v/20200917101718332', 'http://v.daum.net/v/20200917104502669', 'http://v.daum.net/v/20200917111831593', 'http://v.daum.net/v/20200917152914603', 'http://v.daum.net/v/20200918173012427', 'http://v.daum.net/v/20200922152107463', 'http://v.daum.net/v/20200923104802057', 'http://v.daum.net/v/20200923105708529', 'http://v.daum.net/v/20200923111505658', 'http://v.daum.net/v/20200923111505660', 'http://v.daum.net/v/20200923111520692', 'http://v.daum.net/v/20200923111654787', 'http://v.daum.net/v/20200923142732068', 'http://v.daum.net/v/20200923153915222', 'http://v.daum.net/v/20200923172539937', 'http://v.daum.net/v/20200924040210310', 'http://v.daum.net/v/20200924040311329', 'http://v.daum.net/v/20200924181502546', 'http://v.daum.net/v/20200925003454939', 'http://v.daum.net/v/20200925042005469', 'http://v.daum.net/v/20200925060612021', 'http://v.daum.net/v/20200925083450254', 'http://v.daum.net/v/20201002090008040', 'http://v.daum.net/v/20201007070219160', 'http://v.daum.net/v/20201007070343204', 'http://v.daum.net/v/20201007082336516', 'http://v.daum.net/v/20201007113713052', 'http://v.daum.net/v/20201007113713051', 'http://v.daum.net/v/20201010000044350', 'http://v.daum.net/v/20201010031135508', 'http://v.daum.net/v/20201010115748376', 'http://v.daum.net/v/20201011070006162', 'http://v.daum.net/v/20201011081359659', 'http://v.daum.net/v/20201011134001530', 'http://v.daum.net/v/20201013060020898', 'http://v.daum.net/v/20201014062428596', 'http://v.daum.net/v/20201014084155175', 'http://v.daum.net/v/20201014110416942', 'http://v.daum.net/v/20201015104603003', 'http://v.daum.net/v/20201015160008115', 'http://v.daum.net/v/20201018165803392', 'http://v.daum.net/v/20201020173300426', 'http://v.daum.net/v/20201021135016423', 'http://v.daum.net/v/20201021170212643', 'http://v.daum.net/v/20201022112911673', 'http://v.daum.net/v/20201022113555035', 'http://v.daum.net/v/20201022134131139', 'http://v.daum.net/v/20201026071155727', 'http://v.daum.net/v/20201026074311054', 'http://v.daum.net/v/20201026100528967', 'http://v.daum.net/v/20201026130235727', 'http://v.daum.net/v/20201027151912014', 'http://v.daum.net/v/20201029192814439', 'http://v.daum.net/v/20201030060013142', 'http://v.daum.net/v/20201030170804211', 'http://v.daum.net/v/20201102050204091', 'http://v.daum.net/v/20201104061815728', 'http://v.daum.net/v/20201106133040226', 'http://v.daum.net/v/20201109030659179', 'http://v.daum.net/v/20201109112856365', 'http://v.daum.net/v/20201111080628582', 'http://v.daum.net/v/20201111080844636', 'http://v.daum.net/v/20201119115307155', 'http://v.daum.net/v/20201120004950189', 'http://v.daum.net/v/20201123115028634', 'http://v.daum.net/v/20201126040630883', 'http://v.daum.net/v/20201202090039388', 'http://v.daum.net/v/20201202173052816', 'http://v.daum.net/v/20201203112607559', 'http://v.daum.net/v/20201203113811171', 'http://v.daum.net/v/20201204030814088', 'http://v.daum.net/v/20201204075804366', 'http://v.daum.net/v/20201204170903353', 'http://v.daum.net/v/20201205010244151', 'http://v.daum.net/v/20201209090041430', 'http://v.daum.net/v/20201209102102143', 'http://v.daum.net/v/20201209102313273', 'http://v.daum.net/v/20201209102809513', 'http://v.daum.net/v/20201209134547142', 'http://v.daum.net/v/20201209214546118', 'http://v.daum.net/v/20201210070123414', 'http://v.daum.net/v/20201210110102168', 'http://v.daum.net/v/20201210120417442', 'http://v.daum.net/v/20201210150000132', 'http://v.daum.net/v/20201210150011162', 'http://v.daum.net/v/20201210150019176', 'http://v.daum.net/v/20201210150055213', 'http://v.daum.net/v/20201210150131257', 'http://v.daum.net/v/20201210152108233', 'http://v.daum.net/v/20201210160115381', 'http://v.daum.net/v/20201210161129918', 'http://v.daum.net/v/20201210175302524', 'http://v.daum.net/v/20201210195444906', 'http://v.daum.net/v/20201211095747345', 'http://v.daum.net/v/20201211125335422', 'http://v.daum.net/v/20201214172550570', 'http://v.daum.net/v/20201219095602311', 'http://v.daum.net/v/20201221173136316', 'http://v.daum.net/v/20201224030435943', 'http://v.daum.net/v/20201226041012241', 'http://v.daum.net/v/20201227164349244', 'http://v.daum.net/v/20201227204606525', 'http://v.daum.net/v/20201228154944674', 'http://v.daum.net/v/20201228174437531', 'http://v.daum.net/v/20201229031141136', 'http://v.daum.net/v/20210106135949487', 'http://v.daum.net/v/20210108102016811', 'http://v.daum.net/v/20210108102103844', 'http://v.daum.net/v/20210110101145866', 'http://v.daum.net/v/20210111192716427', 'http://v.daum.net/v/20210112144002227', 'http://v.daum.net/v/20210112144006231', 'http://v.daum.net/v/20210112144009234', 'http://v.daum.net/v/20210112144013238', 'http://v.daum.net/v/20210112144017243', 'http://v.daum.net/v/20210112144020246', 'http://v.daum.net/v/20210112144024249', 'http://v.daum.net/v/20210112144028254', 'http://v.daum.net/v/20210112144032256', 'http://v.daum.net/v/20210112144038260', 'http://v.daum.net/v/20210112144041263', 'http://v.daum.net/v/20210112152307388', 'http://v.daum.net/v/20210112152311390', 'http://v.daum.net/v/20210112152328396', 'http://v.daum.net/v/20210112152342405', 'http://v.daum.net/v/20210112160823599', 'http://v.daum.net/v/20210112161151744', 'http://v.daum.net/v/20210112161213775', 'http://v.daum.net/v/20210112161438907', 'http://v.daum.net/v/20210112161648014', 'http://v.daum.net/v/20210112161909115', 'http://v.daum.net/v/20210112162244257', 'http://v.daum.net/v/20210112162430365', 'http://v.daum.net/v/20210112162531396', 'http://v.daum.net/v/20210112162736475', 'http://v.daum.net/v/20210112202344915', 'http://v.daum.net/v/20210112202824016', 'http://v.daum.net/v/20210113085737722', 'http://v.daum.net/v/20210113091851652', 'http://v.daum.net/v/20210113101611361', 'http://v.daum.net/v/20210113102924038', 'http://v.daum.net/v/20210114200101579', 'http://v.daum.net/v/20210115050625559', 'http://v.daum.net/v/20210115170302882', 'http://v.daum.net/v/20210116030119688', 'http://v.daum.net/v/20210116080027910', 'http://v.daum.net/v/20210117135502179', 'http://v.daum.net/v/20210117175602238', 'http://v.daum.net/v/20210118154013424', 'http://v.daum.net/v/20210118190243051', 'http://v.daum.net/v/20210120083018745', 'http://v.daum.net/v/20210120144221225', 'http://v.daum.net/v/20210121095002547', 'http://v.daum.net/v/20210121121952896', 'http://v.daum.net/v/20210122095953143', 'http://v.daum.net/v/20210122175810690', 'http://v.daum.net/v/20210125030227192', 'http://v.daum.net/v/20210126130420625', 'http://v.daum.net/v/20210126145435000', 'http://v.daum.net/v/20210126163951702', 'http://v.daum.net/v/20210127040622339', 'http://v.daum.net/v/20210127043113459', 'http://v.daum.net/v/20210127104310784', 'http://v.daum.net/v/20210202133609474', 'http://v.daum.net/v/20210204111628838', 'http://v.daum.net/v/20210204154303430', 'http://v.daum.net/v/20210207153848177', 'http://v.daum.net/v/20210208040159924', 'http://v.daum.net/v/20210208080000355', 'http://v.daum.net/v/20210209154208609', 'http://v.daum.net/v/20210210080602960', 'http://v.daum.net/v/20210210115045528', 'http://v.daum.net/v/20210210132702168', 'http://v.daum.net/v/20210210143106687', 'http://v.daum.net/v/20210210164545186', 'http://v.daum.net/v/20210210183519717', 'http://v.daum.net/v/20210211000326611', 'http://v.daum.net/v/20210211030121546', 'http://v.daum.net/v/20210213085103346', 'http://v.daum.net/v/20210215210637054', 'http://v.daum.net/v/20210216030111583', 'http://v.daum.net/v/20210216151011302', 'http://v.daum.net/v/20210218055015292', 'http://v.daum.net/v/20210222085455635', 'http://v.daum.net/v/20210222150600768', 'http://v.daum.net/v/20210223113300825', 'http://v.daum.net/v/20210224062201237', 'http://v.daum.net/v/20210224171602813', 'http://v.daum.net/v/20210305030624772', 'http://v.daum.net/v/20210308134800088', 'http://v.daum.net/v/20210308180900253', 'http://v.daum.net/v/20210316163000186', 'http://v.daum.net/v/20210323132206452', 'http://v.daum.net/v/20210325030524795', 'http://v.daum.net/v/20210325053016263', 'http://v.daum.net/v/20210325115307545', 'http://v.daum.net/v/20210325145822064', 'http://v.daum.net/v/20210404100212953', 'http://v.daum.net/v/20210404202815942', 'http://v.daum.net/v/20210405110158877', 'http://v.daum.net/v/20210409130333067', 'http://v.daum.net/v/20210409131359286', 'http://v.daum.net/v/20210410103845855', 'http://v.daum.net/v/20210412080013539', 'http://v.daum.net/v/20210412082144980', 'http://v.daum.net/v/20210412143621725', 'http://v.daum.net/v/20210420135927247', 'http://v.daum.net/v/20210421144142302', 'http://v.daum.net/v/20210422000545497', 'http://v.daum.net/v/20210424060205085', 'http://v.daum.net/v/20210426100612934', 'http://v.daum.net/v/20210426173517811', 'http://v.daum.net/v/20210430155846281', 'http://v.daum.net/v/20210503150902935', 'http://v.daum.net/v/20210503172708333', 'http://v.daum.net/v/20210504065503303', 'http://v.daum.net/v/20210504065602308', 'http://v.daum.net/v/20210507042006539', 'http://v.daum.net/v/20210508154024046', 'http://v.daum.net/v/20210510110011570', 'http://v.daum.net/v/20210510110032598', 'http://v.daum.net/v/20210510110049629', 'http://v.daum.net/v/20210510110137693', 'http://v.daum.net/v/20210510111420348', 'http://v.daum.net/v/20210510132225440', 'http://v.daum.net/v/20210510134911223', 'http://v.daum.net/v/20210510141329247', 'http://v.daum.net/v/20210510163532409', 'http://v.daum.net/v/20210513120056359', 'http://v.daum.net/v/20210513120110411', 'http://v.daum.net/v/20210513120612645', 'http://v.daum.net/v/20210513133833580', 'http://v.daum.net/v/20210514100104945', 'http://v.daum.net/v/20210517102643154', 'http://v.daum.net/v/20210517102729187', 'http://v.daum.net/v/20210517144432545', 'http://v.daum.net/v/20210517145400924', 'http://v.daum.net/v/20210517150207267', 'http://v.daum.net/v/20210517175601845', 'http://v.daum.net/v/20210517180135041', 'http://v.daum.net/v/20210520000450914', 'http://v.daum.net/v/20210525155110955', 'http://v.daum.net/v/20210527060124215', 'http://v.daum.net/v/20210601065602469', 'http://v.daum.net/v/20210603182743472', 'http://v.daum.net/v/20210608203007813', 'http://v.daum.net/v/20210609211558040', 'http://v.daum.net/v/20210613060134714', 'http://v.daum.net/v/20210613110011273', 'http://v.daum.net/v/20210613110019290', 'http://v.daum.net/v/20210613110107337', 'http://v.daum.net/v/20210613120007141', 'http://v.daum.net/v/20210613120119278', 'http://v.daum.net/v/20210613144617713', 'http://v.daum.net/v/20210613161305506', 'http://v.daum.net/v/20210613173804551', 'http://v.daum.net/v/20210615075500742', 'http://v.daum.net/v/20210623110137911', 'http://v.daum.net/v/20210624191007953', 'http://v.daum.net/v/20210625130730046', 'http://v.daum.net/v/20210626080028021', 'http://v.daum.net/v/20210627060308198', 'http://v.daum.net/v/20210629094744893', 'http://v.daum.net/v/20210630095559558', 'http://v.daum.net/v/20210630125812631', 'http://v.daum.net/v/20210702140004520', 'http://v.daum.net/v/20210703100113517', 'http://v.daum.net/v/20210705094003518', 'http://v.daum.net/v/20210705095706336', 'http://v.daum.net/v/20210705100200681', 'http://v.daum.net/v/20210705104335753', 'http://v.daum.net/v/20210705135357183', 'http://v.daum.net/v/20210706030628485', 'http://v.daum.net/v/20210706132403068', 'http://v.daum.net/v/20210706135255036', 'http://v.daum.net/v/20210706151234053', 'http://v.daum.net/v/20210709094632070', 'http://v.daum.net/v/20210709192700644', 'http://v.daum.net/v/20210713095519590', 'http://v.daum.net/v/20210713125519453', 'http://v.daum.net/v/20210719140801153', 'http://v.daum.net/v/20210720104009933', 'http://v.daum.net/v/20210720130933971', 'http://v.daum.net/v/20210720141716243', 'http://v.daum.net/v/20210720161217524', 'http://v.daum.net/v/20210721094946510', 'http://v.daum.net/v/20210721184902591', 'http://v.daum.net/v/20210722145202607', 'http://v.daum.net/v/20210722150039964', 'http://v.daum.net/v/20210722161950756', 'http://v.daum.net/v/20210725110519419', 'http://v.daum.net/v/20210726083752310', 'http://v.daum.net/v/20210726084134372', 'http://v.daum.net/v/20210726084206390', 'http://v.daum.net/v/20210726085833723', 'http://v.daum.net/v/20210726090234880', 'http://v.daum.net/v/20210726090427947', 'http://v.daum.net/v/20210726090535982', 'http://v.daum.net/v/20210726090703032', 'http://v.daum.net/v/20210726090910104', 'http://v.daum.net/v/20210726091201204', 'http://v.daum.net/v/20210726092415621', 'http://v.daum.net/v/20210726093929304', 'http://v.daum.net/v/20210726094631608', 'http://v.daum.net/v/20210726095905277', 'http://v.daum.net/v/20210726100238533', 'http://v.daum.net/v/20210726100516671', 'http://v.daum.net/v/20210726101004942', 'http://v.daum.net/v/20210726101651214', 'http://v.daum.net/v/20210726103337891', 'http://v.daum.net/v/20210726104613435', 'http://v.daum.net/v/20210726110445529', 'http://v.daum.net/v/20210726110558608', 'http://v.daum.net/v/20210726113242087', 'http://v.daum.net/v/20210726145709807', 'http://v.daum.net/v/20210726160429216', 'http://v.daum.net/v/20210726160734370', 'http://v.daum.net/v/20210726174215066', 'http://v.daum.net/v/20210726182303552', 'http://v.daum.net/v/20210727001106757', 'http://v.daum.net/v/20210727100102425', 'http://v.daum.net/v/20210729082744971', 'http://v.daum.net/v/20210730120300514', 'http://v.daum.net/v/20210804000117467', 'http://v.daum.net/v/20210804060106787', 'http://v.daum.net/v/20210804160434670', 'http://v.daum.net/v/20210804181606057', 'http://v.daum.net/v/20210805072203579', 'http://v.daum.net/v/20210806203600649', 'http://v.daum.net/v/20210808090023534', 'http://v.daum.net/v/20210816082542497', 'http://v.daum.net/v/20210816092448328', 'http://v.daum.net/v/20210816095225839', 'http://v.daum.net/v/20210816095600895', 'http://v.daum.net/v/20210816100540139', 'http://v.daum.net/v/20210816100943245', 'http://v.daum.net/v/20210816103607731', 'http://v.daum.net/v/20210816141658231', 'http://v.daum.net/v/20210816154034910', 'http://v.daum.net/v/20210816174215699', 'http://v.daum.net/v/20210816175602859', 'http://v.daum.net/v/20210816193603838', 'http://v.daum.net/v/20210817083558911', 'http://v.daum.net/v/20210817103845979', 'http://v.daum.net/v/20210818000512492', 'http://v.daum.net/v/20210818014500003', 'http://v.daum.net/v/20210818030609472', 'http://v.daum.net/v/20210818070450278', 'http://v.daum.net/v/20210818111758262', 'http://v.daum.net/v/20210819030513037', 'http://v.daum.net/v/20210819060016257', 'http://v.daum.net/v/20210819143413087', 'http://v.daum.net/v/20210822172711829', 'http://v.daum.net/v/20210824175004780', 'http://v.daum.net/v/20210825000449788', 'http://v.daum.net/v/20210825030626811', 'http://v.daum.net/v/20210825151619451', 'http://v.daum.net/v/20210825162100193', 'http://v.daum.net/v/20210825163006528', 'http://v.daum.net/v/20210825213358456', 'http://v.daum.net/v/20210826132523947', 'http://v.daum.net/v/20210901143911245', 'http://v.daum.net/v/20210901183010570', 'http://v.daum.net/v/20210902105401315', 'http://v.daum.net/v/20210903171612623', 'http://v.daum.net/v/20210906142057349', 'http://v.daum.net/v/20210907115413384', 'http://v.daum.net/v/20210907142209343', 'http://v.daum.net/v/20210907151131532', 'http://v.daum.net/v/20210907153008325', 'http://v.daum.net/v/20210907171645163', 'http://v.daum.net/v/20210908015111518', 'http://v.daum.net/v/20210908031626180', 'http://v.daum.net/v/20210908080543101', 'http://v.daum.net/v/20210908080607122', 'http://v.daum.net/v/20210908080615127', 'http://v.daum.net/v/20210908084739993', 'http://v.daum.net/v/20210908092024231', 'http://v.daum.net/v/20210908105904894', 'http://v.daum.net/v/20210913111909412', 'http://v.daum.net/v/20210914220943366', 'http://v.daum.net/v/20210915090147798', 'http://v.daum.net/v/20210917063001237', 'http://v.daum.net/v/20210922080004024', 'http://v.daum.net/v/20210927080600603', 'http://v.daum.net/v/20211001085134129', 'http://v.daum.net/v/20211001123540805', 'http://v.daum.net/v/20211005111019231', 'http://v.daum.net/v/20211007143547287', 'http://v.daum.net/v/20211007173255293', 'http://v.daum.net/v/20211009102602102', 'http://v.daum.net/v/20211010181801802', 'http://v.daum.net/v/20211013030243423', 'http://v.daum.net/v/20211015150906743', 'http://v.daum.net/v/20211023070123310', 'http://v.daum.net/v/20211024175303698', 'http://v.daum.net/v/20211027123316331', 'http://v.daum.net/v/20211027133114433', 'http://v.daum.net/v/20211101070122291', 'http://v.daum.net/v/20211101114728894', 'http://v.daum.net/v/20211103020501310', 'http://v.daum.net/v/20211104192346092', 'http://v.daum.net/v/20211105003334242', 'http://v.daum.net/v/20211105094753651', 'http://v.daum.net/v/20211107145700026', 'http://v.daum.net/v/20211107171501500', 'http://v.daum.net/v/20211108081908905', 'http://v.daum.net/v/20211108091046333', 'http://v.daum.net/v/20211108092951987', 'http://v.daum.net/v/20211108093455198', 'http://v.daum.net/v/20211108094608645', 'http://v.daum.net/v/20211108094804755', 'http://v.daum.net/v/20211108104102172', 'http://v.daum.net/v/20211108110214146', 'http://v.daum.net/v/20211108125230709', 'http://v.daum.net/v/20211108182415770', 'http://v.daum.net/v/20211109010139101', 'http://v.daum.net/v/20211109151833301', 'http://v.daum.net/v/20211110150022722', 'http://v.daum.net/v/20211110151201208', 'http://v.daum.net/v/20211111142921096', 'http://v.daum.net/v/20211111160030858', 'http://v.daum.net/v/20211111162614860', 'http://v.daum.net/v/20211111193608956', 'http://v.daum.net/v/20211112134956494', 'http://v.daum.net/v/20211112142806818', 'http://v.daum.net/v/20211112215554072', 'http://v.daum.net/v/20211113065904506', 'http://v.daum.net/v/20211114182712395', 'http://v.daum.net/v/20211116170717097', 'http://v.daum.net/v/20211117043047968', 'http://v.daum.net/v/20211118061123527', 'http://v.daum.net/v/20211118180935941', 'http://v.daum.net/v/20211119141304437', 'http://v.daum.net/v/20211121093624974', 'http://v.daum.net/v/20211121162037678', 'http://v.daum.net/v/20211122050655803', 'http://v.daum.net/v/20211122143547612', 'http://v.daum.net/v/20211123040312220', 'http://v.daum.net/v/20211125154303350', 'http://v.daum.net/v/20211127011256329', 'http://v.daum.net/v/20211128090004583', 'http://v.daum.net/v/20211206110019264', 'http://v.daum.net/v/20211206115004622', 'http://v.daum.net/v/20211207110018096', 'http://v.daum.net/v/20211207174102094', 'http://v.daum.net/v/20211207174151114', 'http://v.daum.net/v/20211210050943281', 'http://v.daum.net/v/20211213103942784', 'http://v.daum.net/v/20211213164537314', 'http://v.daum.net/v/20211213180116565', 'http://v.daum.net/v/20211214060027627', 'http://v.daum.net/v/20211215194952640', 'http://v.daum.net/v/20211216104105710', 'http://v.daum.net/v/20211217082248179', 'http://v.daum.net/v/20211217083716476', 'http://v.daum.net/v/20211217092343786', 'http://v.daum.net/v/20211217092409804', 'http://v.daum.net/v/20211217093447194', 'http://v.daum.net/v/20211217111548394', 'http://v.daum.net/v/20211217141402557', 'http://v.daum.net/v/20211220120031859', 'http://v.daum.net/v/20211221072108821', 'http://v.daum.net/v/20211223075737210', 'http://v.daum.net/v/20211223080731403', 'http://v.daum.net/v/20211227081915003', 'http://v.daum.net/v/20211227100623316', 'http://v.daum.net/v/20211227114602435', 'http://v.daum.net/v/20211228160115165', 'http://v.daum.net/v/20211229112122636', 'http://v.daum.net/v/20211230133008292', 'http://v.daum.net/v/20220102050031466', 'http://v.daum.net/v/20220102174104402', 'http://v.daum.net/v/20220104094901918', 'http://v.daum.net/v/20220104151823344', 'http://v.daum.net/v/20220104222629804', 'http://v.daum.net/v/20220105181332576', 'http://v.daum.net/v/20220106134545271', 'http://v.daum.net/v/20220107180603409', 'http://v.daum.net/v/20220107215702468', 'http://v.daum.net/v/20220108100023394', 'http://v.daum.net/v/20220109133951250', 'http://v.daum.net/v/20220109214107861', 'http://v.daum.net/v/20220111030302048', 'http://v.daum.net/v/20220113100617084', 'http://v.daum.net/v/20220113105101906', 'http://v.daum.net/v/20220113170057873', 'http://v.daum.net/v/20220115084504322', 'http://v.daum.net/v/20220117090016561', 'http://v.daum.net/v/20220117090249659', 'http://v.daum.net/v/20220117090304674', 'http://v.daum.net/v/20220117180942529', 'http://v.daum.net/v/20220117201619741', 'http://v.daum.net/v/20220118100116619', 'http://v.daum.net/v/20220123172602762', 'http://v.daum.net/v/20220127110759474', 'http://v.daum.net/v/20220128162707741', 'http://v.daum.net/v/20220131090108899', 'http://v.daum.net/v/20220201060012816', 'http://v.daum.net/v/20220201060034855', 'http://v.daum.net/v/20220202171803746', 'http://v.daum.net/v/20220203150320414', 'http://v.daum.net/v/20220203155343110', 'http://v.daum.net/v/20220203203833253', 'http://v.daum.net/v/20220203211601872', 'http://v.daum.net/v/20220203230306522', 'http://v.daum.net/v/20220204101338738', 'http://v.daum.net/v/20220207095702959', 'http://v.daum.net/v/20220207114037925', 'http://v.daum.net/v/20220207132221147', 'http://v.daum.net/v/20220207134043835', 'http://v.daum.net/v/20220207185513358', 'http://v.daum.net/v/20220209110124971', 'http://v.daum.net/v/20220209115546876', 'http://v.daum.net/v/20220221203426399', 'http://v.daum.net/v/20220222103300415', 'http://v.daum.net/v/20220301174504967', 'http://v.daum.net/v/20220304212636348', 'http://v.daum.net/v/20220307115433282', 'http://v.daum.net/v/20220314085653739', 'http://v.daum.net/v/20220314180306847', 'http://v.daum.net/v/20220315113822138', 'http://v.daum.net/v/20220316223622480', 'http://v.daum.net/v/20220318100035569', 'http://v.daum.net/v/20220318140021267', 'http://v.daum.net/v/20220319070202111', 'http://v.daum.net/v/20220324160054047', 'http://v.daum.net/v/20220325180104782', 'http://v.daum.net/v/20220325211204539', 'http://v.daum.net/v/20220328050743550', 'http://v.daum.net/v/20220329114443915', 'http://v.daum.net/v/20220330074426981', 'http://v.daum.net/v/20220330092638664', 'http://v.daum.net/v/20220331093001231', 'http://v.daum.net/v/20220402100507906', 'http://v.daum.net/v/20220404180857700', 'http://v.daum.net/v/20220406210123590', 'http://v.daum.net/v/20220408090710716', 'http://v.daum.net/v/20220408090720721', 'http://v.daum.net/v/20220410100100302', 'http://v.daum.net/v/20220411105400713', 'http://v.daum.net/v/20220414111440598', 'http://v.daum.net/v/20220415000003606', 'http://v.daum.net/v/20220419095903421', 'http://v.daum.net/v/20220419132152935', 'http://v.daum.net/v/20220419162508547', 'http://v.daum.net/v/20220419173621788', 'http://v.daum.net/v/20220419180129780', 'http://v.daum.net/v/20220420010517562', 'http://v.daum.net/v/20220420030240998', 'http://v.daum.net/v/20220420063031327', 'http://v.daum.net/v/20220420111109414', 'http://v.daum.net/v/20220420144954124', 'http://v.daum.net/v/20220420181558553', 'http://v.daum.net/v/20220421102246589', 'http://v.daum.net/v/20220423060136046', 'http://v.daum.net/v/20220424202701115', 'http://v.daum.net/v/20220426124609848', 'http://v.daum.net/v/20220426141404357', 'http://v.daum.net/v/20220426151444957', 'http://v.daum.net/v/20220426153005566', 'http://v.daum.net/v/20220426154405127', 'http://v.daum.net/v/20220426161835531', 'http://v.daum.net/v/20220426193843944', 'http://v.daum.net/v/20220430080006934', 'http://v.daum.net/v/20220503233048181', 'http://v.daum.net/v/20220505164306080', 'http://v.daum.net/v/20220507053709532', 'http://v.daum.net/v/20220507080306887', 'http://v.daum.net/v/20220507224312030', 'http://v.daum.net/v/20220509180204566', 'http://v.daum.net/v/20220511091639580', 'http://v.daum.net/v/20220512030147196', 'http://v.daum.net/v/20220516142403041', 'http://v.daum.net/v/20220516150802248', 'http://v.daum.net/v/20220517073745351', 'http://v.daum.net/v/20220517133615032', 'http://v.daum.net/v/20220517155905188', 'http://v.daum.net/v/20220518010204209', 'http://v.daum.net/v/20220518010415249', 'http://v.daum.net/v/20220518132700857', 'http://v.daum.net/v/20220519090004551', 'http://v.daum.net/v/20220524170802058', 'http://v.daum.net/v/20220524174725721', 'http://v.daum.net/v/20220525151140156', 'http://v.daum.net/v/20220525160039264', 'http://v.daum.net/v/20220525170824713', 'http://v.daum.net/v/20220526022213086', 'http://v.daum.net/v/20220526123908376', 'http://v.daum.net/v/20220526184614361', 'http://v.daum.net/v/20220530070507734', 'http://v.daum.net/v/20220530102827752', 'http://v.daum.net/v/20220530145802189', 'http://v.daum.net/v/20220606093221253', 'http://v.daum.net/v/20220606162538160', 'http://v.daum.net/v/20220606221142648', 'http://v.daum.net/v/20220615190157146', 'http://v.daum.net/v/20220616094210165', 'http://v.daum.net/v/20220616173818828', 'http://v.daum.net/v/20220617085032138', 'http://v.daum.net/v/20220620134917943', 'http://v.daum.net/v/20220620140802636', 'http://v.daum.net/v/20220620145434621', 'http://v.daum.net/v/20220620152754333', 'http://v.daum.net/v/20220622170315165', 'http://v.daum.net/v/20220623164814200', 'http://v.daum.net/v/20220624225400903', 'http://v.daum.net/v/20220626162401388', 'http://v.daum.net/v/20220628100802520', 'http://v.daum.net/v/20220628160107994', 'http://v.daum.net/v/20220629001004200', 'http://v.daum.net/v/20220701100812443', 'http://v.daum.net/v/20220702124516186', 'http://v.daum.net/v/20220702130020256', 'http://v.daum.net/v/20220705160301955', 'http://v.daum.net/v/20220705182714627', 'http://v.daum.net/v/20220706060132408', 'http://v.daum.net/v/20220707145131214', 'http://v.daum.net/v/20220707170613874', 'http://v.daum.net/v/20220708090502721', 'http://v.daum.net/v/20220709000046210', 'http://v.daum.net/v/20220711085019886', 'http://v.daum.net/v/20220719120629136', 'http://v.daum.net/v/20220723060044586', 'http://v.daum.net/v/20220723070002101', 'http://v.daum.net/v/20220723150012742', 'http://v.daum.net/v/20220723174401265', 'http://v.daum.net/v/20220724083302598']\n"
     ]
    }
   ],
   "source": [
    "# json 파일 -> list 로 읽기\n",
    "with open(file_path, \"r\") as json_file:\n",
    "    result= json.load(json_file)\n",
    "print(result)"
   ]
  },
  {
   "cell_type": "markdown",
   "metadata": {},
   "source": [
    "---\n",
    "참고\n",
    "- 리팩토링하면서 삭제된 코드"
   ]
  },
  {
   "cell_type": "code",
   "execution_count": null,
   "metadata": {},
   "outputs": [],
   "source": [
    "# 날짜 형식 바꾸기 함수 생성\n",
    "def modify_date(row):\n",
    "    tmp = row.split('.')\n",
    "    year = tmp[0]\n",
    "    if len(tmp[1]) == 1:\n",
    "        month = '0' + tmp[1]\n",
    "    else:\n",
    "        month = tmp[1]\n",
    "    if len(tmp[2]) == 1:\n",
    "        day = '0' + tmp[2]\n",
    "    else:\n",
    "        day = tmp[2]\n",
    "    date = year + month + day\n",
    "    return date\n",
    "\n",
    "df['date'] = df['date'].apply(modify_date)\n",
    "\n",
    "\"\"\"\n",
    "위 함수 생성해서 apply 적용할 필요 없이 기사 날짜 가져올 때, zfill로 해결 가능함!\n",
    "''.join([data.zfill(2) for data in re.findall(r'\\d+', soup.select_one('.info_view').text)[:3]])\n",
    "\"\"\""
   ]
  }
 ],
 "metadata": {
  "kernelspec": {
   "display_name": "base",
   "language": "python",
   "name": "python3"
  },
  "language_info": {
   "codemirror_mode": {
    "name": "ipython",
    "version": 3
   },
   "file_extension": ".py",
   "mimetype": "text/x-python",
   "name": "python",
   "nbconvert_exporter": "python",
   "pygments_lexer": "ipython3",
   "version": "3.10.9"
  }
 },
 "nbformat": 4,
 "nbformat_minor": 2
}
