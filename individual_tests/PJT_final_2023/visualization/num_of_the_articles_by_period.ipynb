{
 "cells": [
  {
   "cell_type": "code",
   "execution_count": 1,
   "metadata": {},
   "outputs": [],
   "source": [
    "from matplotlib import pyplot as plt\n",
    "import seaborn as sns\n",
    "import pandas as pd"
   ]
  },
  {
   "cell_type": "code",
   "execution_count": 56,
   "metadata": {},
   "outputs": [],
   "source": [
    "data = pd.read_csv('../crawling/articles_total_20180101_741.csv', parse_dates=['date'])"
   ]
  },
  {
   "cell_type": "code",
   "execution_count": 57,
   "metadata": {},
   "outputs": [
    {
     "data": {
      "text/html": [
       "<div>\n",
       "<style scoped>\n",
       "    .dataframe tbody tr th:only-of-type {\n",
       "        vertical-align: middle;\n",
       "    }\n",
       "\n",
       "    .dataframe tbody tr th {\n",
       "        vertical-align: top;\n",
       "    }\n",
       "\n",
       "    .dataframe thead th {\n",
       "        text-align: right;\n",
       "    }\n",
       "</style>\n",
       "<table border=\"1\" class=\"dataframe\">\n",
       "  <thead>\n",
       "    <tr style=\"text-align: right;\">\n",
       "      <th></th>\n",
       "      <th>title</th>\n",
       "      <th>date</th>\n",
       "      <th>content</th>\n",
       "    </tr>\n",
       "  </thead>\n",
       "  <tbody>\n",
       "    <tr>\n",
       "      <th>0</th>\n",
       "      <td>전남 '솔라시도' 에 스마트 시티 본격 조성 기대감</td>\n",
       "      <td>20180111</td>\n",
       "      <td>문재인 대통령이 2018년 신년사에서 스마트 시티 조성을 언급함에 따라 전남 해남 ...</td>\n",
       "    </tr>\n",
       "    <tr>\n",
       "      <th>1</th>\n",
       "      <td>\"미래 농업경쟁력 핵심은 빅데이터\"</td>\n",
       "      <td>20180122</td>\n",
       "      <td>【 앵커멘트 】 4차 산업혁명 시대, 농업도 예외가 아니죠. 과거엔 농업하면 시설이...</td>\n",
       "    </tr>\n",
       "  </tbody>\n",
       "</table>\n",
       "</div>"
      ],
      "text/plain": [
       "                          title      date  \\\n",
       "0  전남 '솔라시도' 에 스마트 시티 본격 조성 기대감  20180111   \n",
       "1           \"미래 농업경쟁력 핵심은 빅데이터\"  20180122   \n",
       "\n",
       "                                             content  \n",
       "0  문재인 대통령이 2018년 신년사에서 스마트 시티 조성을 언급함에 따라 전남 해남 ...  \n",
       "1  【 앵커멘트 】 4차 산업혁명 시대, 농업도 예외가 아니죠. 과거엔 농업하면 시설이...  "
      ]
     },
     "execution_count": 57,
     "metadata": {},
     "output_type": "execute_result"
    }
   ],
   "source": [
    "data.head(2)"
   ]
  },
  {
   "cell_type": "code",
   "execution_count": 58,
   "metadata": {},
   "outputs": [
    {
     "name": "stdout",
     "output_type": "stream",
     "text": [
      "<class 'pandas.core.frame.DataFrame'>\n",
      "RangeIndex: 741 entries, 0 to 740\n",
      "Data columns (total 3 columns):\n",
      " #   Column   Non-Null Count  Dtype \n",
      "---  ------   --------------  ----- \n",
      " 0   title    741 non-null    object\n",
      " 1   date     741 non-null    object\n",
      " 2   content  741 non-null    object\n",
      "dtypes: object(3)\n",
      "memory usage: 17.5+ KB\n"
     ]
    }
   ],
   "source": [
    "data.info()"
   ]
  },
  {
   "cell_type": "markdown",
   "metadata": {},
   "source": [
    "이상치 제거"
   ]
  },
  {
   "cell_type": "code",
   "execution_count": 60,
   "metadata": {},
   "outputs": [],
   "source": [
    "# data['date'] = data['date'].map(lambda x: pd.to_datetime(x))\n",
    "#DateParseError: year 1894202102 is out of range: 1894202102, at position 0 -> date 이상치 행 제거 필요\n",
    "\n",
    "# 잘못된 값이 들어간 행 삭제\n",
    "data.drop(index= data[data['date'] == '1894202102'].index, inplace=True)"
   ]
  },
  {
   "cell_type": "code",
   "execution_count": 61,
   "metadata": {},
   "outputs": [],
   "source": [
    "data['date'] = data['date'].map(lambda x: pd.to_datetime(x))"
   ]
  },
  {
   "cell_type": "code",
   "execution_count": 62,
   "metadata": {},
   "outputs": [
    {
     "name": "stdout",
     "output_type": "stream",
     "text": [
      "<class 'pandas.core.frame.DataFrame'>\n",
      "Index: 740 entries, 0 to 740\n",
      "Data columns (total 3 columns):\n",
      " #   Column   Non-Null Count  Dtype         \n",
      "---  ------   --------------  -----         \n",
      " 0   title    740 non-null    object        \n",
      " 1   date     740 non-null    datetime64[ns]\n",
      " 2   content  740 non-null    object        \n",
      "dtypes: datetime64[ns](1), object(2)\n",
      "memory usage: 23.1+ KB\n"
     ]
    }
   ],
   "source": [
    "data.info()"
   ]
  },
  {
   "cell_type": "code",
   "execution_count": 78,
   "metadata": {},
   "outputs": [
    {
     "data": {
      "text/html": [
       "<div>\n",
       "<style scoped>\n",
       "    .dataframe tbody tr th:only-of-type {\n",
       "        vertical-align: middle;\n",
       "    }\n",
       "\n",
       "    .dataframe tbody tr th {\n",
       "        vertical-align: top;\n",
       "    }\n",
       "\n",
       "    .dataframe thead th {\n",
       "        text-align: right;\n",
       "    }\n",
       "</style>\n",
       "<table border=\"1\" class=\"dataframe\">\n",
       "  <thead>\n",
       "    <tr style=\"text-align: right;\">\n",
       "      <th></th>\n",
       "      <th>title</th>\n",
       "      <th>date</th>\n",
       "      <th>content</th>\n",
       "    </tr>\n",
       "  </thead>\n",
       "  <tbody>\n",
       "    <tr>\n",
       "      <th>0</th>\n",
       "      <td>전남 '솔라시도' 에 스마트 시티 본격 조성 기대감</td>\n",
       "      <td>2018-01-11</td>\n",
       "      <td>문재인 대통령이 2018년 신년사에서 스마트 시티 조성을 언급함에 따라 전남 해남 ...</td>\n",
       "    </tr>\n",
       "    <tr>\n",
       "      <th>1</th>\n",
       "      <td>\"미래 농업경쟁력 핵심은 빅데이터\"</td>\n",
       "      <td>2018-01-22</td>\n",
       "      <td>【 앵커멘트 】 4차 산업혁명 시대, 농업도 예외가 아니죠. 과거엔 농업하면 시설이...</td>\n",
       "    </tr>\n",
       "    <tr>\n",
       "      <th>2</th>\n",
       "      <td>\"미래 농업경쟁력 핵심은 빅데이터\"</td>\n",
       "      <td>2018-01-23</td>\n",
       "      <td>【 앵커멘트 】 4차 산업혁명 시대, 농업도 예외가 아니죠. 과거엔 농업하면 시설이...</td>\n",
       "    </tr>\n",
       "    <tr>\n",
       "      <th>3</th>\n",
       "      <td>[스마트시티 도래②]미래투자vs역할제한..정부·업계 '시각차'</td>\n",
       "      <td>2018-05-29</td>\n",
       "      <td>김현미 국토교통부 장관이 25일 서울 수서역 인근 스마트시티 홍보관 '더 스마티움'...</td>\n",
       "    </tr>\n",
       "    <tr>\n",
       "      <th>4</th>\n",
       "      <td>경북도 '스마트시티 경북현장적용 모델개발' 용역 최종 보고회</td>\n",
       "      <td>2018-07-25</td>\n",
       "      <td>[이임태 기자(=안동)] 경상북도는 지난 24일 ICT융복합 기술을 활용하여 도시문...</td>\n",
       "    </tr>\n",
       "    <tr>\n",
       "      <th>...</th>\n",
       "      <td>...</td>\n",
       "      <td>...</td>\n",
       "      <td>...</td>\n",
       "    </tr>\n",
       "    <tr>\n",
       "      <th>736</th>\n",
       "      <td>그린케이팜, 농업분야 온실가스 감축사업 지원 농가 1호 선정</td>\n",
       "      <td>2023-09-20</td>\n",
       "      <td>[아이뉴스24 고종민 기자] 스마트팜 전문 기업 그린플러스의 자회사 그린케이팜이 농...</td>\n",
       "    </tr>\n",
       "    <tr>\n",
       "      <th>737</th>\n",
       "      <td>그린케이팜, 온실가스 감축사업 지원 대상 농가 1호 선정</td>\n",
       "      <td>2023-09-20</td>\n",
       "      <td>(왼쪽부터) 한국농업기술진흥원 안호근 원장, 농림축산식품부 강형석 기획조정실장, N...</td>\n",
       "    </tr>\n",
       "    <tr>\n",
       "      <th>738</th>\n",
       "      <td>그린케이팜, ‘온실가스 감축사업’ 농가 1호로 선정</td>\n",
       "      <td>2023-09-20</td>\n",
       "      <td>[이데일리 최훈길 기자] 스마트팜 전문기업 그린플러스(186230)가 친환경 탄소중...</td>\n",
       "    </tr>\n",
       "    <tr>\n",
       "      <th>739</th>\n",
       "      <td>'딸기 식물공장'으로 채산성 높여..엘앤피, 경북도지사상</td>\n",
       "      <td>2023-09-20</td>\n",
       "      <td>박은호 엘앤피 대표가 우수스타트업에 선정돼 경북도지사상을 수상한 뒤 기념 촬영 중이...</td>\n",
       "    </tr>\n",
       "    <tr>\n",
       "      <th>740</th>\n",
       "      <td>햇빛·바람·흙 없어도, 무농약 신선 채소가 바로 식탁으로</td>\n",
       "      <td>2023-09-23</td>\n",
       "      <td>제주 ‘정가네 밥상’의 스마트팜. 정가네 밥상 누리집 갈무리           예로...</td>\n",
       "    </tr>\n",
       "  </tbody>\n",
       "</table>\n",
       "<p>740 rows × 3 columns</p>\n",
       "</div>"
      ],
      "text/plain": [
       "                                  title       date  \\\n",
       "0          전남 '솔라시도' 에 스마트 시티 본격 조성 기대감 2018-01-11   \n",
       "1                   \"미래 농업경쟁력 핵심은 빅데이터\" 2018-01-22   \n",
       "2                   \"미래 농업경쟁력 핵심은 빅데이터\" 2018-01-23   \n",
       "3    [스마트시티 도래②]미래투자vs역할제한..정부·업계 '시각차' 2018-05-29   \n",
       "4     경북도 '스마트시티 경북현장적용 모델개발' 용역 최종 보고회 2018-07-25   \n",
       "..                                  ...        ...   \n",
       "736   그린케이팜, 농업분야 온실가스 감축사업 지원 농가 1호 선정 2023-09-20   \n",
       "737     그린케이팜, 온실가스 감축사업 지원 대상 농가 1호 선정 2023-09-20   \n",
       "738        그린케이팜, ‘온실가스 감축사업’ 농가 1호로 선정 2023-09-20   \n",
       "739     '딸기 식물공장'으로 채산성 높여..엘앤피, 경북도지사상 2023-09-20   \n",
       "740     햇빛·바람·흙 없어도, 무농약 신선 채소가 바로 식탁으로 2023-09-23   \n",
       "\n",
       "                                               content  \n",
       "0    문재인 대통령이 2018년 신년사에서 스마트 시티 조성을 언급함에 따라 전남 해남 ...  \n",
       "1    【 앵커멘트 】 4차 산업혁명 시대, 농업도 예외가 아니죠. 과거엔 농업하면 시설이...  \n",
       "2    【 앵커멘트 】 4차 산업혁명 시대, 농업도 예외가 아니죠. 과거엔 농업하면 시설이...  \n",
       "3    김현미 국토교통부 장관이 25일 서울 수서역 인근 스마트시티 홍보관 '더 스마티움'...  \n",
       "4    [이임태 기자(=안동)] 경상북도는 지난 24일 ICT융복합 기술을 활용하여 도시문...  \n",
       "..                                                 ...  \n",
       "736  [아이뉴스24 고종민 기자] 스마트팜 전문 기업 그린플러스의 자회사 그린케이팜이 농...  \n",
       "737  (왼쪽부터) 한국농업기술진흥원 안호근 원장, 농림축산식품부 강형석 기획조정실장, N...  \n",
       "738  [이데일리 최훈길 기자] 스마트팜 전문기업 그린플러스(186230)가 친환경 탄소중...  \n",
       "739  박은호 엘앤피 대표가 우수스타트업에 선정돼 경북도지사상을 수상한 뒤 기념 촬영 중이...  \n",
       "740  제주 ‘정가네 밥상’의 스마트팜. 정가네 밥상 누리집 갈무리           예로...  \n",
       "\n",
       "[740 rows x 3 columns]"
      ]
     },
     "execution_count": 78,
     "metadata": {},
     "output_type": "execute_result"
    }
   ],
   "source": [
    "data"
   ]
  },
  {
   "cell_type": "markdown",
   "metadata": {},
   "source": [
    "### 특정 기간 기사 발행량 추이 살펴 보기"
   ]
  },
  {
   "cell_type": "markdown",
   "metadata": {},
   "source": [
    "연 기준"
   ]
  },
  {
   "cell_type": "code",
   "execution_count": 108,
   "metadata": {},
   "outputs": [
    {
     "data": {
      "text/plain": [
       "date\n",
       "2018-12-31     51\n",
       "2019-12-31     32\n",
       "2020-12-31    130\n",
       "2021-12-31    188\n",
       "2022-12-31    192\n",
       "2023-12-31    147\n",
       "Freq: A-DEC, Name: content, dtype: int64"
      ]
     },
     "execution_count": 108,
     "metadata": {},
     "output_type": "execute_result"
    }
   ],
   "source": [
    "count_by_year = data.groupby(pd.Grouper(key=\"date\", axis=0, freq=\"y\"))['content'].count()\n",
    "count_by_year"
   ]
  },
  {
   "cell_type": "code",
   "execution_count": 109,
   "metadata": {},
   "outputs": [
    {
     "data": {
      "text/plain": [
       "date\n",
       "2018년     51\n",
       "2019년     32\n",
       "2020년    130\n",
       "2021년    188\n",
       "2022년    192\n",
       "2023년    147\n",
       "Name: content, dtype: int64"
      ]
     },
     "execution_count": 109,
     "metadata": {},
     "output_type": "execute_result"
    }
   ],
   "source": [
    "count_by_year.index = count_by_year.index.map(lambda x : f\"{str(x).split('-')[0]}년\")\n",
    "count_by_year"
   ]
  },
  {
   "cell_type": "markdown",
   "metadata": {},
   "source": [
    "월 기준"
   ]
  },
  {
   "cell_type": "code",
   "execution_count": 110,
   "metadata": {},
   "outputs": [
    {
     "data": {
      "text/plain": [
       "date\n",
       "2018-01-31     5\n",
       "2018-02-28     0\n",
       "2018-03-31     3\n",
       "2018-04-30     4\n",
       "2018-05-31     1\n",
       "              ..\n",
       "2023-05-31    14\n",
       "2023-06-30     5\n",
       "2023-07-31     5\n",
       "2023-08-31    12\n",
       "2023-09-30    19\n",
       "Freq: M, Name: content, Length: 69, dtype: int64"
      ]
     },
     "execution_count": 110,
     "metadata": {},
     "output_type": "execute_result"
    }
   ],
   "source": [
    "count_by_month = data.groupby(pd.Grouper(key=\"date\", axis=0, freq=\"m\"))['content'].count()\n",
    "count_by_month"
   ]
  },
  {
   "cell_type": "code",
   "execution_count": 111,
   "metadata": {},
   "outputs": [
    {
     "data": {
      "text/plain": [
       "date\n",
       "2018년 01월     5\n",
       "2018년 02월     0\n",
       "2018년 03월     3\n",
       "2018년 04월     4\n",
       "2018년 05월     1\n",
       "             ..\n",
       "2023년 05월    14\n",
       "2023년 06월     5\n",
       "2023년 07월     5\n",
       "2023년 08월    12\n",
       "2023년 09월    19\n",
       "Name: content, Length: 69, dtype: int64"
      ]
     },
     "execution_count": 111,
     "metadata": {},
     "output_type": "execute_result"
    }
   ],
   "source": [
    "count_by_month.index = count_by_month.index.map(lambda x : f\"{str(x).split('-')[0]}년 {str(x).split('-')[1]}월\")\n",
    "count_by_month"
   ]
  },
  {
   "cell_type": "markdown",
   "metadata": {},
   "source": [
    "주 기준"
   ]
  },
  {
   "cell_type": "code",
   "execution_count": 132,
   "metadata": {},
   "outputs": [
    {
     "data": {
      "text/plain": [
       "date\n",
       "2018-01-13    3\n",
       "2018-01-20    0\n",
       "2018-01-27    2\n",
       "2018-02-03    0\n",
       "2018-02-10    0\n",
       "             ..\n",
       "2023-09-02    1\n",
       "2023-09-09    4\n",
       "2023-09-16    6\n",
       "2023-09-23    5\n",
       "2023-09-30    4\n",
       "Freq: W-SAT, Name: content, Length: 299, dtype: int64"
      ]
     },
     "execution_count": 132,
     "metadata": {},
     "output_type": "execute_result"
    }
   ],
   "source": [
    "count_by_week = data.groupby(pd.Grouper(key=\"date\", axis=0, freq=\"w-sat\"))['content'].count()\n",
    "count_by_week"
   ]
  },
  {
   "cell_type": "code",
   "execution_count": 133,
   "metadata": {},
   "outputs": [
    {
     "data": {
      "text/plain": [
       "date\n",
       "2018년 01월    3\n",
       "2018년 01월    0\n",
       "2018년 01월    2\n",
       "2018년 02월    0\n",
       "2018년 02월    0\n",
       "            ..\n",
       "2023년 09월    1\n",
       "2023년 09월    4\n",
       "2023년 09월    6\n",
       "2023년 09월    5\n",
       "2023년 09월    4\n",
       "Name: content, Length: 299, dtype: int64"
      ]
     },
     "execution_count": 133,
     "metadata": {},
     "output_type": "execute_result"
    }
   ],
   "source": [
    "count_by_week.index = count_by_week.index.map(lambda x : f\"{str(x).split('-')[0]}년 {str(x).split('-')[1]}월\")\n",
    "count_by_week"
   ]
  },
  {
   "cell_type": "code",
   "execution_count": 113,
   "metadata": {},
   "outputs": [],
   "source": [
    "def plot_bar(data, xlabel, ylabel, title, figsize=(10, 4)):\n",
    "    plt.rc('font', family='Malgun Gothic')\n",
    "    fig, ax = plt.subplots(figsize=figsize)\n",
    "    sns.barplot(x=data.index, y=data.values, palette=\"Set2\")\n",
    "    ax.set(xlabel=xlabel, ylabel=ylabel)\n",
    "    ax.set_title(title)\n",
    "    plt.xticks(rotation=45)  \n",
    "    plt.show()"
   ]
  },
  {
   "cell_type": "code",
   "execution_count": 121,
   "metadata": {},
   "outputs": [
    {
     "data": {
      "image/png": "[encoded data removed]",
      "text/plain": [
       "<Figure size 2000x400 with 1 Axes>"
      ]
     },
     "metadata": {},
     "output_type": "display_data"
    }
   ],
   "source": [
    "plot_bar(count_by_year, '기간', '기사 수', '연 별 기사 발행량 추이', (20, 4))"
   ]
  },
  {
   "cell_type": "code",
   "execution_count": 122,
   "metadata": {},
   "outputs": [
    {
     "data": {
      "image/png": "[encoded data removed]",
      "text/plain": [
       "<Figure size 2000x400 with 1 Axes>"
      ]
     },
     "metadata": {},
     "output_type": "display_data"
    }
   ],
   "source": [
    "plot_bar(count_by_month, '기간', '기사수', '월 별 기사 발행량 추이', (20, 4))"
   ]
  },
  {
   "cell_type": "code",
   "execution_count": 134,
   "metadata": {},
   "outputs": [
    {
     "data": {
      "image/png": "[encoded data removed]",
      "text/plain": [
       "<Figure size 2000x400 with 1 Axes>"
      ]
     },
     "metadata": {},
     "output_type": "display_data"
    }
   ],
   "source": [
    "plot_bar(count_by_week, '기간', '기사수', '주 별 기사 발행량 추이', (20, 4))"
   ]
  },
  {
   "cell_type": "code",
   "execution_count": null,
   "metadata": {},
   "outputs": [],
   "source": []
  }
 ],
 "metadata": {
  "kernelspec": {
   "display_name": "base",
   "language": "python",
   "name": "python3"
  },
  "language_info": {
   "codemirror_mode": {
    "name": "ipython",
    "version": 3
   },
   "file_extension": ".py",
   "mimetype": "text/x-python",
   "name": "python",
   "nbconvert_exporter": "python",
   "pygments_lexer": "ipython3",
   "version": "3.10.9"
  }
 },
 "nbformat": 4,
 "nbformat_minor": 2
}
