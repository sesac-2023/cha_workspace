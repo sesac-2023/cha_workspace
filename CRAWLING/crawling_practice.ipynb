{
 "cells": [
  {
   "cell_type": "markdown",
   "metadata": {},
   "source": [
    "# CRAWLING"
   ]
  },
  {
   "cell_type": "markdown",
   "metadata": {},
   "source": [
    "개발자 도구 탭 \n",
    "- Elements - HTML 구조\n",
    "- Console - Javascript 디버깅\n",
    "- Sources - 웹페이지를 구성하는 src\n",
    "- Performance - 웹페이지 성능 체크\n",
    "- Network - 웹페이지에서 요청한 파일\n",
    "- Memory - 웹페이지 메모리 사용률\n",
    "- Application - 브라우저 스토리지정보 (Storage, Session, Cookie)"
   ]
  },
  {
   "cell_type": "markdown",
   "metadata": {},
   "source": [
    "STATUS CODE\n",
    "- 200 정상 작동\n",
    "- 301 리다이렉트\n",
    "- 404 사용자 오류\n",
    "- 502 서버 오류"
   ]
  },
  {
   "cell_type": "markdown",
   "metadata": {},
   "source": [
    "cf. urlencoding "
   ]
  },
  {
   "cell_type": "markdown",
   "metadata": {},
   "source": [
    "## 동적 웹 크롤링"
   ]
  },
  {
   "cell_type": "code",
   "execution_count": null,
   "metadata": {},
   "outputs": [],
   "source": [
    "import requests\n",
    "from bs4 import BeautifulSoup"
   ]
  },
  {
   "cell_type": "code",
   "execution_count": null,
   "metadata": {},
   "outputs": [],
   "source": [
    "headers = {'User-Agent' :\"Mozilla/5.0 (Windows NT 10.0; Win64; x64) AppleWebKit/537.36 (KHTML, like Gecko) Chrome/114.0.0.0 Safari/537.36\"}"
   ]
  },
  {
   "cell_type": "code",
   "execution_count": null,
   "metadata": {},
   "outputs": [],
   "source": [
    "response = requests.get(\"https://news.naver.com/main/list.naver?mode=LS2D&mid=shm&sid1=101&sid2=259\", \n",
    "                        headers=headers \n",
    "                        # params={\n",
    "                        #     'mode':'LS2D'\n",
    "                        #     'mid' : 'shm',\n",
    "                        #     'sid1' : 101,\n",
    "                        #     'sid2' :259\n",
    "                        # }\n",
    "                        )\n",
    "# requests.post()\n",
    "# requests.put()\n",
    "# requests.delete()  요청에 따라 다양한 메서드 사용 가능"
   ]
  },
  {
   "cell_type": "markdown",
   "metadata": {},
   "source": [
    "✔ ConnectionError: ('Connection aborted.', RemoteDisconnected('Remote end closed connection without response'))\n",
    "headers 정보가 없으면 봇으로 인식하고 뜨는 에러 -> user-agent 정보로 headers 추가하기"
   ]
  },
  {
   "cell_type": "code",
   "execution_count": null,
   "metadata": {},
   "outputs": [],
   "source": [
    "print(response.status_code)\n"
   ]
  },
  {
   "cell_type": "code",
   "execution_count": null,
   "metadata": {},
   "outputs": [],
   "source": [
    "soup = BeautifulSoup(response.text, 'html.parser')\n",
    "soup"
   ]
  },
  {
   "cell_type": "markdown",
   "metadata": {},
   "source": [
    "- div 공백으로 나뉘어져 있으면 각각 다른 클래스\n",
    "- ex) list_body newsflash_body -> list_body.newsflash_body 로 변경 필수"
   ]
  },
  {
   "cell_type": "code",
   "execution_count": null,
   "metadata": {},
   "outputs": [],
   "source": [
    "# newsDivTag = soup.select_one('div.list_body')\n",
    "newsDivTag = soup.select_one('div.list_body.newsflash_body') # list_body newsflash_body -> list_body.newsflash_body 로 변경 필수"
   ]
  },
  {
   "cell_type": "code",
   "execution_count": null,
   "metadata": {},
   "outputs": [],
   "source": [
    "newsDivTag"
   ]
  },
  {
   "cell_type": "code",
   "execution_count": null,
   "metadata": {},
   "outputs": [],
   "source": [
    "liTags = newsDivTag.select('li')\n",
    "liTags"
   ]
  },
  {
   "cell_type": "code",
   "execution_count": null,
   "metadata": {},
   "outputs": [],
   "source": [
    "len(liTags)"
   ]
  },
  {
   "cell_type": "code",
   "execution_count": null,
   "metadata": {},
   "outputs": [],
   "source": [
    "liTags[0].select('dt')"
   ]
  },
  {
   "cell_type": "code",
   "execution_count": null,
   "metadata": {},
   "outputs": [],
   "source": [
    "liTags[0].select('dt')[-1].text"
   ]
  },
  {
   "cell_type": "code",
   "execution_count": null,
   "metadata": {},
   "outputs": [],
   "source": [
    "liTags[0].select('dt')[-1].text.strip()"
   ]
  },
  {
   "cell_type": "code",
   "execution_count": null,
   "metadata": {},
   "outputs": [],
   "source": [
    "titles = []\n",
    "for liTag in liTags:\n",
    "    dtTag = liTag.select('dt')[-1]\n",
    "    title = dtTag.text.strip()\n",
    "    href = dtTag.select_one('a').attrs['href']\n",
    "    # title = liTag.select('dt')[-1].text.strip() # ('dt')[1]로 설정할 경우 사진이 없는 기사도 있기 때문에 IndexError: list index out of range 에러남 -> ('dt')[-1] 로 변경\n",
    "    # href = liTag.select('dt')[-1].select_one('a').attrs['href']\n",
    "    print(href)\n",
    "    titles.append(title)\n",
    "titles"
   ]
  },
  {
   "cell_type": "markdown",
   "metadata": {},
   "source": [
    "---"
   ]
  },
  {
   "cell_type": "markdown",
   "metadata": {},
   "source": [
    "select 와 select_one 구분하기\n",
    "- select : list 로 추출\n",
    "- select_one : 일치하는 하나의 요소만 추출"
   ]
  },
  {
   "cell_type": "code",
   "execution_count": null,
   "metadata": {},
   "outputs": [],
   "source": [
    "dtTag.select('a') "
   ]
  },
  {
   "cell_type": "code",
   "execution_count": null,
   "metadata": {},
   "outputs": [],
   "source": [
    "dtTag.select('a')[0].attrs['href']"
   ]
  },
  {
   "cell_type": "code",
   "execution_count": null,
   "metadata": {},
   "outputs": [],
   "source": [
    "dtTag.select_one('a').attrs['href']"
   ]
  },
  {
   "cell_type": "markdown",
   "metadata": {},
   "source": [
    "ID 셀렉터 - id 속성은 unique해서 주로 select_one 사용. #으로 접근\n",
    "CLASS 셀렉터 - 동일한 요소를 가지고 있는 경우에 CLASS 로 묶으면 편집이 용이함(.사용)"
   ]
  },
  {
   "cell_type": "markdown",
   "metadata": {},
   "source": [
    "---"
   ]
  },
  {
   "cell_type": "markdown",
   "metadata": {},
   "source": [
    "## 실습"
   ]
  },
  {
   "cell_type": "markdown",
   "metadata": {},
   "source": [
    "> 실습 1\n",
    "- HTML 문서 내에 ID가 mw-content-text인 태그내의 내용을 출력해주세요.\n",
    "- https://ko.wikipedia.org/wiki/위키백과"
   ]
  },
  {
   "cell_type": "code",
   "execution_count": null,
   "metadata": {},
   "outputs": [],
   "source": [
    "url = 'https://ko.wikipedia.org/wiki/%EC%9C%84%ED%82%A4%EB%B0%B1%EA%B3%BC' # url encoding되어 있음\n",
    "response = requests.get(url)\n",
    "response # 동작이 잘 되는지 확인"
   ]
  },
  {
   "cell_type": "code",
   "execution_count": null,
   "metadata": {},
   "outputs": [],
   "source": [
    "soup = BeautifulSoup(response.text, 'html.parser')\n",
    "result = soup.select_one('#mw-content-text').text  # id가 mw-content-text인 text 추출. id 셀렉터를 사용할 때는 select_one 활용하기"
   ]
  },
  {
   "cell_type": "code",
   "execution_count": null,
   "metadata": {},
   "outputs": [],
   "source": [
    "result"
   ]
  },
  {
   "cell_type": "markdown",
   "metadata": {},
   "source": [
    "> 실습 2\n",
    "- HTML 문서 내에 class가 list_item인 태그내의 내용을 출력해주세요\n",
    "- https://www.saramin.co.kr/zf_user/jobs/public/list"
   ]
  },
  {
   "cell_type": "code",
   "execution_count": null,
   "metadata": {},
   "outputs": [],
   "source": [
    "url = \"https://www.saramin.co.kr/zf_user/jobs/public/list\"\n",
    "response = requests.get(url, headers=headers)\n",
    "response"
   ]
  },
  {
   "cell_type": "code",
   "execution_count": null,
   "metadata": {},
   "outputs": [],
   "source": [
    "print(response.text)"
   ]
  },
  {
   "cell_type": "code",
   "execution_count": null,
   "metadata": {},
   "outputs": [],
   "source": [
    "soup = BeautifulSoup(response.text, 'html.parser')\n",
    "items = soup.select('.list_item')  # class 이름이 list_item\n",
    "items[0]"
   ]
  },
  {
   "cell_type": "code",
   "execution_count": null,
   "metadata": {},
   "outputs": [],
   "source": [
    "for item in items:\n",
    "    print(item.text)"
   ]
  },
  {
   "cell_type": "markdown",
   "metadata": {},
   "source": [
    "- 속성 셀렉터\n",
    "    - 태그 내의 속성을 활용\n",
    "    - 셀렉터[속성=“값“], 정확히 일치\n",
    "    - 셀렉터[속성~=“값”], 해당 단어를 포함\n",
    "    - 셀렉터[속성^=“값“], 해당 값으로 시작\n",
    "    - 셀렉터[속성$=“값“], 해당 값으로 끝\n",
    "    - 셀렉터[속성*=“값”], 해당 값을 포함\n",
    "- 자식 셀렉터 : '>' 사용  [class^='type06']>li\n",
    "- 후손 셀렉터 : 공백 사용  [class^='type06'] li"
   ]
  },
  {
   "cell_type": "markdown",
   "metadata": {},
   "source": [
    "---"
   ]
  },
  {
   "cell_type": "markdown",
   "metadata": {},
   "source": [
    "## 실습"
   ]
  },
  {
   "cell_type": "markdown",
   "metadata": {},
   "source": [
    "> 실습 1\n",
    "- 사이트 내 공지사항을 하나씩 출력해주세요.\n",
    "- https://didimteo.startup-plus.kr/default.do\n"
   ]
  },
  {
   "cell_type": "code",
   "execution_count": null,
   "metadata": {},
   "outputs": [],
   "source": [
    "import requests\n",
    "url = \"https://didimteo.startup-plus.kr/cms_for_bcb/process/notice/list.do?show_no=2326&check_no=2312&c_relation=35&c_relation2=23\"\n",
    "response = requests.get(url, headers=headers)\n",
    "response"
   ]
  },
  {
   "cell_type": "code",
   "execution_count": null,
   "metadata": {},
   "outputs": [],
   "source": [
    "soup = BeautifulSoup(response.text, 'html.parser')\n",
    "trTags = soup.select('tbody>tr')  # thead>tr은 제외할 수 있도록"
   ]
  },
  {
   "cell_type": "code",
   "execution_count": null,
   "metadata": {},
   "outputs": [],
   "source": [
    "for trTag in trTags:\n",
    "    print(trTag.select_one('.list-title').text.strip())"
   ]
  },
  {
   "cell_type": "markdown",
   "metadata": {},
   "source": [
    "> 실습 2\n",
    "- 실습 1의 결과에서 제목과 날짜를 분리해 딕셔너리 형태로 저장해주세요\n",
    "- 결과 : [{'제목': '[채용] 광운대학교 산학협력단(서울창업디딤터) 직원 채용 공고(~6/17)', '날짜': '2022.06.10'},\n",
    "{'제목': '[서울창업디딤터] 대강의실 및 공동작업실 이용 신청 방식 변경', '날짜': '2022.06.04’}, ... ]"
   ]
  },
  {
   "cell_type": "code",
   "execution_count": null,
   "metadata": {},
   "outputs": [],
   "source": [
    "for trTag in trTags:\n",
    "    print(trTag.select_one('.list-title').text.strip())\n",
    "    print(trTag.select_one('.list-right').text.strip())"
   ]
  },
  {
   "cell_type": "code",
   "execution_count": null,
   "metadata": {},
   "outputs": [],
   "source": [
    "result = []\n",
    "for trTag in trTags:\n",
    "    temp = {\n",
    "        '제목' : trTag.select_one('.list-title').text.strip(),\n",
    "        '날짜' : trTag.select_one('.list-right').text.strip()\n",
    "    }\n",
    "    result.append(temp)\n",
    "result"
   ]
  },
  {
   "cell_type": "markdown",
   "metadata": {},
   "source": [
    "> 실습 3\n",
    "- 사이트에서 하이퍼링크에 baCategory1=basic이 포함된 태그를 하나만 선택해 출력해주세요.\n",
    "- https://youth.seoul.go.kr/site/main/home"
   ]
  },
  {
   "cell_type": "code",
   "execution_count": null,
   "metadata": {},
   "outputs": [],
   "source": [
    "url = 'https://youth.seoul.go.kr/site/main/home'\n",
    "response = requests.get(url, headers=headers)\n",
    "response"
   ]
  },
  {
   "cell_type": "code",
   "execution_count": null,
   "metadata": {},
   "outputs": [],
   "source": [
    "soup = BeautifulSoup(response.text, 'html.parser')\n",
    "items = soup.select(\"[href*='baCategory1=basic']\")"
   ]
  },
  {
   "cell_type": "code",
   "execution_count": null,
   "metadata": {},
   "outputs": [],
   "source": [
    "for item in items:\n",
    "    print(item.text.strip())"
   ]
  },
  {
   "cell_type": "markdown",
   "metadata": {},
   "source": [
    "> 실습 4\n",
    "- 사이트에서 주요뉴스 내용과 일자별 뉴스들을 리스트로 정리해주세요\n",
    "- https://ko.wikipedia.org/wiki/포털:요즘_화제\n",
    "- 결과 : [‘주요 뉴스’, '8월 25일, 파키스탄에서 일어난 홍수로 1,000명 이상의 주민이 사망하고, 가축 70,000마리 이상이 죽었다.’, ..., \n",
    "'Current events of 2022년 8월 29일\\xa0(2022-08-29) (월요일)', ‘대한민국의 0시 기준 누적 \\u200b확진자 수가 23,026,960명으로\n",
    "집계되었다. 전날 0시 대비 43,142명(국내 42,782, 해외유입 360)이 늘었다.’, ...]"
   ]
  },
  {
   "cell_type": "code",
   "execution_count": null,
   "metadata": {},
   "outputs": [],
   "source": [
    "url = \"https://ko.wikipedia.org/wiki/%ED%8F%AC%ED%84%B8:%EC%9A%94%EC%A6%98_%ED%99%94%EC%A0%9C\"\n",
    "response = requests.get(url, headers=headers)\n",
    "response"
   ]
  },
  {
   "cell_type": "code",
   "execution_count": null,
   "metadata": {},
   "outputs": [],
   "source": [
    "soup = BeautifulSoup(response.text, 'html.parser')\n",
    "tableTags = soup.select(\"[class='vevent']\") # soup.select('.vevent')"
   ]
  },
  {
   "cell_type": "code",
   "execution_count": null,
   "metadata": {},
   "outputs": [],
   "source": [
    "len(tableTags)"
   ]
  },
  {
   "cell_type": "code",
   "execution_count": null,
   "metadata": {},
   "outputs": [],
   "source": [
    "mainNews = ['주요 뉴스']\n",
    "tableTags[0]   # 주요 뉴스 \n",
    "\n",
    "liTags = tableTags[0].select('li')\n",
    "for li in liTags:\n",
    "    mainNews.append(li.text.strip())\n",
    "\n",
    "mainNews\n"
   ]
  },
  {
   "cell_type": "code",
   "execution_count": null,
   "metadata": {},
   "outputs": [],
   "source": [
    "resutl = [mainNews]\n",
    "for tableTag in tableTags[1:-3]:  # 일자별 뉴스 반복문 처리\n",
    "    result.append([tableTag.select_one('.summary').text.strip(),    # list extend와 list append 차이\n",
    "                  tableTag.select_one('.description').text.strip()])\n",
    "result"
   ]
  },
  {
   "cell_type": "markdown",
   "metadata": {},
   "source": [
    "---"
   ]
  },
  {
   "cell_type": "markdown",
   "metadata": {},
   "source": []
  }
 ],
 "metadata": {
  "kernelspec": {
   "display_name": "base",
   "language": "python",
   "name": "python3"
  },
  "language_info": {
   "codemirror_mode": {
    "name": "ipython",
    "version": 3
   },
   "file_extension": ".py",
   "mimetype": "text/x-python",
   "name": "python",
   "nbconvert_exporter": "python",
   "pygments_lexer": "ipython3",
   "version": "3.10.9"
  },
  "orig_nbformat": 4
 },
 "nbformat": 4,
 "nbformat_minor": 2
}
