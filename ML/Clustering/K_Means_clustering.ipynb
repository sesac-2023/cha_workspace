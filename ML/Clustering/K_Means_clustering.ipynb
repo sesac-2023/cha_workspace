{
  "cells": [
    {
      "cell_type": "markdown",
      "metadata": {
        "id": "bhWA4kJcBKVZ"
      },
      "source": [
        "# K-Means Clustering(군집화)\n",
        "- 비지도학습(Unsupervised Learning)의 대표적인 군집화(Clustering) 알고리즘\n",
        "- 데이터를 K개의 클러스터로 묶고 각 클러스터는 데이터 포인트들의 유사성에 따라 형성\n",
        "- 각 클러스터의 중심점과 데이터 포인트들 간의 거리를 기반으로 클러스터링을 수행\n",
        "- 할당 단계와 업데이트 단계를 반복하면서 클러스터를 형성\n",
        "- 최종 결과로는 데이터셋의 데이터가 각각 어떤 클러스터에 속하는지 결정"
      ]
    },
    {
      "cell_type": "code",
      "execution_count": 1,
      "metadata": {
        "id": "6AIHecsVBKVg"
      },
      "outputs": [],
      "source": [
        "from sklearn.cluster import KMeans\n",
        "from sklearn.datasets import make_blobs\n",
        "\n",
        "import matplotlib.pyplot as plt\n",
        "import numpy as np"
      ]
    },
    {
      "cell_type": "markdown",
      "metadata": {
        "id": "nsmdfQWWBKVo"
      },
      "source": [
        "## 200개의 데이터 포인트로 구성된 가상의 클러스터링 데이터셋 `input_feature` 생성"
      ]
    },
    {
      "cell_type": "code",
      "execution_count": 2,
      "metadata": {
        "colab": {
          "base_uri": "https://localhost:8080/"
        },
        "id": "J_qEHTDvBKVq",
        "outputId": "80139d1c-81df-464d-efcf-0140c77b1014"
      },
      "outputs": [
        {
          "data": {
            "text/plain": [
              "array([[ 3.25996508, -6.62137997],\n",
              "       [ 2.68090757, -1.87003254],\n",
              "       [ 2.54961207, -2.3823171 ],\n",
              "       [ 2.03248083, -6.97156632],\n",
              "       [ 3.04871092, -2.1664995 ]])"
            ]
          },
          "execution_count": 2,
          "metadata": {},
          "output_type": "execute_result"
        }
      ],
      "source": [
        "input_feature, _ = make_blobs(n_samples=200, centers=2, cluster_std=0.5, random_state=30) #데이터, #중심값\n",
        "# print(input_feature)\n",
        "input_feature[:5]"
      ]
    },
    {
      "cell_type": "markdown",
      "metadata": {
        "id": "VJu1mXqCwmtF"
      },
      "source": [
        "## 코드 설명\n",
        "1. `make_blobs(n_samples=200, centers=2, cluster_std=0.5, random_state=30)`\n",
        "\n",
        "-  `make_blobs` 함수는 가상의 클러스터링 데이터셋을 생성하는 함수\n",
        "- 주어진 매개변수에 따라 여러 개의 클러스터를 생성\n",
        "\n",
        "- `n_samples`: 생성할 데이터 포인트(샘플)의 개수를 지정\n",
        "- `centers`: 클러스터의 개수를 지정\n",
        "- `cluster_std`: 클러스터 내 데이터의 표준 편차를 지정\n",
        "- `random_state`: 랜덤 시드를 설정하여 데이터 생성의 재현성을 보장  \n",
        ".\n",
        "\n",
        "2. `input_feature[:5]`\n",
        "- 생성된 데이터셋 `input_feature`의 처음 5개 데이터 포인트를 출력\n",
        "-  2차원 배열로, 각 행은 2개의 특성으로 구성된 데이터 포인트를 나타냄\n"
      ]
    },
    {
      "cell_type": "code",
      "execution_count": 3,
      "metadata": {
        "colab": {
          "base_uri": "https://localhost:8080/"
        },
        "id": "djn_T-KMAkd9",
        "outputId": "0f88d658-fe97-4bf3-86b4-423e2ac2740f"
      },
      "outputs": [
        {
          "data": {
            "text/plain": [
              "(200, 2)"
            ]
          },
          "execution_count": 3,
          "metadata": {},
          "output_type": "execute_result"
        }
      ],
      "source": [
        "input_feature.shape"
      ]
    },
    {
      "cell_type": "markdown",
      "metadata": {
        "id": "dR-_6EBhyzm9"
      },
      "source": [
        "---\n",
        "## 2차원 데이터셋 시각화\n",
        "- `input_feature` 데이터셋의 첫 번째 열을 x축으로, 두 번째 열을 y축으로 사용하여 데이터 포인트를 산점도로 표시"
      ]
    },
    {
      "cell_type": "code",
      "execution_count": 4,
      "metadata": {
        "colab": {
          "base_uri": "https://localhost:8080/",
          "height": 430
        },
        "id": "n09l6Z8tBKV3",
        "outputId": "ef2a4a7b-294b-4f12-ad67-948713e99e77"
      },
      "outputs": [
        {
          "data": {
            "image/png": "[encoded data removed]",
            "text/plain": [
              "<Figure size 640x480 with 1 Axes>"
            ]
          },
          "metadata": {},
          "output_type": "display_data"
        }
      ],
      "source": [
        "plt.scatter(input_feature[:, 0], input_feature[:, 1], c='blue', edgecolor='k', lw=0.5)\n",
        "plt.show()"
      ]
    },
    {
      "cell_type": "markdown",
      "metadata": {
        "id": "Sqjlzmn2y5E9"
      },
      "source": [
        "### 코드 설명\n",
        "1. `plt.scatter(input_feature[:, 0], input_feature[:, 1], c='blue', edgecolor='k', lw=0.5)`:\n",
        "- `plt.scatter` 산점도로 시각화\n",
        "- `input_feature[:, 0]`: 데이터셋 `input_feature`의 첫 번째 열(특성)에 해당하는 데이터를 x축으로 사용\n",
        "- `input_feature[:, 1]`: 데이터셋 `input_feature`의 두 번째 열(특성)에 해당하는 데이터를 y축으로 사용\n",
        "- `c='blue'`: 데이터 포인트의 색상을 파란색(blue)으로 설정\n",
        "- `edgecolor='k'`: 데이터 포인트의 테두리 색상을 검정색(black)으로 설정.\n",
        "- `lw=0.5`: 데이터 포인트의 테두리 두께를 0.5로 설정  \n"
      ]
    },
    {
      "cell_type": "markdown",
      "metadata": {
        "id": "onwxGJOtE4QS"
      },
      "source": [
        ">>"
      ]
    },
    {
      "cell_type": "markdown",
      "metadata": {
        "id": "K6Y386gD0ZR1"
      },
      "source": [
        "---"
      ]
    },
    {
      "cell_type": "markdown",
      "metadata": {
        "id": "bfNovIxfBKV_"
      },
      "source": [
        "## KMeans (초기화 = random)"
      ]
    },
    {
      "cell_type": "code",
      "execution_count": 5,
      "metadata": {
        "colab": {
          "base_uri": "https://localhost:8080/"
        },
        "id": "XQH8BI3-BKWB",
        "outputId": "f202451d-ef1e-4018-c5d1-fc0fb56cbe00"
      },
      "outputs": [
        {
          "name": "stderr",
          "output_type": "stream",
          "text": [
            "c:\\Users\\user\\anaconda3\\lib\\site-packages\\sklearn\\cluster\\_kmeans.py:870: FutureWarning: The default value of `n_init` will change from 10 to 'auto' in 1.4. Set the value of `n_init` explicitly to suppress the warning\n",
            "  warnings.warn(\n"
          ]
        },
        {
          "ename": "AttributeError",
          "evalue": "'NoneType' object has no attribute 'split'",
          "output_type": "error",
          "traceback": [
            "\u001b[1;31m---------------------------------------------------------------------------\u001b[0m",
            "\u001b[1;31mAttributeError\u001b[0m                            Traceback (most recent call last)",
            "\u001b[1;32mc:\\Users\\user\\Desktop\\SeSAC\\cha_workspace\\ML\\Clustering\\K_Means_clustering.ipynb Cell 13\u001b[0m line \u001b[0;36m1\n\u001b[1;32m----> <a href='vscode-notebook-cell:/c%3A/Users/user/Desktop/SeSAC/cha_workspace/ML/Clustering/K_Means_clustering.ipynb#X15sZmlsZQ%3D%3D?line=0'>1</a>\u001b[0m model_r \u001b[39m=\u001b[39m KMeans(n_clusters\u001b[39m=\u001b[39;49m\u001b[39m3\u001b[39;49m, init\u001b[39m=\u001b[39;49m\u001b[39m\"\u001b[39;49m\u001b[39mrandom\u001b[39;49m\u001b[39m\"\u001b[39;49m)\u001b[39m.\u001b[39;49mfit(input_feature)\n",
            "File \u001b[1;32mc:\\Users\\user\\anaconda3\\lib\\site-packages\\sklearn\\cluster\\_kmeans.py:1455\u001b[0m, in \u001b[0;36mKMeans.fit\u001b[1;34m(self, X, y, sample_weight)\u001b[0m\n\u001b[0;32m   1453\u001b[0m \u001b[39melse\u001b[39;00m:\n\u001b[0;32m   1454\u001b[0m     kmeans_single \u001b[39m=\u001b[39m _kmeans_single_lloyd\n\u001b[1;32m-> 1455\u001b[0m     \u001b[39mself\u001b[39;49m\u001b[39m.\u001b[39;49m_check_mkl_vcomp(X, X\u001b[39m.\u001b[39;49mshape[\u001b[39m0\u001b[39;49m])\n\u001b[0;32m   1457\u001b[0m best_inertia, best_labels \u001b[39m=\u001b[39m \u001b[39mNone\u001b[39;00m, \u001b[39mNone\u001b[39;00m\n\u001b[0;32m   1459\u001b[0m \u001b[39mfor\u001b[39;00m i \u001b[39min\u001b[39;00m \u001b[39mrange\u001b[39m(\u001b[39mself\u001b[39m\u001b[39m.\u001b[39m_n_init):\n\u001b[0;32m   1460\u001b[0m     \u001b[39m# Initialize centers\u001b[39;00m\n",
            "File \u001b[1;32mc:\\Users\\user\\anaconda3\\lib\\site-packages\\sklearn\\cluster\\_kmeans.py:911\u001b[0m, in \u001b[0;36m_BaseKMeans._check_mkl_vcomp\u001b[1;34m(self, X, n_samples)\u001b[0m\n\u001b[0;32m    909\u001b[0m n_active_threads \u001b[39m=\u001b[39m \u001b[39mint\u001b[39m(np\u001b[39m.\u001b[39mceil(n_samples \u001b[39m/\u001b[39m CHUNK_SIZE))\n\u001b[0;32m    910\u001b[0m \u001b[39mif\u001b[39;00m n_active_threads \u001b[39m<\u001b[39m \u001b[39mself\u001b[39m\u001b[39m.\u001b[39m_n_threads:\n\u001b[1;32m--> 911\u001b[0m     modules \u001b[39m=\u001b[39m threadpool_info()\n\u001b[0;32m    912\u001b[0m     has_vcomp \u001b[39m=\u001b[39m \u001b[39m\"\u001b[39m\u001b[39mvcomp\u001b[39m\u001b[39m\"\u001b[39m \u001b[39min\u001b[39;00m [module[\u001b[39m\"\u001b[39m\u001b[39mprefix\u001b[39m\u001b[39m\"\u001b[39m] \u001b[39mfor\u001b[39;00m module \u001b[39min\u001b[39;00m modules]\n\u001b[0;32m    913\u001b[0m     has_mkl \u001b[39m=\u001b[39m (\u001b[39m\"\u001b[39m\u001b[39mmkl\u001b[39m\u001b[39m\"\u001b[39m, \u001b[39m\"\u001b[39m\u001b[39mintel\u001b[39m\u001b[39m\"\u001b[39m) \u001b[39min\u001b[39;00m [\n\u001b[0;32m    914\u001b[0m         (module[\u001b[39m\"\u001b[39m\u001b[39minternal_api\u001b[39m\u001b[39m\"\u001b[39m], module\u001b[39m.\u001b[39mget(\u001b[39m\"\u001b[39m\u001b[39mthreading_layer\u001b[39m\u001b[39m\"\u001b[39m, \u001b[39mNone\u001b[39;00m))\n\u001b[0;32m    915\u001b[0m         \u001b[39mfor\u001b[39;00m module \u001b[39min\u001b[39;00m modules\n\u001b[0;32m    916\u001b[0m     ]\n",
            "File \u001b[1;32mc:\\Users\\user\\anaconda3\\lib\\site-packages\\sklearn\\utils\\fixes.py:150\u001b[0m, in \u001b[0;36mthreadpool_info\u001b[1;34m()\u001b[0m\n\u001b[0;32m    148\u001b[0m     \u001b[39mreturn\u001b[39;00m controller\u001b[39m.\u001b[39minfo()\n\u001b[0;32m    149\u001b[0m \u001b[39melse\u001b[39;00m:\n\u001b[1;32m--> 150\u001b[0m     \u001b[39mreturn\u001b[39;00m threadpoolctl\u001b[39m.\u001b[39;49mthreadpool_info()\n",
            "File \u001b[1;32mc:\\Users\\user\\anaconda3\\lib\\site-packages\\threadpoolctl.py:124\u001b[0m, in \u001b[0;36mthreadpool_info\u001b[1;34m()\u001b[0m\n\u001b[0;32m    107\u001b[0m \u001b[39m@_format_docstring\u001b[39m(USER_APIS\u001b[39m=\u001b[39m\u001b[39mlist\u001b[39m(_ALL_USER_APIS),\n\u001b[0;32m    108\u001b[0m                    INTERNAL_APIS\u001b[39m=\u001b[39m_ALL_INTERNAL_APIS)\n\u001b[0;32m    109\u001b[0m \u001b[39mdef\u001b[39;00m \u001b[39mthreadpool_info\u001b[39m():\n\u001b[0;32m    110\u001b[0m     \u001b[39m\"\"\"Return the maximal number of threads for each detected library.\u001b[39;00m\n\u001b[0;32m    111\u001b[0m \n\u001b[0;32m    112\u001b[0m \u001b[39m    Return a list with all the supported modules that have been found. Each\u001b[39;00m\n\u001b[1;32m   (...)\u001b[0m\n\u001b[0;32m    122\u001b[0m \u001b[39m    In addition, each module may contain internal_api specific entries.\u001b[39;00m\n\u001b[0;32m    123\u001b[0m \u001b[39m    \"\"\"\u001b[39;00m\n\u001b[1;32m--> 124\u001b[0m     \u001b[39mreturn\u001b[39;00m _ThreadpoolInfo(user_api\u001b[39m=\u001b[39;49m_ALL_USER_APIS)\u001b[39m.\u001b[39mtodicts()\n",
            "File \u001b[1;32mc:\\Users\\user\\anaconda3\\lib\\site-packages\\threadpoolctl.py:340\u001b[0m, in \u001b[0;36m_ThreadpoolInfo.__init__\u001b[1;34m(self, user_api, prefixes, modules)\u001b[0m\n\u001b[0;32m    337\u001b[0m     \u001b[39mself\u001b[39m\u001b[39m.\u001b[39muser_api \u001b[39m=\u001b[39m [] \u001b[39mif\u001b[39;00m user_api \u001b[39mis\u001b[39;00m \u001b[39mNone\u001b[39;00m \u001b[39melse\u001b[39;00m user_api\n\u001b[0;32m    339\u001b[0m     \u001b[39mself\u001b[39m\u001b[39m.\u001b[39mmodules \u001b[39m=\u001b[39m []\n\u001b[1;32m--> 340\u001b[0m     \u001b[39mself\u001b[39;49m\u001b[39m.\u001b[39;49m_load_modules()\n\u001b[0;32m    341\u001b[0m     \u001b[39mself\u001b[39m\u001b[39m.\u001b[39m_warn_if_incompatible_openmp()\n\u001b[0;32m    342\u001b[0m \u001b[39melse\u001b[39;00m:\n",
            "File \u001b[1;32mc:\\Users\\user\\anaconda3\\lib\\site-packages\\threadpoolctl.py:373\u001b[0m, in \u001b[0;36m_ThreadpoolInfo._load_modules\u001b[1;34m(self)\u001b[0m\n\u001b[0;32m    371\u001b[0m     \u001b[39mself\u001b[39m\u001b[39m.\u001b[39m_find_modules_with_dyld()\n\u001b[0;32m    372\u001b[0m \u001b[39melif\u001b[39;00m sys\u001b[39m.\u001b[39mplatform \u001b[39m==\u001b[39m \u001b[39m\"\u001b[39m\u001b[39mwin32\u001b[39m\u001b[39m\"\u001b[39m:\n\u001b[1;32m--> 373\u001b[0m     \u001b[39mself\u001b[39;49m\u001b[39m.\u001b[39;49m_find_modules_with_enum_process_module_ex()\n\u001b[0;32m    374\u001b[0m \u001b[39melse\u001b[39;00m:\n\u001b[0;32m    375\u001b[0m     \u001b[39mself\u001b[39m\u001b[39m.\u001b[39m_find_modules_with_dl_iterate_phdr()\n",
            "File \u001b[1;32mc:\\Users\\user\\anaconda3\\lib\\site-packages\\threadpoolctl.py:485\u001b[0m, in \u001b[0;36m_ThreadpoolInfo._find_modules_with_enum_process_module_ex\u001b[1;34m(self)\u001b[0m\n\u001b[0;32m    482\u001b[0m         filepath \u001b[39m=\u001b[39m buf\u001b[39m.\u001b[39mvalue\n\u001b[0;32m    484\u001b[0m         \u001b[39m# Store the module if it is supported and selected\u001b[39;00m\n\u001b[1;32m--> 485\u001b[0m         \u001b[39mself\u001b[39;49m\u001b[39m.\u001b[39;49m_make_module_from_path(filepath)\n\u001b[0;32m    486\u001b[0m \u001b[39mfinally\u001b[39;00m:\n\u001b[0;32m    487\u001b[0m     kernel_32\u001b[39m.\u001b[39mCloseHandle(h_process)\n",
            "File \u001b[1;32mc:\\Users\\user\\anaconda3\\lib\\site-packages\\threadpoolctl.py:515\u001b[0m, in \u001b[0;36m_ThreadpoolInfo._make_module_from_path\u001b[1;34m(self, filepath)\u001b[0m\n\u001b[0;32m    513\u001b[0m \u001b[39mif\u001b[39;00m prefix \u001b[39min\u001b[39;00m \u001b[39mself\u001b[39m\u001b[39m.\u001b[39mprefixes \u001b[39mor\u001b[39;00m user_api \u001b[39min\u001b[39;00m \u001b[39mself\u001b[39m\u001b[39m.\u001b[39muser_api:\n\u001b[0;32m    514\u001b[0m     module_class \u001b[39m=\u001b[39m \u001b[39mglobals\u001b[39m()[module_class]\n\u001b[1;32m--> 515\u001b[0m     module \u001b[39m=\u001b[39m module_class(filepath, prefix, user_api, internal_api)\n\u001b[0;32m    516\u001b[0m     \u001b[39mself\u001b[39m\u001b[39m.\u001b[39mmodules\u001b[39m.\u001b[39mappend(module)\n",
            "File \u001b[1;32mc:\\Users\\user\\anaconda3\\lib\\site-packages\\threadpoolctl.py:606\u001b[0m, in \u001b[0;36m_Module.__init__\u001b[1;34m(self, filepath, prefix, user_api, internal_api)\u001b[0m\n\u001b[0;32m    604\u001b[0m \u001b[39mself\u001b[39m\u001b[39m.\u001b[39minternal_api \u001b[39m=\u001b[39m internal_api\n\u001b[0;32m    605\u001b[0m \u001b[39mself\u001b[39m\u001b[39m.\u001b[39m_dynlib \u001b[39m=\u001b[39m ctypes\u001b[39m.\u001b[39mCDLL(filepath, mode\u001b[39m=\u001b[39m_RTLD_NOLOAD)\n\u001b[1;32m--> 606\u001b[0m \u001b[39mself\u001b[39m\u001b[39m.\u001b[39mversion \u001b[39m=\u001b[39m \u001b[39mself\u001b[39;49m\u001b[39m.\u001b[39;49mget_version()\n\u001b[0;32m    607\u001b[0m \u001b[39mself\u001b[39m\u001b[39m.\u001b[39mnum_threads \u001b[39m=\u001b[39m \u001b[39mself\u001b[39m\u001b[39m.\u001b[39mget_num_threads()\n\u001b[0;32m    608\u001b[0m \u001b[39mself\u001b[39m\u001b[39m.\u001b[39m_get_extra_info()\n",
            "File \u001b[1;32mc:\\Users\\user\\anaconda3\\lib\\site-packages\\threadpoolctl.py:646\u001b[0m, in \u001b[0;36m_OpenBLASModule.get_version\u001b[1;34m(self)\u001b[0m\n\u001b[0;32m    643\u001b[0m get_config \u001b[39m=\u001b[39m \u001b[39mgetattr\u001b[39m(\u001b[39mself\u001b[39m\u001b[39m.\u001b[39m_dynlib, \u001b[39m\"\u001b[39m\u001b[39mopenblas_get_config\u001b[39m\u001b[39m\"\u001b[39m,\n\u001b[0;32m    644\u001b[0m                      \u001b[39mlambda\u001b[39;00m: \u001b[39mNone\u001b[39;00m)\n\u001b[0;32m    645\u001b[0m get_config\u001b[39m.\u001b[39mrestype \u001b[39m=\u001b[39m ctypes\u001b[39m.\u001b[39mc_char_p\n\u001b[1;32m--> 646\u001b[0m config \u001b[39m=\u001b[39m get_config()\u001b[39m.\u001b[39;49msplit()\n\u001b[0;32m    647\u001b[0m \u001b[39mif\u001b[39;00m config[\u001b[39m0\u001b[39m] \u001b[39m==\u001b[39m \u001b[39mb\u001b[39m\u001b[39m\"\u001b[39m\u001b[39mOpenBLAS\u001b[39m\u001b[39m\"\u001b[39m:\n\u001b[0;32m    648\u001b[0m     \u001b[39mreturn\u001b[39;00m config[\u001b[39m1\u001b[39m]\u001b[39m.\u001b[39mdecode(\u001b[39m\"\u001b[39m\u001b[39mutf-8\u001b[39m\u001b[39m\"\u001b[39m)\n",
            "\u001b[1;31mAttributeError\u001b[0m: 'NoneType' object has no attribute 'split'"
          ]
        }
      ],
      "source": [
        "model_r = KMeans(n_clusters=3, init=\"random\").fit(input_feature)"
      ]
    },
    {
      "cell_type": "markdown",
      "metadata": {
        "id": "UFK9C5ii01jH"
      },
      "source": [
        "## 코드 설명\n",
        "1. `KMeans(n_clusters=3, init=\"random\")`: `KMeans` 객체를 생성\n",
        "- `n_clusters=3`: 생성할 클러스터의 개수를 3으로 설정\n",
        "- `init=\"random\"`: 초기 중심점을 랜덤하게 선택하여 K-Means 알고리즘을 시작 (다른 초기화 방법: `\"k-means++\"` 등)\n",
        ".\n",
        "2. `.fit(input_feature)`\n",
        "- 생성한 `KMeans` 객체를 사용하여 데이터를 클러스터링\n",
        "- `fit` 메서드를 호출하여 알고리즘 실행\n",
        "- `input_feature`: 클러스터링할 데이터셋"
      ]
    },
    {
      "cell_type": "markdown",
      "metadata": {
        "id": "CRC_eqVU3ca3"
      },
      "source": [
        "---"
      ]
    },
    {
      "cell_type": "markdown",
      "metadata": {
        "id": "NfG-VdbcBKWJ"
      },
      "source": [
        "Attributes of sklearn.clustering.KMeans\n",
        "\n",
        "- cluster__centers_ : Coordinates of cluster centers\n",
        "\n",
        "- labels_ : Labels of each point\n",
        "\n",
        "- inertia_ : Sum of squared distances of samples to their closest cluster center.\n",
        "\n",
        "- n__iter_ : Number of iterations run."
      ]
    },
    {
      "cell_type": "code",
      "execution_count": 6,
      "metadata": {
        "colab": {
          "base_uri": "https://localhost:8080/"
        },
        "id": "mlvI_AuVBKWL",
        "outputId": "aaf22ac8-ebd6-466c-bd6f-5e1120dd1138"
      },
      "outputs": [
        {
          "ename": "NameError",
          "evalue": "name 'model_r' is not defined",
          "output_type": "error",
          "traceback": [
            "\u001b[1;31m---------------------------------------------------------------------------\u001b[0m",
            "\u001b[1;31mNameError\u001b[0m                                 Traceback (most recent call last)",
            "\u001b[1;32mc:\\Users\\user\\Desktop\\SeSAC\\cha_workspace\\ML\\Clustering\\K_Means_clustering.ipynb Cell 17\u001b[0m line \u001b[0;36m2\n\u001b[0;32m      <a href='vscode-notebook-cell:/c%3A/Users/user/Desktop/SeSAC/cha_workspace/ML/Clustering/K_Means_clustering.ipynb#X22sZmlsZQ%3D%3D?line=0'>1</a>\u001b[0m \u001b[39m# center = np.zeros([3, 2])\u001b[39;00m\n\u001b[1;32m----> <a href='vscode-notebook-cell:/c%3A/Users/user/Desktop/SeSAC/cha_workspace/ML/Clustering/K_Means_clustering.ipynb#X22sZmlsZQ%3D%3D?line=1'>2</a>\u001b[0m center \u001b[39m=\u001b[39m model_r\u001b[39m.\u001b[39mcluster_centers_\n\u001b[0;32m      <a href='vscode-notebook-cell:/c%3A/Users/user/Desktop/SeSAC/cha_workspace/ML/Clustering/K_Means_clustering.ipynb#X22sZmlsZQ%3D%3D?line=2'>3</a>\u001b[0m center\n",
            "\u001b[1;31mNameError\u001b[0m: name 'model_r' is not defined"
          ]
        }
      ],
      "source": [
        "# center = np.zeros([3, 2])\n",
        "center = model_r.cluster_centers_\n",
        "center"
      ]
    },
    {
      "cell_type": "code",
      "execution_count": null,
      "metadata": {
        "id": "3YmxX2WSBKWV"
      },
      "outputs": [],
      "source": [
        "c0 = center[0]\n",
        "c1 = center[1]\n",
        "c2 = center[2]"
      ]
    },
    {
      "cell_type": "markdown",
      "metadata": {
        "id": "pdlEdbwMImif"
      },
      "source": [
        "**그럼 이제, 데이터가 클러스터링된 결과를 시각화해서 확인해보자**  \n",
        ".  \n",
        "plt.scatter(cluster_0 에 속한 데이터만, 초록색(g)으로)  \n",
        "plt.scatter(cluster_1 에 속한 데이터만, 빨간색(r)으로)  \n",
        "plt.scatter(cluster_2 에 속한 데이터만, 파란색(b)으로)  \n",
        ".  \n",
        "plt.scatter(cluster_0 중심값, size는 200으로) # 기본값 = 100  \n",
        "plt.scatter(cluster_1 중심값, size는 200으로) # 기본값 = 100  \n",
        "plt.scatter(cluster_2 중심값, size는 200으로) # 기본값 = 100"
      ]
    },
    {
      "cell_type": "code",
      "execution_count": null,
      "metadata": {
        "colab": {
          "base_uri": "https://localhost:8080/",
          "height": 430
        },
        "id": "MPy2QmiTBKWb",
        "outputId": "017049d5-3594-4874-a57f-af905ebd8bbf"
      },
      "outputs": [
        {
          "data": {
            "image/png": "[encoded data removed]",
            "text/plain": [
              "<Figure size 640x480 with 1 Axes>"
            ]
          },
          "metadata": {},
          "output_type": "display_data"
        }
      ],
      "source": [
        "plt.scatter(input_feature[model_r.labels_ == 0, 0], input_feature[model_r.labels_ == 0, 1], marker='o', c='g', edgecolor='k', lw=0.5)\n",
        "plt.scatter(input_feature[model_r.labels_ == 1, 0], input_feature[model_r.labels_ == 1, 1], marker='o', c='r', edgecolor='k', lw=0.5)\n",
        "plt.scatter(input_feature[model_r.labels_ == 2, 0], input_feature[model_r.labels_ == 2, 1], marker='o', c='b', edgecolor='k', lw=0.5)\n",
        "plt.scatter(c0[0], c0[1], s=200, c=\"g\", edgecolor='k', lw=1)\n",
        "plt.scatter(c1[0], c1[1], s=200, c=\"r\", edgecolor='k', lw=1)\n",
        "plt.scatter(c2[0], c2[1], s=200, c=\"b\", edgecolor='k', lw=1)\n",
        "plt.show()"
      ]
    },
    {
      "cell_type": "markdown",
      "metadata": {
        "id": "75twW8ySBKWi"
      },
      "source": [
        "## 초기화를 K-Means++로 수정해보자."
      ]
    },
    {
      "cell_type": "code",
      "execution_count": null,
      "metadata": {
        "colab": {
          "base_uri": "https://localhost:8080/"
        },
        "id": "x0QcF935BKWn",
        "outputId": "c46b7335-229c-481b-812a-734273437814"
      },
      "outputs": [
        {
          "name": "stderr",
          "output_type": "stream",
          "text": [
            "/usr/local/lib/python3.10/dist-packages/sklearn/cluster/_kmeans.py:870: FutureWarning: The default value of `n_init` will change from 10 to 'auto' in 1.4. Set the value of `n_init` explicitly to suppress the warning\n",
            "  warnings.warn(\n"
          ]
        }
      ],
      "source": [
        "model_pp = KMeans(n_clusters=4, init=\"k-means++\").fit(input_feature)"
      ]
    },
    {
      "cell_type": "code",
      "execution_count": null,
      "metadata": {
        "colab": {
          "base_uri": "https://localhost:8080/",
          "height": 246
        },
        "id": "2uYCcgpjKKVp",
        "outputId": "cd9e11f9-8b33-49c0-eee0-ef418e515a69"
      },
      "outputs": [
        {
          "ename": "IndexError",
          "evalue": "ignored",
          "output_type": "error",
          "traceback": [
            "\u001b[0;31m---------------------------------------------------------------------------\u001b[0m",
            "\u001b[0;31mIndexError\u001b[0m                                Traceback (most recent call last)",
            "\u001b[0;32m<ipython-input-35-290640a13917>\u001b[0m in \u001b[0;36m<cell line: 1>\u001b[0;34m()\u001b[0m\n\u001b[0;32m----> 1\u001b[0;31m \u001b[0mplt\u001b[0m\u001b[0;34m.\u001b[0m\u001b[0mscatter\u001b[0m\u001b[0;34m(\u001b[0m\u001b[0minput_feature\u001b[0m\u001b[0;34m[\u001b[0m\u001b[0mmodel_r\u001b[0m\u001b[0;34m.\u001b[0m\u001b[0mlabels_\u001b[0m \u001b[0;34m==\u001b[0m \u001b[0;36m0\u001b[0m\u001b[0;34m,\u001b[0m \u001b[0;36m0\u001b[0m\u001b[0;34m]\u001b[0m\u001b[0;34m,\u001b[0m \u001b[0minput_feature\u001b[0m\u001b[0;34m[\u001b[0m\u001b[0mmodel_r\u001b[0m\u001b[0;34m.\u001b[0m\u001b[0mlabels_\u001b[0m \u001b[0;34m==\u001b[0m \u001b[0;36m0\u001b[0m\u001b[0;34m,\u001b[0m \u001b[0;36m1\u001b[0m\u001b[0;34m]\u001b[0m\u001b[0;34m,\u001b[0m \u001b[0mmarker\u001b[0m\u001b[0;34m=\u001b[0m\u001b[0;34m'o'\u001b[0m\u001b[0;34m,\u001b[0m \u001b[0mc\u001b[0m\u001b[0;34m=\u001b[0m\u001b[0;34m'g'\u001b[0m\u001b[0;34m,\u001b[0m \u001b[0medgecolor\u001b[0m\u001b[0;34m=\u001b[0m\u001b[0;34m'k'\u001b[0m\u001b[0;34m,\u001b[0m \u001b[0mlw\u001b[0m\u001b[0;34m=\u001b[0m\u001b[0;36m0.5\u001b[0m\u001b[0;34m)\u001b[0m\u001b[0;34m\u001b[0m\u001b[0;34m\u001b[0m\u001b[0m\n\u001b[0m\u001b[1;32m      2\u001b[0m \u001b[0mplt\u001b[0m\u001b[0;34m.\u001b[0m\u001b[0mscatter\u001b[0m\u001b[0;34m(\u001b[0m\u001b[0minput_feature\u001b[0m\u001b[0;34m[\u001b[0m\u001b[0mmodel_r\u001b[0m\u001b[0;34m.\u001b[0m\u001b[0mlabels_\u001b[0m \u001b[0;34m==\u001b[0m \u001b[0;36m1\u001b[0m\u001b[0;34m,\u001b[0m \u001b[0;36m0\u001b[0m\u001b[0;34m]\u001b[0m\u001b[0;34m,\u001b[0m \u001b[0minput_feature\u001b[0m\u001b[0;34m[\u001b[0m\u001b[0mmodel_r\u001b[0m\u001b[0;34m.\u001b[0m\u001b[0mlabels_\u001b[0m \u001b[0;34m==\u001b[0m \u001b[0;36m1\u001b[0m\u001b[0;34m,\u001b[0m \u001b[0;36m1\u001b[0m\u001b[0;34m]\u001b[0m\u001b[0;34m,\u001b[0m \u001b[0mmarker\u001b[0m\u001b[0;34m=\u001b[0m\u001b[0;34m'o'\u001b[0m\u001b[0;34m,\u001b[0m \u001b[0mc\u001b[0m\u001b[0;34m=\u001b[0m\u001b[0;34m'r'\u001b[0m\u001b[0;34m,\u001b[0m \u001b[0medgecolor\u001b[0m\u001b[0;34m=\u001b[0m\u001b[0;34m'k'\u001b[0m\u001b[0;34m,\u001b[0m \u001b[0mlw\u001b[0m\u001b[0;34m=\u001b[0m\u001b[0;36m0.5\u001b[0m\u001b[0;34m)\u001b[0m\u001b[0;34m\u001b[0m\u001b[0;34m\u001b[0m\u001b[0m\n\u001b[1;32m      3\u001b[0m \u001b[0mplt\u001b[0m\u001b[0;34m.\u001b[0m\u001b[0mscatter\u001b[0m\u001b[0;34m(\u001b[0m\u001b[0minput_feature\u001b[0m\u001b[0;34m[\u001b[0m\u001b[0mmodel_r\u001b[0m\u001b[0;34m.\u001b[0m\u001b[0mlabels_\u001b[0m \u001b[0;34m==\u001b[0m \u001b[0;36m2\u001b[0m\u001b[0;34m,\u001b[0m \u001b[0;36m0\u001b[0m\u001b[0;34m]\u001b[0m\u001b[0;34m,\u001b[0m \u001b[0minput_feature\u001b[0m\u001b[0;34m[\u001b[0m\u001b[0mmodel_r\u001b[0m\u001b[0;34m.\u001b[0m\u001b[0mlabels_\u001b[0m \u001b[0;34m==\u001b[0m \u001b[0;36m2\u001b[0m\u001b[0;34m,\u001b[0m \u001b[0;36m1\u001b[0m\u001b[0;34m]\u001b[0m\u001b[0;34m,\u001b[0m \u001b[0mmarker\u001b[0m\u001b[0;34m=\u001b[0m\u001b[0;34m'o'\u001b[0m\u001b[0;34m,\u001b[0m \u001b[0mc\u001b[0m\u001b[0;34m=\u001b[0m\u001b[0;34m'b'\u001b[0m\u001b[0;34m,\u001b[0m \u001b[0medgecolor\u001b[0m\u001b[0;34m=\u001b[0m\u001b[0;34m'k'\u001b[0m\u001b[0;34m,\u001b[0m \u001b[0mlw\u001b[0m\u001b[0;34m=\u001b[0m\u001b[0;36m0.5\u001b[0m\u001b[0;34m)\u001b[0m\u001b[0;34m\u001b[0m\u001b[0;34m\u001b[0m\u001b[0m\n\u001b[1;32m      4\u001b[0m \u001b[0mplt\u001b[0m\u001b[0;34m.\u001b[0m\u001b[0mscatter\u001b[0m\u001b[0;34m(\u001b[0m\u001b[0minput_feature\u001b[0m\u001b[0;34m[\u001b[0m\u001b[0mmodel_r\u001b[0m\u001b[0;34m.\u001b[0m\u001b[0mlabels_\u001b[0m \u001b[0;34m==\u001b[0m \u001b[0;36m3\u001b[0m\u001b[0;34m,\u001b[0m \u001b[0;36m0\u001b[0m\u001b[0;34m]\u001b[0m\u001b[0;34m,\u001b[0m \u001b[0minput_feature\u001b[0m\u001b[0;34m[\u001b[0m\u001b[0mmodel_r\u001b[0m\u001b[0;34m.\u001b[0m\u001b[0mlabels_\u001b[0m \u001b[0;34m==\u001b[0m \u001b[0;36m3\u001b[0m\u001b[0;34m,\u001b[0m \u001b[0;36m1\u001b[0m\u001b[0;34m]\u001b[0m\u001b[0;34m,\u001b[0m \u001b[0mmarker\u001b[0m\u001b[0;34m=\u001b[0m\u001b[0;34m'o'\u001b[0m\u001b[0;34m,\u001b[0m \u001b[0mc\u001b[0m\u001b[0;34m=\u001b[0m\u001b[0;34m'm'\u001b[0m\u001b[0;34m,\u001b[0m \u001b[0medgecolor\u001b[0m\u001b[0;34m=\u001b[0m\u001b[0;34m'k'\u001b[0m\u001b[0;34m,\u001b[0m \u001b[0mlw\u001b[0m\u001b[0;34m=\u001b[0m\u001b[0;36m0.5\u001b[0m\u001b[0;34m)\u001b[0m\u001b[0;34m\u001b[0m\u001b[0;34m\u001b[0m\u001b[0m\n\u001b[1;32m      5\u001b[0m \u001b[0mplt\u001b[0m\u001b[0;34m.\u001b[0m\u001b[0mshow\u001b[0m\u001b[0;34m(\u001b[0m\u001b[0;34m)\u001b[0m\u001b[0;34m\u001b[0m\u001b[0;34m\u001b[0m\u001b[0m\n",
            "\u001b[0;31mIndexError\u001b[0m: boolean index did not match indexed array along dimension 0; dimension is 200 but corresponding boolean dimension is 200000"
          ]
        }
      ],
      "source": [
        "plt.scatter(input_feature[model_r.labels_ == 0, 0], input_feature[model_r.labels_ == 0, 1], marker='o', c='g', edgecolor='k', lw=0.5)\n",
        "plt.scatter(input_feature[model_r.labels_ == 1, 0], input_feature[model_r.labels_ == 1, 1], marker='o', c='r', edgecolor='k', lw=0.5)\n",
        "plt.scatter(input_feature[model_r.labels_ == 2, 0], input_feature[model_r.labels_ == 2, 1], marker='o', c='b', edgecolor='k', lw=0.5)\n",
        "plt.scatter(input_feature[model_r.labels_ == 3, 0], input_feature[model_r.labels_ == 3, 1], marker='o', c='m', edgecolor='k', lw=0.5)\n",
        "plt.show()"
      ]
    },
    {
      "cell_type": "markdown",
      "metadata": {
        "id": "cOJe5A9DKMEJ"
      },
      "source": [
        "## K-Means의 적정 K를 판단하는 방법은 없을까?\n",
        "\n",
        "K-Means는 처음에 클러스터의 갯수를 사람이 직접 설정해줘야하는 제약이 있다.  \n",
        "그럼, 가장 적합한 K는 어떻게 판단할 수 있을까?\n",
        "\n",
        "물론, 정성적으로 판단해서 정하기도 하지만,  \n",
        "Sklearn에서 적정 K를 판단해주는 척도도 제공한다.\n",
        "\n",
        "바로, 위에서 언급했던 Attributes 중 inertia_라는 값이다.\n",
        "\n",
        "inertia = Sum of squared distances of samples to their closest cluster center(자신의 클러스터 중심점과 데이터(samples) 간의 거리의 합)\n",
        "\n",
        "즉, 각 클러스터가 데이터와 중심점이 얼마나 가까이 붙어있는가를 의미하는 값이다.\n",
        "\n",
        "중심점과 데이터가 가까이 붙어있을수록 클러스터의 응집도가 높다고 볼 수 있다.  \n",
        "이 응집도를 클러스터의 평가 척도로 사용할 수 있다.\n",
        "\n",
        "하지만, inertia 값은 본질 상, 클러스터가 커질수록 값이 작아지므로,  \n",
        "클러스터 수에 대한 inertia값의 추세를 보고 적절한 K를 선택해야한다.\n"
      ]
    },
    {
      "cell_type": "code",
      "execution_count": null,
      "metadata": {
        "colab": {
          "base_uri": "https://localhost:8080/"
        },
        "id": "67TWTKspKrkK",
        "outputId": "45f15602-90a4-40cf-8059-e270f99584d2"
      },
      "outputs": [
        {
          "data": {
            "text/plain": [
              "83.42907250607442"
            ]
          },
          "execution_count": 10,
          "metadata": {},
          "output_type": "execute_result"
        }
      ],
      "source": [
        "model_r.inertia_"
      ]
    },
    {
      "cell_type": "markdown",
      "metadata": {
        "id": "m16kOhAHMLeI"
      },
      "source": [
        "그럼, K 를 바꿔보면서 inertia_값의 변화를 한번 살펴보자."
      ]
    },
    {
      "cell_type": "code",
      "execution_count": null,
      "metadata": {
        "colab": {
          "base_uri": "https://localhost:8080/",
          "height": 691
        },
        "id": "1DQf0Z_CMY2b",
        "outputId": "b7b02354-7fb2-4e53-81a4-6ac35a8cb79a"
      },
      "outputs": [
        {
          "name": "stderr",
          "output_type": "stream",
          "text": [
            "/usr/local/lib/python3.10/dist-packages/sklearn/cluster/_kmeans.py:870: FutureWarning: The default value of `n_init` will change from 10 to 'auto' in 1.4. Set the value of `n_init` explicitly to suppress the warning\n",
            "  warnings.warn(\n",
            "/usr/local/lib/python3.10/dist-packages/sklearn/cluster/_kmeans.py:870: FutureWarning: The default value of `n_init` will change from 10 to 'auto' in 1.4. Set the value of `n_init` explicitly to suppress the warning\n",
            "  warnings.warn(\n",
            "/usr/local/lib/python3.10/dist-packages/sklearn/cluster/_kmeans.py:870: FutureWarning: The default value of `n_init` will change from 10 to 'auto' in 1.4. Set the value of `n_init` explicitly to suppress the warning\n",
            "  warnings.warn(\n",
            "/usr/local/lib/python3.10/dist-packages/sklearn/cluster/_kmeans.py:870: FutureWarning: The default value of `n_init` will change from 10 to 'auto' in 1.4. Set the value of `n_init` explicitly to suppress the warning\n",
            "  warnings.warn(\n",
            "/usr/local/lib/python3.10/dist-packages/sklearn/cluster/_kmeans.py:870: FutureWarning: The default value of `n_init` will change from 10 to 'auto' in 1.4. Set the value of `n_init` explicitly to suppress the warning\n",
            "  warnings.warn(\n",
            "/usr/local/lib/python3.10/dist-packages/sklearn/cluster/_kmeans.py:870: FutureWarning: The default value of `n_init` will change from 10 to 'auto' in 1.4. Set the value of `n_init` explicitly to suppress the warning\n",
            "  warnings.warn(\n"
          ]
        },
        {
          "data": {
            "image/png": "[encoded data removed]",
            "text/plain": [
              "<Figure size 640x480 with 1 Axes>"
            ]
          },
          "metadata": {},
          "output_type": "display_data"
        }
      ],
      "source": [
        "set_k = [k for k in range(2, 8)]\n",
        "set_inertia = []\n",
        "for k in set_k:\n",
        "    model = KMeans(n_clusters=k)\n",
        "    model.fit(input_feature)\n",
        "\n",
        "    set_inertia.append(model.inertia_)\n",
        "\n",
        "plt.plot(set_k, set_inertia, '-o')\n",
        "\n",
        "plt.title('Relationship of Num.Cluster and inertia')\n",
        "plt.xlabel('Num.Cluster')\n",
        "plt.ylabel('inertia')\n",
        "plt.xticks(set_k)\n",
        "plt.grid()\n",
        "plt.show()"
      ]
    },
    {
      "cell_type": "markdown",
      "metadata": {
        "id": "fE4S9KMlNexg"
      },
      "source": [
        "## 데이터의 개수가 많으면, K-Means의 수행 시간은 어떻게 달라질까?\n",
        "\n",
        "데이터가 매우 커지지 않는 이상, 큰 차이는 나지 않습니다.\n",
        "\n",
        "**[잠깐! 상식]**  \n",
        "코드 수행 시간을 체크할 때, 보통 time 패키지를 사용합니다.  \n",
        "time.time() 은 해당 현재 시각을 반환해주는 함수로서,  \n",
        "이 함수를 수행시간을 체크해볼 코드 앞뒤에 넣어서 시각의 차이를 계산함으로써, 수행시간을 체크합니다."
      ]
    },
    {
      "cell_type": "code",
      "execution_count": null,
      "metadata": {
        "colab": {
          "base_uri": "https://localhost:8080/"
        },
        "id": "S9wHugBgV2Lh",
        "outputId": "9eecc2a0-1501-4ce2-dcd5-6442d0689f09"
      },
      "outputs": [
        {
          "name": "stderr",
          "output_type": "stream",
          "text": [
            "/usr/local/lib/python3.10/dist-packages/sklearn/cluster/_kmeans.py:870: FutureWarning: The default value of `n_init` will change from 10 to 'auto' in 1.4. Set the value of `n_init` explicitly to suppress the warning\n",
            "  warnings.warn(\n"
          ]
        },
        {
          "data": {
            "text/plain": [
              "0.015959978103637695"
            ]
          },
          "execution_count": 12,
          "metadata": {},
          "output_type": "execute_result"
        }
      ],
      "source": [
        "import time\n",
        "\n",
        "start = time.time()\n",
        "model_r = KMeans(n_clusters=3, init=\"random\").fit(input_feature)\n",
        "end = time.time()\n",
        "\n",
        "end - start"
      ]
    },
    {
      "cell_type": "code",
      "execution_count": null,
      "metadata": {
        "id": "OEJ12LKFS1dk"
      },
      "outputs": [],
      "source": [
        "input_expended, _ = make_blobs(n_samples=200000, centers=1, cluster_std=0.5, random_state=30)"
      ]
    },
    {
      "cell_type": "code",
      "execution_count": null,
      "metadata": {
        "colab": {
          "base_uri": "https://localhost:8080/"
        },
        "id": "LPnDzVDjS2ag",
        "outputId": "1f315268-8c0d-4335-9d36-4da363d5f27c"
      },
      "outputs": [
        {
          "name": "stderr",
          "output_type": "stream",
          "text": [
            "/usr/local/lib/python3.10/dist-packages/sklearn/cluster/_kmeans.py:870: FutureWarning: The default value of `n_init` will change from 10 to 'auto' in 1.4. Set the value of `n_init` explicitly to suppress the warning\n",
            "  warnings.warn(\n"
          ]
        },
        {
          "data": {
            "text/plain": [
              "0.5087223052978516"
            ]
          },
          "execution_count": 14,
          "metadata": {},
          "output_type": "execute_result"
        }
      ],
      "source": [
        "start = time.time()\n",
        "model_r = KMeans(n_clusters=3, init=\"random\").fit(input_expended)\n",
        "end = time.time()\n",
        "\n",
        "end - start"
      ]
    },
    {
      "cell_type": "markdown",
      "metadata": {
        "id": "q2hONiBTWCE0"
      },
      "source": [
        "## K-Means 외의 다른 Clustering 방법론은 뭐가 있을까?\n",
        "\n",
        "기본적인 K-Means 외에도 K-Means를 보완한 버전의 모델이 여러가지 있습니다.\n",
        ".\n",
        "또한, K-Means와 다른 방식으로 클러스터링을 하는 모델도 여러가지 있습니다.\n",
        "계층적클러스터링, DBSCAN, Spectral Clustering 등이 있습니다.\n"
      ]
    },
    {
      "cell_type": "markdown",
      "metadata": {
        "id": "OeZk5AibhIpi"
      },
      "source": [
        "## 그럼, 이러한 다양한 선택지 가운데, 어떤 것을 선택해야 할까?\n",
        "\n",
        "기본적으로 각 방법론마다 궁합(?)이 맞는 특정 데이터 조건들이 있습니다.\n",
        "\n",
        "자세한 내용은 직접 페이지에 들어가서 살펴봅시다.  \n",
        "https://scikit-learn.org/stable/modules/clustering.html"
      ]
    }
  ],
  "metadata": {
    "colab": {
      "provenance": []
    },
    "kernelspec": {
      "display_name": "Python 3",
      "language": "python",
      "name": "python3"
    },
    "language_info": {
      "codemirror_mode": {
        "name": "ipython",
        "version": 3
      },
      "file_extension": ".py",
      "mimetype": "text/x-python",
      "name": "python",
      "nbconvert_exporter": "python",
      "pygments_lexer": "ipython3",
      "version": "3.10.9"
    }
  },
  "nbformat": 4,
  "nbformat_minor": 0
}
