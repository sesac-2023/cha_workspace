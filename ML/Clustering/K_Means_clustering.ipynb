{
  "cells": [
    {
      "cell_type": "markdown",
      "metadata": {
        "id": "bhWA4kJcBKVZ"
      },
      "source": [
        "# K-Means Clustering(군집화)\n",
        "- 비지도학습(Unsupervised Learning)의 대표적인 군집화(Clustering) 알고리즘\n",
        "- 데이터를 K개의 클러스터로 묶고 각 클러스터는 데이터 포인트들의 유사성에 따라 형성\n",
        "- 각 클러스터의 중심점과 데이터 포인트들 간의 거리를 기반으로 클러스터링을 수행\n",
        "- 할당 단계와 업데이트 단계를 반복하면서 클러스터를 형성\n",
        "- 최종 결과로는 데이터셋의 데이터가 각각 어떤 클러스터에 속하는지 결정"
      ]
    },
    {
      "cell_type": "code",
      "execution_count": 1,
      "metadata": {
        "id": "6AIHecsVBKVg"
      },
      "outputs": [],
      "source": [
        "from sklearn.cluster import KMeans\n",
        "from sklearn.datasets import make_blobs\n",
        "import pandas as pd\n",
        "import seaborn as sns\n",
        "\n",
        "import matplotlib.pyplot as plt\n",
        "import numpy as np"
      ]
    },
    {
      "cell_type": "markdown",
      "metadata": {
        "id": "nsmdfQWWBKVo"
      },
      "source": [
        "## 200개의 데이터 포인트로 구성된 가상의 클러스터링 데이터셋 `input_feature` 생성"
      ]
    },
    {
      "cell_type": "code",
      "execution_count": 2,
      "metadata": {
        "colab": {
          "base_uri": "https://localhost:8080/"
        },
        "id": "J_qEHTDvBKVq",
        "outputId": "ad4d19d0-a533-40c8-b2c5-659467d92970"
      },
      "outputs": [
        {
          "data": {
            "text/plain": [
              "array([[ 3.25996508, -6.62137997],\n",
              "       [ 2.68090757, -1.87003254],\n",
              "       [ 2.54961207, -2.3823171 ],\n",
              "       [ 2.03248083, -6.97156632],\n",
              "       [ 3.04871092, -2.1664995 ]])"
            ]
          },
          "execution_count": 2,
          "metadata": {},
          "output_type": "execute_result"
        }
      ],
      "source": [
        "input_feature, _ = make_blobs(n_samples=200, centers=2, cluster_std=0.5, random_state=30) #데이터, #중심값\n",
        "# print(input_feature)\n",
        "input_feature[:5]"
      ]
    },
    {
      "cell_type": "markdown",
      "metadata": {
        "id": "VJu1mXqCwmtF"
      },
      "source": [
        "## 코드 설명\n",
        "1. `make_blobs(n_samples=200, centers=2, cluster_std=0.5, random_state=30)`\n",
        "\n",
        "-  `make_blobs` 함수는 가상의 클러스터링 데이터셋을 생성하는 함수\n",
        "- 주어진 매개변수에 따라 여러 개의 클러스터를 생성\n",
        "\n",
        "- `n_samples`: 생성할 데이터 포인트(샘플)의 개수를 지정\n",
        "- `centers`: 클러스터의 개수를 지정\n",
        "- `cluster_std`: 클러스터 내 데이터의 표준 편차를 지정\n",
        "- `random_state`: 랜덤 시드를 설정하여 데이터 생성의 재현성을 보장  \n",
        ".\n",
        "\n",
        "2. `input_feature[:5]`\n",
        "- 생성된 데이터셋 `input_feature`의 처음 5개 데이터 포인트를 출력\n",
        "-  2차원 배열로, 각 행은 2개의 특성으로 구성된 데이터 포인트를 나타냄\n"
      ]
    },
    {
      "cell_type": "code",
      "execution_count": 3,
      "metadata": {
        "colab": {
          "base_uri": "https://localhost:8080/"
        },
        "id": "djn_T-KMAkd9",
        "outputId": "4856ee8d-c621-4ff4-abca-d2fc11860df5"
      },
      "outputs": [
        {
          "data": {
            "text/plain": [
              "(200, 2)"
            ]
          },
          "execution_count": 3,
          "metadata": {},
          "output_type": "execute_result"
        }
      ],
      "source": [
        "input_feature.shape"
      ]
    },
    {
      "cell_type": "markdown",
      "metadata": {
        "id": "dR-_6EBhyzm9"
      },
      "source": [
        "---\n",
        "## 2차원 데이터셋 시각화\n",
        "- `input_feature` 데이터셋의 첫 번째 열을 x축으로, 두 번째 열을 y축으로 사용하여 데이터 포인트를 산점도로 표시"
      ]
    },
    {
      "cell_type": "code",
      "execution_count": 4,
      "metadata": {
        "colab": {
          "base_uri": "https://localhost:8080/",
          "height": 430
        },
        "id": "n09l6Z8tBKV3",
        "outputId": "db0945cf-b345-4fd4-ee00-7a1642533594"
      },
      "outputs": [
        {
          "name": "stderr",
          "output_type": "stream",
          "text": [
            "c:\\Users\\user\\anaconda3\\envs\\mecab\\lib\\site-packages\\IPython\\core\\pylabtools.py:152: UserWarning: Glyph 8722 (\\N{MINUS SIGN}) missing from current font.\n",
            "  fig.canvas.print_figure(bytes_io, **kw)\n"
          ]
        },
        {
          "data": {
            "image/png": "[encoded data removed]",
            "text/plain": [
              "<Figure size 640x480 with 1 Axes>"
            ]
          },
          "metadata": {},
          "output_type": "display_data"
        }
      ],
      "source": [
        "plt.scatter(input_feature[:, 0], input_feature[:, 1], c='blue', edgecolor='k', lw=0.5)\n",
        "plt.show()"
      ]
    },
    {
      "cell_type": "markdown",
      "metadata": {
        "id": "Sqjlzmn2y5E9"
      },
      "source": [
        "### 코드 설명\n",
        "1. `plt.scatter(input_feature[:, 0], input_feature[:, 1], c='blue', edgecolor='k', lw=0.5)`:\n",
        "- `plt.scatter` 산점도로 시각화\n",
        "- `input_feature[:, 0]`: 데이터셋 `input_feature`의 첫 번째 열(특성)에 해당하는 데이터를 x축으로 사용\n",
        "- `input_feature[:, 1]`: 데이터셋 `input_feature`의 두 번째 열(특성)에 해당하는 데이터를 y축으로 사용\n",
        "- `c='blue'`: 데이터 포인트의 색상을 파란색(blue)으로 설정\n",
        "- `edgecolor='k'`: 데이터 포인트의 테두리 색상을 검정색(black)으로 설정.\n",
        "- `lw=0.5`: 데이터 포인트의 테두리 두께를 0.5로 설정  \n"
      ]
    },
    {
      "cell_type": "markdown",
      "metadata": {
        "id": "onwxGJOtE4QS"
      },
      "source": [
        ">>"
      ]
    },
    {
      "cell_type": "markdown",
      "metadata": {
        "id": "K6Y386gD0ZR1"
      },
      "source": [
        "---"
      ]
    },
    {
      "cell_type": "markdown",
      "metadata": {
        "id": "bfNovIxfBKV_"
      },
      "source": [
        "## KMeans (초기화 = random)"
      ]
    },
    {
      "cell_type": "code",
      "execution_count": 5,
      "metadata": {
        "colab": {
          "base_uri": "https://localhost:8080/"
        },
        "id": "XQH8BI3-BKWB",
        "outputId": "276af7c7-8d0d-4442-f2f0-86ba3e091676"
      },
      "outputs": [
        {
          "name": "stderr",
          "output_type": "stream",
          "text": [
            "c:\\Users\\user\\anaconda3\\envs\\mecab\\lib\\site-packages\\sklearn\\cluster\\_kmeans.py:1412: FutureWarning: The default value of `n_init` will change from 10 to 'auto' in 1.4. Set the value of `n_init` explicitly to suppress the warning\n",
            "  super()._check_params_vs_input(X, default_n_init=10)\n"
          ]
        }
      ],
      "source": [
        "# 실습 코드 주피터에서 작동 안됨 -> 코랩에서 실행하기\n",
        "model_r = KMeans(n_clusters=3, init=\"random\").fit(input_feature)"
      ]
    },
    {
      "cell_type": "markdown",
      "metadata": {
        "id": "UFK9C5ii01jH"
      },
      "source": [
        "## 코드 설명\n",
        "1. `KMeans(n_clusters=3, init=\"random\")`: `KMeans` 객체를 생성\n",
        "- `n_clusters=3`: 생성할 클러스터의 개수를 3으로 설정\n",
        "- `init=\"random\"`: 초기 중심점을 랜덤하게 선택하여 K-Means 알고리즘을 시작 (다른 초기화 방법: `\"k-means++\"` 등)\n",
        ".\n",
        "2. `.fit(input_feature)`\n",
        "- 생성한 `KMeans` 객체를 사용하여 데이터를 클러스터링\n",
        "- `fit` 메서드를 호출하여 알고리즘 실행\n",
        "- `input_feature`: 클러스터링할 데이터셋"
      ]
    },
    {
      "cell_type": "markdown",
      "metadata": {
        "id": "CRC_eqVU3ca3"
      },
      "source": [
        "---"
      ]
    },
    {
      "cell_type": "markdown",
      "metadata": {
        "id": "NfG-VdbcBKWJ"
      },
      "source": [
        "Attributes of sklearn.clustering.KMeans\n",
        "\n",
        "- cluster__centers_ : Coordinates of cluster centers\n",
        "\n",
        "- labels_ : Labels of each point\n",
        "\n",
        "- inertia_ : Sum of squared distances of samples to their closest cluster center.\n",
        "\n",
        "- n__iter_ : Number of iterations run."
      ]
    },
    {
      "cell_type": "code",
      "execution_count": 8,
      "metadata": {
        "colab": {
          "base_uri": "https://localhost:8080/"
        },
        "id": "mlvI_AuVBKWL",
        "outputId": "1f9430bb-1a3f-460c-d3f3-b51f735d0dba"
      },
      "outputs": [
        {
          "data": {
            "text/plain": [
              "array([[ 2.91383768, -2.41786968],\n",
              "       [ 2.93505431, -6.38972461],\n",
              "       [ 3.40304381, -7.13618921]])"
            ]
          },
          "execution_count": 8,
          "metadata": {},
          "output_type": "execute_result"
        }
      ],
      "source": [
        "# center = np.zeros([3, 2])\n",
        "center = model_r.cluster_centers_\n",
        "center"
      ]
    },
    {
      "cell_type": "code",
      "execution_count": 7,
      "metadata": {
        "id": "3YmxX2WSBKWV"
      },
      "outputs": [],
      "source": [
        "c0 = center[0]\n",
        "c1 = center[1]\n",
        "c2 = center[2]"
      ]
    },
    {
      "cell_type": "markdown",
      "metadata": {
        "id": "pdlEdbwMImif"
      },
      "source": [
        "**그럼 이제, 데이터가 클러스터링된 결과를 시각화해서 확인해보자**  \n",
        ".  \n",
        "plt.scatter(cluster_0 에 속한 데이터만, 초록색(g)으로)  \n",
        "plt.scatter(cluster_1 에 속한 데이터만, 빨간색(r)으로)  \n",
        "plt.scatter(cluster_2 에 속한 데이터만, 파란색(b)으로)  \n",
        ".  \n",
        "plt.scatter(cluster_0 중심값, size는 200으로) # 기본값 = 100  \n",
        "plt.scatter(cluster_1 중심값, size는 200으로) # 기본값 = 100  \n",
        "plt.scatter(cluster_2 중심값, size는 200으로) # 기본값 = 100"
      ]
    },
    {
      "cell_type": "code",
      "execution_count": 9,
      "metadata": {
        "colab": {
          "base_uri": "https://localhost:8080/",
          "height": 430
        },
        "id": "MPy2QmiTBKWb",
        "outputId": "171ddf2c-22df-489c-b747-335936b2b284"
      },
      "outputs": [
        {
          "name": "stderr",
          "output_type": "stream",
          "text": [
            "c:\\Users\\user\\anaconda3\\envs\\mecab\\lib\\site-packages\\IPython\\core\\pylabtools.py:152: UserWarning: Glyph 8722 (\\N{MINUS SIGN}) missing from current font.\n",
            "  fig.canvas.print_figure(bytes_io, **kw)\n"
          ]
        },
        {
          "data": {
            "image/png": "[encoded data removed]",
            "text/plain": [
              "<Figure size 640x480 with 1 Axes>"
            ]
          },
          "metadata": {},
          "output_type": "display_data"
        }
      ],
      "source": [
        "plt.scatter(input_feature[model_r.labels_ == 0, 0], input_feature[model_r.labels_ == 0, 1], marker='o', c='g', edgecolor='k', lw=0.5)\n",
        "plt.scatter(input_feature[model_r.labels_ == 1, 0], input_feature[model_r.labels_ == 1, 1], marker='o', c='r', edgecolor='k', lw=0.5)\n",
        "plt.scatter(input_feature[model_r.labels_ == 2, 0], input_feature[model_r.labels_ == 2, 1], marker='o', c='b', edgecolor='k', lw=0.5)\n",
        "plt.scatter(c0[0], c0[1], s=200, c=\"g\", edgecolor='k', lw=1)\n",
        "plt.scatter(c1[0], c1[1], s=200, c=\"r\", edgecolor='k', lw=1)\n",
        "plt.scatter(c2[0], c2[1], s=200, c=\"b\", edgecolor='k', lw=1)\n",
        "plt.show()"
      ]
    },
    {
      "cell_type": "markdown",
      "metadata": {
        "id": "75twW8ySBKWi"
      },
      "source": [
        "## 초기화를 K-Means++로 수정해보자."
      ]
    },
    {
      "cell_type": "code",
      "execution_count": 10,
      "metadata": {
        "colab": {
          "base_uri": "https://localhost:8080/"
        },
        "id": "x0QcF935BKWn",
        "outputId": "fa8d5ca0-c612-4e97-f3bf-d9101e1dc8e2"
      },
      "outputs": [
        {
          "name": "stderr",
          "output_type": "stream",
          "text": [
            "c:\\Users\\user\\anaconda3\\envs\\mecab\\lib\\site-packages\\sklearn\\cluster\\_kmeans.py:1412: FutureWarning: The default value of `n_init` will change from 10 to 'auto' in 1.4. Set the value of `n_init` explicitly to suppress the warning\n",
            "  super()._check_params_vs_input(X, default_n_init=10)\n"
          ]
        }
      ],
      "source": [
        "model_pp = KMeans(n_clusters=4, init=\"k-means++\").fit(input_feature)"
      ]
    },
    {
      "cell_type": "code",
      "execution_count": 11,
      "metadata": {
        "colab": {
          "base_uri": "https://localhost:8080/",
          "height": 430
        },
        "id": "2uYCcgpjKKVp",
        "outputId": "a85ca92f-2c9f-4387-8cb7-be556d150620"
      },
      "outputs": [
        {
          "name": "stderr",
          "output_type": "stream",
          "text": [
            "c:\\Users\\user\\anaconda3\\envs\\mecab\\lib\\site-packages\\IPython\\core\\pylabtools.py:152: UserWarning: Glyph 8722 (\\N{MINUS SIGN}) missing from current font.\n",
            "  fig.canvas.print_figure(bytes_io, **kw)\n"
          ]
        },
        {
          "data": {
            "image/png": "[encoded data removed]",
            "text/plain": [
              "<Figure size 640x480 with 1 Axes>"
            ]
          },
          "metadata": {},
          "output_type": "display_data"
        }
      ],
      "source": [
        "plt.scatter(input_feature[model_r.labels_ == 0, 0], input_feature[model_r.labels_ == 0, 1], marker='o', c='g', edgecolor='k', lw=0.5)\n",
        "plt.scatter(input_feature[model_r.labels_ == 1, 0], input_feature[model_r.labels_ == 1, 1], marker='o', c='r', edgecolor='k', lw=0.5)\n",
        "plt.scatter(input_feature[model_r.labels_ == 2, 0], input_feature[model_r.labels_ == 2, 1], marker='o', c='b', edgecolor='k', lw=0.5)\n",
        "plt.scatter(input_feature[model_r.labels_ == 3, 0], input_feature[model_r.labels_ == 3, 1], marker='o', c='m', edgecolor='k', lw=0.5)\n",
        "plt.show()"
      ]
    },
    {
      "cell_type": "markdown",
      "metadata": {
        "id": "cOJe5A9DKMEJ"
      },
      "source": [
        "## K-Means의 적정 K를 판단하는 방법은 없을까?\n",
        "\n",
        "K-Means는 처음에 클러스터의 갯수를 사람이 직접 설정해줘야하는 제약이 있다.  \n",
        "그럼, 가장 적합한 K는 어떻게 판단할 수 있을까?\n",
        "\n",
        "물론, 정성적으로 판단해서 정하기도 하지만,  \n",
        "Sklearn에서 적정 K를 판단해주는 척도도 제공한다.\n",
        "\n",
        "바로, 위에서 언급했던 Attributes 중 inertia_라는 값이다.\n",
        "\n",
        "inertia = Sum of squared distances of samples to their closest cluster center(자신의 클러스터 중심점과 데이터(samples) 간의 거리의 합)\n",
        "\n",
        "즉, 각 클러스터가 데이터와 중심점이 얼마나 가까이 붙어있는가를 의미하는 값이다.\n",
        "\n",
        "중심점과 데이터가 가까이 붙어있을수록 클러스터의 응집도가 높다고 볼 수 있다.  \n",
        "이 응집도를 클러스터의 평가 척도로 사용할 수 있다.\n",
        "\n",
        "하지만, inertia 값은 본질 상, 클러스터가 커질수록 값이 작아지므로,  \n",
        "클러스터 수에 대한 inertia값의 추세를 보고 적절한 K를 선택해야한다.\n"
      ]
    },
    {
      "cell_type": "code",
      "execution_count": 12,
      "metadata": {
        "colab": {
          "base_uri": "https://localhost:8080/"
        },
        "id": "67TWTKspKrkK",
        "outputId": "9b4b896a-5f6d-4bf5-9e38-48b91b77f48a"
      },
      "outputs": [
        {
          "data": {
            "text/plain": [
              "83.4866995828344"
            ]
          },
          "execution_count": 12,
          "metadata": {},
          "output_type": "execute_result"
        }
      ],
      "source": [
        "model_r.inertia_"
      ]
    },
    {
      "cell_type": "markdown",
      "metadata": {
        "id": "m16kOhAHMLeI"
      },
      "source": [
        "그럼, K 를 바꿔보면서 inertia_값의 변화를 한번 살펴보자."
      ]
    },
    {
      "cell_type": "code",
      "execution_count": 13,
      "metadata": {
        "colab": {
          "base_uri": "https://localhost:8080/",
          "height": 692
        },
        "id": "1DQf0Z_CMY2b",
        "outputId": "95fd22cf-9e0c-43be-c54f-348fd8be8345"
      },
      "outputs": [
        {
          "name": "stderr",
          "output_type": "stream",
          "text": [
            "c:\\Users\\user\\anaconda3\\envs\\mecab\\lib\\site-packages\\sklearn\\cluster\\_kmeans.py:1412: FutureWarning: The default value of `n_init` will change from 10 to 'auto' in 1.4. Set the value of `n_init` explicitly to suppress the warning\n",
            "  super()._check_params_vs_input(X, default_n_init=10)\n",
            "c:\\Users\\user\\anaconda3\\envs\\mecab\\lib\\site-packages\\sklearn\\cluster\\_kmeans.py:1412: FutureWarning: The default value of `n_init` will change from 10 to 'auto' in 1.4. Set the value of `n_init` explicitly to suppress the warning\n",
            "  super()._check_params_vs_input(X, default_n_init=10)\n",
            "c:\\Users\\user\\anaconda3\\envs\\mecab\\lib\\site-packages\\sklearn\\cluster\\_kmeans.py:1412: FutureWarning: The default value of `n_init` will change from 10 to 'auto' in 1.4. Set the value of `n_init` explicitly to suppress the warning\n",
            "  super()._check_params_vs_input(X, default_n_init=10)\n",
            "c:\\Users\\user\\anaconda3\\envs\\mecab\\lib\\site-packages\\sklearn\\cluster\\_kmeans.py:1412: FutureWarning: The default value of `n_init` will change from 10 to 'auto' in 1.4. Set the value of `n_init` explicitly to suppress the warning\n",
            "  super()._check_params_vs_input(X, default_n_init=10)\n",
            "c:\\Users\\user\\anaconda3\\envs\\mecab\\lib\\site-packages\\sklearn\\cluster\\_kmeans.py:1412: FutureWarning: The default value of `n_init` will change from 10 to 'auto' in 1.4. Set the value of `n_init` explicitly to suppress the warning\n",
            "  super()._check_params_vs_input(X, default_n_init=10)\n",
            "c:\\Users\\user\\anaconda3\\envs\\mecab\\lib\\site-packages\\sklearn\\cluster\\_kmeans.py:1412: FutureWarning: The default value of `n_init` will change from 10 to 'auto' in 1.4. Set the value of `n_init` explicitly to suppress the warning\n",
            "  super()._check_params_vs_input(X, default_n_init=10)\n"
          ]
        },
        {
          "data": {
            "image/png": "[encoded data removed]",
            "text/plain": [
              "<Figure size 640x480 with 1 Axes>"
            ]
          },
          "metadata": {},
          "output_type": "display_data"
        }
      ],
      "source": [
        "set_k = [k for k in range(2, 8)]\n",
        "set_inertia = []\n",
        "for k in set_k:\n",
        "    model = KMeans(n_clusters=k)\n",
        "    model.fit(input_feature)\n",
        "\n",
        "    set_inertia.append(model.inertia_)\n",
        "\n",
        "plt.plot(set_k, set_inertia, '-o')\n",
        "\n",
        "plt.title('Relationship of Num.Cluster and inertia')\n",
        "plt.xlabel('Num.Cluster')\n",
        "plt.ylabel('inertia')\n",
        "plt.xticks(set_k)\n",
        "plt.grid()\n",
        "plt.show()"
      ]
    },
    {
      "cell_type": "markdown",
      "metadata": {
        "id": "fE4S9KMlNexg"
      },
      "source": [
        "## 데이터의 개수가 많으면, K-Means의 수행 시간은 어떻게 달라질까?\n",
        "\n",
        "데이터가 매우 커지지 않는 이상, 큰 차이는 나지 않습니다.\n",
        "\n",
        "**[잠깐! 상식]**  \n",
        "코드 수행 시간을 체크할 때, 보통 time 패키지를 사용합니다.  \n",
        "time.time() 은 해당 현재 시각을 반환해주는 함수로서,  \n",
        "이 함수를 수행시간을 체크해볼 코드 앞뒤에 넣어서 시각의 차이를 계산함으로써, 수행시간을 체크합니다."
      ]
    },
    {
      "cell_type": "code",
      "execution_count": 14,
      "metadata": {
        "colab": {
          "base_uri": "https://localhost:8080/"
        },
        "id": "S9wHugBgV2Lh",
        "outputId": "7cc53f74-47b7-4709-c49b-d9494e3c66a7"
      },
      "outputs": [
        {
          "name": "stderr",
          "output_type": "stream",
          "text": [
            "c:\\Users\\user\\anaconda3\\envs\\mecab\\lib\\site-packages\\sklearn\\cluster\\_kmeans.py:1412: FutureWarning: The default value of `n_init` will change from 10 to 'auto' in 1.4. Set the value of `n_init` explicitly to suppress the warning\n",
            "  super()._check_params_vs_input(X, default_n_init=10)\n"
          ]
        },
        {
          "data": {
            "text/plain": [
              "0.0200040340423584"
            ]
          },
          "execution_count": 14,
          "metadata": {},
          "output_type": "execute_result"
        }
      ],
      "source": [
        "import time\n",
        "\n",
        "start = time.time()\n",
        "model_r = KMeans(n_clusters=3, init=\"random\").fit(input_feature)\n",
        "end = time.time()\n",
        "\n",
        "end - start"
      ]
    },
    {
      "cell_type": "code",
      "execution_count": 15,
      "metadata": {
        "id": "OEJ12LKFS1dk"
      },
      "outputs": [],
      "source": [
        "input_expended, _ = make_blobs(n_samples=200000, centers=1, cluster_std=0.5, random_state=30)"
      ]
    },
    {
      "cell_type": "code",
      "execution_count": 16,
      "metadata": {
        "colab": {
          "base_uri": "https://localhost:8080/"
        },
        "id": "LPnDzVDjS2ag",
        "outputId": "6570068f-5ca8-4cea-db78-4c83cd7db90b"
      },
      "outputs": [
        {
          "name": "stderr",
          "output_type": "stream",
          "text": [
            "c:\\Users\\user\\anaconda3\\envs\\mecab\\lib\\site-packages\\sklearn\\cluster\\_kmeans.py:1412: FutureWarning: The default value of `n_init` will change from 10 to 'auto' in 1.4. Set the value of `n_init` explicitly to suppress the warning\n",
            "  super()._check_params_vs_input(X, default_n_init=10)\n"
          ]
        },
        {
          "data": {
            "text/plain": [
              "0.37781429290771484"
            ]
          },
          "execution_count": 16,
          "metadata": {},
          "output_type": "execute_result"
        }
      ],
      "source": [
        "start = time.time()\n",
        "model_r = KMeans(n_clusters=3, init=\"random\").fit(input_expended)\n",
        "end = time.time()\n",
        "\n",
        "end - start"
      ]
    },
    {
      "cell_type": "markdown",
      "metadata": {
        "id": "q2hONiBTWCE0"
      },
      "source": [
        "## K-Means 외의 다른 Clustering 방법론은 뭐가 있을까?\n",
        "\n",
        "기본적인 K-Means 외에도 K-Means를 보완한 버전의 모델이 여러가지 있습니다.\n",
        ".\n",
        "또한, K-Means와 다른 방식으로 클러스터링을 하는 모델도 여러가지 있습니다.\n",
        "계층적클러스터링, DBSCAN, Spectral Clustering 등이 있습니다.\n"
      ]
    },
    {
      "cell_type": "markdown",
      "metadata": {
        "id": "OeZk5AibhIpi"
      },
      "source": [
        "## 그럼, 이러한 다양한 선택지 가운데, 어떤 것을 선택해야 할까?\n",
        "\n",
        "기본적으로 각 방법론마다 궁합(?)이 맞는 특정 데이터 조건들이 있습니다.\n",
        "\n",
        "자세한 내용은 직접 페이지에 들어가서 살펴봅시다.  \n",
        "https://scikit-learn.org/stable/modules/clustering.html"
      ]
    }
  ],
  "metadata": {
    "colab": {
      "provenance": []
    },
    "kernelspec": {
      "display_name": "Python 3",
      "language": "python",
      "name": "python3"
    },
    "language_info": {
      "codemirror_mode": {
        "name": "ipython",
        "version": 3
      },
      "file_extension": ".py",
      "mimetype": "text/x-python",
      "name": "python",
      "nbconvert_exporter": "python",
      "pygments_lexer": "ipython3",
      "version": "3.8.0"
    }
  },
  "nbformat": 4,
  "nbformat_minor": 0
}
