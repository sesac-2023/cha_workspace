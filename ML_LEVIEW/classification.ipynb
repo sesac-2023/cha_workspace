{
 "cells": [
  {
   "cell_type": "code",
   "execution_count": 1,
   "metadata": {},
   "outputs": [
    {
     "name": "stdout",
     "output_type": "stream",
     "text": [
      "[[ 2.]\n",
      " [ 4.]\n",
      " [ 6.]\n",
      " [ 8.]\n",
      " [10.]\n",
      " [12.]\n",
      " [14.]\n",
      " [16.]\n",
      " [18.]\n",
      " [20.]]\n",
      "[[0]\n",
      " [0]\n",
      " [0]\n",
      " [0]\n",
      " [0]\n",
      " [0]\n",
      " [1]\n",
      " [1]\n",
      " [1]\n",
      " [1]]\n"
     ]
    }
   ],
   "source": [
    "import numpy as np\n",
    "x_data = np.linspace(2, 20, 10).reshape(10, 1)\n",
    "t_data = np.array([0, 0, 0, 0, 0, 0, 1, 1, 1, 1]).reshape(10, 1)\n",
    "# x_data - 공부시간\n",
    "# t_data - 합격여부 0 불합격, 1 합격\n",
    "print(x_data)\n",
    "print(t_data)"
   ]
  },
  {
   "cell_type": "code",
   "execution_count": 2,
   "metadata": {},
   "outputs": [
    {
     "data": {
      "text/plain": [
       "array([[ 2.],\n",
       "       [ 4.],\n",
       "       [ 6.],\n",
       "       [ 8.],\n",
       "       [10.],\n",
       "       [12.],\n",
       "       [14.],\n",
       "       [16.],\n",
       "       [18.],\n",
       "       [20.]])"
      ]
     },
     "execution_count": 2,
     "metadata": {},
     "output_type": "execute_result"
    }
   ],
   "source": [
    "np.linspace(2, 20, 10).reshape(10, -1)"
   ]
  },
  {
   "cell_type": "code",
   "execution_count": 3,
   "metadata": {},
   "outputs": [
    {
     "name": "stdout",
     "output_type": "stream",
     "text": [
      "Wx + b : [[0.60729996]]x + [0.46964722]\n"
     ]
    }
   ],
   "source": [
    "# H(x) = Wx + b\n",
    "W = np.random.rand(1, 1)\n",
    "b = np.random.rand(1)\n",
    "print(f\"Wx + b : {W}x + {b}\")"
   ]
  },
  {
   "cell_type": "code",
   "execution_count": 4,
   "metadata": {},
   "outputs": [
    {
     "data": {
      "text/plain": [
       "array([0.9892067])"
      ]
     },
     "execution_count": 4,
     "metadata": {},
     "output_type": "execute_result"
    }
   ],
   "source": [
    "np.random.rand(1)"
   ]
  },
  {
   "cell_type": "code",
   "execution_count": 5,
   "metadata": {},
   "outputs": [
    {
     "data": {
      "text/plain": [
       "array([[0.70846405]])"
      ]
     },
     "execution_count": 5,
     "metadata": {},
     "output_type": "execute_result"
    }
   ],
   "source": [
    "np.random.rand(1,1)"
   ]
  },
  {
   "cell_type": "code",
   "execution_count": 6,
   "metadata": {},
   "outputs": [],
   "source": [
    "# 활성화 함수 Activation Func\n",
    "def sigmoid(z):\n",
    "    return 1 / (1 + np.exp(-z))"
   ]
  },
  {
   "cell_type": "code",
   "execution_count": 7,
   "metadata": {},
   "outputs": [],
   "source": [
    "def loss_func(x, t):\n",
    "\n",
    "    delta = 1e-7\n",
    "\n",
    "    z = np.dot(x, W) + b # Wx + b\n",
    "    y = sigmoid(z)\n",
    "    \n",
    "    # Cross-Entropy Func\n",
    "    # delta 무한대, 마이너스 무한대 방지\n",
    "    return -np.sum( t*np.log( y + delta ) + (1-t)*np.log((1-y) + delta) )"
   ]
  },
  {
   "cell_type": "code",
   "execution_count": 8,
   "metadata": {},
   "outputs": [],
   "source": [
    "learning_rate = 1e-2\n",
    "f = lambda x : loss_func(x_data, t_data)"
   ]
  },
  {
   "cell_type": "code",
   "execution_count": 9,
   "metadata": {},
   "outputs": [],
   "source": [
    "def derivative(f, var):\n",
    "    delta = 1e-5\n",
    "    grad = np.zeros_like(var)\n",
    "    it = np.nditer(var, flags=[\"multi_index\"], op_flags=[\"readwrite\"])\n",
    "    # print(x)\n",
    "    # print(var)\n",
    "    while not it.finished:\n",
    "        idx = it.multi_index\n",
    "        tmp_val = var[idx]\n",
    "        var[idx] = float(tmp_val) + delta\n",
    "        fx1 = f(var[idx])\n",
    "        var[idx] = float(tmp_val) - delta\n",
    "        fx2 = f(var[idx])\n",
    "        grad = ((fx1 - fx2) / (2*delta))\n",
    "        var[idx] = tmp_val\n",
    "        it.iternext()\n",
    "    return grad"
   ]
  },
  {
   "cell_type": "code",
   "execution_count": 10,
   "metadata": {},
   "outputs": [
    {
     "name": "stdout",
     "output_type": "stream",
     "text": [
      "step : 0, loss_value : 11.879681501633687\n"
     ]
    },
    {
     "name": "stdout",
     "output_type": "stream",
     "text": [
      "step : 5000, loss_value : 0.845286561116133\n",
      "step : 10000, loss_value : 0.6210111480014967\n",
      "step : 15000, loss_value : 0.5095086117684672\n",
      "step : 20000, loss_value : 0.43779437704404583\n",
      "step : 25000, loss_value : 0.3861582188225886\n",
      "step : 30000, loss_value : 0.3465348874184678\n",
      "step : 35000, loss_value : 0.31485792206496555\n",
      "step : 40000, loss_value : 0.28879648097881727\n",
      "step : 45000, loss_value : 0.26689307463348827\n",
      "step : 50000, loss_value : 0.24817722318656057\n",
      "step : 55000, loss_value : 0.231971367261949\n",
      "step : 60000, loss_value : 0.2177846539334924\n",
      "step : 65000, loss_value : 0.20525081649345878\n",
      "step : 70000, loss_value : 0.19408986008714155\n",
      "step : 75000, loss_value : 0.18408338196668592\n",
      "step : 80000, loss_value : 0.17505809032698172\n",
      "step : 85000, loss_value : 0.1668744581698237\n",
      "step : 90000, loss_value : 0.15941870672205138\n",
      "step : 95000, loss_value : 0.15259701293057729\n",
      "step : 100000, loss_value : 0.1463312414244847\n"
     ]
    }
   ],
   "source": [
    "for step in range(100001):\n",
    "    W -= learning_rate * derivative(f, W)\n",
    "    b -= learning_rate * derivative(f, b)\n",
    "    if ( step % 5000  == 0 ):\n",
    "        print(f\"step : {step}, loss_value : {loss_func(x_data, t_data)}\")"
   ]
  },
  {
   "cell_type": "code",
   "execution_count": 12,
   "metadata": {},
   "outputs": [
    {
     "name": "stdout",
     "output_type": "stream",
     "text": [
      "[[2.58754428]] [-33.55471428]\n"
     ]
    }
   ],
   "source": [
    "print(W, b)"
   ]
  },
  {
   "cell_type": "code",
   "execution_count": 13,
   "metadata": {},
   "outputs": [],
   "source": [
    "def predict(test_data):\n",
    "    z = np.dot(test_data, W) + b\n",
    "    y = sigmoid(z)\n",
    "    result = 0\n",
    "    if y >= 0.5:\n",
    "        result = 1 # Pass\n",
    "    else:\n",
    "        retule = 0 # Fail\n",
    "    return y, result"
   ]
  },
  {
   "cell_type": "code",
   "execution_count": 34,
   "metadata": {},
   "outputs": [
    {
     "name": "stdout",
     "output_type": "stream",
     "text": [
      "[0.50014] 1\n"
     ]
    }
   ],
   "source": [
    "y, result = predict(np.array([12.968]))\n",
    "print(y, result)"
   ]
  }
 ],
 "metadata": {
  "kernelspec": {
   "display_name": "base",
   "language": "python",
   "name": "python3"
  },
  "language_info": {
   "codemirror_mode": {
    "name": "ipython",
    "version": 3
   },
   "file_extension": ".py",
   "mimetype": "text/x-python",
   "name": "python",
   "nbconvert_exporter": "python",
   "pygments_lexer": "ipython3",
   "version": "3.10.9"
  },
  "orig_nbformat": 4
 },
 "nbformat": 4,
 "nbformat_minor": 2
}
